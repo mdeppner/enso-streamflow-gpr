{
 "cells": [
  {
   "cell_type": "markdown",
   "metadata": {},
   "source": [
    "# ENSO impact on river discharge using GP Regression"
   ]
  },
  {
   "cell_type": "markdown",
   "metadata": {},
   "source": [
    "This jupyter notebook was made in the course of a Bachelor's thesis in the degree of mediainformatics at the University of Tuebingen. \n",
    "This project evolved under the supervision of Bedartha Goswami and his research group \"Machine Learning in Climate Science\" at the Cluster Of Excellence \"Machine Learning\".\n",
    "\n",
    "The scope of this project is to investigate ENSO impact on river discharge in South America using a data-driven approach. \n",
    "The data used for this project is provided by Do et. al via the 2018 released \"Global Streamflow and Metadata and Indices Archive\" (GSIM). \n",
    "\n",
    "With the GSIM dataset and Gaussian Process Regression we inferred missing values for stations to extend the temporal and spatial coverage of our analysis"
   ]
  },
  {
   "cell_type": "markdown",
   "metadata": {},
   "source": [
    "## Import of the GSIM dataset"
   ]
  },
  {
   "cell_type": "code",
   "execution_count": 1,
   "metadata": {},
   "outputs": [],
   "source": [
    "import math\n",
    "import pandas as pd\n",
    "import numpy as np\n",
    "import matplotlib.pyplot as plt\n",
    "import itertools\n",
    "import GPy\n",
    "import csv\n",
    "import pickle\n",
    "\n",
    "from datetime import datetime\n",
    "from sklearn.preprocessing import normalize\n",
    "from sklearn.metrics import mean_squared_error\n",
    "from scipy import stats\n",
    "from scipy.stats import norm, percentileofscore\n",
    "from statistics import mean "
   ]
  },
  {
   "cell_type": "code",
   "execution_count": 2,
   "metadata": {},
   "outputs": [],
   "source": [
    "'''\n",
    "Loads the meta, monhtly, yearly and seasonal data from the GSIM dataset for a given gsim number\n",
    "To each dataframe the gsim number is added for further identification.\n",
    "Colum names are cleaned and a list of all dataframes is finally returned\n",
    "'''\n",
    "def loadTimeseries (gsimNo): \n",
    "    meta = gsim_metadata.loc[gsim_metadata['gsim.no'] == gsimNo]\n",
    "    monthly = pd.read_csv(\"data/GSIM_indices/TIMESERIES/monthly/\"+gsimNo+\".mon\", sep=',' '\\\\t', skiprows=lambda x : x < 21, engine='python',)\n",
    "    yearly = pd.read_csv(\"data/GSIM_indices/TIMESERIES/yearly/\"+gsimNo+\".year\", sep=',' '\\\\t', skiprows=lambda x : x < 21, engine='python',)\n",
    "    seasonal = pd.read_csv(\"data/GSIM_indices/TIMESERIES/seasonal/\"+gsimNo+\".seas\", sep=',' '\\\\t', skiprows=lambda x : x < 21, engine='python',)\n",
    "    monthly['gsim.no'] = gsimNo\n",
    "    yearly['gsim.no'] = gsimNo\n",
    "    seasonal['gsim.no'] = gsimNo\n",
    "    monthly.columns, yearly.columns, seasonal.columns = monthly.columns.str.replace('\"', ''), yearly.columns.str.replace('\"', ''), seasonal.columns.str.replace('\"', '')\n",
    "    return [meta, monthly, yearly, seasonal]"
   ]
  },
  {
   "cell_type": "code",
   "execution_count": 3,
   "metadata": {},
   "outputs": [],
   "source": [
    "'''\n",
    "Transforms the last date of measurment for a season priveded in the gsim dataset as the feature date\n",
    "As the seasonal gsim dataset stores the last date of measurement the last day of measurement of season DJF is in February, MAM in May and so on \n",
    "'''\n",
    "def determimeSeason(date):\n",
    "    endMonth = pd.to_datetime(date).month\n",
    "    switcher = {\n",
    "        2: \"DJF\",\n",
    "        5: \"MAM\",\n",
    "        8: \"JJA\",\n",
    "        11: \"SON\"\n",
    "    }\n",
    "    return switcher.get(endMonth, \"undefined\")"
   ]
  },
  {
   "cell_type": "code",
   "execution_count": 4,
   "metadata": {},
   "outputs": [],
   "source": [
    "# Loading the GSIM_metadata_Archive\n",
    "gsim_metadata = pd.read_csv(\"data/GSIM_metadata/GSIM_catalog/GSIM_metadata.csv\", sep=\",\")\n",
    "\n",
    "\n",
    "# Selecting all the dataframes for South America by 2 Letter Country Code\n",
    "southAmerica2LetterCC = ['AR', 'BO', 'BR', 'CL', 'CO', 'EC', 'FK', 'GF', 'GY', 'PY', 'PE', 'SR', 'UY', 'VE']\n",
    "\n",
    "stations_of_interest = pd.Series()\n",
    "for country in southAmerica2LetterCC: \n",
    "    stations_of_interest = stations_of_interest.append(gsim_metadata.loc[gsim_metadata['country'] == country]['gsim.no'], ignore_index=True)\n",
    "        \n",
    "    \n",
    "# Initialisation of the empty lists where we store the dataframes: datatype: list of dataframes\n",
    "df_yearly = []\n",
    "df_monthly = []\n",
    "df_seasonal = []\n",
    "df_meta = []\n",
    "\n",
    "# For each station in South America we load the meta, yearly, seasonal and monthly dataset\n",
    "for station in stations_of_interest:\n",
    "    \n",
    "    series = loadTimeseries(station)\n",
    "    df_meta.append(series[0])\n",
    "    df_monthly.append(series[1])\n",
    "    df_yearly.append(series[2])\n",
    "    df_seasonal.append(series[3])\n",
    "\n",
    "    \n",
    "        \n",
    "# For each dataframe in our monthly dataset we add a column that stores each the year and the month for a given measurement\n",
    "for df in df_monthly: \n",
    "    df['month'] = pd.to_datetime(df['date']).dt.month\n",
    "    df['year'] = pd.to_datetime(df['date']).dt.year\n",
    "    df['date'] = pd.to_datetime(df['date']).dt.date\n",
    "\n",
    "    \n",
    "# For each dataframe in our yearly dataset we add a column that stores the year for a given measurement\n",
    "for df in df_yearly: \n",
    "    df['year'] = pd.to_datetime(df['date']).dt.year\n",
    "    df['date'] = pd.to_datetime(df['date']).dt.date\n",
    "\n",
    "\n",
    "# For each dataframe in our seasonal dataset we add a column that stores the year and the season of the measurment. \n",
    "# Note that for the season DJF, the year is year of the months January and February is stored. \n",
    "for df in df_seasonal: \n",
    "    df['date'] = pd.to_datetime(df['date']).dt.date\n",
    "    df['year'] = pd.to_datetime(df['date']).dt.year\n",
    "    df['month'] = pd.to_datetime(df['date']).dt.month\n",
    "    df['season'] = [determimeSeason(date) for date in df['date']]\n",
    "    \n",
    "    \n",
    "# Merge the list of metadataframes into one single dataframe, as for each station only one row of metadat exists we can merge them into one single dataframe\n",
    "for index,meta in enumerate(df_meta):\n",
    "    if index == 0:\n",
    "        ds_meta = meta\n",
    "    else: \n",
    "        ds_meta = ds_meta.append(meta, ignore_index = True)"
   ]
  },
  {
   "cell_type": "markdown",
   "metadata": {},
   "source": [
    "## Initialisation of functions and variables"
   ]
  },
  {
   "cell_type": "code",
   "execution_count": 5,
   "metadata": {},
   "outputs": [],
   "source": [
    "# Initialisation of variables\n",
    "\n",
    "START = datetime.strptime('1960-01-01', \"%Y-%m-%d\").date()\n",
    "END =  datetime.strptime('2016-05-31', \"%Y-%m-%d\").date()\n",
    "NUMBER_OF_DIMENSIONS = 10\n",
    "TRAIN_TEST_THRESHOLD = 0.70\n",
    "SAMPLESIZE = 1000\n",
    "MIN_MONTHS_OF_OVERLAP = 60\n",
    "MIN_YEARS_OF_OVERLAP = 5"
   ]
  },
  {
   "cell_type": "code",
   "execution_count": 6,
   "metadata": {},
   "outputs": [],
   "source": [
    "''' \n",
    "Build the basis for the prediciton. \n",
    "Filters all the timeseries that initially cover the timespan defined between start and end.\n",
    "The prediction_base is a list that contains all the timeseries that cover the timespan fully and will therefore be used for the correlation analysis with the timeseries we want to infer data for\n",
    "@param list of dataframes\n",
    "@returns a filtered list of dataframes that initially cover the whole timespan\n",
    "'''\n",
    "\n",
    "def buildPredictionBase (dataset):\n",
    "    prediction_base = []\n",
    "    for df in dataset:\n",
    "        df_start = df['date'].iloc[0]\n",
    "        df_end = df['date'].iloc[-1]\n",
    "        if ((df_start <= START) and (df_end >= END)):                                                     # check if the first entry of this df is before or equal to the start and the end is after or equal to our end of our timeperiode \n",
    "            df_filtered = df.loc[(df['date'] >= START) & (df['date'] <= END)].reset_index(drop=True)      # Then select the timespan we defined above and store this df in our list \n",
    "            prediction_base.append(df_filtered)\n",
    "        else:\n",
    "            continue\n",
    " \n",
    "    return prediction_base"
   ]
  },
  {
   "cell_type": "code",
   "execution_count": 7,
   "metadata": {},
   "outputs": [],
   "source": [
    "'''\n",
    "Check if a dataframe shows at least the minimum amount of months with available data during our timespan of interest\n",
    "@param dataframe\n",
    "@returns boolean\n",
    "'''\n",
    "def checkForMinimumTemporalOverlap (df):\n",
    "    filterDf =  df.loc[(df['date'] >= START) & (df['date'] <= END)].reset_index(drop=True)\n",
    "    arr = filterDf['MEAN'].to_numpy()\n",
    "    arrNoNans = arr.copy()[~np.isnan(arr)]\n",
    "    return arrNoNans.size >= MIN_MONTHS_OF_OVERLAP"
   ]
  },
  {
   "cell_type": "code",
   "execution_count": 8,
   "metadata": {},
   "outputs": [],
   "source": [
    "'''\n",
    "Gets all the timeseries that have at least fife years if temporal overlap with our previously defined timespan, but do not cover the full timespan. \n",
    "These are the timeseries we want to interpolate missing values for. \n",
    "'''\n",
    "def getPredictableTimeseries (dataset, gsimNumbersPredictionBase):\n",
    "    to_process = []\n",
    "    for df in dataset:\n",
    "        df_start = df['date'].iloc[0]\n",
    "        df_end = df['date'].iloc[-1]\n",
    "        df_gsimno = df['gsim.no'].values.any()\n",
    "        \n",
    "        if checkForMinimumTemporalOverlap(df):\n",
    "            if (df_gsimno not in gsimNumbersPredictionBase):         # don't include the Timeseries that are already in our base\n",
    "                df_filtered = df.loc[(df['date'] >= START) & (df['date'] <= END)]\n",
    "                firstValidIndex = df_filtered['MEAN'].first_valid_index()\n",
    "                lastValidIndex  = df_filtered['MEAN'].last_valid_index()\n",
    "                df_cleaned = df_filtered.loc[firstValidIndex:lastValidIndex].reset_index(drop=True)\n",
    "                to_process.append(df_cleaned)\n",
    "            else: \n",
    "                continue\n",
    "      \n",
    "    return to_process"
   ]
  },
  {
   "cell_type": "code",
   "execution_count": 9,
   "metadata": {},
   "outputs": [],
   "source": [
    "\"\"\"\n",
    "Normalizes the data to a Gaussian distribution using quantiles. (function provided by Bedartha Goswami)\n",
    "\"\"\"\n",
    "def normalizeToGaussian(arr, mode=\"mean\"):\n",
    "    n = len(arr)\n",
    "    perc = percentileofscore\n",
    "    arr_ = arr.copy()[~np.isnan(arr)]\n",
    "    out = np.zeros(n)\n",
    "    for i in range(n):\n",
    "        if not np.isnan(arr[i]):\n",
    "            out[i] = norm.ppf(perc(arr_, arr[i], mode) / 100.)\n",
    "        else:\n",
    "            out[i] = np.nan\n",
    "    return out\n"
   ]
  },
  {
   "cell_type": "code",
   "execution_count": 10,
   "metadata": {},
   "outputs": [],
   "source": [
    "'''\n",
    "In order to perform a spearmans correlation we need to truncate our prediction_base to the same timespan of our dataframe we want to process. \n",
    "This truncation happens here.\n",
    "'''\n",
    "def truncateBase (dataframe, base):\n",
    "    start = dataframe['date'].iloc[0]\n",
    "    end   = dataframe['date'].iloc[-1]\n",
    "    filtered_base = [df.loc[(df['date'] >= start) & (df['date'] <= end)]  for df in base]\n",
    "    \n",
    "    return filtered_base"
   ]
  },
  {
   "cell_type": "code",
   "execution_count": 11,
   "metadata": {},
   "outputs": [],
   "source": [
    "'''\n",
    "Replaces missing values in the dataframe with the mean of the month for all years from which we have data\n",
    "@param dataframe\n",
    "@returns numpy array\n",
    "'''\n",
    "def averageNaNs (df):\n",
    "    mean_df = df.groupby(['month']).mean()\n",
    "    averaged_mean = df['MEAN'].copy().fillna(df['month'].map({1: mean_df['MEAN'][1] , 2: mean_df['MEAN'][2], 3:mean_df['MEAN'][3],\n",
    "                                                    4: mean_df['MEAN'][4] , 5: mean_df['MEAN'][5], 6:mean_df['MEAN'][6], \n",
    "                                                    7: mean_df['MEAN'][7] , 8: mean_df['MEAN'][8], 9:mean_df['MEAN'][9],\n",
    "                                                    10: mean_df['MEAN'][10] , 11: mean_df['MEAN'][11], 12:mean_df['MEAN'][12]}))\n",
    "    \n",
    "    averaged_numpy = averaged_mean.to_numpy()\n",
    "    return averaged_numpy"
   ]
  },
  {
   "cell_type": "code",
   "execution_count": 12,
   "metadata": {},
   "outputs": [],
   "source": [
    "'''\n",
    "Computation of Spearmas Rank Correlation\n",
    "@param  target_df: a pandas.dataframe (target) for wich we want to calculate the correlation matrix \n",
    "        dataset: a list of pandas dataframes that build our base, as we check for the correlation between dataframe and each df in the truncated dataset\n",
    "@returns spearmans_matrix: a numpy.ndarray that contains the correlation value as first entry in each row and the corresponding p-value as a second element in each row. \n",
    "                            the order of stations in the matrix is consistent to the order in the dataset:\n",
    "'''\n",
    "def spearmansCorrelation (target_df, truncated_dataset): \n",
    "    spearmans_matrix = np.zeros((len(truncated_dataset), 2))\n",
    "    for index, df in enumerate(truncated_dataset): \n",
    "        if (target_df.shape[0]!= df.shape[0]) or (df['MEAN'].isnull().all()):\n",
    "            spearmans_matrix[index] = 0,100 \n",
    "            continue\n",
    "        else: \n",
    "            correlation, pval = stats.spearmanr(target_df['MEAN'], df['MEAN'], nan_policy='omit')\n",
    "            spearmans_matrix[index] = correlation,pval    \n",
    "            \n",
    "    return spearmans_matrix"
   ]
  },
  {
   "cell_type": "code",
   "execution_count": 13,
   "metadata": {},
   "outputs": [],
   "source": [
    "'''\n",
    "Helper function to obtain the indices that show highest correlation \n",
    "@param ndarray\n",
    "@returns numpy array with lenght NUMBER_OF_DIMENSIONS, containing the indices of the most correlated stations\n",
    "'''\n",
    "def getIndices (spearmans_matrix): \n",
    "    corr = spearmans_matrix[:,0].copy()\n",
    "    indices = corr.argsort()[-NUMBER_OF_DIMENSIONS:][::-1]\n",
    "    if indices.size < NUMBER_OF_DIMENSIONS:\n",
    "        print(\"Less than {} timeseries while trying to get the indices\".format(NUMBER_OF_DIMENSIONS))\n",
    "    \n",
    "    return indices"
   ]
  },
  {
   "cell_type": "code",
   "execution_count": 14,
   "metadata": {},
   "outputs": [],
   "source": [
    "'''\n",
    "Based on a dataframe for which we want to fill missing values we select the most correlated timeseries of our prediction base\n",
    "Then we transform and truncate the time series so that we get input output mappings for training, and sets of input timeseries\n",
    "for the time before and after the active timespan of our dataframe for which we want to infer missing data.\n",
    "@param pandas.dataframe (target timeseries), list of pandas.dataframes (predictionBase), numpy.array (indices)\n",
    "@returns multiple numpy arrays with training and test data, and the dates for the timesegments for training and prediction\n",
    "'''\n",
    "def getDataForTrainingAndPredicting (dataframe, prediction_base, indices): \n",
    "    \n",
    "    X_train  = []\n",
    "    X_test   = []\n",
    "    X_before = []\n",
    "    X_after  = []\n",
    "    \n",
    "    dim = indices.size\n",
    "    start = dataframe['date'].iloc[0]\n",
    "    end = dataframe['date'].iloc[-1]\n",
    "    \n",
    "    mostCorrelatedTimeseries = [prediction_base[index] for index in indices]\n",
    "    \n",
    "    splitind_df = int(dataframe.shape[0] * TRAIN_TEST_THRESHOLD)\n",
    "   \n",
    "    startind = max(0, mostCorrelatedTimeseries[0].loc[mostCorrelatedTimeseries[0]['date'] == start].index.values[0])\n",
    "    splitind = startind + splitind_df \n",
    "    endind = min(mostCorrelatedTimeseries[0].shape[0] -1, mostCorrelatedTimeseries[0].loc[mostCorrelatedTimeseries[0]['date'] == end].index.values[0])\n",
    "    \n",
    "    \n",
    "    datesBefore = mostCorrelatedTimeseries[0]['date'][:startind]\n",
    "    datesTrain = mostCorrelatedTimeseries[0]['date'][startind :splitind]\n",
    "    datesTest = mostCorrelatedTimeseries[0]['date'][splitind : endind]\n",
    "    datesAfter = mostCorrelatedTimeseries[0]['date'][endind :]\n",
    "\n",
    "    for ts in mostCorrelatedTimeseries: \n",
    "        tsNormalized = normalizeToGaussian(ts['MEAN'].copy().to_numpy())\n",
    "        x_train = tsNormalized[startind: splitind].copy()\n",
    "        \n",
    "        x = normalizeToGaussian(averageNaNs(ts)).reshape(-1,1)\n",
    "        x_before = x[:startind].copy()\n",
    "        x_after = x[endind:].copy()\n",
    "        x_test = x[splitind: endind].copy()\n",
    "        \n",
    "        X_train.append(x_train)\n",
    "        X_test.append(x_test)\n",
    "        X_before.append(x_before)\n",
    "        X_after.append(x_after)\n",
    "\n",
    "    X_test = np.column_stack((X_test))\n",
    "    X_train = np.column_stack((X_train))\n",
    "    X_before = np.column_stack((X_before))\n",
    "    X_after = np.column_stack((X_after))\n",
    "    \n",
    "    Y_test = normalizeToGaussian(averageNaNs(dataframe))[splitind_df:].copy().reshape(-1,1)    \n",
    "    Y_train  = normalizeToGaussian(dataframe['MEAN'].copy().to_numpy())[:splitind_df].reshape(-1,1) \n",
    "\n",
    "    train = np.concatenate((X_train,Y_train), axis=1)\n",
    "    train_clean = train.copy()[~np.isnan(train).any(axis=1)]\n",
    "    Y_train = train_clean[:,-1].reshape(-1,1)\n",
    "    X_train = train_clean[:,:dim]\n",
    "\n",
    "    return  X_before, X_after, X_train, X_test, Y_train, Y_test, datesBefore, datesTrain, datesTest, datesAfter"
   ]
  },
  {
   "cell_type": "code",
   "execution_count": 15,
   "metadata": {},
   "outputs": [],
   "source": [
    "'''\n",
    "Train a Gaussian Process model based on the training data\n",
    "@param two numpy arrays of same dimensionality\n",
    "@returns numpy array with lenght NUMBER_OF_DIMENSIONS, containing the indices of the most correlated stations\n",
    "'''\n",
    "def trainGP (X_train, Y_train):\n",
    "    assert X_train.shape[0] == Y_train.shape[0], \"Shape of training data is inconsistent\"\n",
    "    \n",
    "    kernel = GPy.kern.Matern32(input_dim = NUMBER_OF_DIMENSIONS )\n",
    "    model = GPy.models.GPRegression(X_train, Y_train, kernel)\n",
    "    model.optimize(messages=True)\n",
    "    model.optimize_restarts(num_restarts=10)\n",
    "    \n",
    "    return model"
   ]
  },
  {
   "cell_type": "markdown",
   "metadata": {},
   "source": [
    "## Training GPs and inferring data"
   ]
  },
  {
   "cell_type": "code",
   "execution_count": 16,
   "metadata": {},
   "outputs": [],
   "source": [
    "# Compute the basis for predicting or inferring data and its corresponding gsimNumbers\n",
    "# Also those stations and timeseries that show missing values are filtered and saved in predictableTimeseries\n",
    "# All of them are pickeld and saved on the hard drive such that we can use the same data in other notebooks \n",
    "\n",
    "predictionBase = buildPredictionBase(df_monthly)\n",
    "gsimNumbersPredictionBase = [df['gsim.no'].values.any() for df in predictionBase]\n",
    "predictableTimeseries = getPredictableTimeseries(df_monthly, gsimNumbersPredictionBase)\n",
    "\n",
    "\n",
    "with open ('data/predictionBase.pkl', 'wb') as outp:\n",
    "    pickle.dump(predictionBase, outp, pickle.HIGHEST_PROTOCOL )\n",
    "    \n",
    "with open ('data/predictableTimeseries.pkl', 'wb') as outp:\n",
    "    pickle.dump(predictableTimeseries, outp, pickle.HIGHEST_PROTOCOL )\n",
    "    \n",
    "with open ('data/gsimNumbersPredictionBase.pkl', 'wb') as outp:\n",
    "    pickle.dump(gsimNumbersPredictionBase, outp, pickle.HIGHEST_PROTOCOL )\n",
    "    \n",
    "   "
   ]
  },
  {
   "cell_type": "code",
   "execution_count": null,
   "metadata": {
    "scrolled": true
   },
   "outputs": [
    {
     "name": "stdout",
     "output_type": "stream",
     "text": [
      "We are at frame: 0\n"
     ]
    },
    {
     "data": {
      "application/vnd.jupyter.widget-view+json": {
       "model_id": "d4636d4729624be38379c1c3dbece2bf",
       "version_major": 2,
       "version_minor": 0
      },
      "text/plain": [
       "HBox(children=(VBox(children=(IntProgress(value=0, max=1000), HTML(value=''))), Box(children=(HTML(value=''),)…"
      ]
     },
     "metadata": {},
     "output_type": "display_data"
    },
    {
     "name": "stdout",
     "output_type": "stream",
     "text": [
      "Optimization restart 1/10, f = 28.639935026458986\n",
      "Optimization restart 2/10, f = 28.639935026459128\n",
      "Optimization restart 3/10, f = 28.639935026427707\n",
      "Optimization restart 4/10, f = 28.639935026700357\n",
      "Optimization restart 5/10, f = 28.639935026435225\n",
      "Optimization restart 6/10, f = 28.63993503760122\n",
      "Optimization restart 7/10, f = 28.63993502655177\n",
      "Optimization restart 8/10, f = 28.639935026489738\n",
      "Optimization restart 9/10, f = 28.63993502643973\n",
      "Optimization restart 10/10, f = 28.639935026434642\n",
      "We are at frame: 1\n",
      "Size of X_train at df AR_0000002 is (0, 10) - to many missing values\n",
      "We are at frame: 2\n"
     ]
    },
    {
     "data": {
      "application/vnd.jupyter.widget-view+json": {
       "model_id": "4be39f764cc0415cad2ec83eb44dfaae",
       "version_major": 2,
       "version_minor": 0
      },
      "text/plain": [
       "HBox(children=(VBox(children=(IntProgress(value=0, max=1000), HTML(value=''))), Box(children=(HTML(value=''),)…"
      ]
     },
     "metadata": {},
     "output_type": "display_data"
    },
    {
     "name": "stdout",
     "output_type": "stream",
     "text": [
      "Optimization restart 1/10, f = 3.6159741905198577\n",
      "Optimization restart 2/10, f = 3.6159741905207525\n",
      "Optimization restart 3/10, f = 3.6159741907265857\n",
      "Optimization restart 4/10, f = 3.615974190662483\n",
      "Optimization restart 5/10, f = 3.615974190522717\n",
      "Optimization restart 6/10, f = 3.6159741906947303\n",
      "Optimization restart 7/10, f = 3.6159741905205527\n",
      "Optimization restart 8/10, f = 3.6159741905223695\n",
      "Optimization restart 9/10, f = 3.615974190730177\n",
      "Optimization restart 10/10, f = 3.615974190520821\n",
      "We are at frame: 3\n",
      "Size of X_train at df AR_0000004 is (0, 10) - to many missing values\n",
      "We are at frame: 4\n"
     ]
    },
    {
     "data": {
      "application/vnd.jupyter.widget-view+json": {
       "model_id": "81d5854b7475477985403e8df1d10f37",
       "version_major": 2,
       "version_minor": 0
      },
      "text/plain": [
       "HBox(children=(VBox(children=(IntProgress(value=0, max=1000), HTML(value=''))), Box(children=(HTML(value=''),)…"
      ]
     },
     "metadata": {},
     "output_type": "display_data"
    },
    {
     "name": "stdout",
     "output_type": "stream",
     "text": [
      "Optimization restart 1/10, f = -173.933336574786\n",
      "Optimization restart 2/10, f = -173.93333657809595\n",
      "Optimization restart 3/10, f = -173.93333657509558\n",
      "Optimization restart 4/10, f = -188.06100560125887\n",
      "Optimization restart 5/10, f = -188.0610056100172\n",
      "Optimization restart 6/10, f = -188.06100564605504\n",
      "Optimization restart 7/10, f = -173.93333656764057\n",
      "Optimization restart 8/10, f = -188.06100527378683\n",
      "Optimization restart 9/10, f = -173.93333656311472\n",
      "Optimization restart 10/10, f = -173.93333656605256\n",
      "We are at frame: 5\n"
     ]
    },
    {
     "data": {
      "application/vnd.jupyter.widget-view+json": {
       "model_id": "1ffd1bf2ee644c48ac047fd068af55db",
       "version_major": 2,
       "version_minor": 0
      },
      "text/plain": [
       "HBox(children=(VBox(children=(IntProgress(value=0, max=1000), HTML(value=''))), Box(children=(HTML(value=''),)…"
      ]
     },
     "metadata": {},
     "output_type": "display_data"
    },
    {
     "name": "stdout",
     "output_type": "stream",
     "text": [
      "Optimization restart 1/10, f = 69.54250327923658\n",
      "Optimization restart 2/10, f = 69.54250327854415\n",
      "Optimization restart 3/10, f = 69.54250327854385\n",
      "Optimization restart 4/10, f = 69.5425032785968\n",
      "Optimization restart 5/10, f = 69.54250327864376\n",
      "Optimization restart 6/10, f = 69.54250327854398\n",
      "Optimization restart 7/10, f = 69.54250327918649\n",
      "Optimization restart 8/10, f = 69.54250328610019\n",
      "Optimization restart 9/10, f = 69.54250327870345\n",
      "Optimization restart 10/10, f = 69.54250327950962\n",
      "We are at frame: 6\n"
     ]
    },
    {
     "data": {
      "application/vnd.jupyter.widget-view+json": {
       "model_id": "6691bfe5e7c147788d2e034ce5eff22d",
       "version_major": 2,
       "version_minor": 0
      },
      "text/plain": [
       "HBox(children=(VBox(children=(IntProgress(value=0, max=1000), HTML(value=''))), Box(children=(HTML(value=''),)…"
      ]
     },
     "metadata": {},
     "output_type": "display_data"
    },
    {
     "name": "stdout",
     "output_type": "stream",
     "text": [
      "Optimization restart 1/10, f = 264.0961697290017\n",
      "Optimization restart 2/10, f = 264.0961697289902\n",
      "Optimization restart 3/10, f = 264.0961697291175\n",
      "Optimization restart 4/10, f = 264.0961697292779\n",
      "Optimization restart 5/10, f = 264.09616972924925\n",
      "Optimization restart 6/10, f = 264.09617341003934\n",
      "Optimization restart 7/10, f = 264.09616972898436\n",
      "Optimization restart 8/10, f = 264.096169729911\n",
      "Optimization restart 9/10, f = 264.09616972896566\n",
      "Optimization restart 10/10, f = 264.09616986998213\n",
      "We are at frame: 7\n"
     ]
    },
    {
     "data": {
      "application/vnd.jupyter.widget-view+json": {
       "model_id": "bec28b6c3d10447bbfec905bcc204a6b",
       "version_major": 2,
       "version_minor": 0
      },
      "text/plain": [
       "HBox(children=(VBox(children=(IntProgress(value=0, max=1000), HTML(value=''))), Box(children=(HTML(value=''),)…"
      ]
     },
     "metadata": {},
     "output_type": "display_data"
    },
    {
     "name": "stdout",
     "output_type": "stream",
     "text": [
      "Optimization restart 1/10, f = 238.1494715718897\n",
      "Optimization restart 2/10, f = 238.14947157949658\n",
      "Optimization restart 3/10, f = 238.14947157026623\n",
      "Optimization restart 4/10, f = 238.1494719247992\n",
      "Optimization restart 5/10, f = 238.14947178666208\n",
      "Optimization restart 6/10, f = 238.14947157022564\n",
      "Optimization restart 7/10, f = 238.1494715705722\n",
      "Optimization restart 8/10, f = 238.14947157021368\n",
      "Optimization restart 9/10, f = 238.14947157033367\n",
      "Optimization restart 10/10, f = 238.14947162901305\n",
      "We are at frame: 8\n"
     ]
    },
    {
     "data": {
      "application/vnd.jupyter.widget-view+json": {
       "model_id": "c1e0e70d7c9349a589be68465a692e3e",
       "version_major": 2,
       "version_minor": 0
      },
      "text/plain": [
       "HBox(children=(VBox(children=(IntProgress(value=0, max=1000), HTML(value=''))), Box(children=(HTML(value=''),)…"
      ]
     },
     "metadata": {},
     "output_type": "display_data"
    },
    {
     "name": "stdout",
     "output_type": "stream",
     "text": [
      "Optimization restart 1/10, f = 214.1188125848007\n",
      "Optimization restart 2/10, f = 214.11881259137948\n",
      "Optimization restart 3/10, f = 214.1188125843557\n",
      "Optimization restart 4/10, f = 214.11881260404726\n",
      "Optimization restart 5/10, f = 214.11881258371062\n",
      "Optimization restart 6/10, f = 214.11881258363977\n",
      "Optimization restart 7/10, f = 214.11881258443054\n",
      "Optimization restart 8/10, f = 214.11881258537915\n",
      "Optimization restart 9/10, f = 214.11881258898728\n",
      "Optimization restart 10/10, f = 214.11881258385753\n",
      "We are at frame: 9\n"
     ]
    },
    {
     "data": {
      "application/vnd.jupyter.widget-view+json": {
       "model_id": "bcbd610fa03d4d26b72cd09e65f043c4",
       "version_major": 2,
       "version_minor": 0
      },
      "text/plain": [
       "HBox(children=(VBox(children=(IntProgress(value=0, max=1000), HTML(value=''))), Box(children=(HTML(value=''),)…"
      ]
     },
     "metadata": {},
     "output_type": "display_data"
    },
    {
     "name": "stdout",
     "output_type": "stream",
     "text": [
      "Optimization restart 1/10, f = 229.33938853172378\n",
      "Optimization restart 2/10, f = 229.3393885317755\n",
      "Optimization restart 3/10, f = 229.33938853162283\n",
      "Optimization restart 4/10, f = 229.33938856293724\n",
      "Optimization restart 5/10, f = 229.33938873274272\n",
      "Optimization restart 6/10, f = 229.339388569969\n",
      "Optimization restart 7/10, f = 229.33938853168158\n",
      "Optimization restart 8/10, f = 229.3393885325373\n",
      "Optimization restart 9/10, f = 229.33938854474445\n",
      "Optimization restart 10/10, f = 229.33938854416624\n",
      "We are at frame: 10\n"
     ]
    },
    {
     "data": {
      "application/vnd.jupyter.widget-view+json": {
       "model_id": "5a1a238892ea401090254a5f8c2abdbc",
       "version_major": 2,
       "version_minor": 0
      },
      "text/plain": [
       "HBox(children=(VBox(children=(IntProgress(value=0, max=1000), HTML(value=''))), Box(children=(HTML(value=''),)…"
      ]
     },
     "metadata": {},
     "output_type": "display_data"
    },
    {
     "name": "stdout",
     "output_type": "stream",
     "text": [
      "Optimization restart 1/10, f = 177.0995693474068\n",
      "Optimization restart 2/10, f = 177.09956949847177\n",
      "Optimization restart 3/10, f = 177.09956934784526\n",
      "Optimization restart 4/10, f = 177.0995693742332\n",
      "Optimization restart 5/10, f = 177.09956935100178\n",
      "Optimization restart 6/10, f = 177.09956934937662\n",
      "Optimization restart 7/10, f = 177.09956934795386\n",
      "Optimization restart 8/10, f = 177.0995693935464\n",
      "Optimization restart 9/10, f = 177.0995693513961\n",
      "Optimization restart 10/10, f = 177.09956934748357\n",
      "We are at frame: 11\n"
     ]
    },
    {
     "data": {
      "application/vnd.jupyter.widget-view+json": {
       "model_id": "29144af3ef834ebcb06cb8911c38368f",
       "version_major": 2,
       "version_minor": 0
      },
      "text/plain": [
       "HBox(children=(VBox(children=(IntProgress(value=0, max=1000), HTML(value=''))), Box(children=(HTML(value=''),)…"
      ]
     },
     "metadata": {},
     "output_type": "display_data"
    },
    {
     "name": "stdout",
     "output_type": "stream",
     "text": [
      "Optimization restart 1/10, f = 334.33227699168793\n",
      "Optimization restart 2/10, f = 334.33227691304734\n",
      "Optimization restart 3/10, f = 334.3322769172379\n",
      "Optimization restart 4/10, f = 334.3322769142338\n",
      "Optimization restart 5/10, f = 334.33227691647915\n",
      "Optimization restart 6/10, f = 334.3322769104843\n",
      "Optimization restart 7/10, f = 334.332276908941\n",
      "Optimization restart 8/10, f = 334.33227691571085\n",
      "Optimization restart 9/10, f = 334.3322769093125\n",
      "Optimization restart 10/10, f = 334.3322769091677\n",
      "We are at frame: 12\n"
     ]
    },
    {
     "data": {
      "application/vnd.jupyter.widget-view+json": {
       "model_id": "10004af7c43c46a2ba50fc6ae06e6e5e",
       "version_major": 2,
       "version_minor": 0
      },
      "text/plain": [
       "HBox(children=(VBox(children=(IntProgress(value=0, max=1000), HTML(value=''))), Box(children=(HTML(value=''),)…"
      ]
     },
     "metadata": {},
     "output_type": "display_data"
    },
    {
     "name": "stdout",
     "output_type": "stream",
     "text": [
      "Optimization restart 1/10, f = 312.88604644539157\n",
      "Optimization restart 2/10, f = 312.88604644423185\n",
      "Optimization restart 3/10, f = 312.8860464446449\n",
      "Optimization restart 4/10, f = 312.8860464944021\n",
      "Optimization restart 5/10, f = 312.8860482628881\n",
      "Optimization restart 6/10, f = 312.88604644457405\n",
      "Optimization restart 7/10, f = 312.8860464445938\n",
      "Optimization restart 8/10, f = 312.88604644415204\n",
      "Optimization restart 9/10, f = 312.8860464442978\n",
      "Optimization restart 10/10, f = 312.8860464452958\n",
      "We are at frame: 13\n"
     ]
    },
    {
     "data": {
      "application/vnd.jupyter.widget-view+json": {
       "model_id": "5bff0d54e08148219729791fb5f89c53",
       "version_major": 2,
       "version_minor": 0
      },
      "text/plain": [
       "HBox(children=(VBox(children=(IntProgress(value=0, max=1000), HTML(value=''))), Box(children=(HTML(value=''),)…"
      ]
     },
     "metadata": {},
     "output_type": "display_data"
    },
    {
     "name": "stdout",
     "output_type": "stream",
     "text": [
      "Optimization restart 1/10, f = 265.61391126730257\n",
      "Optimization restart 2/10, f = 265.61391126126074\n",
      "Optimization restart 3/10, f = 265.61391118473136\n",
      "Optimization restart 4/10, f = 265.61391120492397\n",
      "Optimization restart 5/10, f = 265.6139111848978\n",
      "Optimization restart 6/10, f = 265.61391120200653\n",
      "Optimization restart 7/10, f = 265.61391118499665\n",
      "Optimization restart 8/10, f = 265.6139111997751\n",
      "Optimization restart 9/10, f = 265.61391118548283\n",
      "Optimization restart 10/10, f = 265.61391118662607\n",
      "We are at frame: 14\n",
      "Size of X_train at df AR_0000021 is (0, 10) - to many missing values\n",
      "We are at frame: 15\n"
     ]
    },
    {
     "data": {
      "application/vnd.jupyter.widget-view+json": {
       "model_id": "2f8ba61b879b432489c95d1c42225398",
       "version_major": 2,
       "version_minor": 0
      },
      "text/plain": [
       "HBox(children=(VBox(children=(IntProgress(value=0, max=1000), HTML(value=''))), Box(children=(HTML(value=''),)…"
      ]
     },
     "metadata": {},
     "output_type": "display_data"
    },
    {
     "name": "stdout",
     "output_type": "stream",
     "text": [
      "Optimization restart 1/10, f = 417.18776885986927\n",
      "Optimization restart 2/10, f = 417.1877688635043\n",
      "Optimization restart 3/10, f = 417.18776887401987\n",
      "Optimization restart 4/10, f = 417.1877688599682\n",
      "Optimization restart 5/10, f = 417.1877734247006\n",
      "Optimization restart 6/10, f = 417.1877688598384\n",
      "Optimization restart 7/10, f = 417.18776886067957\n",
      "Optimization restart 8/10, f = 417.18776886149186\n",
      "Optimization restart 9/10, f = 417.18776886738186\n",
      "Optimization restart 10/10, f = 417.1877688677787\n",
      "We are at frame: 16\n"
     ]
    },
    {
     "data": {
      "application/vnd.jupyter.widget-view+json": {
       "model_id": "3394ee2905e84dada04aa558e67fd41d",
       "version_major": 2,
       "version_minor": 0
      },
      "text/plain": [
       "HBox(children=(VBox(children=(IntProgress(value=0, max=1000), HTML(value=''))), Box(children=(HTML(value=''),)…"
      ]
     },
     "metadata": {},
     "output_type": "display_data"
    },
    {
     "name": "stdout",
     "output_type": "stream",
     "text": [
      "Optimization restart 1/10, f = 194.70782520968385\n",
      "Optimization restart 2/10, f = 194.707825208232\n",
      "Optimization restart 3/10, f = 194.70782521387855\n",
      "Optimization restart 4/10, f = 194.70782520820677\n",
      "Optimization restart 5/10, f = 194.7078252093312\n",
      "Optimization restart 6/10, f = 194.70782520819216\n",
      "Optimization restart 7/10, f = 194.7078252104625\n",
      "Optimization restart 8/10, f = 194.7078252085576\n",
      "Optimization restart 9/10, f = 194.70782520825782\n",
      "Optimization restart 10/10, f = 194.7078252087409\n",
      "We are at frame: 17\n"
     ]
    },
    {
     "data": {
      "application/vnd.jupyter.widget-view+json": {
       "model_id": "1b6cdbc2f26645858beedc5551854d30",
       "version_major": 2,
       "version_minor": 0
      },
      "text/plain": [
       "HBox(children=(VBox(children=(IntProgress(value=0, max=1000), HTML(value=''))), Box(children=(HTML(value=''),)…"
      ]
     },
     "metadata": {},
     "output_type": "display_data"
    },
    {
     "name": "stdout",
     "output_type": "stream",
     "text": [
      "Optimization restart 1/10, f = 319.82789841069393\n",
      "Optimization restart 2/10, f = 319.8278984146356\n",
      "Optimization restart 3/10, f = 319.8278984084435\n",
      "Optimization restart 4/10, f = 319.8278985118089\n",
      "Optimization restart 5/10, f = 319.8278984085315\n",
      "Optimization restart 6/10, f = 319.82789842315185\n",
      "Optimization restart 7/10, f = 319.8278984119353\n",
      "Optimization restart 8/10, f = 319.8278984098822\n",
      "Optimization restart 9/10, f = 319.82789840884004\n",
      "Optimization restart 10/10, f = 319.8278984084821\n",
      "We are at frame: 18\n"
     ]
    },
    {
     "data": {
      "application/vnd.jupyter.widget-view+json": {
       "model_id": "594d886e9fe0415d92ebbbb1e679d4ba",
       "version_major": 2,
       "version_minor": 0
      },
      "text/plain": [
       "HBox(children=(VBox(children=(IntProgress(value=0, max=1000), HTML(value=''))), Box(children=(HTML(value=''),)…"
      ]
     },
     "metadata": {},
     "output_type": "display_data"
    },
    {
     "name": "stdout",
     "output_type": "stream",
     "text": [
      "Optimization restart 1/10, f = 344.6879047088902\n",
      "Optimization restart 2/10, f = 344.68790470721603\n",
      "Optimization restart 3/10, f = 344.68790470983936\n",
      "Optimization restart 4/10, f = 344.68790470623935\n",
      "Optimization restart 5/10, f = 344.6879047063351\n",
      "Optimization restart 6/10, f = 344.687904706185\n",
      "Optimization restart 7/10, f = 344.68790471080035\n",
      "Optimization restart 8/10, f = 344.6879047061699\n",
      "Optimization restart 9/10, f = 344.68790472218217\n",
      "Optimization restart 10/10, f = 344.6879047062255\n",
      "We are at frame: 19\n"
     ]
    },
    {
     "data": {
      "application/vnd.jupyter.widget-view+json": {
       "model_id": "99299cbc821c4acbbecc8fcffe5a10f9",
       "version_major": 2,
       "version_minor": 0
      },
      "text/plain": [
       "HBox(children=(VBox(children=(IntProgress(value=0, max=1000), HTML(value=''))), Box(children=(HTML(value=''),)…"
      ]
     },
     "metadata": {},
     "output_type": "display_data"
    },
    {
     "name": "stdout",
     "output_type": "stream",
     "text": [
      "Optimization restart 1/10, f = 253.27917307820138\n",
      "Optimization restart 2/10, f = 253.27917316717702\n",
      "Optimization restart 3/10, f = 253.27917343395123\n",
      "Optimization restart 4/10, f = 253.27917308561914\n",
      "Optimization restart 5/10, f = 253.27917308069703\n",
      "Optimization restart 6/10, f = 253.27917310092917\n",
      "Optimization restart 7/10, f = 253.27917307836606\n",
      "Optimization restart 8/10, f = 253.27917307842253\n",
      "Optimization restart 9/10, f = 253.27917307849677\n",
      "Optimization restart 10/10, f = 253.27917309225984\n",
      "We are at frame: 20\n"
     ]
    },
    {
     "data": {
      "application/vnd.jupyter.widget-view+json": {
       "model_id": "081aed7dcc3244b4b2b1032a93edfa5f",
       "version_major": 2,
       "version_minor": 0
      },
      "text/plain": [
       "HBox(children=(VBox(children=(IntProgress(value=0, max=1000), HTML(value=''))), Box(children=(HTML(value=''),)…"
      ]
     },
     "metadata": {},
     "output_type": "display_data"
    },
    {
     "name": "stdout",
     "output_type": "stream",
     "text": [
      "Optimization restart 1/10, f = 277.6718182799045\n",
      "Optimization restart 2/10, f = 277.67181819614376\n",
      "Optimization restart 3/10, f = 277.6718181975499\n",
      "Optimization restart 4/10, f = 277.6718182272337\n",
      "Optimization restart 5/10, f = 277.67181820474303\n",
      "Optimization restart 6/10, f = 277.67181820548626\n",
      "Optimization restart 7/10, f = 277.6718181961012\n",
      "Optimization restart 8/10, f = 277.6718181964935\n",
      "Optimization restart 9/10, f = 277.67181819896973\n",
      "Optimization restart 10/10, f = 277.67181833689193\n",
      "We are at frame: 21\n"
     ]
    },
    {
     "data": {
      "application/vnd.jupyter.widget-view+json": {
       "model_id": "25611757fb6f48119b2849d05e2b72b2",
       "version_major": 2,
       "version_minor": 0
      },
      "text/plain": [
       "HBox(children=(VBox(children=(IntProgress(value=0, max=1000), HTML(value=''))), Box(children=(HTML(value=''),)…"
      ]
     },
     "metadata": {},
     "output_type": "display_data"
    },
    {
     "name": "stdout",
     "output_type": "stream",
     "text": [
      "Optimization restart 1/10, f = 313.893746018241\n",
      "Optimization restart 2/10, f = 313.89374601802734\n",
      "Optimization restart 3/10, f = 313.8937460837292\n",
      "Optimization restart 4/10, f = 313.89374642297645\n",
      "Optimization restart 5/10, f = 313.89374601798175\n",
      "Optimization restart 6/10, f = 313.8937460262355\n",
      "Optimization restart 7/10, f = 313.89374602793356\n",
      "Optimization restart 8/10, f = 313.8937461142119\n",
      "Optimization restart 9/10, f = 313.89374603144825\n",
      "Optimization restart 10/10, f = 313.89374602265605\n",
      "We are at frame: 22\n",
      "Could not compute the SpearmansCorrelation at df AR_0000030\n"
     ]
    },
    {
     "data": {
      "application/vnd.jupyter.widget-view+json": {
       "model_id": "4dd0234c6cb6446e8ac1d45c8360e2a3",
       "version_major": 2,
       "version_minor": 0
      },
      "text/plain": [
       "HBox(children=(VBox(children=(IntProgress(value=0, max=1000), HTML(value=''))), Box(children=(HTML(value=''),)…"
      ]
     },
     "metadata": {},
     "output_type": "display_data"
    },
    {
     "name": "stdout",
     "output_type": "stream",
     "text": [
      "Optimization restart 1/10, f = 313.893746018241\n",
      "Optimization restart 2/10, f = 313.8937460182776\n",
      "Optimization restart 3/10, f = 313.8937460339814\n",
      "Optimization restart 4/10, f = 313.8937460179939\n",
      "Optimization restart 5/10, f = 313.8937460754671\n",
      "Optimization restart 6/10, f = 313.8937460221564\n",
      "Optimization restart 7/10, f = 313.8937460350826\n",
      "Optimization restart 8/10, f = 471.16191999739056\n",
      "Optimization restart 9/10, f = 313.8937460253774\n",
      "Optimization restart 10/10, f = 313.89374607828665\n",
      "We are at frame: 23\n"
     ]
    },
    {
     "data": {
      "application/vnd.jupyter.widget-view+json": {
       "model_id": "91e95a65cc184ceba42e50d35328461c",
       "version_major": 2,
       "version_minor": 0
      },
      "text/plain": [
       "HBox(children=(VBox(children=(IntProgress(value=0, max=1000), HTML(value=''))), Box(children=(HTML(value=''),)…"
      ]
     },
     "metadata": {},
     "output_type": "display_data"
    },
    {
     "name": "stdout",
     "output_type": "stream",
     "text": [
      "Optimization restart 1/10, f = 325.3514052804935\n",
      "Optimization restart 2/10, f = 325.35140528049743\n",
      "Optimization restart 3/10, f = 325.351405280525\n",
      "Optimization restart 4/10, f = 325.3514052939828\n",
      "Optimization restart 5/10, f = 325.3514052807609\n",
      "Optimization restart 6/10, f = 325.3514052925757\n",
      "Optimization restart 7/10, f = 325.35140528756205\n",
      "Optimization restart 8/10, f = 325.3514052804281\n",
      "Optimization restart 9/10, f = 325.35140528308006\n",
      "Optimization restart 10/10, f = 325.3514052855966\n",
      "We are at frame: 24\n"
     ]
    },
    {
     "data": {
      "application/vnd.jupyter.widget-view+json": {
       "model_id": "acd06a468de0472bbf06bea402400f5e",
       "version_major": 2,
       "version_minor": 0
      },
      "text/plain": [
       "HBox(children=(VBox(children=(IntProgress(value=0, max=1000), HTML(value=''))), Box(children=(HTML(value=''),)…"
      ]
     },
     "metadata": {},
     "output_type": "display_data"
    },
    {
     "name": "stdout",
     "output_type": "stream",
     "text": [
      "Optimization restart 1/10, f = 34.092240666966944\n",
      "Optimization restart 2/10, f = 34.092240666144825\n",
      "Optimization restart 3/10, f = 34.09224066613193\n",
      "Optimization restart 4/10, f = 34.09224066661388\n",
      "Optimization restart 5/10, f = 34.0922406662676\n",
      "Optimization restart 6/10, f = 34.092240666363914\n",
      "Optimization restart 7/10, f = 34.09224066918411\n",
      "Optimization restart 8/10, f = 34.09224066615792\n",
      "Optimization restart 9/10, f = 34.09224066613035\n",
      "Optimization restart 10/10, f = 34.09224066614081\n",
      "We are at frame: 25\n"
     ]
    },
    {
     "data": {
      "application/vnd.jupyter.widget-view+json": {
       "model_id": "6083ea44eb434d638bf4f2d2e8949a68",
       "version_major": 2,
       "version_minor": 0
      },
      "text/plain": [
       "HBox(children=(VBox(children=(IntProgress(value=0, max=1000), HTML(value=''))), Box(children=(HTML(value=''),)…"
      ]
     },
     "metadata": {},
     "output_type": "display_data"
    },
    {
     "name": "stdout",
     "output_type": "stream",
     "text": [
      "Optimization restart 1/10, f = 337.74970445570693\n",
      "Optimization restart 2/10, f = 337.7497044368786\n",
      "Optimization restart 3/10, f = 337.7497044335545\n",
      "Optimization restart 4/10, f = 337.74970443418164\n",
      "Optimization restart 5/10, f = 337.749704433472\n",
      "Optimization restart 6/10, f = 337.74970443353266\n",
      "Optimization restart 7/10, f = 337.7497044336842\n",
      "Optimization restart 8/10, f = 337.7497044334697\n",
      "Optimization restart 9/10, f = 337.7497044391737\n",
      "Optimization restart 10/10, f = 337.7497044366851\n",
      "We are at frame: 26\n"
     ]
    },
    {
     "data": {
      "application/vnd.jupyter.widget-view+json": {
       "model_id": "11231eb6c1c94580be34c97c3bfa3feb",
       "version_major": 2,
       "version_minor": 0
      },
      "text/plain": [
       "HBox(children=(VBox(children=(IntProgress(value=0, max=1000), HTML(value=''))), Box(children=(HTML(value=''),)…"
      ]
     },
     "metadata": {},
     "output_type": "display_data"
    },
    {
     "name": "stdout",
     "output_type": "stream",
     "text": [
      "Optimization restart 1/10, f = 343.81492042279285\n",
      "Optimization restart 2/10, f = 343.8149204412639\n",
      "Optimization restart 3/10, f = 343.8149204283157\n",
      "Optimization restart 4/10, f = 343.81492042671283\n",
      "Optimization restart 5/10, f = 343.814920423253\n",
      "Optimization restart 6/10, f = 343.8149204230009\n",
      "Optimization restart 7/10, f = 343.81492042270145\n",
      "Optimization restart 8/10, f = 343.81492042270366\n",
      "Optimization restart 9/10, f = 343.81492042969893\n",
      "Optimization restart 10/10, f = 343.814920424297\n",
      "We are at frame: 27\n"
     ]
    },
    {
     "data": {
      "application/vnd.jupyter.widget-view+json": {
       "model_id": "b8c1be18038e49ea8f46640ed8e4ce48",
       "version_major": 2,
       "version_minor": 0
      },
      "text/plain": [
       "HBox(children=(VBox(children=(IntProgress(value=0, max=1000), HTML(value=''))), Box(children=(HTML(value=''),)…"
      ]
     },
     "metadata": {},
     "output_type": "display_data"
    },
    {
     "name": "stdout",
     "output_type": "stream",
     "text": [
      "Optimization restart 1/10, f = 87.04978084050319\n",
      "Optimization restart 2/10, f = 86.16604460268454\n",
      "Optimization restart 3/10, f = 87.04978087008892\n",
      "Optimization restart 4/10, f = 87.04978089301352\n",
      "Optimization restart 5/10, f = 86.16604460346562\n",
      "Optimization restart 6/10, f = 87.04978081218373\n",
      "Optimization restart 7/10, f = 87.67688111336568\n",
      "Optimization restart 8/10, f = 86.16604460270264\n",
      "Optimization restart 9/10, f = 87.0497810717323\n",
      "Optimization restart 10/10, f = 86.16604460271053\n",
      "We are at frame: 28\n"
     ]
    },
    {
     "data": {
      "application/vnd.jupyter.widget-view+json": {
       "model_id": "a521b1e196a04f1c98b532872f80dd8a",
       "version_major": 2,
       "version_minor": 0
      },
      "text/plain": [
       "HBox(children=(VBox(children=(IntProgress(value=0, max=1000), HTML(value=''))), Box(children=(HTML(value=''),)…"
      ]
     },
     "metadata": {},
     "output_type": "display_data"
    },
    {
     "name": "stdout",
     "output_type": "stream",
     "text": [
      "Optimization restart 1/10, f = 403.2712682238781\n",
      "Optimization restart 2/10, f = 403.27126822384685\n",
      "Optimization restart 3/10, f = 403.2712682256041\n",
      "Optimization restart 4/10, f = 403.27126822741184\n",
      "Optimization restart 5/10, f = 403.2712682382718\n",
      "Optimization restart 6/10, f = 403.2712682242541\n",
      "Optimization restart 7/10, f = 403.2712682238684\n",
      "Optimization restart 8/10, f = 403.2712682385003\n",
      "Optimization restart 9/10, f = 403.27126822477845\n",
      "Optimization restart 10/10, f = 403.2712682426693\n",
      "We are at frame: 29\n"
     ]
    },
    {
     "data": {
      "application/vnd.jupyter.widget-view+json": {
       "model_id": "6cc559b5985743c2a4d03e8a515c2f7a",
       "version_major": 2,
       "version_minor": 0
      },
      "text/plain": [
       "HBox(children=(VBox(children=(IntProgress(value=0, max=1000), HTML(value=''))), Box(children=(HTML(value=''),)…"
      ]
     },
     "metadata": {},
     "output_type": "display_data"
    },
    {
     "name": "stdout",
     "output_type": "stream",
     "text": [
      "Optimization restart 1/10, f = 369.2931422824439\n",
      "Optimization restart 2/10, f = 369.29314227711046\n",
      "Optimization restart 3/10, f = 369.2931422767281\n",
      "Optimization restart 4/10, f = 369.2931423000389\n",
      "Optimization restart 5/10, f = 369.2931422770234\n",
      "Optimization restart 6/10, f = 369.29314227686126\n",
      "Optimization restart 7/10, f = 369.2931422945603\n",
      "Optimization restart 8/10, f = 369.29314227691924\n",
      "Optimization restart 9/10, f = 369.293142383693\n",
      "Optimization restart 10/10, f = 369.2931422789935\n",
      "We are at frame: 30\n"
     ]
    },
    {
     "data": {
      "application/vnd.jupyter.widget-view+json": {
       "model_id": "81e4aa3bd13d4a17993d6e70182599dc",
       "version_major": 2,
       "version_minor": 0
      },
      "text/plain": [
       "HBox(children=(VBox(children=(IntProgress(value=0, max=1000), HTML(value=''))), Box(children=(HTML(value=''),)…"
      ]
     },
     "metadata": {},
     "output_type": "display_data"
    },
    {
     "name": "stdout",
     "output_type": "stream",
     "text": [
      "Optimization restart 1/10, f = 295.4008335421761\n",
      "Optimization restart 2/10, f = 295.4008335183856\n",
      "Optimization restart 3/10, f = 295.400833516352\n",
      "Optimization restart 4/10, f = 295.40083351684325\n",
      "Optimization restart 5/10, f = 295.4008335759696\n",
      "Optimization restart 6/10, f = 295.4008335163151\n",
      "Optimization restart 7/10, f = 295.40083351650674\n",
      "Optimization restart 8/10, f = 295.4008335197002\n",
      "Optimization restart 9/10, f = 295.4008335309385\n",
      "Optimization restart 10/10, f = 295.40083351627413\n",
      "We are at frame: 31\n"
     ]
    },
    {
     "data": {
      "application/vnd.jupyter.widget-view+json": {
       "model_id": "75938d55d32d45ccbfbdd0235a8f7a19",
       "version_major": 2,
       "version_minor": 0
      },
      "text/plain": [
       "HBox(children=(VBox(children=(IntProgress(value=0, max=1000), HTML(value=''))), Box(children=(HTML(value=''),)…"
      ]
     },
     "metadata": {},
     "output_type": "display_data"
    },
    {
     "name": "stdout",
     "output_type": "stream",
     "text": [
      "Optimization restart 1/10, f = 37.03092955379849\n",
      "Optimization restart 2/10, f = 37.03092955332302\n",
      "Optimization restart 3/10, f = 37.03092955330613\n",
      "Optimization restart 4/10, f = 44.03744528086048\n",
      "Optimization restart 5/10, f = 37.0309295533061\n",
      "Optimization restart 6/10, f = 44.037446554052146\n",
      "Optimization restart 7/10, f = 37.030929553529575\n",
      "Optimization restart 8/10, f = 37.03092955330639\n",
      "Optimization restart 9/10, f = 44.03744655408076\n",
      "Optimization restart 10/10, f = 37.030929553315914\n",
      "We are at frame: 32\n"
     ]
    },
    {
     "data": {
      "application/vnd.jupyter.widget-view+json": {
       "model_id": "8415dac2b1fc49fcaa70f93b1c93ef47",
       "version_major": 2,
       "version_minor": 0
      },
      "text/plain": [
       "HBox(children=(VBox(children=(IntProgress(value=0, max=1000), HTML(value=''))), Box(children=(HTML(value=''),)…"
      ]
     },
     "metadata": {},
     "output_type": "display_data"
    },
    {
     "name": "stdout",
     "output_type": "stream",
     "text": [
      "Optimization restart 1/10, f = 305.65584773451786\n",
      "Optimization restart 2/10, f = 305.6558478342549\n",
      "Optimization restart 3/10, f = 305.65584773101125\n",
      "Optimization restart 4/10, f = 305.6558477309345\n",
      "Optimization restart 5/10, f = 305.65584773103535\n",
      "Optimization restart 6/10, f = 305.65584778101567\n",
      "Optimization restart 7/10, f = 305.65584805005983\n",
      "Optimization restart 8/10, f = 305.65584776186677\n",
      "Optimization restart 9/10, f = 305.65584773131184\n",
      "Optimization restart 10/10, f = 305.6558477312208\n",
      "We are at frame: 33\n"
     ]
    },
    {
     "data": {
      "application/vnd.jupyter.widget-view+json": {
       "model_id": "f14b9bfe6d8c4adc9db9c3c050085db9",
       "version_major": 2,
       "version_minor": 0
      },
      "text/plain": [
       "HBox(children=(VBox(children=(IntProgress(value=0, max=1000), HTML(value=''))), Box(children=(HTML(value=''),)…"
      ]
     },
     "metadata": {},
     "output_type": "display_data"
    },
    {
     "name": "stdout",
     "output_type": "stream",
     "text": [
      "Optimization restart 1/10, f = 493.394474267048\n",
      "Optimization restart 2/10, f = 493.39447426694665\n",
      "Optimization restart 3/10, f = 493.39447427012936\n",
      "Optimization restart 4/10, f = 493.39447427128067\n",
      "Optimization restart 5/10, f = 493.39447426738917\n",
      "Optimization restart 6/10, f = 493.3944742777568\n",
      "Optimization restart 7/10, f = 493.39447426983\n",
      "Optimization restart 8/10, f = 493.39447428169586\n",
      "Optimization restart 9/10, f = 493.39447427591404\n",
      "Optimization restart 10/10, f = 493.3944742684665\n",
      "We are at frame: 34\n"
     ]
    },
    {
     "data": {
      "application/vnd.jupyter.widget-view+json": {
       "model_id": "d3803376513d42a4bd9d1ad2e2847564",
       "version_major": 2,
       "version_minor": 0
      },
      "text/plain": [
       "HBox(children=(VBox(children=(IntProgress(value=0, max=1000), HTML(value=''))), Box(children=(HTML(value=''),)…"
      ]
     },
     "metadata": {},
     "output_type": "display_data"
    },
    {
     "name": "stdout",
     "output_type": "stream",
     "text": [
      "Optimization restart 1/10, f = 413.5659830240005\n",
      "Optimization restart 2/10, f = 413.56598355936774\n",
      "Optimization restart 3/10, f = 413.5659829954497\n",
      "Optimization restart 4/10, f = 413.56598301413925\n",
      "Optimization restart 5/10, f = 413.56598302346924\n",
      "Optimization restart 6/10, f = 413.5659830280517\n",
      "Optimization restart 7/10, f = 413.5659830001521\n",
      "Optimization restart 8/10, f = 413.5659829966859\n",
      "Optimization restart 9/10, f = 413.56598303726423\n",
      "Optimization restart 10/10, f = 413.56598299616127\n",
      "We are at frame: 35\n"
     ]
    },
    {
     "data": {
      "application/vnd.jupyter.widget-view+json": {
       "model_id": "9c289966260b41c4a924d9dabec69003",
       "version_major": 2,
       "version_minor": 0
      },
      "text/plain": [
       "HBox(children=(VBox(children=(IntProgress(value=0, max=1000), HTML(value=''))), Box(children=(HTML(value=''),)…"
      ]
     },
     "metadata": {},
     "output_type": "display_data"
    },
    {
     "name": "stdout",
     "output_type": "stream",
     "text": [
      "Optimization restart 1/10, f = 389.62880218471514\n",
      "Optimization restart 2/10, f = 389.62880220951865\n",
      "Optimization restart 3/10, f = 389.6288021842129\n",
      "Optimization restart 4/10, f = 389.6288022556985\n",
      "Optimization restart 5/10, f = 389.6288022698566\n",
      "Optimization restart 6/10, f = 389.62880219349745\n",
      "Optimization restart 7/10, f = 389.62880218858754\n",
      "Optimization restart 8/10, f = 389.6288021856427\n",
      "Optimization restart 9/10, f = 389.62880219298097\n",
      "Optimization restart 10/10, f = 389.6288021869158\n",
      "We are at frame: 36\n"
     ]
    },
    {
     "data": {
      "application/vnd.jupyter.widget-view+json": {
       "model_id": "e4fe07e052c440a887e3c7333acca353",
       "version_major": 2,
       "version_minor": 0
      },
      "text/plain": [
       "HBox(children=(VBox(children=(IntProgress(value=0, max=1000), HTML(value=''))), Box(children=(HTML(value=''),)…"
      ]
     },
     "metadata": {},
     "output_type": "display_data"
    },
    {
     "name": "stdout",
     "output_type": "stream",
     "text": [
      "Optimization restart 1/10, f = 345.88331262388044\n",
      "Optimization restart 2/10, f = 345.88331262984934\n",
      "Optimization restart 3/10, f = 347.6946889657902\n",
      "Optimization restart 4/10, f = 345.8833126232058\n",
      "Optimization restart 5/10, f = 345.8833126231842\n",
      "Optimization restart 6/10, f = 345.8833126256116\n",
      "Optimization restart 7/10, f = 345.8833126241243\n",
      "Optimization restart 8/10, f = 345.88331262325465\n",
      "Optimization restart 9/10, f = 345.8833126235796\n",
      "Optimization restart 10/10, f = 345.88331262332457\n",
      "We are at frame: 37\n"
     ]
    },
    {
     "data": {
      "application/vnd.jupyter.widget-view+json": {
       "model_id": "78273c7d72314a0baa34d1ac3b716102",
       "version_major": 2,
       "version_minor": 0
      },
      "text/plain": [
       "HBox(children=(VBox(children=(IntProgress(value=0, max=1000), HTML(value=''))), Box(children=(HTML(value=''),)…"
      ]
     },
     "metadata": {},
     "output_type": "display_data"
    },
    {
     "name": "stdout",
     "output_type": "stream",
     "text": [
      "Optimization restart 1/10, f = 84.58006417694546\n",
      "Optimization restart 2/10, f = 84.58006417683904\n",
      "Optimization restart 3/10, f = 84.5800641768543\n",
      "Optimization restart 4/10, f = 84.58006418252941\n",
      "Optimization restart 5/10, f = 84.58006417799284\n",
      "Optimization restart 6/10, f = 84.5800641771564\n",
      "Optimization restart 7/10, f = 84.58006417680727\n",
      "Optimization restart 8/10, f = 84.5800642255521\n",
      "Optimization restart 9/10, f = 84.58006417760139\n",
      "Optimization restart 10/10, f = 84.58006417691925\n",
      "We are at frame: 38\n"
     ]
    },
    {
     "data": {
      "application/vnd.jupyter.widget-view+json": {
       "model_id": "593bcd69a07a4f14a54727807f767fa9",
       "version_major": 2,
       "version_minor": 0
      },
      "text/plain": [
       "HBox(children=(VBox(children=(IntProgress(value=0, max=1000), HTML(value=''))), Box(children=(HTML(value=''),)…"
      ]
     },
     "metadata": {},
     "output_type": "display_data"
    },
    {
     "name": "stdout",
     "output_type": "stream",
     "text": [
      "Optimization restart 1/10, f = 42.824899202821406\n",
      "Optimization restart 2/10, f = 42.82489920344142\n",
      "Optimization restart 3/10, f = 42.824899202455214\n",
      "Optimization restart 4/10, f = 42.824899202462966\n",
      "Optimization restart 5/10, f = 42.82489920245523\n",
      "Optimization restart 6/10, f = 42.82489920344703\n",
      "Optimization restart 7/10, f = 42.8248992037083\n",
      "Optimization restart 8/10, f = 42.824899210261336\n",
      "Optimization restart 9/10, f = 42.82489920254897\n",
      "Optimization restart 10/10, f = 42.82489920245884\n",
      "We are at frame: 39\n"
     ]
    },
    {
     "data": {
      "application/vnd.jupyter.widget-view+json": {
       "model_id": "e571105779704831a1ca0b07d4faac80",
       "version_major": 2,
       "version_minor": 0
      },
      "text/plain": [
       "HBox(children=(VBox(children=(IntProgress(value=0, max=1000), HTML(value=''))), Box(children=(HTML(value=''),)…"
      ]
     },
     "metadata": {},
     "output_type": "display_data"
    },
    {
     "name": "stdout",
     "output_type": "stream",
     "text": [
      "Optimization restart 1/10, f = 192.32865046652302\n",
      "Optimization restart 2/10, f = 192.32865047422254\n",
      "Optimization restart 3/10, f = 192.3286504658716\n",
      "Optimization restart 4/10, f = 192.32865046832552\n",
      "Optimization restart 5/10, f = 192.32865046657736\n",
      "Optimization restart 6/10, f = 192.32865046646157\n",
      "Optimization restart 7/10, f = 192.32865046598056\n",
      "Optimization restart 8/10, f = 192.32865046599835\n",
      "Optimization restart 9/10, f = 192.32865047791185\n",
      "Optimization restart 10/10, f = 192.32865046577024\n",
      "We are at frame: 40\n"
     ]
    },
    {
     "data": {
      "application/vnd.jupyter.widget-view+json": {
       "model_id": "0f7e2b54905644cda693f236f38bff99",
       "version_major": 2,
       "version_minor": 0
      },
      "text/plain": [
       "HBox(children=(VBox(children=(IntProgress(value=0, max=1000), HTML(value=''))), Box(children=(HTML(value=''),)…"
      ]
     },
     "metadata": {},
     "output_type": "display_data"
    },
    {
     "name": "stdout",
     "output_type": "stream",
     "text": [
      "Optimization restart 1/10, f = 443.8823834512153\n",
      "Optimization restart 2/10, f = 443.88238346111666\n",
      "Optimization restart 3/10, f = 443.88238345104367\n",
      "Optimization restart 4/10, f = 443.882383484677\n",
      "Optimization restart 5/10, f = 443.88238345285737\n",
      "Optimization restart 6/10, f = 443.8823834594143\n",
      "Optimization restart 7/10, f = 443.88238345091486\n",
      "Optimization restart 8/10, f = 443.88238347098405\n",
      "Optimization restart 9/10, f = 443.8823836225064\n",
      "Optimization restart 10/10, f = 443.88238345187165\n",
      "We are at frame: 41\n"
     ]
    },
    {
     "data": {
      "application/vnd.jupyter.widget-view+json": {
       "model_id": "b637b904425a4547b9f21ccd7a3233f4",
       "version_major": 2,
       "version_minor": 0
      },
      "text/plain": [
       "HBox(children=(VBox(children=(IntProgress(value=0, max=1000), HTML(value=''))), Box(children=(HTML(value=''),)…"
      ]
     },
     "metadata": {},
     "output_type": "display_data"
    },
    {
     "name": "stdout",
     "output_type": "stream",
     "text": [
      "Optimization restart 1/10, f = 138.87205681028559\n",
      "Optimization restart 2/10, f = 138.87205681342223\n",
      "Optimization restart 3/10, f = 138.87205679867594\n",
      "Optimization restart 4/10, f = 138.8720568006977\n",
      "Optimization restart 5/10, f = 138.87205679859358\n",
      "Optimization restart 6/10, f = 138.87205679869732\n",
      "Optimization restart 7/10, f = 138.87205684572194\n",
      "Optimization restart 8/10, f = 138.872056800047\n",
      "Optimization restart 9/10, f = 138.87205680222485\n",
      "Optimization restart 10/10, f = 138.87205679866082\n",
      "We are at frame: 42\n"
     ]
    },
    {
     "data": {
      "application/vnd.jupyter.widget-view+json": {
       "model_id": "476175d8efe8438aa0647b0cfd848d0d",
       "version_major": 2,
       "version_minor": 0
      },
      "text/plain": [
       "HBox(children=(VBox(children=(IntProgress(value=0, max=1000), HTML(value=''))), Box(children=(HTML(value=''),)…"
      ]
     },
     "metadata": {},
     "output_type": "display_data"
    },
    {
     "name": "stdout",
     "output_type": "stream",
     "text": [
      "Optimization restart 1/10, f = 43.177171516384\n",
      "Optimization restart 2/10, f = 43.17717151658248\n",
      "Optimization restart 3/10, f = 43.17717151988005\n",
      "Optimization restart 4/10, f = 43.1771715163035\n",
      "Optimization restart 5/10, f = 43.17717151630717\n",
      "Optimization restart 6/10, f = 43.17717151650784\n",
      "Optimization restart 7/10, f = 43.17717151630322\n",
      "Optimization restart 8/10, f = 43.17717151629139\n",
      "Optimization restart 9/10, f = 43.177171516388604\n",
      "Optimization restart 10/10, f = 43.17717151629034\n",
      "We are at frame: 43\n"
     ]
    },
    {
     "data": {
      "application/vnd.jupyter.widget-view+json": {
       "model_id": "6aa4a2ffae3e463b8ca042fdb06cee62",
       "version_major": 2,
       "version_minor": 0
      },
      "text/plain": [
       "HBox(children=(VBox(children=(IntProgress(value=0, max=1000), HTML(value=''))), Box(children=(HTML(value=''),)…"
      ]
     },
     "metadata": {},
     "output_type": "display_data"
    },
    {
     "name": "stdout",
     "output_type": "stream",
     "text": [
      "Optimization restart 1/10, f = 87.2103144462294\n",
      "Optimization restart 2/10, f = 87.21031445486705\n",
      "Optimization restart 3/10, f = 87.21031444691903\n",
      "Optimization restart 4/10, f = 87.21031444496612\n",
      "Optimization restart 5/10, f = 87.21031444497554\n",
      "Optimization restart 6/10, f = 87.21031444848776\n",
      "Optimization restart 7/10, f = 87.21031444591296\n",
      "Optimization restart 8/10, f = 87.2103144449646\n",
      "Optimization restart 9/10, f = 87.21031445119407\n",
      "Optimization restart 10/10, f = 87.21031444521111\n",
      "We are at frame: 44\n"
     ]
    },
    {
     "data": {
      "application/vnd.jupyter.widget-view+json": {
       "model_id": "42b0bf4f7bff43ddaa104a11d21b74e6",
       "version_major": 2,
       "version_minor": 0
      },
      "text/plain": [
       "HBox(children=(VBox(children=(IntProgress(value=0, max=1000), HTML(value=''))), Box(children=(HTML(value=''),)…"
      ]
     },
     "metadata": {},
     "output_type": "display_data"
    },
    {
     "name": "stdout",
     "output_type": "stream",
     "text": [
      "Optimization restart 1/10, f = 13.982392261211173\n",
      "Optimization restart 2/10, f = 13.98239226121396\n",
      "Optimization restart 3/10, f = 13.982392261327872\n",
      "Optimization restart 4/10, f = 13.98239226137717\n",
      "Optimization restart 5/10, f = 13.982392261430434\n",
      "Optimization restart 6/10, f = 13.982392261189329\n",
      "Optimization restart 7/10, f = 13.982392261189716\n",
      "Optimization restart 8/10, f = 13.982392261219047\n",
      "Optimization restart 9/10, f = 13.982392261246403\n",
      "Optimization restart 10/10, f = 13.982392261198793\n",
      "We are at frame: 45\n"
     ]
    },
    {
     "data": {
      "application/vnd.jupyter.widget-view+json": {
       "model_id": "72b7bd8d93314204a1030f8066fb6286",
       "version_major": 2,
       "version_minor": 0
      },
      "text/plain": [
       "HBox(children=(VBox(children=(IntProgress(value=0, max=1000), HTML(value=''))), Box(children=(HTML(value=''),)…"
      ]
     },
     "metadata": {},
     "output_type": "display_data"
    },
    {
     "name": "stdout",
     "output_type": "stream",
     "text": [
      "Optimization restart 1/10, f = 62.18270013204274\n",
      "Optimization restart 2/10, f = 62.18270013102754\n",
      "Optimization restart 3/10, f = 80.25480372537962\n",
      "Optimization restart 4/10, f = 62.18270013093688\n",
      "Optimization restart 5/10, f = 62.1827001329113\n",
      "Optimization restart 6/10, f = 62.18270013097215\n",
      "Optimization restart 7/10, f = 62.18270013438518\n",
      "Optimization restart 8/10, f = 62.18270013093503\n",
      "Optimization restart 9/10, f = 62.18270013327176\n",
      "Optimization restart 10/10, f = 62.18270013102017\n",
      "We are at frame: 46\n"
     ]
    },
    {
     "data": {
      "application/vnd.jupyter.widget-view+json": {
       "model_id": "5d5b5cf2aff54c06aaf586111619add0",
       "version_major": 2,
       "version_minor": 0
      },
      "text/plain": [
       "HBox(children=(VBox(children=(IntProgress(value=0, max=1000), HTML(value=''))), Box(children=(HTML(value=''),)…"
      ]
     },
     "metadata": {},
     "output_type": "display_data"
    },
    {
     "name": "stdout",
     "output_type": "stream",
     "text": [
      "Optimization restart 1/10, f = 91.17397308689696\n",
      "Optimization restart 2/10, f = 91.1739730922026\n",
      "Optimization restart 3/10, f = 91.1739731405082\n",
      "Optimization restart 4/10, f = 91.17397308669747\n",
      "Optimization restart 5/10, f = 91.17397309859176\n",
      "Optimization restart 6/10, f = 91.17397308857404\n",
      "Optimization restart 7/10, f = 91.1739730866942\n",
      "Optimization restart 8/10, f = 91.173973087123\n",
      "Optimization restart 9/10, f = 91.17397308849691\n",
      "Optimization restart 10/10, f = 180.93836075583874\n",
      "We are at frame: 47\n"
     ]
    },
    {
     "data": {
      "application/vnd.jupyter.widget-view+json": {
       "model_id": "12ba45b2ebf24496b0c0a08bd25d6e50",
       "version_major": 2,
       "version_minor": 0
      },
      "text/plain": [
       "HBox(children=(VBox(children=(IntProgress(value=0, max=1000), HTML(value=''))), Box(children=(HTML(value=''),)…"
      ]
     },
     "metadata": {},
     "output_type": "display_data"
    },
    {
     "name": "stdout",
     "output_type": "stream",
     "text": [
      "Optimization restart 1/10, f = 224.79260119686768\n",
      "Optimization restart 2/10, f = 224.7926011997884\n",
      "Optimization restart 3/10, f = 224.7926011989284\n",
      "Optimization restart 4/10, f = 224.79260120366433\n",
      "Optimization restart 5/10, f = 224.7926011981874\n",
      "Optimization restart 6/10, f = 224.7926012172537\n",
      "Optimization restart 7/10, f = 224.79260120097993\n",
      "Optimization restart 8/10, f = 224.79260124506777\n",
      "Optimization restart 9/10, f = 224.79260120256038\n",
      "Optimization restart 10/10, f = 224.79260119695306\n",
      "We are at frame: 48\n"
     ]
    },
    {
     "data": {
      "application/vnd.jupyter.widget-view+json": {
       "model_id": "f3d03f470f274a16ab7e3b894dcc9f7e",
       "version_major": 2,
       "version_minor": 0
      },
      "text/plain": [
       "HBox(children=(VBox(children=(IntProgress(value=0, max=1000), HTML(value=''))), Box(children=(HTML(value=''),)…"
      ]
     },
     "metadata": {},
     "output_type": "display_data"
    },
    {
     "name": "stdout",
     "output_type": "stream",
     "text": [
      "Optimization restart 1/10, f = 38.5054244867595\n",
      "Optimization restart 2/10, f = 38.50542448669634\n",
      "Optimization restart 3/10, f = 38.505424486800024\n",
      "Optimization restart 4/10, f = 38.505424486702005\n",
      "Optimization restart 5/10, f = 38.5054244877188\n",
      "Optimization restart 6/10, f = 38.50542448700131\n",
      "Optimization restart 7/10, f = 38.50542448669907\n",
      "Optimization restart 8/10, f = 38.50542449487497\n",
      "Optimization restart 9/10, f = 38.50542448672746\n",
      "Optimization restart 10/10, f = 38.505424489270624\n",
      "We are at frame: 49\n"
     ]
    },
    {
     "data": {
      "application/vnd.jupyter.widget-view+json": {
       "model_id": "fd1b71189e4647fc87d63d12694a564c",
       "version_major": 2,
       "version_minor": 0
      },
      "text/plain": [
       "HBox(children=(VBox(children=(IntProgress(value=0, max=1000), HTML(value=''))), Box(children=(HTML(value=''),)…"
      ]
     },
     "metadata": {},
     "output_type": "display_data"
    },
    {
     "name": "stdout",
     "output_type": "stream",
     "text": [
      "Optimization restart 1/10, f = 209.77315769444468\n",
      "Optimization restart 2/10, f = 209.77315773813098\n",
      "Optimization restart 3/10, f = 209.77315768580695\n",
      "Optimization restart 4/10, f = 209.77315768583807\n",
      "Optimization restart 5/10, f = 209.77315774400773\n",
      "Optimization restart 6/10, f = 209.7731576859558\n",
      "Optimization restart 7/10, f = 209.77315768543932\n",
      "Optimization restart 8/10, f = 209.77315774597744\n",
      "Optimization restart 9/10, f = 209.7731576853728\n",
      "Optimization restart 10/10, f = 209.77315769676107\n",
      "We are at frame: 50\n"
     ]
    },
    {
     "data": {
      "application/vnd.jupyter.widget-view+json": {
       "model_id": "188048a3f70c4a13b1ace3270d092846",
       "version_major": 2,
       "version_minor": 0
      },
      "text/plain": [
       "HBox(children=(VBox(children=(IntProgress(value=0, max=1000), HTML(value=''))), Box(children=(HTML(value=''),)…"
      ]
     },
     "metadata": {},
     "output_type": "display_data"
    },
    {
     "name": "stdout",
     "output_type": "stream",
     "text": [
      "Optimization restart 1/10, f = 6.534245155755798\n",
      "Optimization restart 2/10, f = 6.534245155797728\n",
      "Optimization restart 3/10, f = 6.5342451557421874\n",
      "Optimization restart 4/10, f = 6.534245155751018\n",
      "Optimization restart 5/10, f = 6.534245155891286\n",
      "Optimization restart 6/10, f = 6.534245155864496\n",
      "Optimization restart 7/10, f = 6.53424515587643\n",
      "Optimization restart 8/10, f = 6.534245155740784\n",
      "Optimization restart 9/10, f = 6.534245155739854\n",
      "Optimization restart 10/10, f = 6.534245155739677\n",
      "We are at frame: 51\n"
     ]
    },
    {
     "data": {
      "application/vnd.jupyter.widget-view+json": {
       "model_id": "0339734cdf1441b9a346b8638f1324f8",
       "version_major": 2,
       "version_minor": 0
      },
      "text/plain": [
       "HBox(children=(VBox(children=(IntProgress(value=0, max=1000), HTML(value=''))), Box(children=(HTML(value=''),)…"
      ]
     },
     "metadata": {},
     "output_type": "display_data"
    },
    {
     "name": "stdout",
     "output_type": "stream",
     "text": [
      "Optimization restart 1/10, f = 80.4440060380017\n",
      "Optimization restart 2/10, f = 80.4440060445446\n",
      "Optimization restart 3/10, f = 80.4440060381148\n",
      "Optimization restart 4/10, f = 80.44400604164183\n",
      "Optimization restart 5/10, f = 140.7924114324788\n",
      "Optimization restart 6/10, f = 80.44400603954226\n",
      "Optimization restart 7/10, f = 80.4440060377348\n",
      "Optimization restart 8/10, f = 80.44400604514497\n",
      "Optimization restart 9/10, f = 80.44400603773991\n",
      "Optimization restart 10/10, f = 80.44400603823723\n",
      "We are at frame: 52\n"
     ]
    },
    {
     "data": {
      "application/vnd.jupyter.widget-view+json": {
       "model_id": "9d75ff146d134d6a94a9f59e57e3516e",
       "version_major": 2,
       "version_minor": 0
      },
      "text/plain": [
       "HBox(children=(VBox(children=(IntProgress(value=0, max=1000), HTML(value=''))), Box(children=(HTML(value=''),)…"
      ]
     },
     "metadata": {},
     "output_type": "display_data"
    },
    {
     "name": "stdout",
     "output_type": "stream",
     "text": [
      "Optimization restart 1/10, f = 98.15200520126996\n",
      "Optimization restart 2/10, f = 98.15200520103173\n",
      "Optimization restart 3/10, f = 98.15200520094965\n",
      "Optimization restart 4/10, f = 98.15200522153282\n",
      "Optimization restart 5/10, f = 98.15200520201536\n",
      "Optimization restart 6/10, f = 98.15200522315573\n",
      "Optimization restart 7/10, f = 98.15200520156489\n",
      "Optimization restart 8/10, f = 98.15200520120317\n",
      "Optimization restart 9/10, f = 98.15200520118658\n",
      "Optimization restart 10/10, f = 98.15200520487369\n",
      "We are at frame: 53\n"
     ]
    },
    {
     "data": {
      "application/vnd.jupyter.widget-view+json": {
       "model_id": "af4ea399f199442db662d70ae7ce0958",
       "version_major": 2,
       "version_minor": 0
      },
      "text/plain": [
       "HBox(children=(VBox(children=(IntProgress(value=0, max=1000), HTML(value=''))), Box(children=(HTML(value=''),)…"
      ]
     },
     "metadata": {},
     "output_type": "display_data"
    },
    {
     "name": "stdout",
     "output_type": "stream",
     "text": [
      "Optimization restart 1/10, f = 115.66257296817321\n",
      "Optimization restart 2/10, f = 115.66257298451217\n",
      "Optimization restart 3/10, f = 115.66257296815486\n",
      "Optimization restart 4/10, f = 115.66257296892225\n",
      "Optimization restart 5/10, f = 115.66257296980768\n",
      "Optimization restart 6/10, f = 115.662572968273\n",
      "Optimization restart 7/10, f = 115.66257296827531\n",
      "Optimization restart 8/10, f = 115.66257296815441\n",
      "Optimization restart 9/10, f = 115.66257296815617\n",
      "Optimization restart 10/10, f = 115.66257296943185\n",
      "We are at frame: 54\n"
     ]
    },
    {
     "data": {
      "application/vnd.jupyter.widget-view+json": {
       "model_id": "938c014d53cd49c6a3218b8acf4eeeb0",
       "version_major": 2,
       "version_minor": 0
      },
      "text/plain": [
       "HBox(children=(VBox(children=(IntProgress(value=0, max=1000), HTML(value=''))), Box(children=(HTML(value=''),)…"
      ]
     },
     "metadata": {},
     "output_type": "display_data"
    },
    {
     "name": "stdout",
     "output_type": "stream",
     "text": [
      "Optimization restart 1/10, f = 126.93575984281179\n",
      "Optimization restart 2/10, f = 126.93575984562654\n",
      "Optimization restart 3/10, f = 126.93575986425458\n",
      "Optimization restart 4/10, f = 126.93575984455858\n",
      "Optimization restart 5/10, f = 126.93575984538921\n",
      "Optimization restart 6/10, f = 126.93575984433006\n",
      "Optimization restart 7/10, f = 126.93575984315449\n",
      "Optimization restart 8/10, f = 126.93575984358034\n",
      "Optimization restart 9/10, f = 126.93575984279649\n",
      "Optimization restart 10/10, f = 126.9357598432708\n",
      "We are at frame: 55\n"
     ]
    },
    {
     "data": {
      "application/vnd.jupyter.widget-view+json": {
       "model_id": "3b3e306f797848f48c446354fc19f560",
       "version_major": 2,
       "version_minor": 0
      },
      "text/plain": [
       "HBox(children=(VBox(children=(IntProgress(value=0, max=1000), HTML(value=''))), Box(children=(HTML(value=''),)…"
      ]
     },
     "metadata": {},
     "output_type": "display_data"
    },
    {
     "name": "stdout",
     "output_type": "stream",
     "text": [
      "Optimization restart 1/10, f = 149.92955192001142\n",
      "Optimization restart 2/10, f = 149.92955191977774\n",
      "Optimization restart 3/10, f = 149.9295519196922\n",
      "Optimization restart 4/10, f = 149.9295519215093\n",
      "Optimization restart 5/10, f = 149.92955191968156\n",
      "Optimization restart 6/10, f = 149.92955191968147\n",
      "Optimization restart 7/10, f = 149.92955192066185\n",
      "Optimization restart 8/10, f = 149.9295519196815\n",
      "Optimization restart 9/10, f = 149.92955192043664\n",
      "Optimization restart 10/10, f = 149.92955193410808\n",
      "We are at frame: 56\n"
     ]
    },
    {
     "data": {
      "application/vnd.jupyter.widget-view+json": {
       "model_id": "ddba6703458a42988c0792e425389ab9",
       "version_major": 2,
       "version_minor": 0
      },
      "text/plain": [
       "HBox(children=(VBox(children=(IntProgress(value=0, max=1000), HTML(value=''))), Box(children=(HTML(value=''),)…"
      ]
     },
     "metadata": {},
     "output_type": "display_data"
    },
    {
     "name": "stdout",
     "output_type": "stream",
     "text": [
      "Optimization restart 1/10, f = 113.11641365925011\n",
      "Optimization restart 2/10, f = 113.11641365819675\n",
      "Optimization restart 3/10, f = 113.11641365718181\n",
      "Optimization restart 4/10, f = 113.11641366787843\n",
      "Optimization restart 5/10, f = 113.11641365719795\n",
      "Optimization restart 6/10, f = 113.11641365741954\n",
      "Optimization restart 7/10, f = 113.116413706523\n",
      "Optimization restart 8/10, f = 113.1164136571734\n",
      "Optimization restart 9/10, f = 113.11641365720645\n",
      "Optimization restart 10/10, f = 113.11641365734339\n",
      "We are at frame: 57\n"
     ]
    },
    {
     "data": {
      "application/vnd.jupyter.widget-view+json": {
       "model_id": "f95706ac65cf4bdbb8f123214e479863",
       "version_major": 2,
       "version_minor": 0
      },
      "text/plain": [
       "HBox(children=(VBox(children=(IntProgress(value=0, max=1000), HTML(value=''))), Box(children=(HTML(value=''),)…"
      ]
     },
     "metadata": {},
     "output_type": "display_data"
    },
    {
     "name": "stdout",
     "output_type": "stream",
     "text": [
      "Optimization restart 1/10, f = 183.43034443259387\n",
      "Optimization restart 2/10, f = 183.4303444328013\n",
      "Optimization restart 3/10, f = 183.4303444327664\n",
      "Optimization restart 4/10, f = 183.43034443267067\n",
      "Optimization restart 5/10, f = 183.43034443314872\n",
      "Optimization restart 6/10, f = 183.43034443781247\n",
      "Optimization restart 7/10, f = 183.430344432591\n",
      "Optimization restart 8/10, f = 183.43034448238495\n",
      "Optimization restart 9/10, f = 183.43034443258816\n",
      "Optimization restart 10/10, f = 183.43034445196434\n",
      "We are at frame: 58\n"
     ]
    },
    {
     "data": {
      "application/vnd.jupyter.widget-view+json": {
       "model_id": "9ddb96d8d15347b196f6662befbd075b",
       "version_major": 2,
       "version_minor": 0
      },
      "text/plain": [
       "HBox(children=(VBox(children=(IntProgress(value=0, max=1000), HTML(value=''))), Box(children=(HTML(value=''),)…"
      ]
     },
     "metadata": {},
     "output_type": "display_data"
    },
    {
     "name": "stdout",
     "output_type": "stream",
     "text": [
      "Optimization restart 1/10, f = 92.06113490959794\n",
      "Optimization restart 2/10, f = 92.06113491046408\n",
      "Optimization restart 3/10, f = 92.06113490959797\n",
      "Optimization restart 4/10, f = 92.06113501956742\n",
      "Optimization restart 5/10, f = 92.06113491440613\n",
      "Optimization restart 6/10, f = 92.06113491002893\n",
      "Optimization restart 7/10, f = 92.06113490963926\n",
      "Optimization restart 8/10, f = 92.06113490960863\n",
      "Optimization restart 9/10, f = 92.06113490971396\n",
      "Optimization restart 10/10, f = 92.06113491032166\n",
      "We are at frame: 59\n"
     ]
    },
    {
     "data": {
      "application/vnd.jupyter.widget-view+json": {
       "model_id": "38db246166cb4163a9ee8a5f4983752f",
       "version_major": 2,
       "version_minor": 0
      },
      "text/plain": [
       "HBox(children=(VBox(children=(IntProgress(value=0, max=1000), HTML(value=''))), Box(children=(HTML(value=''),)…"
      ]
     },
     "metadata": {},
     "output_type": "display_data"
    },
    {
     "name": "stdout",
     "output_type": "stream",
     "text": [
      "Optimization restart 1/10, f = 20.571138637038132\n",
      "Optimization restart 2/10, f = 20.57113863714504\n",
      "Optimization restart 3/10, f = 20.571138637339423\n",
      "Optimization restart 4/10, f = 20.571138637048875\n",
      "Optimization restart 5/10, f = 20.571138637043983\n",
      "Optimization restart 6/10, f = 20.571138637065353\n",
      "Optimization restart 7/10, f = 20.571138642813036\n",
      "Optimization restart 8/10, f = 20.571138637699594\n",
      "Optimization restart 9/10, f = 20.57113863703929\n",
      "Optimization restart 10/10, f = 20.57113863708785\n",
      "We are at frame: 60\n"
     ]
    },
    {
     "data": {
      "application/vnd.jupyter.widget-view+json": {
       "model_id": "94d2cf064a314009a575a2c18a022faa",
       "version_major": 2,
       "version_minor": 0
      },
      "text/plain": [
       "HBox(children=(VBox(children=(IntProgress(value=0, max=1000), HTML(value=''))), Box(children=(HTML(value=''),)…"
      ]
     },
     "metadata": {},
     "output_type": "display_data"
    },
    {
     "name": "stdout",
     "output_type": "stream",
     "text": [
      "Optimization restart 1/10, f = 110.15233343152866\n",
      "Optimization restart 2/10, f = 110.15233343192912\n",
      "Optimization restart 3/10, f = 110.1523334307509\n",
      "Optimization restart 4/10, f = 110.15233342910295\n",
      "Optimization restart 5/10, f = 110.1523334336853\n",
      "Optimization restart 6/10, f = 110.15233342768548\n",
      "Optimization restart 7/10, f = 110.15233342872403\n",
      "Optimization restart 8/10, f = 110.1523334281673\n",
      "Optimization restart 9/10, f = 110.15233342766064\n",
      "Optimization restart 10/10, f = 110.1523334363716\n",
      "We are at frame: 61\n",
      "Size of X_train at df BR_0000023 is (0, 10) - to many missing values\n",
      "We are at frame: 62\n"
     ]
    },
    {
     "data": {
      "application/vnd.jupyter.widget-view+json": {
       "model_id": "a23dbdddbccd4d8f98a44fc560369dd1",
       "version_major": 2,
       "version_minor": 0
      },
      "text/plain": [
       "HBox(children=(VBox(children=(IntProgress(value=0, max=1000), HTML(value=''))), Box(children=(HTML(value=''),)…"
      ]
     },
     "metadata": {},
     "output_type": "display_data"
    },
    {
     "name": "stdout",
     "output_type": "stream",
     "text": [
      "Optimization restart 1/10, f = 82.59957364067955\n",
      "Optimization restart 2/10, f = 82.5995735795035\n",
      "Optimization restart 3/10, f = 82.59957357554326\n",
      "Optimization restart 4/10, f = 82.59957357577736\n",
      "Optimization restart 5/10, f = 82.59957359704956\n",
      "Optimization restart 6/10, f = 82.59957357560154\n",
      "Optimization restart 7/10, f = 82.59957357554572\n",
      "Optimization restart 8/10, f = 82.59957357555845\n",
      "Optimization restart 9/10, f = 82.59957357734692\n",
      "Optimization restart 10/10, f = 82.59957357564434\n",
      "We are at frame: 63\n"
     ]
    },
    {
     "data": {
      "application/vnd.jupyter.widget-view+json": {
       "model_id": "ea250821a1b143418f3a87228fed4441",
       "version_major": 2,
       "version_minor": 0
      },
      "text/plain": [
       "HBox(children=(VBox(children=(IntProgress(value=0, max=1000), HTML(value=''))), Box(children=(HTML(value=''),)…"
      ]
     },
     "metadata": {},
     "output_type": "display_data"
    },
    {
     "name": "stdout",
     "output_type": "stream",
     "text": [
      "Optimization restart 1/10, f = 245.9163091296138\n",
      "Optimization restart 2/10, f = 245.9163091375714\n",
      "Optimization restart 3/10, f = 245.91630918192152\n",
      "Optimization restart 4/10, f = 245.9163091280521\n",
      "Optimization restart 5/10, f = 245.91630912577185\n",
      "Optimization restart 6/10, f = 245.9163091256962\n",
      "Optimization restart 7/10, f = 245.91630916049223\n",
      "Optimization restart 8/10, f = 245.91630912587038\n",
      "Optimization restart 9/10, f = 245.91630913084674\n",
      "Optimization restart 10/10, f = 245.9163091256023\n",
      "We are at frame: 64\n"
     ]
    },
    {
     "data": {
      "application/vnd.jupyter.widget-view+json": {
       "model_id": "be3b64094daf4f29a83b765f0ce6cbb8",
       "version_major": 2,
       "version_minor": 0
      },
      "text/plain": [
       "HBox(children=(VBox(children=(IntProgress(value=0, max=1000), HTML(value=''))), Box(children=(HTML(value=''),)…"
      ]
     },
     "metadata": {},
     "output_type": "display_data"
    },
    {
     "name": "stdout",
     "output_type": "stream",
     "text": [
      "Optimization restart 1/10, f = 213.7334293064033\n",
      "Optimization restart 2/10, f = 213.73342930640308\n",
      "Optimization restart 3/10, f = 213.73343031712483\n",
      "Optimization restart 4/10, f = 213.7334293064086\n",
      "Optimization restart 5/10, f = 213.73342931713822\n",
      "Optimization restart 6/10, f = 213.73342931872213\n",
      "Optimization restart 7/10, f = 213.73342931654895\n",
      "Optimization restart 8/10, f = 213.7334293064918\n",
      "Optimization restart 9/10, f = 213.7334293064376\n",
      "Optimization restart 10/10, f = 213.73342930649738\n",
      "We are at frame: 65\n"
     ]
    },
    {
     "data": {
      "application/vnd.jupyter.widget-view+json": {
       "model_id": "bc94fdabd9fc4275a2ef41a988e8186d",
       "version_major": 2,
       "version_minor": 0
      },
      "text/plain": [
       "HBox(children=(VBox(children=(IntProgress(value=0, max=1000), HTML(value=''))), Box(children=(HTML(value=''),)…"
      ]
     },
     "metadata": {},
     "output_type": "display_data"
    },
    {
     "name": "stdout",
     "output_type": "stream",
     "text": [
      "Optimization restart 1/10, f = 71.05276903764124\n",
      "Optimization restart 2/10, f = 71.05276903628942\n",
      "Optimization restart 3/10, f = 71.05276903645759\n",
      "Optimization restart 4/10, f = 71.05276903651875\n",
      "Optimization restart 5/10, f = 71.05276903628646\n",
      "Optimization restart 6/10, f = 71.05276903653319\n",
      "Optimization restart 7/10, f = 71.0527690390999\n",
      "Optimization restart 8/10, f = 71.05276903622712\n",
      "Optimization restart 9/10, f = 71.05276903632917\n",
      "Optimization restart 10/10, f = 71.05276903658314\n",
      "We are at frame: 66\n"
     ]
    },
    {
     "data": {
      "application/vnd.jupyter.widget-view+json": {
       "model_id": "80eb7495ad1f4a4e836f39cfc49e8a80",
       "version_major": 2,
       "version_minor": 0
      },
      "text/plain": [
       "HBox(children=(VBox(children=(IntProgress(value=0, max=1000), HTML(value=''))), Box(children=(HTML(value=''),)…"
      ]
     },
     "metadata": {},
     "output_type": "display_data"
    },
    {
     "name": "stdout",
     "output_type": "stream",
     "text": [
      "Optimization restart 1/10, f = 290.73039958283846\n",
      "Optimization restart 2/10, f = 290.7303995457836\n",
      "Optimization restart 3/10, f = 290.7303995615269\n",
      "Optimization restart 4/10, f = 290.7303996976517\n",
      "Optimization restart 5/10, f = 290.7303995458609\n",
      "Optimization restart 6/10, f = 290.7303995470465\n",
      "Optimization restart 7/10, f = 290.7303995468982\n",
      "Optimization restart 8/10, f = 290.73039954589206\n",
      "Optimization restart 9/10, f = 290.7303995529722\n",
      "Optimization restart 10/10, f = 290.73039957383077\n",
      "We are at frame: 67\n"
     ]
    },
    {
     "data": {
      "application/vnd.jupyter.widget-view+json": {
       "model_id": "3f814d661fcc41098eeee26a972ce547",
       "version_major": 2,
       "version_minor": 0
      },
      "text/plain": [
       "HBox(children=(VBox(children=(IntProgress(value=0, max=1000), HTML(value=''))), Box(children=(HTML(value=''),)…"
      ]
     },
     "metadata": {},
     "output_type": "display_data"
    },
    {
     "name": "stdout",
     "output_type": "stream",
     "text": [
      "Optimization restart 1/10, f = 260.2715847495273\n",
      "Optimization restart 2/10, f = 260.2715847505337\n",
      "Optimization restart 3/10, f = 260.27158476442946\n",
      "Optimization restart 4/10, f = 260.2715847490284\n",
      "Optimization restart 5/10, f = 260.2715847509985\n",
      "Optimization restart 6/10, f = 260.2715847491409\n",
      "Optimization restart 7/10, f = 260.2715847491917\n",
      "Optimization restart 8/10, f = 260.27158475416553\n",
      "Optimization restart 9/10, f = 260.27158475310057\n",
      "Optimization restart 10/10, f = 260.27158474909174\n",
      "We are at frame: 68\n"
     ]
    },
    {
     "data": {
      "application/vnd.jupyter.widget-view+json": {
       "model_id": "13fab714661e43f3963b1afd18b1532b",
       "version_major": 2,
       "version_minor": 0
      },
      "text/plain": [
       "HBox(children=(VBox(children=(IntProgress(value=0, max=1000), HTML(value=''))), Box(children=(HTML(value=''),)…"
      ]
     },
     "metadata": {},
     "output_type": "display_data"
    },
    {
     "name": "stdout",
     "output_type": "stream",
     "text": [
      "Optimization restart 1/10, f = 89.3278621214713\n",
      "Optimization restart 2/10, f = 89.32786211630497\n",
      "Optimization restart 3/10, f = 89.32786211687605\n",
      "Optimization restart 4/10, f = 89.32786211630162\n",
      "Optimization restart 5/10, f = 89.3278621163424\n",
      "Optimization restart 6/10, f = 89.32786212696416\n",
      "Optimization restart 7/10, f = 89.32786211629714\n",
      "Optimization restart 8/10, f = 89.32786214679552\n",
      "Optimization restart 9/10, f = 89.32786211712195\n",
      "Optimization restart 10/10, f = 89.3278621163089\n",
      "We are at frame: 69\n"
     ]
    },
    {
     "data": {
      "application/vnd.jupyter.widget-view+json": {
       "model_id": "7b3e6dfab51841a3910cc317a706e2d8",
       "version_major": 2,
       "version_minor": 0
      },
      "text/plain": [
       "HBox(children=(VBox(children=(IntProgress(value=0, max=1000), HTML(value=''))), Box(children=(HTML(value=''),)…"
      ]
     },
     "metadata": {},
     "output_type": "display_data"
    },
    {
     "name": "stdout",
     "output_type": "stream",
     "text": [
      "Optimization restart 1/10, f = 12.567609441791639\n",
      "Optimization restart 2/10, f = 12.567609441837448\n",
      "Optimization restart 3/10, f = 12.567609441794296\n",
      "Optimization restart 4/10, f = 12.567609441790971\n",
      "Optimization restart 5/10, f = 12.567609442026146\n",
      "Optimization restart 6/10, f = 12.567609441793595\n",
      "Optimization restart 7/10, f = 12.567609441888813\n",
      "Optimization restart 8/10, f = 12.567609441791078\n",
      "Optimization restart 9/10, f = 12.567609441793515\n",
      "Optimization restart 10/10, f = 12.567609441918268\n",
      "We are at frame: 70\n"
     ]
    },
    {
     "data": {
      "application/vnd.jupyter.widget-view+json": {
       "model_id": "3754328f9bf94780ba8eb94cf0f0ef19",
       "version_major": 2,
       "version_minor": 0
      },
      "text/plain": [
       "HBox(children=(VBox(children=(IntProgress(value=0, max=1000), HTML(value=''))), Box(children=(HTML(value=''),)…"
      ]
     },
     "metadata": {},
     "output_type": "display_data"
    },
    {
     "name": "stdout",
     "output_type": "stream",
     "text": [
      "Optimization restart 1/10, f = 119.41103841166236\n",
      "Optimization restart 2/10, f = 119.41103841276964\n",
      "Optimization restart 3/10, f = 119.41103841223432\n",
      "Optimization restart 4/10, f = 119.41103841166264\n",
      "Optimization restart 5/10, f = 119.411038417435\n",
      "Optimization restart 6/10, f = 119.41103842906699\n",
      "Optimization restart 7/10, f = 119.41103841212887\n",
      "Optimization restart 8/10, f = 119.41103841166304\n",
      "Optimization restart 9/10, f = 119.41103841182337\n",
      "Optimization restart 10/10, f = 119.41103841175908\n",
      "We are at frame: 71\n"
     ]
    },
    {
     "data": {
      "application/vnd.jupyter.widget-view+json": {
       "model_id": "721effe340c14a8c8d76c905474db127",
       "version_major": 2,
       "version_minor": 0
      },
      "text/plain": [
       "HBox(children=(VBox(children=(IntProgress(value=0, max=1000), HTML(value=''))), Box(children=(HTML(value=''),)…"
      ]
     },
     "metadata": {},
     "output_type": "display_data"
    },
    {
     "name": "stdout",
     "output_type": "stream",
     "text": [
      "Optimization restart 1/10, f = 100.73164815152546\n",
      "Optimization restart 2/10, f = 100.7316481515073\n",
      "Optimization restart 3/10, f = 100.731648187509\n",
      "Optimization restart 4/10, f = 100.73164815149632\n",
      "Optimization restart 5/10, f = 100.73164815342062\n",
      "Optimization restart 6/10, f = 100.73164815174306\n",
      "Optimization restart 7/10, f = 100.73164815149764\n",
      "Optimization restart 8/10, f = 100.73164815572912\n",
      "Optimization restart 9/10, f = 100.73164815344116\n",
      "Optimization restart 10/10, f = 100.73164820803017\n",
      "We are at frame: 72\n"
     ]
    },
    {
     "data": {
      "application/vnd.jupyter.widget-view+json": {
       "model_id": "e5bbbd3fcd1b4afb82aab2803a3c07f3",
       "version_major": 2,
       "version_minor": 0
      },
      "text/plain": [
       "HBox(children=(VBox(children=(IntProgress(value=0, max=1000), HTML(value=''))), Box(children=(HTML(value=''),)…"
      ]
     },
     "metadata": {},
     "output_type": "display_data"
    },
    {
     "name": "stdout",
     "output_type": "stream",
     "text": [
      "Optimization restart 1/10, f = 157.3876053912148\n",
      "Optimization restart 2/10, f = 157.38760539060382\n",
      "Optimization restart 3/10, f = 157.3876053905967\n",
      "Optimization restart 4/10, f = 157.3876053914029\n",
      "Optimization restart 5/10, f = 157.38760539275535\n",
      "Optimization restart 6/10, f = 157.3876053906151\n",
      "Optimization restart 7/10, f = 157.387605402366\n",
      "Optimization restart 8/10, f = 157.3876056275531\n",
      "Optimization restart 9/10, f = 157.38760539061835\n",
      "Optimization restart 10/10, f = 157.38760545393097\n",
      "We are at frame: 73\n"
     ]
    },
    {
     "data": {
      "application/vnd.jupyter.widget-view+json": {
       "model_id": "a1824cd8f4694277b782ae0147f19273",
       "version_major": 2,
       "version_minor": 0
      },
      "text/plain": [
       "HBox(children=(VBox(children=(IntProgress(value=0, max=1000), HTML(value=''))), Box(children=(HTML(value=''),)…"
      ]
     },
     "metadata": {},
     "output_type": "display_data"
    },
    {
     "name": "stdout",
     "output_type": "stream",
     "text": [
      "Optimization restart 1/10, f = 108.73002200857614\n",
      "Optimization restart 2/10, f = 108.73002200854513\n",
      "Optimization restart 3/10, f = 108.7300220136388\n",
      "Optimization restart 4/10, f = 108.73002202170608\n",
      "Optimization restart 5/10, f = 108.73002200854347\n",
      "Optimization restart 6/10, f = 108.73002201046334\n",
      "Optimization restart 7/10, f = 108.7300220092219\n",
      "Optimization restart 8/10, f = 108.73002200878076\n",
      "Optimization restart 9/10, f = 108.73002200871935\n",
      "Optimization restart 10/10, f = 108.73002201462648\n",
      "We are at frame: 74\n"
     ]
    },
    {
     "data": {
      "application/vnd.jupyter.widget-view+json": {
       "model_id": "529df8484c8c450b965ef37aa917dcc2",
       "version_major": 2,
       "version_minor": 0
      },
      "text/plain": [
       "HBox(children=(VBox(children=(IntProgress(value=0, max=1000), HTML(value=''))), Box(children=(HTML(value=''),)…"
      ]
     },
     "metadata": {},
     "output_type": "display_data"
    },
    {
     "name": "stdout",
     "output_type": "stream",
     "text": [
      "Optimization restart 1/10, f = 189.54546665579147\n",
      "Optimization restart 2/10, f = 189.54546665843299\n",
      "Optimization restart 3/10, f = 189.54546665540877\n",
      "Optimization restart 4/10, f = 189.5454666570915\n",
      "Optimization restart 5/10, f = 189.54546692684036\n",
      "Optimization restart 6/10, f = 189.54546665538373\n",
      "Optimization restart 7/10, f = 189.5454666556304\n",
      "Optimization restart 8/10, f = 189.5454666555305\n",
      "Optimization restart 9/10, f = 189.54546675934185\n",
      "Optimization restart 10/10, f = 189.5454666578877\n",
      "We are at frame: 75\n"
     ]
    },
    {
     "data": {
      "application/vnd.jupyter.widget-view+json": {
       "model_id": "83f929054ef742818f8324bfc0b17b39",
       "version_major": 2,
       "version_minor": 0
      },
      "text/plain": [
       "HBox(children=(VBox(children=(IntProgress(value=0, max=1000), HTML(value=''))), Box(children=(HTML(value=''),)…"
      ]
     },
     "metadata": {},
     "output_type": "display_data"
    },
    {
     "name": "stdout",
     "output_type": "stream",
     "text": [
      "Optimization restart 1/10, f = 91.9344584324549\n",
      "Optimization restart 2/10, f = 91.93445838803058\n",
      "Optimization restart 3/10, f = 91.93445838913917\n",
      "Optimization restart 4/10, f = 91.93445838761403\n",
      "Optimization restart 5/10, f = 91.93445838758018\n",
      "Optimization restart 6/10, f = 91.93445838740323\n",
      "Optimization restart 7/10, f = 91.9344583873679\n",
      "Optimization restart 8/10, f = 91.93445856904934\n",
      "Optimization restart 9/10, f = 91.93445842593431\n",
      "Optimization restart 10/10, f = 91.93445838739439\n",
      "We are at frame: 76\n"
     ]
    },
    {
     "data": {
      "application/vnd.jupyter.widget-view+json": {
       "model_id": "be5cb2c517364e9d85ff953ad696d240",
       "version_major": 2,
       "version_minor": 0
      },
      "text/plain": [
       "HBox(children=(VBox(children=(IntProgress(value=0, max=1000), HTML(value=''))), Box(children=(HTML(value=''),)…"
      ]
     },
     "metadata": {},
     "output_type": "display_data"
    },
    {
     "name": "stdout",
     "output_type": "stream",
     "text": [
      "Optimization restart 1/10, f = 219.27870192544987\n",
      "Optimization restart 2/10, f = 219.27870192255907\n",
      "Optimization restart 3/10, f = 219.27870192236264\n",
      "Optimization restart 4/10, f = 219.2787019257016\n",
      "Optimization restart 5/10, f = 219.27870192280125\n",
      "Optimization restart 6/10, f = 219.27870192227604\n",
      "Optimization restart 7/10, f = 219.2787019232635\n",
      "Optimization restart 8/10, f = 219.27870192766662\n",
      "Optimization restart 9/10, f = 219.27870193452878\n",
      "Optimization restart 10/10, f = 219.27870192273292\n",
      "We are at frame: 77\n"
     ]
    },
    {
     "data": {
      "application/vnd.jupyter.widget-view+json": {
       "model_id": "ac4ca5bf363b4072971482d398d21789",
       "version_major": 2,
       "version_minor": 0
      },
      "text/plain": [
       "HBox(children=(VBox(children=(IntProgress(value=0, max=1000), HTML(value=''))), Box(children=(HTML(value=''),)…"
      ]
     },
     "metadata": {},
     "output_type": "display_data"
    },
    {
     "name": "stdout",
     "output_type": "stream",
     "text": [
      "Optimization restart 1/10, f = 194.93264215571546\n",
      "Optimization restart 2/10, f = 194.93264215216348\n",
      "Optimization restart 3/10, f = 194.93264216681823\n",
      "Optimization restart 4/10, f = 194.93264215241834\n",
      "Optimization restart 5/10, f = 194.93264216715315\n",
      "Optimization restart 6/10, f = 194.93264215304868\n",
      "Optimization restart 7/10, f = 194.93264215506892\n",
      "Optimization restart 8/10, f = 194.93264215203573\n",
      "Optimization restart 9/10, f = 194.9326421533229\n",
      "Optimization restart 10/10, f = 194.93264215223257\n",
      "We are at frame: 78\n"
     ]
    },
    {
     "data": {
      "application/vnd.jupyter.widget-view+json": {
       "model_id": "66c340acdef64897968cd6c4e22b0931",
       "version_major": 2,
       "version_minor": 0
      },
      "text/plain": [
       "HBox(children=(VBox(children=(IntProgress(value=0, max=1000), HTML(value=''))), Box(children=(HTML(value=''),)…"
      ]
     },
     "metadata": {},
     "output_type": "display_data"
    },
    {
     "name": "stdout",
     "output_type": "stream",
     "text": [
      "Optimization restart 1/10, f = 105.92555964501963\n",
      "Optimization restart 2/10, f = 105.92556017164483\n",
      "Optimization restart 3/10, f = 105.9255596450939\n",
      "Optimization restart 4/10, f = 105.92555964512516\n",
      "Optimization restart 5/10, f = 105.92555964519184\n",
      "Optimization restart 6/10, f = 105.92555964513497\n",
      "Optimization restart 7/10, f = 105.92555964502705\n",
      "Optimization restart 8/10, f = 105.9255596461631\n",
      "Optimization restart 9/10, f = 105.92555964842896\n",
      "Optimization restart 10/10, f = 105.92555967795346\n",
      "We are at frame: 79\n"
     ]
    },
    {
     "data": {
      "application/vnd.jupyter.widget-view+json": {
       "model_id": "c4ec32cd36564ace8f838baf45f0e1fd",
       "version_major": 2,
       "version_minor": 0
      },
      "text/plain": [
       "HBox(children=(VBox(children=(IntProgress(value=0, max=1000), HTML(value=''))), Box(children=(HTML(value=''),)…"
      ]
     },
     "metadata": {},
     "output_type": "display_data"
    },
    {
     "name": "stdout",
     "output_type": "stream",
     "text": [
      "Optimization restart 1/10, f = 6.6297117949247735\n",
      "Optimization restart 2/10, f = 6.62971179492682\n",
      "Optimization restart 3/10, f = 6.629711794924432\n",
      "Optimization restart 4/10, f = 6.6297117949253135\n",
      "Optimization restart 5/10, f = 6.629711794929385\n",
      "Optimization restart 6/10, f = 6.6297117949251785\n",
      "Optimization restart 7/10, f = 6.6297117949257185\n",
      "Optimization restart 8/10, f = 6.629711795172128\n",
      "Optimization restart 9/10, f = 6.629711794924859\n",
      "Optimization restart 10/10, f = 6.629711794929648\n",
      "We are at frame: 80\n"
     ]
    },
    {
     "data": {
      "application/vnd.jupyter.widget-view+json": {
       "model_id": "32d2f54918a8460faf867e7a0d606303",
       "version_major": 2,
       "version_minor": 0
      },
      "text/plain": [
       "HBox(children=(VBox(children=(IntProgress(value=0, max=1000), HTML(value=''))), Box(children=(HTML(value=''),)…"
      ]
     },
     "metadata": {},
     "output_type": "display_data"
    },
    {
     "name": "stdout",
     "output_type": "stream",
     "text": [
      "Optimization restart 1/10, f = 223.45700808560863\n",
      "Optimization restart 2/10, f = 223.45700808646046\n",
      "Optimization restart 3/10, f = 223.45700808534156\n",
      "Optimization restart 4/10, f = 223.45700808531421\n",
      "Optimization restart 5/10, f = 223.45700808659464\n",
      "Optimization restart 6/10, f = 223.4570080857902\n",
      "Optimization restart 7/10, f = 223.45700808847926\n",
      "Optimization restart 8/10, f = 223.45700808549168\n",
      "Optimization restart 9/10, f = 223.45700808593335\n",
      "Optimization restart 10/10, f = 223.45700808555603\n",
      "We are at frame: 81\n"
     ]
    },
    {
     "data": {
      "application/vnd.jupyter.widget-view+json": {
       "model_id": "f1410db9caac47b389463910caff34c6",
       "version_major": 2,
       "version_minor": 0
      },
      "text/plain": [
       "HBox(children=(VBox(children=(IntProgress(value=0, max=1000), HTML(value=''))), Box(children=(HTML(value=''),)…"
      ]
     },
     "metadata": {},
     "output_type": "display_data"
    },
    {
     "name": "stdout",
     "output_type": "stream",
     "text": [
      "Optimization restart 1/10, f = 224.87287326641513\n",
      "Optimization restart 2/10, f = 224.87287326676514\n",
      "Optimization restart 3/10, f = 224.8728732761474\n",
      "Optimization restart 4/10, f = 224.8728732675852\n",
      "Optimization restart 5/10, f = 224.87287333908307\n",
      "Optimization restart 6/10, f = 224.87287326764647\n",
      "Optimization restart 7/10, f = 224.87287326905957\n",
      "Optimization restart 8/10, f = 224.87287327291688\n",
      "Optimization restart 9/10, f = 224.87287326657662\n",
      "Optimization restart 10/10, f = 224.87287327330623\n",
      "We are at frame: 82\n"
     ]
    },
    {
     "data": {
      "application/vnd.jupyter.widget-view+json": {
       "model_id": "73f31078a0414925aac0ac3ea506e149",
       "version_major": 2,
       "version_minor": 0
      },
      "text/plain": [
       "HBox(children=(VBox(children=(IntProgress(value=0, max=1000), HTML(value=''))), Box(children=(HTML(value=''),)…"
      ]
     },
     "metadata": {},
     "output_type": "display_data"
    },
    {
     "name": "stdout",
     "output_type": "stream",
     "text": [
      "Optimization restart 1/10, f = 172.16571030537216\n",
      "Optimization restart 2/10, f = 172.16571030769344\n",
      "Optimization restart 3/10, f = 172.16571030544793\n",
      "Optimization restart 4/10, f = 172.1657103054671\n",
      "Optimization restart 5/10, f = 172.16571030697224\n",
      "Optimization restart 6/10, f = 172.1657103054013\n",
      "Optimization restart 7/10, f = 172.16571030538046\n",
      "Optimization restart 8/10, f = 172.1657103076828\n",
      "Optimization restart 9/10, f = 172.1657103078366\n",
      "Optimization restart 10/10, f = 172.16571030536238\n",
      "We are at frame: 83\n"
     ]
    },
    {
     "data": {
      "application/vnd.jupyter.widget-view+json": {
       "model_id": "e86c2d41ded543fb8c39828be1ba478a",
       "version_major": 2,
       "version_minor": 0
      },
      "text/plain": [
       "HBox(children=(VBox(children=(IntProgress(value=0, max=1000), HTML(value=''))), Box(children=(HTML(value=''),)…"
      ]
     },
     "metadata": {},
     "output_type": "display_data"
    },
    {
     "name": "stdout",
     "output_type": "stream",
     "text": [
      "Optimization restart 1/10, f = 105.94430431381014\n",
      "Optimization restart 2/10, f = 105.94430431250566\n",
      "Optimization restart 3/10, f = 105.94430431436069\n",
      "Optimization restart 4/10, f = 105.94430431198089\n",
      "Optimization restart 5/10, f = 105.9443043119525\n",
      "Optimization restart 6/10, f = 105.94430431196744\n",
      "Optimization restart 7/10, f = 105.94430431194967\n",
      "Optimization restart 8/10, f = 105.94430431199518\n",
      "Optimization restart 9/10, f = 105.94430431232226\n",
      "Optimization restart 10/10, f = 105.94430431194911\n",
      "We are at frame: 84\n"
     ]
    },
    {
     "data": {
      "application/vnd.jupyter.widget-view+json": {
       "model_id": "a1f831229c36438a8ff5508a23e50df4",
       "version_major": 2,
       "version_minor": 0
      },
      "text/plain": [
       "HBox(children=(VBox(children=(IntProgress(value=0, max=1000), HTML(value=''))), Box(children=(HTML(value=''),)…"
      ]
     },
     "metadata": {},
     "output_type": "display_data"
    },
    {
     "name": "stdout",
     "output_type": "stream",
     "text": [
      "Optimization restart 1/10, f = 76.77529124893591\n",
      "Optimization restart 2/10, f = 76.77529124891956\n",
      "Optimization restart 3/10, f = 76.77529124890654\n",
      "Optimization restart 4/10, f = 76.77529124890461\n",
      "Optimization restart 5/10, f = 76.77529124892172\n",
      "Optimization restart 6/10, f = 76.77529124993887\n",
      "Optimization restart 7/10, f = 76.77529124890421\n",
      "Optimization restart 8/10, f = 76.7752912489073\n",
      "Optimization restart 9/10, f = 76.77529124893542\n",
      "Optimization restart 10/10, f = 76.77529124918304\n",
      "We are at frame: 85\n"
     ]
    },
    {
     "data": {
      "application/vnd.jupyter.widget-view+json": {
       "model_id": "0f25e0316edc401aa7a06811b19eef40",
       "version_major": 2,
       "version_minor": 0
      },
      "text/plain": [
       "HBox(children=(VBox(children=(IntProgress(value=0, max=1000), HTML(value=''))), Box(children=(HTML(value=''),)…"
      ]
     },
     "metadata": {},
     "output_type": "display_data"
    },
    {
     "name": "stdout",
     "output_type": "stream",
     "text": [
      "Optimization restart 1/10, f = 118.58072804438427\n",
      "Optimization restart 2/10, f = 118.58072803902888\n",
      "Optimization restart 3/10, f = 118.58072803884221\n",
      "Optimization restart 4/10, f = 118.58072803866999\n",
      "Optimization restart 5/10, f = 118.58072803882249\n",
      "Optimization restart 6/10, f = 118.5807280468617\n",
      "Optimization restart 7/10, f = 118.58073479778605\n",
      "Optimization restart 8/10, f = 118.5807280387931\n",
      "Optimization restart 9/10, f = 118.58072803876192\n",
      "Optimization restart 10/10, f = 118.58072803879384\n",
      "We are at frame: 86\n"
     ]
    },
    {
     "data": {
      "application/vnd.jupyter.widget-view+json": {
       "model_id": "521c4f0a92d24b2c993ca2180ff72e60",
       "version_major": 2,
       "version_minor": 0
      },
      "text/plain": [
       "HBox(children=(VBox(children=(IntProgress(value=0, max=1000), HTML(value=''))), Box(children=(HTML(value=''),)…"
      ]
     },
     "metadata": {},
     "output_type": "display_data"
    },
    {
     "name": "stdout",
     "output_type": "stream",
     "text": [
      "Optimization restart 1/10, f = 152.39217715474686\n",
      "Optimization restart 2/10, f = 152.39217715497398\n",
      "Optimization restart 3/10, f = 152.39217716188085\n",
      "Optimization restart 4/10, f = 152.39217715936104\n",
      "Optimization restart 5/10, f = 332.56059988777747\n",
      "Optimization restart 6/10, f = 152.39217720578156\n",
      "Optimization restart 7/10, f = 152.39217715602928\n",
      "Optimization restart 8/10, f = 152.3921771555934\n",
      "Optimization restart 9/10, f = 152.39217715472907\n",
      "Optimization restart 10/10, f = 152.3921771547734\n",
      "We are at frame: 87\n"
     ]
    },
    {
     "data": {
      "application/vnd.jupyter.widget-view+json": {
       "model_id": "9a70ea42d3ef4394aa5ac9432096ba97",
       "version_major": 2,
       "version_minor": 0
      },
      "text/plain": [
       "HBox(children=(VBox(children=(IntProgress(value=0, max=1000), HTML(value=''))), Box(children=(HTML(value=''),)…"
      ]
     },
     "metadata": {},
     "output_type": "display_data"
    },
    {
     "name": "stdout",
     "output_type": "stream",
     "text": [
      "Optimization restart 1/10, f = 129.80065360865842\n",
      "Optimization restart 2/10, f = 129.80065360633523\n",
      "Optimization restart 3/10, f = 129.80065360752954\n",
      "Optimization restart 4/10, f = 129.8006536064155\n",
      "Optimization restart 5/10, f = 129.80065361252446\n",
      "Optimization restart 6/10, f = 129.80065360659157\n",
      "Optimization restart 7/10, f = 129.8006536068374\n",
      "Optimization restart 8/10, f = 129.80065360785363\n",
      "Optimization restart 9/10, f = 129.80065360866308\n",
      "Optimization restart 10/10, f = 129.80065360621967\n",
      "We are at frame: 88\n",
      "Size of X_train at df BR_0000051 is (0, 10) - to many missing values\n",
      "We are at frame: 89\n",
      "Size of X_train at df BR_0000052 is (0, 10) - to many missing values\n",
      "We are at frame: 90\n"
     ]
    },
    {
     "data": {
      "application/vnd.jupyter.widget-view+json": {
       "model_id": "fb3de1133aef4f64ae40829c366bf2b0",
       "version_major": 2,
       "version_minor": 0
      },
      "text/plain": [
       "HBox(children=(VBox(children=(IntProgress(value=0, max=1000), HTML(value=''))), Box(children=(HTML(value=''),)…"
      ]
     },
     "metadata": {},
     "output_type": "display_data"
    },
    {
     "name": "stdout",
     "output_type": "stream",
     "text": [
      "Optimization restart 1/10, f = 175.77450435803055\n",
      "Optimization restart 2/10, f = 175.77450435818068\n",
      "Optimization restart 3/10, f = 175.77450435783376\n",
      "Optimization restart 4/10, f = 175.77450435873024\n",
      "Optimization restart 5/10, f = 175.77450435777777\n",
      "Optimization restart 6/10, f = 175.77450435897043\n",
      "Optimization restart 7/10, f = 175.77450436642732\n",
      "Optimization restart 8/10, f = 175.7745043612513\n",
      "Optimization restart 9/10, f = 175.77450435835138\n",
      "Optimization restart 10/10, f = 175.77450435903972\n",
      "We are at frame: 91\n"
     ]
    },
    {
     "data": {
      "application/vnd.jupyter.widget-view+json": {
       "model_id": "713916f3ab694854ae371b3aabc58d5d",
       "version_major": 2,
       "version_minor": 0
      },
      "text/plain": [
       "HBox(children=(VBox(children=(IntProgress(value=0, max=1000), HTML(value=''))), Box(children=(HTML(value=''),)…"
      ]
     },
     "metadata": {},
     "output_type": "display_data"
    },
    {
     "name": "stdout",
     "output_type": "stream",
     "text": [
      "Optimization restart 1/10, f = 14.693524445209393\n",
      "Optimization restart 2/10, f = 14.6935220798999\n",
      "Optimization restart 3/10, f = 14.693522084993246\n",
      "Optimization restart 4/10, f = 14.693522081498031\n",
      "Optimization restart 5/10, f = 14.69352240683193\n",
      "Optimization restart 6/10, f = 14.693522071002423\n",
      "Optimization restart 7/10, f = 14.69352206420254\n",
      "Optimization restart 8/10, f = 14.693522134287365\n",
      "Optimization restart 9/10, f = 14.69352276001136\n",
      "Optimization restart 10/10, f = 14.693522181635842\n",
      "We are at frame: 92\n"
     ]
    },
    {
     "data": {
      "application/vnd.jupyter.widget-view+json": {
       "model_id": "6658728c64134ba885f34b2f1882e6b1",
       "version_major": 2,
       "version_minor": 0
      },
      "text/plain": [
       "HBox(children=(VBox(children=(IntProgress(value=0, max=1000), HTML(value=''))), Box(children=(HTML(value=''),)…"
      ]
     },
     "metadata": {},
     "output_type": "display_data"
    },
    {
     "name": "stdout",
     "output_type": "stream",
     "text": [
      "Optimization restart 1/10, f = 174.13995968928106\n",
      "Optimization restart 2/10, f = 174.13995970386122\n",
      "Optimization restart 3/10, f = 174.13995968632193\n",
      "Optimization restart 4/10, f = 174.1399596862761\n",
      "Optimization restart 5/10, f = 174.13995968686555\n",
      "Optimization restart 6/10, f = 174.13995968714073\n",
      "Optimization restart 7/10, f = 174.13995969119884\n",
      "Optimization restart 8/10, f = 174.13995968641206\n",
      "Optimization restart 9/10, f = 174.13995969031313\n",
      "Optimization restart 10/10, f = 174.13995968651693\n",
      "We are at frame: 93\n"
     ]
    },
    {
     "name": "stderr",
     "output_type": "stream",
     "text": [
      " C:\\Users\\marku\\Anaconda3\\lib\\site-packages\\scipy\\stats\\mstats_basic.py:509: RuntimeWarning:invalid value encountered in true_divide\n",
      " C:\\Users\\marku\\Anaconda3\\lib\\site-packages\\scipy\\stats\\_distn_infrastructure.py:877: RuntimeWarning:invalid value encountered in greater\n",
      " C:\\Users\\marku\\Anaconda3\\lib\\site-packages\\scipy\\stats\\_distn_infrastructure.py:877: RuntimeWarning:invalid value encountered in less\n",
      " C:\\Users\\marku\\Anaconda3\\lib\\site-packages\\scipy\\stats\\_distn_infrastructure.py:1831: RuntimeWarning:invalid value encountered in less_equal\n"
     ]
    },
    {
     "name": "stdout",
     "output_type": "stream",
     "text": [
      "Size of X_train at df BR_0000056 is (0, 10) - to many missing values\n",
      "We are at frame: 94\n"
     ]
    },
    {
     "data": {
      "application/vnd.jupyter.widget-view+json": {
       "model_id": "697525c5eefe463385061b501417398f",
       "version_major": 2,
       "version_minor": 0
      },
      "text/plain": [
       "HBox(children=(VBox(children=(IntProgress(value=0, max=1000), HTML(value=''))), Box(children=(HTML(value=''),)…"
      ]
     },
     "metadata": {},
     "output_type": "display_data"
    },
    {
     "name": "stdout",
     "output_type": "stream",
     "text": [
      "Optimization restart 1/10, f = 124.51544227388608\n",
      "Optimization restart 2/10, f = 124.5154422777831\n",
      "Optimization restart 3/10, f = 124.51544227405506\n",
      "Optimization restart 4/10, f = 124.51544227391032\n",
      "Optimization restart 5/10, f = 124.51544227431808\n",
      "Optimization restart 6/10, f = 124.51544227577214\n",
      "Optimization restart 7/10, f = 124.51544227389962\n",
      "Optimization restart 8/10, f = 124.51544227589984\n",
      "Optimization restart 9/10, f = 124.51544227441977\n",
      "Optimization restart 10/10, f = 124.51544227426118\n",
      "We are at frame: 95\n"
     ]
    },
    {
     "data": {
      "application/vnd.jupyter.widget-view+json": {
       "model_id": "cd87c5de0d4b4c7e993c4b89f8b59ebf",
       "version_major": 2,
       "version_minor": 0
      },
      "text/plain": [
       "HBox(children=(VBox(children=(IntProgress(value=0, max=1000), HTML(value=''))), Box(children=(HTML(value=''),)…"
      ]
     },
     "metadata": {},
     "output_type": "display_data"
    },
    {
     "name": "stdout",
     "output_type": "stream",
     "text": [
      "Optimization restart 1/10, f = 228.60850641327485\n",
      "Optimization restart 2/10, f = 228.60850639448424\n",
      "Optimization restart 3/10, f = 228.6085063949642\n",
      "Optimization restart 4/10, f = 228.60850639549267\n",
      "Optimization restart 5/10, f = 228.60850640525038\n",
      "Optimization restart 6/10, f = 228.60850639525242\n",
      "Optimization restart 7/10, f = 228.60850639449902\n",
      "Optimization restart 8/10, f = 228.6085063957579\n",
      "Optimization restart 9/10, f = 228.6085063952958\n",
      "Optimization restart 10/10, f = 228.60850639484366\n",
      "We are at frame: 96\n"
     ]
    },
    {
     "data": {
      "application/vnd.jupyter.widget-view+json": {
       "model_id": "4b2c52b72b61495fa4abe9e18f3629c0",
       "version_major": 2,
       "version_minor": 0
      },
      "text/plain": [
       "HBox(children=(VBox(children=(IntProgress(value=0, max=1000), HTML(value=''))), Box(children=(HTML(value=''),)…"
      ]
     },
     "metadata": {},
     "output_type": "display_data"
    },
    {
     "name": "stdout",
     "output_type": "stream",
     "text": [
      "Optimization restart 1/10, f = 176.81960663594876\n",
      "Optimization restart 2/10, f = 176.81960663580816\n",
      "Optimization restart 3/10, f = 176.81960678670802\n",
      "Optimization restart 4/10, f = 176.81960663588472\n",
      "Optimization restart 5/10, f = 176.81960663694224\n",
      "Optimization restart 6/10, f = 176.81960663741995\n",
      "Optimization restart 7/10, f = 176.81960663580423\n",
      "Optimization restart 8/10, f = 176.8196066357923\n",
      "Optimization restart 9/10, f = 176.81960665802552\n",
      "Optimization restart 10/10, f = 176.81960667819038\n",
      "We are at frame: 97\n"
     ]
    },
    {
     "data": {
      "application/vnd.jupyter.widget-view+json": {
       "model_id": "bf07404c975f41949d571c47f094980b",
       "version_major": 2,
       "version_minor": 0
      },
      "text/plain": [
       "HBox(children=(VBox(children=(IntProgress(value=0, max=1000), HTML(value=''))), Box(children=(HTML(value=''),)…"
      ]
     },
     "metadata": {},
     "output_type": "display_data"
    },
    {
     "name": "stdout",
     "output_type": "stream",
     "text": [
      "Optimization restart 1/10, f = 145.63690882542747\n",
      "Optimization restart 2/10, f = 145.63690882004693\n",
      "Optimization restart 3/10, f = 145.63690882076816\n",
      "Optimization restart 4/10, f = 145.63690882373547\n",
      "Optimization restart 5/10, f = 145.63690881998215\n",
      "Optimization restart 6/10, f = 145.6369088207406\n",
      "Optimization restart 7/10, f = 145.6369088199674\n",
      "Optimization restart 8/10, f = 145.6369088200062\n",
      "Optimization restart 9/10, f = 145.6369088200395\n",
      "Optimization restart 10/10, f = 145.63690882899976\n",
      "We are at frame: 98\n"
     ]
    },
    {
     "data": {
      "application/vnd.jupyter.widget-view+json": {
       "model_id": "d379d59bc8a94a42923bb8ae6982e933",
       "version_major": 2,
       "version_minor": 0
      },
      "text/plain": [
       "HBox(children=(VBox(children=(IntProgress(value=0, max=1000), HTML(value=''))), Box(children=(HTML(value=''),)…"
      ]
     },
     "metadata": {},
     "output_type": "display_data"
    },
    {
     "name": "stdout",
     "output_type": "stream",
     "text": [
      "Optimization restart 1/10, f = 224.65393882991114\n",
      "Optimization restart 2/10, f = 224.653938827813\n",
      "Optimization restart 3/10, f = 224.65393882756607\n",
      "Optimization restart 4/10, f = 224.6539388381825\n",
      "Optimization restart 5/10, f = 224.6539397217067\n",
      "Optimization restart 6/10, f = 224.65393882869182\n",
      "Optimization restart 7/10, f = 224.65393882760907\n",
      "Optimization restart 8/10, f = 224.6539388278148\n",
      "Optimization restart 9/10, f = 224.65393882784457\n",
      "Optimization restart 10/10, f = 224.65393883354932\n",
      "We are at frame: 99\n"
     ]
    },
    {
     "data": {
      "application/vnd.jupyter.widget-view+json": {
       "model_id": "acbd1024609d4d64b620004080caa470",
       "version_major": 2,
       "version_minor": 0
      },
      "text/plain": [
       "HBox(children=(VBox(children=(IntProgress(value=0, max=1000), HTML(value=''))), Box(children=(HTML(value=''),)…"
      ]
     },
     "metadata": {},
     "output_type": "display_data"
    },
    {
     "name": "stdout",
     "output_type": "stream",
     "text": [
      "Optimization restart 1/10, f = 65.3838124195054\n",
      "Optimization restart 2/10, f = 65.38381241946294\n",
      "Optimization restart 3/10, f = 65.38381241952989\n",
      "Optimization restart 4/10, f = 65.38381241946561\n",
      "Optimization restart 5/10, f = 65.38381241947418\n",
      "Optimization restart 6/10, f = 65.38381241957313\n",
      "Optimization restart 7/10, f = 65.38381242128477\n",
      "Optimization restart 8/10, f = 65.38381241947238\n",
      "Optimization restart 9/10, f = 65.38381243330564\n",
      "Optimization restart 10/10, f = 65.383812431396\n",
      "We are at frame: 100\n"
     ]
    },
    {
     "data": {
      "application/vnd.jupyter.widget-view+json": {
       "model_id": "73bbc0e74ddb492685af4847f003248c",
       "version_major": 2,
       "version_minor": 0
      },
      "text/plain": [
       "HBox(children=(VBox(children=(IntProgress(value=0, max=1000), HTML(value=''))), Box(children=(HTML(value=''),)…"
      ]
     },
     "metadata": {},
     "output_type": "display_data"
    },
    {
     "name": "stdout",
     "output_type": "stream",
     "text": [
      "Optimization restart 1/10, f = 208.9043147075085\n",
      "Optimization restart 2/10, f = 208.90431470779288\n",
      "Optimization restart 3/10, f = 208.90431470756332\n",
      "Optimization restart 4/10, f = 208.90431519381713\n",
      "Optimization restart 5/10, f = 208.90431471078787\n",
      "Optimization restart 6/10, f = 208.9043147076714\n",
      "Optimization restart 7/10, f = 208.9043147075334\n",
      "Optimization restart 8/10, f = 208.90431471651812\n",
      "Optimization restart 9/10, f = 208.9043147086683\n",
      "Optimization restart 10/10, f = 208.90431470777705\n",
      "We are at frame: 101\n"
     ]
    },
    {
     "data": {
      "application/vnd.jupyter.widget-view+json": {
       "model_id": "94a4c52628424d7c92d6611e10079832",
       "version_major": 2,
       "version_minor": 0
      },
      "text/plain": [
       "HBox(children=(VBox(children=(IntProgress(value=0, max=1000), HTML(value=''))), Box(children=(HTML(value=''),)…"
      ]
     },
     "metadata": {},
     "output_type": "display_data"
    },
    {
     "name": "stdout",
     "output_type": "stream",
     "text": [
      "Optimization restart 1/10, f = 243.68944038104692\n",
      "Optimization restart 2/10, f = 243.68944038156286\n",
      "Optimization restart 3/10, f = 243.68944037971605\n",
      "Optimization restart 4/10, f = 243.68944037952687\n",
      "Optimization restart 5/10, f = 243.68944037904885\n",
      "Optimization restart 6/10, f = 243.68944038548506\n",
      "Optimization restart 7/10, f = 243.6894403811564\n",
      "Optimization restart 8/10, f = 243.68944037912394\n",
      "Optimization restart 9/10, f = 243.68944037950936\n",
      "Optimization restart 10/10, f = 243.6894403843619\n",
      "We are at frame: 102\n"
     ]
    },
    {
     "data": {
      "application/vnd.jupyter.widget-view+json": {
       "model_id": "cd707055c83a481e823f7dbcf324d491",
       "version_major": 2,
       "version_minor": 0
      },
      "text/plain": [
       "HBox(children=(VBox(children=(IntProgress(value=0, max=1000), HTML(value=''))), Box(children=(HTML(value=''),)…"
      ]
     },
     "metadata": {},
     "output_type": "display_data"
    },
    {
     "name": "stdout",
     "output_type": "stream",
     "text": [
      "Optimization restart 1/10, f = 46.51939784816236\n",
      "Optimization restart 2/10, f = 46.51939784794281\n",
      "Optimization restart 3/10, f = 46.51939784799636\n",
      "Optimization restart 4/10, f = 46.51939785325364\n",
      "Optimization restart 5/10, f = 46.51939785381335\n",
      "Optimization restart 6/10, f = 46.51939784808495\n",
      "Optimization restart 7/10, f = 46.51939784779428\n",
      "Optimization restart 8/10, f = 46.519397850203546\n",
      "Optimization restart 9/10, f = 46.51939784785319\n",
      "Optimization restart 10/10, f = 46.51939784794196\n",
      "We are at frame: 103\n"
     ]
    },
    {
     "data": {
      "application/vnd.jupyter.widget-view+json": {
       "model_id": "00f2fabe1d914f37818fcaa3bcb7df20",
       "version_major": 2,
       "version_minor": 0
      },
      "text/plain": [
       "HBox(children=(VBox(children=(IntProgress(value=0, max=1000), HTML(value=''))), Box(children=(HTML(value=''),)…"
      ]
     },
     "metadata": {},
     "output_type": "display_data"
    },
    {
     "name": "stdout",
     "output_type": "stream",
     "text": [
      "Optimization restart 1/10, f = 166.58379804256074\n",
      "Optimization restart 2/10, f = 166.58379804239732\n",
      "Optimization restart 3/10, f = 166.58379804322243\n",
      "Optimization restart 4/10, f = 166.5837980423323\n",
      "Optimization restart 5/10, f = 166.58379804373257\n",
      "Optimization restart 6/10, f = 166.58379804234465\n",
      "Optimization restart 7/10, f = 166.58379804246155\n",
      "Optimization restart 8/10, f = 166.58379805155244\n",
      "Optimization restart 9/10, f = 166.58379804232956\n",
      "Optimization restart 10/10, f = 166.5837980425983\n",
      "We are at frame: 104\n"
     ]
    },
    {
     "data": {
      "application/vnd.jupyter.widget-view+json": {
       "model_id": "b062fce1e91547edadf4b1293a34f78b",
       "version_major": 2,
       "version_minor": 0
      },
      "text/plain": [
       "HBox(children=(VBox(children=(IntProgress(value=0, max=1000), HTML(value=''))), Box(children=(HTML(value=''),)…"
      ]
     },
     "metadata": {},
     "output_type": "display_data"
    },
    {
     "name": "stdout",
     "output_type": "stream",
     "text": [
      "Optimization restart 1/10, f = 115.04691922823861\n",
      "Optimization restart 2/10, f = 115.04691930339375\n",
      "Optimization restart 3/10, f = 115.04691921505633\n",
      "Optimization restart 4/10, f = 115.04691920944069\n",
      "Optimization restart 5/10, f = 115.04691920944609\n",
      "Optimization restart 6/10, f = 115.04691920944201\n",
      "Optimization restart 7/10, f = 115.04691920940593\n",
      "Optimization restart 8/10, f = 115.04691923328215\n",
      "Optimization restart 9/10, f = 115.04691920942585\n",
      "Optimization restart 10/10, f = 115.04691921068039\n",
      "We are at frame: 105\n"
     ]
    },
    {
     "data": {
      "application/vnd.jupyter.widget-view+json": {
       "model_id": "1d11af03fd9b4af88dd9f6ab77abc790",
       "version_major": 2,
       "version_minor": 0
      },
      "text/plain": [
       "HBox(children=(VBox(children=(IntProgress(value=0, max=1000), HTML(value=''))), Box(children=(HTML(value=''),)…"
      ]
     },
     "metadata": {},
     "output_type": "display_data"
    },
    {
     "name": "stdout",
     "output_type": "stream",
     "text": [
      "Optimization restart 1/10, f = 90.43101771055117\n",
      "Optimization restart 2/10, f = 90.43101771064954\n",
      "Optimization restart 3/10, f = 90.43101771060805\n",
      "Optimization restart 4/10, f = 90.43101771066887\n",
      "Optimization restart 5/10, f = 90.43101789439123\n",
      "Optimization restart 6/10, f = 90.4310177106907\n",
      "Optimization restart 7/10, f = 90.4310177106679\n",
      "Optimization restart 8/10, f = 90.43101771067421\n",
      "Optimization restart 9/10, f = 90.43101771087592\n",
      "Optimization restart 10/10, f = 90.43101886116074\n",
      "We are at frame: 106\n"
     ]
    },
    {
     "data": {
      "application/vnd.jupyter.widget-view+json": {
       "model_id": "a74b0bb053c74ce7abefe417fbfae28c",
       "version_major": 2,
       "version_minor": 0
      },
      "text/plain": [
       "HBox(children=(VBox(children=(IntProgress(value=0, max=1000), HTML(value=''))), Box(children=(HTML(value=''),)…"
      ]
     },
     "metadata": {},
     "output_type": "display_data"
    },
    {
     "name": "stdout",
     "output_type": "stream",
     "text": [
      "Optimization restart 1/10, f = 24.660761608834967\n",
      "Optimization restart 2/10, f = 24.660761694201767\n",
      "Optimization restart 3/10, f = 24.66076159196188\n",
      "Optimization restart 4/10, f = 24.66076158666182\n",
      "Optimization restart 5/10, f = 24.660761661835622\n",
      "Optimization restart 6/10, f = 24.660761590835513\n",
      "Optimization restart 7/10, f = 24.66076155562933\n",
      "Optimization restart 8/10, f = 24.66076171289481\n",
      "Optimization restart 9/10, f = 24.66076159821452\n",
      "Optimization restart 10/10, f = 24.660779873168792\n",
      "We are at frame: 107\n",
      "Size of X_train at df BR_0000074 is (0, 10) - to many missing values\n",
      "We are at frame: 108\n",
      "Size of X_train at df BR_0000075 is (0, 10) - to many missing values\n",
      "We are at frame: 109\n"
     ]
    },
    {
     "data": {
      "application/vnd.jupyter.widget-view+json": {
       "model_id": "5a59af414821422a961a125b84509c77",
       "version_major": 2,
       "version_minor": 0
      },
      "text/plain": [
       "HBox(children=(VBox(children=(IntProgress(value=0, max=1000), HTML(value=''))), Box(children=(HTML(value=''),)…"
      ]
     },
     "metadata": {},
     "output_type": "display_data"
    },
    {
     "name": "stdout",
     "output_type": "stream",
     "text": [
      "Optimization restart 1/10, f = 16.620599891744387\n",
      "Optimization restart 2/10, f = 16.620599918852605\n",
      "Optimization restart 3/10, f = 16.620599891753166\n",
      "Optimization restart 4/10, f = 16.620599891764442\n",
      "Optimization restart 5/10, f = 16.620599894358865\n",
      "Optimization restart 6/10, f = 16.620599891748256\n",
      "Optimization restart 7/10, f = 16.620599892737644\n",
      "Optimization restart 8/10, f = 16.6205998917412\n",
      "Optimization restart 9/10, f = 16.620599891762946\n",
      "Optimization restart 10/10, f = 16.62059989175839\n",
      "We are at frame: 110\n"
     ]
    },
    {
     "data": {
      "application/vnd.jupyter.widget-view+json": {
       "model_id": "69e8c06b72754d9eb8985c5ad7c09de9",
       "version_major": 2,
       "version_minor": 0
      },
      "text/plain": [
       "HBox(children=(VBox(children=(IntProgress(value=0, max=1000), HTML(value=''))), Box(children=(HTML(value=''),)…"
      ]
     },
     "metadata": {},
     "output_type": "display_data"
    },
    {
     "name": "stdout",
     "output_type": "stream",
     "text": [
      "Optimization restart 1/10, f = 7.211777197312773\n",
      "Optimization restart 2/10, f = 7.211777159281812\n",
      "Optimization restart 3/10, f = 7.211777164751927\n",
      "Optimization restart 4/10, f = 7.211778232267711\n",
      "Optimization restart 5/10, f = 7.21177721976184\n",
      "Optimization restart 6/10, f = 7.211777682251805\n",
      "Optimization restart 7/10, f = 7.211777151357816\n",
      "Optimization restart 8/10, f = 12.446362960036357\n",
      "Optimization restart 9/10, f = 7.211777163629838\n",
      "Optimization restart 10/10, f = 7.211777322068251\n",
      "We are at frame: 111\n"
     ]
    },
    {
     "data": {
      "application/vnd.jupyter.widget-view+json": {
       "model_id": "962305751b074745ae2fa20fb5c9f5f3",
       "version_major": 2,
       "version_minor": 0
      },
      "text/plain": [
       "HBox(children=(VBox(children=(IntProgress(value=0, max=1000), HTML(value=''))), Box(children=(HTML(value=''),)…"
      ]
     },
     "metadata": {},
     "output_type": "display_data"
    },
    {
     "name": "stdout",
     "output_type": "stream",
     "text": [
      "Optimization restart 1/10, f = 48.1816150841196\n",
      "Optimization restart 2/10, f = 48.18161508432051\n",
      "Optimization restart 3/10, f = 48.181615084968826\n",
      "Optimization restart 4/10, f = 48.1816150841218\n",
      "Optimization restart 5/10, f = 48.18161508413252\n",
      "Optimization restart 6/10, f = 48.18161508431845\n",
      "Optimization restart 7/10, f = 48.18161508412062\n",
      "Optimization restart 8/10, f = 48.18161508411069\n",
      "Optimization restart 9/10, f = 48.18161508424126\n",
      "Optimization restart 10/10, f = 48.18161508411505\n",
      "We are at frame: 112\n"
     ]
    },
    {
     "data": {
      "application/vnd.jupyter.widget-view+json": {
       "model_id": "e6a28ac90e2f4f96895560cf7e2f5938",
       "version_major": 2,
       "version_minor": 0
      },
      "text/plain": [
       "HBox(children=(VBox(children=(IntProgress(value=0, max=1000), HTML(value=''))), Box(children=(HTML(value=''),)…"
      ]
     },
     "metadata": {},
     "output_type": "display_data"
    },
    {
     "name": "stdout",
     "output_type": "stream",
     "text": [
      "Optimization restart 1/10, f = 90.22581213531035\n",
      "Optimization restart 2/10, f = 90.22581213531939\n",
      "Optimization restart 3/10, f = 90.22581213531205\n",
      "Optimization restart 4/10, f = 90.22581213565766\n",
      "Optimization restart 5/10, f = 90.22581213531109\n",
      "Optimization restart 6/10, f = 90.2258121353595\n",
      "Optimization restart 7/10, f = 90.22581213544946\n",
      "Optimization restart 8/10, f = 90.22581214716566\n",
      "Optimization restart 9/10, f = 90.22581219123799\n",
      "Optimization restart 10/10, f = 90.22581213591027\n",
      "We are at frame: 113\n"
     ]
    },
    {
     "data": {
      "application/vnd.jupyter.widget-view+json": {
       "model_id": "fbe370de5535459da84fbe22aaebb60d",
       "version_major": 2,
       "version_minor": 0
      },
      "text/plain": [
       "HBox(children=(VBox(children=(IntProgress(value=0, max=1000), HTML(value=''))), Box(children=(HTML(value=''),)…"
      ]
     },
     "metadata": {},
     "output_type": "display_data"
    },
    {
     "name": "stdout",
     "output_type": "stream",
     "text": [
      "Optimization restart 1/10, f = 49.71818508900279\n",
      "Optimization restart 2/10, f = 49.71818508869774\n",
      "Optimization restart 3/10, f = 49.71818508808835\n",
      "Optimization restart 4/10, f = 49.718185087538586\n",
      "Optimization restart 5/10, f = 237.39389138579116\n",
      "Optimization restart 6/10, f = 49.71818508751733\n",
      "Optimization restart 7/10, f = 49.7181850875173\n",
      "Optimization restart 8/10, f = 49.71818508893101\n",
      "Optimization restart 9/10, f = 49.71818508755631\n",
      "Optimization restart 10/10, f = 49.718185087509426\n",
      "We are at frame: 114\n",
      "Size of X_train at df BR_0000085 is (0, 10) - to many missing values\n",
      "We are at frame: 115\n"
     ]
    },
    {
     "data": {
      "application/vnd.jupyter.widget-view+json": {
       "model_id": "9e7eaaa385ea44ed9f0097e69c7f71a0",
       "version_major": 2,
       "version_minor": 0
      },
      "text/plain": [
       "HBox(children=(VBox(children=(IntProgress(value=0, max=1000), HTML(value=''))), Box(children=(HTML(value=''),)…"
      ]
     },
     "metadata": {},
     "output_type": "display_data"
    },
    {
     "name": "stdout",
     "output_type": "stream",
     "text": [
      "Optimization restart 1/10, f = 113.88368801899904\n",
      "Optimization restart 2/10, f = 113.88368803445945\n",
      "Optimization restart 3/10, f = 113.88368801904787\n",
      "Optimization restart 4/10, f = 113.88368801904221\n",
      "Optimization restart 5/10, f = 113.88368802067406\n",
      "Optimization restart 6/10, f = 113.8836880195729\n",
      "Optimization restart 7/10, f = 113.88368801894248\n",
      "Optimization restart 8/10, f = 113.8836880189529\n",
      "Optimization restart 9/10, f = 113.88368801894254\n",
      "Optimization restart 10/10, f = 113.88368801899625\n",
      "We are at frame: 116\n"
     ]
    },
    {
     "data": {
      "application/vnd.jupyter.widget-view+json": {
       "model_id": "bbeab0f45e1b4ddd892e32a93aa9cf36",
       "version_major": 2,
       "version_minor": 0
      },
      "text/plain": [
       "HBox(children=(VBox(children=(IntProgress(value=0, max=1000), HTML(value=''))), Box(children=(HTML(value=''),)…"
      ]
     },
     "metadata": {},
     "output_type": "display_data"
    },
    {
     "name": "stdout",
     "output_type": "stream",
     "text": [
      "Optimization restart 1/10, f = 132.38635101726624\n",
      "Optimization restart 2/10, f = 132.38635099949016\n",
      "Optimization restart 3/10, f = 132.3863509982565\n",
      "Optimization restart 4/10, f = 132.386350998256\n",
      "Optimization restart 5/10, f = 132.3863509983671\n",
      "Optimization restart 6/10, f = 132.38635099826752\n",
      "Optimization restart 7/10, f = 132.38635099845527\n",
      "Optimization restart 8/10, f = 132.38635099835147\n",
      "Optimization restart 9/10, f = 132.38635101280087\n",
      "Optimization restart 10/10, f = 132.38635100040688\n",
      "We are at frame: 117\n"
     ]
    },
    {
     "data": {
      "application/vnd.jupyter.widget-view+json": {
       "model_id": "6a0bcc14714c4ae19f2f6565e7ab10e3",
       "version_major": 2,
       "version_minor": 0
      },
      "text/plain": [
       "HBox(children=(VBox(children=(IntProgress(value=0, max=1000), HTML(value=''))), Box(children=(HTML(value=''),)…"
      ]
     },
     "metadata": {},
     "output_type": "display_data"
    },
    {
     "name": "stdout",
     "output_type": "stream",
     "text": [
      "Optimization restart 1/10, f = 109.60630631052251\n",
      "Optimization restart 2/10, f = 109.60630631012194\n",
      "Optimization restart 3/10, f = 109.60630631125909\n",
      "Optimization restart 4/10, f = 109.60630631033004\n",
      "Optimization restart 5/10, f = 109.60630630996016\n",
      "Optimization restart 6/10, f = 109.60630631054326\n",
      "Optimization restart 7/10, f = 109.6063063156262\n",
      "Optimization restart 8/10, f = 109.60630631020445\n",
      "Optimization restart 9/10, f = 109.60630630996735\n",
      "Optimization restart 10/10, f = 109.60630631032555\n",
      "We are at frame: 118\n"
     ]
    },
    {
     "data": {
      "application/vnd.jupyter.widget-view+json": {
       "model_id": "1fb7ff51a5b947e98152b17563aad4f3",
       "version_major": 2,
       "version_minor": 0
      },
      "text/plain": [
       "HBox(children=(VBox(children=(IntProgress(value=0, max=1000), HTML(value=''))), Box(children=(HTML(value=''),)…"
      ]
     },
     "metadata": {},
     "output_type": "display_data"
    },
    {
     "name": "stdout",
     "output_type": "stream",
     "text": [
      "Optimization restart 1/10, f = 137.57490963184773\n",
      "Optimization restart 2/10, f = 159.4082204076343\n",
      "Optimization restart 3/10, f = 137.57490963166896\n",
      "Optimization restart 4/10, f = 137.574909636818\n",
      "Optimization restart 5/10, f = 137.57490963874812\n",
      "Optimization restart 6/10, f = 137.57490963463496\n",
      "Optimization restart 7/10, f = 137.57490963166254\n",
      "Optimization restart 8/10, f = 137.57490963163144\n",
      "Optimization restart 9/10, f = 137.57490963193635\n",
      "Optimization restart 10/10, f = 137.57490963165185\n",
      "We are at frame: 119\n"
     ]
    },
    {
     "data": {
      "application/vnd.jupyter.widget-view+json": {
       "model_id": "1f7eb53083b84bf08666dea3dc5cca98",
       "version_major": 2,
       "version_minor": 0
      },
      "text/plain": [
       "HBox(children=(VBox(children=(IntProgress(value=0, max=1000), HTML(value=''))), Box(children=(HTML(value=''),)…"
      ]
     },
     "metadata": {},
     "output_type": "display_data"
    },
    {
     "name": "stdout",
     "output_type": "stream",
     "text": [
      "Optimization restart 1/10, f = 142.07607413558497\n",
      "Optimization restart 2/10, f = 142.0760741875917\n",
      "Optimization restart 3/10, f = 142.07607413580763\n",
      "Optimization restart 4/10, f = 142.07607413528729\n",
      "Optimization restart 5/10, f = 170.48988710289973\n",
      "Optimization restart 6/10, f = 142.0760741353061\n",
      "Optimization restart 7/10, f = 142.07607413629054\n",
      "Optimization restart 8/10, f = 142.07607413952252\n",
      "Optimization restart 9/10, f = 142.07607413535933\n",
      "Optimization restart 10/10, f = 142.07607413530997\n",
      "We are at frame: 120\n"
     ]
    },
    {
     "data": {
      "application/vnd.jupyter.widget-view+json": {
       "model_id": "e579bab03d1e461595113f9b81fefe0e",
       "version_major": 2,
       "version_minor": 0
      },
      "text/plain": [
       "HBox(children=(VBox(children=(IntProgress(value=0, max=1000), HTML(value=''))), Box(children=(HTML(value=''),)…"
      ]
     },
     "metadata": {},
     "output_type": "display_data"
    },
    {
     "name": "stdout",
     "output_type": "stream",
     "text": [
      "Optimization restart 1/10, f = 120.04721994241801\n",
      "Optimization restart 2/10, f = 120.04721994393205\n",
      "Optimization restart 3/10, f = 120.0472199423331\n",
      "Optimization restart 4/10, f = 120.04721994238923\n",
      "Optimization restart 5/10, f = 120.04721994382939\n",
      "Optimization restart 6/10, f = 120.0472199432945\n",
      "Optimization restart 7/10, f = 120.04721994594038\n",
      "Optimization restart 8/10, f = 120.04721994362728\n",
      "Optimization restart 9/10, f = 120.04721999257235\n",
      "Optimization restart 10/10, f = 120.04721994364914\n",
      "We are at frame: 121\n"
     ]
    },
    {
     "data": {
      "application/vnd.jupyter.widget-view+json": {
       "model_id": "0c7cbcc047264e949fdb564f38d34cab",
       "version_major": 2,
       "version_minor": 0
      },
      "text/plain": [
       "HBox(children=(VBox(children=(IntProgress(value=0, max=1000), HTML(value=''))), Box(children=(HTML(value=''),)…"
      ]
     },
     "metadata": {},
     "output_type": "display_data"
    },
    {
     "name": "stdout",
     "output_type": "stream",
     "text": [
      "Optimization restart 1/10, f = 125.92494919017443\n",
      "Optimization restart 2/10, f = 125.9249491785332\n",
      "Optimization restart 3/10, f = 125.92494917989887\n",
      "Optimization restart 4/10, f = 125.92494917840511\n",
      "Optimization restart 5/10, f = 125.92494917877005\n",
      "Optimization restart 6/10, f = 125.92494917839257\n",
      "Optimization restart 7/10, f = 125.92494917861796\n",
      "Optimization restart 8/10, f = 125.92494917861814\n",
      "Optimization restart 9/10, f = 125.92494918014815\n",
      "Optimization restart 10/10, f = 125.92494917839042\n",
      "We are at frame: 122\n"
     ]
    },
    {
     "data": {
      "application/vnd.jupyter.widget-view+json": {
       "model_id": "5124047740e642a18d6a28d46c749eae",
       "version_major": 2,
       "version_minor": 0
      },
      "text/plain": [
       "HBox(children=(VBox(children=(IntProgress(value=0, max=1000), HTML(value=''))), Box(children=(HTML(value=''),)…"
      ]
     },
     "metadata": {},
     "output_type": "display_data"
    },
    {
     "name": "stdout",
     "output_type": "stream",
     "text": [
      "Optimization restart 1/10, f = 178.94254057560613\n",
      "Optimization restart 2/10, f = 178.9425405837994\n",
      "Optimization restart 3/10, f = 178.9425405506515\n",
      "Optimization restart 4/10, f = 178.9425405504597\n",
      "Optimization restart 5/10, f = 178.94254055170023\n",
      "Optimization restart 6/10, f = 178.94254065167684\n",
      "Optimization restart 7/10, f = 178.9425405509021\n",
      "Optimization restart 8/10, f = 178.94254055057868\n",
      "Optimization restart 9/10, f = 178.94254106519082\n",
      "Optimization restart 10/10, f = 178.94254055419407\n",
      "We are at frame: 123\n"
     ]
    },
    {
     "data": {
      "application/vnd.jupyter.widget-view+json": {
       "model_id": "8ebcc72a77ec4bfb963e0c515751edd9",
       "version_major": 2,
       "version_minor": 0
      },
      "text/plain": [
       "HBox(children=(VBox(children=(IntProgress(value=0, max=1000), HTML(value=''))), Box(children=(HTML(value=''),)…"
      ]
     },
     "metadata": {},
     "output_type": "display_data"
    },
    {
     "name": "stdout",
     "output_type": "stream",
     "text": [
      "Optimization restart 1/10, f = 169.5927677699558\n",
      "Optimization restart 2/10, f = 201.49620585344653\n",
      "Optimization restart 3/10, f = 169.59276777118922\n",
      "Optimization restart 4/10, f = 169.5927677702823\n",
      "Optimization restart 5/10, f = 169.5927677700284\n",
      "Optimization restart 6/10, f = 169.59276784594414\n",
      "Optimization restart 7/10, f = 169.59276798740464\n",
      "Optimization restart 8/10, f = 169.59276777121784\n",
      "Optimization restart 9/10, f = 169.59276778236472\n",
      "Optimization restart 10/10, f = 169.59276777007952\n",
      "We are at frame: 124\n"
     ]
    },
    {
     "data": {
      "application/vnd.jupyter.widget-view+json": {
       "model_id": "5d379968daad4ad290212d2b79702d1c",
       "version_major": 2,
       "version_minor": 0
      },
      "text/plain": [
       "HBox(children=(VBox(children=(IntProgress(value=0, max=1000), HTML(value=''))), Box(children=(HTML(value=''),)…"
      ]
     },
     "metadata": {},
     "output_type": "display_data"
    },
    {
     "name": "stdout",
     "output_type": "stream",
     "text": [
      "Optimization restart 1/10, f = 106.26077821968991\n",
      "Optimization restart 2/10, f = 106.26077821997919\n",
      "Optimization restart 3/10, f = 106.26077822007613\n",
      "Optimization restart 4/10, f = 106.26077822809799\n",
      "Optimization restart 5/10, f = 106.26077822530358\n",
      "Optimization restart 6/10, f = 106.26077822023314\n",
      "Optimization restart 7/10, f = 106.26077822001176\n",
      "Optimization restart 8/10, f = 106.26077821971862\n",
      "Optimization restart 9/10, f = 106.26077821974525\n",
      "Optimization restart 10/10, f = 128.33018829231114\n",
      "We are at frame: 125\n"
     ]
    },
    {
     "data": {
      "application/vnd.jupyter.widget-view+json": {
       "model_id": "87baf196c7964aeab11e88bbe94ce159",
       "version_major": 2,
       "version_minor": 0
      },
      "text/plain": [
       "HBox(children=(VBox(children=(IntProgress(value=0, max=1000), HTML(value=''))), Box(children=(HTML(value=''),)…"
      ]
     },
     "metadata": {},
     "output_type": "display_data"
    },
    {
     "name": "stdout",
     "output_type": "stream",
     "text": [
      "Optimization restart 1/10, f = 132.36812150906204\n",
      "Optimization restart 2/10, f = 132.36812150911135\n",
      "Optimization restart 3/10, f = 132.36812150910927\n",
      "Optimization restart 4/10, f = 132.368121509323\n",
      "Optimization restart 5/10, f = 132.36812151059235\n",
      "Optimization restart 6/10, f = 132.36812150932775\n",
      "Optimization restart 7/10, f = 132.3681215091525\n",
      "Optimization restart 8/10, f = 132.3681215091068\n",
      "Optimization restart 9/10, f = 132.36812152192857\n",
      "Optimization restart 10/10, f = 132.36812150912468\n",
      "We are at frame: 126\n"
     ]
    },
    {
     "data": {
      "application/vnd.jupyter.widget-view+json": {
       "model_id": "c16ba02854f94fb59951d78e2a2f1c47",
       "version_major": 2,
       "version_minor": 0
      },
      "text/plain": [
       "HBox(children=(VBox(children=(IntProgress(value=0, max=1000), HTML(value=''))), Box(children=(HTML(value=''),)…"
      ]
     },
     "metadata": {},
     "output_type": "display_data"
    },
    {
     "name": "stdout",
     "output_type": "stream",
     "text": [
      "Optimization restart 1/10, f = 166.0240132813878\n",
      "Optimization restart 2/10, f = 204.126191270149\n",
      "Optimization restart 3/10, f = 166.02401328379742\n",
      "Optimization restart 4/10, f = 166.02401328132635\n",
      "Optimization restart 5/10, f = 166.02401328944498\n",
      "Optimization restart 6/10, f = 166.02401328117855\n",
      "Optimization restart 7/10, f = 166.02401328334423\n",
      "Optimization restart 8/10, f = 166.02401328125495\n",
      "Optimization restart 9/10, f = 166.02401328128545\n",
      "Optimization restart 10/10, f = 166.02401328261524\n",
      "We are at frame: 127\n"
     ]
    },
    {
     "data": {
      "application/vnd.jupyter.widget-view+json": {
       "model_id": "9732084d9b254c7a90ffac0ec74dfee5",
       "version_major": 2,
       "version_minor": 0
      },
      "text/plain": [
       "HBox(children=(VBox(children=(IntProgress(value=0, max=1000), HTML(value=''))), Box(children=(HTML(value=''),)…"
      ]
     },
     "metadata": {},
     "output_type": "display_data"
    },
    {
     "name": "stdout",
     "output_type": "stream",
     "text": [
      "Optimization restart 1/10, f = 60.842525222990425\n",
      "Optimization restart 2/10, f = 60.84252521025948\n",
      "Optimization restart 3/10, f = 60.84252521251138\n",
      "Optimization restart 4/10, f = 60.842525210369544\n",
      "Optimization restart 5/10, f = 60.842525210280115\n",
      "Optimization restart 6/10, f = 60.842525210264235\n",
      "Optimization restart 7/10, f = 60.84252521026671\n",
      "Optimization restart 8/10, f = 60.8425252107979\n",
      "Optimization restart 9/10, f = 60.84252521029096\n",
      "Optimization restart 10/10, f = 60.842525210482584\n",
      "We are at frame: 128\n"
     ]
    },
    {
     "data": {
      "application/vnd.jupyter.widget-view+json": {
       "model_id": "2fc5d4f5727f48e3a7db409425325505",
       "version_major": 2,
       "version_minor": 0
      },
      "text/plain": [
       "HBox(children=(VBox(children=(IntProgress(value=0, max=1000), HTML(value=''))), Box(children=(HTML(value=''),)…"
      ]
     },
     "metadata": {},
     "output_type": "display_data"
    },
    {
     "name": "stdout",
     "output_type": "stream",
     "text": [
      "Optimization restart 1/10, f = 140.18933921956085\n",
      "Optimization restart 2/10, f = 140.18933922106658\n",
      "Optimization restart 3/10, f = 140.18933922580356\n",
      "Optimization restart 4/10, f = 140.18933922339897\n",
      "Optimization restart 5/10, f = 140.18933921956813\n",
      "Optimization restart 6/10, f = 140.18933921998973\n",
      "Optimization restart 7/10, f = 140.1893392195446\n",
      "Optimization restart 8/10, f = 140.1893392212817\n",
      "Optimization restart 9/10, f = 140.18933921954863\n",
      "Optimization restart 10/10, f = 140.18933922084324\n",
      "We are at frame: 129\n"
     ]
    },
    {
     "data": {
      "application/vnd.jupyter.widget-view+json": {
       "model_id": "feb4207bc4194e8b92adc540ff08ee44",
       "version_major": 2,
       "version_minor": 0
      },
      "text/plain": [
       "HBox(children=(VBox(children=(IntProgress(value=0, max=1000), HTML(value=''))), Box(children=(HTML(value=''),)…"
      ]
     },
     "metadata": {},
     "output_type": "display_data"
    },
    {
     "name": "stdout",
     "output_type": "stream",
     "text": [
      "Optimization restart 1/10, f = 68.81834149316552\n",
      "Optimization restart 2/10, f = 68.81830418930008\n",
      "Optimization restart 3/10, f = 68.81830503142498\n",
      "Optimization restart 4/10, f = 68.81830666354992\n",
      "Optimization restart 5/10, f = 68.8183041689595\n",
      "Optimization restart 6/10, f = 68.81830423456307\n",
      "Optimization restart 7/10, f = 68.81830880332296\n",
      "Optimization restart 8/10, f = 68.81830415762407\n",
      "Optimization restart 9/10, f = 68.81830592173264\n",
      "Optimization restart 10/10, f = 68.81830723947348\n",
      "We are at frame: 130\n"
     ]
    },
    {
     "data": {
      "application/vnd.jupyter.widget-view+json": {
       "model_id": "ef45f65d80a941eaa4a891f250b3a89b",
       "version_major": 2,
       "version_minor": 0
      },
      "text/plain": [
       "HBox(children=(VBox(children=(IntProgress(value=0, max=1000), HTML(value=''))), Box(children=(HTML(value=''),)…"
      ]
     },
     "metadata": {},
     "output_type": "display_data"
    },
    {
     "name": "stdout",
     "output_type": "stream",
     "text": [
      "Optimization restart 1/10, f = 81.03308392600776\n",
      "Optimization restart 2/10, f = 81.03308392597015\n",
      "Optimization restart 3/10, f = 81.03308393551966\n",
      "Optimization restart 4/10, f = 81.0330839259069\n",
      "Optimization restart 5/10, f = 81.03308392786566\n",
      "Optimization restart 6/10, f = 81.03308392660718\n",
      "Optimization restart 7/10, f = 81.03308392591862\n",
      "Optimization restart 8/10, f = 81.03308392597017\n",
      "Optimization restart 9/10, f = 81.03308393355277\n",
      "Optimization restart 10/10, f = 81.033083925904\n",
      "We are at frame: 131\n"
     ]
    },
    {
     "data": {
      "application/vnd.jupyter.widget-view+json": {
       "model_id": "e65c258cbcca4f33a22c4e66e40010c9",
       "version_major": 2,
       "version_minor": 0
      },
      "text/plain": [
       "HBox(children=(VBox(children=(IntProgress(value=0, max=1000), HTML(value=''))), Box(children=(HTML(value=''),)…"
      ]
     },
     "metadata": {},
     "output_type": "display_data"
    },
    {
     "name": "stdout",
     "output_type": "stream",
     "text": [
      "Optimization restart 1/10, f = 150.5798283210666\n",
      "Optimization restart 2/10, f = 150.57982822565776\n",
      "Optimization restart 3/10, f = 150.57982822562118\n",
      "Optimization restart 4/10, f = 150.57982823004605\n",
      "Optimization restart 5/10, f = 150.5798282258343\n",
      "Optimization restart 6/10, f = 150.57982823950869\n",
      "Optimization restart 7/10, f = 150.57982822923842\n",
      "Optimization restart 8/10, f = 150.5798282323573\n",
      "Optimization restart 9/10, f = 150.57982823133483\n",
      "Optimization restart 10/10, f = 150.57982822562207\n",
      "We are at frame: 132\n"
     ]
    },
    {
     "data": {
      "application/vnd.jupyter.widget-view+json": {
       "model_id": "ead72f934ec94946b54060e9919da6c8",
       "version_major": 2,
       "version_minor": 0
      },
      "text/plain": [
       "HBox(children=(VBox(children=(IntProgress(value=0, max=1000), HTML(value=''))), Box(children=(HTML(value=''),)…"
      ]
     },
     "metadata": {},
     "output_type": "display_data"
    },
    {
     "name": "stdout",
     "output_type": "stream",
     "text": [
      "Optimization restart 1/10, f = 62.07034836745724\n",
      "Optimization restart 2/10, f = 62.07034836732879\n",
      "Optimization restart 3/10, f = 64.12559187016527\n",
      "Optimization restart 4/10, f = 62.07034836871611\n",
      "Optimization restart 5/10, f = 62.07034836726454\n",
      "Optimization restart 6/10, f = 62.07034836729039\n",
      "Optimization restart 7/10, f = 64.12559181352862\n",
      "Optimization restart 8/10, f = 62.070348367491746\n",
      "Optimization restart 9/10, f = 62.070348367500905\n",
      "Optimization restart 10/10, f = 62.07034836740323\n",
      "We are at frame: 133\n"
     ]
    },
    {
     "data": {
      "application/vnd.jupyter.widget-view+json": {
       "model_id": "9ce4fabed9c7486f94cc390d500630eb",
       "version_major": 2,
       "version_minor": 0
      },
      "text/plain": [
       "HBox(children=(VBox(children=(IntProgress(value=0, max=1000), HTML(value=''))), Box(children=(HTML(value=''),)…"
      ]
     },
     "metadata": {},
     "output_type": "display_data"
    },
    {
     "name": "stdout",
     "output_type": "stream",
     "text": [
      "Optimization restart 1/10, f = 52.72160335605403\n",
      "Optimization restart 2/10, f = 52.721603358279005\n",
      "Optimization restart 3/10, f = 54.8297660476064\n",
      "Optimization restart 4/10, f = 52.72160335601698\n",
      "Optimization restart 5/10, f = 52.72160336834658\n",
      "Optimization restart 6/10, f = 52.721603356912766\n",
      "Optimization restart 7/10, f = 54.82976606369038\n",
      "Optimization restart 8/10, f = 52.721603355987085\n",
      "Optimization restart 9/10, f = 52.72160335595486\n",
      "Optimization restart 10/10, f = 52.72160335595921\n",
      "We are at frame: 134\n"
     ]
    },
    {
     "data": {
      "application/vnd.jupyter.widget-view+json": {
       "model_id": "e2c0cc8fcd4f4ad8809763a6645c63fd",
       "version_major": 2,
       "version_minor": 0
      },
      "text/plain": [
       "HBox(children=(VBox(children=(IntProgress(value=0, max=1000), HTML(value=''))), Box(children=(HTML(value=''),)…"
      ]
     },
     "metadata": {},
     "output_type": "display_data"
    },
    {
     "name": "stdout",
     "output_type": "stream",
     "text": [
      "Optimization restart 1/10, f = 99.0009520270235\n",
      "Optimization restart 2/10, f = 133.47807265606087\n",
      "Optimization restart 3/10, f = 99.0009520270541\n",
      "Optimization restart 4/10, f = 99.00095202712072\n",
      "Optimization restart 5/10, f = 99.00095202697071\n",
      "Optimization restart 6/10, f = 99.00095202700683\n",
      "Optimization restart 7/10, f = 99.00095202703646\n",
      "Optimization restart 8/10, f = 99.00095202701674\n",
      "Optimization restart 9/10, f = 99.00095202706956\n",
      "Optimization restart 10/10, f = 99.00095202701218\n",
      "We are at frame: 135\n"
     ]
    },
    {
     "data": {
      "application/vnd.jupyter.widget-view+json": {
       "model_id": "81651c6268c4410aa502ff19914fb647",
       "version_major": 2,
       "version_minor": 0
      },
      "text/plain": [
       "HBox(children=(VBox(children=(IntProgress(value=0, max=1000), HTML(value=''))), Box(children=(HTML(value=''),)…"
      ]
     },
     "metadata": {},
     "output_type": "display_data"
    },
    {
     "name": "stdout",
     "output_type": "stream",
     "text": [
      "Optimization restart 1/10, f = 129.88249612880003\n",
      "Optimization restart 2/10, f = 129.8824961604068\n",
      "Optimization restart 3/10, f = 129.8824961290444\n",
      "Optimization restart 4/10, f = 129.88249613862308\n",
      "Optimization restart 5/10, f = 129.882496128808\n",
      "Optimization restart 6/10, f = 129.8824961289812\n",
      "Optimization restart 7/10, f = 129.8824961309909\n",
      "Optimization restart 8/10, f = 129.88249618955467\n",
      "Optimization restart 9/10, f = 129.8824961311707\n",
      "Optimization restart 10/10, f = 129.88249612879176\n",
      "We are at frame: 136\n"
     ]
    },
    {
     "data": {
      "application/vnd.jupyter.widget-view+json": {
       "model_id": "64b456f104944d2c85c85460e2446340",
       "version_major": 2,
       "version_minor": 0
      },
      "text/plain": [
       "HBox(children=(VBox(children=(IntProgress(value=0, max=1000), HTML(value=''))), Box(children=(HTML(value=''),)…"
      ]
     },
     "metadata": {},
     "output_type": "display_data"
    },
    {
     "name": "stdout",
     "output_type": "stream",
     "text": [
      "Optimization restart 1/10, f = 148.89987083291598\n",
      "Optimization restart 2/10, f = 148.89987083206054\n",
      "Optimization restart 3/10, f = 148.8998708321451\n",
      "Optimization restart 4/10, f = 148.89987085009852\n",
      "Optimization restart 5/10, f = 148.89987083239907\n",
      "Optimization restart 6/10, f = 148.8998708319016\n",
      "Optimization restart 7/10, f = 148.8998708329052\n",
      "Optimization restart 8/10, f = 148.8998708396851\n",
      "Optimization restart 9/10, f = 148.89987089969537\n",
      "Optimization restart 10/10, f = 148.89987083208214\n",
      "We are at frame: 137\n"
     ]
    },
    {
     "data": {
      "application/vnd.jupyter.widget-view+json": {
       "model_id": "7c84878051194688b1fcb1082d69e9e9",
       "version_major": 2,
       "version_minor": 0
      },
      "text/plain": [
       "HBox(children=(VBox(children=(IntProgress(value=0, max=1000), HTML(value=''))), Box(children=(HTML(value=''),)…"
      ]
     },
     "metadata": {},
     "output_type": "display_data"
    },
    {
     "name": "stdout",
     "output_type": "stream",
     "text": [
      "Optimization restart 1/10, f = 106.3695436603266\n",
      "Optimization restart 2/10, f = 106.3695436602826\n",
      "Optimization restart 3/10, f = 106.36954366029269\n",
      "Optimization restart 4/10, f = 106.36954366049434\n",
      "Optimization restart 5/10, f = 106.36954366097692\n",
      "Optimization restart 6/10, f = 106.369543660248\n",
      "Optimization restart 7/10, f = 106.36954366038984\n",
      "Optimization restart 8/10, f = 106.36954366010494\n",
      "Optimization restart 9/10, f = 106.36954366016383\n",
      "Optimization restart 10/10, f = 106.36954366092841\n",
      "We are at frame: 138\n"
     ]
    },
    {
     "data": {
      "application/vnd.jupyter.widget-view+json": {
       "model_id": "6e52124ff86644069867c560c00d263f",
       "version_major": 2,
       "version_minor": 0
      },
      "text/plain": [
       "HBox(children=(VBox(children=(IntProgress(value=0, max=1000), HTML(value=''))), Box(children=(HTML(value=''),)…"
      ]
     },
     "metadata": {},
     "output_type": "display_data"
    },
    {
     "name": "stdout",
     "output_type": "stream",
     "text": [
      "Optimization restart 1/10, f = 151.0356853542944\n",
      "Optimization restart 2/10, f = 151.03568535444748\n",
      "Optimization restart 3/10, f = 151.03568534042034\n",
      "Optimization restart 4/10, f = 151.03568534224075\n",
      "Optimization restart 5/10, f = 168.66570704240695\n",
      "Optimization restart 6/10, f = 151.03568534085633\n",
      "Optimization restart 7/10, f = 151.03568534137602\n",
      "Optimization restart 8/10, f = 151.03568534012445\n",
      "Optimization restart 9/10, f = 151.03568534021878\n",
      "Optimization restart 10/10, f = 151.03568534457008\n",
      "We are at frame: 139\n"
     ]
    },
    {
     "data": {
      "application/vnd.jupyter.widget-view+json": {
       "model_id": "4282b806aba34039bd830496a794be74",
       "version_major": 2,
       "version_minor": 0
      },
      "text/plain": [
       "HBox(children=(VBox(children=(IntProgress(value=0, max=1000), HTML(value=''))), Box(children=(HTML(value=''),)…"
      ]
     },
     "metadata": {},
     "output_type": "display_data"
    },
    {
     "name": "stdout",
     "output_type": "stream",
     "text": [
      "Optimization restart 1/10, f = 172.7331155251835\n",
      "Optimization restart 2/10, f = 172.73311552418602\n",
      "Optimization restart 3/10, f = 172.73311553701362\n",
      "Optimization restart 4/10, f = 172.73311552915004\n",
      "Optimization restart 5/10, f = 172.73311552350293\n",
      "Optimization restart 6/10, f = 172.7331155234549\n",
      "Optimization restart 7/10, f = 172.7331155290808\n",
      "Optimization restart 8/10, f = 172.73311552690416\n",
      "Optimization restart 9/10, f = 172.7331155235512\n",
      "Optimization restart 10/10, f = 172.7331155233926\n",
      "We are at frame: 140\n"
     ]
    },
    {
     "data": {
      "application/vnd.jupyter.widget-view+json": {
       "model_id": "d519b33cf2fd44fda09be3653981db8b",
       "version_major": 2,
       "version_minor": 0
      },
      "text/plain": [
       "HBox(children=(VBox(children=(IntProgress(value=0, max=1000), HTML(value=''))), Box(children=(HTML(value=''),)…"
      ]
     },
     "metadata": {},
     "output_type": "display_data"
    },
    {
     "name": "stdout",
     "output_type": "stream",
     "text": [
      "Optimization restart 1/10, f = 111.64806227488782\n",
      "Optimization restart 2/10, f = 111.64806232913536\n",
      "Optimization restart 3/10, f = 111.64806227488113\n",
      "Optimization restart 4/10, f = 111.64806227487618\n",
      "Optimization restart 5/10, f = 111.64806227501097\n",
      "Optimization restart 6/10, f = 111.64806227492087\n",
      "Optimization restart 7/10, f = 111.6480622769974\n",
      "Optimization restart 8/10, f = 111.64806227584978\n",
      "Optimization restart 9/10, f = 111.64806227563164\n",
      "Optimization restart 10/10, f = 111.64806227487247\n",
      "We are at frame: 141\n"
     ]
    },
    {
     "data": {
      "application/vnd.jupyter.widget-view+json": {
       "model_id": "e99472c97d204c7392e06b73a5afe98c",
       "version_major": 2,
       "version_minor": 0
      },
      "text/plain": [
       "HBox(children=(VBox(children=(IntProgress(value=0, max=1000), HTML(value=''))), Box(children=(HTML(value=''),)…"
      ]
     },
     "metadata": {},
     "output_type": "display_data"
    },
    {
     "name": "stdout",
     "output_type": "stream",
     "text": [
      "Optimization restart 1/10, f = 98.7266430986833\n",
      "Optimization restart 2/10, f = 98.72664309945776\n",
      "Optimization restart 3/10, f = 98.72664309851325\n",
      "Optimization restart 4/10, f = 98.72664309905015\n",
      "Optimization restart 5/10, f = 98.72664311016257\n",
      "Optimization restart 6/10, f = 98.72664309850471\n",
      "Optimization restart 7/10, f = 98.72664309853195\n",
      "Optimization restart 8/10, f = 98.72664310164062\n",
      "Optimization restart 9/10, f = 98.72664309856455\n",
      "Optimization restart 10/10, f = 98.72664309867118\n",
      "We are at frame: 142\n"
     ]
    },
    {
     "data": {
      "application/vnd.jupyter.widget-view+json": {
       "model_id": "4bd5980561b448c2b3a7460d04436a32",
       "version_major": 2,
       "version_minor": 0
      },
      "text/plain": [
       "HBox(children=(VBox(children=(IntProgress(value=0, max=1000), HTML(value=''))), Box(children=(HTML(value=''),)…"
      ]
     },
     "metadata": {},
     "output_type": "display_data"
    },
    {
     "name": "stdout",
     "output_type": "stream",
     "text": [
      "Optimization restart 1/10, f = 128.5740558773104\n",
      "Optimization restart 2/10, f = 128.57405587797976\n",
      "Optimization restart 3/10, f = 128.57405587787895\n",
      "Optimization restart 4/10, f = 128.57405587686998\n",
      "Optimization restart 5/10, f = 128.57405587688453\n",
      "Optimization restart 6/10, f = 128.57405600481303\n",
      "Optimization restart 7/10, f = 128.57405587650828\n",
      "Optimization restart 8/10, f = 128.57405587652397\n",
      "Optimization restart 9/10, f = 128.57405587668376\n",
      "Optimization restart 10/10, f = 128.5740558807014\n",
      "We are at frame: 143\n"
     ]
    },
    {
     "data": {
      "application/vnd.jupyter.widget-view+json": {
       "model_id": "2b4576200b2a4bb08e9fc76eff294353",
       "version_major": 2,
       "version_minor": 0
      },
      "text/plain": [
       "HBox(children=(VBox(children=(IntProgress(value=0, max=1000), HTML(value=''))), Box(children=(HTML(value=''),)…"
      ]
     },
     "metadata": {},
     "output_type": "display_data"
    },
    {
     "name": "stdout",
     "output_type": "stream",
     "text": [
      "Optimization restart 1/10, f = 9.067952285568916\n",
      "Optimization restart 2/10, f = 9.067952213274198\n",
      "Optimization restart 3/10, f = 9.067952249204307\n",
      "Optimization restart 4/10, f = 9.067953517226337\n",
      "Optimization restart 5/10, f = 9.067953158460616\n",
      "Optimization restart 6/10, f = 9.067952476018379\n",
      "Optimization restart 7/10, f = 9.06795262367558\n",
      "Optimization restart 8/10, f = 9.067952209886364\n",
      "Optimization restart 9/10, f = 9.599861389279939\n",
      "Optimization restart 10/10, f = 9.599851872603244\n",
      "We are at frame: 144\n"
     ]
    },
    {
     "data": {
      "application/vnd.jupyter.widget-view+json": {
       "model_id": "4bc0f753791b4bed8cbc9cc788d3728d",
       "version_major": 2,
       "version_minor": 0
      },
      "text/plain": [
       "HBox(children=(VBox(children=(IntProgress(value=0, max=1000), HTML(value=''))), Box(children=(HTML(value=''),)…"
      ]
     },
     "metadata": {},
     "output_type": "display_data"
    },
    {
     "name": "stdout",
     "output_type": "stream",
     "text": [
      "Optimization restart 1/10, f = 61.49022263046354\n",
      "Optimization restart 2/10, f = 61.49022263046857\n",
      "Optimization restart 3/10, f = 61.49022263072704\n",
      "Optimization restart 4/10, f = 61.49022263046491\n",
      "Optimization restart 5/10, f = 61.49022263355716\n",
      "Optimization restart 6/10, f = 61.49022263078842\n",
      "Optimization restart 7/10, f = 61.49022263046666\n",
      "Optimization restart 8/10, f = 63.63602998290112\n",
      "Optimization restart 9/10, f = 61.4902226304644\n",
      "Optimization restart 10/10, f = 61.49022263046374\n",
      "We are at frame: 145\n"
     ]
    },
    {
     "data": {
      "application/vnd.jupyter.widget-view+json": {
       "model_id": "79d347ec46894742aa69d4ee9d7fea05",
       "version_major": 2,
       "version_minor": 0
      },
      "text/plain": [
       "HBox(children=(VBox(children=(IntProgress(value=0, max=1000), HTML(value=''))), Box(children=(HTML(value=''),)…"
      ]
     },
     "metadata": {},
     "output_type": "display_data"
    },
    {
     "name": "stdout",
     "output_type": "stream",
     "text": [
      "Optimization restart 1/10, f = 130.88752355013165\n",
      "Optimization restart 2/10, f = 130.8875235508093\n",
      "Optimization restart 3/10, f = 130.88752355025505\n",
      "Optimization restart 4/10, f = 130.88752355414272\n",
      "Optimization restart 5/10, f = 130.8875235516352\n",
      "Optimization restart 6/10, f = 130.88752356464093\n",
      "Optimization restart 7/10, f = 130.88752355277427\n",
      "Optimization restart 8/10, f = 130.88752355011053\n",
      "Optimization restart 9/10, f = 130.88752355168992\n",
      "Optimization restart 10/10, f = 130.88752355136006\n",
      "We are at frame: 146\n"
     ]
    },
    {
     "data": {
      "application/vnd.jupyter.widget-view+json": {
       "model_id": "cfd887de07824a99bbd4dd94f81bde2f",
       "version_major": 2,
       "version_minor": 0
      },
      "text/plain": [
       "HBox(children=(VBox(children=(IntProgress(value=0, max=1000), HTML(value=''))), Box(children=(HTML(value=''),)…"
      ]
     },
     "metadata": {},
     "output_type": "display_data"
    },
    {
     "name": "stdout",
     "output_type": "stream",
     "text": [
      "Optimization restart 1/10, f = 113.88129916403221\n",
      "Optimization restart 2/10, f = 157.96824314084432\n",
      "Optimization restart 3/10, f = 113.88129915487943\n",
      "Optimization restart 4/10, f = 113.88129915585583\n",
      "Optimization restart 5/10, f = 113.88129915488418\n",
      "Optimization restart 6/10, f = 113.88129915641565\n",
      "Optimization restart 7/10, f = 113.88129916073919\n",
      "Optimization restart 8/10, f = 113.881299154868\n",
      "Optimization restart 9/10, f = 113.88129915487393\n",
      "Optimization restart 10/10, f = 113.88129915604844\n",
      "We are at frame: 147\n"
     ]
    },
    {
     "data": {
      "application/vnd.jupyter.widget-view+json": {
       "model_id": "1083eda2255248359d05417c5a16ec1c",
       "version_major": 2,
       "version_minor": 0
      },
      "text/plain": [
       "HBox(children=(VBox(children=(IntProgress(value=0, max=1000), HTML(value=''))), Box(children=(HTML(value=''),)…"
      ]
     },
     "metadata": {},
     "output_type": "display_data"
    },
    {
     "name": "stdout",
     "output_type": "stream",
     "text": [
      "Optimization restart 1/10, f = 121.51879006855094\n",
      "Optimization restart 2/10, f = 121.51879023885287\n",
      "Optimization restart 3/10, f = 121.51879006817441\n",
      "Optimization restart 4/10, f = 121.51879007047182\n",
      "Optimization restart 5/10, f = 121.51879007004314\n",
      "Optimization restart 6/10, f = 121.51879007000075\n",
      "Optimization restart 7/10, f = 121.5187900754219\n",
      "Optimization restart 8/10, f = 121.5187900682435\n",
      "Optimization restart 9/10, f = 121.51879007164268\n",
      "Optimization restart 10/10, f = 121.51879006826077\n",
      "We are at frame: 148\n"
     ]
    },
    {
     "data": {
      "application/vnd.jupyter.widget-view+json": {
       "model_id": "049103fd4bec4c6283939078f6b56c8b",
       "version_major": 2,
       "version_minor": 0
      },
      "text/plain": [
       "HBox(children=(VBox(children=(IntProgress(value=0, max=1000), HTML(value=''))), Box(children=(HTML(value=''),)…"
      ]
     },
     "metadata": {},
     "output_type": "display_data"
    },
    {
     "name": "stdout",
     "output_type": "stream",
     "text": [
      "Optimization restart 1/10, f = 74.33150534858223\n",
      "Optimization restart 2/10, f = 80.63917913927448\n",
      "Optimization restart 3/10, f = 74.33150528892108\n",
      "Optimization restart 4/10, f = 74.33150522971127\n",
      "Optimization restart 5/10, f = 74.3315057460916\n",
      "Optimization restart 6/10, f = 74.3315060753882\n",
      "Optimization restart 7/10, f = 74.3315055418725\n",
      "Optimization restart 8/10, f = 74.33150571359948\n",
      "Optimization restart 9/10, f = 74.33150564355013\n",
      "Optimization restart 10/10, f = 74.33150818426228\n",
      "We are at frame: 149\n"
     ]
    },
    {
     "data": {
      "application/vnd.jupyter.widget-view+json": {
       "model_id": "9ccb5791ec2f402893d17d2b449150bf",
       "version_major": 2,
       "version_minor": 0
      },
      "text/plain": [
       "HBox(children=(VBox(children=(IntProgress(value=0, max=1000), HTML(value=''))), Box(children=(HTML(value=''),)…"
      ]
     },
     "metadata": {},
     "output_type": "display_data"
    },
    {
     "name": "stdout",
     "output_type": "stream",
     "text": [
      "Optimization restart 1/10, f = 122.05066663798213\n",
      "Optimization restart 2/10, f = 122.05066664607307\n",
      "Optimization restart 3/10, f = 122.05066663803531\n",
      "Optimization restart 4/10, f = 122.05066663799491\n",
      "Optimization restart 5/10, f = 122.0506666380117\n",
      "Optimization restart 6/10, f = 122.0506666385834\n",
      "Optimization restart 7/10, f = 122.0506666380285\n",
      "Optimization restart 8/10, f = 122.05066663847194\n",
      "Optimization restart 9/10, f = 122.05066663820838\n",
      "Optimization restart 10/10, f = 122.05066663818019\n",
      "We are at frame: 150\n"
     ]
    },
    {
     "data": {
      "application/vnd.jupyter.widget-view+json": {
       "model_id": "2b10f4afae074d0ba617b1914a532e01",
       "version_major": 2,
       "version_minor": 0
      },
      "text/plain": [
       "HBox(children=(VBox(children=(IntProgress(value=0, max=1000), HTML(value=''))), Box(children=(HTML(value=''),)…"
      ]
     },
     "metadata": {},
     "output_type": "display_data"
    },
    {
     "name": "stdout",
     "output_type": "stream",
     "text": [
      "Optimization restart 1/10, f = 126.80224475456137\n",
      "Optimization restart 2/10, f = 126.80224475469976\n",
      "Optimization restart 3/10, f = 126.80224490861528\n",
      "Optimization restart 4/10, f = 126.80224475452101\n",
      "Optimization restart 5/10, f = 126.80224475456153\n",
      "Optimization restart 6/10, f = 126.80224475450868\n",
      "Optimization restart 7/10, f = 126.80224475453011\n",
      "Optimization restart 8/10, f = 126.80224481458806\n",
      "Optimization restart 9/10, f = 126.80224475516042\n",
      "Optimization restart 10/10, f = 126.80224475457895\n",
      "We are at frame: 151\n"
     ]
    },
    {
     "data": {
      "application/vnd.jupyter.widget-view+json": {
       "model_id": "0c99e62794164560a666e49a20ea117b",
       "version_major": 2,
       "version_minor": 0
      },
      "text/plain": [
       "HBox(children=(VBox(children=(IntProgress(value=0, max=1000), HTML(value=''))), Box(children=(HTML(value=''),)…"
      ]
     },
     "metadata": {},
     "output_type": "display_data"
    },
    {
     "name": "stdout",
     "output_type": "stream",
     "text": [
      "Optimization restart 1/10, f = 102.19926975253426\n",
      "Optimization restart 2/10, f = 102.19926977115004\n",
      "Optimization restart 3/10, f = 102.19926978227805\n",
      "Optimization restart 4/10, f = 102.19926975233915\n",
      "Optimization restart 5/10, f = 102.19926975224982\n",
      "Optimization restart 6/10, f = 102.19926975215576\n",
      "Optimization restart 7/10, f = 102.19926975221048\n",
      "Optimization restart 8/10, f = 102.19926975229\n",
      "Optimization restart 9/10, f = 102.19926975219853\n",
      "Optimization restart 10/10, f = 102.19926975764767\n",
      "We are at frame: 152\n"
     ]
    },
    {
     "data": {
      "application/vnd.jupyter.widget-view+json": {
       "model_id": "7f0077bfaa984bbbb60182fa897b192f",
       "version_major": 2,
       "version_minor": 0
      },
      "text/plain": [
       "HBox(children=(VBox(children=(IntProgress(value=0, max=1000), HTML(value=''))), Box(children=(HTML(value=''),)…"
      ]
     },
     "metadata": {},
     "output_type": "display_data"
    },
    {
     "name": "stdout",
     "output_type": "stream",
     "text": [
      "Optimization restart 1/10, f = 23.596771344672913\n",
      "Optimization restart 2/10, f = 23.596771965321246\n",
      "Optimization restart 3/10, f = 23.596773213148705\n",
      "Optimization restart 4/10, f = 23.5967713690576\n",
      "Optimization restart 5/10, f = 23.596771414605406\n",
      "Optimization restart 6/10, f = 23.59677500558277\n",
      "Optimization restart 7/10, f = 23.596771450756908\n",
      "Optimization restart 8/10, f = 23.596771365204287\n",
      "Optimization restart 9/10, f = 23.596771350523777\n",
      "Optimization restart 10/10, f = 23.596778479688595\n",
      "We are at frame: 153\n"
     ]
    },
    {
     "data": {
      "application/vnd.jupyter.widget-view+json": {
       "model_id": "a6d8043988a741da85ea15869672a7f1",
       "version_major": 2,
       "version_minor": 0
      },
      "text/plain": [
       "HBox(children=(VBox(children=(IntProgress(value=0, max=1000), HTML(value=''))), Box(children=(HTML(value=''),)…"
      ]
     },
     "metadata": {},
     "output_type": "display_data"
    },
    {
     "name": "stdout",
     "output_type": "stream",
     "text": [
      "Optimization restart 1/10, f = 71.55121866188571\n",
      "Optimization restart 2/10, f = 71.55121866104264\n",
      "Optimization restart 3/10, f = 71.55121866562237\n",
      "Optimization restart 4/10, f = 71.55121866105881\n",
      "Optimization restart 5/10, f = 71.55121866104531\n",
      "Optimization restart 6/10, f = 71.55121866104257\n",
      "Optimization restart 7/10, f = 71.55121866118947\n",
      "Optimization restart 8/10, f = 71.5512186610433\n",
      "Optimization restart 9/10, f = 130.19714864086131\n",
      "Optimization restart 10/10, f = 71.55121866104756\n",
      "We are at frame: 154\n"
     ]
    },
    {
     "data": {
      "application/vnd.jupyter.widget-view+json": {
       "model_id": "1cefa064ac904074bc6c3b3d33b9b589",
       "version_major": 2,
       "version_minor": 0
      },
      "text/plain": [
       "HBox(children=(VBox(children=(IntProgress(value=0, max=1000), HTML(value=''))), Box(children=(HTML(value=''),)…"
      ]
     },
     "metadata": {},
     "output_type": "display_data"
    },
    {
     "name": "stdout",
     "output_type": "stream",
     "text": [
      "Optimization restart 1/10, f = 174.7759785440961\n",
      "Optimization restart 2/10, f = 174.775978544815\n",
      "Optimization restart 3/10, f = 174.77597854428046\n",
      "Optimization restart 4/10, f = 174.77597854425\n",
      "Optimization restart 5/10, f = 174.77597854425383\n",
      "Optimization restart 6/10, f = 174.7759785735104\n",
      "Optimization restart 7/10, f = 174.77597854455658\n",
      "Optimization restart 8/10, f = 174.77597854434103\n",
      "Optimization restart 9/10, f = 174.77597854412312\n",
      "Optimization restart 10/10, f = 174.7759785441977\n",
      "We are at frame: 155\n"
     ]
    },
    {
     "data": {
      "application/vnd.jupyter.widget-view+json": {
       "model_id": "fada454ab3f949ad86242b94f1d63e91",
       "version_major": 2,
       "version_minor": 0
      },
      "text/plain": [
       "HBox(children=(VBox(children=(IntProgress(value=0, max=1000), HTML(value=''))), Box(children=(HTML(value=''),)…"
      ]
     },
     "metadata": {},
     "output_type": "display_data"
    },
    {
     "name": "stdout",
     "output_type": "stream",
     "text": [
      "Optimization restart 1/10, f = 16.25085441033331\n",
      "Optimization restart 2/10, f = 16.250854409915323\n",
      "Optimization restart 3/10, f = 16.25085441031924\n",
      "Optimization restart 4/10, f = 16.250854409915227\n",
      "Optimization restart 5/10, f = 16.250854410142594\n",
      "Optimization restart 6/10, f = 16.250854410122457\n",
      "Optimization restart 7/10, f = 16.250854409946598\n",
      "Optimization restart 8/10, f = 16.250854410060036\n",
      "Optimization restart 9/10, f = 16.25085440993867\n",
      "Optimization restart 10/10, f = 16.250854409915558\n",
      "We are at frame: 156\n"
     ]
    },
    {
     "data": {
      "application/vnd.jupyter.widget-view+json": {
       "model_id": "d8add8f08c6e466a80a9df9eddfa1fbe",
       "version_major": 2,
       "version_minor": 0
      },
      "text/plain": [
       "HBox(children=(VBox(children=(IntProgress(value=0, max=1000), HTML(value=''))), Box(children=(HTML(value=''),)…"
      ]
     },
     "metadata": {},
     "output_type": "display_data"
    },
    {
     "name": "stdout",
     "output_type": "stream",
     "text": [
      "Optimization restart 1/10, f = 56.15795620265152\n",
      "Optimization restart 2/10, f = 56.15795621032588\n",
      "Optimization restart 3/10, f = 56.15795620268327\n",
      "Optimization restart 4/10, f = 56.157956202782465\n",
      "Optimization restart 5/10, f = 56.15795620312096\n",
      "Optimization restart 6/10, f = 56.15795620265107\n",
      "Optimization restart 7/10, f = 56.15795621200116\n",
      "Optimization restart 8/10, f = 56.15795620285063\n",
      "Optimization restart 9/10, f = 56.15795620268264\n",
      "Optimization restart 10/10, f = 56.157956203496404\n",
      "We are at frame: 157\n"
     ]
    },
    {
     "data": {
      "application/vnd.jupyter.widget-view+json": {
       "model_id": "d69bd7e0aff94179a195d63f9a41f797",
       "version_major": 2,
       "version_minor": 0
      },
      "text/plain": [
       "HBox(children=(VBox(children=(IntProgress(value=0, max=1000), HTML(value=''))), Box(children=(HTML(value=''),)…"
      ]
     },
     "metadata": {},
     "output_type": "display_data"
    },
    {
     "name": "stdout",
     "output_type": "stream",
     "text": [
      "Optimization restart 1/10, f = 131.29567307340187\n",
      "Optimization restart 2/10, f = 131.29567307328693\n",
      "Optimization restart 3/10, f = 131.29567307342793\n",
      "Optimization restart 4/10, f = 131.29567307592225\n",
      "Optimization restart 5/10, f = 131.29567307441707\n",
      "Optimization restart 6/10, f = 310.8590547260751\n",
      "Optimization restart 7/10, f = 131.2956730735442\n",
      "Optimization restart 8/10, f = 131.29567307433805\n",
      "Optimization restart 9/10, f = 131.2956730733225\n",
      "Optimization restart 10/10, f = 131.29567317040556\n",
      "We are at frame: 158\n"
     ]
    },
    {
     "data": {
      "application/vnd.jupyter.widget-view+json": {
       "model_id": "73343f2da62f4a9d8de0c6ff69ccef63",
       "version_major": 2,
       "version_minor": 0
      },
      "text/plain": [
       "HBox(children=(VBox(children=(IntProgress(value=0, max=1000), HTML(value=''))), Box(children=(HTML(value=''),)…"
      ]
     },
     "metadata": {},
     "output_type": "display_data"
    },
    {
     "name": "stdout",
     "output_type": "stream",
     "text": [
      "Optimization restart 1/10, f = 74.53575278311189\n",
      "Optimization restart 2/10, f = 74.53575278623023\n",
      "Optimization restart 3/10, f = 74.53575278304092\n",
      "Optimization restart 4/10, f = 74.5357527834652\n",
      "Optimization restart 5/10, f = 74.53575278306124\n",
      "Optimization restart 6/10, f = 74.535752784565\n",
      "Optimization restart 7/10, f = 74.53575278352302\n",
      "Optimization restart 8/10, f = 74.53575278401976\n",
      "Optimization restart 9/10, f = 74.53575278326863\n",
      "Optimization restart 10/10, f = 74.53575278326406\n",
      "We are at frame: 159\n",
      "Size of X_train at df BR_0000138 is (0, 10) - to many missing values\n",
      "We are at frame: 160\n"
     ]
    },
    {
     "data": {
      "application/vnd.jupyter.widget-view+json": {
       "model_id": "05105ff2397e4f5b81505937f57eff36",
       "version_major": 2,
       "version_minor": 0
      },
      "text/plain": [
       "HBox(children=(VBox(children=(IntProgress(value=0, max=1000), HTML(value=''))), Box(children=(HTML(value=''),)…"
      ]
     },
     "metadata": {},
     "output_type": "display_data"
    },
    {
     "name": "stdout",
     "output_type": "stream",
     "text": [
      "Optimization restart 1/10, f = 121.48619960899609\n",
      "Optimization restart 2/10, f = 121.48619960761718\n",
      "Optimization restart 3/10, f = 121.48619960820139\n",
      "Optimization restart 4/10, f = 121.48619960745843\n",
      "Optimization restart 5/10, f = 121.48619960749379\n",
      "Optimization restart 6/10, f = 121.48619960777907\n",
      "Optimization restart 7/10, f = 121.48619960745859\n",
      "Optimization restart 8/10, f = 121.48619961517281\n",
      "Optimization restart 9/10, f = 121.48619960871177\n",
      "Optimization restart 10/10, f = 121.48619961389167\n",
      "We are at frame: 161\n"
     ]
    },
    {
     "data": {
      "application/vnd.jupyter.widget-view+json": {
       "model_id": "d6d4e736b96047dda5e0c281a415d38a",
       "version_major": 2,
       "version_minor": 0
      },
      "text/plain": [
       "HBox(children=(VBox(children=(IntProgress(value=0, max=1000), HTML(value=''))), Box(children=(HTML(value=''),)…"
      ]
     },
     "metadata": {},
     "output_type": "display_data"
    },
    {
     "name": "stdout",
     "output_type": "stream",
     "text": [
      "Optimization restart 1/10, f = 141.22783420994733\n",
      "Optimization restart 2/10, f = 141.227834209742\n",
      "Optimization restart 3/10, f = 141.22783421225242\n",
      "Optimization restart 4/10, f = 141.22783421503533\n",
      "Optimization restart 5/10, f = 141.22783420990646\n",
      "Optimization restart 6/10, f = 141.22783421601514\n",
      "Optimization restart 7/10, f = 141.2278342097339\n",
      "Optimization restart 8/10, f = 141.22783420981096\n",
      "Optimization restart 9/10, f = 141.22783420975742\n",
      "Optimization restart 10/10, f = 141.2278342111485\n",
      "We are at frame: 162\n"
     ]
    },
    {
     "data": {
      "application/vnd.jupyter.widget-view+json": {
       "model_id": "8d1c3d5c382a46c29279dd572fef2ad7",
       "version_major": 2,
       "version_minor": 0
      },
      "text/plain": [
       "HBox(children=(VBox(children=(IntProgress(value=0, max=1000), HTML(value=''))), Box(children=(HTML(value=''),)…"
      ]
     },
     "metadata": {},
     "output_type": "display_data"
    },
    {
     "name": "stdout",
     "output_type": "stream",
     "text": [
      "Optimization restart 1/10, f = 116.45111195645231\n",
      "Optimization restart 2/10, f = 116.45111195732446\n",
      "Optimization restart 3/10, f = 116.45111195645964\n",
      "Optimization restart 4/10, f = 116.4511119570022\n",
      "Optimization restart 5/10, f = 116.45111195673047\n",
      "Optimization restart 6/10, f = 116.45111195653308\n",
      "Optimization restart 7/10, f = 116.4511119569046\n",
      "Optimization restart 8/10, f = 116.45111195645865\n",
      "Optimization restart 9/10, f = 116.45111197407822\n",
      "Optimization restart 10/10, f = 116.45111195928475\n",
      "We are at frame: 163\n"
     ]
    },
    {
     "data": {
      "application/vnd.jupyter.widget-view+json": {
       "model_id": "1618f856134f45389e59834df7044080",
       "version_major": 2,
       "version_minor": 0
      },
      "text/plain": [
       "HBox(children=(VBox(children=(IntProgress(value=0, max=1000), HTML(value=''))), Box(children=(HTML(value=''),)…"
      ]
     },
     "metadata": {},
     "output_type": "display_data"
    },
    {
     "name": "stdout",
     "output_type": "stream",
     "text": [
      "Optimization restart 1/10, f = 0.7365848716986987\n",
      "Optimization restart 2/10, f = 0.7365848716986985\n",
      "Optimization restart 3/10, f = 0.7365848718915435\n",
      "Optimization restart 4/10, f = 0.7365848716987118\n",
      "Optimization restart 5/10, f = 0.7365848717004002\n",
      "Optimization restart 6/10, f = 0.7365848719458792\n",
      "Optimization restart 7/10, f = 0.7365848716988002\n",
      "Optimization restart 8/10, f = 0.7365848717336818\n",
      "Optimization restart 9/10, f = 0.7365848717465121\n",
      "Optimization restart 10/10, f = 0.7365848717008585\n",
      "We are at frame: 164\n"
     ]
    },
    {
     "data": {
      "application/vnd.jupyter.widget-view+json": {
       "model_id": "450b02ada42b473688e553ac884f241d",
       "version_major": 2,
       "version_minor": 0
      },
      "text/plain": [
       "HBox(children=(VBox(children=(IntProgress(value=0, max=1000), HTML(value=''))), Box(children=(HTML(value=''),)…"
      ]
     },
     "metadata": {},
     "output_type": "display_data"
    },
    {
     "name": "stdout",
     "output_type": "stream",
     "text": [
      "Optimization restart 1/10, f = 76.67897645679463\n",
      "Optimization restart 2/10, f = 76.67897645697461\n",
      "Optimization restart 3/10, f = 76.67897645879161\n",
      "Optimization restart 4/10, f = 76.67897645692302\n",
      "Optimization restart 5/10, f = 76.67897645745677\n",
      "Optimization restart 6/10, f = 76.67897645745222\n",
      "Optimization restart 7/10, f = 76.6789764570932\n",
      "Optimization restart 8/10, f = 76.67897645671817\n",
      "Optimization restart 9/10, f = 76.67897646320299\n",
      "Optimization restart 10/10, f = 76.67897645700974\n",
      "We are at frame: 165\n"
     ]
    },
    {
     "data": {
      "application/vnd.jupyter.widget-view+json": {
       "model_id": "3066510ecbb342dea1cd45b3eacfd931",
       "version_major": 2,
       "version_minor": 0
      },
      "text/plain": [
       "HBox(children=(VBox(children=(IntProgress(value=0, max=1000), HTML(value=''))), Box(children=(HTML(value=''),)…"
      ]
     },
     "metadata": {},
     "output_type": "display_data"
    },
    {
     "name": "stdout",
     "output_type": "stream",
     "text": [
      "Optimization restart 1/10, f = 58.92847652633054\n",
      "Optimization restart 2/10, f = 58.92847652499256\n",
      "Optimization restart 3/10, f = 58.928476524814336\n",
      "Optimization restart 4/10, f = 58.928476524824966\n",
      "Optimization restart 5/10, f = 58.928476524830025\n",
      "Optimization restart 6/10, f = 58.92847652532077\n",
      "Optimization restart 7/10, f = 58.92847652607679\n",
      "Optimization restart 8/10, f = 58.928476525020486\n",
      "Optimization restart 9/10, f = 58.928476526169995\n",
      "Optimization restart 10/10, f = 58.9284765248146\n",
      "We are at frame: 166\n"
     ]
    },
    {
     "data": {
      "application/vnd.jupyter.widget-view+json": {
       "model_id": "8604d34d891b401780876d9859939a80",
       "version_major": 2,
       "version_minor": 0
      },
      "text/plain": [
       "HBox(children=(VBox(children=(IntProgress(value=0, max=1000), HTML(value=''))), Box(children=(HTML(value=''),)…"
      ]
     },
     "metadata": {},
     "output_type": "display_data"
    },
    {
     "name": "stdout",
     "output_type": "stream",
     "text": [
      "Optimization restart 1/10, f = 2.694682459277143\n",
      "Optimization restart 2/10, f = 2.6946823960539446\n",
      "Optimization restart 3/10, f = 2.694682330259422\n",
      "Optimization restart 4/10, f = 2.6946823508918607\n",
      "Optimization restart 5/10, f = 2.6946829419931024\n",
      "Optimization restart 6/10, f = 2.6946823331239944\n",
      "Optimization restart 7/10, f = 2.694682457035767\n",
      "Optimization restart 8/10, f = 2.69468271948866\n",
      "Optimization restart 9/10, f = 2.6946825812405706\n",
      "Optimization restart 10/10, f = 2.694683163781984\n",
      "We are at frame: 167\n"
     ]
    },
    {
     "data": {
      "application/vnd.jupyter.widget-view+json": {
       "model_id": "620a1f84c43845bcbfd6ed5acad9cf36",
       "version_major": 2,
       "version_minor": 0
      },
      "text/plain": [
       "HBox(children=(VBox(children=(IntProgress(value=0, max=1000), HTML(value=''))), Box(children=(HTML(value=''),)…"
      ]
     },
     "metadata": {},
     "output_type": "display_data"
    },
    {
     "name": "stdout",
     "output_type": "stream",
     "text": [
      "Optimization restart 1/10, f = 133.3095905981922\n",
      "Optimization restart 2/10, f = 296.4365230366095\n",
      "Optimization restart 3/10, f = 133.30959059693396\n",
      "Optimization restart 4/10, f = 133.30959059689897\n",
      "Optimization restart 5/10, f = 133.30959061608013\n",
      "Optimization restart 6/10, f = 133.30959059706734\n",
      "Optimization restart 7/10, f = 133.3095906007747\n",
      "Optimization restart 8/10, f = 133.30959059874309\n",
      "Optimization restart 9/10, f = 133.30959060290485\n",
      "Optimization restart 10/10, f = 133.30959059716184\n",
      "We are at frame: 168\n"
     ]
    },
    {
     "data": {
      "application/vnd.jupyter.widget-view+json": {
       "model_id": "cc573572edab4ddeb485530138bf2190",
       "version_major": 2,
       "version_minor": 0
      },
      "text/plain": [
       "HBox(children=(VBox(children=(IntProgress(value=0, max=1000), HTML(value=''))), Box(children=(HTML(value=''),)…"
      ]
     },
     "metadata": {},
     "output_type": "display_data"
    },
    {
     "name": "stdout",
     "output_type": "stream",
     "text": [
      "Optimization restart 1/10, f = 174.88249728737063\n",
      "Optimization restart 2/10, f = 174.88249728581812\n",
      "Optimization restart 3/10, f = 174.8824972870379\n",
      "Optimization restart 4/10, f = 174.88249728745996\n",
      "Optimization restart 5/10, f = 174.88249730824475\n",
      "Optimization restart 6/10, f = 174.88249728532577\n",
      "Optimization restart 7/10, f = 174.8824972848371\n",
      "Optimization restart 8/10, f = 174.88249730950628\n",
      "Optimization restart 9/10, f = 174.88249728507117\n",
      "Optimization restart 10/10, f = 174.88249728484192\n",
      "We are at frame: 169\n",
      "Size of X_train at df BR_0000151 is (0, 10) - to many missing values\n",
      "We are at frame: 170\n"
     ]
    },
    {
     "data": {
      "application/vnd.jupyter.widget-view+json": {
       "model_id": "8bc44ca319f74013aef50699b679b32b",
       "version_major": 2,
       "version_minor": 0
      },
      "text/plain": [
       "HBox(children=(VBox(children=(IntProgress(value=0, max=1000), HTML(value=''))), Box(children=(HTML(value=''),)…"
      ]
     },
     "metadata": {},
     "output_type": "display_data"
    },
    {
     "name": "stdout",
     "output_type": "stream",
     "text": [
      "Optimization restart 1/10, f = 25.020335445513723\n",
      "Optimization restart 2/10, f = 25.020335445495302\n",
      "Optimization restart 3/10, f = 25.02033544549416\n",
      "Optimization restart 4/10, f = 25.02033544569866\n",
      "Optimization restart 5/10, f = 25.020335445556043\n",
      "Optimization restart 6/10, f = 25.020335446010087\n",
      "Optimization restart 7/10, f = 25.020335445484896\n",
      "Optimization restart 8/10, f = 25.02033544586536\n",
      "Optimization restart 9/10, f = 25.020335445590867\n",
      "Optimization restart 10/10, f = 25.020335445515173\n",
      "We are at frame: 171\n"
     ]
    },
    {
     "data": {
      "application/vnd.jupyter.widget-view+json": {
       "model_id": "71f5067f5e5345bab5cef56292379ca0",
       "version_major": 2,
       "version_minor": 0
      },
      "text/plain": [
       "HBox(children=(VBox(children=(IntProgress(value=0, max=1000), HTML(value=''))), Box(children=(HTML(value=''),)…"
      ]
     },
     "metadata": {},
     "output_type": "display_data"
    },
    {
     "name": "stdout",
     "output_type": "stream",
     "text": [
      "Optimization restart 1/10, f = 148.9700442192773\n",
      "Optimization restart 2/10, f = 148.97004422304957\n",
      "Optimization restart 3/10, f = 148.97004421702843\n",
      "Optimization restart 4/10, f = 148.97004421700566\n",
      "Optimization restart 5/10, f = 148.97004421702343\n",
      "Optimization restart 6/10, f = 148.97004421932542\n",
      "Optimization restart 7/10, f = 148.9700442255387\n",
      "Optimization restart 8/10, f = 148.9700442337982\n",
      "Optimization restart 9/10, f = 148.97004422262944\n",
      "Optimization restart 10/10, f = 148.97004433173714\n",
      "We are at frame: 172\n"
     ]
    },
    {
     "data": {
      "application/vnd.jupyter.widget-view+json": {
       "model_id": "d09b8cd85b8a4cc488051d742d8fb9bc",
       "version_major": 2,
       "version_minor": 0
      },
      "text/plain": [
       "HBox(children=(VBox(children=(IntProgress(value=0, max=1000), HTML(value=''))), Box(children=(HTML(value=''),)…"
      ]
     },
     "metadata": {},
     "output_type": "display_data"
    },
    {
     "name": "stdout",
     "output_type": "stream",
     "text": [
      "Optimization restart 1/10, f = 157.18338882239388\n",
      "Optimization restart 2/10, f = 157.18338882187234\n",
      "Optimization restart 3/10, f = 157.18338883287413\n",
      "Optimization restart 4/10, f = 157.18338882570006\n",
      "Optimization restart 5/10, f = 157.18338886196156\n",
      "Optimization restart 6/10, f = 157.1833888220872\n",
      "Optimization restart 7/10, f = 157.183388822633\n",
      "Optimization restart 8/10, f = 157.1833888226538\n",
      "Optimization restart 9/10, f = 157.18338882257225\n",
      "Optimization restart 10/10, f = 157.18338882216284\n",
      "We are at frame: 173\n"
     ]
    },
    {
     "data": {
      "application/vnd.jupyter.widget-view+json": {
       "model_id": "cc40dc88d326494b91595b9ef560b511",
       "version_major": 2,
       "version_minor": 0
      },
      "text/plain": [
       "HBox(children=(VBox(children=(IntProgress(value=0, max=1000), HTML(value=''))), Box(children=(HTML(value=''),)…"
      ]
     },
     "metadata": {},
     "output_type": "display_data"
    },
    {
     "name": "stdout",
     "output_type": "stream",
     "text": [
      "Optimization restart 1/10, f = 22.803367261403054\n",
      "Optimization restart 2/10, f = 22.803367261079387\n",
      "Optimization restart 3/10, f = 22.803367261206592\n",
      "Optimization restart 4/10, f = 22.803367261634726\n",
      "Optimization restart 5/10, f = 22.80336726140757\n",
      "Optimization restart 6/10, f = 22.80336726108093\n",
      "Optimization restart 7/10, f = 22.80336726107737\n",
      "Optimization restart 8/10, f = 22.803367261486347\n",
      "Optimization restart 9/10, f = 22.80336726132141\n",
      "Optimization restart 10/10, f = 22.80336726108991\n",
      "We are at frame: 174\n"
     ]
    },
    {
     "data": {
      "application/vnd.jupyter.widget-view+json": {
       "model_id": "8dcc9f453d4a439c9d72145d5e274713",
       "version_major": 2,
       "version_minor": 0
      },
      "text/plain": [
       "HBox(children=(VBox(children=(IntProgress(value=0, max=1000), HTML(value=''))), Box(children=(HTML(value=''),)…"
      ]
     },
     "metadata": {},
     "output_type": "display_data"
    },
    {
     "name": "stdout",
     "output_type": "stream",
     "text": [
      "Optimization restart 1/10, f = 6.206488265727025\n",
      "Optimization restart 2/10, f = 6.206488279453231\n",
      "Optimization restart 3/10, f = 6.206488265556833\n",
      "Optimization restart 4/10, f = 18.33516157173652\n",
      "Optimization restart 5/10, f = 6.206488265970232\n",
      "Optimization restart 6/10, f = 6.206488265702381\n",
      "Optimization restart 7/10, f = 7.109767853151093\n",
      "Optimization restart 8/10, f = 6.2064882655558415\n",
      "Optimization restart 9/10, f = 6.956203477486013\n",
      "Optimization restart 10/10, f = 6.2064882677980195\n",
      "We are at frame: 175\n",
      "Size of X_train at df BR_0000159 is (0, 10) - to many missing values\n",
      "We are at frame: 176\n"
     ]
    },
    {
     "data": {
      "application/vnd.jupyter.widget-view+json": {
       "model_id": "7380dd533abe4495801fbd6272fbeecb",
       "version_major": 2,
       "version_minor": 0
      },
      "text/plain": [
       "HBox(children=(VBox(children=(IntProgress(value=0, max=1000), HTML(value=''))), Box(children=(HTML(value=''),)…"
      ]
     },
     "metadata": {},
     "output_type": "display_data"
    },
    {
     "name": "stdout",
     "output_type": "stream",
     "text": [
      "Optimization restart 1/10, f = 112.89218906769706\n",
      "Optimization restart 2/10, f = 112.89218908313619\n",
      "Optimization restart 3/10, f = 112.89218907722402\n",
      "Optimization restart 4/10, f = 112.892189067764\n",
      "Optimization restart 5/10, f = 112.89218906770446\n",
      "Optimization restart 6/10, f = 112.89218917774174\n",
      "Optimization restart 7/10, f = 112.89218906838454\n",
      "Optimization restart 8/10, f = 112.89218919592967\n",
      "Optimization restart 9/10, f = 112.89218906780557\n",
      "Optimization restart 10/10, f = 112.89218906769655\n",
      "We are at frame: 177\n"
     ]
    },
    {
     "data": {
      "application/vnd.jupyter.widget-view+json": {
       "model_id": "f5a7e1ce28304f27a6c55bf9b560d393",
       "version_major": 2,
       "version_minor": 0
      },
      "text/plain": [
       "HBox(children=(VBox(children=(IntProgress(value=0, max=1000), HTML(value=''))), Box(children=(HTML(value=''),)…"
      ]
     },
     "metadata": {},
     "output_type": "display_data"
    },
    {
     "name": "stdout",
     "output_type": "stream",
     "text": [
      "Optimization restart 1/10, f = 9.757004992887573\n",
      "Optimization restart 2/10, f = 9.465255818563273\n",
      "Optimization restart 3/10, f = 9.465255818508465\n",
      "Optimization restart 4/10, f = 9.46525581851387\n",
      "Optimization restart 5/10, f = 9.465255818508961\n",
      "Optimization restart 6/10, f = 9.757005950062679\n",
      "Optimization restart 7/10, f = 9.465255818702243\n",
      "Optimization restart 8/10, f = 9.757005905931017\n",
      "Optimization restart 9/10, f = 9.465255818645968\n",
      "Optimization restart 10/10, f = 9.465255818509053\n",
      "We are at frame: 178\n",
      "Size of X_train at df BR_0000163 is (0, 10) - to many missing values\n",
      "We are at frame: 179\n"
     ]
    },
    {
     "data": {
      "application/vnd.jupyter.widget-view+json": {
       "model_id": "9e3d48c0e8594d1ca99cc81745edd44f",
       "version_major": 2,
       "version_minor": 0
      },
      "text/plain": [
       "HBox(children=(VBox(children=(IntProgress(value=0, max=1000), HTML(value=''))), Box(children=(HTML(value=''),)…"
      ]
     },
     "metadata": {},
     "output_type": "display_data"
    },
    {
     "name": "stdout",
     "output_type": "stream",
     "text": [
      "Optimization restart 1/10, f = 143.00028023020258\n",
      "Optimization restart 2/10, f = 143.00028022975988\n",
      "Optimization restart 3/10, f = 143.00028024819778\n",
      "Optimization restart 4/10, f = 143.00028022958608\n",
      "Optimization restart 5/10, f = 143.0002802296779\n",
      "Optimization restart 6/10, f = 143.00028023089703\n",
      "Optimization restart 7/10, f = 143.00028022967228\n",
      "Optimization restart 8/10, f = 143.00028022964824\n",
      "Optimization restart 9/10, f = 143.00028022966137\n",
      "Optimization restart 10/10, f = 143.00028023612828\n",
      "We are at frame: 180\n"
     ]
    },
    {
     "data": {
      "application/vnd.jupyter.widget-view+json": {
       "model_id": "ccc1ff219fc6425ab7e6c7b56a9ceede",
       "version_major": 2,
       "version_minor": 0
      },
      "text/plain": [
       "HBox(children=(VBox(children=(IntProgress(value=0, max=1000), HTML(value=''))), Box(children=(HTML(value=''),)…"
      ]
     },
     "metadata": {},
     "output_type": "display_data"
    },
    {
     "name": "stdout",
     "output_type": "stream",
     "text": [
      "Optimization restart 1/10, f = 162.66101493903972\n",
      "Optimization restart 2/10, f = 162.6610149281852\n",
      "Optimization restart 3/10, f = 162.66101492884712\n",
      "Optimization restart 4/10, f = 162.66101492859926\n",
      "Optimization restart 5/10, f = 162.66101492786373\n",
      "Optimization restart 6/10, f = 162.66101493521734\n",
      "Optimization restart 7/10, f = 162.66101496693153\n",
      "Optimization restart 8/10, f = 162.6610149340767\n",
      "Optimization restart 9/10, f = 162.66101492789284\n",
      "Optimization restart 10/10, f = 162.66101493121906\n",
      "We are at frame: 181\n"
     ]
    },
    {
     "data": {
      "application/vnd.jupyter.widget-view+json": {
       "model_id": "3400e2e672b149cba5c3bdc3a836fb3b",
       "version_major": 2,
       "version_minor": 0
      },
      "text/plain": [
       "HBox(children=(VBox(children=(IntProgress(value=0, max=1000), HTML(value=''))), Box(children=(HTML(value=''),)…"
      ]
     },
     "metadata": {},
     "output_type": "display_data"
    },
    {
     "name": "stdout",
     "output_type": "stream",
     "text": [
      "Optimization restart 1/10, f = 125.07735529755459\n",
      "Optimization restart 2/10, f = 125.07735530170022\n",
      "Optimization restart 3/10, f = 125.07735529745594\n",
      "Optimization restart 4/10, f = 125.07735529742803\n",
      "Optimization restart 5/10, f = 125.07735529745517\n",
      "Optimization restart 6/10, f = 125.07735530509584\n",
      "Optimization restart 7/10, f = 125.07735529818245\n",
      "Optimization restart 8/10, f = 125.0773553008085\n",
      "Optimization restart 9/10, f = 125.07735529744048\n",
      "Optimization restart 10/10, f = 125.07735529826488\n",
      "We are at frame: 182\n"
     ]
    },
    {
     "data": {
      "application/vnd.jupyter.widget-view+json": {
       "model_id": "15a33fa3ff284af8822dd1984f4ee8f2",
       "version_major": 2,
       "version_minor": 0
      },
      "text/plain": [
       "HBox(children=(VBox(children=(IntProgress(value=0, max=1000), HTML(value=''))), Box(children=(HTML(value=''),)…"
      ]
     },
     "metadata": {},
     "output_type": "display_data"
    },
    {
     "name": "stdout",
     "output_type": "stream",
     "text": [
      "Optimization restart 1/10, f = 121.56385430126726\n",
      "Optimization restart 2/10, f = 121.56385430000834\n",
      "Optimization restart 3/10, f = 121.56385430011966\n",
      "Optimization restart 4/10, f = 121.56385429997627\n",
      "Optimization restart 5/10, f = 121.56385429997674\n",
      "Optimization restart 6/10, f = 121.56385430004269\n",
      "Optimization restart 7/10, f = 121.56385430237066\n",
      "Optimization restart 8/10, f = 121.56385429997806\n",
      "Optimization restart 9/10, f = 121.56385429997806\n",
      "Optimization restart 10/10, f = 121.56385430176734\n",
      "We are at frame: 183\n",
      "Size of X_train at df BR_0000169 is (0, 10) - to many missing values\n",
      "We are at frame: 184\n"
     ]
    },
    {
     "data": {
      "application/vnd.jupyter.widget-view+json": {
       "model_id": "f57d010b6e88488ba9d9dc0083039ba2",
       "version_major": 2,
       "version_minor": 0
      },
      "text/plain": [
       "HBox(children=(VBox(children=(IntProgress(value=0, max=1000), HTML(value=''))), Box(children=(HTML(value=''),)…"
      ]
     },
     "metadata": {},
     "output_type": "display_data"
    },
    {
     "name": "stdout",
     "output_type": "stream",
     "text": [
      "Optimization restart 1/10, f = 49.14708677802838\n",
      "Optimization restart 2/10, f = 49.1470867780334\n",
      "Optimization restart 3/10, f = 49.14708677821756\n",
      "Optimization restart 4/10, f = 49.14708677804411\n",
      "Optimization restart 5/10, f = 49.147086778039274\n",
      "Optimization restart 6/10, f = 49.147086778014966\n",
      "Optimization restart 7/10, f = 49.147086778344395\n",
      "Optimization restart 8/10, f = 49.14708677804138\n",
      "Optimization restart 9/10, f = 49.14708677801049\n",
      "Optimization restart 10/10, f = 49.14708677801176\n",
      "We are at frame: 185\n",
      "Size of X_train at df BR_0000171 is (0, 10) - to many missing values\n",
      "We are at frame: 186\n",
      "Size of X_train at df BR_0000172 is (0, 10) - to many missing values\n",
      "We are at frame: 187\n"
     ]
    },
    {
     "data": {
      "application/vnd.jupyter.widget-view+json": {
       "model_id": "70d7f381452e48f4a8f401468e2bea0f",
       "version_major": 2,
       "version_minor": 0
      },
      "text/plain": [
       "HBox(children=(VBox(children=(IntProgress(value=0, max=1000), HTML(value=''))), Box(children=(HTML(value=''),)…"
      ]
     },
     "metadata": {},
     "output_type": "display_data"
    },
    {
     "name": "stdout",
     "output_type": "stream",
     "text": [
      "Optimization restart 1/10, f = 13.68567528443196\n",
      "Optimization restart 2/10, f = 13.685675284410724\n",
      "Optimization restart 3/10, f = 13.685675284409836\n",
      "Optimization restart 4/10, f = 13.68567528453497\n",
      "Optimization restart 5/10, f = 13.685675284955897\n",
      "Optimization restart 6/10, f = 13.685675284734787\n",
      "Optimization restart 7/10, f = 13.685675284572138\n",
      "Optimization restart 8/10, f = 13.685675284408822\n",
      "Optimization restart 9/10, f = 13.685675284614783\n",
      "Optimization restart 10/10, f = 13.685675284429891\n",
      "We are at frame: 188\n",
      "Size of X_train at df BR_0000174 is (0, 10) - to many missing values\n",
      "We are at frame: 189\n"
     ]
    },
    {
     "data": {
      "application/vnd.jupyter.widget-view+json": {
       "model_id": "49e7a853ac7541c1ae5b97bc5fd613f0",
       "version_major": 2,
       "version_minor": 0
      },
      "text/plain": [
       "HBox(children=(VBox(children=(IntProgress(value=0, max=1000), HTML(value=''))), Box(children=(HTML(value=''),)…"
      ]
     },
     "metadata": {},
     "output_type": "display_data"
    },
    {
     "name": "stdout",
     "output_type": "stream",
     "text": [
      "Optimization restart 1/10, f = 17.678644219807197\n",
      "Optimization restart 2/10, f = 17.523562900684006\n",
      "Optimization restart 3/10, f = 17.523562902170685\n",
      "Optimization restart 4/10, f = 17.523562900817552\n",
      "Optimization restart 5/10, f = 17.523562900684546\n",
      "Optimization restart 6/10, f = 17.523562900684976\n",
      "Optimization restart 7/10, f = 17.52356290081804\n",
      "Optimization restart 8/10, f = 17.67745190477018\n",
      "Optimization restart 9/10, f = 17.677451955330213\n",
      "Optimization restart 10/10, f = 27.522938721878766\n",
      "We are at frame: 190\n"
     ]
    },
    {
     "data": {
      "application/vnd.jupyter.widget-view+json": {
       "model_id": "198de0b6f02944fa9fa33a1f17176f95",
       "version_major": 2,
       "version_minor": 0
      },
      "text/plain": [
       "HBox(children=(VBox(children=(IntProgress(value=0, max=1000), HTML(value=''))), Box(children=(HTML(value=''),)…"
      ]
     },
     "metadata": {},
     "output_type": "display_data"
    },
    {
     "name": "stdout",
     "output_type": "stream",
     "text": [
      "Optimization restart 1/10, f = 105.1692331102185\n",
      "Optimization restart 2/10, f = 105.16923330465983\n",
      "Optimization restart 3/10, f = 105.16923310989972\n",
      "Optimization restart 4/10, f = 105.1692331099153\n",
      "Optimization restart 5/10, f = 105.16923311825249\n",
      "Optimization restart 6/10, f = 105.1692331103512\n",
      "Optimization restart 7/10, f = 105.16923311032636\n",
      "Optimization restart 8/10, f = 105.16923310994574\n",
      "Optimization restart 9/10, f = 105.16923311002154\n",
      "Optimization restart 10/10, f = 105.16923310998862\n",
      "We are at frame: 191\n"
     ]
    },
    {
     "data": {
      "application/vnd.jupyter.widget-view+json": {
       "model_id": "ec90ab0f4c4242a28133c7fc2e1dbc52",
       "version_major": 2,
       "version_minor": 0
      },
      "text/plain": [
       "HBox(children=(VBox(children=(IntProgress(value=0, max=1000), HTML(value=''))), Box(children=(HTML(value=''),)…"
      ]
     },
     "metadata": {},
     "output_type": "display_data"
    },
    {
     "name": "stdout",
     "output_type": "stream",
     "text": [
      "Optimization restart 1/10, f = 83.36248857954966\n",
      "Optimization restart 2/10, f = 83.36248858289702\n",
      "Optimization restart 3/10, f = 83.36248857939552\n",
      "Optimization restart 4/10, f = 83.36248869517615\n",
      "Optimization restart 5/10, f = 83.36248857937963\n",
      "Optimization restart 6/10, f = 83.36248858088355\n",
      "Optimization restart 7/10, f = 83.36248857949255\n",
      "Optimization restart 8/10, f = 83.36248857967014\n",
      "Optimization restart 9/10, f = 83.36248858145873\n",
      "Optimization restart 10/10, f = 83.3624885793719\n",
      "We are at frame: 192\n"
     ]
    },
    {
     "data": {
      "application/vnd.jupyter.widget-view+json": {
       "model_id": "ef48446efc8547e7aaa540a274974603",
       "version_major": 2,
       "version_minor": 0
      },
      "text/plain": [
       "HBox(children=(VBox(children=(IntProgress(value=0, max=1000), HTML(value=''))), Box(children=(HTML(value=''),)…"
      ]
     },
     "metadata": {},
     "output_type": "display_data"
    },
    {
     "name": "stdout",
     "output_type": "stream",
     "text": [
      "Optimization restart 1/10, f = 81.45832304985055\n",
      "Optimization restart 2/10, f = 81.45832305187668\n",
      "Optimization restart 3/10, f = 81.45832304972575\n",
      "Optimization restart 4/10, f = 81.45832308034016\n",
      "Optimization restart 5/10, f = 81.45832305199134\n",
      "Optimization restart 6/10, f = 81.45832304979875\n",
      "Optimization restart 7/10, f = 81.45832305415975\n",
      "Optimization restart 8/10, f = 81.45832328797687\n",
      "Optimization restart 9/10, f = 81.4583230733612\n",
      "Optimization restart 10/10, f = 81.45832305697219\n",
      "We are at frame: 193\n"
     ]
    },
    {
     "data": {
      "application/vnd.jupyter.widget-view+json": {
       "model_id": "7575321177414511a34b0636361de512",
       "version_major": 2,
       "version_minor": 0
      },
      "text/plain": [
       "HBox(children=(VBox(children=(IntProgress(value=0, max=1000), HTML(value=''))), Box(children=(HTML(value=''),)…"
      ]
     },
     "metadata": {},
     "output_type": "display_data"
    },
    {
     "name": "stdout",
     "output_type": "stream",
     "text": [
      "Optimization restart 1/10, f = 25.82982220702092\n",
      "Optimization restart 2/10, f = 25.82982220705618\n",
      "Optimization restart 3/10, f = 25.829822206605694\n",
      "Optimization restart 4/10, f = 25.829822206633764\n",
      "Optimization restart 5/10, f = 25.82982220661343\n",
      "Optimization restart 6/10, f = 25.829822206653866\n",
      "Optimization restart 7/10, f = 25.829822206859557\n",
      "Optimization restart 8/10, f = 25.829822207521218\n",
      "Optimization restart 9/10, f = 25.829822207100616\n",
      "Optimization restart 10/10, f = 25.82982220666169\n",
      "We are at frame: 194\n"
     ]
    },
    {
     "data": {
      "application/vnd.jupyter.widget-view+json": {
       "model_id": "7bf31e07f6064159872061d7ffe1e182",
       "version_major": 2,
       "version_minor": 0
      },
      "text/plain": [
       "HBox(children=(VBox(children=(IntProgress(value=0, max=1000), HTML(value=''))), Box(children=(HTML(value=''),)…"
      ]
     },
     "metadata": {},
     "output_type": "display_data"
    },
    {
     "name": "stdout",
     "output_type": "stream",
     "text": [
      "Optimization restart 1/10, f = 79.67377755550194\n",
      "Optimization restart 2/10, f = 79.67377755547147\n",
      "Optimization restart 3/10, f = 79.67377784773448\n",
      "Optimization restart 4/10, f = 79.67377755626438\n",
      "Optimization restart 5/10, f = 79.67377762233679\n",
      "Optimization restart 6/10, f = 79.67377755782816\n",
      "Optimization restart 7/10, f = 79.67377755543299\n",
      "Optimization restart 8/10, f = 79.67377755541878\n",
      "Optimization restart 9/10, f = 79.67377755541892\n",
      "Optimization restart 10/10, f = 79.67377755541914\n",
      "We are at frame: 195\n",
      "Size of X_train at df BR_0000184 is (0, 10) - to many missing values\n",
      "We are at frame: 196\n"
     ]
    },
    {
     "data": {
      "application/vnd.jupyter.widget-view+json": {
       "model_id": "7824ab87a4c144e5b567ff8945fe8f22",
       "version_major": 2,
       "version_minor": 0
      },
      "text/plain": [
       "HBox(children=(VBox(children=(IntProgress(value=0, max=1000), HTML(value=''))), Box(children=(HTML(value=''),)…"
      ]
     },
     "metadata": {},
     "output_type": "display_data"
    },
    {
     "name": "stdout",
     "output_type": "stream",
     "text": [
      "Optimization restart 1/10, f = 89.96735217969515\n",
      "Optimization restart 2/10, f = 89.96735217958046\n",
      "Optimization restart 3/10, f = 89.96735218013535\n",
      "Optimization restart 4/10, f = 89.96735217958096\n",
      "Optimization restart 5/10, f = 89.96735217958341\n",
      "Optimization restart 6/10, f = 89.96735218304873\n",
      "Optimization restart 7/10, f = 89.96735218194411\n",
      "Optimization restart 8/10, f = 89.96735217979939\n",
      "Optimization restart 9/10, f = 89.96735255444123\n",
      "Optimization restart 10/10, f = 89.96735225296092\n",
      "We are at frame: 197\n"
     ]
    },
    {
     "data": {
      "application/vnd.jupyter.widget-view+json": {
       "model_id": "0d7ffbeef5f54ee1ace0d14d7a0c408a",
       "version_major": 2,
       "version_minor": 0
      },
      "text/plain": [
       "HBox(children=(VBox(children=(IntProgress(value=0, max=1000), HTML(value=''))), Box(children=(HTML(value=''),)…"
      ]
     },
     "metadata": {},
     "output_type": "display_data"
    },
    {
     "name": "stdout",
     "output_type": "stream",
     "text": [
      "Optimization restart 1/10, f = 127.47095862870276\n",
      "Optimization restart 2/10, f = 127.47095863037072\n",
      "Optimization restart 3/10, f = 127.47095862836267\n",
      "Optimization restart 4/10, f = 127.47095862836107\n",
      "Optimization restart 5/10, f = 127.47095862836838\n",
      "Optimization restart 6/10, f = 127.47095862837352\n",
      "Optimization restart 7/10, f = 127.47095862837078\n",
      "Optimization restart 8/10, f = 127.4709586291046\n",
      "Optimization restart 9/10, f = 127.47095862841275\n",
      "Optimization restart 10/10, f = 127.47095862879323\n",
      "We are at frame: 198\n",
      "Size of X_train at df BR_0000187 is (0, 10) - to many missing values\n",
      "We are at frame: 199\n",
      "Size of X_train at df BR_0000191 is (0, 10) - to many missing values\n",
      "We are at frame: 200\n"
     ]
    },
    {
     "data": {
      "application/vnd.jupyter.widget-view+json": {
       "model_id": "6de3f7112f7e4c89acda38f7b6596610",
       "version_major": 2,
       "version_minor": 0
      },
      "text/plain": [
       "HBox(children=(VBox(children=(IntProgress(value=0, max=1000), HTML(value=''))), Box(children=(HTML(value=''),)…"
      ]
     },
     "metadata": {},
     "output_type": "display_data"
    },
    {
     "name": "stdout",
     "output_type": "stream",
     "text": [
      "Optimization restart 1/10, f = 8.500576938579234\n",
      "Optimization restart 2/10, f = 8.500580671084553\n",
      "Optimization restart 3/10, f = 8.500577277038115\n",
      "Optimization restart 4/10, f = 8.500582947008688\n",
      "Optimization restart 5/10, f = 8.500576971587385\n",
      "Optimization restart 6/10, f = 8.500583662363201\n",
      "Optimization restart 7/10, f = 8.500577395020326\n",
      "Optimization restart 8/10, f = 8.500577476571488\n",
      "Optimization restart 9/10, f = 8.500576892765292\n",
      "Optimization restart 10/10, f = 8.500577980905872\n",
      "We are at frame: 201\n"
     ]
    },
    {
     "data": {
      "application/vnd.jupyter.widget-view+json": {
       "model_id": "e672a4a38f394cf0b01f9c810fd33b7e",
       "version_major": 2,
       "version_minor": 0
      },
      "text/plain": [
       "HBox(children=(VBox(children=(IntProgress(value=0, max=1000), HTML(value=''))), Box(children=(HTML(value=''),)…"
      ]
     },
     "metadata": {},
     "output_type": "display_data"
    },
    {
     "name": "stdout",
     "output_type": "stream",
     "text": [
      "Optimization restart 1/10, f = 9.621015789494471\n",
      "Optimization restart 2/10, f = 9.621015789513692\n",
      "Optimization restart 3/10, f = 9.62101578925946\n",
      "Optimization restart 4/10, f = 9.6210157893687\n",
      "Optimization restart 5/10, f = 9.621015789367693\n",
      "Optimization restart 6/10, f = 9.621015789267823\n",
      "Optimization restart 7/10, f = 9.62101578929364\n",
      "Optimization restart 8/10, f = 9.621015794215053\n",
      "Optimization restart 9/10, f = 9.621015789631382\n",
      "Optimization restart 10/10, f = 9.6210157892611\n",
      "We are at frame: 202\n",
      "Size of X_train at df BR_0000194 is (0, 10) - to many missing values\n",
      "We are at frame: 203\n"
     ]
    },
    {
     "data": {
      "application/vnd.jupyter.widget-view+json": {
       "model_id": "adbb1c1a90c34dc9a6346b2d3eb51372",
       "version_major": 2,
       "version_minor": 0
      },
      "text/plain": [
       "HBox(children=(VBox(children=(IntProgress(value=0, max=1000), HTML(value=''))), Box(children=(HTML(value=''),)…"
      ]
     },
     "metadata": {},
     "output_type": "display_data"
    },
    {
     "name": "stdout",
     "output_type": "stream",
     "text": [
      "Optimization restart 1/10, f = 168.61572704152667\n",
      "Optimization restart 2/10, f = 168.61572704871924\n",
      "Optimization restart 3/10, f = 168.61572704145624\n",
      "Optimization restart 4/10, f = 168.6157270415671\n",
      "Optimization restart 5/10, f = 168.61572704155782\n",
      "Optimization restart 6/10, f = 168.61572704210016\n",
      "Optimization restart 7/10, f = 168.6157270417757\n",
      "Optimization restart 8/10, f = 168.61572704148261\n",
      "Optimization restart 9/10, f = 168.61572704792422\n",
      "Optimization restart 10/10, f = 168.615727041578\n",
      "We are at frame: 204\n"
     ]
    },
    {
     "data": {
      "application/vnd.jupyter.widget-view+json": {
       "model_id": "bc90c4672f6640af8b05a6e9ab09f005",
       "version_major": 2,
       "version_minor": 0
      },
      "text/plain": [
       "HBox(children=(VBox(children=(IntProgress(value=0, max=1000), HTML(value=''))), Box(children=(HTML(value=''),)…"
      ]
     },
     "metadata": {},
     "output_type": "display_data"
    },
    {
     "name": "stdout",
     "output_type": "stream",
     "text": [
      "Optimization restart 1/10, f = 141.8427600955228\n",
      "Optimization restart 2/10, f = 141.84276009567103\n",
      "Optimization restart 3/10, f = 141.8427600959638\n",
      "Optimization restart 4/10, f = 141.84276010264009\n",
      "Optimization restart 5/10, f = 141.84276009567478\n",
      "Optimization restart 6/10, f = 141.84276015847416\n",
      "Optimization restart 7/10, f = 141.84276009593296\n",
      "Optimization restart 8/10, f = 141.84276009548347\n",
      "Optimization restart 9/10, f = 141.84276009522338\n",
      "Optimization restart 10/10, f = 141.84276013876013\n",
      "We are at frame: 205\n"
     ]
    },
    {
     "data": {
      "application/vnd.jupyter.widget-view+json": {
       "model_id": "6f6c76024e9b41148fde229159ccf045",
       "version_major": 2,
       "version_minor": 0
      },
      "text/plain": [
       "HBox(children=(VBox(children=(IntProgress(value=0, max=1000), HTML(value=''))), Box(children=(HTML(value=''),)…"
      ]
     },
     "metadata": {},
     "output_type": "display_data"
    },
    {
     "name": "stdout",
     "output_type": "stream",
     "text": [
      "Optimization restart 1/10, f = 55.12166915625112\n",
      "Optimization restart 2/10, f = 55.121669160745014\n",
      "Optimization restart 3/10, f = 55.121669156246654\n",
      "Optimization restart 4/10, f = 55.121669156319726\n",
      "Optimization restart 5/10, f = 55.1216691562352\n",
      "Optimization restart 6/10, f = 55.121669159268194\n",
      "Optimization restart 7/10, f = 55.121669157246394\n",
      "Optimization restart 8/10, f = 55.12166915721994\n",
      "Optimization restart 9/10, f = 55.12166915627706\n",
      "Optimization restart 10/10, f = 55.12166915633633\n",
      "We are at frame: 206\n"
     ]
    },
    {
     "data": {
      "application/vnd.jupyter.widget-view+json": {
       "model_id": "fdf97d17fd2d464a86ed1cfbf319d155",
       "version_major": 2,
       "version_minor": 0
      },
      "text/plain": [
       "HBox(children=(VBox(children=(IntProgress(value=0, max=1000), HTML(value=''))), Box(children=(HTML(value=''),)…"
      ]
     },
     "metadata": {},
     "output_type": "display_data"
    },
    {
     "name": "stdout",
     "output_type": "stream",
     "text": [
      "Optimization restart 1/10, f = 40.160039062729695\n",
      "Optimization restart 2/10, f = 40.16003906236817\n",
      "Optimization restart 3/10, f = 40.160039062377194\n",
      "Optimization restart 4/10, f = 40.16003906237529\n",
      "Optimization restart 5/10, f = 40.16003906250649\n",
      "Optimization restart 6/10, f = 40.16003906237668\n",
      "Optimization restart 7/10, f = 40.160039062629366\n",
      "Optimization restart 8/10, f = 40.160039062441484\n",
      "Optimization restart 9/10, f = 40.160039062364994\n",
      "Optimization restart 10/10, f = 40.160039066805446\n",
      "We are at frame: 207\n"
     ]
    },
    {
     "data": {
      "application/vnd.jupyter.widget-view+json": {
       "model_id": "0861d819e05d4ce491b39e8a4a0f68ae",
       "version_major": 2,
       "version_minor": 0
      },
      "text/plain": [
       "HBox(children=(VBox(children=(IntProgress(value=0, max=1000), HTML(value=''))), Box(children=(HTML(value=''),)…"
      ]
     },
     "metadata": {},
     "output_type": "display_data"
    },
    {
     "name": "stdout",
     "output_type": "stream",
     "text": [
      "Optimization restart 1/10, f = 39.212569184828\n",
      "Optimization restart 2/10, f = 39.21256918806707\n",
      "Optimization restart 3/10, f = 39.21256918418778\n",
      "Optimization restart 4/10, f = 39.21256918440215\n",
      "Optimization restart 5/10, f = 39.21256918417325\n",
      "Optimization restart 6/10, f = 39.21256918415234\n",
      "Optimization restart 7/10, f = 39.21256918447812\n",
      "Optimization restart 8/10, f = 39.21256918415192\n",
      "Optimization restart 9/10, f = 39.21256918416175\n",
      "Optimization restart 10/10, f = 39.21256918414772\n",
      "We are at frame: 208\n"
     ]
    },
    {
     "data": {
      "application/vnd.jupyter.widget-view+json": {
       "model_id": "8fa2436b684741e1b21e26b9eedc7376",
       "version_major": 2,
       "version_minor": 0
      },
      "text/plain": [
       "HBox(children=(VBox(children=(IntProgress(value=0, max=1000), HTML(value=''))), Box(children=(HTML(value=''),)…"
      ]
     },
     "metadata": {},
     "output_type": "display_data"
    },
    {
     "name": "stdout",
     "output_type": "stream",
     "text": [
      "Optimization restart 1/10, f = 21.80078767705708\n",
      "Optimization restart 2/10, f = 21.800787677085406\n",
      "Optimization restart 3/10, f = 21.800787677059247\n",
      "Optimization restart 4/10, f = 21.800787677116514\n",
      "Optimization restart 5/10, f = 21.800787677058\n",
      "Optimization restart 6/10, f = 21.80078767709104\n",
      "Optimization restart 7/10, f = 21.800787677283747\n",
      "Optimization restart 8/10, f = 21.800787677068264\n",
      "Optimization restart 9/10, f = 21.80078768715087\n",
      "Optimization restart 10/10, f = 21.800787677075352\n",
      "We are at frame: 209\n"
     ]
    },
    {
     "data": {
      "application/vnd.jupyter.widget-view+json": {
       "model_id": "3a0faf2ae8ae474f9de7e8dca190381e",
       "version_major": 2,
       "version_minor": 0
      },
      "text/plain": [
       "HBox(children=(VBox(children=(IntProgress(value=0, max=1000), HTML(value=''))), Box(children=(HTML(value=''),)…"
      ]
     },
     "metadata": {},
     "output_type": "display_data"
    },
    {
     "name": "stderr",
     "output_type": "stream",
     "text": [
      " C:\\Users\\marku\\Anaconda3\\lib\\site-packages\\paramz\\transformations.py:111: RuntimeWarning:overflow encountered in expm1\n"
     ]
    },
    {
     "name": "stdout",
     "output_type": "stream",
     "text": [
      "Optimization restart 1/10, f = 115.78249627406063\n",
      "Optimization restart 2/10, f = 115.78249627440553\n",
      "Optimization restart 3/10, f = 115.7824962772161\n",
      "Optimization restart 4/10, f = 115.782502766992\n",
      "Optimization restart 5/10, f = 115.78249627409525\n",
      "Optimization restart 6/10, f = 115.78249627463958\n"
     ]
    },
    {
     "name": "stderr",
     "output_type": "stream",
     "text": [
      " C:\\Users\\marku\\Anaconda3\\lib\\site-packages\\GPy\\kern\\src\\stationary.py:168: RuntimeWarning:overflow encountered in true_divide\n",
      " C:\\Users\\marku\\Anaconda3\\lib\\site-packages\\GPy\\kern\\src\\stationary.py:468: RuntimeWarning:overflow encountered in multiply\n",
      " C:\\Users\\marku\\Anaconda3\\lib\\site-packages\\GPy\\kern\\src\\stationary.py:468: RuntimeWarning:invalid value encountered in multiply\n"
     ]
    },
    {
     "name": "stdout",
     "output_type": "stream",
     "text": [
      "Optimization restart 7/10, f = 115.79468439182722\n",
      "Optimization restart 8/10, f = 115.78249627407408\n",
      "Optimization restart 9/10, f = 115.78249627359702\n",
      "Optimization restart 10/10, f = 115.8723537337699\n",
      "We are at frame: 210\n",
      "Could not compute the SpearmansCorrelation at df BR_0000202\n"
     ]
    },
    {
     "data": {
      "application/vnd.jupyter.widget-view+json": {
       "model_id": "b1cf0dd3d4ac4607b5bd71b329fea02d",
       "version_major": 2,
       "version_minor": 0
      },
      "text/plain": [
       "HBox(children=(VBox(children=(IntProgress(value=0, max=1000), HTML(value=''))), Box(children=(HTML(value=''),)…"
      ]
     },
     "metadata": {},
     "output_type": "display_data"
    },
    {
     "name": "stdout",
     "output_type": "stream",
     "text": [
      "Optimization restart 1/10, f = 115.78249627406063\n",
      "Optimization restart 2/10, f = 115.782496274539\n",
      "Optimization restart 3/10, f = 115.78249627543443\n",
      "Optimization restart 4/10, f = 115.81297439593243\n",
      "Optimization restart 5/10, f = 115.78929732224384\n",
      "Optimization restart 6/10, f = 115.78249627436017\n",
      "Optimization restart 7/10, f = 115.78249627444004\n",
      "Optimization restart 8/10, f = 115.78249627531704\n",
      "Optimization restart 9/10, f = 115.8111856069651\n",
      "Optimization restart 10/10, f = 115.78249627401783\n",
      "We are at frame: 211\n"
     ]
    },
    {
     "data": {
      "application/vnd.jupyter.widget-view+json": {
       "model_id": "b95619c824374a54968cd9572b8a5091",
       "version_major": 2,
       "version_minor": 0
      },
      "text/plain": [
       "HBox(children=(VBox(children=(IntProgress(value=0, max=1000), HTML(value=''))), Box(children=(HTML(value=''),)…"
      ]
     },
     "metadata": {},
     "output_type": "display_data"
    },
    {
     "name": "stdout",
     "output_type": "stream",
     "text": [
      "Optimization restart 1/10, f = 75.52854821317915\n",
      "Optimization restart 2/10, f = 75.52854823467125\n",
      "Optimization restart 3/10, f = 75.52854821316528\n",
      "Optimization restart 4/10, f = 75.52854821247986\n",
      "Optimization restart 5/10, f = 75.52854821302407\n",
      "Optimization restart 6/10, f = 75.52854821272115\n",
      "Optimization restart 7/10, f = 75.52854821257799\n",
      "Optimization restart 8/10, f = 75.52854830550896\n",
      "Optimization restart 9/10, f = 75.52854821284402\n",
      "Optimization restart 10/10, f = 75.52854821248037\n",
      "We are at frame: 212\n"
     ]
    },
    {
     "data": {
      "application/vnd.jupyter.widget-view+json": {
       "model_id": "08593f449aca42818383c9b14e41f4f0",
       "version_major": 2,
       "version_minor": 0
      },
      "text/plain": [
       "HBox(children=(VBox(children=(IntProgress(value=0, max=1000), HTML(value=''))), Box(children=(HTML(value=''),)…"
      ]
     },
     "metadata": {},
     "output_type": "display_data"
    },
    {
     "name": "stdout",
     "output_type": "stream",
     "text": [
      "Optimization restart 1/10, f = 86.71565217533208\n",
      "Optimization restart 2/10, f = 86.71565217310231\n",
      "Optimization restart 3/10, f = 86.79329090157921\n",
      "Optimization restart 4/10, f = 86.71565217446346\n",
      "Optimization restart 5/10, f = 86.71565217574445\n",
      "Optimization restart 6/10, f = 86.715652173216\n",
      "Optimization restart 7/10, f = 86.71565217298692\n",
      "Optimization restart 8/10, f = 86.71565217209692\n",
      "Optimization restart 9/10, f = 86.71565217210372\n",
      "Optimization restart 10/10, f = 86.71565217434909\n",
      "We are at frame: 213\n"
     ]
    },
    {
     "data": {
      "application/vnd.jupyter.widget-view+json": {
       "model_id": "f19565d791814ac8ba39dcbc7d01f245",
       "version_major": 2,
       "version_minor": 0
      },
      "text/plain": [
       "HBox(children=(VBox(children=(IntProgress(value=0, max=1000), HTML(value=''))), Box(children=(HTML(value=''),)…"
      ]
     },
     "metadata": {},
     "output_type": "display_data"
    },
    {
     "name": "stdout",
     "output_type": "stream",
     "text": [
      "Optimization restart 1/10, f = 33.25493752071899\n",
      "Optimization restart 2/10, f = 33.25493752068128\n",
      "Optimization restart 3/10, f = 33.25493752116146\n",
      "Optimization restart 4/10, f = 33.25493752286629\n",
      "Optimization restart 5/10, f = 33.254937520684464\n",
      "Optimization restart 6/10, f = 33.254937520755576\n",
      "Optimization restart 7/10, f = 33.25493752134926\n",
      "Optimization restart 8/10, f = 33.25493752074407\n",
      "Optimization restart 9/10, f = 33.25493752068559\n",
      "Optimization restart 10/10, f = 33.25493752073121\n",
      "We are at frame: 214\n"
     ]
    },
    {
     "data": {
      "application/vnd.jupyter.widget-view+json": {
       "model_id": "e5044279a3c748c6a486e13250097b08",
       "version_major": 2,
       "version_minor": 0
      },
      "text/plain": [
       "HBox(children=(VBox(children=(IntProgress(value=0, max=1000), HTML(value=''))), Box(children=(HTML(value=''),)…"
      ]
     },
     "metadata": {},
     "output_type": "display_data"
    },
    {
     "name": "stdout",
     "output_type": "stream",
     "text": [
      "Optimization restart 1/10, f = 96.83405761254485\n",
      "Optimization restart 2/10, f = 96.8340576126831\n",
      "Optimization restart 3/10, f = 96.83405761253205\n",
      "Optimization restart 4/10, f = 96.83405761253405\n",
      "Optimization restart 5/10, f = 96.83405761270843\n",
      "Optimization restart 6/10, f = 96.83405761368425\n",
      "Optimization restart 7/10, f = 96.83405761272473\n",
      "Optimization restart 8/10, f = 96.83405761265425\n",
      "Optimization restart 9/10, f = 96.8340576125395\n",
      "Optimization restart 10/10, f = 96.83405761254795\n",
      "We are at frame: 215\n"
     ]
    },
    {
     "data": {
      "application/vnd.jupyter.widget-view+json": {
       "model_id": "a6c26ce12278430999278763c46dc6a0",
       "version_major": 2,
       "version_minor": 0
      },
      "text/plain": [
       "HBox(children=(VBox(children=(IntProgress(value=0, max=1000), HTML(value=''))), Box(children=(HTML(value=''),)…"
      ]
     },
     "metadata": {},
     "output_type": "display_data"
    },
    {
     "name": "stdout",
     "output_type": "stream",
     "text": [
      "Optimization restart 1/10, f = 24.26278410786602\n",
      "Optimization restart 2/10, f = 24.26278410760692\n",
      "Optimization restart 3/10, f = 24.262784107596154\n",
      "Optimization restart 4/10, f = 24.2627841075967\n",
      "Optimization restart 5/10, f = 24.262784107643554\n",
      "Optimization restart 6/10, f = 24.262784107596488\n",
      "Optimization restart 7/10, f = 24.26278410759562\n",
      "Optimization restart 8/10, f = 24.262784107600616\n",
      "Optimization restart 9/10, f = 24.2627841079659\n",
      "Optimization restart 10/10, f = 24.262784107596175\n",
      "We are at frame: 216\n"
     ]
    },
    {
     "data": {
      "application/vnd.jupyter.widget-view+json": {
       "model_id": "8978aac8277a4f0fa50b68a9a29a24d9",
       "version_major": 2,
       "version_minor": 0
      },
      "text/plain": [
       "HBox(children=(VBox(children=(IntProgress(value=0, max=1000), HTML(value=''))), Box(children=(HTML(value=''),)…"
      ]
     },
     "metadata": {},
     "output_type": "display_data"
    },
    {
     "name": "stdout",
     "output_type": "stream",
     "text": [
      "Optimization restart 1/10, f = 40.33767913922874\n",
      "Optimization restart 2/10, f = 40.3376791388773\n",
      "Optimization restart 3/10, f = 40.33767913887868\n",
      "Optimization restart 4/10, f = 40.33767913903602\n",
      "Optimization restart 5/10, f = 40.33767913901971\n",
      "Optimization restart 6/10, f = 40.33767913896365\n",
      "Optimization restart 7/10, f = 40.33767913888018\n",
      "Optimization restart 8/10, f = 40.33767914417178\n",
      "Optimization restart 9/10, f = 40.33767913894563\n",
      "Optimization restart 10/10, f = 40.33767913951884\n",
      "We are at frame: 217\n",
      "Size of X_train at df BR_0000211 is (0, 10) - to many missing values\n",
      "We are at frame: 218\n"
     ]
    },
    {
     "data": {
      "application/vnd.jupyter.widget-view+json": {
       "model_id": "c6556127a8374ee69adfaae2c140914b",
       "version_major": 2,
       "version_minor": 0
      },
      "text/plain": [
       "HBox(children=(VBox(children=(IntProgress(value=0, max=1000), HTML(value=''))), Box(children=(HTML(value=''),)…"
      ]
     },
     "metadata": {},
     "output_type": "display_data"
    },
    {
     "name": "stdout",
     "output_type": "stream",
     "text": [
      "Optimization restart 1/10, f = 184.0418425257576\n",
      "Optimization restart 2/10, f = 184.04184269566872\n",
      "Optimization restart 3/10, f = 184.04184252381958\n",
      "Optimization restart 4/10, f = 184.04184259274473\n",
      "Optimization restart 5/10, f = 184.04184252410158\n",
      "Optimization restart 6/10, f = 184.04184252651285\n",
      "Optimization restart 7/10, f = 184.0418425239108\n",
      "Optimization restart 8/10, f = 184.0418425252838\n",
      "Optimization restart 9/10, f = 184.04184252654392\n",
      "Optimization restart 10/10, f = 184.04184252482372\n",
      "We are at frame: 219\n"
     ]
    },
    {
     "data": {
      "application/vnd.jupyter.widget-view+json": {
       "model_id": "0292262407444e5faacfe53ef5b0aec2",
       "version_major": 2,
       "version_minor": 0
      },
      "text/plain": [
       "HBox(children=(VBox(children=(IntProgress(value=0, max=1000), HTML(value=''))), Box(children=(HTML(value=''),)…"
      ]
     },
     "metadata": {},
     "output_type": "display_data"
    },
    {
     "name": "stdout",
     "output_type": "stream",
     "text": [
      "Optimization restart 1/10, f = 110.05146958990078\n",
      "Optimization restart 2/10, f = 110.05146958640819\n",
      "Optimization restart 3/10, f = 110.0514695913821\n",
      "Optimization restart 4/10, f = 110.05146958376353\n",
      "Optimization restart 5/10, f = 110.05146958395949\n",
      "Optimization restart 6/10, f = 110.051469613367\n",
      "Optimization restart 7/10, f = 110.05146958666052\n",
      "Optimization restart 8/10, f = 110.05146958428264\n",
      "Optimization restart 9/10, f = 110.05146960436454\n",
      "Optimization restart 10/10, f = 110.05146959280083\n",
      "We are at frame: 220\n",
      "Size of X_train at df BR_0000216 is (0, 10) - to many missing values\n",
      "We are at frame: 221\n"
     ]
    },
    {
     "data": {
      "application/vnd.jupyter.widget-view+json": {
       "model_id": "4b1b8dfe71194639b77ee1f0ee76ec5f",
       "version_major": 2,
       "version_minor": 0
      },
      "text/plain": [
       "HBox(children=(VBox(children=(IntProgress(value=0, max=1000), HTML(value=''))), Box(children=(HTML(value=''),)…"
      ]
     },
     "metadata": {},
     "output_type": "display_data"
    },
    {
     "name": "stdout",
     "output_type": "stream",
     "text": [
      "Optimization restart 1/10, f = 135.24454239500014\n",
      "Optimization restart 2/10, f = 135.24454240314674\n",
      "Optimization restart 3/10, f = 135.2445423952081\n",
      "Optimization restart 4/10, f = 135.24454239575937\n",
      "Optimization restart 5/10, f = 135.24454239501424\n",
      "Optimization restart 6/10, f = 135.24454239526733\n",
      "Optimization restart 7/10, f = 135.24454239724193\n",
      "Optimization restart 8/10, f = 135.24454239500182\n",
      "Optimization restart 9/10, f = 135.24454239936944\n",
      "Optimization restart 10/10, f = 135.24454239781824\n",
      "We are at frame: 222\n"
     ]
    },
    {
     "data": {
      "application/vnd.jupyter.widget-view+json": {
       "model_id": "dd9cf22a38534c9caaa02e51602161c1",
       "version_major": 2,
       "version_minor": 0
      },
      "text/plain": [
       "HBox(children=(VBox(children=(IntProgress(value=0, max=1000), HTML(value=''))), Box(children=(HTML(value=''),)…"
      ]
     },
     "metadata": {},
     "output_type": "display_data"
    },
    {
     "name": "stdout",
     "output_type": "stream",
     "text": [
      "Optimization restart 1/10, f = 31.746478454000954\n",
      "Optimization restart 2/10, f = 31.746478482041105\n",
      "Optimization restart 3/10, f = 31.74647843682262\n",
      "Optimization restart 4/10, f = 31.74647843683736\n",
      "Optimization restart 5/10, f = 31.74647843683954\n",
      "Optimization restart 6/10, f = 31.746478437981672\n",
      "Optimization restart 7/10, f = 31.746478443111812\n",
      "Optimization restart 8/10, f = 31.74647845590106\n",
      "Optimization restart 9/10, f = 31.74647843872825\n",
      "Optimization restart 10/10, f = 31.746478446141648\n",
      "We are at frame: 223\n"
     ]
    },
    {
     "data": {
      "application/vnd.jupyter.widget-view+json": {
       "model_id": "dea15f5365d648bab52d67fa4876b48e",
       "version_major": 2,
       "version_minor": 0
      },
      "text/plain": [
       "HBox(children=(VBox(children=(IntProgress(value=0, max=1000), HTML(value=''))), Box(children=(HTML(value=''),)…"
      ]
     },
     "metadata": {},
     "output_type": "display_data"
    },
    {
     "name": "stdout",
     "output_type": "stream",
     "text": [
      "Optimization restart 1/10, f = 43.302418579904426\n",
      "Optimization restart 2/10, f = 43.30241857972457\n",
      "Optimization restart 3/10, f = 43.302418579747126\n",
      "Optimization restart 4/10, f = 43.302418611754504\n",
      "Optimization restart 5/10, f = 43.30241857980991\n",
      "Optimization restart 6/10, f = 43.30241857973863\n",
      "Optimization restart 7/10, f = 43.30241858087615\n",
      "Optimization restart 8/10, f = 43.302418579861154\n",
      "Optimization restart 9/10, f = 43.30241857977086\n",
      "Optimization restart 10/10, f = 43.30241858181918\n",
      "We are at frame: 224\n"
     ]
    },
    {
     "data": {
      "application/vnd.jupyter.widget-view+json": {
       "model_id": "c521ce9b8fae42b5b96b4f370d60f668",
       "version_major": 2,
       "version_minor": 0
      },
      "text/plain": [
       "HBox(children=(VBox(children=(IntProgress(value=0, max=1000), HTML(value=''))), Box(children=(HTML(value=''),)…"
      ]
     },
     "metadata": {},
     "output_type": "display_data"
    },
    {
     "name": "stdout",
     "output_type": "stream",
     "text": [
      "Optimization restart 1/10, f = 35.522747576281915\n",
      "Optimization restart 2/10, f = 35.52274757636076\n",
      "Optimization restart 3/10, f = 35.52274757635786\n",
      "Optimization restart 4/10, f = 35.52274758786504\n",
      "Optimization restart 5/10, f = 35.522747576321606\n",
      "Optimization restart 6/10, f = 35.52274757633022\n",
      "Optimization restart 7/10, f = 35.52274757636575\n",
      "Optimization restart 8/10, f = 35.52274757875536\n",
      "Optimization restart 9/10, f = 35.52274757628071\n",
      "Optimization restart 10/10, f = 35.522747576280835\n",
      "We are at frame: 225\n"
     ]
    },
    {
     "data": {
      "application/vnd.jupyter.widget-view+json": {
       "model_id": "f51a659e69e64f67a46ccfc9b5d6fa68",
       "version_major": 2,
       "version_minor": 0
      },
      "text/plain": [
       "HBox(children=(VBox(children=(IntProgress(value=0, max=1000), HTML(value=''))), Box(children=(HTML(value=''),)…"
      ]
     },
     "metadata": {},
     "output_type": "display_data"
    },
    {
     "name": "stdout",
     "output_type": "stream",
     "text": [
      "Optimization restart 1/10, f = 29.807110838838163\n",
      "Optimization restart 2/10, f = 29.80711083883753\n",
      "Optimization restart 3/10, f = 29.80711084699388\n",
      "Optimization restart 4/10, f = 29.807110869060146\n",
      "Optimization restart 5/10, f = 29.807110838843705\n",
      "Optimization restart 6/10, f = 29.807110838837517\n",
      "Optimization restart 7/10, f = 29.807110838913665\n",
      "Optimization restart 8/10, f = 29.80711083884257\n",
      "Optimization restart 9/10, f = 29.807110847055228\n",
      "Optimization restart 10/10, f = 29.80711084706492\n",
      "We are at frame: 226\n"
     ]
    },
    {
     "data": {
      "application/vnd.jupyter.widget-view+json": {
       "model_id": "21442a86d1b546b7900b293956d7ac82",
       "version_major": 2,
       "version_minor": 0
      },
      "text/plain": [
       "HBox(children=(VBox(children=(IntProgress(value=0, max=1000), HTML(value=''))), Box(children=(HTML(value=''),)…"
      ]
     },
     "metadata": {},
     "output_type": "display_data"
    },
    {
     "name": "stdout",
     "output_type": "stream",
     "text": [
      "Optimization restart 1/10, f = 97.59895262113062\n",
      "Optimization restart 2/10, f = 97.598952626654\n",
      "Optimization restart 3/10, f = 97.59895263545769\n",
      "Optimization restart 4/10, f = 97.59895262363536\n",
      "Optimization restart 5/10, f = 97.59895262121859\n",
      "Optimization restart 6/10, f = 97.59895262221963\n",
      "Optimization restart 7/10, f = 97.59895262119893\n",
      "Optimization restart 8/10, f = 97.5989526211448\n",
      "Optimization restart 9/10, f = 97.59895263252272\n",
      "Optimization restart 10/10, f = 97.59895262116535\n",
      "We are at frame: 227\n"
     ]
    },
    {
     "data": {
      "application/vnd.jupyter.widget-view+json": {
       "model_id": "d8a01ee4c86347bfb1f6545726ee6e38",
       "version_major": 2,
       "version_minor": 0
      },
      "text/plain": [
       "HBox(children=(VBox(children=(IntProgress(value=0, max=1000), HTML(value=''))), Box(children=(HTML(value=''),)…"
      ]
     },
     "metadata": {},
     "output_type": "display_data"
    },
    {
     "name": "stdout",
     "output_type": "stream",
     "text": [
      "Optimization restart 1/10, f = 92.34576923664301\n",
      "Optimization restart 2/10, f = 92.34576923327799\n",
      "Optimization restart 3/10, f = 92.34576923327384\n",
      "Optimization restart 4/10, f = 92.34576924959268\n",
      "Optimization restart 5/10, f = 92.34576923511732\n",
      "Optimization restart 6/10, f = 92.34576923386925\n",
      "Optimization restart 7/10, f = 92.34576923406314\n",
      "Optimization restart 8/10, f = 92.3457692332847\n",
      "Optimization restart 9/10, f = 92.3457692334407\n",
      "Optimization restart 10/10, f = 92.34576923328112\n",
      "We are at frame: 228\n"
     ]
    },
    {
     "data": {
      "application/vnd.jupyter.widget-view+json": {
       "model_id": "c11f7d4ba332457a943db72f46eb5c2e",
       "version_major": 2,
       "version_minor": 0
      },
      "text/plain": [
       "HBox(children=(VBox(children=(IntProgress(value=0, max=1000), HTML(value=''))), Box(children=(HTML(value=''),)…"
      ]
     },
     "metadata": {},
     "output_type": "display_data"
    },
    {
     "name": "stdout",
     "output_type": "stream",
     "text": [
      "Optimization restart 1/10, f = 92.71342982637026\n",
      "Optimization restart 2/10, f = 92.71342982679464\n",
      "Optimization restart 3/10, f = 92.71342982640464\n",
      "Optimization restart 4/10, f = 92.71342982636057\n",
      "Optimization restart 5/10, f = 92.71342995023443\n",
      "Optimization restart 6/10, f = 92.7134298265192\n",
      "Optimization restart 7/10, f = 92.71342982635818\n",
      "Optimization restart 8/10, f = 92.71342982673323\n",
      "Optimization restart 9/10, f = 92.7134298266383\n",
      "Optimization restart 10/10, f = 92.71342982639221\n",
      "We are at frame: 229\n"
     ]
    },
    {
     "data": {
      "application/vnd.jupyter.widget-view+json": {
       "model_id": "e6f137f0773242e49cf92427f1e0020d",
       "version_major": 2,
       "version_minor": 0
      },
      "text/plain": [
       "HBox(children=(VBox(children=(IntProgress(value=0, max=1000), HTML(value=''))), Box(children=(HTML(value=''),)…"
      ]
     },
     "metadata": {},
     "output_type": "display_data"
    },
    {
     "name": "stdout",
     "output_type": "stream",
     "text": [
      "Optimization restart 1/10, f = 28.10173300393223\n",
      "Optimization restart 2/10, f = 28.10173300391851\n",
      "Optimization restart 3/10, f = 28.10173301425861\n",
      "Optimization restart 4/10, f = 28.10173300395244\n",
      "Optimization restart 5/10, f = 28.10173300392601\n",
      "Optimization restart 6/10, f = 28.101733013028802\n",
      "Optimization restart 7/10, f = 28.10173300392166\n",
      "Optimization restart 8/10, f = 28.101733003925247\n",
      "Optimization restart 9/10, f = 28.101733004279154\n",
      "Optimization restart 10/10, f = 28.10173300392124\n",
      "We are at frame: 230\n"
     ]
    },
    {
     "data": {
      "application/vnd.jupyter.widget-view+json": {
       "model_id": "551252f81b93482589d831c476f335c0",
       "version_major": 2,
       "version_minor": 0
      },
      "text/plain": [
       "HBox(children=(VBox(children=(IntProgress(value=0, max=1000), HTML(value=''))), Box(children=(HTML(value=''),)…"
      ]
     },
     "metadata": {},
     "output_type": "display_data"
    },
    {
     "name": "stdout",
     "output_type": "stream",
     "text": [
      "Optimization restart 1/10, f = 9.955606390413326\n",
      "Optimization restart 2/10, f = 9.955606461575151\n",
      "Optimization restart 3/10, f = 9.95560606218771\n",
      "Optimization restart 4/10, f = 9.955606071469091\n",
      "Optimization restart 5/10, f = 9.955606005098396\n",
      "Optimization restart 6/10, f = 9.955605987759998\n",
      "Optimization restart 7/10, f = 9.955606006343407\n",
      "Optimization restart 8/10, f = 9.955606823648594\n",
      "Optimization restart 9/10, f = 9.955606574599642\n",
      "Optimization restart 10/10, f = 9.955606071732756\n",
      "We are at frame: 231\n"
     ]
    },
    {
     "data": {
      "application/vnd.jupyter.widget-view+json": {
       "model_id": "36bceb2a0f374afd84c00fbea9a8fb7e",
       "version_major": 2,
       "version_minor": 0
      },
      "text/plain": [
       "HBox(children=(VBox(children=(IntProgress(value=0, max=1000), HTML(value=''))), Box(children=(HTML(value=''),)…"
      ]
     },
     "metadata": {},
     "output_type": "display_data"
    },
    {
     "name": "stdout",
     "output_type": "stream",
     "text": [
      "Optimization restart 1/10, f = 90.18249633254183\n",
      "Optimization restart 2/10, f = 90.18249633427735\n",
      "Optimization restart 3/10, f = 90.18249633256065\n",
      "Optimization restart 4/10, f = 90.18249633805041\n",
      "Optimization restart 5/10, f = 90.18249633253788\n",
      "Optimization restart 6/10, f = 90.1824963345471\n",
      "Optimization restart 7/10, f = 90.18249633362583\n",
      "Optimization restart 8/10, f = 90.18249633296833\n",
      "Optimization restart 9/10, f = 90.18249633254155\n",
      "Optimization restart 10/10, f = 90.18249633257912\n",
      "We are at frame: 232\n"
     ]
    },
    {
     "data": {
      "application/vnd.jupyter.widget-view+json": {
       "model_id": "69e6c4386bdb49fc9783c9e8ac43f06e",
       "version_major": 2,
       "version_minor": 0
      },
      "text/plain": [
       "HBox(children=(VBox(children=(IntProgress(value=0, max=1000), HTML(value=''))), Box(children=(HTML(value=''),)…"
      ]
     },
     "metadata": {},
     "output_type": "display_data"
    },
    {
     "name": "stdout",
     "output_type": "stream",
     "text": [
      "Optimization restart 1/10, f = 27.699385118327548\n",
      "Optimization restart 2/10, f = 27.699385118922184\n",
      "Optimization restart 3/10, f = 27.699385118317274\n",
      "Optimization restart 4/10, f = 27.69938511872713\n",
      "Optimization restart 5/10, f = 27.699385120477125\n",
      "Optimization restart 6/10, f = 27.699385119240006\n",
      "Optimization restart 7/10, f = 27.699385118301972\n",
      "Optimization restart 8/10, f = 27.699385119392442\n",
      "Optimization restart 9/10, f = 27.69938511830275\n",
      "Optimization restart 10/10, f = 27.699385118300164\n",
      "We are at frame: 233\n"
     ]
    },
    {
     "data": {
      "application/vnd.jupyter.widget-view+json": {
       "model_id": "9d517123a8d54ff498f667ae751d500c",
       "version_major": 2,
       "version_minor": 0
      },
      "text/plain": [
       "HBox(children=(VBox(children=(IntProgress(value=0, max=1000), HTML(value=''))), Box(children=(HTML(value=''),)…"
      ]
     },
     "metadata": {},
     "output_type": "display_data"
    },
    {
     "name": "stdout",
     "output_type": "stream",
     "text": [
      "Optimization restart 1/10, f = 26.481065501048846\n",
      "Optimization restart 2/10, f = 26.481065501296552\n",
      "Optimization restart 3/10, f = 26.48106550138432\n",
      "Optimization restart 4/10, f = 26.4810655084305\n",
      "Optimization restart 5/10, f = 26.481065500920174\n",
      "Optimization restart 6/10, f = 26.48106550092014\n",
      "Optimization restart 7/10, f = 26.481065500918614\n",
      "Optimization restart 8/10, f = 26.48106550163167\n",
      "Optimization restart 9/10, f = 26.481065501096694\n",
      "Optimization restart 10/10, f = 26.481065501809546\n",
      "We are at frame: 234\n"
     ]
    },
    {
     "data": {
      "application/vnd.jupyter.widget-view+json": {
       "model_id": "dca06d500991400db7a94361c87f6088",
       "version_major": 2,
       "version_minor": 0
      },
      "text/plain": [
       "HBox(children=(VBox(children=(IntProgress(value=0, max=1000), HTML(value=''))), Box(children=(HTML(value=''),)…"
      ]
     },
     "metadata": {},
     "output_type": "display_data"
    },
    {
     "name": "stdout",
     "output_type": "stream",
     "text": [
      "Optimization restart 1/10, f = 90.03814465534407\n",
      "Optimization restart 2/10, f = 90.03814465518101\n",
      "Optimization restart 3/10, f = 90.03814465422144\n",
      "Optimization restart 4/10, f = 90.03814465957936\n",
      "Optimization restart 5/10, f = 90.03814465293337\n",
      "Optimization restart 6/10, f = 90.03814465290856\n",
      "Optimization restart 7/10, f = 90.03814465497075\n",
      "Optimization restart 8/10, f = 90.03814465291\n",
      "Optimization restart 9/10, f = 90.03814466304789\n",
      "Optimization restart 10/10, f = 90.038144654354\n",
      "We are at frame: 235\n"
     ]
    },
    {
     "data": {
      "application/vnd.jupyter.widget-view+json": {
       "model_id": "659e76b52fa94904a48282f6361eb1c3",
       "version_major": 2,
       "version_minor": 0
      },
      "text/plain": [
       "HBox(children=(VBox(children=(IntProgress(value=0, max=1000), HTML(value=''))), Box(children=(HTML(value=''),)…"
      ]
     },
     "metadata": {},
     "output_type": "display_data"
    },
    {
     "name": "stdout",
     "output_type": "stream",
     "text": [
      "Optimization restart 1/10, f = 103.91235407839824\n",
      "Optimization restart 2/10, f = 103.91235407836008\n",
      "Optimization restart 3/10, f = 103.91235407831057\n",
      "Optimization restart 4/10, f = 103.9123540808421\n",
      "Optimization restart 5/10, f = 103.91235407993214\n",
      "Optimization restart 6/10, f = 103.91235437307883\n",
      "Optimization restart 7/10, f = 103.91235429356709\n",
      "Optimization restart 8/10, f = 103.9123540783214\n",
      "Optimization restart 9/10, f = 103.91235407831141\n",
      "Optimization restart 10/10, f = 103.91235411306587\n",
      "We are at frame: 236\n"
     ]
    },
    {
     "data": {
      "application/vnd.jupyter.widget-view+json": {
       "model_id": "de5194cc8f8c442ab1c3130ee1aadcd0",
       "version_major": 2,
       "version_minor": 0
      },
      "text/plain": [
       "HBox(children=(VBox(children=(IntProgress(value=0, max=1000), HTML(value=''))), Box(children=(HTML(value=''),)…"
      ]
     },
     "metadata": {},
     "output_type": "display_data"
    },
    {
     "name": "stdout",
     "output_type": "stream",
     "text": [
      "Optimization restart 1/10, f = 45.53996983512294\n",
      "Optimization restart 2/10, f = 45.539969835374826\n",
      "Optimization restart 3/10, f = 45.53996983574144\n",
      "Optimization restart 4/10, f = 45.539969837211736\n",
      "Optimization restart 5/10, f = 45.53996983978951\n",
      "Optimization restart 6/10, f = 45.53996983534949\n",
      "Optimization restart 7/10, f = 45.53996983508207\n",
      "Optimization restart 8/10, f = 45.53996983508504\n",
      "Optimization restart 9/10, f = 45.5399698350815\n",
      "Optimization restart 10/10, f = 45.539969835081564\n",
      "We are at frame: 237\n"
     ]
    },
    {
     "data": {
      "application/vnd.jupyter.widget-view+json": {
       "model_id": "e4f27791eead4caab477611c15c5f805",
       "version_major": 2,
       "version_minor": 0
      },
      "text/plain": [
       "HBox(children=(VBox(children=(IntProgress(value=0, max=1000), HTML(value=''))), Box(children=(HTML(value=''),)…"
      ]
     },
     "metadata": {},
     "output_type": "display_data"
    },
    {
     "name": "stdout",
     "output_type": "stream",
     "text": [
      "Optimization restart 1/10, f = 68.47331219038011\n",
      "Optimization restart 2/10, f = 68.4733121743549\n",
      "Optimization restart 3/10, f = 68.47331217325336\n",
      "Optimization restart 4/10, f = 68.47331217323875\n",
      "Optimization restart 5/10, f = 68.47331217323506\n",
      "Optimization restart 6/10, f = 68.47331217323432\n",
      "Optimization restart 7/10, f = 68.47331217374847\n",
      "Optimization restart 8/10, f = 68.47331217339875\n",
      "Optimization restart 9/10, f = 68.47331217325825\n",
      "Optimization restart 10/10, f = 68.47331217330937\n",
      "We are at frame: 238\n"
     ]
    },
    {
     "data": {
      "application/vnd.jupyter.widget-view+json": {
       "model_id": "f1ef57be4a7c4b1fb78d332fdaa4b9eb",
       "version_major": 2,
       "version_minor": 0
      },
      "text/plain": [
       "HBox(children=(VBox(children=(IntProgress(value=0, max=1000), HTML(value=''))), Box(children=(HTML(value=''),)…"
      ]
     },
     "metadata": {},
     "output_type": "display_data"
    },
    {
     "name": "stdout",
     "output_type": "stream",
     "text": [
      "Optimization restart 1/10, f = 9.323861343714231\n",
      "Optimization restart 2/10, f = 9.385863771651803\n",
      "Optimization restart 3/10, f = 9.323861328105696\n",
      "Optimization restart 4/10, f = 9.323861328053038\n",
      "Optimization restart 5/10, f = 9.32386132803628\n",
      "Optimization restart 6/10, f = 9.32386132804423\n",
      "Optimization restart 7/10, f = 9.323861328119293\n",
      "Optimization restart 8/10, f = 9.323861328327034\n",
      "Optimization restart 9/10, f = 9.323861328085364\n",
      "Optimization restart 10/10, f = 9.323861328049333\n",
      "We are at frame: 239\n"
     ]
    },
    {
     "data": {
      "application/vnd.jupyter.widget-view+json": {
       "model_id": "46e2ca7169964769bf619986c271e1bb",
       "version_major": 2,
       "version_minor": 0
      },
      "text/plain": [
       "HBox(children=(VBox(children=(IntProgress(value=0, max=1000), HTML(value=''))), Box(children=(HTML(value=''),)…"
      ]
     },
     "metadata": {},
     "output_type": "display_data"
    },
    {
     "name": "stdout",
     "output_type": "stream",
     "text": [
      "Optimization restart 1/10, f = 10.754792680035056\n",
      "Optimization restart 2/10, f = 10.75479268004171\n",
      "Optimization restart 3/10, f = 10.754792680034967\n",
      "Optimization restart 4/10, f = 10.754792680064007\n",
      "Optimization restart 5/10, f = 10.754792680028892\n",
      "Optimization restart 6/10, f = 10.754792680734358\n",
      "Optimization restart 7/10, f = 10.754792680030487\n",
      "Optimization restart 8/10, f = 10.754792682783531\n",
      "Optimization restart 9/10, f = 10.754792680023474\n",
      "Optimization restart 10/10, f = 10.754792680489864\n",
      "We are at frame: 240\n"
     ]
    },
    {
     "data": {
      "application/vnd.jupyter.widget-view+json": {
       "model_id": "5967cc8ad0e74e56bef9699a472b2cba",
       "version_major": 2,
       "version_minor": 0
      },
      "text/plain": [
       "HBox(children=(VBox(children=(IntProgress(value=0, max=1000), HTML(value=''))), Box(children=(HTML(value=''),)…"
      ]
     },
     "metadata": {},
     "output_type": "display_data"
    },
    {
     "name": "stdout",
     "output_type": "stream",
     "text": [
      "Optimization restart 1/10, f = 29.207518504821287\n",
      "Optimization restart 2/10, f = 29.20751850491681\n",
      "Optimization restart 3/10, f = 29.20751850530812\n",
      "Optimization restart 4/10, f = 29.20751850483447\n",
      "Optimization restart 5/10, f = 29.20751850483638\n",
      "Optimization restart 6/10, f = 29.207518504916813\n",
      "Optimization restart 7/10, f = 29.207518600855963\n",
      "Optimization restart 8/10, f = 29.20751850520889\n",
      "Optimization restart 9/10, f = 29.207518504840024\n",
      "Optimization restart 10/10, f = 29.207518505030922\n",
      "We are at frame: 241\n"
     ]
    },
    {
     "data": {
      "application/vnd.jupyter.widget-view+json": {
       "model_id": "8a22d19f14bb4a3085cea59900eb14b0",
       "version_major": 2,
       "version_minor": 0
      },
      "text/plain": [
       "HBox(children=(VBox(children=(IntProgress(value=0, max=1000), HTML(value=''))), Box(children=(HTML(value=''),)…"
      ]
     },
     "metadata": {},
     "output_type": "display_data"
    },
    {
     "name": "stdout",
     "output_type": "stream",
     "text": [
      "Optimization restart 1/10, f = 162.8312863825505\n",
      "Optimization restart 2/10, f = 162.8312863826681\n",
      "Optimization restart 3/10, f = 162.83128638250358\n",
      "Optimization restart 4/10, f = 162.83128638638655\n",
      "Optimization restart 5/10, f = 162.83128638554652\n",
      "Optimization restart 6/10, f = 162.83128639088986\n",
      "Optimization restart 7/10, f = 162.83128638269665\n",
      "Optimization restart 8/10, f = 162.83128644650353\n",
      "Optimization restart 9/10, f = 162.8312863825723\n",
      "Optimization restart 10/10, f = 162.83128638803245\n",
      "We are at frame: 242\n"
     ]
    },
    {
     "data": {
      "application/vnd.jupyter.widget-view+json": {
       "model_id": "0e5b7886405347a8b54eb336bd153ae7",
       "version_major": 2,
       "version_minor": 0
      },
      "text/plain": [
       "HBox(children=(VBox(children=(IntProgress(value=0, max=1000), HTML(value=''))), Box(children=(HTML(value=''),)…"
      ]
     },
     "metadata": {},
     "output_type": "display_data"
    },
    {
     "name": "stdout",
     "output_type": "stream",
     "text": [
      "Optimization restart 1/10, f = 19.901416708689553\n",
      "Optimization restart 2/10, f = 19.90141670858252\n",
      "Optimization restart 3/10, f = 19.901416708632215\n",
      "Optimization restart 4/10, f = 19.90141670888819\n",
      "Optimization restart 5/10, f = 19.901416708655123\n",
      "Optimization restart 6/10, f = 19.901416708582754\n",
      "Optimization restart 7/10, f = 19.901416708579774\n",
      "Optimization restart 8/10, f = 19.901416708642795\n",
      "Optimization restart 9/10, f = 19.90141670993541\n",
      "Optimization restart 10/10, f = 19.901416708581888\n",
      "We are at frame: 243\n"
     ]
    },
    {
     "data": {
      "application/vnd.jupyter.widget-view+json": {
       "model_id": "86dd45de1c8a4a91a986f7577faabed2",
       "version_major": 2,
       "version_minor": 0
      },
      "text/plain": [
       "HBox(children=(VBox(children=(IntProgress(value=0, max=1000), HTML(value=''))), Box(children=(HTML(value=''),)…"
      ]
     },
     "metadata": {},
     "output_type": "display_data"
    },
    {
     "name": "stdout",
     "output_type": "stream",
     "text": [
      "Optimization restart 1/10, f = 40.07001816966583\n",
      "Optimization restart 2/10, f = 40.07001116253598\n",
      "Optimization restart 3/10, f = 40.070010925278986\n",
      "Optimization restart 4/10, f = 40.070011410205794\n",
      "Optimization restart 5/10, f = 40.07001088734534\n",
      "Optimization restart 6/10, f = 40.07003207409441\n",
      "Optimization restart 7/10, f = 40.07001094664628\n",
      "Optimization restart 8/10, f = 40.07001141253561\n",
      "Optimization restart 9/10, f = 40.07001092379671\n",
      "Optimization restart 10/10, f = 40.070011190573005\n",
      "We are at frame: 244\n"
     ]
    },
    {
     "data": {
      "application/vnd.jupyter.widget-view+json": {
       "model_id": "af69b70c97e14a1fb259fd94e94fa244",
       "version_major": 2,
       "version_minor": 0
      },
      "text/plain": [
       "HBox(children=(VBox(children=(IntProgress(value=0, max=1000), HTML(value=''))), Box(children=(HTML(value=''),)…"
      ]
     },
     "metadata": {},
     "output_type": "display_data"
    },
    {
     "name": "stdout",
     "output_type": "stream",
     "text": [
      "Optimization restart 1/10, f = 59.39969460507176\n",
      "Optimization restart 2/10, f = 59.39969460507449\n",
      "Optimization restart 3/10, f = 59.39969460891196\n",
      "Optimization restart 4/10, f = 59.39969460508213\n",
      "Optimization restart 5/10, f = 59.399694606788415\n",
      "Optimization restart 6/10, f = 59.39969460784783\n",
      "Optimization restart 7/10, f = 59.3996946050766\n",
      "Optimization restart 8/10, f = 59.39969460512172\n",
      "Optimization restart 9/10, f = 59.39969460508779\n",
      "Optimization restart 10/10, f = 59.399694607840935\n",
      "We are at frame: 245\n"
     ]
    },
    {
     "data": {
      "application/vnd.jupyter.widget-view+json": {
       "model_id": "4e3b76ba5dbe40bdb4d3c429d9d091e8",
       "version_major": 2,
       "version_minor": 0
      },
      "text/plain": [
       "HBox(children=(VBox(children=(IntProgress(value=0, max=1000), HTML(value=''))), Box(children=(HTML(value=''),)…"
      ]
     },
     "metadata": {},
     "output_type": "display_data"
    },
    {
     "name": "stdout",
     "output_type": "stream",
     "text": [
      "Optimization restart 1/10, f = 16.256768823793095\n",
      "Optimization restart 2/10, f = 16.25676882095256\n",
      "Optimization restart 3/10, f = 16.256768820952058\n",
      "Optimization restart 4/10, f = 16.25676882152399\n",
      "Optimization restart 5/10, f = 16.25676882098443\n",
      "Optimization restart 6/10, f = 16.256768820960325\n",
      "Optimization restart 7/10, f = 16.25676882095728\n",
      "Optimization restart 8/10, f = 16.256768820968652\n",
      "Optimization restart 9/10, f = 16.256768821077625\n",
      "Optimization restart 10/10, f = 16.256768821058877\n",
      "We are at frame: 246\n"
     ]
    },
    {
     "data": {
      "application/vnd.jupyter.widget-view+json": {
       "model_id": "ddcd1c21df0b406e9509094e59a4d063",
       "version_major": 2,
       "version_minor": 0
      },
      "text/plain": [
       "HBox(children=(VBox(children=(IntProgress(value=0, max=1000), HTML(value=''))), Box(children=(HTML(value=''),)…"
      ]
     },
     "metadata": {},
     "output_type": "display_data"
    },
    {
     "name": "stdout",
     "output_type": "stream",
     "text": [
      "Optimization restart 1/10, f = 116.86888286059498\n",
      "Optimization restart 2/10, f = 116.86888286060108\n",
      "Optimization restart 3/10, f = 116.86888286945094\n",
      "Optimization restart 4/10, f = 116.86888286059994\n",
      "Optimization restart 5/10, f = 116.86888286154175\n",
      "Optimization restart 6/10, f = 116.86888286546525\n",
      "Optimization restart 7/10, f = 116.86888309606388\n",
      "Optimization restart 8/10, f = 116.86888286357197\n",
      "Optimization restart 9/10, f = 116.86888319323037\n",
      "Optimization restart 10/10, f = 116.86888286060828\n",
      "We are at frame: 247\n"
     ]
    },
    {
     "data": {
      "application/vnd.jupyter.widget-view+json": {
       "model_id": "30bcdb82c6414bd69b6e913fd5d47afa",
       "version_major": 2,
       "version_minor": 0
      },
      "text/plain": [
       "HBox(children=(VBox(children=(IntProgress(value=0, max=1000), HTML(value=''))), Box(children=(HTML(value=''),)…"
      ]
     },
     "metadata": {},
     "output_type": "display_data"
    },
    {
     "name": "stdout",
     "output_type": "stream",
     "text": [
      "Optimization restart 1/10, f = 108.95566518208338\n",
      "Optimization restart 2/10, f = 108.95566517781317\n",
      "Optimization restart 3/10, f = 108.95566517785144\n",
      "Optimization restart 4/10, f = 108.95566518136822\n",
      "Optimization restart 5/10, f = 108.95566517994239\n",
      "Optimization restart 6/10, f = 108.95566517913863\n",
      "Optimization restart 7/10, f = 108.95566517803874\n",
      "Optimization restart 8/10, f = 108.95566517865375\n",
      "Optimization restart 9/10, f = 108.95566517760624\n",
      "Optimization restart 10/10, f = 108.95566517766355\n",
      "We are at frame: 248\n"
     ]
    },
    {
     "data": {
      "application/vnd.jupyter.widget-view+json": {
       "model_id": "9f08483be16147d1a8a03df168a25324",
       "version_major": 2,
       "version_minor": 0
      },
      "text/plain": [
       "HBox(children=(VBox(children=(IntProgress(value=0, max=1000), HTML(value=''))), Box(children=(HTML(value=''),)…"
      ]
     },
     "metadata": {},
     "output_type": "display_data"
    },
    {
     "name": "stdout",
     "output_type": "stream",
     "text": [
      "Optimization restart 1/10, f = 55.10051045769602\n",
      "Optimization restart 2/10, f = 55.100510457214966\n",
      "Optimization restart 3/10, f = 55.1005104576804\n",
      "Optimization restart 4/10, f = 55.10051045701654\n",
      "Optimization restart 5/10, f = 55.10051045830545\n",
      "Optimization restart 6/10, f = 192.5288518627027\n",
      "Optimization restart 7/10, f = 55.10051047355492\n",
      "Optimization restart 8/10, f = 55.100510456996005\n",
      "Optimization restart 9/10, f = 55.1005104570402\n",
      "Optimization restart 10/10, f = 55.100510463495155\n",
      "We are at frame: 249\n"
     ]
    },
    {
     "data": {
      "application/vnd.jupyter.widget-view+json": {
       "model_id": "0b855c7fdb72435a84d05c4f40089acf",
       "version_major": 2,
       "version_minor": 0
      },
      "text/plain": [
       "HBox(children=(VBox(children=(IntProgress(value=0, max=1000), HTML(value=''))), Box(children=(HTML(value=''),)…"
      ]
     },
     "metadata": {},
     "output_type": "display_data"
    },
    {
     "name": "stdout",
     "output_type": "stream",
     "text": [
      "Optimization restart 1/10, f = 145.8193056156353\n",
      "Optimization restart 2/10, f = 145.8193056585344\n",
      "Optimization restart 3/10, f = 145.81930561563462\n",
      "Optimization restart 4/10, f = 145.8193056156853\n",
      "Optimization restart 5/10, f = 145.8193056162707\n",
      "Optimization restart 6/10, f = 145.81930561565508\n",
      "Optimization restart 7/10, f = 145.81930561566244\n",
      "Optimization restart 8/10, f = 145.81930561566577\n",
      "Optimization restart 9/10, f = 145.8193056156465\n",
      "Optimization restart 10/10, f = 145.81930561596525\n",
      "We are at frame: 250\n"
     ]
    },
    {
     "data": {
      "application/vnd.jupyter.widget-view+json": {
       "model_id": "95d8e167585d410788bada2610358e52",
       "version_major": 2,
       "version_minor": 0
      },
      "text/plain": [
       "HBox(children=(VBox(children=(IntProgress(value=0, max=1000), HTML(value=''))), Box(children=(HTML(value=''),)…"
      ]
     },
     "metadata": {},
     "output_type": "display_data"
    },
    {
     "name": "stdout",
     "output_type": "stream",
     "text": [
      "Optimization restart 1/10, f = 69.50874845175609\n",
      "Optimization restart 2/10, f = 69.50874845174913\n",
      "Optimization restart 3/10, f = 69.50874845175571\n",
      "Optimization restart 4/10, f = 69.50874845333233\n",
      "Optimization restart 5/10, f = 69.50874845465378\n",
      "Optimization restart 6/10, f = 69.50874845175011\n",
      "Optimization restart 7/10, f = 69.50874845179655\n",
      "Optimization restart 8/10, f = 69.5087484519699\n",
      "Optimization restart 9/10, f = 69.50874845174815\n",
      "Optimization restart 10/10, f = 69.50874845184289\n",
      "We are at frame: 251\n"
     ]
    },
    {
     "data": {
      "application/vnd.jupyter.widget-view+json": {
       "model_id": "b9282b8581a6466fa6f3b7248ddb0cb7",
       "version_major": 2,
       "version_minor": 0
      },
      "text/plain": [
       "HBox(children=(VBox(children=(IntProgress(value=0, max=1000), HTML(value=''))), Box(children=(HTML(value=''),)…"
      ]
     },
     "metadata": {},
     "output_type": "display_data"
    },
    {
     "name": "stdout",
     "output_type": "stream",
     "text": [
      "Optimization restart 1/10, f = 107.98552885942348\n",
      "Optimization restart 2/10, f = 375.1133338970635\n",
      "Optimization restart 3/10, f = 107.98552885944389\n",
      "Optimization restart 4/10, f = 107.98552886111969\n",
      "Optimization restart 5/10, f = 107.98552885940762\n",
      "Optimization restart 6/10, f = 107.98552886005544\n",
      "Optimization restart 7/10, f = 107.98552885995187\n",
      "Optimization restart 8/10, f = 107.98552885942871\n",
      "Optimization restart 9/10, f = 107.98552885961578\n",
      "Optimization restart 10/10, f = 107.98552885958043\n",
      "We are at frame: 252\n"
     ]
    },
    {
     "data": {
      "application/vnd.jupyter.widget-view+json": {
       "model_id": "a7d229d00e6345cd910b9ffefdbb18f6",
       "version_major": 2,
       "version_minor": 0
      },
      "text/plain": [
       "HBox(children=(VBox(children=(IntProgress(value=0, max=1000), HTML(value=''))), Box(children=(HTML(value=''),)…"
      ]
     },
     "metadata": {},
     "output_type": "display_data"
    },
    {
     "name": "stdout",
     "output_type": "stream",
     "text": [
      "Optimization restart 1/10, f = 15.69482862640401\n",
      "Optimization restart 2/10, f = 15.69482862715115\n",
      "Optimization restart 3/10, f = 15.694828626334537\n",
      "Optimization restart 4/10, f = 15.694828626335081\n",
      "Optimization restart 5/10, f = 15.694828626338762\n",
      "Optimization restart 6/10, f = 15.694828626352471\n",
      "Optimization restart 7/10, f = 15.694828626469047\n",
      "Optimization restart 8/10, f = 15.69482863088281\n",
      "Optimization restart 9/10, f = 15.694828626335259\n",
      "Optimization restart 10/10, f = 15.694828626351569\n",
      "We are at frame: 253\n"
     ]
    },
    {
     "data": {
      "application/vnd.jupyter.widget-view+json": {
       "model_id": "2d4270c5903e4d5db7f8a110fe9abfec",
       "version_major": 2,
       "version_minor": 0
      },
      "text/plain": [
       "HBox(children=(VBox(children=(IntProgress(value=0, max=1000), HTML(value=''))), Box(children=(HTML(value=''),)…"
      ]
     },
     "metadata": {},
     "output_type": "display_data"
    },
    {
     "name": "stdout",
     "output_type": "stream",
     "text": [
      "Optimization restart 1/10, f = 144.89003894643798\n",
      "Optimization restart 2/10, f = 144.8900389463821\n",
      "Optimization restart 3/10, f = 144.89003894638105\n",
      "Optimization restart 4/10, f = 144.89003894658072\n",
      "Optimization restart 5/10, f = 144.890038948242\n",
      "Optimization restart 6/10, f = 144.89003894766978\n",
      "Optimization restart 7/10, f = 144.89003894653868\n",
      "Optimization restart 8/10, f = 144.89003895058997\n",
      "Optimization restart 9/10, f = 144.89003894641274\n",
      "Optimization restart 10/10, f = 144.89003894691075\n",
      "We are at frame: 254\n"
     ]
    },
    {
     "data": {
      "application/vnd.jupyter.widget-view+json": {
       "model_id": "292923df1e904ff1a68aa33e0a626fef",
       "version_major": 2,
       "version_minor": 0
      },
      "text/plain": [
       "HBox(children=(VBox(children=(IntProgress(value=0, max=1000), HTML(value=''))), Box(children=(HTML(value=''),)…"
      ]
     },
     "metadata": {},
     "output_type": "display_data"
    },
    {
     "name": "stdout",
     "output_type": "stream",
     "text": [
      "Optimization restart 1/10, f = 19.433659241513347\n",
      "Optimization restart 2/10, f = 19.433659241462987\n",
      "Optimization restart 3/10, f = 19.433659241411014\n",
      "Optimization restart 4/10, f = 19.433659241478797\n",
      "Optimization restart 5/10, f = 19.43365924258331\n",
      "Optimization restart 6/10, f = 19.433659241568645\n",
      "Optimization restart 7/10, f = 19.433659245357312\n",
      "Optimization restart 8/10, f = 19.43365924141567\n",
      "Optimization restart 9/10, f = 19.433659241409828\n",
      "Optimization restart 10/10, f = 19.433659241417118\n",
      "We are at frame: 255\n"
     ]
    },
    {
     "data": {
      "application/vnd.jupyter.widget-view+json": {
       "model_id": "ff9c470ed8b142edac7146d6a23b1170",
       "version_major": 2,
       "version_minor": 0
      },
      "text/plain": [
       "HBox(children=(VBox(children=(IntProgress(value=0, max=1000), HTML(value=''))), Box(children=(HTML(value=''),)…"
      ]
     },
     "metadata": {},
     "output_type": "display_data"
    },
    {
     "name": "stdout",
     "output_type": "stream",
     "text": [
      "Optimization restart 1/10, f = 120.87199344038841\n",
      "Optimization restart 2/10, f = 120.87199342596307\n",
      "Optimization restart 3/10, f = 120.87199343351888\n",
      "Optimization restart 4/10, f = 120.87199349675723\n",
      "Optimization restart 5/10, f = 120.87199342581009\n",
      "Optimization restart 6/10, f = 120.8719934362384\n",
      "Optimization restart 7/10, f = 120.87199345226342\n",
      "Optimization restart 8/10, f = 120.8719934258704\n",
      "Optimization restart 9/10, f = 120.87199343834638\n",
      "Optimization restart 10/10, f = 120.87199342580674\n",
      "We are at frame: 256\n"
     ]
    },
    {
     "data": {
      "application/vnd.jupyter.widget-view+json": {
       "model_id": "68cd152ee5cf443090095677fc3bf16e",
       "version_major": 2,
       "version_minor": 0
      },
      "text/plain": [
       "HBox(children=(VBox(children=(IntProgress(value=0, max=1000), HTML(value=''))), Box(children=(HTML(value=''),)…"
      ]
     },
     "metadata": {},
     "output_type": "display_data"
    },
    {
     "name": "stdout",
     "output_type": "stream",
     "text": [
      "Optimization restart 1/10, f = 13.679640861970126\n",
      "Optimization restart 2/10, f = 13.679640861966087\n",
      "Optimization restart 3/10, f = 13.679640861968377\n",
      "Optimization restart 4/10, f = 13.679640861974995\n",
      "Optimization restart 5/10, f = 13.679640861966679\n",
      "Optimization restart 6/10, f = 13.679640862435726\n",
      "Optimization restart 7/10, f = 23.005194160074076\n",
      "Optimization restart 8/10, f = 13.6796408619933\n",
      "Optimization restart 9/10, f = 13.679640862150091\n",
      "Optimization restart 10/10, f = 13.679640861966305\n",
      "We are at frame: 257\n"
     ]
    },
    {
     "data": {
      "application/vnd.jupyter.widget-view+json": {
       "model_id": "ae60380ef5ee49989ca9ac4dd8f55810",
       "version_major": 2,
       "version_minor": 0
      },
      "text/plain": [
       "HBox(children=(VBox(children=(IntProgress(value=0, max=1000), HTML(value=''))), Box(children=(HTML(value=''),)…"
      ]
     },
     "metadata": {},
     "output_type": "display_data"
    },
    {
     "name": "stdout",
     "output_type": "stream",
     "text": [
      "Optimization restart 1/10, f = 24.305527869540107\n",
      "Optimization restart 2/10, f = 24.30552786856465\n",
      "Optimization restart 3/10, f = 24.305527868523676\n",
      "Optimization restart 4/10, f = 24.305527868537578\n",
      "Optimization restart 5/10, f = 24.305527869323637\n",
      "Optimization restart 6/10, f = 24.30552786856569\n",
      "Optimization restart 7/10, f = 24.305527870096086\n",
      "Optimization restart 8/10, f = 24.305527868525186\n",
      "Optimization restart 9/10, f = 24.305527868875995\n",
      "Optimization restart 10/10, f = 24.305527868516048\n",
      "We are at frame: 258\n"
     ]
    },
    {
     "data": {
      "application/vnd.jupyter.widget-view+json": {
       "model_id": "f8f2cfe2c87e47a4ad4428efed1ccc05",
       "version_major": 2,
       "version_minor": 0
      },
      "text/plain": [
       "HBox(children=(VBox(children=(IntProgress(value=0, max=1000), HTML(value=''))), Box(children=(HTML(value=''),)…"
      ]
     },
     "metadata": {},
     "output_type": "display_data"
    },
    {
     "name": "stdout",
     "output_type": "stream",
     "text": [
      "Optimization restart 1/10, f = 10.5344974750829\n",
      "Optimization restart 2/10, f = 10.534498006662568\n",
      "Optimization restart 3/10, f = 10.534498045085542\n",
      "Optimization restart 4/10, f = 10.534498208253206\n",
      "Optimization restart 5/10, f = 10.534497485546524\n",
      "Optimization restart 6/10, f = 10.534497399856072\n",
      "Optimization restart 7/10, f = 10.534497412910548\n",
      "Optimization restart 8/10, f = 10.534498334119744\n",
      "Optimization restart 9/10, f = 10.534497395900003\n",
      "Optimization restart 10/10, f = 10.534497518391598\n",
      "We are at frame: 259\n"
     ]
    },
    {
     "data": {
      "application/vnd.jupyter.widget-view+json": {
       "model_id": "1805196a44b94aab914d09da9227c9ce",
       "version_major": 2,
       "version_minor": 0
      },
      "text/plain": [
       "HBox(children=(VBox(children=(IntProgress(value=0, max=1000), HTML(value=''))), Box(children=(HTML(value=''),)…"
      ]
     },
     "metadata": {},
     "output_type": "display_data"
    },
    {
     "name": "stdout",
     "output_type": "stream",
     "text": [
      "Optimization restart 1/10, f = 33.292260871608654\n",
      "Optimization restart 2/10, f = 33.292260872899625\n",
      "Optimization restart 3/10, f = 33.29226087160754\n",
      "Optimization restart 4/10, f = 33.292260872528274\n",
      "Optimization restart 5/10, f = 33.292260871810086\n",
      "Optimization restart 6/10, f = 33.29226087221778\n",
      "Optimization restart 7/10, f = 33.29226087160882\n",
      "Optimization restart 8/10, f = 33.29226087160846\n",
      "Optimization restart 9/10, f = 33.292260872105416\n",
      "Optimization restart 10/10, f = 33.29226087162954\n",
      "We are at frame: 260\n"
     ]
    },
    {
     "data": {
      "application/vnd.jupyter.widget-view+json": {
       "model_id": "a3e74b90c021420f99f11943db4995e4",
       "version_major": 2,
       "version_minor": 0
      },
      "text/plain": [
       "HBox(children=(VBox(children=(IntProgress(value=0, max=1000), HTML(value=''))), Box(children=(HTML(value=''),)…"
      ]
     },
     "metadata": {},
     "output_type": "display_data"
    },
    {
     "name": "stdout",
     "output_type": "stream",
     "text": [
      "Optimization restart 1/10, f = 92.0614410227581\n",
      "Optimization restart 2/10, f = 92.06144100145704\n",
      "Optimization restart 3/10, f = 92.06144102201984\n",
      "Optimization restart 4/10, f = 92.06144100162133\n",
      "Optimization restart 5/10, f = 92.06144100153428\n",
      "Optimization restart 6/10, f = 92.06144100145858\n",
      "Optimization restart 7/10, f = 92.06144100152835\n",
      "Optimization restart 8/10, f = 92.06144100146165\n",
      "Optimization restart 9/10, f = 92.06144100215106\n",
      "Optimization restart 10/10, f = 92.06144100195299\n",
      "We are at frame: 261\n",
      "Size of X_train at df BR_0000277 is (0, 10) - to many missing values\n",
      "We are at frame: 262\n"
     ]
    },
    {
     "data": {
      "application/vnd.jupyter.widget-view+json": {
       "model_id": "c8bd914216b24c888fd80394b15a30a8",
       "version_major": 2,
       "version_minor": 0
      },
      "text/plain": [
       "HBox(children=(VBox(children=(IntProgress(value=0, max=1000), HTML(value=''))), Box(children=(HTML(value=''),)…"
      ]
     },
     "metadata": {},
     "output_type": "display_data"
    },
    {
     "name": "stdout",
     "output_type": "stream",
     "text": [
      "Optimization restart 1/10, f = 38.75112986886318\n",
      "Optimization restart 2/10, f = 38.75112987240491\n",
      "Optimization restart 3/10, f = 38.75112986909435\n",
      "Optimization restart 4/10, f = 38.75112986882097\n",
      "Optimization restart 5/10, f = 38.75112986967259\n",
      "Optimization restart 6/10, f = 38.75112986886499\n",
      "Optimization restart 7/10, f = 38.751129869705565\n",
      "Optimization restart 8/10, f = 38.75112986927767\n",
      "Optimization restart 9/10, f = 38.75112986882167\n",
      "Optimization restart 10/10, f = 38.751129869181305\n",
      "We are at frame: 263\n"
     ]
    },
    {
     "data": {
      "application/vnd.jupyter.widget-view+json": {
       "model_id": "bf1a599355064594990150a755ceb7ee",
       "version_major": 2,
       "version_minor": 0
      },
      "text/plain": [
       "HBox(children=(VBox(children=(IntProgress(value=0, max=1000), HTML(value=''))), Box(children=(HTML(value=''),)…"
      ]
     },
     "metadata": {},
     "output_type": "display_data"
    },
    {
     "name": "stdout",
     "output_type": "stream",
     "text": [
      "Optimization restart 1/10, f = 42.3827357928822\n",
      "Optimization restart 2/10, f = 42.38273579369431\n",
      "Optimization restart 3/10, f = 42.38273579301439\n",
      "Optimization restart 4/10, f = 42.38273579623894\n",
      "Optimization restart 5/10, f = 42.38273579256945\n",
      "Optimization restart 6/10, f = 42.38273579256156\n",
      "Optimization restart 7/10, f = 42.3827357925917\n",
      "Optimization restart 8/10, f = 42.382735796758666\n",
      "Optimization restart 9/10, f = 42.38273579304338\n",
      "Optimization restart 10/10, f = 42.382735792563416\n",
      "We are at frame: 264\n"
     ]
    },
    {
     "data": {
      "application/vnd.jupyter.widget-view+json": {
       "model_id": "acf48e7602344fea9d2acd2d11777259",
       "version_major": 2,
       "version_minor": 0
      },
      "text/plain": [
       "HBox(children=(VBox(children=(IntProgress(value=0, max=1000), HTML(value=''))), Box(children=(HTML(value=''),)…"
      ]
     },
     "metadata": {},
     "output_type": "display_data"
    },
    {
     "name": "stdout",
     "output_type": "stream",
     "text": [
      "Optimization restart 1/10, f = 24.807638359000272\n",
      "Optimization restart 2/10, f = 24.807638358488255\n",
      "Optimization restart 3/10, f = 24.807638358447377\n",
      "Optimization restart 4/10, f = 24.80763835860268\n",
      "Optimization restart 5/10, f = 24.80763835837181\n",
      "Optimization restart 6/10, f = 24.807638360375385\n",
      "Optimization restart 7/10, f = 24.807638358369246\n",
      "Optimization restart 8/10, f = 24.80763835837307\n",
      "Optimization restart 9/10, f = 24.807638358421826\n",
      "Optimization restart 10/10, f = 24.807638384529476\n",
      "We are at frame: 265\n"
     ]
    },
    {
     "data": {
      "application/vnd.jupyter.widget-view+json": {
       "model_id": "b8b92c92d40b4939bc6b94bed870da83",
       "version_major": 2,
       "version_minor": 0
      },
      "text/plain": [
       "HBox(children=(VBox(children=(IntProgress(value=0, max=1000), HTML(value=''))), Box(children=(HTML(value=''),)…"
      ]
     },
     "metadata": {},
     "output_type": "display_data"
    },
    {
     "name": "stdout",
     "output_type": "stream",
     "text": [
      "Optimization restart 1/10, f = 39.46695897119233\n",
      "Optimization restart 2/10, f = 39.46695897125151\n",
      "Optimization restart 3/10, f = 39.466958974152824\n",
      "Optimization restart 4/10, f = 39.46695897279831\n",
      "Optimization restart 5/10, f = 39.466958972321116\n",
      "Optimization restart 6/10, f = 39.46695897151125\n",
      "Optimization restart 7/10, f = 39.46695897187547\n",
      "Optimization restart 8/10, f = 39.46695897114921\n",
      "Optimization restart 9/10, f = 39.46695897366993\n",
      "Optimization restart 10/10, f = 39.46695897116525\n",
      "We are at frame: 266\n",
      "Size of X_train at df BR_0000285 is (0, 10) - to many missing values\n",
      "We are at frame: 267\n"
     ]
    },
    {
     "data": {
      "application/vnd.jupyter.widget-view+json": {
       "model_id": "5ae3d5bc70104cbc96f0f5a36e709e9f",
       "version_major": 2,
       "version_minor": 0
      },
      "text/plain": [
       "HBox(children=(VBox(children=(IntProgress(value=0, max=1000), HTML(value=''))), Box(children=(HTML(value=''),)…"
      ]
     },
     "metadata": {},
     "output_type": "display_data"
    },
    {
     "name": "stdout",
     "output_type": "stream",
     "text": [
      "Optimization restart 1/10, f = 108.17152736852056\n",
      "Optimization restart 2/10, f = 108.17152736847562\n",
      "Optimization restart 3/10, f = 108.1715273694109\n",
      "Optimization restart 4/10, f = 108.17152736877641\n",
      "Optimization restart 5/10, f = 108.17152737519903\n",
      "Optimization restart 6/10, f = 108.17152736842877\n",
      "Optimization restart 7/10, f = 108.17152736852279\n",
      "Optimization restart 8/10, f = 108.17152736852802\n",
      "Optimization restart 9/10, f = 108.17152737157086\n",
      "Optimization restart 10/10, f = 108.1715273686339\n",
      "We are at frame: 268\n"
     ]
    },
    {
     "data": {
      "application/vnd.jupyter.widget-view+json": {
       "model_id": "dced12d30c33478aa27a9a1d9b5aa508",
       "version_major": 2,
       "version_minor": 0
      },
      "text/plain": [
       "HBox(children=(VBox(children=(IntProgress(value=0, max=1000), HTML(value=''))), Box(children=(HTML(value=''),)…"
      ]
     },
     "metadata": {},
     "output_type": "display_data"
    },
    {
     "name": "stdout",
     "output_type": "stream",
     "text": [
      "Optimization restart 1/10, f = 72.95001713510703\n",
      "Optimization restart 2/10, f = 72.94998468276705\n",
      "Optimization restart 3/10, f = 72.94998491240894\n",
      "Optimization restart 4/10, f = 99.28310538370275\n",
      "Optimization restart 5/10, f = 72.94998764826755\n",
      "Optimization restart 6/10, f = 72.94998670292166\n",
      "Optimization restart 7/10, f = 72.9499846672351\n",
      "Optimization restart 8/10, f = 72.94998466287981\n",
      "Optimization restart 9/10, f = 72.94998490836961\n",
      "Optimization restart 10/10, f = 72.94998790822261\n",
      "We are at frame: 269\n"
     ]
    },
    {
     "data": {
      "application/vnd.jupyter.widget-view+json": {
       "model_id": "b2af9416c1e149819afd2687592aab2a",
       "version_major": 2,
       "version_minor": 0
      },
      "text/plain": [
       "HBox(children=(VBox(children=(IntProgress(value=0, max=1000), HTML(value=''))), Box(children=(HTML(value=''),)…"
      ]
     },
     "metadata": {},
     "output_type": "display_data"
    },
    {
     "name": "stdout",
     "output_type": "stream",
     "text": [
      "Optimization restart 1/10, f = 39.35622219544021\n",
      "Optimization restart 2/10, f = 39.35622219550979\n",
      "Optimization restart 3/10, f = 39.356222195690535\n",
      "Optimization restart 4/10, f = 39.35622219537454\n",
      "Optimization restart 5/10, f = 39.35622220065808\n",
      "Optimization restart 6/10, f = 39.3562221956942\n",
      "Optimization restart 7/10, f = 39.356222195425765\n",
      "Optimization restart 8/10, f = 39.35622219733989\n",
      "Optimization restart 9/10, f = 39.35622219575835\n",
      "Optimization restart 10/10, f = 39.35622219543848\n",
      "We are at frame: 270\n"
     ]
    },
    {
     "data": {
      "application/vnd.jupyter.widget-view+json": {
       "model_id": "f2edf363b5e74f43bb8383d1917c6fb1",
       "version_major": 2,
       "version_minor": 0
      },
      "text/plain": [
       "HBox(children=(VBox(children=(IntProgress(value=0, max=1000), HTML(value=''))), Box(children=(HTML(value=''),)…"
      ]
     },
     "metadata": {},
     "output_type": "display_data"
    },
    {
     "name": "stdout",
     "output_type": "stream",
     "text": [
      "Optimization restart 1/10, f = 106.71394687594935\n",
      "Optimization restart 2/10, f = 106.71394679603914\n",
      "Optimization restart 3/10, f = 106.7140299676423\n",
      "Optimization restart 4/10, f = 106.71394679511579\n",
      "Optimization restart 5/10, f = 106.7139467986469\n",
      "Optimization restart 6/10, f = 106.7139467951113\n",
      "Optimization restart 7/10, f = 106.71394679512372\n",
      "Optimization restart 8/10, f = 106.7139467951904\n",
      "Optimization restart 9/10, f = 106.71394679562823\n",
      "Optimization restart 10/10, f = 106.71394679511562\n",
      "We are at frame: 271\n",
      "Size of X_train at df BR_0000292 is (0, 10) - to many missing values\n",
      "We are at frame: 272\n"
     ]
    },
    {
     "data": {
      "application/vnd.jupyter.widget-view+json": {
       "model_id": "63e4c66859804fd8a845d2f5ad3bc60e",
       "version_major": 2,
       "version_minor": 0
      },
      "text/plain": [
       "HBox(children=(VBox(children=(IntProgress(value=0, max=1000), HTML(value=''))), Box(children=(HTML(value=''),)…"
      ]
     },
     "metadata": {},
     "output_type": "display_data"
    },
    {
     "name": "stdout",
     "output_type": "stream",
     "text": [
      "Optimization restart 1/10, f = 97.0879162947948\n",
      "Optimization restart 2/10, f = 97.0879162947583\n",
      "Optimization restart 3/10, f = 97.08791629385766\n",
      "Optimization restart 4/10, f = 97.08791629386569\n",
      "Optimization restart 5/10, f = 97.08791629391703\n",
      "Optimization restart 6/10, f = 97.08791629494121\n",
      "Optimization restart 7/10, f = 97.08791629391683\n",
      "Optimization restart 8/10, f = 97.08791629387375\n",
      "Optimization restart 9/10, f = 97.08791629385745\n",
      "Optimization restart 10/10, f = 97.08791629454731\n",
      "We are at frame: 273\n"
     ]
    },
    {
     "data": {
      "application/vnd.jupyter.widget-view+json": {
       "model_id": "c9a775cf6b5d456fa0e4daea9e59fb1b",
       "version_major": 2,
       "version_minor": 0
      },
      "text/plain": [
       "HBox(children=(VBox(children=(IntProgress(value=0, max=1000), HTML(value=''))), Box(children=(HTML(value=''),)…"
      ]
     },
     "metadata": {},
     "output_type": "display_data"
    },
    {
     "name": "stdout",
     "output_type": "stream",
     "text": [
      "Optimization restart 1/10, f = 1.5375291541648874\n",
      "Optimization restart 2/10, f = 1.5375291541447433\n",
      "Optimization restart 3/10, f = 1.5375291541559044\n",
      "Optimization restart 4/10, f = 1.537529154144762\n",
      "Optimization restart 5/10, f = 1.5375291545109244\n",
      "Optimization restart 6/10, f = 1.5375291541456348\n",
      "Optimization restart 7/10, f = 1.5375291542097838\n",
      "Optimization restart 8/10, f = 1.5375291541447316\n",
      "Optimization restart 9/10, f = 1.5375291541447327\n",
      "Optimization restart 10/10, f = 1.5375291541447447\n",
      "We are at frame: 274\n"
     ]
    },
    {
     "data": {
      "application/vnd.jupyter.widget-view+json": {
       "model_id": "c6192864e16f46079d8961047c98a61a",
       "version_major": 2,
       "version_minor": 0
      },
      "text/plain": [
       "HBox(children=(VBox(children=(IntProgress(value=0, max=1000), HTML(value=''))), Box(children=(HTML(value=''),)…"
      ]
     },
     "metadata": {},
     "output_type": "display_data"
    },
    {
     "name": "stdout",
     "output_type": "stream",
     "text": [
      "Optimization restart 1/10, f = 70.14248778315851\n",
      "Optimization restart 2/10, f = 70.14248778328937\n",
      "Optimization restart 3/10, f = 70.14248830366316\n",
      "Optimization restart 4/10, f = 70.14248778256741\n",
      "Optimization restart 5/10, f = 70.14248790698011\n",
      "Optimization restart 6/10, f = 70.14248778265778\n",
      "Optimization restart 7/10, f = 70.14248778810932\n",
      "Optimization restart 8/10, f = 70.14248778294093\n",
      "Optimization restart 9/10, f = 70.14248778313922\n",
      "Optimization restart 10/10, f = 70.14248778259133\n",
      "We are at frame: 275\n"
     ]
    },
    {
     "data": {
      "application/vnd.jupyter.widget-view+json": {
       "model_id": "123d25e8074f47489d0f0d200f24f775",
       "version_major": 2,
       "version_minor": 0
      },
      "text/plain": [
       "HBox(children=(VBox(children=(IntProgress(value=0, max=1000), HTML(value=''))), Box(children=(HTML(value=''),)…"
      ]
     },
     "metadata": {},
     "output_type": "display_data"
    },
    {
     "name": "stdout",
     "output_type": "stream",
     "text": [
      "Optimization restart 1/10, f = 26.35399414327492\n",
      "Optimization restart 2/10, f = 26.353994143204826\n",
      "Optimization restart 3/10, f = 26.353994143531615\n",
      "Optimization restart 4/10, f = 26.353994143216305\n",
      "Optimization restart 5/10, f = 26.35399414520797\n",
      "Optimization restart 6/10, f = 26.3539941432625\n",
      "Optimization restart 7/10, f = 26.353994143301925\n",
      "Optimization restart 8/10, f = 26.35399414323096\n",
      "Optimization restart 9/10, f = 26.35399416220469\n",
      "Optimization restart 10/10, f = 26.353994143221936\n",
      "We are at frame: 276\n"
     ]
    },
    {
     "data": {
      "application/vnd.jupyter.widget-view+json": {
       "model_id": "33a0b80dc46741629af39e1e38b5ed57",
       "version_major": 2,
       "version_minor": 0
      },
      "text/plain": [
       "HBox(children=(VBox(children=(IntProgress(value=0, max=1000), HTML(value=''))), Box(children=(HTML(value=''),)…"
      ]
     },
     "metadata": {},
     "output_type": "display_data"
    },
    {
     "name": "stdout",
     "output_type": "stream",
     "text": [
      "Optimization restart 1/10, f = 24.068278112408475\n",
      "Optimization restart 2/10, f = 24.06827814329451\n",
      "Optimization restart 3/10, f = 24.068278219433918\n",
      "Optimization restart 4/10, f = 24.068278112842798\n",
      "Optimization restart 5/10, f = 24.06827811254293\n",
      "Optimization restart 6/10, f = 24.068278112422757\n",
      "Optimization restart 7/10, f = 24.068278112514093\n",
      "Optimization restart 8/10, f = 24.06827811241258\n",
      "Optimization restart 9/10, f = 24.06827811241092\n",
      "Optimization restart 10/10, f = 24.068278112424423\n",
      "We are at frame: 277\n"
     ]
    },
    {
     "data": {
      "application/vnd.jupyter.widget-view+json": {
       "model_id": "e43bd0b326d34268a050a43ddb4aea3c",
       "version_major": 2,
       "version_minor": 0
      },
      "text/plain": [
       "HBox(children=(VBox(children=(IntProgress(value=0, max=1000), HTML(value=''))), Box(children=(HTML(value=''),)…"
      ]
     },
     "metadata": {},
     "output_type": "display_data"
    },
    {
     "name": "stdout",
     "output_type": "stream",
     "text": [
      "Optimization restart 1/10, f = 127.21548354536482\n",
      "Optimization restart 2/10, f = 127.21548354581839\n",
      "Optimization restart 3/10, f = 127.21548354616192\n",
      "Optimization restart 4/10, f = 127.21548354511528\n",
      "Optimization restart 5/10, f = 127.21548354511592\n",
      "Optimization restart 6/10, f = 127.21548354611207\n",
      "Optimization restart 7/10, f = 127.2154835453506\n",
      "Optimization restart 8/10, f = 127.21548359205983\n",
      "Optimization restart 9/10, f = 127.21548354742771\n",
      "Optimization restart 10/10, f = 127.21548354608939\n",
      "We are at frame: 278\n"
     ]
    },
    {
     "data": {
      "application/vnd.jupyter.widget-view+json": {
       "model_id": "e14e88c5443044c4b2b126a522bf64cd",
       "version_major": 2,
       "version_minor": 0
      },
      "text/plain": [
       "HBox(children=(VBox(children=(IntProgress(value=0, max=1000), HTML(value=''))), Box(children=(HTML(value=''),)…"
      ]
     },
     "metadata": {},
     "output_type": "display_data"
    },
    {
     "name": "stdout",
     "output_type": "stream",
     "text": [
      "Optimization restart 1/10, f = 43.133608793344656\n",
      "Optimization restart 2/10, f = 43.133608791459665\n",
      "Optimization restart 3/10, f = 43.13360879190457\n",
      "Optimization restart 4/10, f = 43.133608791422304\n",
      "Optimization restart 5/10, f = 43.13360879091695\n",
      "Optimization restart 6/10, f = 43.133608790888466\n",
      "Optimization restart 7/10, f = 43.133608790888516\n",
      "Optimization restart 8/10, f = 43.133608790892815\n",
      "Optimization restart 9/10, f = 43.133608791621974\n",
      "Optimization restart 10/10, f = 43.13360879301973\n",
      "We are at frame: 279\n"
     ]
    },
    {
     "data": {
      "application/vnd.jupyter.widget-view+json": {
       "model_id": "7d64ec1e74e54ab6a7ad2eb6797ff55a",
       "version_major": 2,
       "version_minor": 0
      },
      "text/plain": [
       "HBox(children=(VBox(children=(IntProgress(value=0, max=1000), HTML(value=''))), Box(children=(HTML(value=''),)…"
      ]
     },
     "metadata": {},
     "output_type": "display_data"
    },
    {
     "name": "stdout",
     "output_type": "stream",
     "text": [
      "Optimization restart 1/10, f = 33.800598646233745\n",
      "Optimization restart 2/10, f = 33.800598646270075\n",
      "Optimization restart 3/10, f = 33.80059864687287\n",
      "Optimization restart 4/10, f = 33.80059864618998\n",
      "Optimization restart 5/10, f = 33.800598646303435\n",
      "Optimization restart 6/10, f = 33.80059866358137\n",
      "Optimization restart 7/10, f = 33.80059864620118\n",
      "Optimization restart 8/10, f = 33.800598646697566\n",
      "Optimization restart 9/10, f = 33.80059864624513\n",
      "Optimization restart 10/10, f = 33.80059864620043\n",
      "We are at frame: 280\n"
     ]
    },
    {
     "data": {
      "application/vnd.jupyter.widget-view+json": {
       "model_id": "95aa228b1ada412eb8deabae96dfc4c2",
       "version_major": 2,
       "version_minor": 0
      },
      "text/plain": [
       "HBox(children=(VBox(children=(IntProgress(value=0, max=1000), HTML(value=''))), Box(children=(HTML(value=''),)…"
      ]
     },
     "metadata": {},
     "output_type": "display_data"
    },
    {
     "name": "stdout",
     "output_type": "stream",
     "text": [
      "Optimization restart 1/10, f = 27.766361341164025\n",
      "Optimization restart 2/10, f = 27.766361341088963\n",
      "Optimization restart 3/10, f = 63.36445759833897\n",
      "Optimization restart 4/10, f = 27.76636134197962\n",
      "Optimization restart 5/10, f = 27.766361341073033\n",
      "Optimization restart 6/10, f = 27.766361341159488\n",
      "Optimization restart 7/10, f = 27.76636134346933\n",
      "Optimization restart 8/10, f = 27.76636134369061\n",
      "Optimization restart 9/10, f = 27.76636134108706\n",
      "Optimization restart 10/10, f = 27.766361341506503\n",
      "We are at frame: 281\n"
     ]
    },
    {
     "data": {
      "application/vnd.jupyter.widget-view+json": {
       "model_id": "9965eafe219a4452b9b7bf66fc439e98",
       "version_major": 2,
       "version_minor": 0
      },
      "text/plain": [
       "HBox(children=(VBox(children=(IntProgress(value=0, max=1000), HTML(value=''))), Box(children=(HTML(value=''),)…"
      ]
     },
     "metadata": {},
     "output_type": "display_data"
    },
    {
     "name": "stdout",
     "output_type": "stream",
     "text": [
      "Optimization restart 1/10, f = 87.289643711455\n",
      "Optimization restart 2/10, f = 87.2896437113776\n",
      "Optimization restart 3/10, f = 87.28964371152885\n",
      "Optimization restart 4/10, f = 87.2896437113686\n",
      "Optimization restart 5/10, f = 87.28964371529958\n",
      "Optimization restart 6/10, f = 324.8171972985483\n",
      "Optimization restart 7/10, f = 87.28964371214933\n",
      "Optimization restart 8/10, f = 87.28964371132979\n",
      "Optimization restart 9/10, f = 87.28964371165853\n",
      "Optimization restart 10/10, f = 87.28964371453807\n",
      "We are at frame: 282\n"
     ]
    },
    {
     "data": {
      "application/vnd.jupyter.widget-view+json": {
       "model_id": "7cda0dbe182b4c9a87498b5e8029028f",
       "version_major": 2,
       "version_minor": 0
      },
      "text/plain": [
       "HBox(children=(VBox(children=(IntProgress(value=0, max=1000), HTML(value=''))), Box(children=(HTML(value=''),)…"
      ]
     },
     "metadata": {},
     "output_type": "display_data"
    },
    {
     "name": "stdout",
     "output_type": "stream",
     "text": [
      "Optimization restart 1/10, f = 132.60346671916147\n",
      "Optimization restart 2/10, f = 132.60346671915175\n",
      "Optimization restart 3/10, f = 132.6034667389203\n",
      "Optimization restart 4/10, f = 132.6034667194682\n",
      "Optimization restart 5/10, f = 132.60346671915016\n",
      "Optimization restart 6/10, f = 132.60346672535286\n",
      "Optimization restart 7/10, f = 132.6034667191478\n",
      "Optimization restart 8/10, f = 132.60346671918822\n",
      "Optimization restart 9/10, f = 132.60346693717088\n",
      "Optimization restart 10/10, f = 132.60346671916437\n",
      "We are at frame: 283\n"
     ]
    },
    {
     "data": {
      "application/vnd.jupyter.widget-view+json": {
       "model_id": "8b6f8ac26e9344cbac429490daa48912",
       "version_major": 2,
       "version_minor": 0
      },
      "text/plain": [
       "HBox(children=(VBox(children=(IntProgress(value=0, max=1000), HTML(value=''))), Box(children=(HTML(value=''),)…"
      ]
     },
     "metadata": {},
     "output_type": "display_data"
    },
    {
     "name": "stdout",
     "output_type": "stream",
     "text": [
      "Optimization restart 1/10, f = 69.87836597532315\n",
      "Optimization restart 2/10, f = 69.8783659752388\n",
      "Optimization restart 3/10, f = 69.87836597684161\n",
      "Optimization restart 4/10, f = 69.87836597529439\n",
      "Optimization restart 5/10, f = 69.87836597520467\n",
      "Optimization restart 6/10, f = 69.87836598346038\n",
      "Optimization restart 7/10, f = 69.87836597585942\n",
      "Optimization restart 8/10, f = 69.87836598159876\n",
      "Optimization restart 9/10, f = 69.87836597521863\n",
      "Optimization restart 10/10, f = 69.8783659753539\n",
      "We are at frame: 284\n"
     ]
    },
    {
     "data": {
      "application/vnd.jupyter.widget-view+json": {
       "model_id": "9ca484494c3f448ab1d3db99ebdfaba1",
       "version_major": 2,
       "version_minor": 0
      },
      "text/plain": [
       "HBox(children=(VBox(children=(IntProgress(value=0, max=1000), HTML(value=''))), Box(children=(HTML(value=''),)…"
      ]
     },
     "metadata": {},
     "output_type": "display_data"
    },
    {
     "name": "stdout",
     "output_type": "stream",
     "text": [
      "Optimization restart 1/10, f = 76.4472568886951\n",
      "Optimization restart 2/10, f = 76.4472568886959\n",
      "Optimization restart 3/10, f = 76.44725688867788\n",
      "Optimization restart 4/10, f = 76.44725688925234\n",
      "Optimization restart 5/10, f = 76.4472568886772\n",
      "Optimization restart 6/10, f = 76.44725688873359\n",
      "Optimization restart 7/10, f = 76.44725688867729\n",
      "Optimization restart 8/10, f = 76.44725688868337\n",
      "Optimization restart 9/10, f = 76.44725688867649\n",
      "Optimization restart 10/10, f = 76.44725688885627\n",
      "We are at frame: 285\n"
     ]
    },
    {
     "data": {
      "application/vnd.jupyter.widget-view+json": {
       "model_id": "c2de7311afeb4336899a421a6261edab",
       "version_major": 2,
       "version_minor": 0
      },
      "text/plain": [
       "HBox(children=(VBox(children=(IntProgress(value=0, max=1000), HTML(value=''))), Box(children=(HTML(value=''),)…"
      ]
     },
     "metadata": {},
     "output_type": "display_data"
    },
    {
     "name": "stdout",
     "output_type": "stream",
     "text": [
      "Optimization restart 1/10, f = 26.540800009738923\n",
      "Optimization restart 2/10, f = 26.540800008660707\n",
      "Optimization restart 3/10, f = 26.540800008776056\n",
      "Optimization restart 4/10, f = 26.540800008823535\n",
      "Optimization restart 5/10, f = 26.54080000864877\n",
      "Optimization restart 6/10, f = 26.540800008648173\n",
      "Optimization restart 7/10, f = 26.540800023170323\n",
      "Optimization restart 8/10, f = 26.54080000864638\n",
      "Optimization restart 9/10, f = 26.540800008646958\n",
      "Optimization restart 10/10, f = 26.54080000989408\n",
      "We are at frame: 286\n"
     ]
    },
    {
     "data": {
      "application/vnd.jupyter.widget-view+json": {
       "model_id": "df5940badcb8478480c04c50eff22642",
       "version_major": 2,
       "version_minor": 0
      },
      "text/plain": [
       "HBox(children=(VBox(children=(IntProgress(value=0, max=1000), HTML(value=''))), Box(children=(HTML(value=''),)…"
      ]
     },
     "metadata": {},
     "output_type": "display_data"
    },
    {
     "name": "stdout",
     "output_type": "stream",
     "text": [
      "Optimization restart 1/10, f = 26.30579810145251\n",
      "Optimization restart 2/10, f = 26.30579810137295\n",
      "Optimization restart 3/10, f = 26.30579810134977\n",
      "Optimization restart 4/10, f = 26.305798101345797\n",
      "Optimization restart 5/10, f = 26.305798101477993\n",
      "Optimization restart 6/10, f = 26.305798101357855\n",
      "Optimization restart 7/10, f = 26.30579810148322\n",
      "Optimization restart 8/10, f = 26.305798102875034\n",
      "Optimization restart 9/10, f = 26.30579810431757\n",
      "Optimization restart 10/10, f = 26.305798101839684\n",
      "We are at frame: 287\n"
     ]
    },
    {
     "data": {
      "application/vnd.jupyter.widget-view+json": {
       "model_id": "da753ea07b65448ba49b0c0cf86fb019",
       "version_major": 2,
       "version_minor": 0
      },
      "text/plain": [
       "HBox(children=(VBox(children=(IntProgress(value=0, max=1000), HTML(value=''))), Box(children=(HTML(value=''),)…"
      ]
     },
     "metadata": {},
     "output_type": "display_data"
    },
    {
     "name": "stdout",
     "output_type": "stream",
     "text": [
      "Optimization restart 1/10, f = 58.08900527416584\n",
      "Optimization restart 2/10, f = 58.089005273753955\n",
      "Optimization restart 3/10, f = 58.089005281277935\n",
      "Optimization restart 4/10, f = 58.08900527387374\n",
      "Optimization restart 5/10, f = 58.08900527393371\n",
      "Optimization restart 6/10, f = 58.08900527402943\n",
      "Optimization restart 7/10, f = 58.089005284825035\n",
      "Optimization restart 8/10, f = 58.08900527375346\n",
      "Optimization restart 9/10, f = 58.08900528711294\n",
      "Optimization restart 10/10, f = 58.08900527375483\n",
      "We are at frame: 288\n"
     ]
    },
    {
     "data": {
      "application/vnd.jupyter.widget-view+json": {
       "model_id": "42add280b9e54f8c8f6202c67d4eb84b",
       "version_major": 2,
       "version_minor": 0
      },
      "text/plain": [
       "HBox(children=(VBox(children=(IntProgress(value=0, max=1000), HTML(value=''))), Box(children=(HTML(value=''),)…"
      ]
     },
     "metadata": {},
     "output_type": "display_data"
    },
    {
     "name": "stdout",
     "output_type": "stream",
     "text": [
      "Optimization restart 1/10, f = 61.488872674494004\n",
      "Optimization restart 2/10, f = 61.48887267229682\n",
      "Optimization restart 3/10, f = 61.48887267396009\n",
      "Optimization restart 4/10, f = 61.48887267157136\n",
      "Optimization restart 5/10, f = 61.48887267350641\n",
      "Optimization restart 6/10, f = 61.488872671451745\n",
      "Optimization restart 7/10, f = 61.48887267149273\n",
      "Optimization restart 8/10, f = 61.488872671439395\n",
      "Optimization restart 9/10, f = 61.48887267143358\n",
      "Optimization restart 10/10, f = 61.48887267144231\n",
      "We are at frame: 289\n"
     ]
    },
    {
     "data": {
      "application/vnd.jupyter.widget-view+json": {
       "model_id": "6a8d16d6406e4609b410552276d9a2b2",
       "version_major": 2,
       "version_minor": 0
      },
      "text/plain": [
       "HBox(children=(VBox(children=(IntProgress(value=0, max=1000), HTML(value=''))), Box(children=(HTML(value=''),)…"
      ]
     },
     "metadata": {},
     "output_type": "display_data"
    },
    {
     "name": "stdout",
     "output_type": "stream",
     "text": [
      "Optimization restart 1/10, f = 44.783850483916794\n",
      "Optimization restart 2/10, f = 44.78385048831679\n",
      "Optimization restart 3/10, f = 44.78385048392349\n",
      "Optimization restart 4/10, f = 44.783850483914\n",
      "Optimization restart 5/10, f = 44.783850483920844\n",
      "Optimization restart 6/10, f = 44.78385048392561\n",
      "Optimization restart 7/10, f = 44.7838504848895\n",
      "Optimization restart 8/10, f = 44.78385048393383\n",
      "Optimization restart 9/10, f = 44.78385048395873\n",
      "Optimization restart 10/10, f = 44.78385048941537\n",
      "We are at frame: 290\n"
     ]
    },
    {
     "data": {
      "application/vnd.jupyter.widget-view+json": {
       "model_id": "d14710388ad5467ba68bbdc38c915445",
       "version_major": 2,
       "version_minor": 0
      },
      "text/plain": [
       "HBox(children=(VBox(children=(IntProgress(value=0, max=1000), HTML(value=''))), Box(children=(HTML(value=''),)…"
      ]
     },
     "metadata": {},
     "output_type": "display_data"
    },
    {
     "name": "stdout",
     "output_type": "stream",
     "text": [
      "Optimization restart 1/10, f = 38.86540927678668\n",
      "Optimization restart 2/10, f = 38.865409277505066\n",
      "Optimization restart 3/10, f = 38.86540927680569\n",
      "Optimization restart 4/10, f = 38.865409276801685\n",
      "Optimization restart 5/10, f = 38.86540928087993\n",
      "Optimization restart 6/10, f = 38.86540927682077\n",
      "Optimization restart 7/10, f = 38.865409276866686\n",
      "Optimization restart 8/10, f = 38.865409279303236\n",
      "Optimization restart 9/10, f = 38.86540927901214\n",
      "Optimization restart 10/10, f = 38.86540927680073\n",
      "We are at frame: 291\n"
     ]
    },
    {
     "data": {
      "application/vnd.jupyter.widget-view+json": {
       "model_id": "62f42929f8a74cba911e458f1a937102",
       "version_major": 2,
       "version_minor": 0
      },
      "text/plain": [
       "HBox(children=(VBox(children=(IntProgress(value=0, max=1000), HTML(value=''))), Box(children=(HTML(value=''),)…"
      ]
     },
     "metadata": {},
     "output_type": "display_data"
    },
    {
     "name": "stdout",
     "output_type": "stream",
     "text": [
      "Optimization restart 1/10, f = 11.559993345391934\n",
      "Optimization restart 2/10, f = 11.559993345424163\n",
      "Optimization restart 3/10, f = 11.559993345382559\n",
      "Optimization restart 4/10, f = 11.559993346438347\n",
      "Optimization restart 5/10, f = 11.559993345453936\n",
      "Optimization restart 6/10, f = 11.559993345633691\n",
      "Optimization restart 7/10, f = 11.559993345428826\n",
      "Optimization restart 8/10, f = 11.559993345658024\n",
      "Optimization restart 9/10, f = 11.55999334542661\n",
      "Optimization restart 10/10, f = 11.559993345386497\n",
      "We are at frame: 292\n"
     ]
    },
    {
     "data": {
      "application/vnd.jupyter.widget-view+json": {
       "model_id": "3c690797a8d649dfaed56c8f24c3c705",
       "version_major": 2,
       "version_minor": 0
      },
      "text/plain": [
       "HBox(children=(VBox(children=(IntProgress(value=0, max=1000), HTML(value=''))), Box(children=(HTML(value=''),)…"
      ]
     },
     "metadata": {},
     "output_type": "display_data"
    },
    {
     "name": "stdout",
     "output_type": "stream",
     "text": [
      "Optimization restart 1/10, f = 10.308950671147493\n",
      "Optimization restart 2/10, f = 10.308950668878381\n",
      "Optimization restart 3/10, f = 10.308950668880808\n",
      "Optimization restart 4/10, f = 10.308950668945027\n",
      "Optimization restart 5/10, f = 10.308950668876943\n",
      "Optimization restart 6/10, f = 10.308950668906562\n",
      "Optimization restart 7/10, f = 10.308950668877195\n",
      "Optimization restart 8/10, f = 10.308950668902252\n",
      "Optimization restart 9/10, f = 10.308950668993994\n",
      "Optimization restart 10/10, f = 10.308950668879174\n",
      "We are at frame: 293\n",
      "Size of X_train at df BR_0000324 is (0, 10) - to many missing values\n",
      "We are at frame: 294\n"
     ]
    },
    {
     "data": {
      "application/vnd.jupyter.widget-view+json": {
       "model_id": "adc3478b2ffc4627898e3973ea1c65d3",
       "version_major": 2,
       "version_minor": 0
      },
      "text/plain": [
       "HBox(children=(VBox(children=(IntProgress(value=0, max=1000), HTML(value=''))), Box(children=(HTML(value=''),)…"
      ]
     },
     "metadata": {},
     "output_type": "display_data"
    },
    {
     "name": "stdout",
     "output_type": "stream",
     "text": [
      "Optimization restart 1/10, f = 52.30623898774765\n",
      "Optimization restart 2/10, f = 52.306238987746646\n",
      "Optimization restart 3/10, f = 52.30623898773202\n",
      "Optimization restart 4/10, f = 52.30623899533968\n",
      "Optimization restart 5/10, f = 52.30623899088169\n",
      "Optimization restart 6/10, f = 52.30623910305483\n",
      "Optimization restart 7/10, f = 52.306238988817825\n",
      "Optimization restart 8/10, f = 52.30623898899227\n",
      "Optimization restart 9/10, f = 52.306238987728506\n",
      "Optimization restart 10/10, f = 52.306238987735746\n",
      "We are at frame: 295\n"
     ]
    },
    {
     "data": {
      "application/vnd.jupyter.widget-view+json": {
       "model_id": "4fa8ca26d412405f9926e000a7e73f8b",
       "version_major": 2,
       "version_minor": 0
      },
      "text/plain": [
       "HBox(children=(VBox(children=(IntProgress(value=0, max=1000), HTML(value=''))), Box(children=(HTML(value=''),)…"
      ]
     },
     "metadata": {},
     "output_type": "display_data"
    },
    {
     "name": "stdout",
     "output_type": "stream",
     "text": [
      "Optimization restart 1/10, f = 22.362648688357567\n",
      "Optimization restart 2/10, f = 22.36264868734461\n",
      "Optimization restart 3/10, f = 22.362648687427345\n",
      "Optimization restart 4/10, f = 22.362648687384123\n",
      "Optimization restart 5/10, f = 22.362648687398533\n",
      "Optimization restart 6/10, f = 22.36264868740144\n",
      "Optimization restart 7/10, f = 22.36264868743369\n",
      "Optimization restart 8/10, f = 22.362648687448413\n",
      "Optimization restart 9/10, f = 22.362648687461494\n",
      "Optimization restart 10/10, f = 22.36264868758184\n",
      "We are at frame: 296\n"
     ]
    },
    {
     "data": {
      "application/vnd.jupyter.widget-view+json": {
       "model_id": "6a50a46956ac4d309a934b753dc9a927",
       "version_major": 2,
       "version_minor": 0
      },
      "text/plain": [
       "HBox(children=(VBox(children=(IntProgress(value=0, max=1000), HTML(value=''))), Box(children=(HTML(value=''),)…"
      ]
     },
     "metadata": {},
     "output_type": "display_data"
    },
    {
     "name": "stdout",
     "output_type": "stream",
     "text": [
      "Optimization restart 1/10, f = 54.19080206314116\n",
      "Optimization restart 2/10, f = 54.19080206292601\n",
      "Optimization restart 3/10, f = 54.19080206310602\n",
      "Optimization restart 4/10, f = 54.190802062869665\n",
      "Optimization restart 5/10, f = 54.19080206640406\n",
      "Optimization restart 6/10, f = 54.190802062913306\n",
      "Optimization restart 7/10, f = 54.19080206327013\n",
      "Optimization restart 8/10, f = 54.19080209277156\n",
      "Optimization restart 9/10, f = 54.190802062890064\n",
      "Optimization restart 10/10, f = 54.19080206287817\n",
      "We are at frame: 297\n"
     ]
    },
    {
     "data": {
      "application/vnd.jupyter.widget-view+json": {
       "model_id": "0dc12469c9ef4823bd70222e93f6289c",
       "version_major": 2,
       "version_minor": 0
      },
      "text/plain": [
       "HBox(children=(VBox(children=(IntProgress(value=0, max=1000), HTML(value=''))), Box(children=(HTML(value=''),)…"
      ]
     },
     "metadata": {},
     "output_type": "display_data"
    },
    {
     "name": "stdout",
     "output_type": "stream",
     "text": [
      "Optimization restart 1/10, f = 25.179957013163087\n",
      "Optimization restart 2/10, f = 25.179957013162845\n",
      "Optimization restart 3/10, f = 25.17995701791819\n",
      "Optimization restart 4/10, f = 25.17995701316913\n",
      "Optimization restart 5/10, f = 25.17995701316827\n",
      "Optimization restart 6/10, f = 25.17995701766099\n",
      "Optimization restart 7/10, f = 25.179957013324238\n",
      "Optimization restart 8/10, f = 25.179957013163172\n",
      "Optimization restart 9/10, f = 25.17995701316287\n",
      "Optimization restart 10/10, f = 25.179957013162472\n",
      "We are at frame: 298\n"
     ]
    },
    {
     "data": {
      "application/vnd.jupyter.widget-view+json": {
       "model_id": "dbb365c51ab44941bff978f4b105e84b",
       "version_major": 2,
       "version_minor": 0
      },
      "text/plain": [
       "HBox(children=(VBox(children=(IntProgress(value=0, max=1000), HTML(value=''))), Box(children=(HTML(value=''),)…"
      ]
     },
     "metadata": {},
     "output_type": "display_data"
    },
    {
     "name": "stdout",
     "output_type": "stream",
     "text": [
      "Optimization restart 1/10, f = 1.0031691970029724\n",
      "Optimization restart 2/10, f = 1.0031692739922038\n",
      "Optimization restart 3/10, f = 1.0031700560117967\n",
      "Optimization restart 4/10, f = 1.0031690433930667\n",
      "Optimization restart 5/10, f = 1.0031696522491325\n",
      "Optimization restart 6/10, f = 1.003173816517427\n",
      "Optimization restart 7/10, f = 1.0031697600084664\n",
      "Optimization restart 8/10, f = 1.0031722060187276\n",
      "Optimization restart 9/10, f = 1.003170335448206\n",
      "Optimization restart 10/10, f = 1.0031700461500561\n",
      "We are at frame: 299\n"
     ]
    },
    {
     "data": {
      "application/vnd.jupyter.widget-view+json": {
       "model_id": "5acf7d60836f4a418dded771e2345f76",
       "version_major": 2,
       "version_minor": 0
      },
      "text/plain": [
       "HBox(children=(VBox(children=(IntProgress(value=0, max=1000), HTML(value=''))), Box(children=(HTML(value=''),)…"
      ]
     },
     "metadata": {},
     "output_type": "display_data"
    },
    {
     "name": "stdout",
     "output_type": "stream",
     "text": [
      "Optimization restart 1/10, f = 14.94439564892539\n",
      "Optimization restart 2/10, f = 14.944395648779999\n",
      "Optimization restart 3/10, f = 14.944395649176872\n",
      "Optimization restart 4/10, f = 14.944395648778254\n",
      "Optimization restart 5/10, f = 14.944395648782361\n",
      "Optimization restart 6/10, f = 14.944395648814606\n",
      "Optimization restart 7/10, f = 14.94439564881538\n",
      "Optimization restart 8/10, f = 14.944395649037588\n",
      "Optimization restart 9/10, f = 14.944395648778425\n",
      "Optimization restart 10/10, f = 14.94439564877862\n",
      "We are at frame: 300\n"
     ]
    },
    {
     "data": {
      "application/vnd.jupyter.widget-view+json": {
       "model_id": "eca8c88a94c44038b581071aab167f97",
       "version_major": 2,
       "version_minor": 0
      },
      "text/plain": [
       "HBox(children=(VBox(children=(IntProgress(value=0, max=1000), HTML(value=''))), Box(children=(HTML(value=''),)…"
      ]
     },
     "metadata": {},
     "output_type": "display_data"
    },
    {
     "name": "stdout",
     "output_type": "stream",
     "text": [
      "Optimization restart 1/10, f = 81.81088202946708\n",
      "Optimization restart 2/10, f = 81.81088202953913\n",
      "Optimization restart 3/10, f = 81.81088202955357\n",
      "Optimization restart 4/10, f = 81.81088202946816\n",
      "Optimization restart 5/10, f = 81.81088202941646\n",
      "Optimization restart 6/10, f = 81.8977732769905\n",
      "Optimization restart 7/10, f = 81.81088202947953\n",
      "Optimization restart 8/10, f = 81.81088292766134\n",
      "Optimization restart 9/10, f = 81.81088202944994\n",
      "Optimization restart 10/10, f = 81.81088202937752\n",
      "We are at frame: 301\n",
      "Size of X_train at df BR_0000342 is (0, 10) - to many missing values\n",
      "We are at frame: 302\n"
     ]
    },
    {
     "data": {
      "application/vnd.jupyter.widget-view+json": {
       "model_id": "0aa72aa904ae4aa6bc90b6b7af09ac3c",
       "version_major": 2,
       "version_minor": 0
      },
      "text/plain": [
       "HBox(children=(VBox(children=(IntProgress(value=0, max=1000), HTML(value=''))), Box(children=(HTML(value=''),)…"
      ]
     },
     "metadata": {},
     "output_type": "display_data"
    },
    {
     "name": "stdout",
     "output_type": "stream",
     "text": [
      "Optimization restart 1/10, f = 118.02081840733274\n",
      "Optimization restart 2/10, f = 118.02082009653375\n",
      "Optimization restart 3/10, f = 118.02081840720436\n",
      "Optimization restart 4/10, f = 118.020818407594\n",
      "Optimization restart 5/10, f = 118.02081840722705\n",
      "Optimization restart 6/10, f = 118.02081840698204\n",
      "Optimization restart 7/10, f = 118.02081840732973\n",
      "Optimization restart 8/10, f = 118.25694433949164\n",
      "Optimization restart 9/10, f = 118.02081841795781\n",
      "Optimization restart 10/10, f = 118.0208184091563\n",
      "We are at frame: 303\n",
      "Size of X_train at df BR_0000344 is (0, 10) - to many missing values\n",
      "We are at frame: 304\n"
     ]
    },
    {
     "data": {
      "application/vnd.jupyter.widget-view+json": {
       "model_id": "e6cb7038a36f43339d06f7f9ba132b36",
       "version_major": 2,
       "version_minor": 0
      },
      "text/plain": [
       "HBox(children=(VBox(children=(IntProgress(value=0, max=1000), HTML(value=''))), Box(children=(HTML(value=''),)…"
      ]
     },
     "metadata": {},
     "output_type": "display_data"
    },
    {
     "name": "stdout",
     "output_type": "stream",
     "text": [
      "Optimization restart 1/10, f = 24.149857334183206\n",
      "Optimization restart 2/10, f = 24.14985733423301\n",
      "Optimization restart 3/10, f = 24.149857334201073\n",
      "Optimization restart 4/10, f = 24.149857334204384\n",
      "Optimization restart 5/10, f = 24.149857334452633\n",
      "Optimization restart 6/10, f = 24.149857334318796\n",
      "Optimization restart 7/10, f = 24.149857334175064\n",
      "Optimization restart 8/10, f = 24.149857334199833\n",
      "Optimization restart 9/10, f = 24.14985733418831\n",
      "Optimization restart 10/10, f = 24.14985735419414\n",
      "We are at frame: 305\n"
     ]
    },
    {
     "data": {
      "application/vnd.jupyter.widget-view+json": {
       "model_id": "04ce57a45da94542a0020d384f9ffac8",
       "version_major": 2,
       "version_minor": 0
      },
      "text/plain": [
       "HBox(children=(VBox(children=(IntProgress(value=0, max=1000), HTML(value=''))), Box(children=(HTML(value=''),)…"
      ]
     },
     "metadata": {},
     "output_type": "display_data"
    },
    {
     "name": "stdout",
     "output_type": "stream",
     "text": [
      "Optimization restart 1/10, f = 124.61699443912175\n",
      "Optimization restart 2/10, f = 124.61699443908697\n",
      "Optimization restart 3/10, f = 124.61699443904922\n",
      "Optimization restart 4/10, f = 124.61699443897737\n",
      "Optimization restart 5/10, f = 124.61699845001351\n",
      "Optimization restart 6/10, f = 124.61699443896799\n",
      "Optimization restart 7/10, f = 124.61699443898925\n",
      "Optimization restart 8/10, f = 124.61699443907179\n",
      "Optimization restart 9/10, f = 124.61699443903211\n",
      "Optimization restart 10/10, f = 124.6169944389691\n",
      "We are at frame: 306\n"
     ]
    },
    {
     "data": {
      "application/vnd.jupyter.widget-view+json": {
       "model_id": "ccbc124a486b445f958c8250f2408ca0",
       "version_major": 2,
       "version_minor": 0
      },
      "text/plain": [
       "HBox(children=(VBox(children=(IntProgress(value=0, max=1000), HTML(value=''))), Box(children=(HTML(value=''),)…"
      ]
     },
     "metadata": {},
     "output_type": "display_data"
    },
    {
     "name": "stdout",
     "output_type": "stream",
     "text": [
      "Optimization restart 1/10, f = 138.70318592015565\n",
      "Optimization restart 2/10, f = 138.7031859201412\n",
      "Optimization restart 3/10, f = 138.70318592015633\n",
      "Optimization restart 4/10, f = 138.70318592014885\n",
      "Optimization restart 5/10, f = 138.70318592047323\n",
      "Optimization restart 6/10, f = 138.70318592172748\n",
      "Optimization restart 7/10, f = 138.70318592260108\n",
      "Optimization restart 8/10, f = 138.7031859299359\n",
      "Optimization restart 9/10, f = 138.70318592014084\n",
      "Optimization restart 10/10, f = 138.70318592139265\n",
      "We are at frame: 307\n",
      "Could not compute the SpearmansCorrelation at df BR_0000349\n"
     ]
    },
    {
     "data": {
      "application/vnd.jupyter.widget-view+json": {
       "model_id": "08eeeb4a0663474b848ede5bda5ae48b",
       "version_major": 2,
       "version_minor": 0
      },
      "text/plain": [
       "HBox(children=(VBox(children=(IntProgress(value=0, max=1000), HTML(value=''))), Box(children=(HTML(value=''),)…"
      ]
     },
     "metadata": {},
     "output_type": "display_data"
    },
    {
     "name": "stdout",
     "output_type": "stream",
     "text": [
      "Optimization restart 1/10, f = 138.70318592015565\n",
      "Optimization restart 2/10, f = 138.70318595566502\n",
      "Optimization restart 3/10, f = 138.70318592027127\n",
      "Optimization restart 4/10, f = 138.7031859204436\n",
      "Optimization restart 5/10, f = 138.7031859218445\n",
      "Optimization restart 6/10, f = 138.70318595642166\n",
      "Optimization restart 7/10, f = 138.7031859216562\n",
      "Optimization restart 8/10, f = 138.70318592016375\n",
      "Optimization restart 9/10, f = 138.70318592032078\n",
      "Optimization restart 10/10, f = 138.70318592060434\n",
      "We are at frame: 308\n"
     ]
    },
    {
     "data": {
      "application/vnd.jupyter.widget-view+json": {
       "model_id": "cfe342eddcff429d9808b661dbe2e6c0",
       "version_major": 2,
       "version_minor": 0
      },
      "text/plain": [
       "HBox(children=(VBox(children=(IntProgress(value=0, max=1000), HTML(value=''))), Box(children=(HTML(value=''),)…"
      ]
     },
     "metadata": {},
     "output_type": "display_data"
    },
    {
     "name": "stdout",
     "output_type": "stream",
     "text": [
      "Optimization restart 1/10, f = 48.34799066204285\n",
      "Optimization restart 2/10, f = 48.34799066201738\n",
      "Optimization restart 3/10, f = 48.34799066278053\n",
      "Optimization restart 4/10, f = 48.34799066192555\n",
      "Optimization restart 5/10, f = 48.34799066301579\n",
      "Optimization restart 6/10, f = 48.34799066546633\n",
      "Optimization restart 7/10, f = 48.347990661912846\n",
      "Optimization restart 8/10, f = 48.3479906619001\n",
      "Optimization restart 9/10, f = 48.34799066303552\n",
      "Optimization restart 10/10, f = 48.34799066418158\n",
      "We are at frame: 309\n"
     ]
    },
    {
     "data": {
      "application/vnd.jupyter.widget-view+json": {
       "model_id": "fff9f13d59154ed18b959c47290d592a",
       "version_major": 2,
       "version_minor": 0
      },
      "text/plain": [
       "HBox(children=(VBox(children=(IntProgress(value=0, max=1000), HTML(value=''))), Box(children=(HTML(value=''),)…"
      ]
     },
     "metadata": {},
     "output_type": "display_data"
    },
    {
     "name": "stdout",
     "output_type": "stream",
     "text": [
      "Optimization restart 1/10, f = 72.8214592514641\n",
      "Optimization restart 2/10, f = 72.82145925150789\n",
      "Optimization restart 3/10, f = 72.82145925742263\n",
      "Optimization restart 4/10, f = 72.82145926146902\n",
      "Optimization restart 5/10, f = 72.82145925138988\n",
      "Optimization restart 6/10, f = 72.82145925153142\n",
      "Optimization restart 7/10, f = 72.82145925137755\n",
      "Optimization restart 8/10, f = 72.82145925153874\n",
      "Optimization restart 9/10, f = 72.8214592514152\n",
      "Optimization restart 10/10, f = 72.82145932366643\n",
      "We are at frame: 310\n"
     ]
    },
    {
     "data": {
      "application/vnd.jupyter.widget-view+json": {
       "model_id": "6c3f983de4c14976ba3e9ae363dbc09e",
       "version_major": 2,
       "version_minor": 0
      },
      "text/plain": [
       "HBox(children=(VBox(children=(IntProgress(value=0, max=1000), HTML(value=''))), Box(children=(HTML(value=''),)…"
      ]
     },
     "metadata": {},
     "output_type": "display_data"
    },
    {
     "name": "stdout",
     "output_type": "stream",
     "text": [
      "Optimization restart 1/10, f = 44.08219696336543\n",
      "Optimization restart 2/10, f = 44.08219696299231\n",
      "Optimization restart 3/10, f = 44.082196962954384\n",
      "Optimization restart 4/10, f = 44.08219696312734\n",
      "Optimization restart 5/10, f = 44.08219696477532\n",
      "Optimization restart 6/10, f = 44.08219696295342\n",
      "Optimization restart 7/10, f = 44.0821969926378\n",
      "Optimization restart 8/10, f = 44.08219696315596\n",
      "Optimization restart 9/10, f = 44.08219696311295\n",
      "Optimization restart 10/10, f = 44.0821969629952\n",
      "We are at frame: 311\n"
     ]
    },
    {
     "data": {
      "application/vnd.jupyter.widget-view+json": {
       "model_id": "d58820a2316449acae255657ad91bdea",
       "version_major": 2,
       "version_minor": 0
      },
      "text/plain": [
       "HBox(children=(VBox(children=(IntProgress(value=0, max=1000), HTML(value=''))), Box(children=(HTML(value=''),)…"
      ]
     },
     "metadata": {},
     "output_type": "display_data"
    },
    {
     "name": "stdout",
     "output_type": "stream",
     "text": [
      "Optimization restart 1/10, f = 82.50534722390631\n",
      "Optimization restart 2/10, f = 82.50534722349542\n",
      "Optimization restart 3/10, f = 82.53181321751346\n",
      "Optimization restart 4/10, f = 82.50534726340734\n",
      "Optimization restart 5/10, f = 82.505347221964\n",
      "Optimization restart 6/10, f = 82.53586151951434\n",
      "Optimization restart 7/10, f = 82.50534722174343\n",
      "Optimization restart 8/10, f = 82.50534722180849\n",
      "Optimization restart 9/10, f = 82.5053472217868\n",
      "Optimization restart 10/10, f = 82.50534722173273\n",
      "We are at frame: 312\n"
     ]
    },
    {
     "data": {
      "application/vnd.jupyter.widget-view+json": {
       "model_id": "44e883c318524b92822a735fda3c0587",
       "version_major": 2,
       "version_minor": 0
      },
      "text/plain": [
       "HBox(children=(VBox(children=(IntProgress(value=0, max=1000), HTML(value=''))), Box(children=(HTML(value=''),)…"
      ]
     },
     "metadata": {},
     "output_type": "display_data"
    },
    {
     "name": "stdout",
     "output_type": "stream",
     "text": [
      "Optimization restart 1/10, f = 93.25375585387353\n",
      "Optimization restart 2/10, f = 93.25375585395123\n",
      "Optimization restart 3/10, f = 93.2537558541641\n",
      "Optimization restart 4/10, f = 93.25375585650582\n",
      "Optimization restart 5/10, f = 93.25375585483854\n",
      "Optimization restart 6/10, f = 93.25375585443683\n",
      "Optimization restart 7/10, f = 93.25375586600936\n",
      "Optimization restart 8/10, f = 93.25375587611973\n",
      "Optimization restart 9/10, f = 93.25375585386558\n",
      "Optimization restart 10/10, f = 93.25375585566982\n",
      "We are at frame: 313\n"
     ]
    },
    {
     "data": {
      "application/vnd.jupyter.widget-view+json": {
       "model_id": "4811cf56d67447d79a743fa915ebd760",
       "version_major": 2,
       "version_minor": 0
      },
      "text/plain": [
       "HBox(children=(VBox(children=(IntProgress(value=0, max=1000), HTML(value=''))), Box(children=(HTML(value=''),)…"
      ]
     },
     "metadata": {},
     "output_type": "display_data"
    },
    {
     "name": "stdout",
     "output_type": "stream",
     "text": [
      "Optimization restart 1/10, f = 48.729146924782356\n",
      "Optimization restart 2/10, f = 48.729146851030166\n",
      "Optimization restart 3/10, f = 48.729146850973024\n",
      "Optimization restart 4/10, f = 48.72914685426814\n",
      "Optimization restart 5/10, f = 48.72914685095617\n",
      "Optimization restart 6/10, f = 48.72914685093332\n",
      "Optimization restart 7/10, f = 48.729146850951025\n",
      "Optimization restart 8/10, f = 48.729146851017276\n",
      "Optimization restart 9/10, f = 48.7291468512862\n",
      "Optimization restart 10/10, f = 48.72914694356436\n",
      "We are at frame: 314\n"
     ]
    },
    {
     "data": {
      "application/vnd.jupyter.widget-view+json": {
       "model_id": "8f0eb99af81a487f8978967c2c1edda2",
       "version_major": 2,
       "version_minor": 0
      },
      "text/plain": [
       "HBox(children=(VBox(children=(IntProgress(value=0, max=1000), HTML(value=''))), Box(children=(HTML(value=''),)…"
      ]
     },
     "metadata": {},
     "output_type": "display_data"
    },
    {
     "name": "stdout",
     "output_type": "stream",
     "text": [
      "Optimization restart 1/10, f = 69.7272332364426\n",
      "Optimization restart 2/10, f = 69.7272332367159\n",
      "Optimization restart 3/10, f = 69.72723323694909\n",
      "Optimization restart 4/10, f = 69.72723344065845\n",
      "Optimization restart 5/10, f = 69.72723323652565\n",
      "Optimization restart 6/10, f = 69.72723323966167\n",
      "Optimization restart 7/10, f = 69.72723323621153\n",
      "Optimization restart 8/10, f = 69.72723323621469\n",
      "Optimization restart 9/10, f = 69.72723323619996\n",
      "Optimization restart 10/10, f = 69.72723323924714\n",
      "We are at frame: 315\n"
     ]
    },
    {
     "data": {
      "application/vnd.jupyter.widget-view+json": {
       "model_id": "2ed65f8ac25c458fb2df33dd46b9e832",
       "version_major": 2,
       "version_minor": 0
      },
      "text/plain": [
       "HBox(children=(VBox(children=(IntProgress(value=0, max=1000), HTML(value=''))), Box(children=(HTML(value=''),)…"
      ]
     },
     "metadata": {},
     "output_type": "display_data"
    },
    {
     "name": "stdout",
     "output_type": "stream",
     "text": [
      "Optimization restart 1/10, f = 33.72047981095797\n",
      "Optimization restart 2/10, f = 33.720479811091366\n",
      "Optimization restart 3/10, f = 33.720479810972876\n",
      "Optimization restart 4/10, f = 33.720479810978034\n",
      "Optimization restart 5/10, f = 33.72047981873827\n",
      "Optimization restart 6/10, f = 33.720479810913744\n",
      "Optimization restart 7/10, f = 33.72047981087766\n",
      "Optimization restart 8/10, f = 33.72047981125512\n",
      "Optimization restart 9/10, f = 33.72047982014914\n",
      "Optimization restart 10/10, f = 33.72047981083402\n",
      "We are at frame: 316\n"
     ]
    },
    {
     "data": {
      "application/vnd.jupyter.widget-view+json": {
       "model_id": "af7ac932ad854e9e8c9ad56f2c75f49e",
       "version_major": 2,
       "version_minor": 0
      },
      "text/plain": [
       "HBox(children=(VBox(children=(IntProgress(value=0, max=1000), HTML(value=''))), Box(children=(HTML(value=''),)…"
      ]
     },
     "metadata": {},
     "output_type": "display_data"
    },
    {
     "name": "stdout",
     "output_type": "stream",
     "text": [
      "Optimization restart 1/10, f = 9.435463176829927\n",
      "Optimization restart 2/10, f = 9.435463176846596\n",
      "Optimization restart 3/10, f = 9.43546317684492\n",
      "Optimization restart 4/10, f = 9.435463177160159\n",
      "Optimization restart 5/10, f = 9.435463176965555\n",
      "Optimization restart 6/10, f = 9.435463179201761\n",
      "Optimization restart 7/10, f = 9.435463176842191\n",
      "Optimization restart 8/10, f = 9.435463177020353\n",
      "Optimization restart 9/10, f = 9.435463178667106\n",
      "Optimization restart 10/10, f = 9.435463176832428\n",
      "We are at frame: 317\n"
     ]
    },
    {
     "data": {
      "application/vnd.jupyter.widget-view+json": {
       "model_id": "3a8ec5fc35fc41d4b7b05faabfc3935d",
       "version_major": 2,
       "version_minor": 0
      },
      "text/plain": [
       "HBox(children=(VBox(children=(IntProgress(value=0, max=1000), HTML(value=''))), Box(children=(HTML(value=''),)…"
      ]
     },
     "metadata": {},
     "output_type": "display_data"
    },
    {
     "name": "stdout",
     "output_type": "stream",
     "text": [
      "Optimization restart 1/10, f = 45.488216857502835\n",
      "Optimization restart 2/10, f = 45.48821685755924\n",
      "Optimization restart 3/10, f = 45.48821685747845\n",
      "Optimization restart 4/10, f = 45.488216857842744\n",
      "Optimization restart 5/10, f = 45.48821685749216\n",
      "Optimization restart 6/10, f = 45.48821685909627\n",
      "Optimization restart 7/10, f = 45.488216858560136\n",
      "Optimization restart 8/10, f = 45.488216863157064\n",
      "Optimization restart 9/10, f = 45.48821686740415\n",
      "Optimization restart 10/10, f = 45.48821685749695\n",
      "We are at frame: 318\n"
     ]
    },
    {
     "data": {
      "application/vnd.jupyter.widget-view+json": {
       "model_id": "3e0a7b30ec8647ffa4313eea738e1207",
       "version_major": 2,
       "version_minor": 0
      },
      "text/plain": [
       "HBox(children=(VBox(children=(IntProgress(value=0, max=1000), HTML(value=''))), Box(children=(HTML(value=''),)…"
      ]
     },
     "metadata": {},
     "output_type": "display_data"
    },
    {
     "name": "stdout",
     "output_type": "stream",
     "text": [
      "Optimization restart 1/10, f = 33.346255076915284\n",
      "Optimization restart 2/10, f = 33.34625508490393\n",
      "Optimization restart 3/10, f = 33.3462550767328\n",
      "Optimization restart 4/10, f = 33.3462550768256\n",
      "Optimization restart 5/10, f = 33.346255077235014\n",
      "Optimization restart 6/10, f = 33.34625507680073\n",
      "Optimization restart 7/10, f = 33.34625507765003\n",
      "Optimization restart 8/10, f = 33.34625507673253\n",
      "Optimization restart 9/10, f = 33.34625507672341\n",
      "Optimization restart 10/10, f = 33.34625507718283\n",
      "We are at frame: 319\n"
     ]
    },
    {
     "data": {
      "application/vnd.jupyter.widget-view+json": {
       "model_id": "da181740a088449dad322c2f9780a7e5",
       "version_major": 2,
       "version_minor": 0
      },
      "text/plain": [
       "HBox(children=(VBox(children=(IntProgress(value=0, max=1000), HTML(value=''))), Box(children=(HTML(value=''),)…"
      ]
     },
     "metadata": {},
     "output_type": "display_data"
    },
    {
     "name": "stdout",
     "output_type": "stream",
     "text": [
      "Optimization restart 1/10, f = 140.67759967407875\n",
      "Optimization restart 2/10, f = 140.67759967418414\n",
      "Optimization restart 3/10, f = 140.6775996737772\n",
      "Optimization restart 4/10, f = 140.67759967521965\n",
      "Optimization restart 5/10, f = 140.67759967618628\n",
      "Optimization restart 6/10, f = 140.67759974790832\n",
      "Optimization restart 7/10, f = 140.67759968029964\n",
      "Optimization restart 8/10, f = 140.67759967377123\n",
      "Optimization restart 9/10, f = 140.67759967377054\n",
      "Optimization restart 10/10, f = 140.67759978939836\n",
      "We are at frame: 320\n"
     ]
    },
    {
     "data": {
      "application/vnd.jupyter.widget-view+json": {
       "model_id": "d136106f5fed4c988abfe519497f3b7a",
       "version_major": 2,
       "version_minor": 0
      },
      "text/plain": [
       "HBox(children=(VBox(children=(IntProgress(value=0, max=1000), HTML(value=''))), Box(children=(HTML(value=''),)…"
      ]
     },
     "metadata": {},
     "output_type": "display_data"
    },
    {
     "name": "stdout",
     "output_type": "stream",
     "text": [
      "Optimization restart 1/10, f = 65.91667988122141\n",
      "Optimization restart 2/10, f = 65.916680197042\n",
      "Optimization restart 3/10, f = 65.91667988117467\n",
      "Optimization restart 4/10, f = 65.91668006116488\n",
      "Optimization restart 5/10, f = 65.9166800629367\n",
      "Optimization restart 6/10, f = 65.91667988122273\n",
      "Optimization restart 7/10, f = 65.91667988120196\n",
      "Optimization restart 8/10, f = 65.91667988120963\n",
      "Optimization restart 9/10, f = 65.9166798812268\n",
      "Optimization restart 10/10, f = 65.91667988117129\n",
      "We are at frame: 321\n"
     ]
    },
    {
     "data": {
      "application/vnd.jupyter.widget-view+json": {
       "model_id": "de61db5f0ee348b281a922cef1cfd45c",
       "version_major": 2,
       "version_minor": 0
      },
      "text/plain": [
       "HBox(children=(VBox(children=(IntProgress(value=0, max=1000), HTML(value=''))), Box(children=(HTML(value=''),)…"
      ]
     },
     "metadata": {},
     "output_type": "display_data"
    },
    {
     "name": "stdout",
     "output_type": "stream",
     "text": [
      "Optimization restart 1/10, f = 121.68539317694423\n",
      "Optimization restart 2/10, f = 121.68539317696494\n",
      "Optimization restart 3/10, f = 121.68539317694416\n",
      "Optimization restart 4/10, f = 121.68539317732973\n",
      "Optimization restart 5/10, f = 121.68539317696272\n",
      "Optimization restart 6/10, f = 121.68539317696964\n",
      "Optimization restart 7/10, f = 121.68539317726433\n",
      "Optimization restart 8/10, f = 121.68539317693875\n",
      "Optimization restart 9/10, f = 121.68539317709484\n",
      "Optimization restart 10/10, f = 121.68539317760003\n",
      "We are at frame: 322\n"
     ]
    },
    {
     "data": {
      "application/vnd.jupyter.widget-view+json": {
       "model_id": "0145109268f240638f9696272b2a9826",
       "version_major": 2,
       "version_minor": 0
      },
      "text/plain": [
       "HBox(children=(VBox(children=(IntProgress(value=0, max=1000), HTML(value=''))), Box(children=(HTML(value=''),)…"
      ]
     },
     "metadata": {},
     "output_type": "display_data"
    },
    {
     "name": "stdout",
     "output_type": "stream",
     "text": [
      "Optimization restart 1/10, f = 23.892902347741117\n",
      "Optimization restart 2/10, f = 23.8929022770099\n",
      "Optimization restart 3/10, f = 23.892902337857826\n",
      "Optimization restart 4/10, f = 23.892902870597755\n",
      "Optimization restart 5/10, f = 23.89290253565968\n",
      "Optimization restart 6/10, f = 23.892902914445973\n",
      "Optimization restart 7/10, f = 23.892902294875725\n",
      "Optimization restart 8/10, f = 23.89290245866868\n",
      "Optimization restart 9/10, f = 23.892902469885534\n",
      "Optimization restart 10/10, f = 23.8929040348598\n",
      "We are at frame: 323\n"
     ]
    },
    {
     "data": {
      "application/vnd.jupyter.widget-view+json": {
       "model_id": "6feeefbfebbc48738011844cb6663ed2",
       "version_major": 2,
       "version_minor": 0
      },
      "text/plain": [
       "HBox(children=(VBox(children=(IntProgress(value=0, max=1000), HTML(value=''))), Box(children=(HTML(value=''),)…"
      ]
     },
     "metadata": {},
     "output_type": "display_data"
    },
    {
     "name": "stdout",
     "output_type": "stream",
     "text": [
      "Optimization restart 1/10, f = 116.22846580180999\n",
      "Optimization restart 2/10, f = 116.22846580143627\n",
      "Optimization restart 3/10, f = 116.22846580191236\n",
      "Optimization restart 4/10, f = 116.22846580362116\n",
      "Optimization restart 5/10, f = 116.2284658015568\n",
      "Optimization restart 6/10, f = 116.22846580139944\n",
      "Optimization restart 7/10, f = 116.22846580149658\n",
      "Optimization restart 8/10, f = 116.22846580142425\n",
      "Optimization restart 9/10, f = 116.22846580140282\n",
      "Optimization restart 10/10, f = 116.22846580139779\n",
      "We are at frame: 324\n"
     ]
    },
    {
     "data": {
      "application/vnd.jupyter.widget-view+json": {
       "model_id": "0a6978bd20824cc5a2bf8ae611dc28a4",
       "version_major": 2,
       "version_minor": 0
      },
      "text/plain": [
       "HBox(children=(VBox(children=(IntProgress(value=0, max=1000), HTML(value=''))), Box(children=(HTML(value=''),)…"
      ]
     },
     "metadata": {},
     "output_type": "display_data"
    },
    {
     "name": "stdout",
     "output_type": "stream",
     "text": [
      "Optimization restart 1/10, f = 135.31973113711595\n",
      "Optimization restart 2/10, f = 135.31973113292545\n",
      "Optimization restart 3/10, f = 135.31973113276476\n",
      "Optimization restart 4/10, f = 135.3197311326744\n",
      "Optimization restart 5/10, f = 135.319731132737\n",
      "Optimization restart 6/10, f = 135.31973113266326\n",
      "Optimization restart 7/10, f = 135.31973113583808\n",
      "Optimization restart 8/10, f = 135.3197311344785\n",
      "Optimization restart 9/10, f = 135.31973113853357\n",
      "Optimization restart 10/10, f = 135.31973113812575\n",
      "We are at frame: 325\n"
     ]
    },
    {
     "data": {
      "application/vnd.jupyter.widget-view+json": {
       "model_id": "8b15110789d74e61aa5363c592053d11",
       "version_major": 2,
       "version_minor": 0
      },
      "text/plain": [
       "HBox(children=(VBox(children=(IntProgress(value=0, max=1000), HTML(value=''))), Box(children=(HTML(value=''),)…"
      ]
     },
     "metadata": {},
     "output_type": "display_data"
    },
    {
     "name": "stdout",
     "output_type": "stream",
     "text": [
      "Optimization restart 1/10, f = 39.87550848121592\n",
      "Optimization restart 2/10, f = 39.8755084801241\n",
      "Optimization restart 3/10, f = 39.875508480032266\n",
      "Optimization restart 4/10, f = 39.87550848002034\n",
      "Optimization restart 5/10, f = 39.87550848004295\n",
      "Optimization restart 6/10, f = 39.875508480028486\n",
      "Optimization restart 7/10, f = 39.87550848006455\n",
      "Optimization restart 8/10, f = 39.87550848142783\n",
      "Optimization restart 9/10, f = 39.87550848003886\n",
      "Optimization restart 10/10, f = 39.87550848002289\n",
      "We are at frame: 326\n"
     ]
    },
    {
     "data": {
      "application/vnd.jupyter.widget-view+json": {
       "model_id": "23ff9a128d4d44ada08010a212ad9597",
       "version_major": 2,
       "version_minor": 0
      },
      "text/plain": [
       "HBox(children=(VBox(children=(IntProgress(value=0, max=1000), HTML(value=''))), Box(children=(HTML(value=''),)…"
      ]
     },
     "metadata": {},
     "output_type": "display_data"
    },
    {
     "name": "stdout",
     "output_type": "stream",
     "text": [
      "Optimization restart 1/10, f = 22.012417586915745\n",
      "Optimization restart 2/10, f = 22.012417587168585\n",
      "Optimization restart 3/10, f = 22.01241758693834\n",
      "Optimization restart 4/10, f = 22.01241759839749\n",
      "Optimization restart 5/10, f = 22.012417586915177\n",
      "Optimization restart 6/10, f = 22.012417586863137\n",
      "Optimization restart 7/10, f = 22.012417586906807\n",
      "Optimization restart 8/10, f = 22.012417586927597\n",
      "Optimization restart 9/10, f = 22.012417586847533\n",
      "Optimization restart 10/10, f = 22.012417586883885\n",
      "We are at frame: 327\n"
     ]
    },
    {
     "data": {
      "application/vnd.jupyter.widget-view+json": {
       "model_id": "392f8c8f6fd64b949a87bc29d036192d",
       "version_major": 2,
       "version_minor": 0
      },
      "text/plain": [
       "HBox(children=(VBox(children=(IntProgress(value=0, max=1000), HTML(value=''))), Box(children=(HTML(value=''),)…"
      ]
     },
     "metadata": {},
     "output_type": "display_data"
    },
    {
     "name": "stdout",
     "output_type": "stream",
     "text": [
      "Optimization restart 1/10, f = 137.69878247688183\n",
      "Optimization restart 2/10, f = 137.69878247985332\n",
      "Optimization restart 3/10, f = 137.69878247904524\n",
      "Optimization restart 4/10, f = 137.6987824768993\n",
      "Optimization restart 5/10, f = 137.69878255113377\n",
      "Optimization restart 6/10, f = 137.6987824768782\n",
      "Optimization restart 7/10, f = 137.6987824862029\n",
      "Optimization restart 8/10, f = 137.6987824769498\n",
      "Optimization restart 9/10, f = 137.69878247688825\n",
      "Optimization restart 10/10, f = 137.698782476926\n",
      "We are at frame: 328\n"
     ]
    },
    {
     "data": {
      "application/vnd.jupyter.widget-view+json": {
       "model_id": "3fd58ebccaa14f4591ce3aad24404cc3",
       "version_major": 2,
       "version_minor": 0
      },
      "text/plain": [
       "HBox(children=(VBox(children=(IntProgress(value=0, max=1000), HTML(value=''))), Box(children=(HTML(value=''),)…"
      ]
     },
     "metadata": {},
     "output_type": "display_data"
    },
    {
     "name": "stdout",
     "output_type": "stream",
     "text": [
      "Optimization restart 1/10, f = 73.67393678582846\n",
      "Optimization restart 2/10, f = 73.67393678760882\n",
      "Optimization restart 3/10, f = 73.6739367903584\n",
      "Optimization restart 4/10, f = 73.67393678671299\n",
      "Optimization restart 5/10, f = 73.67393678681788\n",
      "Optimization restart 6/10, f = 73.67393678731256\n",
      "Optimization restart 7/10, f = 73.67393678673403\n",
      "Optimization restart 8/10, f = 73.67393678609162\n",
      "Optimization restart 9/10, f = 73.67393678642526\n",
      "Optimization restart 10/10, f = 73.67393678593024\n",
      "We are at frame: 329\n"
     ]
    },
    {
     "data": {
      "application/vnd.jupyter.widget-view+json": {
       "model_id": "e99623246d964df9a42b6e9541fcbb6a",
       "version_major": 2,
       "version_minor": 0
      },
      "text/plain": [
       "HBox(children=(VBox(children=(IntProgress(value=0, max=1000), HTML(value=''))), Box(children=(HTML(value=''),)…"
      ]
     },
     "metadata": {},
     "output_type": "display_data"
    },
    {
     "name": "stdout",
     "output_type": "stream",
     "text": [
      "Optimization restart 1/10, f = 95.63217531148462\n",
      "Optimization restart 2/10, f = 95.63217531319202\n",
      "Optimization restart 3/10, f = 95.63217531229675\n",
      "Optimization restart 4/10, f = 95.63217531494772\n",
      "Optimization restart 5/10, f = 95.63217531758929\n",
      "Optimization restart 6/10, f = 95.63217531208316\n",
      "Optimization restart 7/10, f = 95.63217544659028\n",
      "Optimization restart 8/10, f = 95.63217532276741\n",
      "Optimization restart 9/10, f = 95.63217545757234\n",
      "Optimization restart 10/10, f = 95.63217531171748\n",
      "We are at frame: 330\n"
     ]
    },
    {
     "data": {
      "application/vnd.jupyter.widget-view+json": {
       "model_id": "261dfac69a5a4081a313bc9f13070e7c",
       "version_major": 2,
       "version_minor": 0
      },
      "text/plain": [
       "HBox(children=(VBox(children=(IntProgress(value=0, max=1000), HTML(value=''))), Box(children=(HTML(value=''),)…"
      ]
     },
     "metadata": {},
     "output_type": "display_data"
    },
    {
     "name": "stdout",
     "output_type": "stream",
     "text": [
      "Optimization restart 1/10, f = 37.912633883413775\n",
      "Optimization restart 2/10, f = 37.912633883882705\n",
      "Optimization restart 3/10, f = 37.9126338883996\n",
      "Optimization restart 4/10, f = 37.91263388529234\n",
      "Optimization restart 5/10, f = 37.912633883434296\n",
      "Optimization restart 6/10, f = 37.912633883408546\n",
      "Optimization restart 7/10, f = 37.91263388377604\n",
      "Optimization restart 8/10, f = 37.91263388480752\n",
      "Optimization restart 9/10, f = 37.912633883455044\n",
      "Optimization restart 10/10, f = 37.912652674669346\n",
      "We are at frame: 331\n"
     ]
    },
    {
     "data": {
      "application/vnd.jupyter.widget-view+json": {
       "model_id": "279f18ef73ab4118930c457351247e0d",
       "version_major": 2,
       "version_minor": 0
      },
      "text/plain": [
       "HBox(children=(VBox(children=(IntProgress(value=0, max=1000), HTML(value=''))), Box(children=(HTML(value=''),)…"
      ]
     },
     "metadata": {},
     "output_type": "display_data"
    },
    {
     "name": "stdout",
     "output_type": "stream",
     "text": [
      "Optimization restart 1/10, f = 23.24942823897507\n",
      "Optimization restart 2/10, f = 23.249428238955375\n",
      "Optimization restart 3/10, f = 23.24942823901125\n",
      "Optimization restart 4/10, f = 23.249428243130296\n",
      "Optimization restart 5/10, f = 23.249428238948894\n",
      "Optimization restart 6/10, f = 23.249428238960263\n",
      "Optimization restart 7/10, f = 23.24942823895887\n",
      "Optimization restart 8/10, f = 23.249428239885106\n",
      "Optimization restart 9/10, f = 23.24942823895367\n",
      "Optimization restart 10/10, f = 23.249428298186928\n",
      "We are at frame: 332\n"
     ]
    },
    {
     "data": {
      "application/vnd.jupyter.widget-view+json": {
       "model_id": "8bfdeb1138b146ca8ebf3546ee69f874",
       "version_major": 2,
       "version_minor": 0
      },
      "text/plain": [
       "HBox(children=(VBox(children=(IntProgress(value=0, max=1000), HTML(value=''))), Box(children=(HTML(value=''),)…"
      ]
     },
     "metadata": {},
     "output_type": "display_data"
    },
    {
     "name": "stdout",
     "output_type": "stream",
     "text": [
      "Optimization restart 1/10, f = 117.2549971657294\n",
      "Optimization restart 2/10, f = 379.4048392303967\n",
      "Optimization restart 3/10, f = 117.25499716793321\n",
      "Optimization restart 4/10, f = 117.25499716181253\n",
      "Optimization restart 5/10, f = 117.25499716569573\n",
      "Optimization restart 6/10, f = 117.25499716171963\n",
      "Optimization restart 7/10, f = 117.25499716172091\n",
      "Optimization restart 8/10, f = 117.25499716175426\n",
      "Optimization restart 9/10, f = 117.25499717128812\n",
      "Optimization restart 10/10, f = 117.2549971617247\n",
      "We are at frame: 333\n"
     ]
    },
    {
     "data": {
      "application/vnd.jupyter.widget-view+json": {
       "model_id": "8e7f2a0de8fb4a399b13dd73b0d668b3",
       "version_major": 2,
       "version_minor": 0
      },
      "text/plain": [
       "HBox(children=(VBox(children=(IntProgress(value=0, max=1000), HTML(value=''))), Box(children=(HTML(value=''),)…"
      ]
     },
     "metadata": {},
     "output_type": "display_data"
    },
    {
     "name": "stdout",
     "output_type": "stream",
     "text": [
      "Optimization restart 1/10, f = 52.30437088392132\n",
      "Optimization restart 2/10, f = 52.304370883912256\n",
      "Optimization restart 3/10, f = 52.3043708864961\n",
      "Optimization restart 4/10, f = 52.304370883914686\n",
      "Optimization restart 5/10, f = 52.30437088391474\n",
      "Optimization restart 6/10, f = 52.30437088393661\n",
      "Optimization restart 7/10, f = 52.30437088391152\n",
      "Optimization restart 8/10, f = 52.304370884154906\n",
      "Optimization restart 9/10, f = 52.30437088391339\n",
      "Optimization restart 10/10, f = 52.30437088441907\n",
      "We are at frame: 334\n"
     ]
    },
    {
     "data": {
      "application/vnd.jupyter.widget-view+json": {
       "model_id": "78accfee1abe4ce19425d56a5f9f2902",
       "version_major": 2,
       "version_minor": 0
      },
      "text/plain": [
       "HBox(children=(VBox(children=(IntProgress(value=0, max=1000), HTML(value=''))), Box(children=(HTML(value=''),)…"
      ]
     },
     "metadata": {},
     "output_type": "display_data"
    },
    {
     "name": "stdout",
     "output_type": "stream",
     "text": [
      "Optimization restart 1/10, f = 90.11512738495307\n",
      "Optimization restart 2/10, f = 90.11512738492543\n",
      "Optimization restart 3/10, f = 90.11512738494669\n",
      "Optimization restart 4/10, f = 90.1151273849348\n",
      "Optimization restart 5/10, f = 90.1151273850015\n",
      "Optimization restart 6/10, f = 90.11512738596963\n",
      "Optimization restart 7/10, f = 90.11512738603831\n",
      "Optimization restart 8/10, f = 90.11512738494947\n",
      "Optimization restart 9/10, f = 90.11512738674334\n",
      "Optimization restart 10/10, f = 90.11512738498735\n",
      "We are at frame: 335\n"
     ]
    },
    {
     "data": {
      "application/vnd.jupyter.widget-view+json": {
       "model_id": "6cd70f5e646f4393862d0ff40d5bed57",
       "version_major": 2,
       "version_minor": 0
      },
      "text/plain": [
       "HBox(children=(VBox(children=(IntProgress(value=0, max=1000), HTML(value=''))), Box(children=(HTML(value=''),)…"
      ]
     },
     "metadata": {},
     "output_type": "display_data"
    },
    {
     "name": "stdout",
     "output_type": "stream",
     "text": [
      "Optimization restart 1/10, f = 126.95299942348825\n",
      "Optimization restart 2/10, f = 126.9529994236172\n",
      "Optimization restart 3/10, f = 126.95299942414445\n",
      "Optimization restart 4/10, f = 126.95299942349178\n",
      "Optimization restart 5/10, f = 126.95299945041276\n",
      "Optimization restart 6/10, f = 126.95299943004304\n",
      "Optimization restart 7/10, f = 126.9529994236959\n",
      "Optimization restart 8/10, f = 126.9529994242755\n",
      "Optimization restart 9/10, f = 126.95299942500313\n",
      "Optimization restart 10/10, f = 126.95299942724128\n",
      "We are at frame: 336\n"
     ]
    },
    {
     "data": {
      "application/vnd.jupyter.widget-view+json": {
       "model_id": "2f007c70e920459e8a0b8acc0c611797",
       "version_major": 2,
       "version_minor": 0
      },
      "text/plain": [
       "HBox(children=(VBox(children=(IntProgress(value=0, max=1000), HTML(value=''))), Box(children=(HTML(value=''),)…"
      ]
     },
     "metadata": {},
     "output_type": "display_data"
    },
    {
     "name": "stdout",
     "output_type": "stream",
     "text": [
      "Optimization restart 1/10, f = 99.07675822628303\n",
      "Optimization restart 2/10, f = 99.07675822593302\n",
      "Optimization restart 3/10, f = 99.07675823016183\n",
      "Optimization restart 4/10, f = 99.07675822696187\n",
      "Optimization restart 5/10, f = 99.0767582267786\n",
      "Optimization restart 6/10, f = 99.07675822630016\n",
      "Optimization restart 7/10, f = 99.07675823209158\n",
      "Optimization restart 8/10, f = 99.07675822606795\n",
      "Optimization restart 9/10, f = 99.07675822911324\n",
      "Optimization restart 10/10, f = 99.076758225928\n",
      "We are at frame: 337\n"
     ]
    },
    {
     "data": {
      "application/vnd.jupyter.widget-view+json": {
       "model_id": "cef979e3b9164803b7b56c8b3e92d7f6",
       "version_major": 2,
       "version_minor": 0
      },
      "text/plain": [
       "HBox(children=(VBox(children=(IntProgress(value=0, max=1000), HTML(value=''))), Box(children=(HTML(value=''),)…"
      ]
     },
     "metadata": {},
     "output_type": "display_data"
    },
    {
     "name": "stdout",
     "output_type": "stream",
     "text": [
      "Optimization restart 1/10, f = 79.59001779957399\n",
      "Optimization restart 2/10, f = 79.59001779964709\n",
      "Optimization restart 3/10, f = 79.59001780082686\n",
      "Optimization restart 4/10, f = 79.59001779902265\n",
      "Optimization restart 5/10, f = 79.59001784105104\n",
      "Optimization restart 6/10, f = 79.59001779902039\n",
      "Optimization restart 7/10, f = 79.59001779957309\n",
      "Optimization restart 8/10, f = 79.59001779919639\n",
      "Optimization restart 9/10, f = 79.59001780194586\n",
      "Optimization restart 10/10, f = 79.59001779943422\n",
      "We are at frame: 338\n"
     ]
    },
    {
     "data": {
      "application/vnd.jupyter.widget-view+json": {
       "model_id": "fe4011d9cbff466e87387128ec39156b",
       "version_major": 2,
       "version_minor": 0
      },
      "text/plain": [
       "HBox(children=(VBox(children=(IntProgress(value=0, max=1000), HTML(value=''))), Box(children=(HTML(value=''),)…"
      ]
     },
     "metadata": {},
     "output_type": "display_data"
    },
    {
     "name": "stdout",
     "output_type": "stream",
     "text": [
      "Optimization restart 1/10, f = 37.40536897863784\n",
      "Optimization restart 2/10, f = 37.40536897919141\n",
      "Optimization restart 3/10, f = 37.40536944459624\n",
      "Optimization restart 4/10, f = 37.40536897852043\n",
      "Optimization restart 5/10, f = 37.40536897848706\n",
      "Optimization restart 6/10, f = 37.40536897863271\n",
      "Optimization restart 7/10, f = 37.40536898448672\n",
      "Optimization restart 8/10, f = 37.40536898313616\n",
      "Optimization restart 9/10, f = 37.405368983488614\n",
      "Optimization restart 10/10, f = 37.405368978491765\n",
      "We are at frame: 339\n"
     ]
    },
    {
     "data": {
      "application/vnd.jupyter.widget-view+json": {
       "model_id": "23817e0af43e4c9cb7711505966c8e07",
       "version_major": 2,
       "version_minor": 0
      },
      "text/plain": [
       "HBox(children=(VBox(children=(IntProgress(value=0, max=1000), HTML(value=''))), Box(children=(HTML(value=''),)…"
      ]
     },
     "metadata": {},
     "output_type": "display_data"
    },
    {
     "name": "stdout",
     "output_type": "stream",
     "text": [
      "Optimization restart 1/10, f = 56.8684141858151\n",
      "Optimization restart 2/10, f = 56.868414246536815\n",
      "Optimization restart 3/10, f = 56.868414185624516\n",
      "Optimization restart 4/10, f = 56.868414186383475\n",
      "Optimization restart 5/10, f = 56.86841418558906\n",
      "Optimization restart 6/10, f = 56.86841418585075\n",
      "Optimization restart 7/10, f = 56.86841418546656\n",
      "Optimization restart 8/10, f = 56.86841469795698\n",
      "Optimization restart 9/10, f = 56.868414185459216\n",
      "Optimization restart 10/10, f = 56.868414185911035\n",
      "We are at frame: 340\n"
     ]
    },
    {
     "data": {
      "application/vnd.jupyter.widget-view+json": {
       "model_id": "4429d9dc61984bf692741d38b0d53698",
       "version_major": 2,
       "version_minor": 0
      },
      "text/plain": [
       "HBox(children=(VBox(children=(IntProgress(value=0, max=1000), HTML(value=''))), Box(children=(HTML(value=''),)…"
      ]
     },
     "metadata": {},
     "output_type": "display_data"
    },
    {
     "name": "stdout",
     "output_type": "stream",
     "text": [
      "Optimization restart 1/10, f = 142.1594624327819\n",
      "Optimization restart 2/10, f = 142.15946243221512\n",
      "Optimization restart 3/10, f = 142.15946243185672\n",
      "Optimization restart 4/10, f = 142.15946244822223\n",
      "Optimization restart 5/10, f = 142.15946243399932\n",
      "Optimization restart 6/10, f = 142.15946243181835\n",
      "Optimization restart 7/10, f = 142.1594624319494\n",
      "Optimization restart 8/10, f = 142.159462431794\n",
      "Optimization restart 9/10, f = 142.1594624344473\n",
      "Optimization restart 10/10, f = 142.15946243207046\n",
      "We are at frame: 341\n"
     ]
    },
    {
     "data": {
      "application/vnd.jupyter.widget-view+json": {
       "model_id": "745c85eddf074c5eb5e4a4cdfb3f2f9a",
       "version_major": 2,
       "version_minor": 0
      },
      "text/plain": [
       "HBox(children=(VBox(children=(IntProgress(value=0, max=1000), HTML(value=''))), Box(children=(HTML(value=''),)…"
      ]
     },
     "metadata": {},
     "output_type": "display_data"
    },
    {
     "name": "stdout",
     "output_type": "stream",
     "text": [
      "Optimization restart 1/10, f = 134.9963549679487\n",
      "Optimization restart 2/10, f = 134.99635496791598\n",
      "Optimization restart 3/10, f = 134.996354967966\n",
      "Optimization restart 4/10, f = 134.9963549679787\n",
      "Optimization restart 5/10, f = 134.9963549685896\n",
      "Optimization restart 6/10, f = 134.99635496777515\n",
      "Optimization restart 7/10, f = 134.99635496780755\n",
      "Optimization restart 8/10, f = 134.99635496777353\n",
      "Optimization restart 9/10, f = 134.99635496796995\n",
      "Optimization restart 10/10, f = 134.99635496779078\n",
      "We are at frame: 342\n"
     ]
    },
    {
     "data": {
      "application/vnd.jupyter.widget-view+json": {
       "model_id": "a04952f2433b439d85ef8f9f0bab90f2",
       "version_major": 2,
       "version_minor": 0
      },
      "text/plain": [
       "HBox(children=(VBox(children=(IntProgress(value=0, max=1000), HTML(value=''))), Box(children=(HTML(value=''),)…"
      ]
     },
     "metadata": {},
     "output_type": "display_data"
    },
    {
     "name": "stdout",
     "output_type": "stream",
     "text": [
      "Optimization restart 1/10, f = 123.68754419723604\n",
      "Optimization restart 2/10, f = 123.68754419723223\n",
      "Optimization restart 3/10, f = 123.68754419719565\n",
      "Optimization restart 4/10, f = 123.68754419719374\n",
      "Optimization restart 5/10, f = 123.68754420195597\n",
      "Optimization restart 6/10, f = 123.687544197145\n",
      "Optimization restart 7/10, f = 123.68754419716609\n",
      "Optimization restart 8/10, f = 123.6875442082059\n",
      "Optimization restart 9/10, f = 123.68754419716649\n",
      "Optimization restart 10/10, f = 123.68754419760222\n",
      "We are at frame: 343\n"
     ]
    },
    {
     "data": {
      "application/vnd.jupyter.widget-view+json": {
       "model_id": "41b1d3508c7148b89c2d65ca78eac367",
       "version_major": 2,
       "version_minor": 0
      },
      "text/plain": [
       "HBox(children=(VBox(children=(IntProgress(value=0, max=1000), HTML(value=''))), Box(children=(HTML(value=''),)…"
      ]
     },
     "metadata": {},
     "output_type": "display_data"
    },
    {
     "name": "stdout",
     "output_type": "stream",
     "text": [
      "Optimization restart 1/10, f = 20.7266788695555\n",
      "Optimization restart 2/10, f = 20.72667887463318\n",
      "Optimization restart 3/10, f = 20.72667887006369\n",
      "Optimization restart 4/10, f = 20.726678869558683\n",
      "Optimization restart 5/10, f = 20.72667886998019\n",
      "Optimization restart 6/10, f = 20.726678869560576\n",
      "Optimization restart 7/10, f = 20.726678869564598\n",
      "Optimization restart 8/10, f = 20.726678869573426\n",
      "Optimization restart 9/10, f = 20.726678869559766\n",
      "Optimization restart 10/10, f = 20.726678869691906\n",
      "We are at frame: 344\n"
     ]
    },
    {
     "data": {
      "application/vnd.jupyter.widget-view+json": {
       "model_id": "e82dac776c5342169a6b8fe3e2fa539b",
       "version_major": 2,
       "version_minor": 0
      },
      "text/plain": [
       "HBox(children=(VBox(children=(IntProgress(value=0, max=1000), HTML(value=''))), Box(children=(HTML(value=''),)…"
      ]
     },
     "metadata": {},
     "output_type": "display_data"
    },
    {
     "name": "stdout",
     "output_type": "stream",
     "text": [
      "Optimization restart 1/10, f = 48.303953945816076\n",
      "Optimization restart 2/10, f = 48.30395394604058\n",
      "Optimization restart 3/10, f = 48.30395394693825\n",
      "Optimization restart 4/10, f = 48.3039539457357\n",
      "Optimization restart 5/10, f = 48.30395394580219\n",
      "Optimization restart 6/10, f = 48.30395394569926\n",
      "Optimization restart 7/10, f = 48.303953945906585\n",
      "Optimization restart 8/10, f = 48.30395394634202\n",
      "Optimization restart 9/10, f = 48.303953945819416\n",
      "Optimization restart 10/10, f = 48.30395394570216\n",
      "We are at frame: 345\n"
     ]
    },
    {
     "data": {
      "application/vnd.jupyter.widget-view+json": {
       "model_id": "4fe775c17c0d49c59cda3aec5ce72052",
       "version_major": 2,
       "version_minor": 0
      },
      "text/plain": [
       "HBox(children=(VBox(children=(IntProgress(value=0, max=1000), HTML(value=''))), Box(children=(HTML(value=''),)…"
      ]
     },
     "metadata": {},
     "output_type": "display_data"
    },
    {
     "name": "stdout",
     "output_type": "stream",
     "text": [
      "Optimization restart 1/10, f = 101.77380580425364\n",
      "Optimization restart 2/10, f = 101.7738058041896\n",
      "Optimization restart 3/10, f = 101.77380580419839\n",
      "Optimization restart 4/10, f = 101.7738058043335\n",
      "Optimization restart 5/10, f = 101.77380580419273\n",
      "Optimization restart 6/10, f = 101.77380580418728\n",
      "Optimization restart 7/10, f = 101.7738058050522\n",
      "Optimization restart 8/10, f = 101.77380580477899\n",
      "Optimization restart 9/10, f = 101.77380580418628\n",
      "Optimization restart 10/10, f = 101.77380580418875\n",
      "We are at frame: 346\n"
     ]
    },
    {
     "data": {
      "application/vnd.jupyter.widget-view+json": {
       "model_id": "5b971d5581e243fbb9c06fddd0138535",
       "version_major": 2,
       "version_minor": 0
      },
      "text/plain": [
       "HBox(children=(VBox(children=(IntProgress(value=0, max=1000), HTML(value=''))), Box(children=(HTML(value=''),)…"
      ]
     },
     "metadata": {},
     "output_type": "display_data"
    },
    {
     "name": "stdout",
     "output_type": "stream",
     "text": [
      "Optimization restart 1/10, f = 151.52437531164747\n",
      "Optimization restart 2/10, f = 151.52437531164972\n",
      "Optimization restart 3/10, f = 151.52437532550152\n",
      "Optimization restart 4/10, f = 151.52437531178504\n",
      "Optimization restart 5/10, f = 151.52437531241873\n",
      "Optimization restart 6/10, f = 151.5243753120643\n",
      "Optimization restart 7/10, f = 151.52437531292907\n",
      "Optimization restart 8/10, f = 151.5243753155197\n",
      "Optimization restart 9/10, f = 151.524375311658\n",
      "Optimization restart 10/10, f = 151.52437531226605\n",
      "We are at frame: 347\n"
     ]
    },
    {
     "data": {
      "application/vnd.jupyter.widget-view+json": {
       "model_id": "0e439b6e4db64f47b3b6634d96713f2a",
       "version_major": 2,
       "version_minor": 0
      },
      "text/plain": [
       "HBox(children=(VBox(children=(IntProgress(value=0, max=1000), HTML(value=''))), Box(children=(HTML(value=''),)…"
      ]
     },
     "metadata": {},
     "output_type": "display_data"
    },
    {
     "name": "stdout",
     "output_type": "stream",
     "text": [
      "Optimization restart 1/10, f = 116.70803731190583\n",
      "Optimization restart 2/10, f = 116.70803731247835\n",
      "Optimization restart 3/10, f = 116.70803732451077\n",
      "Optimization restart 4/10, f = 116.70803731184301\n",
      "Optimization restart 5/10, f = 116.70803731274975\n",
      "Optimization restart 6/10, f = 116.70803731235947\n",
      "Optimization restart 7/10, f = 116.708037311846\n",
      "Optimization restart 8/10, f = 116.7080373119415\n",
      "Optimization restart 9/10, f = 116.70803731476457\n",
      "Optimization restart 10/10, f = 116.70803731209682\n",
      "We are at frame: 348\n"
     ]
    },
    {
     "data": {
      "application/vnd.jupyter.widget-view+json": {
       "model_id": "1915dbceae1a4b45b78aab460b829a68",
       "version_major": 2,
       "version_minor": 0
      },
      "text/plain": [
       "HBox(children=(VBox(children=(IntProgress(value=0, max=1000), HTML(value=''))), Box(children=(HTML(value=''),)…"
      ]
     },
     "metadata": {},
     "output_type": "display_data"
    },
    {
     "name": "stdout",
     "output_type": "stream",
     "text": [
      "Optimization restart 1/10, f = 57.88875490752339\n",
      "Optimization restart 2/10, f = 57.888754828626034\n",
      "Optimization restart 3/10, f = 57.888754826189285\n",
      "Optimization restart 4/10, f = 57.88875482785904\n",
      "Optimization restart 5/10, f = 57.8887548262373\n",
      "Optimization restart 6/10, f = 57.88875483079795\n",
      "Optimization restart 7/10, f = 57.88875482680827\n",
      "Optimization restart 8/10, f = 57.88875482661829\n",
      "Optimization restart 9/10, f = 57.88875482622127\n",
      "Optimization restart 10/10, f = 57.88875483164745\n",
      "We are at frame: 349\n"
     ]
    },
    {
     "data": {
      "application/vnd.jupyter.widget-view+json": {
       "model_id": "846e8bc15b7343d896ddc82b149153d0",
       "version_major": 2,
       "version_minor": 0
      },
      "text/plain": [
       "HBox(children=(VBox(children=(IntProgress(value=0, max=1000), HTML(value=''))), Box(children=(HTML(value=''),)…"
      ]
     },
     "metadata": {},
     "output_type": "display_data"
    },
    {
     "name": "stdout",
     "output_type": "stream",
     "text": [
      "Optimization restart 1/10, f = 144.87096853719552\n",
      "Optimization restart 2/10, f = 144.87096853714286\n",
      "Optimization restart 3/10, f = 144.87096853723114\n",
      "Optimization restart 4/10, f = 144.87096853714078\n",
      "Optimization restart 5/10, f = 144.87096854129402\n",
      "Optimization restart 6/10, f = 144.87096864447358\n",
      "Optimization restart 7/10, f = 144.87096853719208\n",
      "Optimization restart 8/10, f = 144.8709685371451\n",
      "Optimization restart 9/10, f = 144.87096853919255\n",
      "Optimization restart 10/10, f = 144.87096853819548\n",
      "We are at frame: 350\n",
      "Size of X_train at df BR_0000395 is (0, 10) - to many missing values\n",
      "We are at frame: 351\n"
     ]
    },
    {
     "data": {
      "application/vnd.jupyter.widget-view+json": {
       "model_id": "ea98a1ca499d405ca439a292bc4b537c",
       "version_major": 2,
       "version_minor": 0
      },
      "text/plain": [
       "HBox(children=(VBox(children=(IntProgress(value=0, max=1000), HTML(value=''))), Box(children=(HTML(value=''),)…"
      ]
     },
     "metadata": {},
     "output_type": "display_data"
    },
    {
     "name": "stdout",
     "output_type": "stream",
     "text": [
      "Optimization restart 1/10, f = 161.2757274306877\n",
      "Optimization restart 2/10, f = 161.27572425359284\n",
      "Optimization restart 3/10, f = 161.2757242329134\n",
      "Optimization restart 4/10, f = 161.27572425279146\n",
      "Optimization restart 5/10, f = 161.2757242340229\n",
      "Optimization restart 6/10, f = 161.2757242328941\n",
      "Optimization restart 7/10, f = 161.2757242334116\n",
      "Optimization restart 8/10, f = 161.2757242336267\n",
      "Optimization restart 9/10, f = 161.2757242328974\n",
      "Optimization restart 10/10, f = 161.2757242373854\n",
      "We are at frame: 352\n"
     ]
    },
    {
     "data": {
      "application/vnd.jupyter.widget-view+json": {
       "model_id": "d36b4476651044559777bccb53230b63",
       "version_major": 2,
       "version_minor": 0
      },
      "text/plain": [
       "HBox(children=(VBox(children=(IntProgress(value=0, max=1000), HTML(value=''))), Box(children=(HTML(value=''),)…"
      ]
     },
     "metadata": {},
     "output_type": "display_data"
    },
    {
     "name": "stdout",
     "output_type": "stream",
     "text": [
      "Optimization restart 1/10, f = 132.62561751366775\n",
      "Optimization restart 2/10, f = 132.6256175138182\n",
      "Optimization restart 3/10, f = 132.62561751365288\n",
      "Optimization restart 4/10, f = 132.6256175250565\n",
      "Optimization restart 5/10, f = 132.62561751460916\n",
      "Optimization restart 6/10, f = 132.62561751594535\n",
      "Optimization restart 7/10, f = 132.62561751360846\n",
      "Optimization restart 8/10, f = 132.62561751363438\n",
      "Optimization restart 9/10, f = 132.62561757876983\n",
      "Optimization restart 10/10, f = 132.62561751377967\n",
      "We are at frame: 353\n"
     ]
    },
    {
     "data": {
      "application/vnd.jupyter.widget-view+json": {
       "model_id": "c55e9f1ea20b4c1da1d65d854b242f22",
       "version_major": 2,
       "version_minor": 0
      },
      "text/plain": [
       "HBox(children=(VBox(children=(IntProgress(value=0, max=1000), HTML(value=''))), Box(children=(HTML(value=''),)…"
      ]
     },
     "metadata": {},
     "output_type": "display_data"
    },
    {
     "name": "stdout",
     "output_type": "stream",
     "text": [
      "Optimization restart 1/10, f = 129.09315519148393\n",
      "Optimization restart 2/10, f = 129.09315519167922\n",
      "Optimization restart 3/10, f = 129.0931551926701\n",
      "Optimization restart 4/10, f = 129.09315519150394\n",
      "Optimization restart 5/10, f = 129.09315519149249\n",
      "Optimization restart 6/10, f = 129.0931551914764\n",
      "Optimization restart 7/10, f = 129.09315519147606\n",
      "Optimization restart 8/10, f = 129.09315519215448\n",
      "Optimization restart 9/10, f = 129.09315519184776\n",
      "Optimization restart 10/10, f = 129.0931551991064\n",
      "We are at frame: 354\n"
     ]
    },
    {
     "data": {
      "application/vnd.jupyter.widget-view+json": {
       "model_id": "38e4fcb520454793997b17fc69939e02",
       "version_major": 2,
       "version_minor": 0
      },
      "text/plain": [
       "HBox(children=(VBox(children=(IntProgress(value=0, max=1000), HTML(value=''))), Box(children=(HTML(value=''),)…"
      ]
     },
     "metadata": {},
     "output_type": "display_data"
    },
    {
     "name": "stdout",
     "output_type": "stream",
     "text": [
      "Optimization restart 1/10, f = 69.99910529345817\n",
      "Optimization restart 2/10, f = 69.99910529370476\n",
      "Optimization restart 3/10, f = 69.99910583694981\n",
      "Optimization restart 4/10, f = 69.99910530042297\n",
      "Optimization restart 5/10, f = 69.99910529478802\n",
      "Optimization restart 6/10, f = 69.99910529335475\n",
      "Optimization restart 7/10, f = 69.99910529340045\n",
      "Optimization restart 8/10, f = 69.99910529575371\n",
      "Optimization restart 9/10, f = 69.99910529357223\n",
      "Optimization restart 10/10, f = 69.99910529336722\n",
      "We are at frame: 355\n"
     ]
    },
    {
     "data": {
      "application/vnd.jupyter.widget-view+json": {
       "model_id": "956f303afa454da1a26b6c720f24b80a",
       "version_major": 2,
       "version_minor": 0
      },
      "text/plain": [
       "HBox(children=(VBox(children=(IntProgress(value=0, max=1000), HTML(value=''))), Box(children=(HTML(value=''),)…"
      ]
     },
     "metadata": {},
     "output_type": "display_data"
    },
    {
     "name": "stdout",
     "output_type": "stream",
     "text": [
      "Optimization restart 1/10, f = 32.00301182368412\n",
      "Optimization restart 2/10, f = 32.00301182369004\n",
      "Optimization restart 3/10, f = 32.00301182844244\n",
      "Optimization restart 4/10, f = 32.00301182384799\n",
      "Optimization restart 5/10, f = 32.00301182464166\n",
      "Optimization restart 6/10, f = 32.003011886955754\n",
      "Optimization restart 7/10, f = 32.003011823812464\n",
      "Optimization restart 8/10, f = 32.0030118242213\n",
      "Optimization restart 9/10, f = 32.00301189451272\n",
      "Optimization restart 10/10, f = 32.00301182634607\n",
      "We are at frame: 356\n"
     ]
    },
    {
     "data": {
      "application/vnd.jupyter.widget-view+json": {
       "model_id": "ef43000cc5c94ed0af3067370b4d7f01",
       "version_major": 2,
       "version_minor": 0
      },
      "text/plain": [
       "HBox(children=(VBox(children=(IntProgress(value=0, max=1000), HTML(value=''))), Box(children=(HTML(value=''),)…"
      ]
     },
     "metadata": {},
     "output_type": "display_data"
    },
    {
     "name": "stdout",
     "output_type": "stream",
     "text": [
      "Optimization restart 1/10, f = 109.42933129010692\n",
      "Optimization restart 2/10, f = 109.4293312799096\n",
      "Optimization restart 3/10, f = 109.42933127991523\n",
      "Optimization restart 4/10, f = 109.42933128893159\n",
      "Optimization restart 5/10, f = 109.42933127995738\n",
      "Optimization restart 6/10, f = 109.42933128002656\n",
      "Optimization restart 7/10, f = 109.4293312965969\n",
      "Optimization restart 8/10, f = 109.42933127996764\n",
      "Optimization restart 9/10, f = 109.42933128313766\n",
      "Optimization restart 10/10, f = 109.42933128022838\n",
      "We are at frame: 357\n"
     ]
    },
    {
     "data": {
      "application/vnd.jupyter.widget-view+json": {
       "model_id": "a54cf9d5688e487da695fd4371071b5c",
       "version_major": 2,
       "version_minor": 0
      },
      "text/plain": [
       "HBox(children=(VBox(children=(IntProgress(value=0, max=1000), HTML(value=''))), Box(children=(HTML(value=''),)…"
      ]
     },
     "metadata": {},
     "output_type": "display_data"
    },
    {
     "name": "stdout",
     "output_type": "stream",
     "text": [
      "Optimization restart 1/10, f = 26.330355289423814\n",
      "Optimization restart 2/10, f = 26.33035529060767\n",
      "Optimization restart 3/10, f = 26.33035528940313\n",
      "Optimization restart 4/10, f = 26.330355289397087\n",
      "Optimization restart 5/10, f = 26.330355289397755\n",
      "Optimization restart 6/10, f = 26.330355289398913\n",
      "Optimization restart 7/10, f = 26.33035529005125\n",
      "Optimization restart 8/10, f = 26.330355289847613\n",
      "Optimization restart 9/10, f = 26.330355289396813\n",
      "Optimization restart 10/10, f = 26.33035528961103\n",
      "We are at frame: 358\n"
     ]
    },
    {
     "data": {
      "application/vnd.jupyter.widget-view+json": {
       "model_id": "7e0094297fa04cd692b890a9a8f92cbf",
       "version_major": 2,
       "version_minor": 0
      },
      "text/plain": [
       "HBox(children=(VBox(children=(IntProgress(value=0, max=1000), HTML(value=''))), Box(children=(HTML(value=''),)…"
      ]
     },
     "metadata": {},
     "output_type": "display_data"
    },
    {
     "name": "stdout",
     "output_type": "stream",
     "text": [
      "Optimization restart 1/10, f = 79.32468831191176\n",
      "Optimization restart 2/10, f = 79.32468831149183\n",
      "Optimization restart 3/10, f = 79.32468831116091\n",
      "Optimization restart 4/10, f = 79.32468832353848\n",
      "Optimization restart 5/10, f = 79.32468831094937\n",
      "Optimization restart 6/10, f = 79.32468831094309\n",
      "Optimization restart 7/10, f = 79.3246883110235\n",
      "Optimization restart 8/10, f = 79.32468831110768\n",
      "Optimization restart 9/10, f = 79.32468832020339\n",
      "Optimization restart 10/10, f = 79.32468831124967\n",
      "We are at frame: 359\n"
     ]
    },
    {
     "data": {
      "application/vnd.jupyter.widget-view+json": {
       "model_id": "7179bd4dd2a64d55922ec899bc10ddd6",
       "version_major": 2,
       "version_minor": 0
      },
      "text/plain": [
       "HBox(children=(VBox(children=(IntProgress(value=0, max=1000), HTML(value=''))), Box(children=(HTML(value=''),)…"
      ]
     },
     "metadata": {},
     "output_type": "display_data"
    },
    {
     "name": "stdout",
     "output_type": "stream",
     "text": [
      "Optimization restart 1/10, f = 199.48045221384632\n",
      "Optimization restart 2/10, f = 199.4804522199208\n",
      "Optimization restart 3/10, f = 199.48045221243638\n",
      "Optimization restart 4/10, f = 199.4804522152142\n",
      "Optimization restart 5/10, f = 199.48045221279614\n",
      "Optimization restart 6/10, f = 199.48045221240355\n",
      "Optimization restart 7/10, f = 199.4804522124034\n",
      "Optimization restart 8/10, f = 199.48045221651694\n",
      "Optimization restart 9/10, f = 199.4804522124044\n",
      "Optimization restart 10/10, f = 199.48045221252156\n",
      "We are at frame: 360\n"
     ]
    },
    {
     "data": {
      "application/vnd.jupyter.widget-view+json": {
       "model_id": "2eb1ec4646954a0bb68afaa93cf38030",
       "version_major": 2,
       "version_minor": 0
      },
      "text/plain": [
       "HBox(children=(VBox(children=(IntProgress(value=0, max=1000), HTML(value=''))), Box(children=(HTML(value=''),)…"
      ]
     },
     "metadata": {},
     "output_type": "display_data"
    },
    {
     "name": "stdout",
     "output_type": "stream",
     "text": [
      "Optimization restart 1/10, f = 92.48843023791387\n",
      "Optimization restart 2/10, f = 92.48843023656926\n",
      "Optimization restart 3/10, f = 92.48843023627742\n",
      "Optimization restart 4/10, f = 92.4884302390159\n",
      "Optimization restart 5/10, f = 92.48843023626014\n",
      "Optimization restart 6/10, f = 92.48843024991783\n",
      "Optimization restart 7/10, f = 92.48843023626283\n",
      "Optimization restart 8/10, f = 92.48843023627097\n",
      "Optimization restart 9/10, f = 92.48843023626864\n",
      "Optimization restart 10/10, f = 92.48843023626208\n",
      "We are at frame: 361\n"
     ]
    },
    {
     "data": {
      "application/vnd.jupyter.widget-view+json": {
       "model_id": "dd26accb3b224867afd75874844614c9",
       "version_major": 2,
       "version_minor": 0
      },
      "text/plain": [
       "HBox(children=(VBox(children=(IntProgress(value=0, max=1000), HTML(value=''))), Box(children=(HTML(value=''),)…"
      ]
     },
     "metadata": {},
     "output_type": "display_data"
    },
    {
     "name": "stdout",
     "output_type": "stream",
     "text": [
      "Optimization restart 1/10, f = 25.059741790636814\n",
      "Optimization restart 2/10, f = 25.05974179051068\n",
      "Optimization restart 3/10, f = 25.059741790840018\n",
      "Optimization restart 4/10, f = 25.05974179059953\n",
      "Optimization restart 5/10, f = 25.059741821476962\n",
      "Optimization restart 6/10, f = 25.05974179050393\n",
      "Optimization restart 7/10, f = 25.05974179430379\n",
      "Optimization restart 8/10, f = 25.05974179050668\n",
      "Optimization restart 9/10, f = 25.059741790547672\n",
      "Optimization restart 10/10, f = 25.059741790504475\n",
      "We are at frame: 362\n",
      "Size of X_train at df BR_0000413 is (0, 10) - to many missing values\n",
      "We are at frame: 363\n"
     ]
    },
    {
     "data": {
      "application/vnd.jupyter.widget-view+json": {
       "model_id": "00f3aab65efb4c9fb93bcc4a3f50654e",
       "version_major": 2,
       "version_minor": 0
      },
      "text/plain": [
       "HBox(children=(VBox(children=(IntProgress(value=0, max=1000), HTML(value=''))), Box(children=(HTML(value=''),)…"
      ]
     },
     "metadata": {},
     "output_type": "display_data"
    },
    {
     "name": "stdout",
     "output_type": "stream",
     "text": [
      "Optimization restart 1/10, f = 59.56521907975736\n",
      "Optimization restart 2/10, f = 59.56521907973731\n",
      "Optimization restart 3/10, f = 59.56521908221013\n",
      "Optimization restart 4/10, f = 59.565219079924866\n",
      "Optimization restart 5/10, f = 59.56521907977416\n",
      "Optimization restart 6/10, f = 59.565219079851374\n",
      "Optimization restart 7/10, f = 59.5652190797713\n",
      "Optimization restart 8/10, f = 59.565219080150065\n",
      "Optimization restart 9/10, f = 59.56521908161773\n",
      "Optimization restart 10/10, f = 59.565219079995124\n",
      "We are at frame: 364\n"
     ]
    },
    {
     "data": {
      "application/vnd.jupyter.widget-view+json": {
       "model_id": "3b172e0aa5a04005b0aecdd52b498f53",
       "version_major": 2,
       "version_minor": 0
      },
      "text/plain": [
       "HBox(children=(VBox(children=(IntProgress(value=0, max=1000), HTML(value=''))), Box(children=(HTML(value=''),)…"
      ]
     },
     "metadata": {},
     "output_type": "display_data"
    },
    {
     "name": "stdout",
     "output_type": "stream",
     "text": [
      "Optimization restart 1/10, f = 196.14167860863412\n",
      "Optimization restart 2/10, f = 196.14167865765154\n",
      "Optimization restart 3/10, f = 196.14167860863012\n",
      "Optimization restart 4/10, f = 196.14169466296516\n",
      "Optimization restart 5/10, f = 196.14167860970872\n",
      "Optimization restart 6/10, f = 196.14167860853973\n",
      "Optimization restart 7/10, f = 196.14167860857944\n",
      "Optimization restart 8/10, f = 196.14167861268842\n",
      "Optimization restart 9/10, f = 196.14171592783674\n",
      "Optimization restart 10/10, f = 196.14167860858953\n",
      "We are at frame: 365\n"
     ]
    },
    {
     "data": {
      "application/vnd.jupyter.widget-view+json": {
       "model_id": "aa0fbb0ffb164a16939a30ee1a9013aa",
       "version_major": 2,
       "version_minor": 0
      },
      "text/plain": [
       "HBox(children=(VBox(children=(IntProgress(value=0, max=1000), HTML(value=''))), Box(children=(HTML(value=''),)…"
      ]
     },
     "metadata": {},
     "output_type": "display_data"
    },
    {
     "name": "stdout",
     "output_type": "stream",
     "text": [
      "Optimization restart 1/10, f = 176.5639806292039\n",
      "Optimization restart 2/10, f = 176.5639904151369\n",
      "Optimization restart 3/10, f = 176.56398058096633\n",
      "Optimization restart 4/10, f = 176.56398064892812\n",
      "Optimization restart 5/10, f = 176.56398058101234\n",
      "Optimization restart 6/10, f = 176.56398058230343\n",
      "Optimization restart 7/10, f = 176.56398058147388\n",
      "Optimization restart 8/10, f = 176.56398062058344\n",
      "Optimization restart 9/10, f = 176.56398068963767\n",
      "Optimization restart 10/10, f = 176.56398058118663\n",
      "We are at frame: 366\n"
     ]
    },
    {
     "data": {
      "application/vnd.jupyter.widget-view+json": {
       "model_id": "106c428dc09d40ff9a333507a60c091e",
       "version_major": 2,
       "version_minor": 0
      },
      "text/plain": [
       "HBox(children=(VBox(children=(IntProgress(value=0, max=1000), HTML(value=''))), Box(children=(HTML(value=''),)…"
      ]
     },
     "metadata": {},
     "output_type": "display_data"
    },
    {
     "name": "stdout",
     "output_type": "stream",
     "text": [
      "Optimization restart 1/10, f = 135.96369630793373\n",
      "Optimization restart 2/10, f = 135.96369630727614\n",
      "Optimization restart 3/10, f = 135.963696305117\n",
      "Optimization restart 4/10, f = 135.96369630442166\n",
      "Optimization restart 5/10, f = 135.96369631401456\n",
      "Optimization restart 6/10, f = 135.96369630633927\n",
      "Optimization restart 7/10, f = 135.96369630458952\n",
      "Optimization restart 8/10, f = 135.96369630683475\n",
      "Optimization restart 9/10, f = 135.96369630443547\n",
      "Optimization restart 10/10, f = 135.9636963044251\n",
      "We are at frame: 367\n"
     ]
    },
    {
     "data": {
      "application/vnd.jupyter.widget-view+json": {
       "model_id": "6f1a920aac1d429fab7ca7cd740214d4",
       "version_major": 2,
       "version_minor": 0
      },
      "text/plain": [
       "HBox(children=(VBox(children=(IntProgress(value=0, max=1000), HTML(value=''))), Box(children=(HTML(value=''),)…"
      ]
     },
     "metadata": {},
     "output_type": "display_data"
    },
    {
     "name": "stdout",
     "output_type": "stream",
     "text": [
      "Optimization restart 1/10, f = 150.68858619761673\n",
      "Optimization restart 2/10, f = 150.68858622123955\n",
      "Optimization restart 3/10, f = 150.68858621154706\n",
      "Optimization restart 4/10, f = 150.6885861983459\n",
      "Optimization restart 5/10, f = 150.68858619752464\n",
      "Optimization restart 6/10, f = 150.68858619779618\n",
      "Optimization restart 7/10, f = 150.68858619888508\n",
      "Optimization restart 8/10, f = 150.68858619766016\n",
      "Optimization restart 9/10, f = 150.6885861984556\n",
      "Optimization restart 10/10, f = 150.68858619817917\n",
      "We are at frame: 368\n"
     ]
    },
    {
     "data": {
      "application/vnd.jupyter.widget-view+json": {
       "model_id": "dbf80dc8472b4b068687b7404fbb06a4",
       "version_major": 2,
       "version_minor": 0
      },
      "text/plain": [
       "HBox(children=(VBox(children=(IntProgress(value=0, max=1000), HTML(value=''))), Box(children=(HTML(value=''),)…"
      ]
     },
     "metadata": {},
     "output_type": "display_data"
    },
    {
     "name": "stdout",
     "output_type": "stream",
     "text": [
      "Optimization restart 1/10, f = 81.1590416210588\n",
      "Optimization restart 2/10, f = 81.15904162261776\n",
      "Optimization restart 3/10, f = 81.15904162286775\n",
      "Optimization restart 4/10, f = 81.15904162107265\n",
      "Optimization restart 5/10, f = 81.15904162392876\n",
      "Optimization restart 6/10, f = 81.15904162114454\n",
      "Optimization restart 7/10, f = 81.15904162109995\n",
      "Optimization restart 8/10, f = 81.15904162116709\n",
      "Optimization restart 9/10, f = 81.1590416212959\n",
      "Optimization restart 10/10, f = 81.15904162274627\n",
      "We are at frame: 369\n"
     ]
    },
    {
     "data": {
      "application/vnd.jupyter.widget-view+json": {
       "model_id": "442f5ade43164b018adf1f01c4b0a9d2",
       "version_major": 2,
       "version_minor": 0
      },
      "text/plain": [
       "HBox(children=(VBox(children=(IntProgress(value=0, max=1000), HTML(value=''))), Box(children=(HTML(value=''),)…"
      ]
     },
     "metadata": {},
     "output_type": "display_data"
    },
    {
     "name": "stdout",
     "output_type": "stream",
     "text": [
      "Optimization restart 1/10, f = 117.84962313961476\n",
      "Optimization restart 2/10, f = 117.84962310707775\n",
      "Optimization restart 3/10, f = 117.84962311790125\n",
      "Optimization restart 4/10, f = 117.84962310694715\n",
      "Optimization restart 5/10, f = 117.8496231070855\n",
      "Optimization restart 6/10, f = 117.84962310712592\n",
      "Optimization restart 7/10, f = 117.84962318592954\n",
      "Optimization restart 8/10, f = 117.84962315258596\n",
      "Optimization restart 9/10, f = 117.84962310699889\n",
      "Optimization restart 10/10, f = 117.8496231395377\n",
      "We are at frame: 370\n"
     ]
    },
    {
     "data": {
      "application/vnd.jupyter.widget-view+json": {
       "model_id": "2c44e0931a974c1bafdd948159ba9c13",
       "version_major": 2,
       "version_minor": 0
      },
      "text/plain": [
       "HBox(children=(VBox(children=(IntProgress(value=0, max=1000), HTML(value=''))), Box(children=(HTML(value=''),)…"
      ]
     },
     "metadata": {},
     "output_type": "display_data"
    },
    {
     "name": "stdout",
     "output_type": "stream",
     "text": [
      "Optimization restart 1/10, f = 144.45893016520188\n",
      "Optimization restart 2/10, f = 144.45893016714655\n",
      "Optimization restart 3/10, f = 144.45893016511008\n",
      "Optimization restart 4/10, f = 144.45893016524616\n",
      "Optimization restart 5/10, f = 144.45893016511272\n",
      "Optimization restart 6/10, f = 144.45893016601423\n",
      "Optimization restart 7/10, f = 144.45893016518565\n",
      "Optimization restart 8/10, f = 144.45893016511047\n",
      "Optimization restart 9/10, f = 144.45893016704184\n",
      "Optimization restart 10/10, f = 144.45893016510848\n",
      "We are at frame: 371\n"
     ]
    },
    {
     "data": {
      "application/vnd.jupyter.widget-view+json": {
       "model_id": "16aa5635e4dc4caf97dfa67b25dbb5a6",
       "version_major": 2,
       "version_minor": 0
      },
      "text/plain": [
       "HBox(children=(VBox(children=(IntProgress(value=0, max=1000), HTML(value=''))), Box(children=(HTML(value=''),)…"
      ]
     },
     "metadata": {},
     "output_type": "display_data"
    },
    {
     "name": "stdout",
     "output_type": "stream",
     "text": [
      "Optimization restart 1/10, f = 127.60685943428714\n",
      "Optimization restart 2/10, f = 127.6068594343504\n",
      "Optimization restart 3/10, f = 127.60685944874997\n",
      "Optimization restart 4/10, f = 127.60685943438713\n",
      "Optimization restart 5/10, f = 127.60685943428985\n",
      "Optimization restart 6/10, f = 127.60685943489128\n",
      "Optimization restart 7/10, f = 127.60685943430725\n",
      "Optimization restart 8/10, f = 127.6068594345779\n",
      "Optimization restart 9/10, f = 127.60685943432955\n",
      "Optimization restart 10/10, f = 127.60685967415998\n",
      "We are at frame: 372\n"
     ]
    },
    {
     "data": {
      "application/vnd.jupyter.widget-view+json": {
       "model_id": "08d93872262e495da87ebde29385b726",
       "version_major": 2,
       "version_minor": 0
      },
      "text/plain": [
       "HBox(children=(VBox(children=(IntProgress(value=0, max=1000), HTML(value=''))), Box(children=(HTML(value=''),)…"
      ]
     },
     "metadata": {},
     "output_type": "display_data"
    },
    {
     "name": "stdout",
     "output_type": "stream",
     "text": [
      "Optimization restart 1/10, f = 113.56441309614227\n",
      "Optimization restart 2/10, f = 113.56441309610562\n",
      "Optimization restart 3/10, f = 113.56441309607689\n",
      "Optimization restart 4/10, f = 113.56441356788159\n",
      "Optimization restart 5/10, f = 113.56441309610933\n",
      "Optimization restart 6/10, f = 113.56441309599396\n",
      "Optimization restart 7/10, f = 113.56441319246007\n",
      "Optimization restart 8/10, f = 113.56441309603301\n",
      "Optimization restart 9/10, f = 113.56441309599754\n",
      "Optimization restart 10/10, f = 113.56441309728736\n",
      "We are at frame: 373\n"
     ]
    },
    {
     "data": {
      "application/vnd.jupyter.widget-view+json": {
       "model_id": "c713c75cdd444e23b33eeaa7f61fa5ed",
       "version_major": 2,
       "version_minor": 0
      },
      "text/plain": [
       "HBox(children=(VBox(children=(IntProgress(value=0, max=1000), HTML(value=''))), Box(children=(HTML(value=''),)…"
      ]
     },
     "metadata": {},
     "output_type": "display_data"
    },
    {
     "name": "stdout",
     "output_type": "stream",
     "text": [
      "Optimization restart 1/10, f = 141.0504496128177\n",
      "Optimization restart 2/10, f = 141.05045026948358\n",
      "Optimization restart 3/10, f = 141.05044961333874\n",
      "Optimization restart 4/10, f = 141.0504496129439\n",
      "Optimization restart 5/10, f = 141.05044961407668\n",
      "Optimization restart 6/10, f = 141.0504496128093\n",
      "Optimization restart 7/10, f = 141.05044961283443\n",
      "Optimization restart 8/10, f = 141.050482735661\n",
      "Optimization restart 9/10, f = 141.0504496183944\n",
      "Optimization restart 10/10, f = 141.05044961292595\n",
      "We are at frame: 374\n"
     ]
    },
    {
     "data": {
      "application/vnd.jupyter.widget-view+json": {
       "model_id": "0d178c2bdd4b4a89b9a22038237dc3fb",
       "version_major": 2,
       "version_minor": 0
      },
      "text/plain": [
       "HBox(children=(VBox(children=(IntProgress(value=0, max=1000), HTML(value=''))), Box(children=(HTML(value=''),)…"
      ]
     },
     "metadata": {},
     "output_type": "display_data"
    },
    {
     "name": "stdout",
     "output_type": "stream",
     "text": [
      "Optimization restart 1/10, f = 144.3401274185387\n",
      "Optimization restart 2/10, f = 144.34012741776368\n",
      "Optimization restart 3/10, f = 144.34012761897446\n",
      "Optimization restart 4/10, f = 144.340127417703\n",
      "Optimization restart 5/10, f = 144.34012741769104\n",
      "Optimization restart 6/10, f = 144.34012741752554\n",
      "Optimization restart 7/10, f = 144.34012741786748\n",
      "Optimization restart 8/10, f = 144.34012741745227\n",
      "Optimization restart 9/10, f = 144.34012741741623\n",
      "Optimization restart 10/10, f = 144.34012741741185\n",
      "We are at frame: 375\n"
     ]
    },
    {
     "data": {
      "application/vnd.jupyter.widget-view+json": {
       "model_id": "e231b4df836f492fa609fea2472a5240",
       "version_major": 2,
       "version_minor": 0
      },
      "text/plain": [
       "HBox(children=(VBox(children=(IntProgress(value=0, max=1000), HTML(value=''))), Box(children=(HTML(value=''),)…"
      ]
     },
     "metadata": {},
     "output_type": "display_data"
    },
    {
     "name": "stdout",
     "output_type": "stream",
     "text": [
      "Optimization restart 1/10, f = 108.70783264112288\n",
      "Optimization restart 2/10, f = 108.70783264151379\n",
      "Optimization restart 3/10, f = 108.70783264112325\n",
      "Optimization restart 4/10, f = 108.70783264115227\n",
      "Optimization restart 5/10, f = 108.70783264118703\n",
      "Optimization restart 6/10, f = 108.70783264112407\n",
      "Optimization restart 7/10, f = 108.70783264187456\n",
      "Optimization restart 8/10, f = 108.70783264112322\n",
      "Optimization restart 9/10, f = 108.70783264297447\n",
      "Optimization restart 10/10, f = 108.70783264156026\n",
      "We are at frame: 376\n"
     ]
    },
    {
     "data": {
      "application/vnd.jupyter.widget-view+json": {
       "model_id": "46d62dbf7081479aa7d8421db4c6cdb1",
       "version_major": 2,
       "version_minor": 0
      },
      "text/plain": [
       "HBox(children=(VBox(children=(IntProgress(value=0, max=1000), HTML(value=''))), Box(children=(HTML(value=''),)…"
      ]
     },
     "metadata": {},
     "output_type": "display_data"
    },
    {
     "name": "stdout",
     "output_type": "stream",
     "text": [
      "Optimization restart 1/10, f = 132.05037308213232\n",
      "Optimization restart 2/10, f = 132.05037308199206\n",
      "Optimization restart 3/10, f = 132.05037308099966\n",
      "Optimization restart 4/10, f = 132.0503730817825\n",
      "Optimization restart 5/10, f = 132.05037308252957\n",
      "Optimization restart 6/10, f = 132.05037310072655\n",
      "Optimization restart 7/10, f = 132.05037308262627\n",
      "Optimization restart 8/10, f = 132.0503730815422\n",
      "Optimization restart 9/10, f = 132.0503730830965\n",
      "Optimization restart 10/10, f = 132.0503730808861\n",
      "We are at frame: 377\n"
     ]
    },
    {
     "data": {
      "application/vnd.jupyter.widget-view+json": {
       "model_id": "b56f930927f847d2aa356edecf1e7661",
       "version_major": 2,
       "version_minor": 0
      },
      "text/plain": [
       "HBox(children=(VBox(children=(IntProgress(value=0, max=1000), HTML(value=''))), Box(children=(HTML(value=''),)…"
      ]
     },
     "metadata": {},
     "output_type": "display_data"
    },
    {
     "name": "stdout",
     "output_type": "stream",
     "text": [
      "Optimization restart 1/10, f = 30.670191693826162\n",
      "Optimization restart 2/10, f = 30.67019169393872\n",
      "Optimization restart 3/10, f = 30.67019169383932\n",
      "Optimization restart 4/10, f = 30.670191693829075\n",
      "Optimization restart 5/10, f = 30.67019169383105\n",
      "Optimization restart 6/10, f = 30.670191693882394\n",
      "Optimization restart 7/10, f = 30.670191694454502\n",
      "Optimization restart 8/10, f = 30.67019169400004\n",
      "Optimization restart 9/10, f = 30.670191694583792\n",
      "Optimization restart 10/10, f = 30.67019169398243\n",
      "We are at frame: 378\n"
     ]
    },
    {
     "data": {
      "application/vnd.jupyter.widget-view+json": {
       "model_id": "af167b434c074b9387c0ea3436de7b19",
       "version_major": 2,
       "version_minor": 0
      },
      "text/plain": [
       "HBox(children=(VBox(children=(IntProgress(value=0, max=1000), HTML(value=''))), Box(children=(HTML(value=''),)…"
      ]
     },
     "metadata": {},
     "output_type": "display_data"
    },
    {
     "name": "stdout",
     "output_type": "stream",
     "text": [
      "Optimization restart 1/10, f = 143.44991919707445\n",
      "Optimization restart 2/10, f = 143.44991919410748\n",
      "Optimization restart 3/10, f = 143.44991925721914\n",
      "Optimization restart 4/10, f = 387.2261802547393\n",
      "Optimization restart 5/10, f = 143.4499191971376\n",
      "Optimization restart 6/10, f = 143.44991919171196\n",
      "Optimization restart 7/10, f = 143.44991919364827\n",
      "Optimization restart 8/10, f = 143.4499191917032\n",
      "Optimization restart 9/10, f = 143.44991925023282\n",
      "Optimization restart 10/10, f = 143.4499191912031\n",
      "We are at frame: 379\n"
     ]
    },
    {
     "data": {
      "application/vnd.jupyter.widget-view+json": {
       "model_id": "4e88d0d697e54d1b95c1c5bfe95e5027",
       "version_major": 2,
       "version_minor": 0
      },
      "text/plain": [
       "HBox(children=(VBox(children=(IntProgress(value=0, max=1000), HTML(value=''))), Box(children=(HTML(value=''),)…"
      ]
     },
     "metadata": {},
     "output_type": "display_data"
    },
    {
     "name": "stdout",
     "output_type": "stream",
     "text": [
      "Optimization restart 1/10, f = 22.92760158359746\n",
      "Optimization restart 2/10, f = 22.927601583009785\n",
      "Optimization restart 3/10, f = 22.927601582934567\n",
      "Optimization restart 4/10, f = 22.927601582844527\n",
      "Optimization restart 5/10, f = 22.927601582909283\n",
      "Optimization restart 6/10, f = 22.927601583647252\n",
      "Optimization restart 7/10, f = 22.92760158283537\n",
      "Optimization restart 8/10, f = 22.927601583371477\n",
      "Optimization restart 9/10, f = 22.927601582871407\n",
      "Optimization restart 10/10, f = 22.927601582830558\n",
      "We are at frame: 380\n"
     ]
    },
    {
     "data": {
      "application/vnd.jupyter.widget-view+json": {
       "model_id": "68e18384797e493687e1850a38689050",
       "version_major": 2,
       "version_minor": 0
      },
      "text/plain": [
       "HBox(children=(VBox(children=(IntProgress(value=0, max=1000), HTML(value=''))), Box(children=(HTML(value=''),)…"
      ]
     },
     "metadata": {},
     "output_type": "display_data"
    },
    {
     "name": "stdout",
     "output_type": "stream",
     "text": [
      "Optimization restart 1/10, f = 127.02516834331333\n",
      "Optimization restart 2/10, f = 127.02516834256832\n",
      "Optimization restart 3/10, f = 127.02516834254575\n",
      "Optimization restart 4/10, f = 127.02516834412017\n",
      "Optimization restart 5/10, f = 127.02516834254227\n",
      "Optimization restart 6/10, f = 127.02516834877963\n",
      "Optimization restart 7/10, f = 127.02516834254183\n",
      "Optimization restart 8/10, f = 127.02516834511619\n",
      "Optimization restart 9/10, f = 127.02516834261576\n",
      "Optimization restart 10/10, f = 127.02516834285228\n",
      "We are at frame: 381\n"
     ]
    },
    {
     "data": {
      "application/vnd.jupyter.widget-view+json": {
       "model_id": "2d12408db46d4c83a8fe7f0bcf5a5300",
       "version_major": 2,
       "version_minor": 0
      },
      "text/plain": [
       "HBox(children=(VBox(children=(IntProgress(value=0, max=1000), HTML(value=''))), Box(children=(HTML(value=''),)…"
      ]
     },
     "metadata": {},
     "output_type": "display_data"
    },
    {
     "name": "stdout",
     "output_type": "stream",
     "text": [
      "Optimization restart 1/10, f = 47.71579766040763\n",
      "Optimization restart 2/10, f = 47.7157976499697\n",
      "Optimization restart 3/10, f = 47.71579765609131\n",
      "Optimization restart 4/10, f = 47.715797649308755\n",
      "Optimization restart 5/10, f = 47.715797649337084\n",
      "Optimization restart 6/10, f = 47.71579766164892\n",
      "Optimization restart 7/10, f = 47.715797649469565\n",
      "Optimization restart 8/10, f = 47.715797649301216\n",
      "Optimization restart 9/10, f = 47.71579764933035\n",
      "Optimization restart 10/10, f = 47.71579764950022\n",
      "We are at frame: 382\n"
     ]
    },
    {
     "data": {
      "application/vnd.jupyter.widget-view+json": {
       "model_id": "79058987e0404bcbb8c24c4f4aca5aa0",
       "version_major": 2,
       "version_minor": 0
      },
      "text/plain": [
       "HBox(children=(VBox(children=(IntProgress(value=0, max=1000), HTML(value=''))), Box(children=(HTML(value=''),)…"
      ]
     },
     "metadata": {},
     "output_type": "display_data"
    },
    {
     "name": "stdout",
     "output_type": "stream",
     "text": [
      "Optimization restart 1/10, f = 94.83046233522151\n",
      "Optimization restart 2/10, f = 94.83046237094322\n",
      "Optimization restart 3/10, f = 94.83046233521117\n",
      "Optimization restart 4/10, f = 94.83046233501616\n",
      "Optimization restart 5/10, f = 94.83046233498736\n",
      "Optimization restart 6/10, f = 94.83046236200383\n",
      "Optimization restart 7/10, f = 94.83046233587453\n",
      "Optimization restart 8/10, f = 94.83046234149677\n",
      "Optimization restart 9/10, f = 94.83046233498844\n",
      "Optimization restart 10/10, f = 94.83046233498598\n",
      "We are at frame: 383\n"
     ]
    },
    {
     "data": {
      "application/vnd.jupyter.widget-view+json": {
       "model_id": "c582c19e63b34489a916724f7302f2b6",
       "version_major": 2,
       "version_minor": 0
      },
      "text/plain": [
       "HBox(children=(VBox(children=(IntProgress(value=0, max=1000), HTML(value=''))), Box(children=(HTML(value=''),)…"
      ]
     },
     "metadata": {},
     "output_type": "display_data"
    },
    {
     "name": "stdout",
     "output_type": "stream",
     "text": [
      "Optimization restart 1/10, f = 141.11821492581115\n",
      "Optimization restart 2/10, f = 141.11821492604957\n",
      "Optimization restart 3/10, f = 141.11821492581126\n",
      "Optimization restart 4/10, f = 141.11821492607342\n",
      "Optimization restart 5/10, f = 141.11821492585275\n",
      "Optimization restart 6/10, f = 141.11821492635642\n",
      "Optimization restart 7/10, f = 141.11821493253237\n",
      "Optimization restart 8/10, f = 141.11821492590363\n",
      "Optimization restart 9/10, f = 141.11821492579676\n",
      "Optimization restart 10/10, f = 141.11821492581396\n",
      "We are at frame: 384\n"
     ]
    },
    {
     "data": {
      "application/vnd.jupyter.widget-view+json": {
       "model_id": "fb27d70802ca408abf4e95165e9c62fd",
       "version_major": 2,
       "version_minor": 0
      },
      "text/plain": [
       "HBox(children=(VBox(children=(IntProgress(value=0, max=1000), HTML(value=''))), Box(children=(HTML(value=''),)…"
      ]
     },
     "metadata": {},
     "output_type": "display_data"
    },
    {
     "name": "stdout",
     "output_type": "stream",
     "text": [
      "Optimization restart 1/10, f = 47.11972520375255\n",
      "Optimization restart 2/10, f = 47.11972520060257\n",
      "Optimization restart 3/10, f = 47.119725199826554\n",
      "Optimization restart 4/10, f = 47.11972520272877\n",
      "Optimization restart 5/10, f = 47.11972520530483\n",
      "Optimization restart 6/10, f = 47.119725205404954\n",
      "Optimization restart 7/10, f = 47.11972522819268\n",
      "Optimization restart 8/10, f = 47.1197251997802\n",
      "Optimization restart 9/10, f = 47.11972520187537\n",
      "Optimization restart 10/10, f = 47.11972520071841\n",
      "We are at frame: 385\n"
     ]
    },
    {
     "data": {
      "application/vnd.jupyter.widget-view+json": {
       "model_id": "b27cd636e2084dd8a52262a3105c28cd",
       "version_major": 2,
       "version_minor": 0
      },
      "text/plain": [
       "HBox(children=(VBox(children=(IntProgress(value=0, max=1000), HTML(value=''))), Box(children=(HTML(value=''),)…"
      ]
     },
     "metadata": {},
     "output_type": "display_data"
    },
    {
     "name": "stdout",
     "output_type": "stream",
     "text": [
      "Optimization restart 1/10, f = 27.325644391721205\n",
      "Optimization restart 2/10, f = 27.32564439170358\n",
      "Optimization restart 3/10, f = 27.32564439194826\n",
      "Optimization restart 4/10, f = 27.32564439313926\n",
      "Optimization restart 5/10, f = 27.325644391741466\n",
      "Optimization restart 6/10, f = 27.32564439170328\n",
      "Optimization restart 7/10, f = 27.32564439171776\n",
      "Optimization restart 8/10, f = 27.325644391725454\n",
      "Optimization restart 9/10, f = 27.325644392389602\n",
      "Optimization restart 10/10, f = 27.32564439170589\n",
      "We are at frame: 386\n"
     ]
    },
    {
     "data": {
      "application/vnd.jupyter.widget-view+json": {
       "model_id": "fb19ca216cdc489085890dab76f2f1d2",
       "version_major": 2,
       "version_minor": 0
      },
      "text/plain": [
       "HBox(children=(VBox(children=(IntProgress(value=0, max=1000), HTML(value=''))), Box(children=(HTML(value=''),)…"
      ]
     },
     "metadata": {},
     "output_type": "display_data"
    },
    {
     "name": "stdout",
     "output_type": "stream",
     "text": [
      "Optimization restart 1/10, f = 141.54360005815673\n",
      "Optimization restart 2/10, f = 141.54360006108342\n",
      "Optimization restart 3/10, f = 141.54360005783428\n",
      "Optimization restart 4/10, f = 141.54360005781967\n",
      "Optimization restart 5/10, f = 141.54360005799617\n",
      "Optimization restart 6/10, f = 141.54360005797778\n",
      "Optimization restart 7/10, f = 141.5436000580109\n",
      "Optimization restart 8/10, f = 141.54360005781382\n",
      "Optimization restart 9/10, f = 141.54360005784616\n",
      "Optimization restart 10/10, f = 141.5436000594136\n",
      "We are at frame: 387\n"
     ]
    },
    {
     "data": {
      "application/vnd.jupyter.widget-view+json": {
       "model_id": "3ac67ef390394852b1d6856ccf718032",
       "version_major": 2,
       "version_minor": 0
      },
      "text/plain": [
       "HBox(children=(VBox(children=(IntProgress(value=0, max=1000), HTML(value=''))), Box(children=(HTML(value=''),)…"
      ]
     },
     "metadata": {},
     "output_type": "display_data"
    },
    {
     "name": "stdout",
     "output_type": "stream",
     "text": [
      "Optimization restart 1/10, f = 41.04709091366622\n",
      "Optimization restart 2/10, f = 41.04709091362649\n",
      "Optimization restart 3/10, f = 41.04709091368878\n",
      "Optimization restart 4/10, f = 41.047090921887516\n",
      "Optimization restart 5/10, f = 41.04709091351873\n",
      "Optimization restart 6/10, f = 41.04709091356282\n",
      "Optimization restart 7/10, f = 41.04709091358085\n",
      "Optimization restart 8/10, f = 41.04709091380373\n",
      "Optimization restart 9/10, f = 41.04709091351275\n",
      "Optimization restart 10/10, f = 41.04709091480355\n",
      "We are at frame: 388\n"
     ]
    },
    {
     "data": {
      "application/vnd.jupyter.widget-view+json": {
       "model_id": "4fc87ca061c24ff086c541dfcebf3117",
       "version_major": 2,
       "version_minor": 0
      },
      "text/plain": [
       "HBox(children=(VBox(children=(IntProgress(value=0, max=1000), HTML(value=''))), Box(children=(HTML(value=''),)…"
      ]
     },
     "metadata": {},
     "output_type": "display_data"
    },
    {
     "name": "stdout",
     "output_type": "stream",
     "text": [
      "Optimization restart 1/10, f = 175.2094572176129\n",
      "Optimization restart 2/10, f = 175.20945782112057\n",
      "Optimization restart 3/10, f = 175.20945721657665\n",
      "Optimization restart 4/10, f = 175.20945721940933\n",
      "Optimization restart 5/10, f = 175.20945722000633\n",
      "Optimization restart 6/10, f = 175.20945721657796\n",
      "Optimization restart 7/10, f = 175.2094572570117\n",
      "Optimization restart 8/10, f = 175.20945721932543\n",
      "Optimization restart 9/10, f = 175.2094572186524\n",
      "Optimization restart 10/10, f = 175.2094572166754\n",
      "We are at frame: 389\n"
     ]
    },
    {
     "data": {
      "application/vnd.jupyter.widget-view+json": {
       "model_id": "79782d1fb51745e7a557de6cc82c2d96",
       "version_major": 2,
       "version_minor": 0
      },
      "text/plain": [
       "HBox(children=(VBox(children=(IntProgress(value=0, max=1000), HTML(value=''))), Box(children=(HTML(value=''),)…"
      ]
     },
     "metadata": {},
     "output_type": "display_data"
    },
    {
     "name": "stdout",
     "output_type": "stream",
     "text": [
      "Optimization restart 1/10, f = 154.0144061101275\n",
      "Optimization restart 2/10, f = 154.01440607602527\n",
      "Optimization restart 3/10, f = 154.01440607606153\n",
      "Optimization restart 4/10, f = 154.01440608126947\n",
      "Optimization restart 5/10, f = 154.01440622329136\n",
      "Optimization restart 6/10, f = 154.01441425951512\n",
      "Optimization restart 7/10, f = 154.01440615328244\n",
      "Optimization restart 8/10, f = 154.0144060759223\n",
      "Optimization restart 9/10, f = 154.0144060754493\n",
      "Optimization restart 10/10, f = 154.014406088875\n",
      "We are at frame: 390\n"
     ]
    },
    {
     "data": {
      "application/vnd.jupyter.widget-view+json": {
       "model_id": "4cbd8e0408c24c8b946ba5054fed08ee",
       "version_major": 2,
       "version_minor": 0
      },
      "text/plain": [
       "HBox(children=(VBox(children=(IntProgress(value=0, max=1000), HTML(value=''))), Box(children=(HTML(value=''),)…"
      ]
     },
     "metadata": {},
     "output_type": "display_data"
    },
    {
     "name": "stdout",
     "output_type": "stream",
     "text": [
      "Optimization restart 1/10, f = 18.29897640255294\n",
      "Optimization restart 2/10, f = 18.29897640147282\n",
      "Optimization restart 3/10, f = 18.2989764013711\n",
      "Optimization restart 4/10, f = 18.29897640394252\n",
      "Optimization restart 5/10, f = 18.29897640134373\n",
      "Optimization restart 6/10, f = 18.298976402161983\n",
      "Optimization restart 7/10, f = 18.298976401288165\n",
      "Optimization restart 8/10, f = 18.298976401297466\n",
      "Optimization restart 9/10, f = 18.298976404838243\n",
      "Optimization restart 10/10, f = 18.29897640187955\n",
      "We are at frame: 391\n"
     ]
    },
    {
     "data": {
      "application/vnd.jupyter.widget-view+json": {
       "model_id": "58f48b38a9c443a589af3292cb3da1cf",
       "version_major": 2,
       "version_minor": 0
      },
      "text/plain": [
       "HBox(children=(VBox(children=(IntProgress(value=0, max=1000), HTML(value=''))), Box(children=(HTML(value=''),)…"
      ]
     },
     "metadata": {},
     "output_type": "display_data"
    },
    {
     "name": "stdout",
     "output_type": "stream",
     "text": [
      "Optimization restart 1/10, f = 21.014605280227155\n",
      "Optimization restart 2/10, f = 21.01460528233879\n",
      "Optimization restart 3/10, f = 21.014605280232324\n",
      "Optimization restart 4/10, f = 21.01460528100344\n",
      "Optimization restart 5/10, f = 21.014605280236914\n",
      "Optimization restart 6/10, f = 21.01460528024601\n",
      "Optimization restart 7/10, f = 21.014605281308317\n",
      "Optimization restart 8/10, f = 21.014605280225947\n",
      "Optimization restart 9/10, f = 21.01460529479157\n",
      "Optimization restart 10/10, f = 21.014605280277735\n",
      "We are at frame: 392\n"
     ]
    },
    {
     "data": {
      "application/vnd.jupyter.widget-view+json": {
       "model_id": "a5c7a259e0cd4234b4134f6ebe918e2a",
       "version_major": 2,
       "version_minor": 0
      },
      "text/plain": [
       "HBox(children=(VBox(children=(IntProgress(value=0, max=1000), HTML(value=''))), Box(children=(HTML(value=''),)…"
      ]
     },
     "metadata": {},
     "output_type": "display_data"
    },
    {
     "name": "stdout",
     "output_type": "stream",
     "text": [
      "Optimization restart 1/10, f = 106.26052002173617\n",
      "Optimization restart 2/10, f = 106.2605200227823\n",
      "Optimization restart 3/10, f = 106.26052002158563\n",
      "Optimization restart 4/10, f = 106.26052002156877\n",
      "Optimization restart 5/10, f = 106.26052002240287\n",
      "Optimization restart 6/10, f = 106.2605200222614\n",
      "Optimization restart 7/10, f = 106.26052002159135\n",
      "Optimization restart 8/10, f = 106.26052002188148\n",
      "Optimization restart 9/10, f = 106.26052003771063\n",
      "Optimization restart 10/10, f = 106.26052002160513\n",
      "We are at frame: 393\n"
     ]
    },
    {
     "data": {
      "application/vnd.jupyter.widget-view+json": {
       "model_id": "ae77e33f199d490eb63f4e26751d6687",
       "version_major": 2,
       "version_minor": 0
      },
      "text/plain": [
       "HBox(children=(VBox(children=(IntProgress(value=0, max=1000), HTML(value=''))), Box(children=(HTML(value=''),)…"
      ]
     },
     "metadata": {},
     "output_type": "display_data"
    },
    {
     "name": "stdout",
     "output_type": "stream",
     "text": [
      "Optimization restart 1/10, f = 98.68544021766512\n",
      "Optimization restart 2/10, f = 98.68544021760434\n",
      "Optimization restart 3/10, f = 98.68544021760039\n",
      "Optimization restart 4/10, f = 98.68544021759992\n",
      "Optimization restart 5/10, f = 98.68544022057897\n",
      "Optimization restart 6/10, f = 98.68544021766776\n",
      "Optimization restart 7/10, f = 98.68544021761129\n",
      "Optimization restart 8/10, f = 98.68544021886072\n",
      "Optimization restart 9/10, f = 98.68544021768382\n",
      "Optimization restart 10/10, f = 98.68544021867366\n",
      "We are at frame: 394\n"
     ]
    },
    {
     "data": {
      "application/vnd.jupyter.widget-view+json": {
       "model_id": "c1502f45230c4912bebabe30cb09dcf5",
       "version_major": 2,
       "version_minor": 0
      },
      "text/plain": [
       "HBox(children=(VBox(children=(IntProgress(value=0, max=1000), HTML(value=''))), Box(children=(HTML(value=''),)…"
      ]
     },
     "metadata": {},
     "output_type": "display_data"
    },
    {
     "name": "stdout",
     "output_type": "stream",
     "text": [
      "Optimization restart 1/10, f = 54.834705598209155\n",
      "Optimization restart 2/10, f = 54.834705599192056\n",
      "Optimization restart 3/10, f = 54.83470559820532\n",
      "Optimization restart 4/10, f = 54.8347055981917\n",
      "Optimization restart 5/10, f = 54.83470559818909\n",
      "Optimization restart 6/10, f = 54.83470560048762\n",
      "Optimization restart 7/10, f = 54.83470559844109\n",
      "Optimization restart 8/10, f = 54.83470559902096\n",
      "Optimization restart 9/10, f = 54.834705600227124\n",
      "Optimization restart 10/10, f = 54.834705604331305\n",
      "We are at frame: 395\n"
     ]
    },
    {
     "data": {
      "application/vnd.jupyter.widget-view+json": {
       "model_id": "7c819f6142b44aef8aee84f222b1cf72",
       "version_major": 2,
       "version_minor": 0
      },
      "text/plain": [
       "HBox(children=(VBox(children=(IntProgress(value=0, max=1000), HTML(value=''))), Box(children=(HTML(value=''),)…"
      ]
     },
     "metadata": {},
     "output_type": "display_data"
    },
    {
     "name": "stdout",
     "output_type": "stream",
     "text": [
      "Optimization restart 1/10, f = 21.948092648149945\n",
      "Optimization restart 2/10, f = 21.94809264810875\n",
      "Optimization restart 3/10, f = 21.948092648125098\n",
      "Optimization restart 4/10, f = 21.948092648109213\n",
      "Optimization restart 5/10, f = 21.94809264815909\n",
      "Optimization restart 6/10, f = 21.948092648115026\n",
      "Optimization restart 7/10, f = 21.94809264810462\n",
      "Optimization restart 8/10, f = 21.948092648117502\n",
      "Optimization restart 9/10, f = 21.948092648207044\n",
      "Optimization restart 10/10, f = 21.948092648104524\n",
      "We are at frame: 396\n"
     ]
    },
    {
     "data": {
      "application/vnd.jupyter.widget-view+json": {
       "model_id": "13252ffc4485489ca43440bace46b5fd",
       "version_major": 2,
       "version_minor": 0
      },
      "text/plain": [
       "HBox(children=(VBox(children=(IntProgress(value=0, max=1000), HTML(value=''))), Box(children=(HTML(value=''),)…"
      ]
     },
     "metadata": {},
     "output_type": "display_data"
    },
    {
     "name": "stdout",
     "output_type": "stream",
     "text": [
      "Optimization restart 1/10, f = 90.37988857813103\n",
      "Optimization restart 2/10, f = 90.37988858035064\n",
      "Optimization restart 3/10, f = 90.37988857995067\n",
      "Optimization restart 4/10, f = 90.3798887369979\n",
      "Optimization restart 5/10, f = 90.37988857804176\n",
      "Optimization restart 6/10, f = 90.37988857856124\n",
      "Optimization restart 7/10, f = 90.37988880211746\n",
      "Optimization restart 8/10, f = 90.37988857787558\n",
      "Optimization restart 9/10, f = 90.37988857778893\n",
      "Optimization restart 10/10, f = 90.37988857778561\n",
      "We are at frame: 397\n"
     ]
    },
    {
     "data": {
      "application/vnd.jupyter.widget-view+json": {
       "model_id": "f642d0ddaa314ab1b69aef33bbf02bc2",
       "version_major": 2,
       "version_minor": 0
      },
      "text/plain": [
       "HBox(children=(VBox(children=(IntProgress(value=0, max=1000), HTML(value=''))), Box(children=(HTML(value=''),)…"
      ]
     },
     "metadata": {},
     "output_type": "display_data"
    },
    {
     "name": "stdout",
     "output_type": "stream",
     "text": [
      "Optimization restart 1/10, f = 90.62013498982279\n",
      "Optimization restart 2/10, f = 90.62013499039485\n",
      "Optimization restart 3/10, f = 90.62013499000042\n",
      "Optimization restart 4/10, f = 90.62013499163965\n",
      "Optimization restart 5/10, f = 90.62013499017982\n",
      "Optimization restart 6/10, f = 90.62013498986641\n",
      "Optimization restart 7/10, f = 90.62013498989094\n",
      "Optimization restart 8/10, f = 90.62013499721283\n",
      "Optimization restart 9/10, f = 90.62013499002381\n",
      "Optimization restart 10/10, f = 90.62013498994585\n",
      "We are at frame: 398\n"
     ]
    },
    {
     "data": {
      "application/vnd.jupyter.widget-view+json": {
       "model_id": "63c4c6bd78de41c6a805ca0b5a4ed3fb",
       "version_major": 2,
       "version_minor": 0
      },
      "text/plain": [
       "HBox(children=(VBox(children=(IntProgress(value=0, max=1000), HTML(value=''))), Box(children=(HTML(value=''),)…"
      ]
     },
     "metadata": {},
     "output_type": "display_data"
    },
    {
     "name": "stdout",
     "output_type": "stream",
     "text": [
      "Optimization restart 1/10, f = 48.20366620421832\n",
      "Optimization restart 2/10, f = 48.20366620332246\n",
      "Optimization restart 3/10, f = 48.20366620346331\n",
      "Optimization restart 4/10, f = 48.203666203378845\n",
      "Optimization restart 5/10, f = 48.203666203316175\n",
      "Optimization restart 6/10, f = 48.20366620331078\n",
      "Optimization restart 7/10, f = 48.20366620407118\n",
      "Optimization restart 8/10, f = 48.20366620331068\n",
      "Optimization restart 9/10, f = 48.20366620336583\n",
      "Optimization restart 10/10, f = 48.20366620356052\n",
      "We are at frame: 399\n"
     ]
    },
    {
     "data": {
      "application/vnd.jupyter.widget-view+json": {
       "model_id": "761aa6d8064045aca85f37412634aa78",
       "version_major": 2,
       "version_minor": 0
      },
      "text/plain": [
       "HBox(children=(VBox(children=(IntProgress(value=0, max=1000), HTML(value=''))), Box(children=(HTML(value=''),)…"
      ]
     },
     "metadata": {},
     "output_type": "display_data"
    },
    {
     "name": "stdout",
     "output_type": "stream",
     "text": [
      "Optimization restart 1/10, f = 7.993406018885829\n",
      "Optimization restart 2/10, f = 7.993406019061158\n",
      "Optimization restart 3/10, f = 7.993406018800497\n",
      "Optimization restart 4/10, f = 7.993406018812092\n",
      "Optimization restart 5/10, f = 7.993406020861816\n",
      "Optimization restart 6/10, f = 7.993406019031282\n",
      "Optimization restart 7/10, f = 7.993406019456549\n",
      "Optimization restart 8/10, f = 7.993406018807494\n",
      "Optimization restart 9/10, f = 7.993406018791862\n",
      "Optimization restart 10/10, f = 8.58399951748725\n",
      "We are at frame: 400\n"
     ]
    },
    {
     "data": {
      "application/vnd.jupyter.widget-view+json": {
       "model_id": "012427853cd94737b0591273c77eb5d2",
       "version_major": 2,
       "version_minor": 0
      },
      "text/plain": [
       "HBox(children=(VBox(children=(IntProgress(value=0, max=1000), HTML(value=''))), Box(children=(HTML(value=''),)…"
      ]
     },
     "metadata": {},
     "output_type": "display_data"
    },
    {
     "name": "stdout",
     "output_type": "stream",
     "text": [
      "Optimization restart 1/10, f = 66.93913334420338\n",
      "Optimization restart 2/10, f = 66.93913334690504\n",
      "Optimization restart 3/10, f = 66.93913334414128\n",
      "Optimization restart 4/10, f = 66.93913336713248\n",
      "Optimization restart 5/10, f = 66.93913334671484\n",
      "Optimization restart 6/10, f = 66.93913334421966\n",
      "Optimization restart 7/10, f = 66.93913334419565\n",
      "Optimization restart 8/10, f = 66.93913334901322\n",
      "Optimization restart 9/10, f = 66.93913334526702\n",
      "Optimization restart 10/10, f = 66.93913334445804\n",
      "We are at frame: 401\n"
     ]
    },
    {
     "data": {
      "application/vnd.jupyter.widget-view+json": {
       "model_id": "845232ea2b394ca093ebd04e0c29d097",
       "version_major": 2,
       "version_minor": 0
      },
      "text/plain": [
       "HBox(children=(VBox(children=(IntProgress(value=0, max=1000), HTML(value=''))), Box(children=(HTML(value=''),)…"
      ]
     },
     "metadata": {},
     "output_type": "display_data"
    },
    {
     "name": "stdout",
     "output_type": "stream",
     "text": [
      "Optimization restart 1/10, f = 152.77175827080126\n",
      "Optimization restart 2/10, f = 152.77175827035893\n",
      "Optimization restart 3/10, f = 152.77175827096417\n",
      "Optimization restart 4/10, f = 152.77175827001855\n",
      "Optimization restart 5/10, f = 152.77175827402385\n",
      "Optimization restart 6/10, f = 152.77175827210465\n",
      "Optimization restart 7/10, f = 152.77175827027344\n",
      "Optimization restart 8/10, f = 152.77175827034952\n",
      "Optimization restart 9/10, f = 152.77175827008125\n",
      "Optimization restart 10/10, f = 313.72267346261475\n",
      "We are at frame: 402\n"
     ]
    },
    {
     "data": {
      "application/vnd.jupyter.widget-view+json": {
       "model_id": "941719161e9e4cb0b6ea55a55da5de3e",
       "version_major": 2,
       "version_minor": 0
      },
      "text/plain": [
       "HBox(children=(VBox(children=(IntProgress(value=0, max=1000), HTML(value=''))), Box(children=(HTML(value=''),)…"
      ]
     },
     "metadata": {},
     "output_type": "display_data"
    },
    {
     "name": "stdout",
     "output_type": "stream",
     "text": [
      "Optimization restart 1/10, f = 26.83923045878729\n",
      "Optimization restart 2/10, f = 26.83923045718701\n",
      "Optimization restart 3/10, f = 26.839230457149476\n",
      "Optimization restart 4/10, f = 26.839230457336505\n",
      "Optimization restart 5/10, f = 26.839230457213397\n",
      "Optimization restart 6/10, f = 26.839230458087687\n",
      "Optimization restart 7/10, f = 26.839230457188837\n",
      "Optimization restart 8/10, f = 26.83923045726519\n",
      "Optimization restart 9/10, f = 26.839230457234642\n",
      "Optimization restart 10/10, f = 26.839230457221813\n",
      "We are at frame: 403\n"
     ]
    },
    {
     "data": {
      "application/vnd.jupyter.widget-view+json": {
       "model_id": "c346a750751148eb8b899e7b1d0aa5a3",
       "version_major": 2,
       "version_minor": 0
      },
      "text/plain": [
       "HBox(children=(VBox(children=(IntProgress(value=0, max=1000), HTML(value=''))), Box(children=(HTML(value=''),)…"
      ]
     },
     "metadata": {},
     "output_type": "display_data"
    },
    {
     "name": "stdout",
     "output_type": "stream",
     "text": [
      "Optimization restart 1/10, f = 45.66955448889308\n",
      "Optimization restart 2/10, f = 45.6695544887959\n",
      "Optimization restart 3/10, f = 45.66955448934642\n",
      "Optimization restart 4/10, f = 45.66955448878569\n",
      "Optimization restart 5/10, f = 45.66955448883091\n",
      "Optimization restart 6/10, f = 45.669554488785685\n",
      "Optimization restart 7/10, f = 45.66955448943617\n",
      "Optimization restart 8/10, f = 45.66955448878346\n",
      "Optimization restart 9/10, f = 45.6695545046299\n",
      "Optimization restart 10/10, f = 45.669554494107416\n",
      "We are at frame: 404\n"
     ]
    },
    {
     "data": {
      "application/vnd.jupyter.widget-view+json": {
       "model_id": "73b377001e84432bbffd16f938d5cb50",
       "version_major": 2,
       "version_minor": 0
      },
      "text/plain": [
       "HBox(children=(VBox(children=(IntProgress(value=0, max=1000), HTML(value=''))), Box(children=(HTML(value=''),)…"
      ]
     },
     "metadata": {},
     "output_type": "display_data"
    },
    {
     "name": "stdout",
     "output_type": "stream",
     "text": [
      "Optimization restart 1/10, f = 84.27361727619409\n",
      "Optimization restart 2/10, f = 84.27361727851267\n",
      "Optimization restart 3/10, f = 84.27361728205864\n",
      "Optimization restart 4/10, f = 84.27361728323224\n",
      "Optimization restart 5/10, f = 84.27361727654197\n",
      "Optimization restart 6/10, f = 84.27361729525461\n",
      "Optimization restart 7/10, f = 84.27361727724443\n",
      "Optimization restart 8/10, f = 84.27361727619272\n",
      "Optimization restart 9/10, f = 84.27361727649686\n",
      "Optimization restart 10/10, f = 84.27361728094317\n",
      "We are at frame: 405\n"
     ]
    },
    {
     "data": {
      "application/vnd.jupyter.widget-view+json": {
       "model_id": "3acb2b7f644b482888ba55147908072f",
       "version_major": 2,
       "version_minor": 0
      },
      "text/plain": [
       "HBox(children=(VBox(children=(IntProgress(value=0, max=1000), HTML(value=''))), Box(children=(HTML(value=''),)…"
      ]
     },
     "metadata": {},
     "output_type": "display_data"
    },
    {
     "name": "stdout",
     "output_type": "stream",
     "text": [
      "Optimization restart 1/10, f = 198.06830009796948\n",
      "Optimization restart 2/10, f = 198.06830009573306\n",
      "Optimization restart 3/10, f = 198.06830009575586\n",
      "Optimization restart 4/10, f = 198.06830814791704\n",
      "Optimization restart 5/10, f = 198.068300095899\n",
      "Optimization restart 6/10, f = 198.06830067579477\n",
      "Optimization restart 7/10, f = 198.06830009624608\n",
      "Optimization restart 8/10, f = 198.06830009603595\n",
      "Optimization restart 9/10, f = 198.06830009572423\n",
      "Optimization restart 10/10, f = 198.06830009572832\n",
      "We are at frame: 406\n"
     ]
    },
    {
     "data": {
      "application/vnd.jupyter.widget-view+json": {
       "model_id": "c592212574ad414298ce0764331e8c19",
       "version_major": 2,
       "version_minor": 0
      },
      "text/plain": [
       "HBox(children=(VBox(children=(IntProgress(value=0, max=1000), HTML(value=''))), Box(children=(HTML(value=''),)…"
      ]
     },
     "metadata": {},
     "output_type": "display_data"
    },
    {
     "name": "stdout",
     "output_type": "stream",
     "text": [
      "Optimization restart 1/10, f = 50.8103644832057\n",
      "Optimization restart 2/10, f = 50.81036448381407\n",
      "Optimization restart 3/10, f = 50.810364483492926\n",
      "Optimization restart 4/10, f = 50.810364483298\n",
      "Optimization restart 5/10, f = 50.81036448492181\n",
      "Optimization restart 6/10, f = 50.81036448333229\n",
      "Optimization restart 7/10, f = 50.81036448324913\n",
      "Optimization restart 8/10, f = 50.8103644832061\n",
      "Optimization restart 9/10, f = 50.81036448318649\n",
      "Optimization restart 10/10, f = 50.810364483771025\n",
      "We are at frame: 407\n"
     ]
    },
    {
     "data": {
      "application/vnd.jupyter.widget-view+json": {
       "model_id": "30a0de32013e452c917d78fbb9c1aa56",
       "version_major": 2,
       "version_minor": 0
      },
      "text/plain": [
       "HBox(children=(VBox(children=(IntProgress(value=0, max=1000), HTML(value=''))), Box(children=(HTML(value=''),)…"
      ]
     },
     "metadata": {},
     "output_type": "display_data"
    },
    {
     "name": "stdout",
     "output_type": "stream",
     "text": [
      "Optimization restart 1/10, f = 19.105284234820015\n",
      "Optimization restart 2/10, f = 19.105284234820758\n",
      "Optimization restart 3/10, f = 19.105284234836432\n",
      "Optimization restart 4/10, f = 19.105284234960234\n",
      "Optimization restart 5/10, f = 19.10528423482126\n",
      "Optimization restart 6/10, f = 19.105284234852814\n",
      "Optimization restart 7/10, f = 19.105284234826698\n",
      "Optimization restart 8/10, f = 19.105284234846696\n",
      "Optimization restart 9/10, f = 19.10528423525877\n",
      "Optimization restart 10/10, f = 19.10528423492333\n",
      "We are at frame: 408\n"
     ]
    },
    {
     "data": {
      "application/vnd.jupyter.widget-view+json": {
       "model_id": "117a1e08259648da9fe1b08a9825c908",
       "version_major": 2,
       "version_minor": 0
      },
      "text/plain": [
       "HBox(children=(VBox(children=(IntProgress(value=0, max=1000), HTML(value=''))), Box(children=(HTML(value=''),)…"
      ]
     },
     "metadata": {},
     "output_type": "display_data"
    },
    {
     "name": "stdout",
     "output_type": "stream",
     "text": [
      "Optimization restart 1/10, f = 21.020049545768583\n",
      "Optimization restart 2/10, f = 21.020049543157008\n",
      "Optimization restart 3/10, f = 21.02004954317077\n",
      "Optimization restart 4/10, f = 21.020049543158187\n",
      "Optimization restart 5/10, f = 21.020049602328513\n",
      "Optimization restart 6/10, f = 21.020049543739177\n",
      "Optimization restart 7/10, f = 21.0200495435122\n",
      "Optimization restart 8/10, f = 21.020049543264808\n",
      "Optimization restart 9/10, f = 21.02004954334663\n",
      "Optimization restart 10/10, f = 21.020049543158297\n",
      "We are at frame: 409\n"
     ]
    },
    {
     "data": {
      "application/vnd.jupyter.widget-view+json": {
       "model_id": "d05ec705d4b1420b8b5d5369aa9f913b",
       "version_major": 2,
       "version_minor": 0
      },
      "text/plain": [
       "HBox(children=(VBox(children=(IntProgress(value=0, max=1000), HTML(value=''))), Box(children=(HTML(value=''),)…"
      ]
     },
     "metadata": {},
     "output_type": "display_data"
    },
    {
     "name": "stdout",
     "output_type": "stream",
     "text": [
      "Optimization restart 1/10, f = 40.35416183604212\n",
      "Optimization restart 2/10, f = 40.354161835575646\n",
      "Optimization restart 3/10, f = 40.354161835606675\n",
      "Optimization restart 4/10, f = 40.354161835577045\n",
      "Optimization restart 5/10, f = 40.354161835573095\n",
      "Optimization restart 6/10, f = 40.35416183566621\n",
      "Optimization restart 7/10, f = 40.35416183566175\n",
      "Optimization restart 8/10, f = 40.354161835669125\n",
      "Optimization restart 9/10, f = 40.354161838621096\n",
      "Optimization restart 10/10, f = 40.35416183624618\n",
      "We are at frame: 410\n"
     ]
    },
    {
     "data": {
      "application/vnd.jupyter.widget-view+json": {
       "model_id": "2fc4fc58447e444a8c9f1540f443f005",
       "version_major": 2,
       "version_minor": 0
      },
      "text/plain": [
       "HBox(children=(VBox(children=(IntProgress(value=0, max=1000), HTML(value=''))), Box(children=(HTML(value=''),)…"
      ]
     },
     "metadata": {},
     "output_type": "display_data"
    },
    {
     "name": "stdout",
     "output_type": "stream",
     "text": [
      "Optimization restart 1/10, f = 73.55313788563353\n",
      "Optimization restart 2/10, f = 73.55313796659267\n",
      "Optimization restart 3/10, f = 73.553137886331\n",
      "Optimization restart 4/10, f = 73.55313788567585\n",
      "Optimization restart 5/10, f = 73.55313790814623\n",
      "Optimization restart 6/10, f = 73.55313788564462\n",
      "Optimization restart 7/10, f = 73.55313799618284\n",
      "Optimization restart 8/10, f = 73.5531378859441\n",
      "Optimization restart 9/10, f = 73.55313788592508\n",
      "Optimization restart 10/10, f = 73.5531378857989\n",
      "We are at frame: 411\n"
     ]
    },
    {
     "data": {
      "application/vnd.jupyter.widget-view+json": {
       "model_id": "94d43ae4bf174910b55f53e4eb4f4024",
       "version_major": 2,
       "version_minor": 0
      },
      "text/plain": [
       "HBox(children=(VBox(children=(IntProgress(value=0, max=1000), HTML(value=''))), Box(children=(HTML(value=''),)…"
      ]
     },
     "metadata": {},
     "output_type": "display_data"
    },
    {
     "name": "stdout",
     "output_type": "stream",
     "text": [
      "Optimization restart 1/10, f = 118.3281033595096\n",
      "Optimization restart 2/10, f = 118.32810335950654\n",
      "Optimization restart 3/10, f = 118.32810424637971\n",
      "Optimization restart 4/10, f = 118.32810336054284\n",
      "Optimization restart 5/10, f = 118.32810335954896\n",
      "Optimization restart 6/10, f = 118.32810335972884\n",
      "Optimization restart 7/10, f = 118.32810335947735\n",
      "Optimization restart 8/10, f = 118.32810335948298\n",
      "Optimization restart 9/10, f = 118.32810335982725\n",
      "Optimization restart 10/10, f = 118.32810336106108\n",
      "We are at frame: 412\n"
     ]
    },
    {
     "data": {
      "application/vnd.jupyter.widget-view+json": {
       "model_id": "0b10567d61584407acae1065aa15066d",
       "version_major": 2,
       "version_minor": 0
      },
      "text/plain": [
       "HBox(children=(VBox(children=(IntProgress(value=0, max=1000), HTML(value=''))), Box(children=(HTML(value=''),)…"
      ]
     },
     "metadata": {},
     "output_type": "display_data"
    },
    {
     "name": "stdout",
     "output_type": "stream",
     "text": [
      "Optimization restart 1/10, f = 48.74440381262461\n",
      "Optimization restart 2/10, f = 48.744403836846416\n",
      "Optimization restart 3/10, f = 48.74440381256417\n",
      "Optimization restart 4/10, f = 48.744403820262654\n",
      "Optimization restart 5/10, f = 48.74440381381426\n",
      "Optimization restart 6/10, f = 48.744403812474815\n",
      "Optimization restart 7/10, f = 48.74440381247254\n",
      "Optimization restart 8/10, f = 48.744403812583414\n",
      "Optimization restart 9/10, f = 48.7444038124448\n",
      "Optimization restart 10/10, f = 48.744403812445015\n",
      "We are at frame: 413\n"
     ]
    },
    {
     "data": {
      "application/vnd.jupyter.widget-view+json": {
       "model_id": "ef41c88de8834353b468e7b9f0b7ecc6",
       "version_major": 2,
       "version_minor": 0
      },
      "text/plain": [
       "HBox(children=(VBox(children=(IntProgress(value=0, max=1000), HTML(value=''))), Box(children=(HTML(value=''),)…"
      ]
     },
     "metadata": {},
     "output_type": "display_data"
    },
    {
     "name": "stdout",
     "output_type": "stream",
     "text": [
      "Optimization restart 1/10, f = 111.96579364965098\n",
      "Optimization restart 2/10, f = 111.96579366204249\n",
      "Optimization restart 3/10, f = 111.9657936511819\n",
      "Optimization restart 4/10, f = 111.96579364955537\n",
      "Optimization restart 5/10, f = 111.96579364953146\n",
      "Optimization restart 6/10, f = 111.96579364946004\n",
      "Optimization restart 7/10, f = 111.96579364958248\n",
      "Optimization restart 8/10, f = 111.9657936494807\n",
      "Optimization restart 9/10, f = 111.96579365360301\n",
      "Optimization restart 10/10, f = 111.9657936498284\n",
      "We are at frame: 414\n"
     ]
    },
    {
     "data": {
      "application/vnd.jupyter.widget-view+json": {
       "model_id": "99719a0b87c74378a929a45faf1c4d4d",
       "version_major": 2,
       "version_minor": 0
      },
      "text/plain": [
       "HBox(children=(VBox(children=(IntProgress(value=0, max=1000), HTML(value=''))), Box(children=(HTML(value=''),)…"
      ]
     },
     "metadata": {},
     "output_type": "display_data"
    },
    {
     "name": "stdout",
     "output_type": "stream",
     "text": [
      "Optimization restart 1/10, f = 90.12247987564538\n",
      "Optimization restart 2/10, f = 90.12247987645094\n",
      "Optimization restart 3/10, f = 90.12247987561146\n",
      "Optimization restart 4/10, f = 90.12247987590199\n",
      "Optimization restart 5/10, f = 90.12247987676727\n",
      "Optimization restart 6/10, f = 90.12247987552195\n",
      "Optimization restart 7/10, f = 90.12247987560876\n",
      "Optimization restart 8/10, f = 90.12247988553816\n",
      "Optimization restart 9/10, f = 90.12247987634483\n",
      "Optimization restart 10/10, f = 90.12247987555368\n",
      "We are at frame: 415\n"
     ]
    },
    {
     "data": {
      "application/vnd.jupyter.widget-view+json": {
       "model_id": "66e76f2f29e941179088c450451cc986",
       "version_major": 2,
       "version_minor": 0
      },
      "text/plain": [
       "HBox(children=(VBox(children=(IntProgress(value=0, max=1000), HTML(value=''))), Box(children=(HTML(value=''),)…"
      ]
     },
     "metadata": {},
     "output_type": "display_data"
    },
    {
     "name": "stdout",
     "output_type": "stream",
     "text": [
      "Optimization restart 1/10, f = 127.36838008487396\n",
      "Optimization restart 2/10, f = 127.36838008495272\n",
      "Optimization restart 3/10, f = 127.3683800850434\n",
      "Optimization restart 4/10, f = 127.36838008834778\n",
      "Optimization restart 5/10, f = 127.36838008507003\n",
      "Optimization restart 6/10, f = 127.36838008489634\n",
      "Optimization restart 7/10, f = 127.36838008513077\n",
      "Optimization restart 8/10, f = 127.36838008498835\n",
      "Optimization restart 9/10, f = 127.36838008490682\n",
      "Optimization restart 10/10, f = 127.36838008496908\n",
      "We are at frame: 416\n"
     ]
    },
    {
     "data": {
      "application/vnd.jupyter.widget-view+json": {
       "model_id": "037a7b089ae349bc8b758f70bafb5b81",
       "version_major": 2,
       "version_minor": 0
      },
      "text/plain": [
       "HBox(children=(VBox(children=(IntProgress(value=0, max=1000), HTML(value=''))), Box(children=(HTML(value=''),)…"
      ]
     },
     "metadata": {},
     "output_type": "display_data"
    },
    {
     "name": "stdout",
     "output_type": "stream",
     "text": [
      "Optimization restart 1/10, f = 13.471137359277533\n",
      "Optimization restart 2/10, f = 13.471137359293515\n",
      "Optimization restart 3/10, f = 13.47113736011712\n",
      "Optimization restart 4/10, f = 13.471137359280819\n",
      "Optimization restart 5/10, f = 13.471137359279727\n",
      "Optimization restart 6/10, f = 13.47113735929334\n",
      "Optimization restart 7/10, f = 13.471137359277803\n",
      "Optimization restart 8/10, f = 13.471137359290864\n",
      "Optimization restart 9/10, f = 13.471137359349122\n",
      "Optimization restart 10/10, f = 13.471137359484176\n",
      "We are at frame: 417\n"
     ]
    },
    {
     "data": {
      "application/vnd.jupyter.widget-view+json": {
       "model_id": "97d887ba2c594ef3a0bb7f858740b7ff",
       "version_major": 2,
       "version_minor": 0
      },
      "text/plain": [
       "HBox(children=(VBox(children=(IntProgress(value=0, max=1000), HTML(value=''))), Box(children=(HTML(value=''),)…"
      ]
     },
     "metadata": {},
     "output_type": "display_data"
    },
    {
     "name": "stdout",
     "output_type": "stream",
     "text": [
      "Optimization restart 1/10, f = 34.893958212811036\n",
      "Optimization restart 2/10, f = 34.89395821447459\n",
      "Optimization restart 3/10, f = 35.116391534291964\n",
      "Optimization restart 4/10, f = 34.89395821611093\n",
      "Optimization restart 5/10, f = 34.89395825754974\n",
      "Optimization restart 6/10, f = 34.89395821854205\n",
      "Optimization restart 7/10, f = 34.893958264446844\n",
      "Optimization restart 8/10, f = 34.893958228080315\n",
      "Optimization restart 9/10, f = 34.89395840339279\n",
      "Optimization restart 10/10, f = 34.893958761916195\n",
      "We are at frame: 418\n"
     ]
    },
    {
     "data": {
      "application/vnd.jupyter.widget-view+json": {
       "model_id": "1af4bea7627e41e3a49e90b9d736b6dc",
       "version_major": 2,
       "version_minor": 0
      },
      "text/plain": [
       "HBox(children=(VBox(children=(IntProgress(value=0, max=1000), HTML(value=''))), Box(children=(HTML(value=''),)…"
      ]
     },
     "metadata": {},
     "output_type": "display_data"
    },
    {
     "name": "stdout",
     "output_type": "stream",
     "text": [
      "Optimization restart 1/10, f = 35.21318625411372\n",
      "Optimization restart 2/10, f = 35.21318625400936\n",
      "Optimization restart 3/10, f = 35.21318626110429\n",
      "Optimization restart 4/10, f = 35.2131862540076\n",
      "Optimization restart 5/10, f = 35.21318625401925\n",
      "Optimization restart 6/10, f = 35.213186254021224\n",
      "Optimization restart 7/10, f = 35.21318625401624\n",
      "Optimization restart 8/10, f = 35.2131862540688\n",
      "Optimization restart 9/10, f = 35.23594521344655\n",
      "Optimization restart 10/10, f = 35.213186256256975\n",
      "We are at frame: 419\n"
     ]
    },
    {
     "data": {
      "application/vnd.jupyter.widget-view+json": {
       "model_id": "592ad63007c745d0989b9cf209ffb83f",
       "version_major": 2,
       "version_minor": 0
      },
      "text/plain": [
       "HBox(children=(VBox(children=(IntProgress(value=0, max=1000), HTML(value=''))), Box(children=(HTML(value=''),)…"
      ]
     },
     "metadata": {},
     "output_type": "display_data"
    },
    {
     "name": "stdout",
     "output_type": "stream",
     "text": [
      "Optimization restart 1/10, f = 20.40364869979632\n",
      "Optimization restart 2/10, f = 20.403648684394746\n",
      "Optimization restart 3/10, f = 20.403648685218435\n",
      "Optimization restart 4/10, f = 20.403648684240462\n",
      "Optimization restart 5/10, f = 20.40364871143224\n",
      "Optimization restart 6/10, f = 20.403648684300673\n",
      "Optimization restart 7/10, f = 20.4036486842607\n",
      "Optimization restart 8/10, f = 20.403648684227097\n",
      "Optimization restart 9/10, f = 20.403648684435947\n",
      "Optimization restart 10/10, f = 20.403648684246733\n",
      "We are at frame: 420\n"
     ]
    },
    {
     "data": {
      "application/vnd.jupyter.widget-view+json": {
       "model_id": "2afba64970d445798f3338b37c50b015",
       "version_major": 2,
       "version_minor": 0
      },
      "text/plain": [
       "HBox(children=(VBox(children=(IntProgress(value=0, max=1000), HTML(value=''))), Box(children=(HTML(value=''),)…"
      ]
     },
     "metadata": {},
     "output_type": "display_data"
    },
    {
     "name": "stdout",
     "output_type": "stream",
     "text": [
      "Optimization restart 1/10, f = 42.52843501971063\n",
      "Optimization restart 2/10, f = 42.52843502443027\n",
      "Optimization restart 3/10, f = 42.5284350197081\n",
      "Optimization restart 4/10, f = 42.52843501975937\n",
      "Optimization restart 5/10, f = 42.528435019705086\n",
      "Optimization restart 6/10, f = 42.52843502007523\n",
      "Optimization restart 7/10, f = 42.52843534327391\n",
      "Optimization restart 8/10, f = 42.52843501982521\n",
      "Optimization restart 9/10, f = 42.528435025475474\n",
      "Optimization restart 10/10, f = 42.52843501976146\n",
      "We are at frame: 421\n"
     ]
    },
    {
     "data": {
      "application/vnd.jupyter.widget-view+json": {
       "model_id": "717b68cf6d414c31aa5c9ab4eaa1d13f",
       "version_major": 2,
       "version_minor": 0
      },
      "text/plain": [
       "HBox(children=(VBox(children=(IntProgress(value=0, max=1000), HTML(value=''))), Box(children=(HTML(value=''),)…"
      ]
     },
     "metadata": {},
     "output_type": "display_data"
    },
    {
     "name": "stdout",
     "output_type": "stream",
     "text": [
      "Optimization restart 1/10, f = 42.646500920888556\n",
      "Optimization restart 2/10, f = 42.64650091741832\n",
      "Optimization restart 3/10, f = 42.646500917662\n",
      "Optimization restart 4/10, f = 42.646500918749446\n",
      "Optimization restart 5/10, f = 42.64650091758206\n",
      "Optimization restart 6/10, f = 42.646500917440946\n",
      "Optimization restart 7/10, f = 42.646500917418926\n",
      "Optimization restart 8/10, f = 42.64650091750845\n",
      "Optimization restart 9/10, f = 42.64650091741431\n",
      "Optimization restart 10/10, f = 42.646500918715844\n",
      "We are at frame: 422\n"
     ]
    },
    {
     "data": {
      "application/vnd.jupyter.widget-view+json": {
       "model_id": "7885c5e6de4a42a5bdfc216ca6016baf",
       "version_major": 2,
       "version_minor": 0
      },
      "text/plain": [
       "HBox(children=(VBox(children=(IntProgress(value=0, max=1000), HTML(value=''))), Box(children=(HTML(value=''),)…"
      ]
     },
     "metadata": {},
     "output_type": "display_data"
    },
    {
     "name": "stdout",
     "output_type": "stream",
     "text": [
      "Optimization restart 1/10, f = -55.43083255812708\n",
      "Optimization restart 2/10, f = -55.430832557625806\n",
      "Optimization restart 3/10, f = -55.43083255603254\n",
      "Optimization restart 4/10, f = -55.43083252577455\n",
      "Optimization restart 5/10, f = -55.43083255803073\n",
      "Optimization restart 6/10, f = -55.43083255370853\n",
      "Optimization restart 7/10, f = -55.43083255837068\n",
      "Optimization restart 8/10, f = -55.43083255718622\n",
      "Optimization restart 9/10, f = -55.43083255786388\n",
      "Optimization restart 10/10, f = -55.43083255742431\n",
      "We are at frame: 423\n"
     ]
    }
   ],
   "source": [
    "# WARNING this cell takes a couple of hours to run\n",
    "\n",
    "# This code segment is performing the interpolation of missing data by using Gaussian Process Regression\n",
    "# We iterate over each dataframe we want to infer data for\n",
    "# the gsim number is stored seperately for indentification later on. \n",
    "# Our predictionBase is transformed(truncated) and then Spearmanns correlation is performed between the predcition base and the current dataframe\n",
    "# Based on them we split those timeseries into training, test and precition data (before & after)\n",
    "# Then we train the GP Regression model by feeding training and test data\n",
    "# Later we predict the missing value with the training data from before and after the shared timespan. \n",
    "# Every part is then stored inseperate csv file. \n",
    "\n",
    "predictionError = []\n",
    "predictionSuccess = []\n",
    "df_error = np.array([99.99])\n",
    "dfMissing = pd.DataFrame(data=[df_error], columns=['ERROR'])\n",
    "\n",
    "for index, df in enumerate(predictableTimeseries): \n",
    "    print('We are at frame: {}'.format(index))\n",
    "    gsimNo = df['gsim.no'].values.any()\n",
    "    \n",
    "    #caculate the most correlated timeseries with the current one\n",
    "    truncatedBase = truncateBase (df, predictionBase)\n",
    "    try: \n",
    "        spearmansMatrix = spearmansCorrelation(df, truncatedBase)\n",
    "        indices = getIndices(spearmansMatrix)\n",
    "        X_before, X_after, X_train, X_test, Y_train, Y_test, datesBefore, datesTrain, datesTest, datesAfter = getDataForTrainingAndPredicting(df, predictionBase, indices)\n",
    "    except: \n",
    "        predictionError.append(gsimNo)\n",
    "        print(\"Could not compute the SpearmansCorrelation at df {}\".format(gsimNo))\n",
    "    \n",
    "    if (X_train.shape[0] != 0):\n",
    "        try:\n",
    "            model = trainGP(X_train, Y_train)\n",
    "            meanTest, varTest = model.predict(X_test)\n",
    "            meanBefore, varBefore = model.predict(X_before)\n",
    "            meanAfter, varAfter = model.predict(X_after)\n",
    "        except: \n",
    "            predictionError.append(gsimNo)\n",
    "            print(\"Could not predict data for df: {}\".format(gsimNo))\n",
    "            \n",
    "        try:                         # Transfer the prediction before available to a dataset and save it\n",
    "            dfBefore = pd.DataFrame(data=meanBefore.T, columns=datesBefore)\n",
    "            dfBefore_var = pd.DataFrame(data=varBefore.T, columns=datesBefore)\n",
    "            dfBefore['gsim.no'] = gsimNo\n",
    "            dfBefore_var['gsim.no'] = gsimNo\n",
    "            dfBefore.to_csv('data/predictions/before/prediction{}_before.csv'.format(index))\n",
    "            dfBefore_var.to_csv('data/predictions/before_var/prediction{0}_before.csv'.format(index))\n",
    "\n",
    "        except: \n",
    "            predictionError.append(gsimNo)\n",
    "            #print('An error occured at meanBefore with shape {1} in frame: {0}'.format(index, meanBefore.shape))\n",
    "            print('Shape of datesBefore: {}'.format(datesBefore.shape))\n",
    "                \n",
    "        try:                         # Transfer the test prediction to a dataset and save it\n",
    "            dfTest = pd.DataFrame(data=meanTest.T, columns=datesTest)\n",
    "            dfTest_var = pd.DataFrame(data=varTest.T, columns=datesTest)\n",
    "            dfTest['gsim.no'] = gsimNo\n",
    "            dfTest_var['gsim.no'] = gsimNo\n",
    "            dfTest.to_csv('data/predictions/test/prediction{}_test.csv'.format(index))\n",
    "            dfTest_var.to_csv('data/predictions/test_var/prediction{}_test.csv'.format(index))\n",
    "        except: \n",
    "            predictionError.append(gsimNo)\n",
    "            #print('An error occured at meanTest with shape {1} in frame: {0}'.format(index, meanTest.shape))\n",
    "\n",
    "        try:                         # Transfer the prediction after available data to a dataset and save it\n",
    "            dfAfter = pd.DataFrame(data=meanAfter.T, columns=datesAfter)\n",
    "            dfAfter_var = pd.DataFrame(data=varAfter.T, columns=datesAfter)\n",
    "            dfAfter['gsim.no'] = gsimNo\n",
    "            dfAfter_var['gsim.no'] = gsimNo\n",
    "            dfAfter.to_csv('data/predictions/after/prediction{}_after.csv'.format(index))\n",
    "            dfAfter_var.to_csv('data/predictions/after_var/prediction{}_after.csv'.format(index))\n",
    "        except:\n",
    "            predictionError.append(gsimNo)\n",
    "            #print('An error occured at meanAfter with shape {1} in frame: {0}'.format(index, meanTest.shape))\n",
    "        \n",
    "        predictionSuccess.append(gsimNo)\n",
    "    else: \n",
    "        predictionError.append(gsimNo)\n",
    "        df_error = np.array([99.99, gsimNo])\n",
    "        dfMissing = pd.DataFrame(data=[df_error], columns=['ERROR', 'gsim.no'])\n",
    "        dfMissing.to_csv('data/predictions/before/prediction{}_before.csv'.format(index))\n",
    "        dfMissing.to_csv('data/predictions/before_var/prediction{}_before.csv'.format(index))\n",
    "        dfMissing.to_csv('data/predictions/test/prediction{}_test.csv'.format(index))\n",
    "        dfMissing.to_csv('data/predictions/test_var/prediction{}_test.csv'.format(index))\n",
    "        dfMissing.to_csv('data/predictions/after/prediction{}_after.csv'.format(index))\n",
    "        dfMissing.to_csv('data/predictions/after_var/prediction{}_after.csv'.format(index))\n",
    "        print(\"Size of X_train at df {0} is {1} - to many missing values\".format(df['gsim.no'].any(), X_train.shape))"
   ]
  },
  {
   "cell_type": "code",
   "execution_count": null,
   "metadata": {},
   "outputs": [],
   "source": [
    "#Here we store the training datasets to have them on the harddrive and to be able to merge them later all together without running the whole notebook again. \n",
    "for frame, df in enumerate(predictableTimeseries):\n",
    "    \n",
    "    gsimNo = df['gsim.no'].values.any()\n",
    "    splitind = int(df.shape[0] * TRAIN_TEST_THRESHOLD)\n",
    "    \n",
    "    datesTrain = df['date'].loc[:splitind -1].copy()\n",
    "    \n",
    "    meanTrain = normalizeToGaussian(df['MEAN'].loc[:splitind -1].to_numpy())\n",
    "    meanTrain = meanTrain.reshape(-1,1)\n",
    "    dfTest = pd.DataFrame(data=meanTrain.T, columns=datesTrain)\n",
    "    dfTest['gsim.no'] =gsimNo\n",
    "    dfTest.to_csv('data/predictions/train/prediction{}_train.csv'.format(frame))\n",
    "    "
   ]
  },
  {
   "cell_type": "code",
   "execution_count": null,
   "metadata": {
    "scrolled": true
   },
   "outputs": [],
   "source": [
    "# Loading and merging the previously computed timesegments \n",
    "# Then all parts are merged together to creat one single  dataframe with data\n",
    "\n",
    "for i in range(len(predictableTimeseries)):\n",
    "    loadSucess = True\n",
    "    \n",
    "    try:\n",
    "        train = pd.read_csv('data/predictions/train/prediction{}_train.csv'.format(i))\n",
    "    except:\n",
    "        loadSucess = False\n",
    "        print('Could not load train data for frame {}'.format(i))\n",
    "    \n",
    "    try:    \n",
    "        test = pd.read_csv('data/predictions/test/prediction{}_test.csv'.format(i))\n",
    "    except:\n",
    "        loadSucess = False\n",
    "        print('Could not load test data for frame {}'.format(i))\n",
    "    \n",
    "    try:\n",
    "        before = pd.read_csv('data/predictions/before/prediction{}_before.csv'.format(i))\n",
    "    except:\n",
    "        loadSucess = False\n",
    "        print('Could not load before data for frame {}'.format(i))\n",
    "        \n",
    "    try:\n",
    "        after = pd.read_csv('data/predictions/after/prediction{}_after.csv'.format(i))\n",
    "    except:\n",
    "        loadSucess = False\n",
    "        print('Could not load after data for frame {}'.format(i))\n",
    "    \n",
    "    \n",
    "    if i == 0:    # initialising the dataset and building it with the first loaded time series\n",
    "        if (before['gsim.no'].values.any() == train['gsim.no'].values.any() == test['gsim.no'].values.any() == after['gsim.no'].values.any()): \n",
    "            before = before.drop(['Unnamed: 0', 'gsim.no'], axis=1)\n",
    "            train = train.drop(['Unnamed: 0', 'gsim.no'], axis=1)\n",
    "            test = test.drop(['Unnamed: 0', 'gsim.no'], axis=1)\n",
    "            after = after.drop(['Unnamed: 0'], axis=1)\n",
    "\n",
    "            ds = before.join([train, test, after], sort = False)\n",
    "        \n",
    "        else: \n",
    "            print('Something went wrong in the initialisation step')\n",
    "            \n",
    "    else:\n",
    "        if loadSucess:\n",
    "            if(before.columns[1] == 'ERROR'):                # check if in the current frame an ERROR occured during prediction \n",
    "                ds = ds.append(pd.DataFrame(data= [np.nan]), ignore_index = True) # if so we add a frame full of NaNs, so that we can drop this frame later on\n",
    "                continue\n",
    "            \n",
    "            if (before['gsim.no'].values.any() == train['gsim.no'].values.any() == test['gsim.no'].values.any() == after['gsim.no'].values.any()): # check if they all belong to the same gsim.no and belong to the same frame\n",
    "                \n",
    "                before = before.drop(['Unnamed: 0', 'gsim.no'], axis=1)\n",
    "                train = train.drop(['Unnamed: 0', 'gsim.no'], axis=1)\n",
    "                test = test.drop(['Unnamed: 0', 'gsim.no'], axis=1)\n",
    "                after = after.drop(['Unnamed: 0'], axis=1)\n",
    "                \n",
    "                try:\n",
    "                    df = before.join([train, test, after])\n",
    "                    ds = ds.append(df, ignore_index = True)\n",
    "                except: \n",
    "                    print('Merging of timesegments went wrong in frame {} '.format(i))\n",
    "                    continue\n",
    "        else:\n",
    "            ds = ds.append(pd.DataFrame(data= [np.nan]), ignore_index = True)\n",
    "            print('Dataframe {} is errorenous and has not been stored correctly'.format(i))\n"
   ]
  },
  {
   "cell_type": "code",
   "execution_count": null,
   "metadata": {},
   "outputs": [],
   "source": [
    "# Drop autogenerated column and then saving the dataset as a csv\n",
    "ds = ds.drop([           0], axis=1)\n",
    "ds.to_csv('data/predictions/ds_gaussian.csv')"
   ]
  },
  {
   "cell_type": "code",
   "execution_count": null,
   "metadata": {},
   "outputs": [],
   "source": [
    "# In this cell we get rid of rows/stations where we could not infer data for. \n",
    "# This could be the case if for example all values for the training set were canceled out. \n",
    "# Therefore we could not train a GP Regression model and could not infer data. \n",
    "# In that case we stored a row with NaN values and the corresponding gsimNumber of that frame. \n",
    "# Here we check if all values other than the gsimNumber in the end are null. \n",
    "# If so we simply drop them and end up with a those stations we successfully stored data for\n",
    "\n",
    "for index,row in ds.iterrows():\n",
    "    if row[:-1].isnull().all():\n",
    "        ds = ds.drop([index])"
   ]
  },
  {
   "cell_type": "code",
   "execution_count": null,
   "metadata": {},
   "outputs": [],
   "source": [
    "ds.to_csv('data/predictions/ds_gaussian_clean.csv') "
   ]
  }
 ],
 "metadata": {
  "kernelspec": {
   "display_name": "Python 3",
   "language": "python",
   "name": "python3"
  },
  "language_info": {
   "codemirror_mode": {
    "name": "ipython",
    "version": 3
   },
   "file_extension": ".py",
   "mimetype": "text/x-python",
   "name": "python",
   "nbconvert_exporter": "python",
   "pygments_lexer": "ipython3",
   "version": "3.7.3"
  }
 },
 "nbformat": 4,
 "nbformat_minor": 2
}
