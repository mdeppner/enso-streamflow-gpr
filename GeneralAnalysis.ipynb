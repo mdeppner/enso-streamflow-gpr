{
 "cells": [
  {
   "cell_type": "markdown",
   "metadata": {},
   "source": [
    "# ENSO impact on river discharge using GP Regression - General Analysis"
   ]
  },
  {
   "cell_type": "markdown",
   "metadata": {},
   "source": [
    "This jupyter notebook was made in the course of a Bachelor's thesis in the degree of mediainformatics at the University of Tuebingen. \n",
    "This project evolved under the supervision of Bedartha Goswami and his research group \"Machine Learning in Climate Science\" at the Cluster Of Excellence \"Machine Learning\".\n",
    "\n",
    "The scope of this project is to investigate ENSO impact on river discharge in South America using a data-driven approach. \n",
    "The data used for this project is provided by Do et. al via the 2018 released \"Global Streamflow and Metadata and Indices Archive\" (GSIM). \n",
    "\n",
    "With the GSIM dataset and Gaussian Process Regression we inferred missing values for stations to extend the temporal and spatial coverage of our analysis.\n",
    "\n",
    "In this Jupyter notebook the inferred data as well as the raw GSIM data is plotted to provide a general analysis of the dataset and to get a better understanding about the temporal distribution of the data as well as their different attributes."
   ]
  },
  {
   "cell_type": "code",
   "execution_count": 1,
   "metadata": {},
   "outputs": [],
   "source": [
    "import pandas as pd\n",
    "import numpy as np \n",
    "import matplotlib.pyplot as plt\n",
    "import itertools\n",
    "import GPy\n",
    "import csv\n",
    "import pickle\n",
    "import random\n",
    "import math\n",
    "\n",
    "from scipy.stats import norm, percentileofscore\n",
    "from scipy import stats\n",
    "from datetime import datetime\n",
    "from statistics import mean \n",
    "from sklearn.metrics import mean_squared_error"
   ]
  },
  {
   "cell_type": "markdown",
   "metadata": {},
   "source": [
    "### Loading inferred data"
   ]
  },
  {
   "cell_type": "code",
   "execution_count": 2,
   "metadata": {},
   "outputs": [],
   "source": [
    "ds = pd.read_csv(\"data/predictions/ds_gaussian_clean.csv\")\n",
    "ds = ds.drop(['Unnamed: 0'], axis=1)"
   ]
  },
  {
   "cell_type": "code",
   "execution_count": 3,
   "metadata": {},
   "outputs": [],
   "source": [
    "with open('data/predictionBase.pkl', 'rb') as inp:\n",
    "    predictionBase = pickle.load(inp)\n",
    "    \n",
    "    \n",
    "with open('data/predictableTimeseries.pkl', 'rb') as inp:\n",
    "    predictableTimeseries = pickle.load(inp)\n",
    "    \n",
    "\n",
    "with open('data/gsimNumbersPredictionBase.pkl', 'rb') as inp:\n",
    "    gsimNumbersPredictionBase = pickle.load(inp)\n",
    "       "
   ]
  },
  {
   "cell_type": "markdown",
   "metadata": {},
   "source": [
    "### Loading GSIM data"
   ]
  },
  {
   "cell_type": "code",
   "execution_count": 4,
   "metadata": {},
   "outputs": [],
   "source": [
    "'''\n",
    "This function loads the meta data, monhtly, yearly and seasonal data from the GSIM dataset for a gsim number\n",
    "To each dataframe the gsim number is added for further identification.\n",
    "Colum names are cleaned and a list of all dataframes is finally returned\n",
    "'''\n",
    "def loadTimeseries (series_name): \n",
    "    meta = gsim_metadata.loc[gsim_metadata['gsim.no'] == series_name]\n",
    "    monthly = pd.read_csv(\"data/GSIM_indices/TIMESERIES/monthly/\"+series_name+\".mon\", sep=',' '\\\\t', skiprows=lambda x : x < 21, engine='python',)\n",
    "    yearly = pd.read_csv(\"data/GSIM_indices/TIMESERIES/yearly/\"+series_name+\".year\", sep=',' '\\\\t', skiprows=lambda x : x < 21, engine='python',)\n",
    "    seasonal = pd.read_csv(\"data/GSIM_indices/TIMESERIES/seasonal/\"+series_name+\".seas\", sep=',' '\\\\t', skiprows=lambda x : x < 21, engine='python',)\n",
    "    monthly['gsim.no'] = series_name\n",
    "    yearly['gsim.no'] = series_name\n",
    "    seasonal['gsim.no'] = series_name\n",
    "    monthly.columns, yearly.columns, seasonal.columns = monthly.columns.str.replace('\"', ''), yearly.columns.str.replace('\"', ''), seasonal.columns.str.replace('\"', '')\n",
    "    return [meta, monthly, yearly, seasonal]"
   ]
  },
  {
   "cell_type": "code",
   "execution_count": 5,
   "metadata": {},
   "outputs": [],
   "source": [
    "'''\n",
    "Transforms the last date of measurment for a season priveded in the gsim dataset as the feature date\n",
    "As the seasonal gsim dataset stores the last date of measurement the last day of measurement of season DJF is in February, MAM in May and so on \n",
    "'''\n",
    "def determimeSeason(date):\n",
    "    endMonth = pd.to_datetime(date).month\n",
    "    switcher = {\n",
    "        2: \"DJF\",\n",
    "        5: \"MAM\",\n",
    "        8: \"JJA\",\n",
    "        11: \"SON\"\n",
    "    }\n",
    "    return switcher.get(endMonth, \"undefined\")"
   ]
  },
  {
   "cell_type": "code",
   "execution_count": 6,
   "metadata": {},
   "outputs": [],
   "source": [
    "# Loading the GSIM_metadata_Archive\n",
    "gsim_metadata = pd.read_csv(\"data/GSIM_metadata/GSIM_catalog/GSIM_metadata.csv\", sep=\",\")\n",
    "\n",
    "\n",
    "# Selecting all the dataframes for South America by 2 Letter Country Code\n",
    "southamerica2letterCC = ['AR', 'BO', 'BR', 'CL', 'CO', 'EC', 'FK', 'GF', 'GY', 'PY', 'PE', 'SR', 'UY', 'VE']\n",
    "\n",
    "stations_of_interest = pd.Series()\n",
    "for country in southamerica2letterCC: \n",
    "    stations_of_interest = stations_of_interest.append(gsim_metadata.loc[gsim_metadata['country'] == country]['gsim.no'], ignore_index=True)\n",
    "        \n",
    "    \n",
    "# Initialisation of the empty lists where we store the dataframes: datatype: list of dataframes\n",
    "df_yearly = []\n",
    "df_monthly = []\n",
    "df_seasonal = []\n",
    "df_meta = []\n",
    "\n",
    "# For each station in South America we load the meta, yearly, seasonal and monthly dataset\n",
    "for station in stations_of_interest:\n",
    "    \n",
    "    series = loadTimeseries(station)\n",
    "    df_meta.append(series[0])\n",
    "    df_monthly.append(series[1])\n",
    "    df_yearly.append(series[2])\n",
    "    df_seasonal.append(series[3])\n",
    "\n",
    "    \n",
    "        \n",
    "# For each dataframe in our monthly dataset we add a column that stores each the year and the month for a given measurement\n",
    "for df in df_monthly: \n",
    "    df['month'] = pd.to_datetime(df['date']).dt.month\n",
    "    df['year'] = pd.to_datetime(df['date']).dt.year\n",
    "    df['date'] = pd.to_datetime(df['date']).dt.date\n",
    "\n",
    "    \n",
    "# For each dataframe in our yearly dataset we add a column that stores the year for a given measurement\n",
    "for df in df_yearly: \n",
    "    df['year'] = pd.to_datetime(df['date']).dt.year\n",
    "    df['date'] = pd.to_datetime(df['date']).dt.date\n",
    "\n",
    "\n",
    "# For each dataframe in our seasonal dataset we add a column that stores the year and the season of the measurment. \n",
    "# Note that for the season DJF, the year is year of the months January and February is stored. \n",
    "for df in df_seasonal: \n",
    "    df['date'] = pd.to_datetime(df['date']).dt.date\n",
    "    df['year'] = pd.to_datetime(df['date']).dt.year\n",
    "    df['month'] = pd.to_datetime(df['date']).dt.month\n",
    "    df['season'] = [determimeSeason(date) for date in df['date']]\n",
    "    \n",
    "    \n",
    "# Merge the list of metadataframes into one single dataframe, as for each station only one row of metadat exists we can merge them into one single dataframe\n",
    "for index,meta in enumerate(df_meta):\n",
    "    if index == 0:\n",
    "        ds_meta = meta\n",
    "    else: \n",
    "        ds_meta = ds_meta.append(meta, ignore_index = True)"
   ]
  },
  {
   "cell_type": "markdown",
   "metadata": {},
   "source": [
    "### Temporal coverage"
   ]
  },
  {
   "cell_type": "markdown",
   "metadata": {},
   "source": [
    "#### Distribution of the temporal coverage of all stations in the GSIM in South America"
   ]
  },
  {
   "cell_type": "code",
   "execution_count": 7,
   "metadata": {},
   "outputs": [],
   "source": [
    "soutamerica_yearly_coverage = np.zeros((len(df_meta)))\n",
    "for index, meta in enumerate(df_meta):\n",
    "    soutamerica_yearly_coverage[index] =  meta['year.no']\n",
    "    "
   ]
  },
  {
   "cell_type": "code",
   "execution_count": 8,
   "metadata": {
    "scrolled": true
   },
   "outputs": [
    {
     "name": "stderr",
     "output_type": "stream",
     "text": [
      " C:\\Users\\marku\\Anaconda3\\lib\\site-packages\\ipykernel_launcher.py:6: MatplotlibDeprecationWarning:Adding an axes using the same arguments as a previous axes currently reuses the earlier instance.  In a future version, a new instance will always be created and returned.  Meanwhile, this warning can be suppressed, and the future behavior ensured, by passing a unique label to each axes instance.\n"
     ]
    },
    {
     "data": {
      "image/png": "[encoded data removed]",
      "text/plain": [
       "<Figure size 864x288 with 1 Axes>"
      ]
     },
     "metadata": {
      "needs_background": "dark"
     },
     "output_type": "display_data"
    }
   ],
   "source": [
    "plt.figure(figsize=(12,4))\n",
    "plt.xlabel('Years of Datacoverage')\n",
    "plt.ylabel('Datasets')\n",
    "\n",
    "# use a gray background\n",
    "ax = plt.axes()\n",
    "ax.set_axisbelow(True)\n",
    "\n",
    "# draw solid white grid lines\n",
    "plt.grid(color='w', linestyle='solid')\n",
    "\n",
    "# hide axis spines\n",
    "for spine in ax.spines.values():\n",
    "    spine.set_visible(False)\n",
    "\n",
    "# hide top and right ticks\n",
    "ax.xaxis.tick_bottom()\n",
    "ax.yaxis.tick_left()\n",
    "\n",
    "# lighten ticks and labels\n",
    "ax.tick_params(colors='gray', direction='out')\n",
    "for tick in ax.get_xticklabels():\n",
    "    tick.set_color('gray')\n",
    "for tick in ax.get_yticklabels():\n",
    "    tick.set_color('gray')\n",
    "\n",
    "# control face and edge color of histogram\n",
    "ax.hist(soutamerica_yearly_coverage, edgecolor='#E6E6E6', color='#EE6666', bins=30);\n",
    "\n",
    "unique, counts = np.unique(soutamerica_yearly_coverage, return_counts=True)\n",
    "median = np.median(soutamerica_yearly_coverage)\n",
    "plt.axvline(median, color=\"k\")\n",
    "plt.legend(['Median: ' + str(median), 'Total count: ' +  str(len(soutamerica_yearly_coverage))])\n",
    "plt.show()"
   ]
  },
  {
   "cell_type": "code",
   "execution_count": null,
   "metadata": {},
   "outputs": [],
   "source": []
  },
  {
   "cell_type": "markdown",
   "metadata": {},
   "source": [
    "#### Plot of when staions in South America stop measuring and have their last year of active recording "
   ]
  },
  {
   "cell_type": "code",
   "execution_count": 9,
   "metadata": {},
   "outputs": [],
   "source": [
    "soutamerica_endyear = np.zeros((len(df_meta)))\n",
    "for index, meta in enumerate(df_meta): \n",
    "    soutamerica_endyear[index] = meta['year.end']"
   ]
  },
  {
   "cell_type": "code",
   "execution_count": 10,
   "metadata": {
    "scrolled": false
   },
   "outputs": [
    {
     "name": "stderr",
     "output_type": "stream",
     "text": [
      " C:\\Users\\marku\\Anaconda3\\lib\\site-packages\\ipykernel_launcher.py:5: MatplotlibDeprecationWarning:Adding an axes using the same arguments as a previous axes currently reuses the earlier instance.  In a future version, a new instance will always be created and returned.  Meanwhile, this warning can be suppressed, and the future behavior ensured, by passing a unique label to each axes instance.\n"
     ]
    },
    {
     "data": {
      "image/png": "[encoded data removed]",
      "text/plain": [
       "<Figure size 864x288 with 1 Axes>"
      ]
     },
     "metadata": {
      "needs_background": "dark"
     },
     "output_type": "display_data"
    }
   ],
   "source": [
    "plt.figure(figsize=(12,4))\n",
    "plt.xlabel('Last covered year')\n",
    "plt.ylabel('Datasets')\n",
    "\n",
    "ax = plt.axes()\n",
    "ax.set_axisbelow(True)\n",
    "\n",
    "# draw solid white grid lines\n",
    "plt.grid(color='w', linestyle='solid')\n",
    "\n",
    "# hide axis spines\n",
    "for spine in ax.spines.values():\n",
    "    spine.set_visible(False)\n",
    "\n",
    "# hide top and right ticks\n",
    "ax.xaxis.tick_bottom()\n",
    "ax.yaxis.tick_left()\n",
    "\n",
    "# lighten ticks and labels\n",
    "ax.tick_params(colors='gray', direction='out')\n",
    "for tick in ax.get_xticklabels():\n",
    "    tick.set_color('gray')\n",
    "for tick in ax.get_yticklabels():\n",
    "    tick.set_color('gray')\n",
    "\n",
    "# control face and edge color of histogram\n",
    "bins = int(max(soutamerica_endyear) - min(soutamerica_endyear))\n",
    "ax.hist(soutamerica_endyear, edgecolor='#E6E6E6', color='#EE6666', bins=bins);\n",
    "plt.legend(['Total count: ' +  str(len(soutamerica_endyear))])\n",
    "plt.show()"
   ]
  },
  {
   "cell_type": "code",
   "execution_count": null,
   "metadata": {},
   "outputs": [],
   "source": []
  },
  {
   "cell_type": "markdown",
   "metadata": {},
   "source": [
    "#### Plot of the amount of stations that are actively recording per year"
   ]
  },
  {
   "cell_type": "code",
   "execution_count": 11,
   "metadata": {
    "scrolled": true
   },
   "outputs": [],
   "source": [
    "#Adding a column in the yearly dataset, where the year is stored for each row\n",
    "years = []\n",
    "for dataset in df_yearly:\n",
    "    dataset['year'] = pd.to_datetime(dataset['date']).dt.year\n",
    "    years.extend(set(dataset['year'].tolist()))"
   ]
  },
  {
   "cell_type": "code",
   "execution_count": 12,
   "metadata": {
    "scrolled": false
   },
   "outputs": [
    {
     "name": "stderr",
     "output_type": "stream",
     "text": [
      " C:\\Users\\marku\\Anaconda3\\lib\\site-packages\\ipykernel_launcher.py:5: MatplotlibDeprecationWarning:Adding an axes using the same arguments as a previous axes currently reuses the earlier instance.  In a future version, a new instance will always be created and returned.  Meanwhile, this warning can be suppressed, and the future behavior ensured, by passing a unique label to each axes instance.\n"
     ]
    },
    {
     "data": {
      "image/png": "[encoded data removed]",
      "text/plain": [
       "<Figure size 864x288 with 1 Axes>"
      ]
     },
     "metadata": {
      "needs_background": "dark"
     },
     "output_type": "display_data"
    }
   ],
   "source": [
    "plt.figure(figsize=(12,4))\n",
    "plt.xlabel('Year')\n",
    "plt.ylabel('Amount of stations')\n",
    "\n",
    "ax = plt.axes()\n",
    "ax.set_axisbelow(True)\n",
    "\n",
    "# draw solid white grid lines\n",
    "plt.grid(color='w', linestyle='solid')\n",
    "\n",
    "# hide axis spines\n",
    "for spine in ax.spines.values():\n",
    "    spine.set_visible(False)\n",
    "\n",
    "# hide top and right ticks\n",
    "ax.xaxis.tick_bottom()\n",
    "ax.yaxis.tick_left()\n",
    "\n",
    "# lighten ticks and labels\n",
    "ax.tick_params(colors='gray', direction='out')\n",
    "for tick in ax.get_xticklabels():\n",
    "    tick.set_color('gray')\n",
    "for tick in ax.get_yticklabels():\n",
    "    tick.set_color('gray')\n",
    "\n",
    "# control face and edge color of histogram\n",
    "ax.hist(years, edgecolor='#E6E6E6', color='#EE6666', bins=len(set(years)));\n",
    "plt.show()"
   ]
  },
  {
   "cell_type": "code",
   "execution_count": 13,
   "metadata": {},
   "outputs": [],
   "source": [
    "def get_range_of_years(lowerbound, upperbound):\n",
    "    output = []\n",
    "    for dataset in df_yearly:\n",
    "        if lowerbound <= dataset.shape[0] < upperbound:\n",
    "            output.extend(set(dataset['year'].tolist()))\n",
    "    return output\n",
    "    "
   ]
  },
  {
   "cell_type": "code",
   "execution_count": 14,
   "metadata": {},
   "outputs": [],
   "source": [
    "plus60years = get_range_of_years(60,np.inf)\n",
    "fourtyto59years = get_range_of_years(40,60)\n",
    "twentyto39years = get_range_of_years(20,40)\n",
    "lessthan20 = get_range_of_years(0,20)\n"
   ]
  },
  {
   "cell_type": "code",
   "execution_count": 15,
   "metadata": {},
   "outputs": [],
   "source": [
    "colors = ['#264653', '#2a9d8f', '#e9c46a', '#e76f51']\n",
    "allyears = np.array([plus60years,fourtyto59years, twentyto39years, lessthan20])"
   ]
  },
  {
   "cell_type": "code",
   "execution_count": 16,
   "metadata": {
    "scrolled": false
   },
   "outputs": [
    {
     "name": "stderr",
     "output_type": "stream",
     "text": [
      " C:\\Users\\marku\\Anaconda3\\lib\\site-packages\\ipykernel_launcher.py:9: MatplotlibDeprecationWarning:Adding an axes using the same arguments as a previous axes currently reuses the earlier instance.  In a future version, a new instance will always be created and returned.  Meanwhile, this warning can be suppressed, and the future behavior ensured, by passing a unique label to each axes instance.\n"
     ]
    },
    {
     "data": {
      "image/png": "[encoded data removed]",
      "text/plain": [
       "<Figure size 864x288 with 1 Axes>"
      ]
     },
     "metadata": {
      "needs_background": "dark"
     },
     "output_type": "display_data"
    }
   ],
   "source": [
    "# Todo .. for those years that are not within one category like 1901 in 40-60 or so .. simply add 0 to them such that we can eliminate the artifact\n",
    "# maybe think about another way of presenting the data. \n",
    "# like plotting multiple histograms on top of each other\n",
    "\n",
    "plt.figure(figsize=(12,4))\n",
    "plt.xlabel('Year')\n",
    "plt.ylabel('Stations')\n",
    "\n",
    "ax = plt.axes()\n",
    "ax.set_axisbelow(True)\n",
    "\n",
    "# draw solid white grid lines\n",
    "plt.grid(color='w', linestyle='solid')\n",
    "\n",
    "# hide axis spines\n",
    "for spine in ax.spines.values():\n",
    "    spine.set_visible(False)\n",
    "\n",
    "# hide top and right ticks\n",
    "ax.xaxis.tick_bottom()\n",
    "ax.yaxis.tick_left()\n",
    "\n",
    "# lighten ticks and labels\n",
    "ax.tick_params(colors='gray', direction='out')\n",
    "for tick in ax.get_xticklabels():\n",
    "    tick.set_color('gray')\n",
    "for tick in ax.get_yticklabels():\n",
    "    tick.set_color('gray')\n",
    "\n",
    "# control face and edge color of histogram\n",
    "bins = max(allyears.any()) - min(allyears.any())\n",
    "labels = ['0-19 years', '20 - 39 years', '40 - 59 years', '60+ years']\n",
    "ax.hist(allyears, color=colors, bins = bins+1,  histtype='step', stacked=True, fill=True);\n",
    "plt.legend(labels, loc =2)\n",
    "plt.show()"
   ]
  },
  {
   "cell_type": "markdown",
   "metadata": {},
   "source": [
    "### Maximum discharge"
   ]
  },
  {
   "cell_type": "markdown",
   "metadata": {},
   "source": [
    "#### Histogram of the number of stations that show their absolute maximum measured river discharge in a given year."
   ]
  },
  {
   "cell_type": "code",
   "execution_count": 17,
   "metadata": {},
   "outputs": [],
   "source": [
    "'''\n",
    "@param  dataset: list of pandas dataframes\n",
    "        min_years: number - minimum amount of years for e.g. a value of 20 only those time series are considered who have at least 20 years of data in their time series \n",
    "@return ndarray of the years and the amount of stations that have their absolute peak river discharge during this time\n",
    "'''\n",
    "def get_max_years (dataset, min_years):\n",
    "    max_years = []\n",
    "    for df in dataset:\n",
    "        if df.shape[0] >= min_years:\n",
    "            arr = df['MEAN'].to_numpy()\n",
    "            arr_ = np.nan_to_num(arr, copy=True)\n",
    "            maxind = np.argmax(arr_)\n",
    "            if df['MEAN'].loc[maxind] == np.nan:\n",
    "                raise Exception('x should not exceed 5. The value of x was: {}'.format(x))\n",
    "            else:        \n",
    "                max_years.append(df['year'].loc[maxind])\n",
    "        else: \n",
    "            continue\n",
    "    \n",
    "    m = np.unique(max_years, return_counts=True)\n",
    "    return m"
   ]
  },
  {
   "cell_type": "code",
   "execution_count": 18,
   "metadata": {},
   "outputs": [],
   "source": [
    "'''\n",
    "@param  dataset: list of pandas dataframes\n",
    "        min_years: number - minimum amount of years for e.g. a value of 20 only those time series are considered who have at least 20 years of data in their time series \n",
    "@return ndarray of the years and the amount of stations that have measurements during this year\n",
    "'''\n",
    "\n",
    "def get_all_years (dataset, min_years):\n",
    "    allyears = []\n",
    "    for index, df in enumerate(df_yearly):\n",
    "        if df.shape[0] >= min_years:\n",
    "            years = df.loc[df['MEAN'].notnull()]['year'].to_numpy()\n",
    "            allyears.extend(years)\n",
    "        else: \n",
    "            continue\n",
    "        \n",
    "    a = np.unique(allyears, return_counts=True)\n",
    "    return a\n",
    "    "
   ]
  },
  {
   "cell_type": "code",
   "execution_count": 19,
   "metadata": {},
   "outputs": [],
   "source": [
    "'''\n",
    "@param  ma: ndarray - the years and the amount of stations that have their absolute maximum in the year\n",
    "        al: ndarray - the amount of stations that cover a praticular year\n",
    "@return ndarray - a normalized array of the stations that have maximum discharge during a year normalized by the amount of stations that cover the year\n",
    "'''\n",
    "def get_norm_years (ma,al):\n",
    "    n = np.zeros(len(ma[0]))\n",
    "    \n",
    "    for idx, year in enumerate(ma[0]):\n",
    "        max_discharge = ma[1][idx]\n",
    "        if max_discharge != 0: \n",
    "            all_years = al[1][al[0] == year][0]\n",
    "            norm = max_discharge/all_years \n",
    "            n[idx] = norm\n",
    "        else: \n",
    "            n[idx] = 0\n",
    "    \n",
    "    return n"
   ]
  },
  {
   "cell_type": "code",
   "execution_count": 20,
   "metadata": {},
   "outputs": [],
   "source": [
    "m0  = get_max_years(df_yearly, 0)\n",
    "m10 = get_max_years(df_yearly, 10)\n",
    "m20 = get_max_years(df_yearly, 20)\n",
    "m30 = get_max_years(df_yearly, 30)\n",
    "m40 = get_max_years(df_yearly, 40)\n",
    "m50 = get_max_years(df_yearly, 50)\n",
    "m60 = get_max_years(df_yearly, 60)\n",
    "m70 = get_max_years(df_yearly, 70)"
   ]
  },
  {
   "cell_type": "code",
   "execution_count": 21,
   "metadata": {},
   "outputs": [],
   "source": [
    "a0  = get_all_years(df_yearly, 0)\n",
    "a10 = get_all_years(df_yearly, 10)\n",
    "a20 = get_all_years(df_yearly, 20)\n",
    "a30 = get_all_years(df_yearly, 30)\n",
    "a40 = get_all_years(df_yearly, 40)\n",
    "a50 = get_all_years(df_yearly, 50)\n",
    "a60 = get_all_years(df_yearly, 60)\n",
    "a70 = get_all_years(df_yearly, 70)"
   ]
  },
  {
   "cell_type": "code",
   "execution_count": 22,
   "metadata": {},
   "outputs": [],
   "source": [
    "n0 = get_norm_years(m0, a0)\n",
    "n10 = get_norm_years(m10, a10)\n",
    "n20 = get_norm_years(m20, a20)\n",
    "n30 = get_norm_years(m30, a30)\n",
    "n40 = get_norm_years(m40, a40)\n",
    "n50 = get_norm_years(m50, a50)\n",
    "n60 = get_norm_years(m60, a60)\n",
    "n70 = get_norm_years(m70, a70)"
   ]
  },
  {
   "cell_type": "code",
   "execution_count": 23,
   "metadata": {},
   "outputs": [
    {
     "data": {
      "text/plain": [
       "<BarContainer object of 89 artists>"
      ]
     },
     "execution_count": 23,
     "metadata": {},
     "output_type": "execute_result"
    },
    {
     "data": {
      "image/png": "[encoded data removed]",
      "text/plain": [
       "<Figure size 1080x648 with 3 Axes>"
      ]
     },
     "metadata": {
      "needs_background": "dark"
     },
     "output_type": "display_data"
    }
   ],
   "source": [
    "fig, (ax1, ax2, ax3) = plt.subplots(3, figsize=(15,9))\n",
    "\n",
    "for spine in ax1.spines.values():\n",
    "    spine.set_visible(False)\n",
    "    \n",
    "for spine in ax2.spines.values():\n",
    "    spine.set_visible(False)\n",
    "    \n",
    "for spine in ax3.spines.values():\n",
    "    spine.set_visible(False)\n",
    "\n",
    "ax1.tick_params(colors='gray', direction='out')\n",
    "ax2.tick_params(colors='gray', direction='out')\n",
    "ax3.tick_params(colors='gray', direction='out')\n",
    "\n",
    "    \n",
    "fig.suptitle('Maximum Discharge Analysis')\n",
    "ax1.bar( m0[0], m0[1], edgecolor='#E6E6E6', color='#EE6666', label = 'amount of stations showing \\nmaximum discharge in this year' )\n",
    "ax2.bar( a0[0][19:], a0[1][19:], edgecolor='#E6E6E6', color='#EE6666', label = 'stations that cover this year' )\n",
    "ax3.bar( m0[0], n0, edgecolor='#E6E6E6', color='#EE6666', label = 'percentage of stations with maximum discharge / stations that cover this year' )\n"
   ]
  },
  {
   "cell_type": "code",
   "execution_count": 24,
   "metadata": {},
   "outputs": [
    {
     "data": {
      "text/plain": [
       "<BarContainer object of 83 artists>"
      ]
     },
     "execution_count": 24,
     "metadata": {},
     "output_type": "execute_result"
    },
    {
     "data": {
      "image/png": "[encoded data removed]",
      "text/plain": [
       "<Figure size 1080x648 with 3 Axes>"
      ]
     },
     "metadata": {
      "needs_background": "dark"
     },
     "output_type": "display_data"
    }
   ],
   "source": [
    "fig, (ax1, ax2, ax3) = plt.subplots(3, figsize=(15,9))\n",
    "\n",
    "for spine in ax1.spines.values():\n",
    "    spine.set_visible(False)\n",
    "    \n",
    "for spine in ax2.spines.values():\n",
    "    spine.set_visible(False)\n",
    "    \n",
    "for spine in ax3.spines.values():\n",
    "    spine.set_visible(False)\n",
    "\n",
    "ax1.tick_params(colors='gray', direction='out')\n",
    "ax2.tick_params(colors='gray', direction='out')\n",
    "ax3.tick_params(colors='gray', direction='out')\n",
    "\n",
    "    \n",
    "fig.suptitle('Maximum Discharge Analysis')\n",
    "ax1.bar( m40[0], m40[1], edgecolor='#E6E6E6', color='#EE6666', label = 'amount of stations showing \\nmaximum discharge in this year' )\n",
    "ax2.bar( a40[0][19:], a40[1][19:], edgecolor='#E6E6E6', color='#EE6666', label = 'stations that cover this year' )\n",
    "ax3.bar( m40[0], n40, edgecolor='#E6E6E6', color='#EE6666', label = 'percentage of stations with maximum discharge / stations that cover this year' )\n"
   ]
  },
  {
   "cell_type": "markdown",
   "metadata": {},
   "source": [
    "### Transformation steps during Gaussian Normalisation"
   ]
  },
  {
   "cell_type": "code",
   "execution_count": 25,
   "metadata": {},
   "outputs": [],
   "source": [
    "\"\"\"\n",
    "Normalizes the data to a Gaussian distribution using quantiles. (function provided by Bedartha Goswami)\n",
    "\"\"\"\n",
    "def normalizeToGaussian(arr, mode=\"mean\"):\n",
    "    n = len(arr)\n",
    "    perc = percentileofscore\n",
    "    arr_ = arr.copy()[~np.isnan(arr)]\n",
    "    out = np.zeros(n)\n",
    "    for i in range(n):\n",
    "        if not np.isnan(arr[i]):\n",
    "            out[i] = norm.ppf(perc(arr_, arr[i], mode) / 100.)\n",
    "        else:\n",
    "            out[i] = np.nan\n",
    "    return out\n"
   ]
  },
  {
   "cell_type": "code",
   "execution_count": 26,
   "metadata": {
    "scrolled": true
   },
   "outputs": [
    {
     "data": {
      "text/html": [
       "<div>\n",
       "<style scoped>\n",
       "    .dataframe tbody tr th:only-of-type {\n",
       "        vertical-align: middle;\n",
       "    }\n",
       "\n",
       "    .dataframe tbody tr th {\n",
       "        vertical-align: top;\n",
       "    }\n",
       "\n",
       "    .dataframe thead th {\n",
       "        text-align: right;\n",
       "    }\n",
       "</style>\n",
       "<table border=\"1\" class=\"dataframe\">\n",
       "  <thead>\n",
       "    <tr style=\"text-align: right;\">\n",
       "      <th></th>\n",
       "      <th>date</th>\n",
       "      <th>MEAN</th>\n",
       "      <th>SD</th>\n",
       "      <th>CV</th>\n",
       "      <th>IQR</th>\n",
       "      <th>MIN</th>\n",
       "      <th>MAX</th>\n",
       "      <th>MIN7</th>\n",
       "      <th>MAX7</th>\n",
       "      <th>n.missing</th>\n",
       "      <th>n.available</th>\n",
       "      <th>gsim.no</th>\n",
       "      <th>month</th>\n",
       "      <th>year</th>\n",
       "    </tr>\n",
       "  </thead>\n",
       "  <tbody>\n",
       "    <tr>\n",
       "      <th>0</th>\n",
       "      <td>1960-01-31</td>\n",
       "      <td>12601.732258</td>\n",
       "      <td>1208.305023</td>\n",
       "      <td>0.095884</td>\n",
       "      <td>2113.02000</td>\n",
       "      <td>10622.020</td>\n",
       "      <td>14430.200</td>\n",
       "      <td>10128.115000</td>\n",
       "      <td>14101.840000</td>\n",
       "      <td>0</td>\n",
       "      <td>31</td>\n",
       "      <td>BR_0000078</td>\n",
       "      <td>1</td>\n",
       "      <td>1960</td>\n",
       "    </tr>\n",
       "    <tr>\n",
       "      <th>1</th>\n",
       "      <td>1960-02-29</td>\n",
       "      <td>14396.934138</td>\n",
       "      <td>247.026708</td>\n",
       "      <td>0.017158</td>\n",
       "      <td>235.57000</td>\n",
       "      <td>13760.620</td>\n",
       "      <td>14619.110</td>\n",
       "      <td>14032.572857</td>\n",
       "      <td>14605.572857</td>\n",
       "      <td>0</td>\n",
       "      <td>29</td>\n",
       "      <td>BR_0000078</td>\n",
       "      <td>2</td>\n",
       "      <td>1960</td>\n",
       "    </tr>\n",
       "    <tr>\n",
       "      <th>2</th>\n",
       "      <td>1960-03-31</td>\n",
       "      <td>13999.500968</td>\n",
       "      <td>457.025156</td>\n",
       "      <td>0.032646</td>\n",
       "      <td>450.55000</td>\n",
       "      <td>13070.770</td>\n",
       "      <td>14571.710</td>\n",
       "      <td>13253.682857</td>\n",
       "      <td>14480.744286</td>\n",
       "      <td>0</td>\n",
       "      <td>31</td>\n",
       "      <td>BR_0000078</td>\n",
       "      <td>3</td>\n",
       "      <td>1960</td>\n",
       "    </tr>\n",
       "    <tr>\n",
       "      <th>3</th>\n",
       "      <td>1960-04-30</td>\n",
       "      <td>12763.160667</td>\n",
       "      <td>192.896588</td>\n",
       "      <td>0.015114</td>\n",
       "      <td>359.46000</td>\n",
       "      <td>12449.090</td>\n",
       "      <td>13114.480</td>\n",
       "      <td>12533.584286</td>\n",
       "      <td>13149.421429</td>\n",
       "      <td>0</td>\n",
       "      <td>30</td>\n",
       "      <td>BR_0000078</td>\n",
       "      <td>4</td>\n",
       "      <td>1960</td>\n",
       "    </tr>\n",
       "    <tr>\n",
       "      <th>4</th>\n",
       "      <td>1960-05-31</td>\n",
       "      <td>12624.747419</td>\n",
       "      <td>600.664098</td>\n",
       "      <td>0.047578</td>\n",
       "      <td>937.78000</td>\n",
       "      <td>11429.330</td>\n",
       "      <td>13224.240</td>\n",
       "      <td>11686.385714</td>\n",
       "      <td>13208.531429</td>\n",
       "      <td>0</td>\n",
       "      <td>31</td>\n",
       "      <td>BR_0000078</td>\n",
       "      <td>5</td>\n",
       "      <td>1960</td>\n",
       "    </tr>\n",
       "    <tr>\n",
       "      <th>5</th>\n",
       "      <td>1960-06-30</td>\n",
       "      <td>8562.883800</td>\n",
       "      <td>1437.882959</td>\n",
       "      <td>0.167920</td>\n",
       "      <td>2057.45125</td>\n",
       "      <td>6653.374</td>\n",
       "      <td>11213.620</td>\n",
       "      <td>7042.049000</td>\n",
       "      <td>11580.974286</td>\n",
       "      <td>0</td>\n",
       "      <td>30</td>\n",
       "      <td>BR_0000078</td>\n",
       "      <td>6</td>\n",
       "      <td>1960</td>\n",
       "    </tr>\n",
       "    <tr>\n",
       "      <th>6</th>\n",
       "      <td>1960-07-31</td>\n",
       "      <td>4261.057677</td>\n",
       "      <td>1185.832583</td>\n",
       "      <td>0.278295</td>\n",
       "      <td>1717.67300</td>\n",
       "      <td>2578.497</td>\n",
       "      <td>6541.584</td>\n",
       "      <td>2857.694571</td>\n",
       "      <td>6917.213286</td>\n",
       "      <td>0</td>\n",
       "      <td>31</td>\n",
       "      <td>BR_0000078</td>\n",
       "      <td>7</td>\n",
       "      <td>1960</td>\n",
       "    </tr>\n",
       "    <tr>\n",
       "      <th>7</th>\n",
       "      <td>1960-08-31</td>\n",
       "      <td>1782.284677</td>\n",
       "      <td>411.052306</td>\n",
       "      <td>0.230632</td>\n",
       "      <td>700.47450</td>\n",
       "      <td>1352.604</td>\n",
       "      <td>2514.289</td>\n",
       "      <td>1381.777286</td>\n",
       "      <td>2757.707143</td>\n",
       "      <td>0</td>\n",
       "      <td>31</td>\n",
       "      <td>BR_0000078</td>\n",
       "      <td>8</td>\n",
       "      <td>1960</td>\n",
       "    </tr>\n",
       "    <tr>\n",
       "      <th>8</th>\n",
       "      <td>1960-09-30</td>\n",
       "      <td>1304.195933</td>\n",
       "      <td>57.677700</td>\n",
       "      <td>0.044225</td>\n",
       "      <td>87.65375</td>\n",
       "      <td>1245.255</td>\n",
       "      <td>1409.672</td>\n",
       "      <td>1245.710143</td>\n",
       "      <td>1406.333714</td>\n",
       "      <td>0</td>\n",
       "      <td>30</td>\n",
       "      <td>BR_0000078</td>\n",
       "      <td>9</td>\n",
       "      <td>1960</td>\n",
       "    </tr>\n",
       "    <tr>\n",
       "      <th>9</th>\n",
       "      <td>1960-10-31</td>\n",
       "      <td>NaN</td>\n",
       "      <td>NaN</td>\n",
       "      <td>NaN</td>\n",
       "      <td>NaN</td>\n",
       "      <td>NaN</td>\n",
       "      <td>NaN</td>\n",
       "      <td>NaN</td>\n",
       "      <td>NaN</td>\n",
       "      <td>31</td>\n",
       "      <td>0</td>\n",
       "      <td>BR_0000078</td>\n",
       "      <td>10</td>\n",
       "      <td>1960</td>\n",
       "    </tr>\n",
       "    <tr>\n",
       "      <th>10</th>\n",
       "      <td>1960-11-30</td>\n",
       "      <td>2452.327000</td>\n",
       "      <td>281.068382</td>\n",
       "      <td>0.114613</td>\n",
       "      <td>532.44050</td>\n",
       "      <td>2121.219</td>\n",
       "      <td>2887.427</td>\n",
       "      <td>2166.896714</td>\n",
       "      <td>2810.017143</td>\n",
       "      <td>0</td>\n",
       "      <td>30</td>\n",
       "      <td>BR_0000078</td>\n",
       "      <td>11</td>\n",
       "      <td>1960</td>\n",
       "    </tr>\n",
       "    <tr>\n",
       "      <th>11</th>\n",
       "      <td>1960-12-31</td>\n",
       "      <td>4010.015290</td>\n",
       "      <td>994.473831</td>\n",
       "      <td>0.247998</td>\n",
       "      <td>1476.62300</td>\n",
       "      <td>2892.320</td>\n",
       "      <td>6046.912</td>\n",
       "      <td>2836.896571</td>\n",
       "      <td>5527.870857</td>\n",
       "      <td>0</td>\n",
       "      <td>31</td>\n",
       "      <td>BR_0000078</td>\n",
       "      <td>12</td>\n",
       "      <td>1960</td>\n",
       "    </tr>\n",
       "    <tr>\n",
       "      <th>12</th>\n",
       "      <td>1961-01-31</td>\n",
       "      <td>7927.535000</td>\n",
       "      <td>852.413796</td>\n",
       "      <td>0.107526</td>\n",
       "      <td>1199.14750</td>\n",
       "      <td>6168.721</td>\n",
       "      <td>9039.898</td>\n",
       "      <td>5712.305429</td>\n",
       "      <td>8824.243143</td>\n",
       "      <td>0</td>\n",
       "      <td>31</td>\n",
       "      <td>BR_0000078</td>\n",
       "      <td>1</td>\n",
       "      <td>1961</td>\n",
       "    </tr>\n",
       "    <tr>\n",
       "      <th>13</th>\n",
       "      <td>1961-02-28</td>\n",
       "      <td>11765.842929</td>\n",
       "      <td>1208.267914</td>\n",
       "      <td>0.102693</td>\n",
       "      <td>2161.50750</td>\n",
       "      <td>9233.473</td>\n",
       "      <td>13246.270</td>\n",
       "      <td>8911.194571</td>\n",
       "      <td>13092.908571</td>\n",
       "      <td>0</td>\n",
       "      <td>28</td>\n",
       "      <td>BR_0000078</td>\n",
       "      <td>2</td>\n",
       "      <td>1961</td>\n",
       "    </tr>\n",
       "    <tr>\n",
       "      <th>14</th>\n",
       "      <td>1961-03-31</td>\n",
       "      <td>13472.163226</td>\n",
       "      <td>209.465377</td>\n",
       "      <td>0.015548</td>\n",
       "      <td>323.97500</td>\n",
       "      <td>13048.960</td>\n",
       "      <td>13806.040</td>\n",
       "      <td>13111.525714</td>\n",
       "      <td>13734.744286</td>\n",
       "      <td>0</td>\n",
       "      <td>31</td>\n",
       "      <td>BR_0000078</td>\n",
       "      <td>3</td>\n",
       "      <td>1961</td>\n",
       "    </tr>\n",
       "    <tr>\n",
       "      <th>15</th>\n",
       "      <td>1961-04-30</td>\n",
       "      <td>11765.096000</td>\n",
       "      <td>740.085114</td>\n",
       "      <td>0.062905</td>\n",
       "      <td>1232.17750</td>\n",
       "      <td>10962.620</td>\n",
       "      <td>13224.240</td>\n",
       "      <td>10981.801429</td>\n",
       "      <td>13459.234286</td>\n",
       "      <td>0</td>\n",
       "      <td>30</td>\n",
       "      <td>BR_0000078</td>\n",
       "      <td>4</td>\n",
       "      <td>1961</td>\n",
       "    </tr>\n",
       "    <tr>\n",
       "      <th>16</th>\n",
       "      <td>1961-05-31</td>\n",
       "      <td>11277.935484</td>\n",
       "      <td>250.330435</td>\n",
       "      <td>0.022196</td>\n",
       "      <td>313.21000</td>\n",
       "      <td>10753.520</td>\n",
       "      <td>11768.780</td>\n",
       "      <td>10982.474286</td>\n",
       "      <td>11631.227143</td>\n",
       "      <td>0</td>\n",
       "      <td>31</td>\n",
       "      <td>BR_0000078</td>\n",
       "      <td>5</td>\n",
       "      <td>1961</td>\n",
       "    </tr>\n",
       "    <tr>\n",
       "      <th>17</th>\n",
       "      <td>1961-06-30</td>\n",
       "      <td>8465.733167</td>\n",
       "      <td>1208.685570</td>\n",
       "      <td>0.142774</td>\n",
       "      <td>1687.97525</td>\n",
       "      <td>6940.900</td>\n",
       "      <td>10678.230</td>\n",
       "      <td>7193.057857</td>\n",
       "      <td>10917.087143</td>\n",
       "      <td>0</td>\n",
       "      <td>30</td>\n",
       "      <td>BR_0000078</td>\n",
       "      <td>6</td>\n",
       "      <td>1961</td>\n",
       "    </tr>\n",
       "    <tr>\n",
       "      <th>18</th>\n",
       "      <td>1961-07-31</td>\n",
       "      <td>4568.549613</td>\n",
       "      <td>1191.751411</td>\n",
       "      <td>0.260860</td>\n",
       "      <td>1989.15450</td>\n",
       "      <td>2718.865</td>\n",
       "      <td>6766.130</td>\n",
       "      <td>3047.213143</td>\n",
       "      <td>7103.687571</td>\n",
       "      <td>0</td>\n",
       "      <td>31</td>\n",
       "      <td>BR_0000078</td>\n",
       "      <td>7</td>\n",
       "      <td>1961</td>\n",
       "    </tr>\n",
       "    <tr>\n",
       "      <th>19</th>\n",
       "      <td>1961-08-31</td>\n",
       "      <td>1726.947871</td>\n",
       "      <td>353.257452</td>\n",
       "      <td>0.204556</td>\n",
       "      <td>420.00750</td>\n",
       "      <td>1362.588</td>\n",
       "      <td>2643.530</td>\n",
       "      <td>1405.938857</td>\n",
       "      <td>2943.281857</td>\n",
       "      <td>0</td>\n",
       "      <td>31</td>\n",
       "      <td>BR_0000078</td>\n",
       "      <td>8</td>\n",
       "      <td>1961</td>\n",
       "    </tr>\n",
       "    <tr>\n",
       "      <th>20</th>\n",
       "      <td>1961-09-30</td>\n",
       "      <td>1211.940033</td>\n",
       "      <td>51.147596</td>\n",
       "      <td>0.042203</td>\n",
       "      <td>67.33250</td>\n",
       "      <td>1163.862</td>\n",
       "      <td>1332.749</td>\n",
       "      <td>1164.301857</td>\n",
       "      <td>1389.583000</td>\n",
       "      <td>0</td>\n",
       "      <td>30</td>\n",
       "      <td>BR_0000078</td>\n",
       "      <td>9</td>\n",
       "      <td>1961</td>\n",
       "    </tr>\n",
       "    <tr>\n",
       "      <th>21</th>\n",
       "      <td>1961-10-31</td>\n",
       "      <td>1564.435097</td>\n",
       "      <td>451.020851</td>\n",
       "      <td>0.288296</td>\n",
       "      <td>748.33750</td>\n",
       "      <td>1185.499</td>\n",
       "      <td>2383.914</td>\n",
       "      <td>1194.393857</td>\n",
       "      <td>2281.265143</td>\n",
       "      <td>0</td>\n",
       "      <td>31</td>\n",
       "      <td>BR_0000078</td>\n",
       "      <td>10</td>\n",
       "      <td>1961</td>\n",
       "    </tr>\n",
       "    <tr>\n",
       "      <th>22</th>\n",
       "      <td>1961-11-30</td>\n",
       "      <td>2772.785667</td>\n",
       "      <td>371.304883</td>\n",
       "      <td>0.133910</td>\n",
       "      <td>657.27625</td>\n",
       "      <td>2317.866</td>\n",
       "      <td>3456.259</td>\n",
       "      <td>2312.671286</td>\n",
       "      <td>3300.453571</td>\n",
       "      <td>0</td>\n",
       "      <td>30</td>\n",
       "      <td>BR_0000078</td>\n",
       "      <td>11</td>\n",
       "      <td>1961</td>\n",
       "    </tr>\n",
       "    <tr>\n",
       "      <th>23</th>\n",
       "      <td>1961-12-31</td>\n",
       "      <td>4237.467323</td>\n",
       "      <td>1259.625698</td>\n",
       "      <td>0.297259</td>\n",
       "      <td>2485.27000</td>\n",
       "      <td>2776.076</td>\n",
       "      <td>6082.609</td>\n",
       "      <td>2878.731857</td>\n",
       "      <td>5904.878429</td>\n",
       "      <td>0</td>\n",
       "      <td>31</td>\n",
       "      <td>BR_0000078</td>\n",
       "      <td>12</td>\n",
       "      <td>1961</td>\n",
       "    </tr>\n",
       "    <tr>\n",
       "      <th>24</th>\n",
       "      <td>1962-01-31</td>\n",
       "      <td>6969.936290</td>\n",
       "      <td>426.963870</td>\n",
       "      <td>0.061258</td>\n",
       "      <td>443.08550</td>\n",
       "      <td>6118.414</td>\n",
       "      <td>7614.540</td>\n",
       "      <td>5965.247857</td>\n",
       "      <td>7466.875857</td>\n",
       "      <td>0</td>\n",
       "      <td>31</td>\n",
       "      <td>BR_0000078</td>\n",
       "      <td>1</td>\n",
       "      <td>1962</td>\n",
       "    </tr>\n",
       "    <tr>\n",
       "      <th>25</th>\n",
       "      <td>1962-02-28</td>\n",
       "      <td>8958.036857</td>\n",
       "      <td>954.532892</td>\n",
       "      <td>0.106556</td>\n",
       "      <td>1631.84050</td>\n",
       "      <td>7614.540</td>\n",
       "      <td>10753.520</td>\n",
       "      <td>7198.884429</td>\n",
       "      <td>10289.578286</td>\n",
       "      <td>0</td>\n",
       "      <td>28</td>\n",
       "      <td>BR_0000078</td>\n",
       "      <td>2</td>\n",
       "      <td>1962</td>\n",
       "    </tr>\n",
       "    <tr>\n",
       "      <th>26</th>\n",
       "      <td>1962-03-31</td>\n",
       "      <td>11807.902258</td>\n",
       "      <td>527.463901</td>\n",
       "      <td>0.044670</td>\n",
       "      <td>993.00000</td>\n",
       "      <td>10962.620</td>\n",
       "      <td>12618.340</td>\n",
       "      <td>10434.704286</td>\n",
       "      <td>12488.501429</td>\n",
       "      <td>0</td>\n",
       "      <td>31</td>\n",
       "      <td>BR_0000078</td>\n",
       "      <td>3</td>\n",
       "      <td>1962</td>\n",
       "    </tr>\n",
       "    <tr>\n",
       "      <th>27</th>\n",
       "      <td>1962-04-30</td>\n",
       "      <td>12982.687000</td>\n",
       "      <td>128.216501</td>\n",
       "      <td>0.009876</td>\n",
       "      <td>108.62750</td>\n",
       "      <td>12639.610</td>\n",
       "      <td>13114.480</td>\n",
       "      <td>12524.722857</td>\n",
       "      <td>13101.987143</td>\n",
       "      <td>0</td>\n",
       "      <td>30</td>\n",
       "      <td>BR_0000078</td>\n",
       "      <td>4</td>\n",
       "      <td>1962</td>\n",
       "    </tr>\n",
       "    <tr>\n",
       "      <th>28</th>\n",
       "      <td>1962-05-31</td>\n",
       "      <td>11117.886065</td>\n",
       "      <td>1118.407812</td>\n",
       "      <td>0.100595</td>\n",
       "      <td>1616.85500</td>\n",
       "      <td>9110.048</td>\n",
       "      <td>12682.240</td>\n",
       "      <td>9473.176857</td>\n",
       "      <td>12882.008571</td>\n",
       "      <td>0</td>\n",
       "      <td>31</td>\n",
       "      <td>BR_0000078</td>\n",
       "      <td>5</td>\n",
       "      <td>1962</td>\n",
       "    </tr>\n",
       "    <tr>\n",
       "      <th>29</th>\n",
       "      <td>1962-06-30</td>\n",
       "      <td>7120.860033</td>\n",
       "      <td>1083.086268</td>\n",
       "      <td>0.152100</td>\n",
       "      <td>1593.69225</td>\n",
       "      <td>5395.727</td>\n",
       "      <td>9013.664</td>\n",
       "      <td>5715.258429</td>\n",
       "      <td>9339.880571</td>\n",
       "      <td>0</td>\n",
       "      <td>30</td>\n",
       "      <td>BR_0000078</td>\n",
       "      <td>6</td>\n",
       "      <td>1962</td>\n",
       "    </tr>\n",
       "    <tr>\n",
       "      <th>...</th>\n",
       "      <td>...</td>\n",
       "      <td>...</td>\n",
       "      <td>...</td>\n",
       "      <td>...</td>\n",
       "      <td>...</td>\n",
       "      <td>...</td>\n",
       "      <td>...</td>\n",
       "      <td>...</td>\n",
       "      <td>...</td>\n",
       "      <td>...</td>\n",
       "      <td>...</td>\n",
       "      <td>...</td>\n",
       "      <td>...</td>\n",
       "      <td>...</td>\n",
       "    </tr>\n",
       "    <tr>\n",
       "      <th>647</th>\n",
       "      <td>2013-12-31</td>\n",
       "      <td>6127.551613</td>\n",
       "      <td>1018.879997</td>\n",
       "      <td>0.166278</td>\n",
       "      <td>1298.55000</td>\n",
       "      <td>4529.200</td>\n",
       "      <td>8211.000</td>\n",
       "      <td>3940.450000</td>\n",
       "      <td>7646.042857</td>\n",
       "      <td>0</td>\n",
       "      <td>31</td>\n",
       "      <td>BR_0000078</td>\n",
       "      <td>12</td>\n",
       "      <td>2013</td>\n",
       "    </tr>\n",
       "    <tr>\n",
       "      <th>648</th>\n",
       "      <td>2014-01-31</td>\n",
       "      <td>9627.274194</td>\n",
       "      <td>654.195050</td>\n",
       "      <td>0.067952</td>\n",
       "      <td>921.50000</td>\n",
       "      <td>8372.500</td>\n",
       "      <td>10788.500</td>\n",
       "      <td>7845.300000</td>\n",
       "      <td>10508.285714</td>\n",
       "      <td>0</td>\n",
       "      <td>31</td>\n",
       "      <td>BR_0000078</td>\n",
       "      <td>1</td>\n",
       "      <td>2014</td>\n",
       "    </tr>\n",
       "    <tr>\n",
       "      <th>649</th>\n",
       "      <td>2014-02-28</td>\n",
       "      <td>11178.000000</td>\n",
       "      <td>132.791965</td>\n",
       "      <td>0.011880</td>\n",
       "      <td>178.62500</td>\n",
       "      <td>10853.500</td>\n",
       "      <td>11320.000</td>\n",
       "      <td>10599.357143</td>\n",
       "      <td>11295.142857</td>\n",
       "      <td>10</td>\n",
       "      <td>18</td>\n",
       "      <td>BR_0000078</td>\n",
       "      <td>2</td>\n",
       "      <td>2014</td>\n",
       "    </tr>\n",
       "    <tr>\n",
       "      <th>650</th>\n",
       "      <td>2014-03-31</td>\n",
       "      <td>11974.935484</td>\n",
       "      <td>136.411861</td>\n",
       "      <td>0.011391</td>\n",
       "      <td>130.00000</td>\n",
       "      <td>11600.000</td>\n",
       "      <td>12110.000</td>\n",
       "      <td>11757.000000</td>\n",
       "      <td>12080.285714</td>\n",
       "      <td>0</td>\n",
       "      <td>31</td>\n",
       "      <td>BR_0000078</td>\n",
       "      <td>3</td>\n",
       "      <td>2014</td>\n",
       "    </tr>\n",
       "    <tr>\n",
       "      <th>651</th>\n",
       "      <td>2014-04-30</td>\n",
       "      <td>12128.966667</td>\n",
       "      <td>89.718519</td>\n",
       "      <td>0.007397</td>\n",
       "      <td>102.00000</td>\n",
       "      <td>11887.000</td>\n",
       "      <td>12302.000</td>\n",
       "      <td>12031.285714</td>\n",
       "      <td>12234.571429</td>\n",
       "      <td>0</td>\n",
       "      <td>30</td>\n",
       "      <td>BR_0000078</td>\n",
       "      <td>4</td>\n",
       "      <td>2014</td>\n",
       "    </tr>\n",
       "    <tr>\n",
       "      <th>652</th>\n",
       "      <td>2014-05-31</td>\n",
       "      <td>11245.032258</td>\n",
       "      <td>277.458764</td>\n",
       "      <td>0.024674</td>\n",
       "      <td>356.00000</td>\n",
       "      <td>10717.000</td>\n",
       "      <td>11845.000</td>\n",
       "      <td>10862.785714</td>\n",
       "      <td>11990.000000</td>\n",
       "      <td>0</td>\n",
       "      <td>31</td>\n",
       "      <td>BR_0000078</td>\n",
       "      <td>5</td>\n",
       "      <td>2014</td>\n",
       "    </tr>\n",
       "    <tr>\n",
       "      <th>653</th>\n",
       "      <td>2014-06-30</td>\n",
       "      <td>8462.101667</td>\n",
       "      <td>1714.182779</td>\n",
       "      <td>0.202572</td>\n",
       "      <td>3030.75000</td>\n",
       "      <td>5470.900</td>\n",
       "      <td>10678.000</td>\n",
       "      <td>6054.878571</td>\n",
       "      <td>10817.285714</td>\n",
       "      <td>0</td>\n",
       "      <td>30</td>\n",
       "      <td>BR_0000078</td>\n",
       "      <td>6</td>\n",
       "      <td>2014</td>\n",
       "    </tr>\n",
       "    <tr>\n",
       "      <th>654</th>\n",
       "      <td>2014-07-31</td>\n",
       "      <td>3239.337097</td>\n",
       "      <td>892.033132</td>\n",
       "      <td>0.275375</td>\n",
       "      <td>1262.10000</td>\n",
       "      <td>2254.000</td>\n",
       "      <td>5219.500</td>\n",
       "      <td>2342.871429</td>\n",
       "      <td>5838.685714</td>\n",
       "      <td>0</td>\n",
       "      <td>31</td>\n",
       "      <td>BR_0000078</td>\n",
       "      <td>7</td>\n",
       "      <td>2014</td>\n",
       "    </tr>\n",
       "    <tr>\n",
       "      <th>655</th>\n",
       "      <td>2014-08-31</td>\n",
       "      <td>1918.769355</td>\n",
       "      <td>189.988480</td>\n",
       "      <td>0.099016</td>\n",
       "      <td>259.32500</td>\n",
       "      <td>1572.950</td>\n",
       "      <td>2240.000</td>\n",
       "      <td>1637.435714</td>\n",
       "      <td>2315.914286</td>\n",
       "      <td>0</td>\n",
       "      <td>31</td>\n",
       "      <td>BR_0000078</td>\n",
       "      <td>8</td>\n",
       "      <td>2014</td>\n",
       "    </tr>\n",
       "    <tr>\n",
       "      <th>656</th>\n",
       "      <td>2014-09-30</td>\n",
       "      <td>1346.641667</td>\n",
       "      <td>108.371830</td>\n",
       "      <td>0.080476</td>\n",
       "      <td>152.10000</td>\n",
       "      <td>1221.600</td>\n",
       "      <td>1561.850</td>\n",
       "      <td>1234.714286</td>\n",
       "      <td>1613.385714</td>\n",
       "      <td>0</td>\n",
       "      <td>30</td>\n",
       "      <td>BR_0000078</td>\n",
       "      <td>9</td>\n",
       "      <td>2014</td>\n",
       "    </tr>\n",
       "    <tr>\n",
       "      <th>657</th>\n",
       "      <td>2014-10-31</td>\n",
       "      <td>1595.067742</td>\n",
       "      <td>163.391931</td>\n",
       "      <td>0.102436</td>\n",
       "      <td>276.60000</td>\n",
       "      <td>1356.600</td>\n",
       "      <td>1923.600</td>\n",
       "      <td>1326.000000</td>\n",
       "      <td>1822.357143</td>\n",
       "      <td>0</td>\n",
       "      <td>31</td>\n",
       "      <td>BR_0000078</td>\n",
       "      <td>10</td>\n",
       "      <td>2014</td>\n",
       "    </tr>\n",
       "    <tr>\n",
       "      <th>658</th>\n",
       "      <td>2014-11-30</td>\n",
       "      <td>3132.533333</td>\n",
       "      <td>905.992613</td>\n",
       "      <td>0.289220</td>\n",
       "      <td>1258.97500</td>\n",
       "      <td>1970.100</td>\n",
       "      <td>4910.000</td>\n",
       "      <td>1852.614286</td>\n",
       "      <td>4537.557143</td>\n",
       "      <td>0</td>\n",
       "      <td>30</td>\n",
       "      <td>BR_0000078</td>\n",
       "      <td>11</td>\n",
       "      <td>2014</td>\n",
       "    </tr>\n",
       "    <tr>\n",
       "      <th>659</th>\n",
       "      <td>2014-12-31</td>\n",
       "      <td>6252.885484</td>\n",
       "      <td>608.265105</td>\n",
       "      <td>0.097278</td>\n",
       "      <td>1006.50000</td>\n",
       "      <td>5066.800</td>\n",
       "      <td>6948.650</td>\n",
       "      <td>4678.671429</td>\n",
       "      <td>6881.657143</td>\n",
       "      <td>0</td>\n",
       "      <td>31</td>\n",
       "      <td>BR_0000078</td>\n",
       "      <td>12</td>\n",
       "      <td>2014</td>\n",
       "    </tr>\n",
       "    <tr>\n",
       "      <th>660</th>\n",
       "      <td>2015-01-31</td>\n",
       "      <td>8996.406452</td>\n",
       "      <td>1168.078854</td>\n",
       "      <td>0.129838</td>\n",
       "      <td>1912.12500</td>\n",
       "      <td>7002.600</td>\n",
       "      <td>10749.500</td>\n",
       "      <td>6909.521429</td>\n",
       "      <td>10448.642857</td>\n",
       "      <td>0</td>\n",
       "      <td>31</td>\n",
       "      <td>BR_0000078</td>\n",
       "      <td>1</td>\n",
       "      <td>2015</td>\n",
       "    </tr>\n",
       "    <tr>\n",
       "      <th>661</th>\n",
       "      <td>2015-02-28</td>\n",
       "      <td>11367.250000</td>\n",
       "      <td>244.927937</td>\n",
       "      <td>0.021547</td>\n",
       "      <td>391.75000</td>\n",
       "      <td>10840.500</td>\n",
       "      <td>11670.000</td>\n",
       "      <td>10552.428571</td>\n",
       "      <td>11651.000000</td>\n",
       "      <td>0</td>\n",
       "      <td>28</td>\n",
       "      <td>BR_0000078</td>\n",
       "      <td>2</td>\n",
       "      <td>2015</td>\n",
       "    </tr>\n",
       "    <tr>\n",
       "      <th>662</th>\n",
       "      <td>2015-03-31</td>\n",
       "      <td>12001.354839</td>\n",
       "      <td>388.756097</td>\n",
       "      <td>0.032393</td>\n",
       "      <td>736.00000</td>\n",
       "      <td>11628.000</td>\n",
       "      <td>12662.000</td>\n",
       "      <td>11646.000000</td>\n",
       "      <td>12572.857143</td>\n",
       "      <td>0</td>\n",
       "      <td>31</td>\n",
       "      <td>BR_0000078</td>\n",
       "      <td>3</td>\n",
       "      <td>2015</td>\n",
       "    </tr>\n",
       "    <tr>\n",
       "      <th>663</th>\n",
       "      <td>2015-04-30</td>\n",
       "      <td>12357.366667</td>\n",
       "      <td>454.542247</td>\n",
       "      <td>0.036783</td>\n",
       "      <td>688.00000</td>\n",
       "      <td>11460.000</td>\n",
       "      <td>12786.000</td>\n",
       "      <td>11637.000000</td>\n",
       "      <td>12757.428571</td>\n",
       "      <td>0</td>\n",
       "      <td>30</td>\n",
       "      <td>BR_0000078</td>\n",
       "      <td>4</td>\n",
       "      <td>2015</td>\n",
       "    </tr>\n",
       "    <tr>\n",
       "      <th>664</th>\n",
       "      <td>2015-05-31</td>\n",
       "      <td>11189.645161</td>\n",
       "      <td>137.762912</td>\n",
       "      <td>0.012312</td>\n",
       "      <td>244.25000</td>\n",
       "      <td>10970.500</td>\n",
       "      <td>11439.000</td>\n",
       "      <td>11026.214286</td>\n",
       "      <td>11580.000000</td>\n",
       "      <td>0</td>\n",
       "      <td>31</td>\n",
       "      <td>BR_0000078</td>\n",
       "      <td>5</td>\n",
       "      <td>2015</td>\n",
       "    </tr>\n",
       "    <tr>\n",
       "      <th>665</th>\n",
       "      <td>2015-06-30</td>\n",
       "      <td>9328.511667</td>\n",
       "      <td>1356.451689</td>\n",
       "      <td>0.145409</td>\n",
       "      <td>2230.75000</td>\n",
       "      <td>6637.400</td>\n",
       "      <td>10925.000</td>\n",
       "      <td>7335.978571</td>\n",
       "      <td>11011.357143</td>\n",
       "      <td>0</td>\n",
       "      <td>30</td>\n",
       "      <td>BR_0000078</td>\n",
       "      <td>6</td>\n",
       "      <td>2015</td>\n",
       "    </tr>\n",
       "    <tr>\n",
       "      <th>666</th>\n",
       "      <td>2015-07-31</td>\n",
       "      <td>3973.859677</td>\n",
       "      <td>1132.499596</td>\n",
       "      <td>0.284987</td>\n",
       "      <td>1716.35000</td>\n",
       "      <td>2659.250</td>\n",
       "      <td>6310.500</td>\n",
       "      <td>2813.900000</td>\n",
       "      <td>7084.514286</td>\n",
       "      <td>0</td>\n",
       "      <td>31</td>\n",
       "      <td>BR_0000078</td>\n",
       "      <td>7</td>\n",
       "      <td>2015</td>\n",
       "    </tr>\n",
       "    <tr>\n",
       "      <th>667</th>\n",
       "      <td>2015-08-31</td>\n",
       "      <td>2160.758065</td>\n",
       "      <td>222.530102</td>\n",
       "      <td>0.102987</td>\n",
       "      <td>341.42500</td>\n",
       "      <td>1828.600</td>\n",
       "      <td>2596.250</td>\n",
       "      <td>1885.100000</td>\n",
       "      <td>2760.307143</td>\n",
       "      <td>0</td>\n",
       "      <td>31</td>\n",
       "      <td>BR_0000078</td>\n",
       "      <td>8</td>\n",
       "      <td>2015</td>\n",
       "    </tr>\n",
       "    <tr>\n",
       "      <th>668</th>\n",
       "      <td>2015-09-30</td>\n",
       "      <td>1536.896667</td>\n",
       "      <td>286.418464</td>\n",
       "      <td>0.186362</td>\n",
       "      <td>569.05000</td>\n",
       "      <td>1130.300</td>\n",
       "      <td>1809.600</td>\n",
       "      <td>1162.842857</td>\n",
       "      <td>1865.514286</td>\n",
       "      <td>0</td>\n",
       "      <td>30</td>\n",
       "      <td>BR_0000078</td>\n",
       "      <td>9</td>\n",
       "      <td>2015</td>\n",
       "    </tr>\n",
       "    <tr>\n",
       "      <th>669</th>\n",
       "      <td>2015-10-31</td>\n",
       "      <td>1081.881481</td>\n",
       "      <td>75.076438</td>\n",
       "      <td>0.069394</td>\n",
       "      <td>147.90000</td>\n",
       "      <td>973.900</td>\n",
       "      <td>1183.000</td>\n",
       "      <td>988.228571</td>\n",
       "      <td>1173.285714</td>\n",
       "      <td>4</td>\n",
       "      <td>27</td>\n",
       "      <td>BR_0000078</td>\n",
       "      <td>10</td>\n",
       "      <td>2015</td>\n",
       "    </tr>\n",
       "    <tr>\n",
       "      <th>670</th>\n",
       "      <td>2015-11-30</td>\n",
       "      <td>1219.753333</td>\n",
       "      <td>193.345718</td>\n",
       "      <td>0.158512</td>\n",
       "      <td>386.55000</td>\n",
       "      <td>972.200</td>\n",
       "      <td>1498.800</td>\n",
       "      <td>982.642857</td>\n",
       "      <td>1474.628571</td>\n",
       "      <td>0</td>\n",
       "      <td>30</td>\n",
       "      <td>BR_0000078</td>\n",
       "      <td>11</td>\n",
       "      <td>2015</td>\n",
       "    </tr>\n",
       "    <tr>\n",
       "      <th>671</th>\n",
       "      <td>2015-12-31</td>\n",
       "      <td>1680.716129</td>\n",
       "      <td>408.732323</td>\n",
       "      <td>0.243189</td>\n",
       "      <td>479.20000</td>\n",
       "      <td>1345.800</td>\n",
       "      <td>2772.200</td>\n",
       "      <td>1354.028571</td>\n",
       "      <td>2352.478571</td>\n",
       "      <td>0</td>\n",
       "      <td>31</td>\n",
       "      <td>BR_0000078</td>\n",
       "      <td>12</td>\n",
       "      <td>2015</td>\n",
       "    </tr>\n",
       "    <tr>\n",
       "      <th>672</th>\n",
       "      <td>2016-01-31</td>\n",
       "      <td>5549.041935</td>\n",
       "      <td>1112.126576</td>\n",
       "      <td>0.200418</td>\n",
       "      <td>1804.25000</td>\n",
       "      <td>3120.000</td>\n",
       "      <td>6811.700</td>\n",
       "      <td>2509.785714</td>\n",
       "      <td>6783.835714</td>\n",
       "      <td>0</td>\n",
       "      <td>31</td>\n",
       "      <td>BR_0000078</td>\n",
       "      <td>1</td>\n",
       "      <td>2016</td>\n",
       "    </tr>\n",
       "    <tr>\n",
       "      <th>673</th>\n",
       "      <td>2016-02-29</td>\n",
       "      <td>6678.136207</td>\n",
       "      <td>508.203471</td>\n",
       "      <td>0.076100</td>\n",
       "      <td>893.85000</td>\n",
       "      <td>6062.000</td>\n",
       "      <td>7709.500</td>\n",
       "      <td>6119.000000</td>\n",
       "      <td>7404.164286</td>\n",
       "      <td>0</td>\n",
       "      <td>29</td>\n",
       "      <td>BR_0000078</td>\n",
       "      <td>2</td>\n",
       "      <td>2016</td>\n",
       "    </tr>\n",
       "    <tr>\n",
       "      <th>674</th>\n",
       "      <td>2016-03-31</td>\n",
       "      <td>9777.790323</td>\n",
       "      <td>950.748225</td>\n",
       "      <td>0.097235</td>\n",
       "      <td>1518.00000</td>\n",
       "      <td>7900.750</td>\n",
       "      <td>10918.500</td>\n",
       "      <td>7508.164286</td>\n",
       "      <td>10794.071429</td>\n",
       "      <td>0</td>\n",
       "      <td>31</td>\n",
       "      <td>BR_0000078</td>\n",
       "      <td>3</td>\n",
       "      <td>2016</td>\n",
       "    </tr>\n",
       "    <tr>\n",
       "      <th>675</th>\n",
       "      <td>2016-04-30</td>\n",
       "      <td>10607.133333</td>\n",
       "      <td>339.078974</td>\n",
       "      <td>0.031967</td>\n",
       "      <td>561.25000</td>\n",
       "      <td>9912.000</td>\n",
       "      <td>10938.000</td>\n",
       "      <td>10096.500000</td>\n",
       "      <td>10930.571429</td>\n",
       "      <td>0</td>\n",
       "      <td>30</td>\n",
       "      <td>BR_0000078</td>\n",
       "      <td>4</td>\n",
       "      <td>2016</td>\n",
       "    </tr>\n",
       "    <tr>\n",
       "      <th>676</th>\n",
       "      <td>2016-05-31</td>\n",
       "      <td>7477.983871</td>\n",
       "      <td>1675.052318</td>\n",
       "      <td>0.223998</td>\n",
       "      <td>3045.75000</td>\n",
       "      <td>4724.400</td>\n",
       "      <td>9829.500</td>\n",
       "      <td>5286.935714</td>\n",
       "      <td>10032.714286</td>\n",
       "      <td>0</td>\n",
       "      <td>31</td>\n",
       "      <td>BR_0000078</td>\n",
       "      <td>5</td>\n",
       "      <td>2016</td>\n",
       "    </tr>\n",
       "  </tbody>\n",
       "</table>\n",
       "<p>677 rows × 14 columns</p>\n",
       "</div>"
      ],
      "text/plain": [
       "           date          MEAN           SD        CV         IQR        MIN  \\\n",
       "0    1960-01-31  12601.732258  1208.305023  0.095884  2113.02000  10622.020   \n",
       "1    1960-02-29  14396.934138   247.026708  0.017158   235.57000  13760.620   \n",
       "2    1960-03-31  13999.500968   457.025156  0.032646   450.55000  13070.770   \n",
       "3    1960-04-30  12763.160667   192.896588  0.015114   359.46000  12449.090   \n",
       "4    1960-05-31  12624.747419   600.664098  0.047578   937.78000  11429.330   \n",
       "5    1960-06-30   8562.883800  1437.882959  0.167920  2057.45125   6653.374   \n",
       "6    1960-07-31   4261.057677  1185.832583  0.278295  1717.67300   2578.497   \n",
       "7    1960-08-31   1782.284677   411.052306  0.230632   700.47450   1352.604   \n",
       "8    1960-09-30   1304.195933    57.677700  0.044225    87.65375   1245.255   \n",
       "9    1960-10-31           NaN          NaN       NaN         NaN        NaN   \n",
       "10   1960-11-30   2452.327000   281.068382  0.114613   532.44050   2121.219   \n",
       "11   1960-12-31   4010.015290   994.473831  0.247998  1476.62300   2892.320   \n",
       "12   1961-01-31   7927.535000   852.413796  0.107526  1199.14750   6168.721   \n",
       "13   1961-02-28  11765.842929  1208.267914  0.102693  2161.50750   9233.473   \n",
       "14   1961-03-31  13472.163226   209.465377  0.015548   323.97500  13048.960   \n",
       "15   1961-04-30  11765.096000   740.085114  0.062905  1232.17750  10962.620   \n",
       "16   1961-05-31  11277.935484   250.330435  0.022196   313.21000  10753.520   \n",
       "17   1961-06-30   8465.733167  1208.685570  0.142774  1687.97525   6940.900   \n",
       "18   1961-07-31   4568.549613  1191.751411  0.260860  1989.15450   2718.865   \n",
       "19   1961-08-31   1726.947871   353.257452  0.204556   420.00750   1362.588   \n",
       "20   1961-09-30   1211.940033    51.147596  0.042203    67.33250   1163.862   \n",
       "21   1961-10-31   1564.435097   451.020851  0.288296   748.33750   1185.499   \n",
       "22   1961-11-30   2772.785667   371.304883  0.133910   657.27625   2317.866   \n",
       "23   1961-12-31   4237.467323  1259.625698  0.297259  2485.27000   2776.076   \n",
       "24   1962-01-31   6969.936290   426.963870  0.061258   443.08550   6118.414   \n",
       "25   1962-02-28   8958.036857   954.532892  0.106556  1631.84050   7614.540   \n",
       "26   1962-03-31  11807.902258   527.463901  0.044670   993.00000  10962.620   \n",
       "27   1962-04-30  12982.687000   128.216501  0.009876   108.62750  12639.610   \n",
       "28   1962-05-31  11117.886065  1118.407812  0.100595  1616.85500   9110.048   \n",
       "29   1962-06-30   7120.860033  1083.086268  0.152100  1593.69225   5395.727   \n",
       "..          ...           ...          ...       ...         ...        ...   \n",
       "647  2013-12-31   6127.551613  1018.879997  0.166278  1298.55000   4529.200   \n",
       "648  2014-01-31   9627.274194   654.195050  0.067952   921.50000   8372.500   \n",
       "649  2014-02-28  11178.000000   132.791965  0.011880   178.62500  10853.500   \n",
       "650  2014-03-31  11974.935484   136.411861  0.011391   130.00000  11600.000   \n",
       "651  2014-04-30  12128.966667    89.718519  0.007397   102.00000  11887.000   \n",
       "652  2014-05-31  11245.032258   277.458764  0.024674   356.00000  10717.000   \n",
       "653  2014-06-30   8462.101667  1714.182779  0.202572  3030.75000   5470.900   \n",
       "654  2014-07-31   3239.337097   892.033132  0.275375  1262.10000   2254.000   \n",
       "655  2014-08-31   1918.769355   189.988480  0.099016   259.32500   1572.950   \n",
       "656  2014-09-30   1346.641667   108.371830  0.080476   152.10000   1221.600   \n",
       "657  2014-10-31   1595.067742   163.391931  0.102436   276.60000   1356.600   \n",
       "658  2014-11-30   3132.533333   905.992613  0.289220  1258.97500   1970.100   \n",
       "659  2014-12-31   6252.885484   608.265105  0.097278  1006.50000   5066.800   \n",
       "660  2015-01-31   8996.406452  1168.078854  0.129838  1912.12500   7002.600   \n",
       "661  2015-02-28  11367.250000   244.927937  0.021547   391.75000  10840.500   \n",
       "662  2015-03-31  12001.354839   388.756097  0.032393   736.00000  11628.000   \n",
       "663  2015-04-30  12357.366667   454.542247  0.036783   688.00000  11460.000   \n",
       "664  2015-05-31  11189.645161   137.762912  0.012312   244.25000  10970.500   \n",
       "665  2015-06-30   9328.511667  1356.451689  0.145409  2230.75000   6637.400   \n",
       "666  2015-07-31   3973.859677  1132.499596  0.284987  1716.35000   2659.250   \n",
       "667  2015-08-31   2160.758065   222.530102  0.102987   341.42500   1828.600   \n",
       "668  2015-09-30   1536.896667   286.418464  0.186362   569.05000   1130.300   \n",
       "669  2015-10-31   1081.881481    75.076438  0.069394   147.90000    973.900   \n",
       "670  2015-11-30   1219.753333   193.345718  0.158512   386.55000    972.200   \n",
       "671  2015-12-31   1680.716129   408.732323  0.243189   479.20000   1345.800   \n",
       "672  2016-01-31   5549.041935  1112.126576  0.200418  1804.25000   3120.000   \n",
       "673  2016-02-29   6678.136207   508.203471  0.076100   893.85000   6062.000   \n",
       "674  2016-03-31   9777.790323   950.748225  0.097235  1518.00000   7900.750   \n",
       "675  2016-04-30  10607.133333   339.078974  0.031967   561.25000   9912.000   \n",
       "676  2016-05-31   7477.983871  1675.052318  0.223998  3045.75000   4724.400   \n",
       "\n",
       "           MAX          MIN7          MAX7  n.missing  n.available  \\\n",
       "0    14430.200  10128.115000  14101.840000          0           31   \n",
       "1    14619.110  14032.572857  14605.572857          0           29   \n",
       "2    14571.710  13253.682857  14480.744286          0           31   \n",
       "3    13114.480  12533.584286  13149.421429          0           30   \n",
       "4    13224.240  11686.385714  13208.531429          0           31   \n",
       "5    11213.620   7042.049000  11580.974286          0           30   \n",
       "6     6541.584   2857.694571   6917.213286          0           31   \n",
       "7     2514.289   1381.777286   2757.707143          0           31   \n",
       "8     1409.672   1245.710143   1406.333714          0           30   \n",
       "9          NaN           NaN           NaN         31            0   \n",
       "10    2887.427   2166.896714   2810.017143          0           30   \n",
       "11    6046.912   2836.896571   5527.870857          0           31   \n",
       "12    9039.898   5712.305429   8824.243143          0           31   \n",
       "13   13246.270   8911.194571  13092.908571          0           28   \n",
       "14   13806.040  13111.525714  13734.744286          0           31   \n",
       "15   13224.240  10981.801429  13459.234286          0           30   \n",
       "16   11768.780  10982.474286  11631.227143          0           31   \n",
       "17   10678.230   7193.057857  10917.087143          0           30   \n",
       "18    6766.130   3047.213143   7103.687571          0           31   \n",
       "19    2643.530   1405.938857   2943.281857          0           31   \n",
       "20    1332.749   1164.301857   1389.583000          0           30   \n",
       "21    2383.914   1194.393857   2281.265143          0           31   \n",
       "22    3456.259   2312.671286   3300.453571          0           30   \n",
       "23    6082.609   2878.731857   5904.878429          0           31   \n",
       "24    7614.540   5965.247857   7466.875857          0           31   \n",
       "25   10753.520   7198.884429  10289.578286          0           28   \n",
       "26   12618.340  10434.704286  12488.501429          0           31   \n",
       "27   13114.480  12524.722857  13101.987143          0           30   \n",
       "28   12682.240   9473.176857  12882.008571          0           31   \n",
       "29    9013.664   5715.258429   9339.880571          0           30   \n",
       "..         ...           ...           ...        ...          ...   \n",
       "647   8211.000   3940.450000   7646.042857          0           31   \n",
       "648  10788.500   7845.300000  10508.285714          0           31   \n",
       "649  11320.000  10599.357143  11295.142857         10           18   \n",
       "650  12110.000  11757.000000  12080.285714          0           31   \n",
       "651  12302.000  12031.285714  12234.571429          0           30   \n",
       "652  11845.000  10862.785714  11990.000000          0           31   \n",
       "653  10678.000   6054.878571  10817.285714          0           30   \n",
       "654   5219.500   2342.871429   5838.685714          0           31   \n",
       "655   2240.000   1637.435714   2315.914286          0           31   \n",
       "656   1561.850   1234.714286   1613.385714          0           30   \n",
       "657   1923.600   1326.000000   1822.357143          0           31   \n",
       "658   4910.000   1852.614286   4537.557143          0           30   \n",
       "659   6948.650   4678.671429   6881.657143          0           31   \n",
       "660  10749.500   6909.521429  10448.642857          0           31   \n",
       "661  11670.000  10552.428571  11651.000000          0           28   \n",
       "662  12662.000  11646.000000  12572.857143          0           31   \n",
       "663  12786.000  11637.000000  12757.428571          0           30   \n",
       "664  11439.000  11026.214286  11580.000000          0           31   \n",
       "665  10925.000   7335.978571  11011.357143          0           30   \n",
       "666   6310.500   2813.900000   7084.514286          0           31   \n",
       "667   2596.250   1885.100000   2760.307143          0           31   \n",
       "668   1809.600   1162.842857   1865.514286          0           30   \n",
       "669   1183.000    988.228571   1173.285714          4           27   \n",
       "670   1498.800    982.642857   1474.628571          0           30   \n",
       "671   2772.200   1354.028571   2352.478571          0           31   \n",
       "672   6811.700   2509.785714   6783.835714          0           31   \n",
       "673   7709.500   6119.000000   7404.164286          0           29   \n",
       "674  10918.500   7508.164286  10794.071429          0           31   \n",
       "675  10938.000  10096.500000  10930.571429          0           30   \n",
       "676   9829.500   5286.935714  10032.714286          0           31   \n",
       "\n",
       "        gsim.no  month  year  \n",
       "0    BR_0000078      1  1960  \n",
       "1    BR_0000078      2  1960  \n",
       "2    BR_0000078      3  1960  \n",
       "3    BR_0000078      4  1960  \n",
       "4    BR_0000078      5  1960  \n",
       "5    BR_0000078      6  1960  \n",
       "6    BR_0000078      7  1960  \n",
       "7    BR_0000078      8  1960  \n",
       "8    BR_0000078      9  1960  \n",
       "9    BR_0000078     10  1960  \n",
       "10   BR_0000078     11  1960  \n",
       "11   BR_0000078     12  1960  \n",
       "12   BR_0000078      1  1961  \n",
       "13   BR_0000078      2  1961  \n",
       "14   BR_0000078      3  1961  \n",
       "15   BR_0000078      4  1961  \n",
       "16   BR_0000078      5  1961  \n",
       "17   BR_0000078      6  1961  \n",
       "18   BR_0000078      7  1961  \n",
       "19   BR_0000078      8  1961  \n",
       "20   BR_0000078      9  1961  \n",
       "21   BR_0000078     10  1961  \n",
       "22   BR_0000078     11  1961  \n",
       "23   BR_0000078     12  1961  \n",
       "24   BR_0000078      1  1962  \n",
       "25   BR_0000078      2  1962  \n",
       "26   BR_0000078      3  1962  \n",
       "27   BR_0000078      4  1962  \n",
       "28   BR_0000078      5  1962  \n",
       "29   BR_0000078      6  1962  \n",
       "..          ...    ...   ...  \n",
       "647  BR_0000078     12  2013  \n",
       "648  BR_0000078      1  2014  \n",
       "649  BR_0000078      2  2014  \n",
       "650  BR_0000078      3  2014  \n",
       "651  BR_0000078      4  2014  \n",
       "652  BR_0000078      5  2014  \n",
       "653  BR_0000078      6  2014  \n",
       "654  BR_0000078      7  2014  \n",
       "655  BR_0000078      8  2014  \n",
       "656  BR_0000078      9  2014  \n",
       "657  BR_0000078     10  2014  \n",
       "658  BR_0000078     11  2014  \n",
       "659  BR_0000078     12  2014  \n",
       "660  BR_0000078      1  2015  \n",
       "661  BR_0000078      2  2015  \n",
       "662  BR_0000078      3  2015  \n",
       "663  BR_0000078      4  2015  \n",
       "664  BR_0000078      5  2015  \n",
       "665  BR_0000078      6  2015  \n",
       "666  BR_0000078      7  2015  \n",
       "667  BR_0000078      8  2015  \n",
       "668  BR_0000078      9  2015  \n",
       "669  BR_0000078     10  2015  \n",
       "670  BR_0000078     11  2015  \n",
       "671  BR_0000078     12  2015  \n",
       "672  BR_0000078      1  2016  \n",
       "673  BR_0000078      2  2016  \n",
       "674  BR_0000078      3  2016  \n",
       "675  BR_0000078      4  2016  \n",
       "676  BR_0000078      5  2016  \n",
       "\n",
       "[677 rows x 14 columns]"
      ]
     },
     "execution_count": 26,
     "metadata": {},
     "output_type": "execute_result"
    }
   ],
   "source": [
    "predictionBase[0]"
   ]
  },
  {
   "cell_type": "code",
   "execution_count": 27,
   "metadata": {},
   "outputs": [
    {
     "name": "stderr",
     "output_type": "stream",
     "text": [
      " C:\\Users\\marku\\Anaconda3\\lib\\site-packages\\scipy\\stats\\_distn_infrastructure.py:877: RuntimeWarning:invalid value encountered in greater\n",
      " C:\\Users\\marku\\Anaconda3\\lib\\site-packages\\scipy\\stats\\_distn_infrastructure.py:877: RuntimeWarning:invalid value encountered in less\n",
      " C:\\Users\\marku\\Anaconda3\\lib\\site-packages\\scipy\\stats\\_distn_infrastructure.py:1748: RuntimeWarning:invalid value encountered in greater_equal\n"
     ]
    }
   ],
   "source": [
    "timeseries = df_monthly[100]\n",
    "tsMEAN = timeseries['MEAN'].to_numpy()\n",
    "tsMEAN_toGaussian = normalizeToGaussian(tsMEAN)\n",
    "tsMEAN_precentiles = norm.cdf(tsMEAN_toGaussian)"
   ]
  },
  {
   "cell_type": "code",
   "execution_count": 28,
   "metadata": {},
   "outputs": [
    {
     "name": "stderr",
     "output_type": "stream",
     "text": [
      " C:\\Users\\marku\\Anaconda3\\lib\\site-packages\\pandas\\plotting\\_converter.py:129: FutureWarning:Using an implicitly registered datetime converter for a matplotlib plotting method. The converter was registered by pandas on import. Future versions of pandas will require you to explicitly register matplotlib converters.\n",
      "\n",
      "To register the converters:\n",
      "\t>>> from pandas.plotting import register_matplotlib_converters\n",
      "\t>>> register_matplotlib_converters()\n"
     ]
    },
    {
     "data": {
      "text/plain": [
       "<matplotlib.legend.Legend at 0x205b84d4748>"
      ]
     },
     "execution_count": 28,
     "metadata": {},
     "output_type": "execute_result"
    },
    {
     "data": {
      "image/png": "[encoded data removed]",
      "text/plain": [
       "<Figure size 1080x648 with 3 Axes>"
      ]
     },
     "metadata": {
      "needs_background": "dark"
     },
     "output_type": "display_data"
    }
   ],
   "source": [
    "fig, (ax1, ax2, ax3) = plt.subplots(3, figsize=(15,9))\n",
    "\n",
    "for spine in ax1.spines.values():\n",
    "    spine.set_visible(False)\n",
    "    \n",
    "for spine in ax2.spines.values():\n",
    "    spine.set_visible(False)\n",
    "    \n",
    "for spine in ax3.spines.values():\n",
    "    spine.set_visible(False)\n",
    "\n",
    "ax1.tick_params(colors='gray', direction='out')\n",
    "ax2.tick_params(colors='gray', direction='out')\n",
    "ax3.tick_params(colors='gray', direction='out')\n",
    "\n",
    "timespan = timeseries['date']\n",
    "\n",
    "\n",
    "ax1.plot(timespan, tsMEAN, color='#EE6666', label = 'Raw Streamflow Data', linewidth=3 )\n",
    "ax1.set_ylabel(r'Discharge Q in $[\\frac{m^{3}}{s}]$', color='gray')\n",
    "ax2.plot(timespan, tsMEAN_precentiles, color='#EE6666', label = 'Percentiles', linewidth=3 )\n",
    "ax2.set_ylabel(r'Percentiles of Score',  color='gray')\n",
    "ax3.plot(timespan, tsMEAN_toGaussian, color='#EE6666', label = 'Normalized to Gaussian', linewidth=3 )\n",
    "ax3.set_ylabel(r'Variance $\\sigma$',  color='gray')\n",
    "\n",
    "ax1.legend(loc=4)\n",
    "ax2.legend(loc=4)\n",
    "ax3.legend(loc=4)\n",
    "\n",
    "#plt.savefig('plots/TransformationSteps.svg', )"
   ]
  },
  {
   "cell_type": "code",
   "execution_count": 29,
   "metadata": {
    "scrolled": false
   },
   "outputs": [
    {
     "name": "stderr",
     "output_type": "stream",
     "text": [
      " C:\\Users\\marku\\Anaconda3\\lib\\site-packages\\numpy\\lib\\histograms.py:824: RuntimeWarning:invalid value encountered in greater_equal\n",
      " C:\\Users\\marku\\Anaconda3\\lib\\site-packages\\numpy\\lib\\histograms.py:825: RuntimeWarning:invalid value encountered in less_equal\n"
     ]
    },
    {
     "data": {
      "text/plain": [
       "<matplotlib.legend.Legend at 0x205ba83bdd8>"
      ]
     },
     "execution_count": 29,
     "metadata": {},
     "output_type": "execute_result"
    },
    {
     "data": {
      "image/png": "[encoded data removed]",
      "text/plain": [
       "<Figure size 648x864 with 3 Axes>"
      ]
     },
     "metadata": {
      "needs_background": "dark"
     },
     "output_type": "display_data"
    }
   ],
   "source": [
    "fig, (ax1, ax2, ax3) = plt.subplots(3, figsize=(9,12))\n",
    "\n",
    "for spine in ax1.spines.values():\n",
    "    spine.set_visible(False)\n",
    "    \n",
    "for spine in ax2.spines.values():\n",
    "    spine.set_visible(False)\n",
    "    \n",
    "for spine in ax3.spines.values():\n",
    "    spine.set_visible(False)\n",
    "    \n",
    "ax1.tick_params(colors='gray', direction='out')\n",
    "ax2.tick_params(colors='gray', direction='out')\n",
    "ax3.tick_params(colors='gray', direction='out')\n",
    "\n",
    "timespan = timeseries['date']\n",
    "    \n",
    "\n",
    "ax1.hist( tsMEAN, color='#EE6666', label = 'Raw Data', bins = 20)\n",
    "ax1.set_xlabel(r'Discharge Q in $[\\frac{m^{3}}{s}]$', color='gray')\n",
    "ax1.set_ylabel('Number of Months', color='gray')\n",
    "ax1.yaxis.set_label_position(\"right\")\n",
    "ax1.yaxis.tick_right()\n",
    "\n",
    "ax2.hist( tsMEAN_precentiles, color='#EE6666', label = 'Percentiles', bins= 17)\n",
    "ax2.set_xlabel(r'Percentiles of Score',  color='gray')\n",
    "ax2.set_ylabel('Number of Months', color='gray')\n",
    "ax2.yaxis.set_label_position(\"right\")\n",
    "ax2.yaxis.tick_right()\n",
    "\n",
    "ax3.hist( tsMEAN_toGaussian, color='#EE6666', label = 'Normalized to Gaussian', bins = 20 )\n",
    "ax3.set_xlabel(r'Variance $\\sigma$',  color='gray')\n",
    "ax3.set_ylabel('Number of Months', color='gray')\n",
    "ax3.yaxis.set_label_position(\"right\")\n",
    "ax3.yaxis.tick_right()\n",
    "\n",
    "ax1.legend(loc=4)\n",
    "ax2.legend(loc=4)\n",
    "ax3.legend(loc=4)\n",
    "\n",
    "#plt.savefig('plots/Distribution.svg', )"
   ]
  },
  {
   "cell_type": "markdown",
   "metadata": {},
   "source": [
    "### Check for different attributes other than monthly mean river discharge"
   ]
  },
  {
   "cell_type": "markdown",
   "metadata": {},
   "source": [
    "During the analysis we focuse mainly on the monthly mean streamflow values. \n",
    "\n",
    "In this section we want to analyse other attributes provided by the GSIM dataset"
   ]
  },
  {
   "cell_type": "code",
   "execution_count": 30,
   "metadata": {},
   "outputs": [],
   "source": [
    "def get_max_years (dataset, min_years, feature):\n",
    "    max_years = []\n",
    "    for df in dataset:\n",
    "        if df.shape[0] >= min_years:\n",
    "            arr = df[feature].to_numpy()\n",
    "            arr_ = np.nan_to_num(arr, copy=True)\n",
    "            maxind = np.argmax(arr_)\n",
    "            if df[feature].loc[maxind] == np.nan:\n",
    "                raise Exception('x should not exceed 5. The value of x was: {}'.format(x))\n",
    "            else:        \n",
    "                max_years.append(df['year'].loc[maxind])\n",
    "        else: \n",
    "            continue\n",
    "    \n",
    "    m = np.unique(max_years, return_counts=True)\n",
    "    return m"
   ]
  },
  {
   "cell_type": "code",
   "execution_count": 31,
   "metadata": {},
   "outputs": [],
   "source": [
    "def get_all_years (dataset, min_years, feature):\n",
    "    allyears = []\n",
    "    for index, df in enumerate(df_yearly):\n",
    "        if df.shape[0] >= min_years:\n",
    "            years = df.loc[df[feature].notnull()]['year'].to_numpy()\n",
    "            allyears.extend(years)\n",
    "        else: \n",
    "            continue\n",
    "        \n",
    "    a = np.unique(allyears, return_counts=True)\n",
    "    return a\n",
    "    "
   ]
  },
  {
   "cell_type": "code",
   "execution_count": 32,
   "metadata": {},
   "outputs": [],
   "source": [
    "def get_norm_years (ma,al):\n",
    "    n = np.zeros(len(ma[0]))\n",
    "    \n",
    "    for idx, year in enumerate(ma[0]):\n",
    "        max_discharge = ma[1][idx]\n",
    "        if max_discharge != 0: \n",
    "            all_years = al[1][al[0] == year][0]\n",
    "            norm = max_discharge/all_years \n",
    "            n[idx] = norm\n",
    "        else: \n",
    "            n[idx] = 0\n",
    "    \n",
    "    return n"
   ]
  },
  {
   "cell_type": "markdown",
   "metadata": {},
   "source": [
    "#### Plots for the feature MEAN"
   ]
  },
  {
   "cell_type": "code",
   "execution_count": 33,
   "metadata": {},
   "outputs": [],
   "source": [
    "m0_mean = get_max_years(df_yearly, 0, 'MEAN')\n",
    "a0_mean = get_all_years(df_yearly, 0, 'MEAN')\n",
    "n0_mean = get_norm_years(m0_mean,a0_mean)"
   ]
  },
  {
   "cell_type": "code",
   "execution_count": 34,
   "metadata": {},
   "outputs": [
    {
     "data": {
      "text/plain": [
       "<BarContainer object of 89 artists>"
      ]
     },
     "execution_count": 34,
     "metadata": {},
     "output_type": "execute_result"
    },
    {
     "data": {
      "image/png": "[encoded data removed]",
      "text/plain": [
       "<Figure size 1080x648 with 3 Axes>"
      ]
     },
     "metadata": {
      "needs_background": "dark"
     },
     "output_type": "display_data"
    }
   ],
   "source": [
    "fig, (ax1, ax2, ax3) = plt.subplots(3, figsize=(15,9))\n",
    "\n",
    "for spine in ax1.spines.values():\n",
    "    spine.set_visible(False)\n",
    "    \n",
    "for spine in ax2.spines.values():\n",
    "    spine.set_visible(False)\n",
    "    \n",
    "for spine in ax3.spines.values():\n",
    "    spine.set_visible(False)\n",
    "\n",
    "ax1.tick_params(colors='gray', direction='out')\n",
    "ax2.tick_params(colors='gray', direction='out')\n",
    "ax3.tick_params(colors='gray', direction='out')\n",
    "\n",
    "ax1.bar( m0_mean[0], m0_mean[1], edgecolor='#E6E6E6', color='#EE6666', label = 'amount of stations showing \\nmaximum discharge in this year' )\n",
    "ax2.bar( a0_mean[0], a0_mean[1], edgecolor='#E6E6E6', color='#EE6666', label = 'stations that cover this year' )\n",
    "ax3.bar( m0_mean[0], n0_mean, edgecolor='#E6E6E6', color='#EE6666', label = 'percentage of stations with maximum discharge / stations that cover this year' )\n"
   ]
  },
  {
   "cell_type": "markdown",
   "metadata": {},
   "source": [
    "#### Plots for the feature MAX"
   ]
  },
  {
   "cell_type": "code",
   "execution_count": 35,
   "metadata": {},
   "outputs": [],
   "source": [
    "m0_max = get_max_years(df_yearly, 0, 'MAX')\n",
    "a0_max = get_all_years(df_yearly, 0, 'MAX')\n",
    "n0_max = get_norm_years(m0_max,a0_max)"
   ]
  },
  {
   "cell_type": "code",
   "execution_count": 36,
   "metadata": {
    "scrolled": true
   },
   "outputs": [
    {
     "data": {
      "text/plain": [
       "<BarContainer object of 93 artists>"
      ]
     },
     "execution_count": 36,
     "metadata": {},
     "output_type": "execute_result"
    },
    {
     "data": {
      "image/png": "[encoded data removed]",
      "text/plain": [
       "<Figure size 1080x648 with 3 Axes>"
      ]
     },
     "metadata": {
      "needs_background": "dark"
     },
     "output_type": "display_data"
    }
   ],
   "source": [
    "fig, (ax1, ax2, ax3) = plt.subplots(3, figsize=(15,9))\n",
    "\n",
    "for spine in ax1.spines.values():\n",
    "    spine.set_visible(False)\n",
    "    \n",
    "for spine in ax2.spines.values():\n",
    "    spine.set_visible(False)\n",
    "    \n",
    "for spine in ax3.spines.values():\n",
    "    spine.set_visible(False)\n",
    "\n",
    "ax1.tick_params(colors='gray', direction='out')\n",
    "ax2.tick_params(colors='gray', direction='out')\n",
    "ax3.tick_params(colors='gray', direction='out')\n",
    "\n",
    "ax1.bar( m0_max[0], m0_max[1], edgecolor='#E6E6E6', color='#EE6666', label = 'amount of stations showing \\nmaximum discharge in this year' )\n",
    "ax2.bar( a0_max[0], a0_max[1], edgecolor='#E6E6E6', color='#EE6666', label = 'stations that cover this year' )\n",
    "ax3.bar( m0_max[0], n0_max, edgecolor='#E6E6E6', color='#EE6666', label = 'percentage of stations with maximum discharge / stations that cover this year' )\n"
   ]
  },
  {
   "cell_type": "markdown",
   "metadata": {},
   "source": [
    "#### Plots for the feature MAX7"
   ]
  },
  {
   "cell_type": "code",
   "execution_count": 37,
   "metadata": {},
   "outputs": [],
   "source": [
    "m0_max7 = get_max_years(df_yearly, 0, 'MAX7')\n",
    "a0_max7 = get_all_years(df_yearly, 0, 'MAX7')\n",
    "n0_max7 = get_norm_years(m0_max7,a0_max7)"
   ]
  },
  {
   "cell_type": "code",
   "execution_count": 38,
   "metadata": {
    "scrolled": false
   },
   "outputs": [
    {
     "data": {
      "text/plain": [
       "<BarContainer object of 92 artists>"
      ]
     },
     "execution_count": 38,
     "metadata": {},
     "output_type": "execute_result"
    },
    {
     "data": {
      "image/png": "[encoded data removed]",
      "text/plain": [
       "<Figure size 1080x648 with 3 Axes>"
      ]
     },
     "metadata": {
      "needs_background": "dark"
     },
     "output_type": "display_data"
    }
   ],
   "source": [
    "fig, (ax1, ax2, ax3) = plt.subplots(3, figsize=(15,9))\n",
    "\n",
    "for spine in ax1.spines.values():\n",
    "    spine.set_visible(False)\n",
    "    \n",
    "for spine in ax2.spines.values():\n",
    "    spine.set_visible(False)\n",
    "    \n",
    "for spine in ax3.spines.values():\n",
    "    spine.set_visible(False)\n",
    "\n",
    "ax1.tick_params(colors='gray', direction='out')\n",
    "ax2.tick_params(colors='gray', direction='out')\n",
    "ax3.tick_params(colors='gray', direction='out')\n",
    "\n",
    "ax1.bar( m0_max7[0], m0_max7[1], edgecolor='#E6E6E6', color='#EE6666', label = 'amount of stations showing \\nmaximum discharge in this year' )\n",
    "ax2.bar( a0_max7[0], a0_max7[1], edgecolor='#E6E6E6', color='#EE6666', label = 'stations that cover this year' )\n",
    "ax3.bar( m0_max7[0], n0_max7, edgecolor='#E6E6E6', color='#EE6666', label = 'percentage of stations with maximum discharge / stations that cover this year' )\n"
   ]
  },
  {
   "cell_type": "markdown",
   "metadata": {},
   "source": [
    "#### Plots for the feature DOYMAX"
   ]
  },
  {
   "cell_type": "code",
   "execution_count": 39,
   "metadata": {},
   "outputs": [],
   "source": [
    "m0_doymax = get_max_years(df_yearly, 0, 'DOYMAX')\n",
    "a0_doymax = get_all_years(df_yearly, 0, 'DOYMAX')\n",
    "n0_doymax = get_norm_years(m0_doymax, a0_doymax)"
   ]
  },
  {
   "cell_type": "code",
   "execution_count": 40,
   "metadata": {},
   "outputs": [
    {
     "data": {
      "text/plain": [
       "<BarContainer object of 95 artists>"
      ]
     },
     "execution_count": 40,
     "metadata": {},
     "output_type": "execute_result"
    },
    {
     "data": {
      "image/png": "[encoded data removed]",
      "text/plain": [
       "<Figure size 1080x648 with 3 Axes>"
      ]
     },
     "metadata": {
      "needs_background": "dark"
     },
     "output_type": "display_data"
    }
   ],
   "source": [
    "fig, (ax1, ax2, ax3) = plt.subplots(3, figsize=(15,9))\n",
    "\n",
    "for spine in ax1.spines.values():\n",
    "    spine.set_visible(False)\n",
    "    \n",
    "for spine in ax2.spines.values():\n",
    "    spine.set_visible(False)\n",
    "    \n",
    "for spine in ax3.spines.values():\n",
    "    spine.set_visible(False)\n",
    "\n",
    "ax1.tick_params(colors='gray', direction='out')\n",
    "ax2.tick_params(colors='gray', direction='out')\n",
    "ax3.tick_params(colors='gray', direction='out')\n",
    "\n",
    "\n",
    "ax1.bar( m0_doymax[0], m0_doymax[1], edgecolor='#E6E6E6', color='#EE6666', label = 'amount of stations showing \\nmaximum discharge in this year' )\n",
    "ax2.bar( a0_doymax[0], a0_doymax[1], edgecolor='#E6E6E6', color='#EE6666', label = 'stations that cover this year' )\n",
    "ax3.bar( m0_doymax[0], n0_doymax, edgecolor='#E6E6E6', color='#EE6666', label = 'percentage of stations with maximum discharge / stations that cover this year' )\n"
   ]
  },
  {
   "cell_type": "markdown",
   "metadata": {},
   "source": [
    "#### Plots for the feature DOYMAX7"
   ]
  },
  {
   "cell_type": "code",
   "execution_count": 41,
   "metadata": {},
   "outputs": [],
   "source": [
    "m0_doymax = get_max_years(df_yearly, 0, 'DOYMAX7')\n",
    "a0_doymax = get_all_years(df_yearly, 0, 'DOYMAX7')\n",
    "n0_doymax = get_norm_years(m0_doymax, a0_doymax)"
   ]
  },
  {
   "cell_type": "code",
   "execution_count": 42,
   "metadata": {},
   "outputs": [
    {
     "data": {
      "text/plain": [
       "<BarContainer object of 96 artists>"
      ]
     },
     "execution_count": 42,
     "metadata": {},
     "output_type": "execute_result"
    },
    {
     "data": {
      "image/png": "[encoded data removed]",
      "text/plain": [
       "<Figure size 1080x648 with 3 Axes>"
      ]
     },
     "metadata": {
      "needs_background": "dark"
     },
     "output_type": "display_data"
    }
   ],
   "source": [
    "fig, (ax1, ax2, ax3) = plt.subplots(3, figsize=(15,9))\n",
    "\n",
    "for spine in ax1.spines.values():\n",
    "    spine.set_visible(False)\n",
    "    \n",
    "for spine in ax2.spines.values():\n",
    "    spine.set_visible(False)\n",
    "    \n",
    "for spine in ax3.spines.values():\n",
    "    spine.set_visible(False)\n",
    "\n",
    "ax1.tick_params(colors='gray', direction='out')\n",
    "ax2.tick_params(colors='gray', direction='out')\n",
    "ax3.tick_params(colors='gray', direction='out')\n",
    "\n",
    "    \n",
    "ax1.bar( m0_doymax[0], m0_doymax[1], edgecolor='#E6E6E6', color='#EE6666', label = 'amount of stations showing \\nmaximum discharge in this year' )\n",
    "ax2.bar( a0_doymax[0], a0_doymax[1], edgecolor='#E6E6E6', color='#EE6666', label = 'stations that cover this year' )\n",
    "ax3.bar( m0_doymax[0], n0_doymax, edgecolor='#E6E6E6', color='#EE6666', label = 'percentage of stations with maximum discharge / stations that cover this year' )\n"
   ]
  },
  {
   "cell_type": "markdown",
   "metadata": {},
   "source": [
    "### RMSE analysis"
   ]
  },
  {
   "cell_type": "code",
   "execution_count": 43,
   "metadata": {},
   "outputs": [],
   "source": [
    "# Warning!\n",
    "# Running the RMSE analysis for all dimensions from 5 -15 takes several hours, as each dimension takes roughly 1h to compute"
   ]
  },
  {
   "cell_type": "code",
   "execution_count": 44,
   "metadata": {},
   "outputs": [],
   "source": [
    "START = datetime.strptime('1960-01-01', \"%Y-%m-%d\").date()\n",
    "END =  datetime.strptime('2016-05-31', \"%Y-%m-%d\").date()\n",
    "NUMBER_OF_DIMENSIONS = 10\n",
    "TRAIN_TEST_THRESHOLD = 0.70\n",
    "SAMPLESIZE = 1000\n",
    "MIN_MONTHS_OF_OVERLAP = 60\n",
    "MIN_YEARS_OF_OVERLAP = 5"
   ]
  },
  {
   "cell_type": "code",
   "execution_count": 45,
   "metadata": {},
   "outputs": [],
   "source": [
    "\"\"\"\n",
    "Normalizes the data to a Gaussian distribution using quantiles. (function provided by Bedartha Goswami)\n",
    "\"\"\"\n",
    "def normalizeToGaussian(arr, mode=\"mean\"):\n",
    "    n = len(arr)\n",
    "    perc = percentileofscore\n",
    "    arr_ = arr.copy()[~np.isnan(arr)]\n",
    "    out = np.zeros(n)\n",
    "    for i in range(n):\n",
    "        if not np.isnan(arr[i]):\n",
    "            out[i] = norm.ppf(perc(arr_, arr[i], mode) / 100.)\n",
    "        else:\n",
    "            out[i] = np.nan\n",
    "    return out\n"
   ]
  },
  {
   "cell_type": "code",
   "execution_count": 46,
   "metadata": {},
   "outputs": [],
   "source": [
    "'''\n",
    "In order to perform a spearmans correlation we need to truncate our predictionBase to the same timespan of our dataframe we want to process. \n",
    "This truncation happens here.\n",
    "'''\n",
    "def truncateBase (dataframe, base):\n",
    "    start = dataframe['date'].iloc[0]\n",
    "    end   = dataframe['date'].iloc[-1]\n",
    "    filtered_base = [df.loc[(df['date'] >= start) & (df['date'] <= end)]  for df in base]\n",
    "    \n",
    "    return filtered_base"
   ]
  },
  {
   "cell_type": "code",
   "execution_count": 47,
   "metadata": {},
   "outputs": [],
   "source": [
    "'''\n",
    "replaces missing values in the dataframe with the mean of the month for all years from which we have data\n",
    "@param dataframe\n",
    "@returns dataframe\n",
    "'''\n",
    "def averageNaNs (df):\n",
    "    mean_df = df.groupby(['month']).mean()\n",
    "    averaged_mean = df['MEAN'].copy().fillna(df['month'].map({1: mean_df['MEAN'][1] , 2: mean_df['MEAN'][2], 3:mean_df['MEAN'][3],\n",
    "                                                    4: mean_df['MEAN'][4] , 5: mean_df['MEAN'][5], 6:mean_df['MEAN'][6], \n",
    "                                                    7: mean_df['MEAN'][7] , 8: mean_df['MEAN'][8], 9:mean_df['MEAN'][9],\n",
    "                                                    10: mean_df['MEAN'][10] , 11: mean_df['MEAN'][11], 12:mean_df['MEAN'][12]}))\n",
    "    \n",
    "    averaged_numpy = averaged_mean.to_numpy()\n",
    "    return averaged_numpy"
   ]
  },
  {
   "cell_type": "code",
   "execution_count": 48,
   "metadata": {},
   "outputs": [],
   "source": [
    "'''\n",
    "Computation of Spearmas Rank Correlation\n",
    "@param  target_df: a pandas.dataframe (target) for wich we want to calculate the correlation matrix \n",
    "        dataset: a list of pandas dataframes that build our base, as we check for the correlation between dataframe and each df in a dataset\n",
    "@returns spearmans_matrix: a numpy.ndarray that contains the correlation value as first entry in each row and the corresponding p-value as a second element in each row. \n",
    "                            the order of the matrix is like in the dataset:\n",
    "'''\n",
    "def spearmansCorrelation (target_df, truncated_dataset): \n",
    "    spearmans_matrix = np.zeros((len(truncated_dataset), 2))\n",
    "    for index, df in enumerate(truncated_dataset): \n",
    "        if (target_df.shape[0]!= df.shape[0]) or (df['MEAN'].isnull().all()):\n",
    "            spearmans_matrix[index] = 0,100 \n",
    "            continue\n",
    "        else: \n",
    "            correlation, pval = stats.spearmanr(target_df['MEAN'], df['MEAN'], nan_policy='omit')\n",
    "            spearmans_matrix[index] = correlation,pval    \n",
    "            \n",
    "    return spearmans_matrix"
   ]
  },
  {
   "cell_type": "code",
   "execution_count": 49,
   "metadata": {},
   "outputs": [],
   "source": [
    "'''\n",
    "Helper function to obtain the indices that show highest correlation \n",
    "@param dataframe\n",
    "@returns list of correlation and p-values for each df, the indices that are above the threshold and the amount of dimensions\n",
    "'''\n",
    "def getIndices (spearmans_matrix, dim): \n",
    "    corr = spearmans_matrix[:,0].copy()\n",
    "    indices = corr.argsort()[-dim:][::-1]\n",
    "    if indices.size < dim:\n",
    "        print(\"Less than {} timeseries while trying to get the indices\".format(dim))\n",
    "    \n",
    "    return indices"
   ]
  },
  {
   "cell_type": "code",
   "execution_count": 50,
   "metadata": {},
   "outputs": [],
   "source": [
    "'''\n",
    "Based on a dataframe for which we want to fill missing values we select the most correlated timeseries of our prediction base\n",
    "Then we transform and truncate the time serires so that we get input output mappings for training, and sets of input timeseries\n",
    "for the time before and after the active timespan of our dataframe for which we want to infer missing data.\n",
    "@param\n",
    "@returns \n",
    "'''\n",
    "def getDataForTrainingAndPredicting (dataframe, indices): \n",
    "    \n",
    "    X_train  = []\n",
    "    X_test   = []\n",
    "    \n",
    "    dim = indices.size\n",
    "    start = dataframe['date'].iloc[0]\n",
    "    end = dataframe['date'].iloc[-1]\n",
    "    \n",
    "    mostCorrelatedTimeseries = [predictionBase[index] for index in indices]\n",
    "    \n",
    "    splitind_df = int(dataframe.shape[0] * TRAIN_TEST_THRESHOLD)\n",
    "    startind = max(0, mostCorrelatedTimeseries[0].loc[mostCorrelatedTimeseries[0]['date'] == start].index.values[0])\n",
    "    splitind = startind + splitind_df \n",
    "    endind = min(mostCorrelatedTimeseries[0].shape[0] -1, mostCorrelatedTimeseries[0].loc[mostCorrelatedTimeseries[0]['date'] == end].index.values[0] +1)\n",
    "\n",
    "    datesTest = mostCorrelatedTimeseries[0]['date'][splitind : endind]\n",
    "    \n",
    "    for ts in mostCorrelatedTimeseries: \n",
    "        tsNormalized = normalizeToGaussian(ts['MEAN'].copy().to_numpy())\n",
    "        x_train = tsNormalized[startind: splitind].copy()\n",
    "        \n",
    "        x = normalizeToGaussian(averageNaNs(ts)).reshape(-1,1)\n",
    "        x_test = x[splitind: endind].copy()\n",
    "        \n",
    "        X_train.append(x_train)\n",
    "        X_test.append(x_test)\n",
    "\n",
    "    X_test = np.column_stack((X_test))\n",
    "    X_train = np.column_stack((X_train))\n",
    "    \n",
    "    Y_test = normalizeToGaussian(averageNaNs(dataframe))[splitind_df:].copy().reshape(-1,1)    \n",
    "    Y_train  = normalizeToGaussian(dataframe['MEAN'].copy().to_numpy())[:splitind_df].reshape(-1,1) \n",
    "    \n",
    "    \n",
    "    train = np.concatenate((X_train,Y_train), axis=1)\n",
    "    train_clean = train.copy()[~np.isnan(train).any(axis=1)]\n",
    "    Y_train = train_clean[:,-1].reshape(-1,1)\n",
    "    X_train = train_clean[:,:dim]\n",
    "\n",
    "    return   X_train, X_test, Y_train, Y_test"
   ]
  },
  {
   "cell_type": "code",
   "execution_count": 51,
   "metadata": {},
   "outputs": [],
   "source": [
    "def trainGP (X_train, Y_train, dim):\n",
    "    kernel = GPy.kern.Matern32(input_dim = dim )\n",
    "    model = GPy.models.GPRegression(X_train, Y_train, kernel)\n",
    "    model.optimize(messages=True)\n",
    "    model.optimize_restarts(num_restarts=10)    \n",
    "    return model"
   ]
  },
  {
   "cell_type": "code",
   "execution_count": 52,
   "metadata": {},
   "outputs": [],
   "source": [
    "randomListOfIndices =  [random.randint(0, len(predictableTimeseries)) for i in range(500)] "
   ]
  },
  {
   "cell_type": "code",
   "execution_count": 53,
   "metadata": {
    "scrolled": true
   },
   "outputs": [
    {
     "name": "stdout",
     "output_type": "stream",
     "text": [
      "0\n"
     ]
    },
    {
     "data": {
      "application/vnd.jupyter.widget-view+json": {
       "model_id": "c1500ded2d5d4681983e1db6e5fc07e2",
       "version_major": 2,
       "version_minor": 0
      },
      "text/plain": [
       "HBox(children=(VBox(children=(IntProgress(value=0, max=1000), HTML(value=''))), Box(children=(HTML(value=''),)…"
      ]
     },
     "metadata": {},
     "output_type": "display_data"
    },
    {
     "name": "stdout",
     "output_type": "stream",
     "text": [
      "Optimization restart 1/10, f = 117.32501369980733\n",
      "Optimization restart 2/10, f = 117.32501369931055\n",
      "Optimization restart 3/10, f = 117.32501370378975\n",
      "Optimization restart 4/10, f = 117.32501406206293\n",
      "Optimization restart 5/10, f = 117.32501478764743\n",
      "Optimization restart 6/10, f = 117.3250136991127\n",
      "Optimization restart 7/10, f = 117.3250137046069\n",
      "Optimization restart 8/10, f = 117.32501369921451\n",
      "Optimization restart 9/10, f = 117.32501370328336\n",
      "Optimization restart 10/10, f = 117.32501369925683\n",
      "1\n"
     ]
    },
    {
     "data": {
      "application/vnd.jupyter.widget-view+json": {
       "model_id": "a34405e6487d49f283cd4b1a86efe957",
       "version_major": 2,
       "version_minor": 0
      },
      "text/plain": [
       "HBox(children=(VBox(children=(IntProgress(value=0, max=1000), HTML(value=''))), Box(children=(HTML(value=''),)…"
      ]
     },
     "metadata": {},
     "output_type": "display_data"
    },
    {
     "name": "stdout",
     "output_type": "stream",
     "text": [
      "Optimization restart 1/10, f = 256.5921496720154\n",
      "Optimization restart 2/10, f = 256.5921497052334\n",
      "Optimization restart 3/10, f = 256.5921496734331\n",
      "Optimization restart 4/10, f = 256.5921496940789\n",
      "Optimization restart 5/10, f = 256.59214967110165\n",
      "Optimization restart 6/10, f = 256.5921496718066\n",
      "Optimization restart 7/10, f = 256.59214967105095\n",
      "Optimization restart 8/10, f = 256.5921496719051\n",
      "Optimization restart 9/10, f = 256.59214967739274\n",
      "Optimization restart 10/10, f = 256.5921496736373\n",
      "2\n"
     ]
    },
    {
     "data": {
      "application/vnd.jupyter.widget-view+json": {
       "model_id": "e6813114085943149f4800a5803b9799",
       "version_major": 2,
       "version_minor": 0
      },
      "text/plain": [
       "HBox(children=(VBox(children=(IntProgress(value=0, max=1000), HTML(value=''))), Box(children=(HTML(value=''),)…"
      ]
     },
     "metadata": {},
     "output_type": "display_data"
    },
    {
     "name": "stdout",
     "output_type": "stream",
     "text": [
      "Optimization restart 1/10, f = 411.31205952967423\n",
      "Optimization restart 2/10, f = 411.3120595298916\n",
      "Optimization restart 3/10, f = 411.31206026220855\n",
      "Optimization restart 4/10, f = 411.3120595295634\n",
      "Optimization restart 5/10, f = 411.3120595296616\n",
      "Optimization restart 6/10, f = 411.31205952917\n",
      "Optimization restart 7/10, f = 411.31205954808513\n",
      "Optimization restart 8/10, f = 411.3120595379444\n",
      "Optimization restart 9/10, f = 411.31205952903156\n",
      "Optimization restart 10/10, f = 411.31205952920493\n",
      "3\n"
     ]
    },
    {
     "data": {
      "application/vnd.jupyter.widget-view+json": {
       "model_id": "f4bc2402055b40c386ba11b1945e27ed",
       "version_major": 2,
       "version_minor": 0
      },
      "text/plain": [
       "HBox(children=(VBox(children=(IntProgress(value=0, max=1000), HTML(value=''))), Box(children=(HTML(value=''),)…"
      ]
     },
     "metadata": {},
     "output_type": "display_data"
    },
    {
     "name": "stdout",
     "output_type": "stream",
     "text": [
      "Optimization restart 1/10, f = 37.5138795736312\n",
      "Optimization restart 2/10, f = 37.97795801954624\n",
      "Optimization restart 3/10, f = 37.51387957362247\n",
      "Optimization restart 4/10, f = 37.97795806121917\n",
      "Optimization restart 5/10, f = 37.51387957362549\n",
      "Optimization restart 6/10, f = 37.51387957458431\n",
      "Optimization restart 7/10, f = 37.513879573628756\n",
      "Optimization restart 8/10, f = 37.51387957395247\n",
      "Optimization restart 9/10, f = 37.97795805943979\n",
      "Optimization restart 10/10, f = 37.51387957367696\n",
      "4\n"
     ]
    },
    {
     "data": {
      "application/vnd.jupyter.widget-view+json": {
       "model_id": "d4f0726265614ccfa3ddcb24778702a9",
       "version_major": 2,
       "version_minor": 0
      },
      "text/plain": [
       "HBox(children=(VBox(children=(IntProgress(value=0, max=1000), HTML(value=''))), Box(children=(HTML(value=''),)…"
      ]
     },
     "metadata": {},
     "output_type": "display_data"
    },
    {
     "name": "stdout",
     "output_type": "stream",
     "text": [
      "Optimization restart 1/10, f = 141.24109249465036\n",
      "Optimization restart 2/10, f = 141.2410924910954\n",
      "Optimization restart 3/10, f = 141.2410924909596\n",
      "Optimization restart 4/10, f = 141.24109249134324\n",
      "Optimization restart 5/10, f = 141.2410925044071\n",
      "Optimization restart 6/10, f = 141.24109249211284\n",
      "Optimization restart 7/10, f = 141.24109266304626\n",
      "Optimization restart 8/10, f = 141.24109249203184\n",
      "Optimization restart 9/10, f = 141.24109253083913\n",
      "Optimization restart 10/10, f = 141.24109249130973\n",
      "5\n"
     ]
    },
    {
     "data": {
      "application/vnd.jupyter.widget-view+json": {
       "model_id": "f107659a003c4c25a762848df8e2bb07",
       "version_major": 2,
       "version_minor": 0
      },
      "text/plain": [
       "HBox(children=(VBox(children=(IntProgress(value=0, max=1000), HTML(value=''))), Box(children=(HTML(value=''),)…"
      ]
     },
     "metadata": {},
     "output_type": "display_data"
    },
    {
     "name": "stdout",
     "output_type": "stream",
     "text": [
      "Optimization restart 1/10, f = 284.343917441039\n",
      "Optimization restart 2/10, f = 284.34391749572796\n",
      "Optimization restart 3/10, f = 284.34391744966604\n",
      "Optimization restart 4/10, f = 284.34391742225023\n",
      "Optimization restart 5/10, f = 284.3439174059423\n",
      "Optimization restart 6/10, f = 284.3439174060353\n",
      "Optimization restart 7/10, f = 284.34391742838795\n",
      "Optimization restart 8/10, f = 284.34391742578475\n",
      "Optimization restart 9/10, f = 284.3439174130794\n",
      "Optimization restart 10/10, f = 284.34391740595277\n",
      "6\n"
     ]
    },
    {
     "data": {
      "application/vnd.jupyter.widget-view+json": {
       "model_id": "1252f420121e427faa234948af711015",
       "version_major": 2,
       "version_minor": 0
      },
      "text/plain": [
       "HBox(children=(VBox(children=(IntProgress(value=0, max=1000), HTML(value=''))), Box(children=(HTML(value=''),)…"
      ]
     },
     "metadata": {},
     "output_type": "display_data"
    },
    {
     "name": "stdout",
     "output_type": "stream",
     "text": [
      "Optimization restart 1/10, f = 367.2833712183542\n",
      "Optimization restart 2/10, f = 367.28337120791787\n",
      "Optimization restart 3/10, f = 367.2833712268515\n",
      "Optimization restart 4/10, f = 367.28337121532365\n",
      "Optimization restart 5/10, f = 367.2833712084341\n",
      "Optimization restart 6/10, f = 367.2833712120405\n",
      "Optimization restart 7/10, f = 367.28337121988534\n",
      "Optimization restart 8/10, f = 367.2833712092676\n",
      "Optimization restart 9/10, f = 367.2833714147868\n",
      "Optimization restart 10/10, f = 367.28337122924745\n",
      "7\n"
     ]
    },
    {
     "data": {
      "application/vnd.jupyter.widget-view+json": {
       "model_id": "cb4b5eb3ba1445abbecc082900480b08",
       "version_major": 2,
       "version_minor": 0
      },
      "text/plain": [
       "HBox(children=(VBox(children=(IntProgress(value=0, max=1000), HTML(value=''))), Box(children=(HTML(value=''),)…"
      ]
     },
     "metadata": {},
     "output_type": "display_data"
    },
    {
     "name": "stdout",
     "output_type": "stream",
     "text": [
      "Optimization restart 1/10, f = 123.62427737988828\n",
      "Optimization restart 2/10, f = 123.62427738110742\n",
      "Optimization restart 3/10, f = 123.62427737991317\n",
      "Optimization restart 4/10, f = 123.62427737991163\n",
      "Optimization restart 5/10, f = 123.62427737993097\n",
      "Optimization restart 6/10, f = 123.6242774275917\n",
      "Optimization restart 7/10, f = 123.62427738114081\n",
      "Optimization restart 8/10, f = 123.6242773818989\n",
      "Optimization restart 9/10, f = 123.624277379942\n",
      "Optimization restart 10/10, f = 123.62427738106058\n",
      "8\n"
     ]
    },
    {
     "data": {
      "application/vnd.jupyter.widget-view+json": {
       "model_id": "9af769ed5a374a5d9ab3a85675638118",
       "version_major": 2,
       "version_minor": 0
      },
      "text/plain": [
       "HBox(children=(VBox(children=(IntProgress(value=0, max=1000), HTML(value=''))), Box(children=(HTML(value=''),)…"
      ]
     },
     "metadata": {},
     "output_type": "display_data"
    },
    {
     "name": "stdout",
     "output_type": "stream",
     "text": [
      "Optimization restart 1/10, f = 35.506604764212724\n",
      "Optimization restart 2/10, f = 35.506604765276336\n",
      "Optimization restart 3/10, f = 35.50660476418998\n",
      "Optimization restart 4/10, f = 35.50660479083799\n",
      "Optimization restart 5/10, f = 35.50660476419759\n",
      "Optimization restart 6/10, f = 35.50660476420353\n",
      "Optimization restart 7/10, f = 35.50660476429922\n",
      "Optimization restart 8/10, f = 35.506604838233045\n",
      "Optimization restart 9/10, f = 35.506604783196735\n",
      "Optimization restart 10/10, f = 35.506604764204326\n",
      "9\n"
     ]
    },
    {
     "data": {
      "application/vnd.jupyter.widget-view+json": {
       "model_id": "51c0260c55d14dfab57f15ca8de181f5",
       "version_major": 2,
       "version_minor": 0
      },
      "text/plain": [
       "HBox(children=(VBox(children=(IntProgress(value=0, max=1000), HTML(value=''))), Box(children=(HTML(value=''),)…"
      ]
     },
     "metadata": {},
     "output_type": "display_data"
    },
    {
     "name": "stdout",
     "output_type": "stream",
     "text": [
      "Optimization restart 1/10, f = 34.014107648145725\n",
      "Optimization restart 2/10, f = 34.01410764819474\n",
      "Optimization restart 3/10, f = 34.01410764816674\n",
      "Optimization restart 4/10, f = 34.0141076481479\n",
      "Optimization restart 5/10, f = 34.01410764823153\n",
      "Optimization restart 6/10, f = 34.01410764814622\n",
      "Optimization restart 7/10, f = 34.014107648309505\n",
      "Optimization restart 8/10, f = 34.01410764815142\n",
      "Optimization restart 9/10, f = 34.014107648222264\n",
      "Optimization restart 10/10, f = 34.01410764905576\n",
      "10\n"
     ]
    },
    {
     "data": {
      "application/vnd.jupyter.widget-view+json": {
       "model_id": "8c5ee8814d7340ad9fadcc2e68f7ea6f",
       "version_major": 2,
       "version_minor": 0
      },
      "text/plain": [
       "HBox(children=(VBox(children=(IntProgress(value=0, max=1000), HTML(value=''))), Box(children=(HTML(value=''),)…"
      ]
     },
     "metadata": {},
     "output_type": "display_data"
    },
    {
     "name": "stdout",
     "output_type": "stream",
     "text": [
      "Optimization restart 1/10, f = 210.94287256982614\n",
      "Optimization restart 2/10, f = 210.94287260223325\n",
      "Optimization restart 3/10, f = 210.94287257824055\n",
      "Optimization restart 4/10, f = 210.9428725760209\n",
      "Optimization restart 5/10, f = 210.94287257010242\n",
      "Optimization restart 6/10, f = 210.94287260730817\n",
      "Optimization restart 7/10, f = 210.9428725695605\n",
      "Optimization restart 8/10, f = 210.94287257087103\n",
      "Optimization restart 9/10, f = 210.94287256959808\n",
      "Optimization restart 10/10, f = 210.94287264422638\n",
      "11\n"
     ]
    },
    {
     "data": {
      "application/vnd.jupyter.widget-view+json": {
       "model_id": "3ee4b6f11c3740ea883fbf6ae855c4cd",
       "version_major": 2,
       "version_minor": 0
      },
      "text/plain": [
       "HBox(children=(VBox(children=(IntProgress(value=0, max=1000), HTML(value=''))), Box(children=(HTML(value=''),)…"
      ]
     },
     "metadata": {},
     "output_type": "display_data"
    },
    {
     "name": "stdout",
     "output_type": "stream",
     "text": [
      "Optimization restart 1/10, f = 379.2249356799369\n",
      "Optimization restart 2/10, f = 379.2249356755283\n",
      "Optimization restart 3/10, f = 379.22493567669153\n",
      "Optimization restart 4/10, f = 379.2249357084718\n",
      "Optimization restart 5/10, f = 379.22493567831225\n",
      "Optimization restart 6/10, f = 379.22493567558377\n",
      "Optimization restart 7/10, f = 379.22493567567915\n",
      "Optimization restart 8/10, f = 379.224935749799\n",
      "Optimization restart 9/10, f = 379.224935690953\n",
      "Optimization restart 10/10, f = 379.2249356758522\n",
      "12\n"
     ]
    },
    {
     "data": {
      "application/vnd.jupyter.widget-view+json": {
       "model_id": "ad4a92d13d2943d9a1e421f2bfa2bbb7",
       "version_major": 2,
       "version_minor": 0
      },
      "text/plain": [
       "HBox(children=(VBox(children=(IntProgress(value=0, max=1000), HTML(value=''))), Box(children=(HTML(value=''),)…"
      ]
     },
     "metadata": {},
     "output_type": "display_data"
    },
    {
     "name": "stdout",
     "output_type": "stream",
     "text": [
      "Optimization restart 1/10, f = 55.68416484400308\n",
      "Optimization restart 2/10, f = 55.68416478927634\n",
      "Optimization restart 3/10, f = 55.68416478906012\n",
      "Optimization restart 4/10, f = 55.68416478913774\n",
      "Optimization restart 5/10, f = 55.68416478926103\n",
      "Optimization restart 6/10, f = 55.68416478904777\n",
      "Optimization restart 7/10, f = 55.684164789061924\n",
      "Optimization restart 8/10, f = 55.68416478905354\n",
      "Optimization restart 9/10, f = 55.684164789373625\n",
      "Optimization restart 10/10, f = 55.68416478908131\n",
      "13\n",
      "Could not compute spearmans matrix, for df BR_0001351\n",
      "14\n"
     ]
    },
    {
     "data": {
      "application/vnd.jupyter.widget-view+json": {
       "model_id": "b3651a590a3147569a1e585873c1f326",
       "version_major": 2,
       "version_minor": 0
      },
      "text/plain": [
       "HBox(children=(VBox(children=(IntProgress(value=0, max=1000), HTML(value=''))), Box(children=(HTML(value=''),)…"
      ]
     },
     "metadata": {},
     "output_type": "display_data"
    },
    {
     "name": "stdout",
     "output_type": "stream",
     "text": [
      "Optimization restart 1/10, f = 172.3122834843903\n",
      "Optimization restart 2/10, f = 172.31228348538116\n",
      "Optimization restart 3/10, f = 172.31228349548792\n",
      "Optimization restart 4/10, f = 172.31228348484893\n",
      "Optimization restart 5/10, f = 172.31228350079317\n",
      "Optimization restart 6/10, f = 172.31228351088703\n",
      "Optimization restart 7/10, f = 172.31228379701443\n",
      "Optimization restart 8/10, f = 172.31228348448855\n",
      "Optimization restart 9/10, f = 172.3122834846951\n",
      "Optimization restart 10/10, f = 172.31228348440078\n",
      "15\n"
     ]
    },
    {
     "data": {
      "application/vnd.jupyter.widget-view+json": {
       "model_id": "1e0432d3d6b04784a5f23322566701d8",
       "version_major": 2,
       "version_minor": 0
      },
      "text/plain": [
       "HBox(children=(VBox(children=(IntProgress(value=0, max=1000), HTML(value=''))), Box(children=(HTML(value=''),)…"
      ]
     },
     "metadata": {},
     "output_type": "display_data"
    },
    {
     "name": "stdout",
     "output_type": "stream",
     "text": [
      "Optimization restart 1/10, f = 4.625761621876755\n",
      "Optimization restart 2/10, f = 4.625761076723493\n",
      "Optimization restart 3/10, f = 4.625761232150122\n",
      "Optimization restart 4/10, f = 4.6257613045977575\n",
      "Optimization restart 5/10, f = 4.625761094831441\n",
      "Optimization restart 6/10, f = 4.625761063947181\n",
      "Optimization restart 7/10, f = 4.625761067253986\n",
      "Optimization restart 8/10, f = 4.625762721513304\n",
      "Optimization restart 9/10, f = 4.62576106394025\n",
      "Optimization restart 10/10, f = 4.625761667025037\n",
      "16\n",
      "Could not compute spearmans matrix, for df BR_0001754\n",
      "17\n"
     ]
    },
    {
     "data": {
      "application/vnd.jupyter.widget-view+json": {
       "model_id": "b39c87cc0ab249459cc7ebf837095c4e",
       "version_major": 2,
       "version_minor": 0
      },
      "text/plain": [
       "HBox(children=(VBox(children=(IntProgress(value=0, max=1000), HTML(value=''))), Box(children=(HTML(value=''),)…"
      ]
     },
     "metadata": {},
     "output_type": "display_data"
    },
    {
     "name": "stdout",
     "output_type": "stream",
     "text": [
      "Optimization restart 1/10, f = 80.8261515429709\n",
      "Optimization restart 2/10, f = 80.82615154256543\n",
      "Optimization restart 3/10, f = 80.82615154269763\n",
      "Optimization restart 4/10, f = 80.82615154185999\n",
      "Optimization restart 5/10, f = 80.82615154183202\n",
      "Optimization restart 6/10, f = 80.82615154174033\n",
      "Optimization restart 7/10, f = 80.82615154585744\n",
      "Optimization restart 8/10, f = 80.82615154184379\n",
      "Optimization restart 9/10, f = 80.82615154352968\n",
      "Optimization restart 10/10, f = 80.82615154177435\n",
      "18\n",
      "could not train the model for df BR_0001401\n",
      "19\n"
     ]
    },
    {
     "data": {
      "application/vnd.jupyter.widget-view+json": {
       "model_id": "22436811ef314da2aacd75624e40624b",
       "version_major": 2,
       "version_minor": 0
      },
      "text/plain": [
       "HBox(children=(VBox(children=(IntProgress(value=0, max=1000), HTML(value=''))), Box(children=(HTML(value=''),)…"
      ]
     },
     "metadata": {},
     "output_type": "display_data"
    },
    {
     "name": "stdout",
     "output_type": "stream",
     "text": [
      "Optimization restart 1/10, f = 17.40055099914183\n",
      "Optimization restart 2/10, f = 17.40055099914339\n",
      "Optimization restart 3/10, f = 17.400550999140822\n",
      "Optimization restart 4/10, f = 17.40055099915682\n",
      "Optimization restart 5/10, f = 17.400550999147004\n",
      "Optimization restart 6/10, f = 17.400550999212705\n",
      "Optimization restart 7/10, f = 17.400550999147622\n",
      "Optimization restart 8/10, f = 17.400550999164054\n",
      "Optimization restart 9/10, f = 17.400550999174257\n",
      "Optimization restart 10/10, f = 17.40055102467916\n",
      "20\n"
     ]
    },
    {
     "data": {
      "application/vnd.jupyter.widget-view+json": {
       "model_id": "dbc4625a70064dacb3946547064e694f",
       "version_major": 2,
       "version_minor": 0
      },
      "text/plain": [
       "HBox(children=(VBox(children=(IntProgress(value=0, max=1000), HTML(value=''))), Box(children=(HTML(value=''),)…"
      ]
     },
     "metadata": {},
     "output_type": "display_data"
    },
    {
     "name": "stdout",
     "output_type": "stream",
     "text": [
      "Optimization restart 1/10, f = 117.0471741144427\n",
      "Optimization restart 2/10, f = 117.0471741135558\n",
      "Optimization restart 3/10, f = 117.04717411303173\n",
      "Optimization restart 4/10, f = 117.047174188974\n",
      "Optimization restart 5/10, f = 117.04717411772154\n",
      "Optimization restart 6/10, f = 117.04717411769218\n",
      "Optimization restart 7/10, f = 117.04717411387594\n",
      "Optimization restart 8/10, f = 117.04717411550416\n",
      "Optimization restart 9/10, f = 117.04717412388791\n",
      "Optimization restart 10/10, f = 117.04717411293569\n",
      "21\n"
     ]
    },
    {
     "data": {
      "application/vnd.jupyter.widget-view+json": {
       "model_id": "5858912ed24d482aaca8b75d6c3ac795",
       "version_major": 2,
       "version_minor": 0
      },
      "text/plain": [
       "HBox(children=(VBox(children=(IntProgress(value=0, max=1000), HTML(value=''))), Box(children=(HTML(value=''),)…"
      ]
     },
     "metadata": {},
     "output_type": "display_data"
    },
    {
     "name": "stdout",
     "output_type": "stream",
     "text": [
      "Optimization restart 1/10, f = 119.55372541751504\n",
      "Optimization restart 2/10, f = 119.55383514816984\n",
      "Optimization restart 3/10, f = 119.55379936098922\n",
      "Optimization restart 4/10, f = 119.55372541742321\n",
      "Optimization restart 5/10, f = 119.55372541739547\n",
      "Optimization restart 6/10, f = 119.55372544761093\n",
      "Optimization restart 7/10, f = 119.55372541740451\n",
      "Optimization restart 8/10, f = 119.55372541741639\n",
      "Optimization restart 9/10, f = 119.55372541756614\n",
      "Optimization restart 10/10, f = 119.55372541777172\n",
      "22\n"
     ]
    },
    {
     "data": {
      "application/vnd.jupyter.widget-view+json": {
       "model_id": "3abae98f5bf045a8aac97c63d6f8559e",
       "version_major": 2,
       "version_minor": 0
      },
      "text/plain": [
       "HBox(children=(VBox(children=(IntProgress(value=0, max=1000), HTML(value=''))), Box(children=(HTML(value=''),)…"
      ]
     },
     "metadata": {},
     "output_type": "display_data"
    },
    {
     "name": "stdout",
     "output_type": "stream",
     "text": [
      "Optimization restart 1/10, f = 45.241481629354354\n",
      "Optimization restart 2/10, f = 45.24148162891461\n",
      "Optimization restart 3/10, f = 45.241481628859106\n",
      "Optimization restart 4/10, f = 45.24148163152421\n",
      "Optimization restart 5/10, f = 45.24148163076745\n",
      "Optimization restart 6/10, f = 45.24148166092988\n",
      "Optimization restart 7/10, f = 45.24148162897691\n",
      "Optimization restart 8/10, f = 45.241481630247506\n",
      "Optimization restart 9/10, f = 45.24148174895214\n",
      "Optimization restart 10/10, f = 45.24148162895739\n",
      "23\n"
     ]
    },
    {
     "data": {
      "application/vnd.jupyter.widget-view+json": {
       "model_id": "75f75e212f8043d3a56a51e384c67cf2",
       "version_major": 2,
       "version_minor": 0
      },
      "text/plain": [
       "HBox(children=(VBox(children=(IntProgress(value=0, max=1000), HTML(value=''))), Box(children=(HTML(value=''),)…"
      ]
     },
     "metadata": {},
     "output_type": "display_data"
    },
    {
     "name": "stdout",
     "output_type": "stream",
     "text": [
      "Optimization restart 1/10, f = 89.31151775931521\n",
      "Optimization restart 2/10, f = 89.3115177597435\n",
      "Optimization restart 3/10, f = 89.311517759698\n",
      "Optimization restart 4/10, f = 89.31151775903857\n",
      "Optimization restart 5/10, f = 89.31151775937029\n",
      "Optimization restart 6/10, f = 89.31151782075563\n",
      "Optimization restart 7/10, f = 89.31151775904047\n",
      "Optimization restart 8/10, f = 89.31151775904323\n",
      "Optimization restart 9/10, f = 89.3115177694243\n",
      "Optimization restart 10/10, f = 89.31151775904351\n",
      "24\n",
      "could not train the model for df BR_0002961\n",
      "25\n",
      "could not train the model for df BR_0002966\n",
      "26\n"
     ]
    },
    {
     "data": {
      "application/vnd.jupyter.widget-view+json": {
       "model_id": "82f5600252664b6d94018f350c6a5d8f",
       "version_major": 2,
       "version_minor": 0
      },
      "text/plain": [
       "HBox(children=(VBox(children=(IntProgress(value=0, max=1000), HTML(value=''))), Box(children=(HTML(value=''),)…"
      ]
     },
     "metadata": {},
     "output_type": "display_data"
    },
    {
     "name": "stdout",
     "output_type": "stream",
     "text": [
      "Optimization restart 1/10, f = 139.78175878717784\n",
      "Optimization restart 2/10, f = 139.78175878826892\n",
      "Optimization restart 3/10, f = 139.7817587871442\n",
      "Optimization restart 4/10, f = 139.78175878718542\n",
      "Optimization restart 5/10, f = 139.78175879124242\n",
      "Optimization restart 6/10, f = 139.781758787837\n",
      "Optimization restart 7/10, f = 139.78175878712972\n",
      "Optimization restart 8/10, f = 139.78175878713762\n",
      "Optimization restart 9/10, f = 139.7817587871317\n",
      "Optimization restart 10/10, f = 139.78175878720455\n",
      "27\n"
     ]
    },
    {
     "data": {
      "application/vnd.jupyter.widget-view+json": {
       "model_id": "2cf5eb3c92534207b01b1fa2a4281a74",
       "version_major": 2,
       "version_minor": 0
      },
      "text/plain": [
       "HBox(children=(VBox(children=(IntProgress(value=0, max=1000), HTML(value=''))), Box(children=(HTML(value=''),)…"
      ]
     },
     "metadata": {},
     "output_type": "display_data"
    },
    {
     "name": "stdout",
     "output_type": "stream",
     "text": [
      "Optimization restart 1/10, f = 60.63893590226291\n",
      "Optimization restart 2/10, f = 60.63893590156272\n",
      "Optimization restart 3/10, f = 60.638935901688114\n",
      "Optimization restart 4/10, f = 60.63893590836331\n",
      "Optimization restart 5/10, f = 60.63893590231394\n",
      "Optimization restart 6/10, f = 60.63893590147238\n",
      "Optimization restart 7/10, f = 60.63893590163695\n",
      "Optimization restart 8/10, f = 60.63893590140535\n",
      "Optimization restart 9/10, f = 60.63893590140452\n",
      "Optimization restart 10/10, f = 60.638935956421605\n",
      "28\n"
     ]
    },
    {
     "data": {
      "application/vnd.jupyter.widget-view+json": {
       "model_id": "d5c5b38318f34d01aba5037a2d0b6165",
       "version_major": 2,
       "version_minor": 0
      },
      "text/plain": [
       "HBox(children=(VBox(children=(IntProgress(value=0, max=1000), HTML(value=''))), Box(children=(HTML(value=''),)…"
      ]
     },
     "metadata": {},
     "output_type": "display_data"
    },
    {
     "name": "stdout",
     "output_type": "stream",
     "text": [
      "Optimization restart 1/10, f = -4.219619552071187\n",
      "Optimization restart 2/10, f = -4.219619559567185\n",
      "Optimization restart 3/10, f = -4.219619559615673\n",
      "Optimization restart 4/10, f = -4.2196195596020445\n",
      "Optimization restart 5/10, f = -4.219619559623773\n",
      "Optimization restart 6/10, f = -4.219619454194778\n",
      "Optimization restart 7/10, f = -4.219619559436872\n",
      "Optimization restart 8/10, f = -4.219619559603807\n",
      "Optimization restart 9/10, f = -4.219619559593589\n",
      "Optimization restart 10/10, f = -4.219619559506263\n",
      "29\n",
      "Could not compute spearmans matrix, for df BR_0000839\n",
      "30\n"
     ]
    },
    {
     "data": {
      "application/vnd.jupyter.widget-view+json": {
       "model_id": "0b2e880c145d4512897395db26a19b52",
       "version_major": 2,
       "version_minor": 0
      },
      "text/plain": [
       "HBox(children=(VBox(children=(IntProgress(value=0, max=1000), HTML(value=''))), Box(children=(HTML(value=''),)…"
      ]
     },
     "metadata": {},
     "output_type": "display_data"
    },
    {
     "name": "stdout",
     "output_type": "stream",
     "text": [
      "Optimization restart 1/10, f = 99.95385336884368\n",
      "Optimization restart 2/10, f = 99.95385336874568\n",
      "Optimization restart 3/10, f = 99.95385336814246\n",
      "Optimization restart 4/10, f = 99.9538533691483\n",
      "Optimization restart 5/10, f = 99.95385336812177\n",
      "Optimization restart 6/10, f = 99.95385336920162\n",
      "Optimization restart 7/10, f = 99.9538533696666\n",
      "Optimization restart 8/10, f = 99.95385340699167\n",
      "Optimization restart 9/10, f = 99.9538533682269\n",
      "Optimization restart 10/10, f = 99.95385336813158\n",
      "31\n",
      "could not train the model for df BR_0000681\n",
      "32\n",
      "Could not compute spearmans matrix, for df BR_0000899\n",
      "33\n",
      "could not train the model for df BR_0001534\n",
      "34\n"
     ]
    },
    {
     "data": {
      "application/vnd.jupyter.widget-view+json": {
       "model_id": "079e8983d0714a23a385a513e7de01a3",
       "version_major": 2,
       "version_minor": 0
      },
      "text/plain": [
       "HBox(children=(VBox(children=(IntProgress(value=0, max=1000), HTML(value=''))), Box(children=(HTML(value=''),)…"
      ]
     },
     "metadata": {},
     "output_type": "display_data"
    },
    {
     "name": "stdout",
     "output_type": "stream",
     "text": [
      "Optimization restart 1/10, f = -0.07048010589296183\n",
      "Optimization restart 2/10, f = -0.07048010588462006\n",
      "Optimization restart 3/10, f = -0.0704801058869009\n",
      "Optimization restart 4/10, f = -0.07048010588963649\n",
      "Optimization restart 5/10, f = -0.07048010589694798\n",
      "Optimization restart 6/10, f = -0.07048010588911069\n",
      "Optimization restart 7/10, f = -0.07048010589274156\n",
      "Optimization restart 8/10, f = -0.07048010588743381\n",
      "Optimization restart 9/10, f = -0.07048010589412712\n",
      "Optimization restart 10/10, f = -0.07048010589087284\n",
      "35\n"
     ]
    },
    {
     "data": {
      "application/vnd.jupyter.widget-view+json": {
       "model_id": "0839ed97591148f6a95644597422a2da",
       "version_major": 2,
       "version_minor": 0
      },
      "text/plain": [
       "HBox(children=(VBox(children=(IntProgress(value=0, max=1000), HTML(value=''))), Box(children=(HTML(value=''),)…"
      ]
     },
     "metadata": {},
     "output_type": "display_data"
    },
    {
     "name": "stdout",
     "output_type": "stream",
     "text": [
      "Optimization restart 1/10, f = 149.43636350270162\n",
      "Optimization restart 2/10, f = 149.43636353505872\n",
      "Optimization restart 3/10, f = 149.4363635026575\n",
      "Optimization restart 4/10, f = 149.4363635025751\n",
      "Optimization restart 5/10, f = 149.436363548589\n",
      "Optimization restart 6/10, f = 149.43636350290663\n",
      "Optimization restart 7/10, f = 149.43636366025447\n",
      "Optimization restart 8/10, f = 149.4363635025361\n",
      "Optimization restart 9/10, f = 149.4363635056214\n",
      "Optimization restart 10/10, f = 149.4363635037001\n",
      "36\n"
     ]
    },
    {
     "data": {
      "application/vnd.jupyter.widget-view+json": {
       "model_id": "0410eb4f4e064bbb92bcfeb151781b7b",
       "version_major": 2,
       "version_minor": 0
      },
      "text/plain": [
       "HBox(children=(VBox(children=(IntProgress(value=0, max=1000), HTML(value=''))), Box(children=(HTML(value=''),)…"
      ]
     },
     "metadata": {},
     "output_type": "display_data"
    },
    {
     "name": "stdout",
     "output_type": "stream",
     "text": [
      "Optimization restart 1/10, f = 14.346454126386659\n",
      "Optimization restart 2/10, f = 14.346454126478697\n",
      "Optimization restart 3/10, f = 14.346454126899998\n",
      "Optimization restart 4/10, f = 14.346454126373029\n",
      "Optimization restart 5/10, f = 14.34645412628529\n",
      "Optimization restart 6/10, f = 14.346454126290084\n",
      "Optimization restart 7/10, f = 14.346454126301158\n",
      "Optimization restart 8/10, f = 14.346454126290933\n",
      "Optimization restart 9/10, f = 14.346454130157461\n",
      "Optimization restart 10/10, f = 14.346454126302174\n",
      "37\n"
     ]
    },
    {
     "data": {
      "application/vnd.jupyter.widget-view+json": {
       "model_id": "20327180509a491bb15572e948ba7dba",
       "version_major": 2,
       "version_minor": 0
      },
      "text/plain": [
       "HBox(children=(VBox(children=(IntProgress(value=0, max=1000), HTML(value=''))), Box(children=(HTML(value=''),)…"
      ]
     },
     "metadata": {},
     "output_type": "display_data"
    },
    {
     "name": "stdout",
     "output_type": "stream",
     "text": [
      "Optimization restart 1/10, f = 83.13527749974696\n",
      "Optimization restart 2/10, f = 83.13527749903378\n",
      "Optimization restart 3/10, f = 83.13527750169351\n",
      "Optimization restart 4/10, f = 83.13527761054374\n",
      "Optimization restart 5/10, f = 83.13527758516341\n",
      "Optimization restart 6/10, f = 83.13527750034297\n",
      "Optimization restart 7/10, f = 83.13527750284877\n",
      "Optimization restart 8/10, f = 83.13527749614259\n",
      "Optimization restart 9/10, f = 83.13527750473516\n",
      "Optimization restart 10/10, f = 83.13527749614124\n",
      "38\n"
     ]
    },
    {
     "data": {
      "application/vnd.jupyter.widget-view+json": {
       "model_id": "f8af2dec33af41eb84ab3377a09508e4",
       "version_major": 2,
       "version_minor": 0
      },
      "text/plain": [
       "HBox(children=(VBox(children=(IntProgress(value=0, max=1000), HTML(value=''))), Box(children=(HTML(value=''),)…"
      ]
     },
     "metadata": {},
     "output_type": "display_data"
    },
    {
     "name": "stdout",
     "output_type": "stream",
     "text": [
      "Optimization restart 1/10, f = 145.69460400102213\n",
      "Optimization restart 2/10, f = 145.69460636625215\n",
      "Optimization restart 3/10, f = 145.6946066062834\n",
      "Optimization restart 4/10, f = 145.69460400078475\n",
      "Optimization restart 5/10, f = 145.69460401796624\n",
      "Optimization restart 6/10, f = 145.69460400325704\n",
      "Optimization restart 7/10, f = 145.69460400648822\n",
      "Optimization restart 8/10, f = 145.69460400079527\n",
      "Optimization restart 9/10, f = 145.6946040010805\n",
      "Optimization restart 10/10, f = 145.69460400223525\n",
      "39\n",
      "could not train the model for df BR_0000285\n",
      "40\n"
     ]
    },
    {
     "data": {
      "application/vnd.jupyter.widget-view+json": {
       "model_id": "3c6f8a2a656643b4adbf7de2312008ac",
       "version_major": 2,
       "version_minor": 0
      },
      "text/plain": [
       "HBox(children=(VBox(children=(IntProgress(value=0, max=1000), HTML(value=''))), Box(children=(HTML(value=''),)…"
      ]
     },
     "metadata": {},
     "output_type": "display_data"
    },
    {
     "name": "stdout",
     "output_type": "stream",
     "text": [
      "Optimization restart 1/10, f = 20.482519663748743\n",
      "Optimization restart 2/10, f = 20.482519663753003\n",
      "Optimization restart 3/10, f = 20.482519663898717\n",
      "Optimization restart 4/10, f = 20.48251966375442\n",
      "Optimization restart 5/10, f = 20.482519664031383\n",
      "Optimization restart 6/10, f = 20.48251966405092\n",
      "Optimization restart 7/10, f = 20.482519664734603\n",
      "Optimization restart 8/10, f = 20.48251966374893\n",
      "Optimization restart 9/10, f = 20.48251966422355\n",
      "Optimization restart 10/10, f = 20.48251966380482\n",
      "41\n"
     ]
    },
    {
     "data": {
      "application/vnd.jupyter.widget-view+json": {
       "model_id": "3038f081a90c40c99a33c730f8d4e87d",
       "version_major": 2,
       "version_minor": 0
      },
      "text/plain": [
       "HBox(children=(VBox(children=(IntProgress(value=0, max=1000), HTML(value=''))), Box(children=(HTML(value=''),)…"
      ]
     },
     "metadata": {},
     "output_type": "display_data"
    },
    {
     "name": "stdout",
     "output_type": "stream",
     "text": [
      "Optimization restart 1/10, f = 209.28489432311574\n",
      "Optimization restart 2/10, f = 209.2848943251686\n",
      "Optimization restart 3/10, f = 209.28489432357605\n",
      "Optimization restart 4/10, f = 209.28489435075764\n",
      "Optimization restart 5/10, f = 209.28489441489165\n",
      "Optimization restart 6/10, f = 209.2848943246666\n",
      "Optimization restart 7/10, f = 209.28489432601813\n",
      "Optimization restart 8/10, f = 209.28489432310658\n",
      "Optimization restart 9/10, f = 209.28489432419985\n",
      "Optimization restart 10/10, f = 209.28489435782808\n",
      "42\n"
     ]
    },
    {
     "data": {
      "application/vnd.jupyter.widget-view+json": {
       "model_id": "a189cc3e6def47b6814145f0d3cadc06",
       "version_major": 2,
       "version_minor": 0
      },
      "text/plain": [
       "HBox(children=(VBox(children=(IntProgress(value=0, max=1000), HTML(value=''))), Box(children=(HTML(value=''),)…"
      ]
     },
     "metadata": {},
     "output_type": "display_data"
    },
    {
     "name": "stdout",
     "output_type": "stream",
     "text": [
      "Optimization restart 1/10, f = 162.89198037322956\n",
      "Optimization restart 2/10, f = 162.8919803728615\n",
      "Optimization restart 3/10, f = 162.89198039445293\n",
      "Optimization restart 4/10, f = 162.89198037284123\n",
      "Optimization restart 5/10, f = 162.89198039081995\n",
      "Optimization restart 6/10, f = 162.8919803728308\n",
      "Optimization restart 7/10, f = 162.8919803750636\n",
      "Optimization restart 8/10, f = 162.8919803779335\n",
      "Optimization restart 9/10, f = 162.8919803738729\n",
      "Optimization restart 10/10, f = 162.89198037330578\n",
      "43\n"
     ]
    },
    {
     "data": {
      "application/vnd.jupyter.widget-view+json": {
       "model_id": "de34d18ce1084dc2abb1dcc3bd2a6918",
       "version_major": 2,
       "version_minor": 0
      },
      "text/plain": [
       "HBox(children=(VBox(children=(IntProgress(value=0, max=1000), HTML(value=''))), Box(children=(HTML(value=''),)…"
      ]
     },
     "metadata": {},
     "output_type": "display_data"
    },
    {
     "name": "stdout",
     "output_type": "stream",
     "text": [
      "Optimization restart 1/10, f = 291.3615594270448\n",
      "Optimization restart 2/10, f = 291.36155942703164\n",
      "Optimization restart 3/10, f = 291.3615594266555\n",
      "Optimization restart 4/10, f = 291.3615594276156\n",
      "Optimization restart 5/10, f = 291.36155988566014\n",
      "Optimization restart 6/10, f = 291.361559464117\n",
      "Optimization restart 7/10, f = 291.3615594265492\n",
      "Optimization restart 8/10, f = 291.36155942663333\n",
      "Optimization restart 9/10, f = 291.3615594265751\n",
      "Optimization restart 10/10, f = 291.36155942716033\n",
      "44\n"
     ]
    },
    {
     "data": {
      "application/vnd.jupyter.widget-view+json": {
       "model_id": "f0e33bc765d041d3bca9a1a07d1abf04",
       "version_major": 2,
       "version_minor": 0
      },
      "text/plain": [
       "HBox(children=(VBox(children=(IntProgress(value=0, max=1000), HTML(value=''))), Box(children=(HTML(value=''),)…"
      ]
     },
     "metadata": {},
     "output_type": "display_data"
    },
    {
     "name": "stdout",
     "output_type": "stream",
     "text": [
      "Optimization restart 1/10, f = 215.0538776877887\n",
      "Optimization restart 2/10, f = 215.05387768782458\n",
      "Optimization restart 3/10, f = 215.05387768778516\n",
      "Optimization restart 4/10, f = 215.05387768789305\n",
      "Optimization restart 5/10, f = 215.05387768795327\n",
      "Optimization restart 6/10, f = 215.0538776922321\n",
      "Optimization restart 7/10, f = 215.05387768781983\n",
      "Optimization restart 8/10, f = 215.0538776880716\n",
      "Optimization restart 9/10, f = 215.0538777017566\n",
      "Optimization restart 10/10, f = 215.05387769416924\n",
      "45\n"
     ]
    },
    {
     "data": {
      "application/vnd.jupyter.widget-view+json": {
       "model_id": "d5e1cca349c84c58b364c6f048017ad0",
       "version_major": 2,
       "version_minor": 0
      },
      "text/plain": [
       "HBox(children=(VBox(children=(IntProgress(value=0, max=1000), HTML(value=''))), Box(children=(HTML(value=''),)…"
      ]
     },
     "metadata": {},
     "output_type": "display_data"
    },
    {
     "name": "stdout",
     "output_type": "stream",
     "text": [
      "Optimization restart 1/10, f = 55.139702540950466\n",
      "Optimization restart 2/10, f = 55.139702540280354\n",
      "Optimization restart 3/10, f = 55.13970254037952\n",
      "Optimization restart 4/10, f = 55.13970254039262\n",
      "Optimization restart 5/10, f = 55.139702540308065\n",
      "Optimization restart 6/10, f = 55.13970254079726\n",
      "Optimization restart 7/10, f = 55.13970254027659\n",
      "Optimization restart 8/10, f = 55.13970254041756\n",
      "Optimization restart 9/10, f = 55.13970254130246\n",
      "Optimization restart 10/10, f = 55.13970254041867\n",
      "46\n"
     ]
    },
    {
     "data": {
      "application/vnd.jupyter.widget-view+json": {
       "model_id": "c1f2ba93f6f84a56a73777c99efa8cde",
       "version_major": 2,
       "version_minor": 0
      },
      "text/plain": [
       "HBox(children=(VBox(children=(IntProgress(value=0, max=1000), HTML(value=''))), Box(children=(HTML(value=''),)…"
      ]
     },
     "metadata": {},
     "output_type": "display_data"
    },
    {
     "name": "stderr",
     "output_type": "stream",
     "text": [
      " C:\\Users\\marku\\Anaconda3\\lib\\site-packages\\GPy\\kern\\src\\stationary.py:168: RuntimeWarning:overflow encountered in true_divide\n",
      " C:\\Users\\marku\\Anaconda3\\lib\\site-packages\\GPy\\kern\\src\\stationary.py:468: RuntimeWarning:overflow encountered in multiply\n",
      " C:\\Users\\marku\\Anaconda3\\lib\\site-packages\\GPy\\kern\\src\\stationary.py:468: RuntimeWarning:invalid value encountered in multiply\n"
     ]
    },
    {
     "name": "stdout",
     "output_type": "stream",
     "text": [
      "Optimization restart 1/10, f = 172.20358525307284\n",
      "Optimization restart 2/10, f = 172.0803907417903\n",
      "Optimization restart 3/10, f = 172.08039078670026\n",
      "Optimization restart 4/10, f = 172.08040044362858\n",
      "Optimization restart 5/10, f = 172.0803907421162\n",
      "Optimization restart 6/10, f = 172.08039096508466\n",
      "Optimization restart 7/10, f = 172.08316226344868\n",
      "Optimization restart 8/10, f = 172.08040831841666\n",
      "Optimization restart 9/10, f = 172.0803907439073\n",
      "Optimization restart 10/10, f = 172.08039083596722\n",
      "47\n"
     ]
    },
    {
     "data": {
      "application/vnd.jupyter.widget-view+json": {
       "model_id": "5d5779eabe344ad6acc61bae8ef7a02a",
       "version_major": 2,
       "version_minor": 0
      },
      "text/plain": [
       "HBox(children=(VBox(children=(IntProgress(value=0, max=1000), HTML(value=''))), Box(children=(HTML(value=''),)…"
      ]
     },
     "metadata": {},
     "output_type": "display_data"
    },
    {
     "name": "stdout",
     "output_type": "stream",
     "text": [
      "Optimization restart 1/10, f = 73.98707547294563\n",
      "Optimization restart 2/10, f = 73.98707547253659\n",
      "Optimization restart 3/10, f = 73.98707547245895\n",
      "Optimization restart 4/10, f = 73.98707547189863\n",
      "Optimization restart 5/10, f = 73.98707547281658\n",
      "Optimization restart 6/10, f = 73.98707548559125\n",
      "Optimization restart 7/10, f = 73.98707547192268\n",
      "Optimization restart 8/10, f = 73.98707547188663\n",
      "Optimization restart 9/10, f = 73.9870754721002\n",
      "Optimization restart 10/10, f = 73.98707548333155\n",
      "48\n"
     ]
    },
    {
     "data": {
      "application/vnd.jupyter.widget-view+json": {
       "model_id": "5504406dbd9d4917baafa1c4e49357aa",
       "version_major": 2,
       "version_minor": 0
      },
      "text/plain": [
       "HBox(children=(VBox(children=(IntProgress(value=0, max=1000), HTML(value=''))), Box(children=(HTML(value=''),)…"
      ]
     },
     "metadata": {},
     "output_type": "display_data"
    },
    {
     "name": "stdout",
     "output_type": "stream",
     "text": [
      "Optimization restart 1/10, f = 34.503452959613\n",
      "Optimization restart 2/10, f = 34.50345295996299\n",
      "Optimization restart 3/10, f = 34.50345296030558\n",
      "Optimization restart 4/10, f = 34.503452959609156\n",
      "Optimization restart 5/10, f = 34.50345295960832\n",
      "Optimization restart 6/10, f = 34.50345295966488\n",
      "Optimization restart 7/10, f = 34.50345295959801\n",
      "Optimization restart 8/10, f = 34.50345295994164\n",
      "Optimization restart 9/10, f = 34.50345295966182\n",
      "Optimization restart 10/10, f = 34.50345296015819\n",
      "49\n"
     ]
    },
    {
     "data": {
      "application/vnd.jupyter.widget-view+json": {
       "model_id": "22574816df46453793fb745f2f70ab67",
       "version_major": 2,
       "version_minor": 0
      },
      "text/plain": [
       "HBox(children=(VBox(children=(IntProgress(value=0, max=1000), HTML(value=''))), Box(children=(HTML(value=''),)…"
      ]
     },
     "metadata": {},
     "output_type": "display_data"
    },
    {
     "name": "stdout",
     "output_type": "stream",
     "text": [
      "Optimization restart 1/10, f = 152.6010425475974\n",
      "Optimization restart 2/10, f = 152.60104255008508\n",
      "Optimization restart 3/10, f = 152.60104254759446\n",
      "Optimization restart 4/10, f = 152.60104254814487\n",
      "Optimization restart 5/10, f = 152.60104254846374\n",
      "Optimization restart 6/10, f = 152.60104254759122\n",
      "Optimization restart 7/10, f = 152.6010425475723\n",
      "Optimization restart 8/10, f = 152.60104254757482\n",
      "Optimization restart 9/10, f = 152.60104254866107\n",
      "Optimization restart 10/10, f = 152.6010425475878\n",
      "50\n"
     ]
    },
    {
     "data": {
      "application/vnd.jupyter.widget-view+json": {
       "model_id": "25f469edfbff4108870fe3bf5b85c629",
       "version_major": 2,
       "version_minor": 0
      },
      "text/plain": [
       "HBox(children=(VBox(children=(IntProgress(value=0, max=1000), HTML(value=''))), Box(children=(HTML(value=''),)…"
      ]
     },
     "metadata": {},
     "output_type": "display_data"
    },
    {
     "name": "stdout",
     "output_type": "stream",
     "text": [
      "Optimization restart 1/10, f = 121.56932895979124\n",
      "Optimization restart 2/10, f = 121.56932896711115\n",
      "Optimization restart 3/10, f = 121.56932896012906\n",
      "Optimization restart 4/10, f = 121.56932897498218\n",
      "Optimization restart 5/10, f = 121.56932896044817\n",
      "Optimization restart 6/10, f = 121.56932895980486\n",
      "Optimization restart 7/10, f = 121.56932895998284\n",
      "Optimization restart 8/10, f = 121.5693289597541\n",
      "Optimization restart 9/10, f = 121.5693289597823\n",
      "Optimization restart 10/10, f = 121.56932896003406\n",
      "51\n"
     ]
    },
    {
     "data": {
      "application/vnd.jupyter.widget-view+json": {
       "model_id": "0d93054c2fe740d9b3cce83b7b2d5cd7",
       "version_major": 2,
       "version_minor": 0
      },
      "text/plain": [
       "HBox(children=(VBox(children=(IntProgress(value=0, max=1000), HTML(value=''))), Box(children=(HTML(value=''),)…"
      ]
     },
     "metadata": {},
     "output_type": "display_data"
    },
    {
     "name": "stdout",
     "output_type": "stream",
     "text": [
      "Optimization restart 1/10, f = 210.36228106567552\n",
      "Optimization restart 2/10, f = 210.36228106741834\n",
      "Optimization restart 3/10, f = 210.36228107769423\n",
      "Optimization restart 4/10, f = 210.36228106570954\n",
      "Optimization restart 5/10, f = 210.36228107595815\n",
      "Optimization restart 6/10, f = 210.36228106560588\n",
      "Optimization restart 7/10, f = 210.36228106561057\n",
      "Optimization restart 8/10, f = 210.3622810655874\n",
      "Optimization restart 9/10, f = 210.3622810655806\n",
      "Optimization restart 10/10, f = 210.3622810655828\n",
      "52\n"
     ]
    },
    {
     "data": {
      "application/vnd.jupyter.widget-view+json": {
       "model_id": "f59be30261764312b5a721a0ca580f62",
       "version_major": 2,
       "version_minor": 0
      },
      "text/plain": [
       "HBox(children=(VBox(children=(IntProgress(value=0, max=1000), HTML(value=''))), Box(children=(HTML(value=''),)…"
      ]
     },
     "metadata": {},
     "output_type": "display_data"
    },
    {
     "name": "stdout",
     "output_type": "stream",
     "text": [
      "Optimization restart 1/10, f = -7.415224042966429\n",
      "Optimization restart 2/10, f = -7.415224042986722\n",
      "Optimization restart 3/10, f = -7.415224042940906\n",
      "Optimization restart 4/10, f = -7.4152240429828\n",
      "Optimization restart 5/10, f = -7.415224043007555\n",
      "Optimization restart 6/10, f = -7.415224043006447\n",
      "Optimization restart 7/10, f = -7.4152240429803555\n",
      "Optimization restart 8/10, f = -7.415224042987774\n",
      "Optimization restart 9/10, f = -7.4152240393441105\n",
      "Optimization restart 10/10, f = -7.415224041719114\n",
      "53\n",
      "could not train the model for df BR_0000413\n",
      "54\n"
     ]
    },
    {
     "data": {
      "application/vnd.jupyter.widget-view+json": {
       "model_id": "7c77412be41647ea817d6d34b721f382",
       "version_major": 2,
       "version_minor": 0
      },
      "text/plain": [
       "HBox(children=(VBox(children=(IntProgress(value=0, max=1000), HTML(value=''))), Box(children=(HTML(value=''),)…"
      ]
     },
     "metadata": {},
     "output_type": "display_data"
    },
    {
     "name": "stdout",
     "output_type": "stream",
     "text": [
      "Optimization restart 1/10, f = 54.36603751754\n",
      "Optimization restart 2/10, f = 54.36603752120695\n",
      "Optimization restart 3/10, f = 54.36603751754079\n",
      "Optimization restart 4/10, f = 54.36603751767191\n",
      "Optimization restart 5/10, f = 54.36603751948552\n",
      "Optimization restart 6/10, f = 54.36603751777317\n",
      "Optimization restart 7/10, f = 54.36603751781751\n",
      "Optimization restart 8/10, f = 54.36603751754308\n",
      "Optimization restart 9/10, f = 54.3660375187272\n",
      "Optimization restart 10/10, f = 54.366037584591346\n",
      "55\n"
     ]
    },
    {
     "data": {
      "application/vnd.jupyter.widget-view+json": {
       "model_id": "afbcf43638c845bfa612172680d64563",
       "version_major": 2,
       "version_minor": 0
      },
      "text/plain": [
       "HBox(children=(VBox(children=(IntProgress(value=0, max=1000), HTML(value=''))), Box(children=(HTML(value=''),)…"
      ]
     },
     "metadata": {},
     "output_type": "display_data"
    },
    {
     "name": "stdout",
     "output_type": "stream",
     "text": [
      "Optimization restart 1/10, f = 74.20666103230415\n",
      "Optimization restart 2/10, f = 74.20666103237198\n",
      "Optimization restart 3/10, f = 74.20666103424114\n",
      "Optimization restart 4/10, f = 74.20666103225747\n",
      "Optimization restart 5/10, f = 74.20666103259816\n",
      "Optimization restart 6/10, f = 74.20666103775812\n",
      "Optimization restart 7/10, f = 74.20666103225504\n",
      "Optimization restart 8/10, f = 74.2066610322837\n",
      "Optimization restart 9/10, f = 74.2066610324013\n",
      "Optimization restart 10/10, f = 74.20666103249783\n",
      "56\n"
     ]
    },
    {
     "data": {
      "application/vnd.jupyter.widget-view+json": {
       "model_id": "64c509cf58ff4386a7615bb422a39623",
       "version_major": 2,
       "version_minor": 0
      },
      "text/plain": [
       "HBox(children=(VBox(children=(IntProgress(value=0, max=1000), HTML(value=''))), Box(children=(HTML(value=''),)…"
      ]
     },
     "metadata": {},
     "output_type": "display_data"
    },
    {
     "name": "stdout",
     "output_type": "stream",
     "text": [
      "Optimization restart 1/10, f = 122.69731541192398\n",
      "Optimization restart 2/10, f = 122.6973154120132\n",
      "Optimization restart 3/10, f = 122.69731541331086\n",
      "Optimization restart 4/10, f = 122.69731541191567\n",
      "Optimization restart 5/10, f = 122.69731541190396\n",
      "Optimization restart 6/10, f = 122.69731541189735\n",
      "Optimization restart 7/10, f = 122.69731541289046\n",
      "Optimization restart 8/10, f = 122.6973154121861\n",
      "Optimization restart 9/10, f = 122.69731544485887\n",
      "Optimization restart 10/10, f = 122.69731541201035\n",
      "57\n"
     ]
    },
    {
     "data": {
      "application/vnd.jupyter.widget-view+json": {
       "model_id": "11e9e0d56ccf4808b28357ea9cd05a9a",
       "version_major": 2,
       "version_minor": 0
      },
      "text/plain": [
       "HBox(children=(VBox(children=(IntProgress(value=0, max=1000), HTML(value=''))), Box(children=(HTML(value=''),)…"
      ]
     },
     "metadata": {},
     "output_type": "display_data"
    },
    {
     "name": "stdout",
     "output_type": "stream",
     "text": [
      "Optimization restart 1/10, f = 218.18391395723296\n",
      "Optimization restart 2/10, f = 218.18391395060107\n",
      "Optimization restart 3/10, f = 218.18391393663507\n",
      "Optimization restart 4/10, f = 218.18391393806974\n",
      "Optimization restart 5/10, f = 218.1839139366793\n",
      "Optimization restart 6/10, f = 218.18391393668165\n",
      "Optimization restart 7/10, f = 218.18391393658675\n",
      "Optimization restart 8/10, f = 218.1839139368937\n",
      "Optimization restart 9/10, f = 218.1839139365629\n",
      "Optimization restart 10/10, f = 218.18391393699315\n",
      "58\n"
     ]
    },
    {
     "data": {
      "application/vnd.jupyter.widget-view+json": {
       "model_id": "395bfa5d56014db8977b3e7276fa843d",
       "version_major": 2,
       "version_minor": 0
      },
      "text/plain": [
       "HBox(children=(VBox(children=(IntProgress(value=0, max=1000), HTML(value=''))), Box(children=(HTML(value=''),)…"
      ]
     },
     "metadata": {},
     "output_type": "display_data"
    },
    {
     "name": "stdout",
     "output_type": "stream",
     "text": [
      "Optimization restart 1/10, f = 65.03105685106638\n",
      "Optimization restart 2/10, f = 65.03105685140082\n",
      "Optimization restart 3/10, f = 65.03105685096577\n",
      "Optimization restart 4/10, f = 65.03105685103824\n",
      "Optimization restart 5/10, f = 65.03105685095852\n",
      "Optimization restart 6/10, f = 65.03105685103282\n",
      "Optimization restart 7/10, f = 65.03105685114683\n",
      "Optimization restart 8/10, f = 65.03105690547812\n",
      "Optimization restart 9/10, f = 65.03105685096783\n",
      "Optimization restart 10/10, f = 65.03105687238178\n",
      "59\n"
     ]
    },
    {
     "data": {
      "application/vnd.jupyter.widget-view+json": {
       "model_id": "20781a70613648758c62fa4472e86113",
       "version_major": 2,
       "version_minor": 0
      },
      "text/plain": [
       "HBox(children=(VBox(children=(IntProgress(value=0, max=1000), HTML(value=''))), Box(children=(HTML(value=''),)…"
      ]
     },
     "metadata": {},
     "output_type": "display_data"
    },
    {
     "name": "stdout",
     "output_type": "stream",
     "text": [
      "Optimization restart 1/10, f = 184.11559941482292\n",
      "Optimization restart 2/10, f = 184.11559941335716\n",
      "Optimization restart 3/10, f = 184.11559941338416\n",
      "Optimization restart 4/10, f = 184.11559941504999\n",
      "Optimization restart 5/10, f = 184.11559941586006\n",
      "Optimization restart 6/10, f = 184.1155996620517\n",
      "Optimization restart 7/10, f = 184.1155994359765\n",
      "Optimization restart 8/10, f = 184.11559944235336\n",
      "Optimization restart 9/10, f = 184.11559941344558\n",
      "Optimization restart 10/10, f = 184.11559941332305\n",
      "60\n"
     ]
    },
    {
     "data": {
      "application/vnd.jupyter.widget-view+json": {
       "model_id": "93c4191334be4911a26e32975836e62a",
       "version_major": 2,
       "version_minor": 0
      },
      "text/plain": [
       "HBox(children=(VBox(children=(IntProgress(value=0, max=1000), HTML(value=''))), Box(children=(HTML(value=''),)…"
      ]
     },
     "metadata": {},
     "output_type": "display_data"
    },
    {
     "name": "stdout",
     "output_type": "stream",
     "text": [
      "Optimization restart 1/10, f = 50.16079427391915\n",
      "Optimization restart 2/10, f = 50.16079427420103\n",
      "Optimization restart 3/10, f = 50.16079427393362\n",
      "Optimization restart 4/10, f = 50.16079428098003\n",
      "Optimization restart 5/10, f = 50.16079427499408\n",
      "Optimization restart 6/10, f = 50.160794278847426\n",
      "Optimization restart 7/10, f = 50.1607942765428\n",
      "Optimization restart 8/10, f = 50.160794274932684\n",
      "Optimization restart 9/10, f = 50.16079427398113\n",
      "Optimization restart 10/10, f = 50.1607942739801\n",
      "61\n"
     ]
    },
    {
     "data": {
      "application/vnd.jupyter.widget-view+json": {
       "model_id": "7648c81b6b2f43cab92d3251a22bdce4",
       "version_major": 2,
       "version_minor": 0
      },
      "text/plain": [
       "HBox(children=(VBox(children=(IntProgress(value=0, max=1000), HTML(value=''))), Box(children=(HTML(value=''),)…"
      ]
     },
     "metadata": {},
     "output_type": "display_data"
    },
    {
     "name": "stdout",
     "output_type": "stream",
     "text": [
      "Optimization restart 1/10, f = 25.711169178466378\n",
      "Optimization restart 2/10, f = 25.71116917824979\n",
      "Optimization restart 3/10, f = 25.711169178252675\n",
      "Optimization restart 4/10, f = 25.711169178249936\n",
      "Optimization restart 5/10, f = 25.71116917831688\n",
      "Optimization restart 6/10, f = 25.711169178273597\n",
      "Optimization restart 7/10, f = 25.711169178377194\n",
      "Optimization restart 8/10, f = 25.71116917825001\n",
      "Optimization restart 9/10, f = 25.711169178314357\n",
      "Optimization restart 10/10, f = 25.711169187376008\n",
      "62\n"
     ]
    },
    {
     "data": {
      "application/vnd.jupyter.widget-view+json": {
       "model_id": "487d0ded68c540788e659033470f3365",
       "version_major": 2,
       "version_minor": 0
      },
      "text/plain": [
       "HBox(children=(VBox(children=(IntProgress(value=0, max=1000), HTML(value=''))), Box(children=(HTML(value=''),)…"
      ]
     },
     "metadata": {},
     "output_type": "display_data"
    },
    {
     "name": "stdout",
     "output_type": "stream",
     "text": [
      "Optimization restart 1/10, f = 80.8261515429709\n",
      "Optimization restart 2/10, f = 80.82615154188004\n",
      "Optimization restart 3/10, f = 80.82615154433088\n",
      "Optimization restart 4/10, f = 80.82615154183893\n",
      "Optimization restart 5/10, f = 80.82615154190539\n",
      "Optimization restart 6/10, f = 80.82615154178728\n",
      "Optimization restart 7/10, f = 80.8261515418987\n",
      "Optimization restart 8/10, f = 80.8261515418441\n",
      "Optimization restart 9/10, f = 80.82615154182616\n",
      "Optimization restart 10/10, f = 80.82615154183217\n",
      "63\n"
     ]
    },
    {
     "data": {
      "application/vnd.jupyter.widget-view+json": {
       "model_id": "8ff1cecc3bbe411f80a9ad3046134483",
       "version_major": 2,
       "version_minor": 0
      },
      "text/plain": [
       "HBox(children=(VBox(children=(IntProgress(value=0, max=1000), HTML(value=''))), Box(children=(HTML(value=''),)…"
      ]
     },
     "metadata": {},
     "output_type": "display_data"
    },
    {
     "name": "stdout",
     "output_type": "stream",
     "text": [
      "Optimization restart 1/10, f = 122.83481262303906\n",
      "Optimization restart 2/10, f = 122.83481262032451\n",
      "Optimization restart 3/10, f = 122.83481262295358\n",
      "Optimization restart 4/10, f = 122.83481262050199\n",
      "Optimization restart 5/10, f = 122.83481262036298\n",
      "Optimization restart 6/10, f = 122.83481262117122\n",
      "Optimization restart 7/10, f = 122.83481262032309\n",
      "Optimization restart 8/10, f = 122.83481262032612\n",
      "Optimization restart 9/10, f = 122.83481262100395\n",
      "Optimization restart 10/10, f = 122.83481262033489\n",
      "64\n"
     ]
    },
    {
     "data": {
      "application/vnd.jupyter.widget-view+json": {
       "model_id": "9fc990250b8543b38657adc63554ddef",
       "version_major": 2,
       "version_minor": 0
      },
      "text/plain": [
       "HBox(children=(VBox(children=(IntProgress(value=0, max=1000), HTML(value=''))), Box(children=(HTML(value=''),)…"
      ]
     },
     "metadata": {},
     "output_type": "display_data"
    },
    {
     "name": "stdout",
     "output_type": "stream",
     "text": [
      "Optimization restart 1/10, f = 36.961790727268145\n",
      "Optimization restart 2/10, f = 36.9617907311744\n",
      "Optimization restart 3/10, f = 36.961790727016606\n",
      "Optimization restart 4/10, f = 36.961790727149975\n",
      "Optimization restart 5/10, f = 36.96179072697016\n",
      "Optimization restart 6/10, f = 36.96179072711429\n",
      "Optimization restart 7/10, f = 36.96179072696393\n",
      "Optimization restart 8/10, f = 36.96179072732465\n",
      "Optimization restart 9/10, f = 36.961790727119116\n",
      "Optimization restart 10/10, f = 36.96179072697201\n",
      "65\n"
     ]
    },
    {
     "data": {
      "application/vnd.jupyter.widget-view+json": {
       "model_id": "ef5de0e3321b4e169ea792057f785315",
       "version_major": 2,
       "version_minor": 0
      },
      "text/plain": [
       "HBox(children=(VBox(children=(IntProgress(value=0, max=1000), HTML(value=''))), Box(children=(HTML(value=''),)…"
      ]
     },
     "metadata": {},
     "output_type": "display_data"
    },
    {
     "name": "stdout",
     "output_type": "stream",
     "text": [
      "Optimization restart 1/10, f = 25.653371625337485\n",
      "Optimization restart 2/10, f = 25.653371624939773\n",
      "Optimization restart 3/10, f = 25.653371625210582\n",
      "Optimization restart 4/10, f = 25.65337162496177\n",
      "Optimization restart 5/10, f = 25.65337201111327\n",
      "Optimization restart 6/10, f = 25.653371625009683\n",
      "Optimization restart 7/10, f = 25.653371624940654\n",
      "Optimization restart 8/10, f = 25.653371659670192\n",
      "Optimization restart 9/10, f = 25.653371654574677\n",
      "Optimization restart 10/10, f = 25.65337162490846\n",
      "66\n"
     ]
    },
    {
     "data": {
      "application/vnd.jupyter.widget-view+json": {
       "model_id": "835d6209aa364a9680ea9d20588b5626",
       "version_major": 2,
       "version_minor": 0
      },
      "text/plain": [
       "HBox(children=(VBox(children=(IntProgress(value=0, max=1000), HTML(value=''))), Box(children=(HTML(value=''),)…"
      ]
     },
     "metadata": {},
     "output_type": "display_data"
    },
    {
     "name": "stdout",
     "output_type": "stream",
     "text": [
      "Optimization restart 1/10, f = 7.98342694796429\n",
      "Optimization restart 2/10, f = 7.983426944379914\n",
      "Optimization restart 3/10, f = 7.983426944371104\n",
      "Optimization restart 4/10, f = 7.983426944368688\n",
      "Optimization restart 5/10, f = 7.983426944482005\n",
      "Optimization restart 6/10, f = 7.983426944380426\n",
      "Optimization restart 7/10, f = 7.983426971986489\n",
      "Optimization restart 8/10, f = 7.983426944370905\n",
      "Optimization restart 9/10, f = 7.983426944370706\n",
      "Optimization restart 10/10, f = 7.983426944372468\n",
      "67\n"
     ]
    },
    {
     "data": {
      "application/vnd.jupyter.widget-view+json": {
       "model_id": "6f3f5e39af854811b3fa23a4bdddab2e",
       "version_major": 2,
       "version_minor": 0
      },
      "text/plain": [
       "HBox(children=(VBox(children=(IntProgress(value=0, max=1000), HTML(value=''))), Box(children=(HTML(value=''),)…"
      ]
     },
     "metadata": {},
     "output_type": "display_data"
    },
    {
     "name": "stdout",
     "output_type": "stream",
     "text": [
      "Optimization restart 1/10, f = 78.32365215654906\n",
      "Optimization restart 2/10, f = 78.32365210949779\n",
      "Optimization restart 3/10, f = 78.32365210849312\n",
      "Optimization restart 4/10, f = 78.32365210574065\n",
      "Optimization restart 5/10, f = 78.32365210583397\n",
      "Optimization restart 6/10, f = 78.32365210569236\n",
      "Optimization restart 7/10, f = 78.32365210574753\n",
      "Optimization restart 8/10, f = 78.32365210789101\n",
      "Optimization restart 9/10, f = 78.32365321347767\n",
      "Optimization restart 10/10, f = 78.32365220503307\n",
      "68\n"
     ]
    },
    {
     "data": {
      "application/vnd.jupyter.widget-view+json": {
       "model_id": "2cd04e02bae742eb9f41e6b1234ca2ab",
       "version_major": 2,
       "version_minor": 0
      },
      "text/plain": [
       "HBox(children=(VBox(children=(IntProgress(value=0, max=1000), HTML(value=''))), Box(children=(HTML(value=''),)…"
      ]
     },
     "metadata": {},
     "output_type": "display_data"
    },
    {
     "name": "stdout",
     "output_type": "stream",
     "text": [
      "Optimization restart 1/10, f = 221.75996118104354\n"
     ]
    },
    {
     "name": "stderr",
     "output_type": "stream",
     "text": [
      " C:\\Users\\marku\\Anaconda3\\lib\\site-packages\\GPy\\kern\\src\\stationary.py:168: RuntimeWarning:overflow encountered in true_divide\n",
      " C:\\Users\\marku\\Anaconda3\\lib\\site-packages\\GPy\\kern\\src\\stationary.py:468: RuntimeWarning:overflow encountered in multiply\n",
      " C:\\Users\\marku\\Anaconda3\\lib\\site-packages\\GPy\\kern\\src\\stationary.py:468: RuntimeWarning:invalid value encountered in multiply\n"
     ]
    },
    {
     "name": "stdout",
     "output_type": "stream",
     "text": [
      "Optimization restart 2/10, f = 221.76986172678474\n",
      "Optimization restart 3/10, f = 221.75996118085334\n",
      "Optimization restart 4/10, f = 221.75996118097285\n",
      "Optimization restart 5/10, f = 221.75996118182852\n",
      "Optimization restart 6/10, f = 221.75996121403114\n",
      "Optimization restart 7/10, f = 221.75996118323638\n",
      "Optimization restart 8/10, f = 221.75996137888842\n",
      "Optimization restart 9/10, f = 221.75996200221243\n",
      "Optimization restart 10/10, f = 221.76036293404863\n",
      "69\n"
     ]
    },
    {
     "data": {
      "application/vnd.jupyter.widget-view+json": {
       "model_id": "5da3dc6a271b4dfaa3af8f82fa41aad1",
       "version_major": 2,
       "version_minor": 0
      },
      "text/plain": [
       "HBox(children=(VBox(children=(IntProgress(value=0, max=1000), HTML(value=''))), Box(children=(HTML(value=''),)…"
      ]
     },
     "metadata": {},
     "output_type": "display_data"
    },
    {
     "name": "stdout",
     "output_type": "stream",
     "text": [
      "Optimization restart 1/10, f = 63.694189737669205\n",
      "Optimization restart 2/10, f = 63.694189737669646\n",
      "Optimization restart 3/10, f = 63.694189755151456\n",
      "Optimization restart 4/10, f = 63.69418973764478\n",
      "Optimization restart 5/10, f = 63.69418973922091\n",
      "Optimization restart 6/10, f = 63.69418973765292\n",
      "Optimization restart 7/10, f = 63.69418973847036\n",
      "Optimization restart 8/10, f = 63.69418973770474\n",
      "Optimization restart 9/10, f = 63.69418973864731\n",
      "Optimization restart 10/10, f = 63.69418973764902\n",
      "70\n"
     ]
    },
    {
     "data": {
      "application/vnd.jupyter.widget-view+json": {
       "model_id": "bfd0ee068d3a4c64981884ecde83ff0f",
       "version_major": 2,
       "version_minor": 0
      },
      "text/plain": [
       "HBox(children=(VBox(children=(IntProgress(value=0, max=1000), HTML(value=''))), Box(children=(HTML(value=''),)…"
      ]
     },
     "metadata": {},
     "output_type": "display_data"
    },
    {
     "name": "stdout",
     "output_type": "stream",
     "text": [
      "Optimization restart 1/10, f = 277.8556518557184\n",
      "Optimization restart 2/10, f = 277.8556518779547\n",
      "Optimization restart 3/10, f = 277.8556518565281\n",
      "Optimization restart 4/10, f = 277.8556519358548\n",
      "Optimization restart 5/10, f = 277.855651864258\n",
      "Optimization restart 6/10, f = 277.8556518579494\n",
      "Optimization restart 7/10, f = 277.85565194992427\n",
      "Optimization restart 8/10, f = 277.8556518587303\n",
      "Optimization restart 9/10, f = 277.8556518870512\n",
      "Optimization restart 10/10, f = 277.8556518580379\n",
      "71\n"
     ]
    },
    {
     "data": {
      "application/vnd.jupyter.widget-view+json": {
       "model_id": "75c6f731dc4a4289b01e0ec505ca1803",
       "version_major": 2,
       "version_minor": 0
      },
      "text/plain": [
       "HBox(children=(VBox(children=(IntProgress(value=0, max=1000), HTML(value=''))), Box(children=(HTML(value=''),)…"
      ]
     },
     "metadata": {},
     "output_type": "display_data"
    },
    {
     "name": "stdout",
     "output_type": "stream",
     "text": [
      "Optimization restart 1/10, f = 81.96942072783976\n",
      "Optimization restart 2/10, f = 81.9694207270232\n",
      "Optimization restart 3/10, f = 81.96942072508504\n",
      "Optimization restart 4/10, f = 81.96942072578928\n",
      "Optimization restart 5/10, f = 81.96942072492567\n",
      "Optimization restart 6/10, f = 81.9694207249097\n",
      "Optimization restart 7/10, f = 81.96942077792832\n",
      "Optimization restart 8/10, f = 81.96942072732382\n",
      "Optimization restart 9/10, f = 81.96942072548163\n",
      "Optimization restart 10/10, f = 81.96942072492723\n",
      "72\n",
      "Could not compute spearmans matrix, for df BR_0001907\n",
      "73\n",
      "could not train the model for df BR_0003305\n",
      "74\n"
     ]
    },
    {
     "data": {
      "application/vnd.jupyter.widget-view+json": {
       "model_id": "5b0421e410464222aaed840deb50366a",
       "version_major": 2,
       "version_minor": 0
      },
      "text/plain": [
       "HBox(children=(VBox(children=(IntProgress(value=0, max=1000), HTML(value=''))), Box(children=(HTML(value=''),)…"
      ]
     },
     "metadata": {},
     "output_type": "display_data"
    },
    {
     "name": "stdout",
     "output_type": "stream",
     "text": [
      "Optimization restart 1/10, f = 51.70967139891695\n",
      "Optimization restart 2/10, f = 51.709681888866214\n",
      "Optimization restart 3/10, f = 51.70967143422868\n",
      "Optimization restart 4/10, f = 51.709671687294446\n",
      "Optimization restart 5/10, f = 51.70967140240177\n",
      "Optimization restart 6/10, f = 51.70967352214808\n",
      "Optimization restart 7/10, f = 51.70967158046\n",
      "Optimization restart 8/10, f = 51.70967139991751\n",
      "Optimization restart 9/10, f = 51.709671516272806\n",
      "Optimization restart 10/10, f = 51.70967155071031\n",
      "75\n"
     ]
    },
    {
     "data": {
      "application/vnd.jupyter.widget-view+json": {
       "model_id": "6d571a7001db42459ccf87463cf5432c",
       "version_major": 2,
       "version_minor": 0
      },
      "text/plain": [
       "HBox(children=(VBox(children=(IntProgress(value=0, max=1000), HTML(value=''))), Box(children=(HTML(value=''),)…"
      ]
     },
     "metadata": {},
     "output_type": "display_data"
    },
    {
     "name": "stdout",
     "output_type": "stream",
     "text": [
      "Optimization restart 1/10, f = 64.03561118463517\n",
      "Optimization restart 2/10, f = 64.03561118524061\n",
      "Optimization restart 3/10, f = 64.03561118511314\n",
      "Optimization restart 4/10, f = 64.0356111855222\n",
      "Optimization restart 5/10, f = 64.03561118329405\n",
      "Optimization restart 6/10, f = 64.03561118321929\n",
      "Optimization restart 7/10, f = 64.03561118321022\n",
      "Optimization restart 8/10, f = 64.03561118320044\n",
      "Optimization restart 9/10, f = 64.03561118462744\n",
      "Optimization restart 10/10, f = 64.03561118319027\n",
      "76\n"
     ]
    },
    {
     "data": {
      "application/vnd.jupyter.widget-view+json": {
       "model_id": "2a7f263f3b734f30b69449566b09d7d4",
       "version_major": 2,
       "version_minor": 0
      },
      "text/plain": [
       "HBox(children=(VBox(children=(IntProgress(value=0, max=1000), HTML(value=''))), Box(children=(HTML(value=''),)…"
      ]
     },
     "metadata": {},
     "output_type": "display_data"
    },
    {
     "name": "stdout",
     "output_type": "stream",
     "text": [
      "Optimization restart 1/10, f = 7.290816015571695\n",
      "Optimization restart 2/10, f = 7.290816015459226\n",
      "Optimization restart 3/10, f = 7.290816015455229\n",
      "Optimization restart 4/10, f = 7.290816015527969\n",
      "Optimization restart 5/10, f = 7.2908160154588355\n",
      "Optimization restart 6/10, f = 7.290816015462568\n",
      "Optimization restart 7/10, f = 7.290816015458846\n",
      "Optimization restart 8/10, f = 7.290816015453221\n",
      "Optimization restart 9/10, f = 7.290816015463349\n",
      "Optimization restart 10/10, f = 7.290816015469899\n",
      "77\n"
     ]
    },
    {
     "data": {
      "application/vnd.jupyter.widget-view+json": {
       "model_id": "ab6c517e89684f088e5801e28a23838b",
       "version_major": 2,
       "version_minor": 0
      },
      "text/plain": [
       "HBox(children=(VBox(children=(IntProgress(value=0, max=1000), HTML(value=''))), Box(children=(HTML(value=''),)…"
      ]
     },
     "metadata": {},
     "output_type": "display_data"
    },
    {
     "name": "stdout",
     "output_type": "stream",
     "text": [
      "Optimization restart 1/10, f = 181.96578760010087\n",
      "Optimization restart 2/10, f = 181.96578760407763\n",
      "Optimization restart 3/10, f = 181.96578760008555\n",
      "Optimization restart 4/10, f = 181.96578760004383\n",
      "Optimization restart 5/10, f = 181.96578760616097\n",
      "Optimization restart 6/10, f = 181.96578760099874\n",
      "Optimization restart 7/10, f = 181.96578760335882\n",
      "Optimization restart 8/10, f = 181.96578760003706\n",
      "Optimization restart 9/10, f = 181.9657876000744\n",
      "Optimization restart 10/10, f = 181.96578761925656\n",
      "78\n"
     ]
    },
    {
     "data": {
      "application/vnd.jupyter.widget-view+json": {
       "model_id": "6893d67ad6904ce291e3fa28af8792dd",
       "version_major": 2,
       "version_minor": 0
      },
      "text/plain": [
       "HBox(children=(VBox(children=(IntProgress(value=0, max=1000), HTML(value=''))), Box(children=(HTML(value=''),)…"
      ]
     },
     "metadata": {},
     "output_type": "display_data"
    },
    {
     "name": "stdout",
     "output_type": "stream",
     "text": [
      "Optimization restart 1/10, f = 87.14093323563827\n",
      "Optimization restart 2/10, f = 87.14093323834555\n",
      "Optimization restart 3/10, f = 87.1409332354529\n",
      "Optimization restart 4/10, f = 87.14093323560442\n",
      "Optimization restart 5/10, f = 87.14093324342596\n",
      "Optimization restart 6/10, f = 87.1409332356424\n",
      "Optimization restart 7/10, f = 87.14093325017512\n",
      "Optimization restart 8/10, f = 87.14093323556222\n",
      "Optimization restart 9/10, f = 87.14093332705468\n",
      "Optimization restart 10/10, f = 87.14093323555727\n",
      "79\n",
      "could not train the model for df BR_0000051\n",
      "80\n"
     ]
    },
    {
     "data": {
      "application/vnd.jupyter.widget-view+json": {
       "model_id": "acf10b17619549db995d619384b87c02",
       "version_major": 2,
       "version_minor": 0
      },
      "text/plain": [
       "HBox(children=(VBox(children=(IntProgress(value=0, max=1000), HTML(value=''))), Box(children=(HTML(value=''),)…"
      ]
     },
     "metadata": {},
     "output_type": "display_data"
    },
    {
     "name": "stdout",
     "output_type": "stream",
     "text": [
      "Optimization restart 1/10, f = 210.94287256982614\n",
      "Optimization restart 2/10, f = 210.94287258308714\n",
      "Optimization restart 3/10, f = 210.94287258329996\n",
      "Optimization restart 4/10, f = 210.94287257167787\n",
      "Optimization restart 5/10, f = 210.94287256955653\n",
      "Optimization restart 6/10, f = 210.9428725729478\n",
      "Optimization restart 7/10, f = 210.94287257047804\n",
      "Optimization restart 8/10, f = 210.9428725782047\n",
      "Optimization restart 9/10, f = 210.9428725895116\n",
      "Optimization restart 10/10, f = 210.94287257093706\n",
      "81\n",
      "Could not compute spearmans matrix, for df BR_0000817\n",
      "82\n"
     ]
    },
    {
     "data": {
      "application/vnd.jupyter.widget-view+json": {
       "model_id": "d66d4648b5404c0ebf4d78041e3c04d5",
       "version_major": 2,
       "version_minor": 0
      },
      "text/plain": [
       "HBox(children=(VBox(children=(IntProgress(value=0, max=1000), HTML(value=''))), Box(children=(HTML(value=''),)…"
      ]
     },
     "metadata": {},
     "output_type": "display_data"
    },
    {
     "name": "stdout",
     "output_type": "stream",
     "text": [
      "Optimization restart 1/10, f = 56.600483417492455\n",
      "Optimization restart 2/10, f = 56.60048341781304\n",
      "Optimization restart 3/10, f = 56.600483417491034\n",
      "Optimization restart 4/10, f = 56.60048341750392\n",
      "Optimization restart 5/10, f = 56.60048341751754\n",
      "Optimization restart 6/10, f = 56.60048341767382\n",
      "Optimization restart 7/10, f = 56.600483417919776\n",
      "Optimization restart 8/10, f = 56.60048341753152\n",
      "Optimization restart 9/10, f = 56.600483417657884\n",
      "Optimization restart 10/10, f = 56.600483418819394\n",
      "83\n"
     ]
    },
    {
     "data": {
      "application/vnd.jupyter.widget-view+json": {
       "model_id": "06c44a8a38fd409aa55a03904752c913",
       "version_major": 2,
       "version_minor": 0
      },
      "text/plain": [
       "HBox(children=(VBox(children=(IntProgress(value=0, max=1000), HTML(value=''))), Box(children=(HTML(value=''),)…"
      ]
     },
     "metadata": {},
     "output_type": "display_data"
    },
    {
     "name": "stdout",
     "output_type": "stream",
     "text": [
      "Optimization restart 1/10, f = 56.00436458961043\n",
      "Optimization restart 2/10, f = 56.00436458952579\n",
      "Optimization restart 3/10, f = 56.004364589456344\n",
      "Optimization restart 4/10, f = 56.00436458945809\n",
      "Optimization restart 5/10, f = 56.00436458952696\n",
      "Optimization restart 6/10, f = 56.00436458986122\n",
      "Optimization restart 7/10, f = 56.00436459293425\n",
      "Optimization restart 8/10, f = 56.004364611856374\n",
      "Optimization restart 9/10, f = 56.0043645895466\n",
      "Optimization restart 10/10, f = 56.00436458949042\n",
      "84\n"
     ]
    },
    {
     "data": {
      "application/vnd.jupyter.widget-view+json": {
       "model_id": "3c5e968a789b43c88e4db06d59bdf750",
       "version_major": 2,
       "version_minor": 0
      },
      "text/plain": [
       "HBox(children=(VBox(children=(IntProgress(value=0, max=1000), HTML(value=''))), Box(children=(HTML(value=''),)…"
      ]
     },
     "metadata": {},
     "output_type": "display_data"
    },
    {
     "name": "stdout",
     "output_type": "stream",
     "text": [
      "Optimization restart 1/10, f = 141.40628086004884\n",
      "Optimization restart 2/10, f = 141.40628086209125\n",
      "Optimization restart 3/10, f = 141.40628086096564\n",
      "Optimization restart 4/10, f = 141.4062808652832\n",
      "Optimization restart 5/10, f = 141.40628086012828\n",
      "Optimization restart 6/10, f = 141.40628086336838\n",
      "Optimization restart 7/10, f = 141.40628086008434\n",
      "Optimization restart 8/10, f = 141.40628087458524\n",
      "Optimization restart 9/10, f = 141.4062808607012\n",
      "Optimization restart 10/10, f = 141.4062808600422\n",
      "85\n"
     ]
    },
    {
     "data": {
      "application/vnd.jupyter.widget-view+json": {
       "model_id": "4fd9c0a15b864a65bde317dd0dbebe87",
       "version_major": 2,
       "version_minor": 0
      },
      "text/plain": [
       "HBox(children=(VBox(children=(IntProgress(value=0, max=1000), HTML(value=''))), Box(children=(HTML(value=''),)…"
      ]
     },
     "metadata": {},
     "output_type": "display_data"
    },
    {
     "name": "stdout",
     "output_type": "stream",
     "text": [
      "Optimization restart 1/10, f = 173.2351589625571\n",
      "Optimization restart 2/10, f = 173.2351588876476\n",
      "Optimization restart 3/10, f = 173.2351588983451\n",
      "Optimization restart 4/10, f = 173.23515892840882\n",
      "Optimization restart 5/10, f = 173.23515890915195\n",
      "Optimization restart 6/10, f = 173.23515889128507\n",
      "Optimization restart 7/10, f = 173.23515888810974\n",
      "Optimization restart 8/10, f = 173.23515888767685\n",
      "Optimization restart 9/10, f = 173.23515889943542\n",
      "Optimization restart 10/10, f = 173.23515891673662\n",
      "86\n"
     ]
    },
    {
     "data": {
      "application/vnd.jupyter.widget-view+json": {
       "model_id": "228f4b0439a546739dcabdde7b0e345b",
       "version_major": 2,
       "version_minor": 0
      },
      "text/plain": [
       "HBox(children=(VBox(children=(IntProgress(value=0, max=1000), HTML(value=''))), Box(children=(HTML(value=''),)…"
      ]
     },
     "metadata": {},
     "output_type": "display_data"
    },
    {
     "name": "stdout",
     "output_type": "stream",
     "text": [
      "Optimization restart 1/10, f = 58.425422228664\n",
      "Optimization restart 2/10, f = 58.425422228277824\n",
      "Optimization restart 3/10, f = 58.42542222859044\n",
      "Optimization restart 4/10, f = 58.425422228414924\n",
      "Optimization restart 5/10, f = 58.42542225198562\n",
      "Optimization restart 6/10, f = 58.42542223890656\n",
      "Optimization restart 7/10, f = 58.42542222830861\n",
      "Optimization restart 8/10, f = 58.42542222830504\n",
      "Optimization restart 9/10, f = 58.425422228263415\n",
      "Optimization restart 10/10, f = 58.42542222900472\n",
      "87\n"
     ]
    },
    {
     "data": {
      "application/vnd.jupyter.widget-view+json": {
       "model_id": "1ada2168875c4af1ac7609392428e44b",
       "version_major": 2,
       "version_minor": 0
      },
      "text/plain": [
       "HBox(children=(VBox(children=(IntProgress(value=0, max=1000), HTML(value=''))), Box(children=(HTML(value=''),)…"
      ]
     },
     "metadata": {},
     "output_type": "display_data"
    },
    {
     "name": "stdout",
     "output_type": "stream",
     "text": [
      "Optimization restart 1/10, f = 242.21933479524034\n",
      "Optimization restart 2/10, f = 242.2193347934833\n",
      "Optimization restart 3/10, f = 242.21933480207392\n",
      "Optimization restart 4/10, f = 242.2193347934451\n",
      "Optimization restart 5/10, f = 242.21933482065205\n",
      "Optimization restart 6/10, f = 242.21933479346708\n",
      "Optimization restart 7/10, f = 242.21933480281353\n",
      "Optimization restart 8/10, f = 242.21933479548642\n",
      "Optimization restart 9/10, f = 242.21933481486627\n",
      "Optimization restart 10/10, f = 242.2193347972285\n",
      "88\n"
     ]
    },
    {
     "name": "stderr",
     "output_type": "stream",
     "text": [
      " C:\\Users\\marku\\Anaconda3\\lib\\site-packages\\scipy\\stats\\mstats_basic.py:509: RuntimeWarning:invalid value encountered in true_divide\n",
      " C:\\Users\\marku\\Anaconda3\\lib\\site-packages\\scipy\\stats\\_distn_infrastructure.py:877: RuntimeWarning:invalid value encountered in greater\n",
      " C:\\Users\\marku\\Anaconda3\\lib\\site-packages\\scipy\\stats\\_distn_infrastructure.py:877: RuntimeWarning:invalid value encountered in less\n",
      " C:\\Users\\marku\\Anaconda3\\lib\\site-packages\\scipy\\stats\\_distn_infrastructure.py:1831: RuntimeWarning:invalid value encountered in less_equal\n"
     ]
    },
    {
     "data": {
      "application/vnd.jupyter.widget-view+json": {
       "model_id": "ead6bb2ddc164c07a738b1e6bbcd8dac",
       "version_major": 2,
       "version_minor": 0
      },
      "text/plain": [
       "HBox(children=(VBox(children=(IntProgress(value=0, max=1000), HTML(value=''))), Box(children=(HTML(value=''),)…"
      ]
     },
     "metadata": {},
     "output_type": "display_data"
    },
    {
     "name": "stdout",
     "output_type": "stream",
     "text": [
      "Optimization restart 1/10, f = 91.688064578178\n",
      "Optimization restart 2/10, f = 91.68806458410111\n",
      "Optimization restart 3/10, f = 91.68806457990783\n",
      "Optimization restart 4/10, f = 91.68806457704765\n",
      "Optimization restart 5/10, f = 91.68806457732052\n",
      "Optimization restart 6/10, f = 91.6880645771619\n",
      "Optimization restart 7/10, f = 91.68806457778867\n",
      "Optimization restart 8/10, f = 91.6880645793744\n",
      "Optimization restart 9/10, f = 91.68806457709614\n",
      "Optimization restart 10/10, f = 91.68806458697811\n",
      "89\n"
     ]
    },
    {
     "data": {
      "application/vnd.jupyter.widget-view+json": {
       "model_id": "e5c63948ff19449d82c29962b1aa4dab",
       "version_major": 2,
       "version_minor": 0
      },
      "text/plain": [
       "HBox(children=(VBox(children=(IntProgress(value=0, max=1000), HTML(value=''))), Box(children=(HTML(value=''),)…"
      ]
     },
     "metadata": {},
     "output_type": "display_data"
    },
    {
     "name": "stdout",
     "output_type": "stream",
     "text": [
      "Optimization restart 1/10, f = 89.14942204908658\n",
      "Optimization restart 2/10, f = 89.14942204946979\n",
      "Optimization restart 3/10, f = 89.14942204909786\n",
      "Optimization restart 4/10, f = 89.1494220494177\n",
      "Optimization restart 5/10, f = 89.14942204912379\n",
      "Optimization restart 6/10, f = 89.14942204910167\n",
      "Optimization restart 7/10, f = 89.14942204910668\n",
      "Optimization restart 8/10, f = 89.1494220491384\n",
      "Optimization restart 9/10, f = 89.14942211603048\n",
      "Optimization restart 10/10, f = 89.14942204932545\n",
      "90\n"
     ]
    },
    {
     "data": {
      "application/vnd.jupyter.widget-view+json": {
       "model_id": "f8f09c6564fb438db15298a8f7e34207",
       "version_major": 2,
       "version_minor": 0
      },
      "text/plain": [
       "HBox(children=(VBox(children=(IntProgress(value=0, max=1000), HTML(value=''))), Box(children=(HTML(value=''),)…"
      ]
     },
     "metadata": {},
     "output_type": "display_data"
    },
    {
     "name": "stdout",
     "output_type": "stream",
     "text": [
      "Optimization restart 1/10, f = 100.9703572695559\n",
      "Optimization restart 2/10, f = 100.97035726955563\n",
      "Optimization restart 3/10, f = 100.97035726956923\n",
      "Optimization restart 4/10, f = 100.9703572695766\n",
      "Optimization restart 5/10, f = 100.97035726959442\n",
      "Optimization restart 6/10, f = 100.97035728994605\n",
      "Optimization restart 7/10, f = 100.97035730247941\n",
      "Optimization restart 8/10, f = 100.97035726956176\n",
      "Optimization restart 9/10, f = 100.97035726981827\n",
      "Optimization restart 10/10, f = 100.97035726957472\n",
      "91\n"
     ]
    },
    {
     "data": {
      "application/vnd.jupyter.widget-view+json": {
       "model_id": "e7a4d127434c4aabaf2f50d4cb928937",
       "version_major": 2,
       "version_minor": 0
      },
      "text/plain": [
       "HBox(children=(VBox(children=(IntProgress(value=0, max=1000), HTML(value=''))), Box(children=(HTML(value=''),)…"
      ]
     },
     "metadata": {},
     "output_type": "display_data"
    },
    {
     "name": "stdout",
     "output_type": "stream",
     "text": [
      "Optimization restart 1/10, f = 25.450350616270704\n",
      "Optimization restart 2/10, f = 25.45035032234199\n",
      "Optimization restart 3/10, f = 25.45035034848631\n",
      "Optimization restart 4/10, f = 25.45035032232437\n",
      "Optimization restart 5/10, f = 25.450350322425862\n",
      "Optimization restart 6/10, f = 25.450350324099574\n",
      "Optimization restart 7/10, f = 25.450350322335623\n",
      "Optimization restart 8/10, f = 25.450350322568546\n",
      "Optimization restart 9/10, f = 25.450350329994954\n",
      "Optimization restart 10/10, f = 25.45035032347519\n",
      "92\n"
     ]
    },
    {
     "data": {
      "application/vnd.jupyter.widget-view+json": {
       "model_id": "b7614e4fb340439aa952ddc4796c2dde",
       "version_major": 2,
       "version_minor": 0
      },
      "text/plain": [
       "HBox(children=(VBox(children=(IntProgress(value=0, max=1000), HTML(value=''))), Box(children=(HTML(value=''),)…"
      ]
     },
     "metadata": {},
     "output_type": "display_data"
    },
    {
     "name": "stdout",
     "output_type": "stream",
     "text": [
      "Optimization restart 1/10, f = -44.94493981929898\n",
      "Optimization restart 2/10, f = -44.944939818944675\n",
      "Optimization restart 3/10, f = -44.944939818526166\n",
      "Optimization restart 4/10, f = -44.944939819318066\n",
      "Optimization restart 5/10, f = -44.944939819321434\n",
      "Optimization restart 6/10, f = -44.94493981931039\n",
      "Optimization restart 7/10, f = -44.94493981931171\n",
      "Optimization restart 8/10, f = -44.944939819304636\n",
      "Optimization restart 9/10, f = -44.94493981931407\n",
      "Optimization restart 10/10, f = -44.9449398124452\n",
      "93\n"
     ]
    },
    {
     "data": {
      "application/vnd.jupyter.widget-view+json": {
       "model_id": "92179946c4d74847b15f20d45baf1ffc",
       "version_major": 2,
       "version_minor": 0
      },
      "text/plain": [
       "HBox(children=(VBox(children=(IntProgress(value=0, max=1000), HTML(value=''))), Box(children=(HTML(value=''),)…"
      ]
     },
     "metadata": {},
     "output_type": "display_data"
    },
    {
     "name": "stdout",
     "output_type": "stream",
     "text": [
      "Optimization restart 1/10, f = 145.2066411447267\n",
      "Optimization restart 2/10, f = 145.2066411602753\n",
      "Optimization restart 3/10, f = 145.20664114598898\n",
      "Optimization restart 4/10, f = 145.20664121741413\n",
      "Optimization restart 5/10, f = 145.2066411454257\n",
      "Optimization restart 6/10, f = 145.20664114465046\n",
      "Optimization restart 7/10, f = 145.20664115298547\n",
      "Optimization restart 8/10, f = 145.2066412136273\n",
      "Optimization restart 9/10, f = 145.20664114464898\n",
      "Optimization restart 10/10, f = 145.2066411446687\n",
      "94\n"
     ]
    },
    {
     "data": {
      "application/vnd.jupyter.widget-view+json": {
       "model_id": "4c57e96b1e2749999b6e432554013538",
       "version_major": 2,
       "version_minor": 0
      },
      "text/plain": [
       "HBox(children=(VBox(children=(IntProgress(value=0, max=1000), HTML(value=''))), Box(children=(HTML(value=''),)…"
      ]
     },
     "metadata": {},
     "output_type": "display_data"
    },
    {
     "name": "stdout",
     "output_type": "stream",
     "text": [
      "Optimization restart 1/10, f = 156.79776947153795\n",
      "Optimization restart 2/10, f = 156.7977694734852\n",
      "Optimization restart 3/10, f = 156.7977694767054\n",
      "Optimization restart 4/10, f = 156.79776951589616\n",
      "Optimization restart 5/10, f = 156.7977716995645\n",
      "Optimization restart 6/10, f = 156.79776947149503\n",
      "Optimization restart 7/10, f = 156.79776947153815\n",
      "Optimization restart 8/10, f = 156.79776947185252\n",
      "Optimization restart 9/10, f = 156.7977694714888\n",
      "Optimization restart 10/10, f = 156.79776947151805\n",
      "95\n"
     ]
    },
    {
     "data": {
      "application/vnd.jupyter.widget-view+json": {
       "model_id": "dbc35b4fc0b141b78190cfbb9b543410",
       "version_major": 2,
       "version_minor": 0
      },
      "text/plain": [
       "HBox(children=(VBox(children=(IntProgress(value=0, max=1000), HTML(value=''))), Box(children=(HTML(value=''),)…"
      ]
     },
     "metadata": {},
     "output_type": "display_data"
    },
    {
     "name": "stdout",
     "output_type": "stream",
     "text": [
      "Optimization restart 1/10, f = -178.95582820567813\n",
      "Optimization restart 2/10, f = -178.95582821064323\n",
      "Optimization restart 3/10, f = -178.95582821073782\n",
      "Optimization restart 4/10, f = -178.95582821083985\n",
      "Optimization restart 5/10, f = -178.9558280028732\n",
      "Optimization restart 6/10, f = -178.95582821091102\n",
      "Optimization restart 7/10, f = -178.95582820999772\n",
      "Optimization restart 8/10, f = -178.95582819249518\n",
      "Optimization restart 9/10, f = -178.95582735559412\n",
      "Optimization restart 10/10, f = -178.9558282097565\n",
      "96\n"
     ]
    },
    {
     "data": {
      "application/vnd.jupyter.widget-view+json": {
       "model_id": "71bd93bf7f4c4adbb8ed74609fa8d306",
       "version_major": 2,
       "version_minor": 0
      },
      "text/plain": [
       "HBox(children=(VBox(children=(IntProgress(value=0, max=1000), HTML(value=''))), Box(children=(HTML(value=''),)…"
      ]
     },
     "metadata": {},
     "output_type": "display_data"
    },
    {
     "name": "stdout",
     "output_type": "stream",
     "text": [
      "Optimization restart 1/10, f = 46.02484107737623\n",
      "Optimization restart 2/10, f = 46.024841071029776\n",
      "Optimization restart 3/10, f = 46.02484106589286\n",
      "Optimization restart 4/10, f = 46.02484106388691\n",
      "Optimization restart 5/10, f = 46.02484106677006\n",
      "Optimization restart 6/10, f = 46.024841063971735\n",
      "Optimization restart 7/10, f = 46.02484106490964\n",
      "Optimization restart 8/10, f = 46.024841063899046\n",
      "Optimization restart 9/10, f = 46.02484106388194\n",
      "Optimization restart 10/10, f = 46.02484106405459\n",
      "97\n"
     ]
    },
    {
     "data": {
      "application/vnd.jupyter.widget-view+json": {
       "model_id": "6716d4005d7543a9bfbaf669b0a2777f",
       "version_major": 2,
       "version_minor": 0
      },
      "text/plain": [
       "HBox(children=(VBox(children=(IntProgress(value=0, max=1000), HTML(value=''))), Box(children=(HTML(value=''),)…"
      ]
     },
     "metadata": {},
     "output_type": "display_data"
    },
    {
     "name": "stdout",
     "output_type": "stream",
     "text": [
      "Optimization restart 1/10, f = 18.37887773568273\n",
      "Optimization restart 2/10, f = 18.378877628178518\n",
      "Optimization restart 3/10, f = 18.378877628177122\n",
      "Optimization restart 4/10, f = 18.37887762817538\n",
      "Optimization restart 5/10, f = 18.37887762820653\n",
      "Optimization restart 6/10, f = 18.378877628481515\n",
      "Optimization restart 7/10, f = 18.378877634740473\n",
      "Optimization restart 8/10, f = 18.37887762823341\n",
      "Optimization restart 9/10, f = 18.378877628468736\n",
      "Optimization restart 10/10, f = 18.37887763088543\n",
      "98\n"
     ]
    },
    {
     "data": {
      "application/vnd.jupyter.widget-view+json": {
       "model_id": "9da09b7dff6440578260b921378e028f",
       "version_major": 2,
       "version_minor": 0
      },
      "text/plain": [
       "HBox(children=(VBox(children=(IntProgress(value=0, max=1000), HTML(value=''))), Box(children=(HTML(value=''),)…"
      ]
     },
     "metadata": {},
     "output_type": "display_data"
    },
    {
     "name": "stdout",
     "output_type": "stream",
     "text": [
      "Optimization restart 1/10, f = 36.24258808435125\n",
      "Optimization restart 2/10, f = 36.24258808424559\n",
      "Optimization restart 3/10, f = 36.24258808457363\n",
      "Optimization restart 4/10, f = 36.24258808459087\n",
      "Optimization restart 5/10, f = 36.24258808424286\n",
      "Optimization restart 6/10, f = 36.24258808519299\n",
      "Optimization restart 7/10, f = 36.24258808474479\n",
      "Optimization restart 8/10, f = 36.242588084785936\n",
      "Optimization restart 9/10, f = 36.24258808425429\n",
      "Optimization restart 10/10, f = 36.24258808443935\n",
      "99\n"
     ]
    },
    {
     "data": {
      "application/vnd.jupyter.widget-view+json": {
       "model_id": "e5831f9ab6fe4b8193956e23b628d894",
       "version_major": 2,
       "version_minor": 0
      },
      "text/plain": [
       "HBox(children=(VBox(children=(IntProgress(value=0, max=1000), HTML(value=''))), Box(children=(HTML(value=''),)…"
      ]
     },
     "metadata": {},
     "output_type": "display_data"
    },
    {
     "name": "stdout",
     "output_type": "stream",
     "text": [
      "Optimization restart 1/10, f = 182.21484194478006\n",
      "Optimization restart 2/10, f = 182.2148419437328\n",
      "Optimization restart 3/10, f = 182.21484194582706\n",
      "Optimization restart 4/10, f = 182.21484251267174\n",
      "Optimization restart 5/10, f = 182.21484194407319\n",
      "Optimization restart 6/10, f = 182.21484194401705\n",
      "Optimization restart 7/10, f = 182.21484194373306\n",
      "Optimization restart 8/10, f = 182.21484198063084\n",
      "Optimization restart 9/10, f = 182.21484194788206\n",
      "Optimization restart 10/10, f = 182.21484198854958\n",
      "100\n"
     ]
    },
    {
     "data": {
      "application/vnd.jupyter.widget-view+json": {
       "model_id": "3667257891744b9e9b18cc7d5f38d8f0",
       "version_major": 2,
       "version_minor": 0
      },
      "text/plain": [
       "HBox(children=(VBox(children=(IntProgress(value=0, max=1000), HTML(value=''))), Box(children=(HTML(value=''),)…"
      ]
     },
     "metadata": {},
     "output_type": "display_data"
    },
    {
     "name": "stdout",
     "output_type": "stream",
     "text": [
      "Optimization restart 1/10, f = 54.36603751754\n",
      "Optimization restart 2/10, f = 54.366037517822114\n",
      "Optimization restart 3/10, f = 54.366037518669245\n",
      "Optimization restart 4/10, f = 54.36603751757123\n",
      "Optimization restart 5/10, f = 54.36603751782368\n",
      "Optimization restart 6/10, f = 54.366037517555704\n",
      "Optimization restart 7/10, f = 54.36603751756672\n",
      "Optimization restart 8/10, f = 54.366037517556805\n",
      "Optimization restart 9/10, f = 54.36603751763344\n",
      "Optimization restart 10/10, f = 54.36603751754667\n",
      "101\n"
     ]
    },
    {
     "data": {
      "application/vnd.jupyter.widget-view+json": {
       "model_id": "6e5de0f4e4554ab2bcd38d4e09db9a2f",
       "version_major": 2,
       "version_minor": 0
      },
      "text/plain": [
       "HBox(children=(VBox(children=(IntProgress(value=0, max=1000), HTML(value=''))), Box(children=(HTML(value=''),)…"
      ]
     },
     "metadata": {},
     "output_type": "display_data"
    },
    {
     "name": "stdout",
     "output_type": "stream",
     "text": [
      "Optimization restart 1/10, f = 216.88456146481062\n",
      "Optimization restart 2/10, f = 216.88456146539886\n",
      "Optimization restart 3/10, f = 216.8845614667449\n",
      "Optimization restart 4/10, f = 216.88456146953015\n",
      "Optimization restart 5/10, f = 216.88456146489085\n",
      "Optimization restart 6/10, f = 216.8845614717282\n",
      "Optimization restart 7/10, f = 216.8845614648192\n",
      "Optimization restart 8/10, f = 216.8845614863917\n",
      "Optimization restart 9/10, f = 216.88456147744603\n",
      "Optimization restart 10/10, f = 216.88456146604045\n",
      "102\n"
     ]
    },
    {
     "data": {
      "application/vnd.jupyter.widget-view+json": {
       "model_id": "2924bc0fa2fe4e56acd9f667190af72b",
       "version_major": 2,
       "version_minor": 0
      },
      "text/plain": [
       "HBox(children=(VBox(children=(IntProgress(value=0, max=1000), HTML(value=''))), Box(children=(HTML(value=''),)…"
      ]
     },
     "metadata": {},
     "output_type": "display_data"
    },
    {
     "name": "stdout",
     "output_type": "stream",
     "text": [
      "Optimization restart 1/10, f = 45.5356364086763\n",
      "Optimization restart 2/10, f = 45.53563640665021\n",
      "Optimization restart 3/10, f = 45.535636406481636\n",
      "Optimization restart 4/10, f = 45.53563640718999\n",
      "Optimization restart 5/10, f = 45.53563640583625\n",
      "Optimization restart 6/10, f = 45.53563640674941\n",
      "Optimization restart 7/10, f = 45.53563640577815\n",
      "Optimization restart 8/10, f = 45.53563640578332\n",
      "Optimization restart 9/10, f = 45.53563640581152\n",
      "Optimization restart 10/10, f = 45.53563640662351\n",
      "103\n"
     ]
    },
    {
     "data": {
      "application/vnd.jupyter.widget-view+json": {
       "model_id": "1283b087c76d467eac408f0db6e0fd1c",
       "version_major": 2,
       "version_minor": 0
      },
      "text/plain": [
       "HBox(children=(VBox(children=(IntProgress(value=0, max=1000), HTML(value=''))), Box(children=(HTML(value=''),)…"
      ]
     },
     "metadata": {},
     "output_type": "display_data"
    },
    {
     "name": "stdout",
     "output_type": "stream",
     "text": [
      "Optimization restart 1/10, f = 49.653234853995784\n",
      "Optimization restart 2/10, f = 49.653234850888936\n",
      "Optimization restart 3/10, f = 49.65323485095552\n",
      "Optimization restart 4/10, f = 49.65323485086806\n",
      "Optimization restart 5/10, f = 49.65323485386726\n",
      "Optimization restart 6/10, f = 49.653234869880336\n",
      "Optimization restart 7/10, f = 49.653234851120615\n",
      "Optimization restart 8/10, f = 49.65323485719358\n",
      "Optimization restart 9/10, f = 49.653234851242644\n",
      "Optimization restart 10/10, f = 49.65323485088314\n",
      "104\n"
     ]
    },
    {
     "data": {
      "application/vnd.jupyter.widget-view+json": {
       "model_id": "e2fe2c07943c4af0b5673bb1cdbe7cf5",
       "version_major": 2,
       "version_minor": 0
      },
      "text/plain": [
       "HBox(children=(VBox(children=(IntProgress(value=0, max=1000), HTML(value=''))), Box(children=(HTML(value=''),)…"
      ]
     },
     "metadata": {},
     "output_type": "display_data"
    },
    {
     "name": "stdout",
     "output_type": "stream",
     "text": [
      "Optimization restart 1/10, f = 23.730693044349273\n",
      "Optimization restart 2/10, f = 23.730693119816088\n",
      "Optimization restart 3/10, f = 23.73069304417306\n",
      "Optimization restart 4/10, f = 23.73069304523778\n",
      "Optimization restart 5/10, f = 23.730693044140978\n",
      "Optimization restart 6/10, f = 23.73069304413552\n",
      "Optimization restart 7/10, f = 23.730693046467096\n",
      "Optimization restart 8/10, f = 23.730693044148722\n",
      "Optimization restart 9/10, f = 23.73069304435586\n",
      "Optimization restart 10/10, f = 23.730693044170344\n",
      "105\n"
     ]
    },
    {
     "data": {
      "application/vnd.jupyter.widget-view+json": {
       "model_id": "6d061a99e7e1476990ff029089b5d48e",
       "version_major": 2,
       "version_minor": 0
      },
      "text/plain": [
       "HBox(children=(VBox(children=(IntProgress(value=0, max=1000), HTML(value=''))), Box(children=(HTML(value=''),)…"
      ]
     },
     "metadata": {},
     "output_type": "display_data"
    },
    {
     "name": "stdout",
     "output_type": "stream",
     "text": [
      "Optimization restart 1/10, f = 30.966399656632802\n",
      "Optimization restart 2/10, f = 30.96639965670312\n",
      "Optimization restart 3/10, f = 30.96639966853808\n",
      "Optimization restart 4/10, f = 30.966399656911538\n",
      "Optimization restart 5/10, f = 30.966399657105473\n",
      "Optimization restart 6/10, f = 30.966399656647084\n",
      "Optimization restart 7/10, f = 30.966399667099203\n",
      "Optimization restart 8/10, f = 30.966399660353854\n",
      "Optimization restart 9/10, f = 30.966399656620073\n",
      "Optimization restart 10/10, f = 30.966399662255732\n",
      "106\n"
     ]
    },
    {
     "data": {
      "application/vnd.jupyter.widget-view+json": {
       "model_id": "be0fc8fc26d942f699126e24a1638591",
       "version_major": 2,
       "version_minor": 0
      },
      "text/plain": [
       "HBox(children=(VBox(children=(IntProgress(value=0, max=1000), HTML(value=''))), Box(children=(HTML(value=''),)…"
      ]
     },
     "metadata": {},
     "output_type": "display_data"
    },
    {
     "name": "stdout",
     "output_type": "stream",
     "text": [
      "Optimization restart 1/10, f = 44.11152053407585\n",
      "Optimization restart 2/10, f = 44.111520533380975\n",
      "Optimization restart 3/10, f = 44.111520533290275\n",
      "Optimization restart 4/10, f = 44.111520533288946\n",
      "Optimization restart 5/10, f = 44.111520533288505\n",
      "Optimization restart 6/10, f = 44.111520533293366\n",
      "Optimization restart 7/10, f = 44.11152056292336\n",
      "Optimization restart 8/10, f = 44.11152053330115\n",
      "Optimization restart 9/10, f = 44.11152053335066\n",
      "Optimization restart 10/10, f = 44.11152053670181\n",
      "107\n"
     ]
    },
    {
     "data": {
      "application/vnd.jupyter.widget-view+json": {
       "model_id": "2059cba225fd4178a755b0957869fb0d",
       "version_major": 2,
       "version_minor": 0
      },
      "text/plain": [
       "HBox(children=(VBox(children=(IntProgress(value=0, max=1000), HTML(value=''))), Box(children=(HTML(value=''),)…"
      ]
     },
     "metadata": {},
     "output_type": "display_data"
    },
    {
     "name": "stdout",
     "output_type": "stream",
     "text": [
      "Optimization restart 1/10, f = 204.78707130703077\n",
      "Optimization restart 2/10, f = 204.78707130709392\n",
      "Optimization restart 3/10, f = 204.78707132758484\n",
      "Optimization restart 4/10, f = 204.78707130697234\n",
      "Optimization restart 5/10, f = 204.7870713087626\n",
      "Optimization restart 6/10, f = 204.78707138815284\n",
      "Optimization restart 7/10, f = 204.78707130770727\n",
      "Optimization restart 8/10, f = 204.78707130697376\n",
      "Optimization restart 9/10, f = 204.78707130701085\n",
      "Optimization restart 10/10, f = 204.78707130697174\n",
      "108\n"
     ]
    },
    {
     "data": {
      "application/vnd.jupyter.widget-view+json": {
       "model_id": "0106b925e5a54da5907c6d07cdce8c36",
       "version_major": 2,
       "version_minor": 0
      },
      "text/plain": [
       "HBox(children=(VBox(children=(IntProgress(value=0, max=1000), HTML(value=''))), Box(children=(HTML(value=''),)…"
      ]
     },
     "metadata": {},
     "output_type": "display_data"
    },
    {
     "name": "stdout",
     "output_type": "stream",
     "text": [
      "Optimization restart 1/10, f = 74.20666103230415\n",
      "Optimization restart 2/10, f = 74.2066610387785\n",
      "Optimization restart 3/10, f = 74.20666103384474\n",
      "Optimization restart 4/10, f = 74.20666103365619\n",
      "Optimization restart 5/10, f = 74.2066612097506\n",
      "Optimization restart 6/10, f = 74.20666103225717\n",
      "Optimization restart 7/10, f = 74.20666103275623\n",
      "Optimization restart 8/10, f = 74.20666103239628\n",
      "Optimization restart 9/10, f = 74.2066610340733\n",
      "Optimization restart 10/10, f = 74.20666105104308\n",
      "109\n"
     ]
    },
    {
     "data": {
      "application/vnd.jupyter.widget-view+json": {
       "model_id": "ec224e6ca47448a6903e5d333cc4ee0f",
       "version_major": 2,
       "version_minor": 0
      },
      "text/plain": [
       "HBox(children=(VBox(children=(IntProgress(value=0, max=1000), HTML(value=''))), Box(children=(HTML(value=''),)…"
      ]
     },
     "metadata": {},
     "output_type": "display_data"
    },
    {
     "name": "stdout",
     "output_type": "stream",
     "text": [
      "Optimization restart 1/10, f = 152.94222570680665\n",
      "Optimization restart 2/10, f = 152.9422257157466\n",
      "Optimization restart 3/10, f = 152.94222569582172\n",
      "Optimization restart 4/10, f = 152.94222569689896\n",
      "Optimization restart 5/10, f = 152.9422256962073\n",
      "Optimization restart 6/10, f = 152.94222570891685\n",
      "Optimization restart 7/10, f = 152.94222570286928\n",
      "Optimization restart 8/10, f = 152.94222569822878\n",
      "Optimization restart 9/10, f = 152.94222569759035\n",
      "Optimization restart 10/10, f = 152.9422256974323\n",
      "110\n"
     ]
    },
    {
     "data": {
      "application/vnd.jupyter.widget-view+json": {
       "model_id": "51180d7f0e4349e49b0f175e6aadae90",
       "version_major": 2,
       "version_minor": 0
      },
      "text/plain": [
       "HBox(children=(VBox(children=(IntProgress(value=0, max=1000), HTML(value=''))), Box(children=(HTML(value=''),)…"
      ]
     },
     "metadata": {},
     "output_type": "display_data"
    },
    {
     "name": "stdout",
     "output_type": "stream",
     "text": [
      "Optimization restart 1/10, f = 95.27636381876954\n",
      "Optimization restart 2/10, f = 95.27636381882158\n",
      "Optimization restart 3/10, f = 95.27636381902664\n",
      "Optimization restart 4/10, f = 95.27636382094654\n",
      "Optimization restart 5/10, f = 95.27636384325349\n",
      "Optimization restart 6/10, f = 95.27636381943881\n",
      "Optimization restart 7/10, f = 95.27636383040443\n",
      "Optimization restart 8/10, f = 95.27636381944224\n",
      "Optimization restart 9/10, f = 95.27636381877386\n",
      "Optimization restart 10/10, f = 95.27636381940823\n",
      "111\n"
     ]
    },
    {
     "data": {
      "application/vnd.jupyter.widget-view+json": {
       "model_id": "481400da7f4e47beaa408c8cb7a743f3",
       "version_major": 2,
       "version_minor": 0
      },
      "text/plain": [
       "HBox(children=(VBox(children=(IntProgress(value=0, max=1000), HTML(value=''))), Box(children=(HTML(value=''),)…"
      ]
     },
     "metadata": {},
     "output_type": "display_data"
    },
    {
     "name": "stdout",
     "output_type": "stream",
     "text": [
      "Optimization restart 1/10, f = 31.98354688413538\n",
      "Optimization restart 2/10, f = 31.983546879482123\n",
      "Optimization restart 3/10, f = 31.983546880352524\n",
      "Optimization restart 4/10, f = 31.983546889345664\n",
      "Optimization restart 5/10, f = 31.98354688606857\n",
      "Optimization restart 6/10, f = 31.983546937306347\n",
      "Optimization restart 7/10, f = 31.983546879472964\n",
      "Optimization restart 8/10, f = 31.983546950492464\n",
      "Optimization restart 9/10, f = 31.983546883992652\n",
      "Optimization restart 10/10, f = 31.983546879531637\n",
      "112\n"
     ]
    },
    {
     "data": {
      "application/vnd.jupyter.widget-view+json": {
       "model_id": "ccd06f05b6d74d6585ced30d944c6e7b",
       "version_major": 2,
       "version_minor": 0
      },
      "text/plain": [
       "HBox(children=(VBox(children=(IntProgress(value=0, max=1000), HTML(value=''))), Box(children=(HTML(value=''),)…"
      ]
     },
     "metadata": {},
     "output_type": "display_data"
    },
    {
     "name": "stdout",
     "output_type": "stream",
     "text": [
      "Optimization restart 1/10, f = 30.294407991610235\n",
      "Optimization restart 2/10, f = 30.294407991538527\n",
      "Optimization restart 3/10, f = 30.294407991548162\n",
      "Optimization restart 4/10, f = 30.294407991893593\n",
      "Optimization restart 5/10, f = 30.294407992159222\n",
      "Optimization restart 6/10, f = 30.294407991780943\n",
      "Optimization restart 7/10, f = 30.29440799195197\n",
      "Optimization restart 8/10, f = 30.294407992049102\n",
      "Optimization restart 9/10, f = 30.29440799154628\n",
      "Optimization restart 10/10, f = 30.294407997800114\n",
      "113\n"
     ]
    },
    {
     "data": {
      "application/vnd.jupyter.widget-view+json": {
       "model_id": "73a4d66b30994d52bc28d0cc79893973",
       "version_major": 2,
       "version_minor": 0
      },
      "text/plain": [
       "HBox(children=(VBox(children=(IntProgress(value=0, max=1000), HTML(value=''))), Box(children=(HTML(value=''),)…"
      ]
     },
     "metadata": {},
     "output_type": "display_data"
    },
    {
     "name": "stdout",
     "output_type": "stream",
     "text": [
      "Optimization restart 1/10, f = 90.58798309448561\n",
      "Optimization restart 2/10, f = 90.58798309442253\n",
      "Optimization restart 3/10, f = 90.58798309615473\n",
      "Optimization restart 4/10, f = 90.5879830944088\n",
      "Optimization restart 5/10, f = 90.58798309440816\n",
      "Optimization restart 6/10, f = 90.58798309836865\n",
      "Optimization restart 7/10, f = 90.58798309440743\n",
      "Optimization restart 8/10, f = 90.5879830954739\n",
      "Optimization restart 9/10, f = 90.58798309461908\n",
      "Optimization restart 10/10, f = 90.5879830944032\n",
      "114\n"
     ]
    },
    {
     "data": {
      "application/vnd.jupyter.widget-view+json": {
       "model_id": "3f2f401aa3a44bf79c5f39a543456e70",
       "version_major": 2,
       "version_minor": 0
      },
      "text/plain": [
       "HBox(children=(VBox(children=(IntProgress(value=0, max=1000), HTML(value=''))), Box(children=(HTML(value=''),)…"
      ]
     },
     "metadata": {},
     "output_type": "display_data"
    },
    {
     "name": "stdout",
     "output_type": "stream",
     "text": [
      "Optimization restart 1/10, f = 263.9058718612589\n",
      "Optimization restart 2/10, f = 263.90587186118154\n",
      "Optimization restart 3/10, f = 263.9058718621305\n",
      "Optimization restart 4/10, f = 263.9058718671989\n",
      "Optimization restart 5/10, f = 263.90587186203055\n",
      "Optimization restart 6/10, f = 263.90587186297466\n",
      "Optimization restart 7/10, f = 263.905871870922\n",
      "Optimization restart 8/10, f = 263.90587186217294\n",
      "Optimization restart 9/10, f = 263.9058718611298\n",
      "Optimization restart 10/10, f = 263.9058719130026\n",
      "115\n"
     ]
    },
    {
     "data": {
      "application/vnd.jupyter.widget-view+json": {
       "model_id": "e37c7e9f7cb34f54b0cd82c9d4ff0152",
       "version_major": 2,
       "version_minor": 0
      },
      "text/plain": [
       "HBox(children=(VBox(children=(IntProgress(value=0, max=1000), HTML(value=''))), Box(children=(HTML(value=''),)…"
      ]
     },
     "metadata": {},
     "output_type": "display_data"
    },
    {
     "name": "stdout",
     "output_type": "stream",
     "text": [
      "Optimization restart 1/10, f = 287.18653276418047\n",
      "Optimization restart 2/10, f = 287.18653276627447\n",
      "Optimization restart 3/10, f = 287.1865327629855\n",
      "Optimization restart 4/10, f = 287.186532762959\n",
      "Optimization restart 5/10, f = 287.1865327672248\n",
      "Optimization restart 6/10, f = 287.1865329395363\n",
      "Optimization restart 7/10, f = 287.1865327634861\n",
      "Optimization restart 8/10, f = 287.1865327629431\n",
      "Optimization restart 9/10, f = 287.18653276745056\n",
      "Optimization restart 10/10, f = 287.186532765023\n",
      "116\n"
     ]
    },
    {
     "data": {
      "application/vnd.jupyter.widget-view+json": {
       "model_id": "96f6024b63004908badbce53d641566c",
       "version_major": 2,
       "version_minor": 0
      },
      "text/plain": [
       "HBox(children=(VBox(children=(IntProgress(value=0, max=1000), HTML(value=''))), Box(children=(HTML(value=''),)…"
      ]
     },
     "metadata": {},
     "output_type": "display_data"
    },
    {
     "name": "stdout",
     "output_type": "stream",
     "text": [
      "Optimization restart 1/10, f = 111.37830322371414\n",
      "Optimization restart 2/10, f = 111.37830322574032\n",
      "Optimization restart 3/10, f = 111.37830322408611\n",
      "Optimization restart 4/10, f = 111.37830322402135\n",
      "Optimization restart 5/10, f = 111.3783032236833\n",
      "Optimization restart 6/10, f = 111.37830322373229\n",
      "Optimization restart 7/10, f = 111.37830322462156\n",
      "Optimization restart 8/10, f = 111.378303226042\n",
      "Optimization restart 9/10, f = 111.37830322387379\n",
      "Optimization restart 10/10, f = 111.37830322503075\n",
      "117\n"
     ]
    },
    {
     "data": {
      "application/vnd.jupyter.widget-view+json": {
       "model_id": "755d3502205b497d98198f84bc883694",
       "version_major": 2,
       "version_minor": 0
      },
      "text/plain": [
       "HBox(children=(VBox(children=(IntProgress(value=0, max=1000), HTML(value=''))), Box(children=(HTML(value=''),)…"
      ]
     },
     "metadata": {},
     "output_type": "display_data"
    },
    {
     "name": "stdout",
     "output_type": "stream",
     "text": [
      "Optimization restart 1/10, f = 2.699824411770949\n",
      "Optimization restart 2/10, f = 2.6998232269523137\n",
      "Optimization restart 3/10, f = 2.6998235620957884\n",
      "Optimization restart 4/10, f = 2.69982323387439\n",
      "Optimization restart 5/10, f = 2.6998232946235916\n",
      "Optimization restart 6/10, f = 2.6998241530955216\n",
      "Optimization restart 7/10, f = 2.6998247050005877\n",
      "Optimization restart 8/10, f = 2.699823245000083\n",
      "Optimization restart 9/10, f = 2.699823360482685\n",
      "Optimization restart 10/10, f = 2.699823229961403\n",
      "118\n"
     ]
    },
    {
     "data": {
      "application/vnd.jupyter.widget-view+json": {
       "model_id": "10e1a27c4bc94ff1a9c447332fe9875f",
       "version_major": 2,
       "version_minor": 0
      },
      "text/plain": [
       "HBox(children=(VBox(children=(IntProgress(value=0, max=1000), HTML(value=''))), Box(children=(HTML(value=''),)…"
      ]
     },
     "metadata": {},
     "output_type": "display_data"
    },
    {
     "name": "stdout",
     "output_type": "stream",
     "text": [
      "Optimization restart 1/10, f = 134.68242188067845\n",
      "Optimization restart 2/10, f = 134.68242188065506\n",
      "Optimization restart 3/10, f = 134.68242188121633\n",
      "Optimization restart 4/10, f = 134.68242188114368\n",
      "Optimization restart 5/10, f = 134.6824218807197\n",
      "Optimization restart 6/10, f = 134.68242188070263\n",
      "Optimization restart 7/10, f = 134.68242188062973\n",
      "Optimization restart 8/10, f = 134.68242188063306\n",
      "Optimization restart 9/10, f = 134.68242188248013\n",
      "Optimization restart 10/10, f = 134.6824218806314\n",
      "119\n"
     ]
    },
    {
     "data": {
      "application/vnd.jupyter.widget-view+json": {
       "model_id": "715315889e8d4aa0b7ff36b0f0b1b73a",
       "version_major": 2,
       "version_minor": 0
      },
      "text/plain": [
       "HBox(children=(VBox(children=(IntProgress(value=0, max=1000), HTML(value=''))), Box(children=(HTML(value=''),)…"
      ]
     },
     "metadata": {},
     "output_type": "display_data"
    },
    {
     "name": "stdout",
     "output_type": "stream",
     "text": [
      "Optimization restart 1/10, f = 39.387443860109684\n",
      "Optimization restart 2/10, f = 39.387443859887405\n",
      "Optimization restart 3/10, f = 39.387443859871624\n",
      "Optimization restart 4/10, f = 39.38744386129022\n",
      "Optimization restart 5/10, f = 39.38744386021837\n",
      "Optimization restart 6/10, f = 39.3874438601045\n",
      "Optimization restart 7/10, f = 39.387443859909666\n",
      "Optimization restart 8/10, f = 39.38744386131938\n",
      "Optimization restart 9/10, f = 39.387443859999806\n",
      "Optimization restart 10/10, f = 39.38744386022623\n",
      "120\n"
     ]
    },
    {
     "data": {
      "application/vnd.jupyter.widget-view+json": {
       "model_id": "9b741d6a47d24531bd3a123fa4b591f4",
       "version_major": 2,
       "version_minor": 0
      },
      "text/plain": [
       "HBox(children=(VBox(children=(IntProgress(value=0, max=1000), HTML(value=''))), Box(children=(HTML(value=''),)…"
      ]
     },
     "metadata": {},
     "output_type": "display_data"
    },
    {
     "name": "stdout",
     "output_type": "stream",
     "text": [
      "Optimization restart 1/10, f = 208.64547225424434\n",
      "Optimization restart 2/10, f = 208.64547225360164\n",
      "Optimization restart 3/10, f = 208.64547227294622\n",
      "Optimization restart 4/10, f = 208.64547225477392\n",
      "Optimization restart 5/10, f = 208.64547226648287\n",
      "Optimization restart 6/10, f = 208.64547225361903\n",
      "Optimization restart 7/10, f = 208.64547225543097\n",
      "Optimization restart 8/10, f = 208.6454722537676\n",
      "Optimization restart 9/10, f = 208.64547225558982\n",
      "Optimization restart 10/10, f = 208.6454722566658\n",
      "121\n"
     ]
    },
    {
     "data": {
      "application/vnd.jupyter.widget-view+json": {
       "model_id": "fc94ffd27d244dd2840fc54edd1a43fb",
       "version_major": 2,
       "version_minor": 0
      },
      "text/plain": [
       "HBox(children=(VBox(children=(IntProgress(value=0, max=1000), HTML(value=''))), Box(children=(HTML(value=''),)…"
      ]
     },
     "metadata": {},
     "output_type": "display_data"
    },
    {
     "name": "stdout",
     "output_type": "stream",
     "text": [
      "Optimization restart 1/10, f = 291.3615594270448\n",
      "Optimization restart 2/10, f = 291.3615594411263\n",
      "Optimization restart 3/10, f = 291.36155944410564\n",
      "Optimization restart 4/10, f = 291.3615594275504\n",
      "Optimization restart 5/10, f = 291.361559452154\n",
      "Optimization restart 6/10, f = 291.3615594268597\n",
      "Optimization restart 7/10, f = 291.36155942663663\n",
      "Optimization restart 8/10, f = 291.361559427955\n",
      "Optimization restart 9/10, f = 291.3615594500699\n",
      "Optimization restart 10/10, f = 291.36155943613005\n",
      "122\n"
     ]
    },
    {
     "data": {
      "application/vnd.jupyter.widget-view+json": {
       "model_id": "9b563d3f1c274f4d8477d4406d3c7f1c",
       "version_major": 2,
       "version_minor": 0
      },
      "text/plain": [
       "HBox(children=(VBox(children=(IntProgress(value=0, max=1000), HTML(value=''))), Box(children=(HTML(value=''),)…"
      ]
     },
     "metadata": {},
     "output_type": "display_data"
    },
    {
     "name": "stdout",
     "output_type": "stream",
     "text": [
      "Optimization restart 1/10, f = 80.40047732995421\n",
      "Optimization restart 2/10, f = 80.4004773300712\n",
      "Optimization restart 3/10, f = 80.40047771691036\n",
      "Optimization restart 4/10, f = 80.4004773299531\n",
      "Optimization restart 5/10, f = 80.4004773299525\n",
      "Optimization restart 6/10, f = 80.40047733001892\n",
      "Optimization restart 7/10, f = 80.40047732994881\n",
      "Optimization restart 8/10, f = 80.40047732995572\n",
      "Optimization restart 9/10, f = 80.40047733059711\n",
      "Optimization restart 10/10, f = 80.40047733039412\n",
      "123\n",
      "Could not compute spearmans matrix, for df BR_0001636\n",
      "124\n"
     ]
    },
    {
     "data": {
      "application/vnd.jupyter.widget-view+json": {
       "model_id": "a02ac5be18bd4117a4ed285bfde2e3ac",
       "version_major": 2,
       "version_minor": 0
      },
      "text/plain": [
       "HBox(children=(VBox(children=(IntProgress(value=0, max=1000), HTML(value=''))), Box(children=(HTML(value=''),)…"
      ]
     },
     "metadata": {},
     "output_type": "display_data"
    },
    {
     "name": "stdout",
     "output_type": "stream",
     "text": [
      "Optimization restart 1/10, f = 52.17939469558215\n",
      "Optimization restart 2/10, f = 52.81056851386822\n",
      "Optimization restart 3/10, f = 52.810577099879495\n",
      "Optimization restart 4/10, f = 52.810568375310154\n",
      "Optimization restart 5/10, f = 52.17939469604586\n",
      "Optimization restart 6/10, f = 52.81056838991664\n",
      "Optimization restart 7/10, f = 52.179394695552844\n",
      "Optimization restart 8/10, f = 52.81056886265748\n",
      "Optimization restart 9/10, f = 52.179394697061376\n",
      "Optimization restart 10/10, f = 52.17939469556771\n",
      "125\n",
      "Could not compute spearmans matrix, for df BR_0000881\n",
      "126\n"
     ]
    },
    {
     "data": {
      "application/vnd.jupyter.widget-view+json": {
       "model_id": "83d4264d7211470499e95569ddf70121",
       "version_major": 2,
       "version_minor": 0
      },
      "text/plain": [
       "HBox(children=(VBox(children=(IntProgress(value=0, max=1000), HTML(value=''))), Box(children=(HTML(value=''),)…"
      ]
     },
     "metadata": {},
     "output_type": "display_data"
    },
    {
     "name": "stdout",
     "output_type": "stream",
     "text": [
      "Optimization restart 1/10, f = 12.585715884520859\n",
      "Optimization restart 2/10, f = 12.585715884182022\n",
      "Optimization restart 3/10, f = 12.585715884429053\n",
      "Optimization restart 4/10, f = 12.585715884439932\n",
      "Optimization restart 5/10, f = 12.58571588418194\n",
      "Optimization restart 6/10, f = 12.58571588494714\n",
      "Optimization restart 7/10, f = 12.585715884226378\n",
      "Optimization restart 8/10, f = 12.585715884290238\n",
      "Optimization restart 9/10, f = 12.585715885802832\n",
      "Optimization restart 10/10, f = 12.585715884353206\n",
      "127\n"
     ]
    },
    {
     "data": {
      "application/vnd.jupyter.widget-view+json": {
       "model_id": "119cb5bd115c4d6ba2748f4666e02e43",
       "version_major": 2,
       "version_minor": 0
      },
      "text/plain": [
       "HBox(children=(VBox(children=(IntProgress(value=0, max=1000), HTML(value=''))), Box(children=(HTML(value=''),)…"
      ]
     },
     "metadata": {},
     "output_type": "display_data"
    },
    {
     "name": "stdout",
     "output_type": "stream",
     "text": [
      "Optimization restart 1/10, f = 60.63893590226291\n",
      "Optimization restart 2/10, f = 60.638935907747495\n",
      "Optimization restart 3/10, f = 60.63893590141429\n",
      "Optimization restart 4/10, f = 60.63893590175956\n",
      "Optimization restart 5/10, f = 60.6389359021076\n",
      "Optimization restart 6/10, f = 60.63893590140539\n",
      "Optimization restart 7/10, f = 60.63893590142362\n",
      "Optimization restart 8/10, f = 60.638935903066205\n",
      "Optimization restart 9/10, f = 60.63893590140751\n",
      "Optimization restart 10/10, f = 60.63893591379849\n",
      "128\n"
     ]
    },
    {
     "data": {
      "application/vnd.jupyter.widget-view+json": {
       "model_id": "56fdd4470b774abeab7e5774a9102481",
       "version_major": 2,
       "version_minor": 0
      },
      "text/plain": [
       "HBox(children=(VBox(children=(IntProgress(value=0, max=1000), HTML(value=''))), Box(children=(HTML(value=''),)…"
      ]
     },
     "metadata": {},
     "output_type": "display_data"
    },
    {
     "name": "stdout",
     "output_type": "stream",
     "text": [
      "Optimization restart 1/10, f = 176.0682352568602\n",
      "Optimization restart 2/10, f = 176.06823520425894\n",
      "Optimization restart 3/10, f = 176.0682352080526\n",
      "Optimization restart 4/10, f = 176.06823520397563\n",
      "Optimization restart 5/10, f = 176.0682352039753\n",
      "Optimization restart 6/10, f = 176.06823520535391\n",
      "Optimization restart 7/10, f = 231.5963038126647\n",
      "Optimization restart 8/10, f = 176.06823520515255\n",
      "Optimization restart 9/10, f = 176.06823520419206\n",
      "Optimization restart 10/10, f = 176.06823520400636\n",
      "129\n"
     ]
    },
    {
     "data": {
      "application/vnd.jupyter.widget-view+json": {
       "model_id": "05e2777a11c94e2baeeea17831928ce2",
       "version_major": 2,
       "version_minor": 0
      },
      "text/plain": [
       "HBox(children=(VBox(children=(IntProgress(value=0, max=1000), HTML(value=''))), Box(children=(HTML(value=''),)…"
      ]
     },
     "metadata": {},
     "output_type": "display_data"
    },
    {
     "name": "stdout",
     "output_type": "stream",
     "text": [
      "Optimization restart 1/10, f = 128.18527432417815\n",
      "Optimization restart 2/10, f = 128.18527432399296\n",
      "Optimization restart 3/10, f = 128.18527432498297\n",
      "Optimization restart 4/10, f = 128.1852743235702\n",
      "Optimization restart 5/10, f = 128.18527432355296\n",
      "Optimization restart 6/10, f = 128.18527432357848\n",
      "Optimization restart 7/10, f = 128.1852743235791\n",
      "Optimization restart 8/10, f = 128.18527432354153\n",
      "Optimization restart 9/10, f = 128.18527432442252\n",
      "Optimization restart 10/10, f = 128.1852743252854\n",
      "130\n"
     ]
    },
    {
     "data": {
      "application/vnd.jupyter.widget-view+json": {
       "model_id": "0f7f7c3d68564443b504a3addd7b188b",
       "version_major": 2,
       "version_minor": 0
      },
      "text/plain": [
       "HBox(children=(VBox(children=(IntProgress(value=0, max=1000), HTML(value=''))), Box(children=(HTML(value=''),)…"
      ]
     },
     "metadata": {},
     "output_type": "display_data"
    },
    {
     "name": "stdout",
     "output_type": "stream",
     "text": [
      "Optimization restart 1/10, f = 15.56073698285324\n",
      "Optimization restart 2/10, f = 15.560736983223375\n",
      "Optimization restart 3/10, f = 15.560736982651669\n",
      "Optimization restart 4/10, f = 15.560736983122993\n",
      "Optimization restart 5/10, f = 15.560736982564102\n",
      "Optimization restart 6/10, f = 15.560736982546747\n",
      "Optimization restart 7/10, f = 15.560736982574525\n",
      "Optimization restart 8/10, f = 15.560736982540153\n",
      "Optimization restart 9/10, f = 15.560736982554708\n",
      "Optimization restart 10/10, f = 15.560736982726024\n",
      "131\n"
     ]
    },
    {
     "data": {
      "application/vnd.jupyter.widget-view+json": {
       "model_id": "28dfcb96ef934dbba7e67d848d1028df",
       "version_major": 2,
       "version_minor": 0
      },
      "text/plain": [
       "HBox(children=(VBox(children=(IntProgress(value=0, max=1000), HTML(value=''))), Box(children=(HTML(value=''),)…"
      ]
     },
     "metadata": {},
     "output_type": "display_data"
    },
    {
     "name": "stdout",
     "output_type": "stream",
     "text": [
      "Optimization restart 1/10, f = 4.97316789446127\n",
      "Optimization restart 2/10, f = 4.973167822550352\n",
      "Optimization restart 3/10, f = 4.973167948995657\n",
      "Optimization restart 4/10, f = 4.9731678437373805\n",
      "Optimization restart 5/10, f = 4.973167945459454\n",
      "Optimization restart 6/10, f = 4.97316784567599\n",
      "Optimization restart 7/10, f = 4.973167959286931\n",
      "Optimization restart 8/10, f = 4.973167937175257\n",
      "Optimization restart 9/10, f = 4.973167959483364\n",
      "Optimization restart 10/10, f = 4.973167922620269\n",
      "132\n"
     ]
    },
    {
     "data": {
      "application/vnd.jupyter.widget-view+json": {
       "model_id": "9bfd408e0fd54d548afc20b434e376b2",
       "version_major": 2,
       "version_minor": 0
      },
      "text/plain": [
       "HBox(children=(VBox(children=(IntProgress(value=0, max=1000), HTML(value=''))), Box(children=(HTML(value=''),)…"
      ]
     },
     "metadata": {},
     "output_type": "display_data"
    },
    {
     "name": "stdout",
     "output_type": "stream",
     "text": [
      "Optimization restart 1/10, f = 61.70699093689547\n",
      "Optimization restart 2/10, f = 61.7069909366483\n",
      "Optimization restart 3/10, f = 61.70699093641538\n",
      "Optimization restart 4/10, f = 61.70699093648892\n",
      "Optimization restart 5/10, f = 61.706990981020134\n",
      "Optimization restart 6/10, f = 61.70699094315119\n",
      "Optimization restart 7/10, f = 61.70699093699432\n",
      "Optimization restart 8/10, f = 61.70699093787164\n",
      "Optimization restart 9/10, f = 61.706990948075514\n",
      "Optimization restart 10/10, f = 61.70699094058975\n",
      "133\n"
     ]
    },
    {
     "data": {
      "application/vnd.jupyter.widget-view+json": {
       "model_id": "be324b76bdcf48ecb4e2fd2c3f53925c",
       "version_major": 2,
       "version_minor": 0
      },
      "text/plain": [
       "HBox(children=(VBox(children=(IntProgress(value=0, max=1000), HTML(value=''))), Box(children=(HTML(value=''),)…"
      ]
     },
     "metadata": {},
     "output_type": "display_data"
    },
    {
     "name": "stdout",
     "output_type": "stream",
     "text": [
      "Optimization restart 1/10, f = 80.35361150943149\n",
      "Optimization restart 2/10, f = 80.35361150867942\n",
      "Optimization restart 3/10, f = 80.35361150888369\n",
      "Optimization restart 4/10, f = 80.35361150856994\n",
      "Optimization restart 5/10, f = 80.35361150858142\n",
      "Optimization restart 6/10, f = 80.35361150857723\n",
      "Optimization restart 7/10, f = 80.35361152181815\n",
      "Optimization restart 8/10, f = 80.35361150856426\n",
      "Optimization restart 9/10, f = 80.3536115085939\n",
      "Optimization restart 10/10, f = 80.35361150855029\n",
      "134\n"
     ]
    },
    {
     "data": {
      "application/vnd.jupyter.widget-view+json": {
       "model_id": "f300238fe0244f8585ea3c85f3585eec",
       "version_major": 2,
       "version_minor": 0
      },
      "text/plain": [
       "HBox(children=(VBox(children=(IntProgress(value=0, max=1000), HTML(value=''))), Box(children=(HTML(value=''),)…"
      ]
     },
     "metadata": {},
     "output_type": "display_data"
    },
    {
     "name": "stdout",
     "output_type": "stream",
     "text": [
      "Optimization restart 1/10, f = -35.47731151352443\n",
      "Optimization restart 2/10, f = -35.47731152130868\n",
      "Optimization restart 3/10, f = -35.4773115216656\n",
      "Optimization restart 4/10, f = -35.47731152166175\n",
      "Optimization restart 5/10, f = -35.47731152138701\n",
      "Optimization restart 6/10, f = -35.47731152211384\n",
      "Optimization restart 7/10, f = -35.477311472942915\n",
      "Optimization restart 8/10, f = -35.47731152199543\n",
      "Optimization restart 9/10, f = -35.477311521669606\n",
      "Optimization restart 10/10, f = -35.477311521335196\n",
      "135\n"
     ]
    },
    {
     "data": {
      "application/vnd.jupyter.widget-view+json": {
       "model_id": "4e20eaa48b4e40ed8cb32a34cd8c8d51",
       "version_major": 2,
       "version_minor": 0
      },
      "text/plain": [
       "HBox(children=(VBox(children=(IntProgress(value=0, max=1000), HTML(value=''))), Box(children=(HTML(value=''),)…"
      ]
     },
     "metadata": {},
     "output_type": "display_data"
    },
    {
     "name": "stdout",
     "output_type": "stream",
     "text": [
      "Optimization restart 1/10, f = 13.109136654627463\n",
      "Optimization restart 2/10, f = 13.109136654629339\n",
      "Optimization restart 3/10, f = 13.109136654624464\n",
      "Optimization restart 4/10, f = 13.109136654628514\n",
      "Optimization restart 5/10, f = 13.109136654671573\n",
      "Optimization restart 6/10, f = 13.10913665462445\n",
      "Optimization restart 7/10, f = 13.109136655334481\n",
      "Optimization restart 8/10, f = 13.109136654670223\n",
      "Optimization restart 9/10, f = 13.109136655586667\n",
      "Optimization restart 10/10, f = 13.109136654624763\n",
      "136\n"
     ]
    },
    {
     "data": {
      "application/vnd.jupyter.widget-view+json": {
       "model_id": "2c34aed49043493580feac9113ea9ffd",
       "version_major": 2,
       "version_minor": 0
      },
      "text/plain": [
       "HBox(children=(VBox(children=(IntProgress(value=0, max=1000), HTML(value=''))), Box(children=(HTML(value=''),)…"
      ]
     },
     "metadata": {},
     "output_type": "display_data"
    },
    {
     "name": "stdout",
     "output_type": "stream",
     "text": [
      "Optimization restart 1/10, f = 162.33934453318568\n",
      "Optimization restart 2/10, f = 162.3393444374101\n",
      "Optimization restart 3/10, f = 162.3393445550095\n",
      "Optimization restart 4/10, f = 162.33934444205858\n",
      "Optimization restart 5/10, f = 162.33934443756064\n",
      "Optimization restart 6/10, f = 162.3393444383309\n",
      "Optimization restart 7/10, f = 162.3393445261424\n",
      "Optimization restart 8/10, f = 162.33934443742555\n",
      "Optimization restart 9/10, f = 162.33934443850325\n",
      "Optimization restart 10/10, f = 162.33934444428678\n",
      "137\n"
     ]
    },
    {
     "data": {
      "application/vnd.jupyter.widget-view+json": {
       "model_id": "56d3d2053ba64e3cbc4bfe8896099ffd",
       "version_major": 2,
       "version_minor": 0
      },
      "text/plain": [
       "HBox(children=(VBox(children=(IntProgress(value=0, max=1000), HTML(value=''))), Box(children=(HTML(value=''),)…"
      ]
     },
     "metadata": {},
     "output_type": "display_data"
    },
    {
     "name": "stdout",
     "output_type": "stream",
     "text": [
      "Optimization restart 1/10, f = -178.95582820567813\n",
      "Optimization restart 2/10, f = -178.9558282105292\n",
      "Optimization restart 3/10, f = -178.9558282108051\n",
      "Optimization restart 4/10, f = -178.9558282107272\n",
      "Optimization restart 5/10, f = -178.95581666298938\n",
      "Optimization restart 6/10, f = -178.95582819366822\n",
      "Optimization restart 7/10, f = -178.9558281794815\n",
      "Optimization restart 8/10, f = -178.95582821090542\n",
      "Optimization restart 9/10, f = -178.95582820834335\n",
      "Optimization restart 10/10, f = -178.95582820927345\n",
      "138\n"
     ]
    },
    {
     "data": {
      "application/vnd.jupyter.widget-view+json": {
       "model_id": "4fd1b62862194829ad564ed8bd8028c6",
       "version_major": 2,
       "version_minor": 0
      },
      "text/plain": [
       "HBox(children=(VBox(children=(IntProgress(value=0, max=1000), HTML(value=''))), Box(children=(HTML(value=''),)…"
      ]
     },
     "metadata": {},
     "output_type": "display_data"
    },
    {
     "name": "stdout",
     "output_type": "stream",
     "text": [
      "Optimization restart 1/10, f = 3.2724417567588793\n",
      "Optimization restart 2/10, f = 3.272441756825035\n",
      "Optimization restart 3/10, f = 3.272441756979244\n",
      "Optimization restart 4/10, f = 3.2724417567593003\n",
      "Optimization restart 5/10, f = 3.2724417568321313\n",
      "Optimization restart 6/10, f = 3.272441756765314\n",
      "Optimization restart 7/10, f = 3.2724417567644304\n",
      "Optimization restart 8/10, f = 3.2724417567597692\n",
      "Optimization restart 9/10, f = 3.2724417567701236\n",
      "Optimization restart 10/10, f = 3.2724417567820865\n",
      "139\n"
     ]
    },
    {
     "data": {
      "application/vnd.jupyter.widget-view+json": {
       "model_id": "122a057fb61e4af988b65c5e7545ffd0",
       "version_major": 2,
       "version_minor": 0
      },
      "text/plain": [
       "HBox(children=(VBox(children=(IntProgress(value=0, max=1000), HTML(value=''))), Box(children=(HTML(value=''),)…"
      ]
     },
     "metadata": {},
     "output_type": "display_data"
    },
    {
     "name": "stdout",
     "output_type": "stream",
     "text": [
      "Optimization restart 1/10, f = 35.31315608202661\n",
      "Optimization restart 2/10, f = 35.31315608202897\n",
      "Optimization restart 3/10, f = 35.31315608285916\n",
      "Optimization restart 4/10, f = 35.31315608202536\n",
      "Optimization restart 5/10, f = 35.3131560824564\n",
      "Optimization restart 6/10, f = 35.31315608214787\n",
      "Optimization restart 7/10, f = 35.313156085814626\n",
      "Optimization restart 8/10, f = 35.313156082166024\n",
      "Optimization restart 9/10, f = 35.31315608249403\n",
      "Optimization restart 10/10, f = 35.313156082027625\n",
      "140\n"
     ]
    },
    {
     "data": {
      "application/vnd.jupyter.widget-view+json": {
       "model_id": "039e14975c664a69b1a018dd687bf41f",
       "version_major": 2,
       "version_minor": 0
      },
      "text/plain": [
       "HBox(children=(VBox(children=(IntProgress(value=0, max=1000), HTML(value=''))), Box(children=(HTML(value=''),)…"
      ]
     },
     "metadata": {},
     "output_type": "display_data"
    },
    {
     "name": "stdout",
     "output_type": "stream",
     "text": [
      "Optimization restart 1/10, f = 224.30963377781418\n",
      "Optimization restart 2/10, f = 224.3096337792572\n",
      "Optimization restart 3/10, f = 224.3096340897937\n",
      "Optimization restart 4/10, f = 224.30963378607208\n",
      "Optimization restart 5/10, f = 224.30963377557228\n",
      "Optimization restart 6/10, f = 224.30963377544086\n",
      "Optimization restart 7/10, f = 224.3096337739913\n",
      "Optimization restart 8/10, f = 224.30963377272968\n",
      "Optimization restart 9/10, f = 224.3096337727287\n",
      "Optimization restart 10/10, f = 224.30963377296635\n",
      "141\n"
     ]
    },
    {
     "data": {
      "application/vnd.jupyter.widget-view+json": {
       "model_id": "8db5a0205077467b8d5bc85ebc272621",
       "version_major": 2,
       "version_minor": 0
      },
      "text/plain": [
       "HBox(children=(VBox(children=(IntProgress(value=0, max=1000), HTML(value=''))), Box(children=(HTML(value=''),)…"
      ]
     },
     "metadata": {},
     "output_type": "display_data"
    },
    {
     "name": "stdout",
     "output_type": "stream",
     "text": [
      "Optimization restart 1/10, f = 80.6590598845099\n",
      "Optimization restart 2/10, f = 80.65905988362684\n",
      "Optimization restart 3/10, f = 80.6590598838247\n",
      "Optimization restart 4/10, f = 80.65905988362765\n",
      "Optimization restart 5/10, f = 80.65905988423859\n",
      "Optimization restart 6/10, f = 80.65905988364264\n",
      "Optimization restart 7/10, f = 80.65905991838571\n",
      "Optimization restart 8/10, f = 80.65905988395467\n",
      "Optimization restart 9/10, f = 80.65905988378177\n",
      "Optimization restart 10/10, f = 80.6590598907099\n",
      "142\n"
     ]
    },
    {
     "data": {
      "application/vnd.jupyter.widget-view+json": {
       "model_id": "61fa209d94fc4b75ab8177f56d6cc914",
       "version_major": 2,
       "version_minor": 0
      },
      "text/plain": [
       "HBox(children=(VBox(children=(IntProgress(value=0, max=1000), HTML(value=''))), Box(children=(HTML(value=''),)…"
      ]
     },
     "metadata": {},
     "output_type": "display_data"
    },
    {
     "name": "stdout",
     "output_type": "stream",
     "text": [
      "Optimization restart 1/10, f = 53.67402623365395\n",
      "Optimization restart 2/10, f = 53.67402623718068\n",
      "Optimization restart 3/10, f = 53.674026232997434\n",
      "Optimization restart 4/10, f = 53.674026233119676\n",
      "Optimization restart 5/10, f = 53.674026233862044\n",
      "Optimization restart 6/10, f = 53.67402624103498\n",
      "Optimization restart 7/10, f = 53.67402623465344\n",
      "Optimization restart 8/10, f = 53.67402623299945\n",
      "Optimization restart 9/10, f = 53.67402623378564\n",
      "Optimization restart 10/10, f = 53.674026236915076\n",
      "143\n"
     ]
    },
    {
     "data": {
      "application/vnd.jupyter.widget-view+json": {
       "model_id": "a9ec37485cfa4a199ace8cc31672044e",
       "version_major": 2,
       "version_minor": 0
      },
      "text/plain": [
       "HBox(children=(VBox(children=(IntProgress(value=0, max=1000), HTML(value=''))), Box(children=(HTML(value=''),)…"
      ]
     },
     "metadata": {},
     "output_type": "display_data"
    },
    {
     "name": "stdout",
     "output_type": "stream",
     "text": [
      "Optimization restart 1/10, f = 112.66070010989932\n",
      "Optimization restart 2/10, f = 112.6607001012054\n",
      "Optimization restart 3/10, f = 112.66070009146046\n",
      "Optimization restart 4/10, f = 112.66070009225837\n",
      "Optimization restart 5/10, f = 112.66070009148103\n",
      "Optimization restart 6/10, f = 112.66070009144335\n",
      "Optimization restart 7/10, f = 112.66070009142675\n",
      "Optimization restart 8/10, f = 112.66070009197239\n",
      "Optimization restart 9/10, f = 112.66070015505784\n",
      "Optimization restart 10/10, f = 112.660700091748\n",
      "144\n",
      "Could not compute spearmans matrix, for df BR_0001351\n",
      "145\n"
     ]
    },
    {
     "data": {
      "application/vnd.jupyter.widget-view+json": {
       "model_id": "f6550d696231437aa7a7ac04def82b5e",
       "version_major": 2,
       "version_minor": 0
      },
      "text/plain": [
       "HBox(children=(VBox(children=(IntProgress(value=0, max=1000), HTML(value=''))), Box(children=(HTML(value=''),)…"
      ]
     },
     "metadata": {},
     "output_type": "display_data"
    },
    {
     "name": "stdout",
     "output_type": "stream",
     "text": [
      "Optimization restart 1/10, f = 116.50759350194278\n",
      "Optimization restart 2/10, f = 116.50759350395384\n",
      "Optimization restart 3/10, f = 116.50759350196432\n",
      "Optimization restart 4/10, f = 116.50759350193789\n",
      "Optimization restart 5/10, f = 116.50759350832925\n",
      "Optimization restart 6/10, f = 116.50759350222529\n",
      "Optimization restart 7/10, f = 116.50759350728816\n",
      "Optimization restart 8/10, f = 116.50759350243922\n",
      "Optimization restart 9/10, f = 116.50759350198973\n",
      "Optimization restart 10/10, f = 116.50759350198408\n",
      "146\n"
     ]
    },
    {
     "data": {
      "application/vnd.jupyter.widget-view+json": {
       "model_id": "368f28ba89cb4542bb4b33d44dcb4705",
       "version_major": 2,
       "version_minor": 0
      },
      "text/plain": [
       "HBox(children=(VBox(children=(IntProgress(value=0, max=1000), HTML(value=''))), Box(children=(HTML(value=''),)…"
      ]
     },
     "metadata": {},
     "output_type": "display_data"
    },
    {
     "name": "stdout",
     "output_type": "stream",
     "text": [
      "Optimization restart 1/10, f = 74.20666103230415\n",
      "Optimization restart 2/10, f = 74.20666103234313\n",
      "Optimization restart 3/10, f = 74.20666103230117\n",
      "Optimization restart 4/10, f = 74.20666103233299\n",
      "Optimization restart 5/10, f = 74.20666103226293\n",
      "Optimization restart 6/10, f = 74.20666104353145\n",
      "Optimization restart 7/10, f = 74.20666103226571\n",
      "Optimization restart 8/10, f = 74.20666103399404\n",
      "Optimization restart 9/10, f = 74.20666103268411\n",
      "Optimization restart 10/10, f = 74.20666108405472\n",
      "147\n"
     ]
    },
    {
     "data": {
      "application/vnd.jupyter.widget-view+json": {
       "model_id": "0cfe0c68ba9143b68764c0f9b1aed919",
       "version_major": 2,
       "version_minor": 0
      },
      "text/plain": [
       "HBox(children=(VBox(children=(IntProgress(value=0, max=1000), HTML(value=''))), Box(children=(HTML(value=''),)…"
      ]
     },
     "metadata": {},
     "output_type": "display_data"
    },
    {
     "name": "stdout",
     "output_type": "stream",
     "text": [
      "Optimization restart 1/10, f = 34.478567807211064\n",
      "Optimization restart 2/10, f = 34.478567808080015\n",
      "Optimization restart 3/10, f = 34.478567806822426\n",
      "Optimization restart 4/10, f = 34.47856780682608\n",
      "Optimization restart 5/10, f = 34.47856780915914\n",
      "Optimization restart 6/10, f = 34.47856780682439\n",
      "Optimization restart 7/10, f = 34.478567806934635\n",
      "Optimization restart 8/10, f = 34.478567807434004\n",
      "Optimization restart 9/10, f = 34.47856780683282\n",
      "Optimization restart 10/10, f = 34.47856780682675\n",
      "148\n"
     ]
    },
    {
     "data": {
      "application/vnd.jupyter.widget-view+json": {
       "model_id": "a3aeca69cb6e444b8a803b9a191c8fd2",
       "version_major": 2,
       "version_minor": 0
      },
      "text/plain": [
       "HBox(children=(VBox(children=(IntProgress(value=0, max=1000), HTML(value=''))), Box(children=(HTML(value=''),)…"
      ]
     },
     "metadata": {},
     "output_type": "display_data"
    },
    {
     "name": "stdout",
     "output_type": "stream",
     "text": [
      "Optimization restart 1/10, f = 81.21756573467718\n",
      "Optimization restart 2/10, f = 81.21756573470748\n",
      "Optimization restart 3/10, f = 81.21756573467724\n",
      "Optimization restart 4/10, f = 81.21756573479917\n",
      "Optimization restart 5/10, f = 81.21756574456955\n",
      "Optimization restart 6/10, f = 81.21756573470984\n",
      "Optimization restart 7/10, f = 81.21756573467724\n",
      "Optimization restart 8/10, f = 81.21756573468014\n",
      "Optimization restart 9/10, f = 81.21756573573376\n",
      "Optimization restart 10/10, f = 81.21756573692707\n",
      "149\n"
     ]
    },
    {
     "data": {
      "application/vnd.jupyter.widget-view+json": {
       "model_id": "9cdfe504de3a48548a71e4db694f0094",
       "version_major": 2,
       "version_minor": 0
      },
      "text/plain": [
       "HBox(children=(VBox(children=(IntProgress(value=0, max=1000), HTML(value=''))), Box(children=(HTML(value=''),)…"
      ]
     },
     "metadata": {},
     "output_type": "display_data"
    },
    {
     "name": "stdout",
     "output_type": "stream",
     "text": [
      "Optimization restart 1/10, f = 379.2249356799369\n",
      "Optimization restart 2/10, f = 379.2249356788124\n",
      "Optimization restart 3/10, f = 379.2249356996085\n",
      "Optimization restart 4/10, f = 379.22493577595264\n",
      "Optimization restart 5/10, f = 379.22493567878576\n",
      "Optimization restart 6/10, f = 379.2249356848097\n",
      "Optimization restart 7/10, f = 379.224935688159\n",
      "Optimization restart 8/10, f = 379.22493567600327\n",
      "Optimization restart 9/10, f = 379.2249356810237\n",
      "Optimization restart 10/10, f = 379.22493569146405\n",
      "150\n"
     ]
    },
    {
     "data": {
      "application/vnd.jupyter.widget-view+json": {
       "model_id": "0ac9c0929537429da8f1a38098430e0a",
       "version_major": 2,
       "version_minor": 0
      },
      "text/plain": [
       "HBox(children=(VBox(children=(IntProgress(value=0, max=1000), HTML(value=''))), Box(children=(HTML(value=''),)…"
      ]
     },
     "metadata": {},
     "output_type": "display_data"
    },
    {
     "name": "stdout",
     "output_type": "stream",
     "text": [
      "Optimization restart 1/10, f = 30.696655146457545\n",
      "Optimization restart 2/10, f = 30.696655148652052\n",
      "Optimization restart 3/10, f = 30.696655160383408\n",
      "Optimization restart 4/10, f = 30.696655146806158\n",
      "Optimization restart 5/10, f = 30.696655147293843\n",
      "Optimization restart 6/10, f = 30.69665514654313\n",
      "Optimization restart 7/10, f = 30.696655147863947\n",
      "Optimization restart 8/10, f = 30.69665514644055\n",
      "Optimization restart 9/10, f = 30.696655146409714\n",
      "Optimization restart 10/10, f = 30.696655148459524\n",
      "151\n"
     ]
    },
    {
     "data": {
      "application/vnd.jupyter.widget-view+json": {
       "model_id": "fd8f84050d714cb698c9a25ed7040df4",
       "version_major": 2,
       "version_minor": 0
      },
      "text/plain": [
       "HBox(children=(VBox(children=(IntProgress(value=0, max=1000), HTML(value=''))), Box(children=(HTML(value=''),)…"
      ]
     },
     "metadata": {},
     "output_type": "display_data"
    },
    {
     "name": "stdout",
     "output_type": "stream",
     "text": [
      "Optimization restart 1/10, f = 148.13815648169418\n",
      "Optimization restart 2/10, f = 148.13815648174096\n",
      "Optimization restart 3/10, f = 148.1381564827963\n",
      "Optimization restart 4/10, f = 148.13815648242925\n",
      "Optimization restart 5/10, f = 148.1381565019655\n",
      "Optimization restart 6/10, f = 148.1381564818238\n",
      "Optimization restart 7/10, f = 148.13815648167113\n",
      "Optimization restart 8/10, f = 148.1381564822401\n",
      "Optimization restart 9/10, f = 148.13815648347676\n",
      "Optimization restart 10/10, f = 148.1381564821199\n",
      "152\n",
      "could not train the model for df BR_0001748\n",
      "153\n"
     ]
    },
    {
     "data": {
      "application/vnd.jupyter.widget-view+json": {
       "model_id": "bfeda9e95eec4a5f8362c5233d3ecce9",
       "version_major": 2,
       "version_minor": 0
      },
      "text/plain": [
       "HBox(children=(VBox(children=(IntProgress(value=0, max=1000), HTML(value=''))), Box(children=(HTML(value=''),)…"
      ]
     },
     "metadata": {},
     "output_type": "display_data"
    },
    {
     "name": "stdout",
     "output_type": "stream",
     "text": [
      "Optimization restart 1/10, f = 23.74637211291449\n",
      "Optimization restart 2/10, f = 23.7463721127758\n",
      "Optimization restart 3/10, f = 23.746372112777976\n",
      "Optimization restart 4/10, f = 23.7463721127835\n",
      "Optimization restart 5/10, f = 23.74637211277581\n",
      "Optimization restart 6/10, f = 23.7463721131426\n",
      "Optimization restart 7/10, f = 23.74637211277401\n",
      "Optimization restart 8/10, f = 23.74637211313869\n",
      "Optimization restart 9/10, f = 23.746372112797697\n",
      "Optimization restart 10/10, f = 23.746372116035122\n",
      "154\n"
     ]
    },
    {
     "data": {
      "application/vnd.jupyter.widget-view+json": {
       "model_id": "b611a4e7f8304c02a0a453adc1c32ac8",
       "version_major": 2,
       "version_minor": 0
      },
      "text/plain": [
       "HBox(children=(VBox(children=(IntProgress(value=0, max=1000), HTML(value=''))), Box(children=(HTML(value=''),)…"
      ]
     },
     "metadata": {},
     "output_type": "display_data"
    },
    {
     "name": "stdout",
     "output_type": "stream",
     "text": [
      "Optimization restart 1/10, f = 47.421208657172286\n",
      "Optimization restart 2/10, f = 47.421208656563\n",
      "Optimization restart 3/10, f = 47.42120865761044\n",
      "Optimization restart 4/10, f = 47.42120865669497\n",
      "Optimization restart 5/10, f = 47.421208656724275\n",
      "Optimization restart 6/10, f = 47.4212086568647\n",
      "Optimization restart 7/10, f = 47.421208656975786\n",
      "Optimization restart 8/10, f = 47.42120865919971\n",
      "Optimization restart 9/10, f = 47.421208656604456\n",
      "Optimization restart 10/10, f = 47.42120865754216\n",
      "155\n"
     ]
    },
    {
     "data": {
      "application/vnd.jupyter.widget-view+json": {
       "model_id": "13077e03e7774966a4d3f1687d411312",
       "version_major": 2,
       "version_minor": 0
      },
      "text/plain": [
       "HBox(children=(VBox(children=(IntProgress(value=0, max=1000), HTML(value=''))), Box(children=(HTML(value=''),)…"
      ]
     },
     "metadata": {},
     "output_type": "display_data"
    },
    {
     "name": "stdout",
     "output_type": "stream",
     "text": [
      "Optimization restart 1/10, f = 91.5407782441564\n",
      "Optimization restart 2/10, f = 91.54077824345094\n",
      "Optimization restart 3/10, f = 91.54077824343915\n",
      "Optimization restart 4/10, f = 91.5407782464783\n",
      "Optimization restart 5/10, f = 91.5407782434402\n",
      "Optimization restart 6/10, f = 91.54077824360996\n",
      "Optimization restart 7/10, f = 91.54077824351401\n",
      "Optimization restart 8/10, f = 91.5407782436082\n",
      "Optimization restart 9/10, f = 91.54077824342224\n",
      "Optimization restart 10/10, f = 91.54077833591307\n",
      "156\n"
     ]
    },
    {
     "data": {
      "application/vnd.jupyter.widget-view+json": {
       "model_id": "55355e98b1c14f9f831af578b0bca7bd",
       "version_major": 2,
       "version_minor": 0
      },
      "text/plain": [
       "HBox(children=(VBox(children=(IntProgress(value=0, max=1000), HTML(value=''))), Box(children=(HTML(value=''),)…"
      ]
     },
     "metadata": {},
     "output_type": "display_data"
    },
    {
     "name": "stdout",
     "output_type": "stream",
     "text": [
      "Optimization restart 1/10, f = 102.38057762887888\n",
      "Optimization restart 2/10, f = 102.38057758650616\n",
      "Optimization restart 3/10, f = 102.38057766636122\n",
      "Optimization restart 4/10, f = 102.38057760208495\n",
      "Optimization restart 5/10, f = 102.38057758690168\n",
      "Optimization restart 6/10, f = 102.38057758506218\n",
      "Optimization restart 7/10, f = 102.38057758616287\n",
      "Optimization restart 8/10, f = 102.38057799388383\n",
      "Optimization restart 9/10, f = 102.38057758508393\n",
      "Optimization restart 10/10, f = 102.38057758522129\n",
      "157\n"
     ]
    },
    {
     "data": {
      "application/vnd.jupyter.widget-view+json": {
       "model_id": "828d20901dbd473c8a7183692d82030e",
       "version_major": 2,
       "version_minor": 0
      },
      "text/plain": [
       "HBox(children=(VBox(children=(IntProgress(value=0, max=1000), HTML(value=''))), Box(children=(HTML(value=''),)…"
      ]
     },
     "metadata": {},
     "output_type": "display_data"
    },
    {
     "name": "stdout",
     "output_type": "stream",
     "text": [
      "Optimization restart 1/10, f = 220.46526413581728\n",
      "Optimization restart 2/10, f = 220.46526413567037\n",
      "Optimization restart 3/10, f = 220.46526413889362\n",
      "Optimization restart 4/10, f = 220.465264136936\n",
      "Optimization restart 5/10, f = 220.46526413566946\n",
      "Optimization restart 6/10, f = 220.46526413666396\n",
      "Optimization restart 7/10, f = 220.46526416607816\n",
      "Optimization restart 8/10, f = 220.46526418599686\n",
      "Optimization restart 9/10, f = 220.46526414688194\n",
      "Optimization restart 10/10, f = 220.46526413601418\n",
      "158\n"
     ]
    },
    {
     "data": {
      "application/vnd.jupyter.widget-view+json": {
       "model_id": "b7ed9fabb6334db2a49bf8f20c2a7502",
       "version_major": 2,
       "version_minor": 0
      },
      "text/plain": [
       "HBox(children=(VBox(children=(IntProgress(value=0, max=1000), HTML(value=''))), Box(children=(HTML(value=''),)…"
      ]
     },
     "metadata": {},
     "output_type": "display_data"
    },
    {
     "name": "stdout",
     "output_type": "stream",
     "text": [
      "Optimization restart 1/10, f = 123.44265857650302\n",
      "Optimization restart 2/10, f = 123.4426584613125\n",
      "Optimization restart 3/10, f = 123.44265845674356\n",
      "Optimization restart 4/10, f = 165.1689152235487\n",
      "Optimization restart 5/10, f = 123.44265845528052\n",
      "Optimization restart 6/10, f = 123.4426584804533\n",
      "Optimization restart 7/10, f = 123.44265846489225\n",
      "Optimization restart 8/10, f = 123.44265845539812\n",
      "Optimization restart 9/10, f = 123.44265845532901\n",
      "Optimization restart 10/10, f = 123.44265852722933\n",
      "159\n"
     ]
    },
    {
     "data": {
      "application/vnd.jupyter.widget-view+json": {
       "model_id": "da166ebb6f50476c829ef20e1ae60d09",
       "version_major": 2,
       "version_minor": 0
      },
      "text/plain": [
       "HBox(children=(VBox(children=(IntProgress(value=0, max=1000), HTML(value=''))), Box(children=(HTML(value=''),)…"
      ]
     },
     "metadata": {},
     "output_type": "display_data"
    },
    {
     "name": "stdout",
     "output_type": "stream",
     "text": [
      "Optimization restart 1/10, f = 4.57135477900393\n",
      "Optimization restart 2/10, f = 4.571354779418324\n",
      "Optimization restart 3/10, f = 4.571354779991517\n",
      "Optimization restart 4/10, f = 4.571354778981061\n",
      "Optimization restart 5/10, f = 4.571354779469061\n",
      "Optimization restart 6/10, f = 4.571354778975296\n",
      "Optimization restart 7/10, f = 4.571354778975882\n",
      "Optimization restart 8/10, f = 4.571354779315639\n",
      "Optimization restart 9/10, f = 4.571354778972129\n",
      "Optimization restart 10/10, f = 4.571354778973461\n",
      "160\n"
     ]
    },
    {
     "data": {
      "application/vnd.jupyter.widget-view+json": {
       "model_id": "eb354b91f66d4ad98a6275eb5e479f75",
       "version_major": 2,
       "version_minor": 0
      },
      "text/plain": [
       "HBox(children=(VBox(children=(IntProgress(value=0, max=1000), HTML(value=''))), Box(children=(HTML(value=''),)…"
      ]
     },
     "metadata": {},
     "output_type": "display_data"
    },
    {
     "name": "stdout",
     "output_type": "stream",
     "text": [
      "Optimization restart 1/10, f = 21.974639384462595\n",
      "Optimization restart 2/10, f = 21.97463940333517\n",
      "Optimization restart 3/10, f = 21.97463938445305\n",
      "Optimization restart 4/10, f = 21.974639384481748\n",
      "Optimization restart 5/10, f = 21.974639384479282\n",
      "Optimization restart 6/10, f = 21.974639384471686\n",
      "Optimization restart 7/10, f = 21.974639384453013\n",
      "Optimization restart 8/10, f = 21.97463938470712\n",
      "Optimization restart 9/10, f = 21.9746393863854\n",
      "Optimization restart 10/10, f = 21.974639385845542\n",
      "161\n"
     ]
    },
    {
     "data": {
      "application/vnd.jupyter.widget-view+json": {
       "model_id": "45b179af3cb54dfb837eb4e29199ac61",
       "version_major": 2,
       "version_minor": 0
      },
      "text/plain": [
       "HBox(children=(VBox(children=(IntProgress(value=0, max=1000), HTML(value=''))), Box(children=(HTML(value=''),)…"
      ]
     },
     "metadata": {},
     "output_type": "display_data"
    },
    {
     "name": "stdout",
     "output_type": "stream",
     "text": [
      "Optimization restart 1/10, f = 150.54959364626188\n",
      "Optimization restart 2/10, f = 150.5495936550725\n",
      "Optimization restart 3/10, f = 150.5495936459938\n",
      "Optimization restart 4/10, f = 150.54959365774184\n",
      "Optimization restart 5/10, f = 150.54959388762342\n",
      "Optimization restart 6/10, f = 150.54959392381912\n",
      "Optimization restart 7/10, f = 150.54959364839092\n",
      "Optimization restart 8/10, f = 150.54959364709964\n",
      "Optimization restart 9/10, f = 150.5495936461311\n",
      "Optimization restart 10/10, f = 150.54959367830585\n",
      "162\n"
     ]
    },
    {
     "data": {
      "application/vnd.jupyter.widget-view+json": {
       "model_id": "ca83e6159a304520ad8c7aa23425768a",
       "version_major": 2,
       "version_minor": 0
      },
      "text/plain": [
       "HBox(children=(VBox(children=(IntProgress(value=0, max=1000), HTML(value=''))), Box(children=(HTML(value=''),)…"
      ]
     },
     "metadata": {},
     "output_type": "display_data"
    },
    {
     "name": "stdout",
     "output_type": "stream",
     "text": [
      "Optimization restart 1/10, f = 50.264445487003094\n",
      "Optimization restart 2/10, f = 50.264445486507356\n",
      "Optimization restart 3/10, f = 50.26444553863856\n",
      "Optimization restart 4/10, f = 50.264445490005784\n",
      "Optimization restart 5/10, f = 50.26444548688327\n",
      "Optimization restart 6/10, f = 50.26444548669047\n",
      "Optimization restart 7/10, f = 50.26444548647947\n",
      "Optimization restart 8/10, f = 50.2644454864498\n",
      "Optimization restart 9/10, f = 50.26444548670457\n",
      "Optimization restart 10/10, f = 50.26444548731325\n",
      "163\n"
     ]
    },
    {
     "data": {
      "application/vnd.jupyter.widget-view+json": {
       "model_id": "03126601eaab4b918b8ccb467e43c7df",
       "version_major": 2,
       "version_minor": 0
      },
      "text/plain": [
       "HBox(children=(VBox(children=(IntProgress(value=0, max=1000), HTML(value=''))), Box(children=(HTML(value=''),)…"
      ]
     },
     "metadata": {},
     "output_type": "display_data"
    },
    {
     "name": "stdout",
     "output_type": "stream",
     "text": [
      "Optimization restart 1/10, f = 33.03495650510512\n",
      "Optimization restart 2/10, f = 33.034956505996156\n",
      "Optimization restart 3/10, f = 33.03495650818015\n",
      "Optimization restart 4/10, f = 33.03495650505654\n",
      "Optimization restart 5/10, f = 33.03495650966679\n",
      "Optimization restart 6/10, f = 33.034956505150106\n",
      "Optimization restart 7/10, f = 33.03495650509713\n",
      "Optimization restart 8/10, f = 33.03495650516476\n",
      "Optimization restart 9/10, f = 33.034956505062766\n",
      "Optimization restart 10/10, f = 33.034956505070596\n",
      "164\n"
     ]
    },
    {
     "data": {
      "application/vnd.jupyter.widget-view+json": {
       "model_id": "b28701094731416cbed42fca5f7eb732",
       "version_major": 2,
       "version_minor": 0
      },
      "text/plain": [
       "HBox(children=(VBox(children=(IntProgress(value=0, max=1000), HTML(value=''))), Box(children=(HTML(value=''),)…"
      ]
     },
     "metadata": {},
     "output_type": "display_data"
    },
    {
     "name": "stdout",
     "output_type": "stream",
     "text": [
      "Optimization restart 1/10, f = 74.33046566501051\n",
      "Optimization restart 2/10, f = 74.33046566569699\n",
      "Optimization restart 3/10, f = 74.33046569521434\n",
      "Optimization restart 4/10, f = 74.33046566466565\n",
      "Optimization restart 5/10, f = 74.33046566478941\n",
      "Optimization restart 6/10, f = 74.3304656648582\n",
      "Optimization restart 7/10, f = 74.33046566565653\n",
      "Optimization restart 8/10, f = 74.33046566466734\n",
      "Optimization restart 9/10, f = 74.33046566539352\n",
      "Optimization restart 10/10, f = 74.3304656647133\n",
      "165\n"
     ]
    },
    {
     "data": {
      "application/vnd.jupyter.widget-view+json": {
       "model_id": "79bee6810eb74bae8f0deab436028ddf",
       "version_major": 2,
       "version_minor": 0
      },
      "text/plain": [
       "HBox(children=(VBox(children=(IntProgress(value=0, max=1000), HTML(value=''))), Box(children=(HTML(value=''),)…"
      ]
     },
     "metadata": {},
     "output_type": "display_data"
    },
    {
     "name": "stdout",
     "output_type": "stream",
     "text": [
      "Optimization restart 1/10, f = 143.95022146451785\n",
      "Optimization restart 2/10, f = 143.95022146442545\n",
      "Optimization restart 3/10, f = 143.95022146440368\n",
      "Optimization restart 4/10, f = 143.95022146466027\n",
      "Optimization restart 5/10, f = 143.95022147136604\n",
      "Optimization restart 6/10, f = 143.95022146460323\n",
      "Optimization restart 7/10, f = 143.95022273260736\n",
      "Optimization restart 8/10, f = 143.950221465514\n",
      "Optimization restart 9/10, f = 143.95022330497653\n",
      "Optimization restart 10/10, f = 143.9502214644825\n",
      "166\n"
     ]
    },
    {
     "data": {
      "application/vnd.jupyter.widget-view+json": {
       "model_id": "74f51f720fc14e819fbac63afe8ff48e",
       "version_major": 2,
       "version_minor": 0
      },
      "text/plain": [
       "HBox(children=(VBox(children=(IntProgress(value=0, max=1000), HTML(value=''))), Box(children=(HTML(value=''),)…"
      ]
     },
     "metadata": {},
     "output_type": "display_data"
    },
    {
     "name": "stdout",
     "output_type": "stream",
     "text": [
      "Optimization restart 1/10, f = 51.70967139891695\n",
      "Optimization restart 2/10, f = 51.70967139900739\n",
      "Optimization restart 3/10, f = 51.70967139919361\n",
      "Optimization restart 4/10, f = 51.709671401138166\n",
      "Optimization restart 5/10, f = 51.70967139878769\n",
      "Optimization restart 6/10, f = 51.709671402322044\n"
     ]
    },
    {
     "name": "stderr",
     "output_type": "stream",
     "text": [
      " C:\\Users\\marku\\Anaconda3\\lib\\site-packages\\GPy\\kern\\src\\stationary.py:168: RuntimeWarning:overflow encountered in true_divide\n",
      " C:\\Users\\marku\\Anaconda3\\lib\\site-packages\\GPy\\kern\\src\\stationary.py:468: RuntimeWarning:overflow encountered in multiply\n",
      " C:\\Users\\marku\\Anaconda3\\lib\\site-packages\\GPy\\kern\\src\\stationary.py:468: RuntimeWarning:invalid value encountered in multiply\n"
     ]
    },
    {
     "name": "stdout",
     "output_type": "stream",
     "text": [
      "Optimization restart 7/10, f = 51.75245694699069\n",
      "Optimization restart 8/10, f = 51.70967139919583\n",
      "Optimization restart 9/10, f = 51.70967145937402\n",
      "Optimization restart 10/10, f = 51.70967139950278\n",
      "167\n"
     ]
    },
    {
     "data": {
      "application/vnd.jupyter.widget-view+json": {
       "model_id": "597c2e78a655499aabb21c9e468dc6a3",
       "version_major": 2,
       "version_minor": 0
      },
      "text/plain": [
       "HBox(children=(VBox(children=(IntProgress(value=0, max=1000), HTML(value=''))), Box(children=(HTML(value=''),)…"
      ]
     },
     "metadata": {},
     "output_type": "display_data"
    },
    {
     "name": "stdout",
     "output_type": "stream",
     "text": [
      "Optimization restart 1/10, f = 23.478513395559787\n",
      "Optimization restart 2/10, f = 23.47851339500255\n",
      "Optimization restart 3/10, f = 23.47851339521091\n",
      "Optimization restart 4/10, f = 23.478513394982144\n",
      "Optimization restart 5/10, f = 23.478513395006203\n",
      "Optimization restart 6/10, f = 23.47851339501665\n",
      "Optimization restart 7/10, f = 23.47851339500295\n",
      "Optimization restart 8/10, f = 23.478513397058563\n",
      "Optimization restart 9/10, f = 23.478513395068447\n",
      "Optimization restart 10/10, f = 23.478513395046534\n",
      "168\n"
     ]
    },
    {
     "data": {
      "application/vnd.jupyter.widget-view+json": {
       "model_id": "37085f1e5ba3499c8120378b3666c083",
       "version_major": 2,
       "version_minor": 0
      },
      "text/plain": [
       "HBox(children=(VBox(children=(IntProgress(value=0, max=1000), HTML(value=''))), Box(children=(HTML(value=''),)…"
      ]
     },
     "metadata": {},
     "output_type": "display_data"
    },
    {
     "name": "stdout",
     "output_type": "stream",
     "text": [
      "Optimization restart 1/10, f = 179.11721507053753\n",
      "Optimization restart 2/10, f = 179.11721507086963\n",
      "Optimization restart 3/10, f = 179.11721507159422\n",
      "Optimization restart 4/10, f = 179.1172150722964\n",
      "Optimization restart 5/10, f = 179.11721507022196\n",
      "Optimization restart 6/10, f = 179.11721507107643\n",
      "Optimization restart 7/10, f = 179.11721507047366\n",
      "Optimization restart 8/10, f = 179.1172151042538\n",
      "Optimization restart 9/10, f = 179.11721507036444\n",
      "Optimization restart 10/10, f = 179.1172150703262\n",
      "169\n"
     ]
    },
    {
     "data": {
      "application/vnd.jupyter.widget-view+json": {
       "model_id": "d5bea404f67d4ca4ae4d15f828d83de6",
       "version_major": 2,
       "version_minor": 0
      },
      "text/plain": [
       "HBox(children=(VBox(children=(IntProgress(value=0, max=1000), HTML(value=''))), Box(children=(HTML(value=''),)…"
      ]
     },
     "metadata": {},
     "output_type": "display_data"
    },
    {
     "name": "stdout",
     "output_type": "stream",
     "text": [
      "Optimization restart 1/10, f = 27.175141762434446\n",
      "Optimization restart 2/10, f = 27.175141762337457\n",
      "Optimization restart 3/10, f = 27.17514176233431\n",
      "Optimization restart 4/10, f = 27.175141762717363\n",
      "Optimization restart 5/10, f = 27.1751417638908\n",
      "Optimization restart 6/10, f = 27.175141762421106\n",
      "Optimization restart 7/10, f = 27.175141762335493\n",
      "Optimization restart 8/10, f = 27.175141763256953\n",
      "Optimization restart 9/10, f = 27.175141762431725\n",
      "Optimization restart 10/10, f = 27.17514176244464\n",
      "170\n"
     ]
    },
    {
     "data": {
      "application/vnd.jupyter.widget-view+json": {
       "model_id": "5588b0c762314ab28e8f737e7a52e37b",
       "version_major": 2,
       "version_minor": 0
      },
      "text/plain": [
       "HBox(children=(VBox(children=(IntProgress(value=0, max=1000), HTML(value=''))), Box(children=(HTML(value=''),)…"
      ]
     },
     "metadata": {},
     "output_type": "display_data"
    },
    {
     "name": "stdout",
     "output_type": "stream",
     "text": [
      "Optimization restart 1/10, f = 0.3202655143702664\n",
      "Optimization restart 2/10, f = 0.3202655144072075\n",
      "Optimization restart 3/10, f = 0.32026551431312456\n",
      "Optimization restart 4/10, f = 0.320265514432009\n",
      "Optimization restart 5/10, f = 0.32026551433093786\n",
      "Optimization restart 6/10, f = 0.32026551437845896\n",
      "Optimization restart 7/10, f = 0.3202655143069961\n",
      "Optimization restart 8/10, f = 0.3202655148403899\n",
      "Optimization restart 9/10, f = 0.3202655143399511\n",
      "Optimization restart 10/10, f = 0.3202655143749489\n",
      "171\n"
     ]
    },
    {
     "data": {
      "application/vnd.jupyter.widget-view+json": {
       "model_id": "e1e05e37ce254deeac0dfbc41004c787",
       "version_major": 2,
       "version_minor": 0
      },
      "text/plain": [
       "HBox(children=(VBox(children=(IntProgress(value=0, max=1000), HTML(value=''))), Box(children=(HTML(value=''),)…"
      ]
     },
     "metadata": {},
     "output_type": "display_data"
    },
    {
     "name": "stdout",
     "output_type": "stream",
     "text": [
      "Optimization restart 1/10, f = 227.64605543061361\n",
      "Optimization restart 2/10, f = 227.6460554321941\n",
      "Optimization restart 3/10, f = 227.6460554731832\n",
      "Optimization restart 4/10, f = 227.64605566991656\n",
      "Optimization restart 5/10, f = 227.64605543024322\n",
      "Optimization restart 6/10, f = 227.64605543042092\n",
      "Optimization restart 7/10, f = 227.6460554307938\n",
      "Optimization restart 8/10, f = 227.64605568563917\n",
      "Optimization restart 9/10, f = 227.64605566100244\n",
      "Optimization restart 10/10, f = 227.64605543024172\n",
      "172\n"
     ]
    },
    {
     "data": {
      "application/vnd.jupyter.widget-view+json": {
       "model_id": "1d83488a7ef7407cb2423bd40bdda1d4",
       "version_major": 2,
       "version_minor": 0
      },
      "text/plain": [
       "HBox(children=(VBox(children=(IntProgress(value=0, max=1000), HTML(value=''))), Box(children=(HTML(value=''),)…"
      ]
     },
     "metadata": {},
     "output_type": "display_data"
    },
    {
     "name": "stdout",
     "output_type": "stream",
     "text": [
      "Optimization restart 1/10, f = 100.40593464138192\n",
      "Optimization restart 2/10, f = 100.40593464140713\n",
      "Optimization restart 3/10, f = 100.40593464085435\n",
      "Optimization restart 4/10, f = 100.40593464085677\n",
      "Optimization restart 5/10, f = 100.40593464065331\n",
      "Optimization restart 6/10, f = 100.40593464113017\n",
      "Optimization restart 7/10, f = 100.40593464154327\n",
      "Optimization restart 8/10, f = 100.4059346442798\n",
      "Optimization restart 9/10, f = 100.40593464110489\n",
      "Optimization restart 10/10, f = 100.40593464511903\n",
      "173\n"
     ]
    },
    {
     "data": {
      "application/vnd.jupyter.widget-view+json": {
       "model_id": "91b174364e004a22908b3135809cc941",
       "version_major": 2,
       "version_minor": 0
      },
      "text/plain": [
       "HBox(children=(VBox(children=(IntProgress(value=0, max=1000), HTML(value=''))), Box(children=(HTML(value=''),)…"
      ]
     },
     "metadata": {},
     "output_type": "display_data"
    },
    {
     "name": "stdout",
     "output_type": "stream",
     "text": [
      "Optimization restart 1/10, f = 291.46088740672\n",
      "Optimization restart 2/10, f = 291.46088746977176\n",
      "Optimization restart 3/10, f = 291.460887408167\n",
      "Optimization restart 4/10, f = 291.46088740656705\n",
      "Optimization restart 5/10, f = 291.46088740679124\n",
      "Optimization restart 6/10, f = 291.46088740656285\n",
      "Optimization restart 7/10, f = 291.4608874102695\n",
      "Optimization restart 8/10, f = 291.46088741003695\n",
      "Optimization restart 9/10, f = 291.4608874954538\n",
      "Optimization restart 10/10, f = 291.46088740665743\n",
      "174\n"
     ]
    },
    {
     "data": {
      "application/vnd.jupyter.widget-view+json": {
       "model_id": "4aae28ffc562451ba56e2f9e4814681d",
       "version_major": 2,
       "version_minor": 0
      },
      "text/plain": [
       "HBox(children=(VBox(children=(IntProgress(value=0, max=1000), HTML(value=''))), Box(children=(HTML(value=''),)…"
      ]
     },
     "metadata": {},
     "output_type": "display_data"
    },
    {
     "name": "stdout",
     "output_type": "stream",
     "text": [
      "Optimization restart 1/10, f = 2.9556470635393506\n",
      "Optimization restart 2/10, f = 2.9556470034413995\n",
      "Optimization restart 3/10, f = 2.955647157311033\n",
      "Optimization restart 4/10, f = 2.9556508140667037\n",
      "Optimization restart 5/10, f = 2.9556469825797156\n",
      "Optimization restart 6/10, f = 2.955646990921095\n",
      "Optimization restart 7/10, f = 2.9556474892886557\n",
      "Optimization restart 8/10, f = 2.955648855746343\n",
      "Optimization restart 9/10, f = 2.9556469798662377\n",
      "Optimization restart 10/10, f = 2.955646988947652\n",
      "175\n"
     ]
    },
    {
     "data": {
      "application/vnd.jupyter.widget-view+json": {
       "model_id": "2377888a38e24958a64b0ec1d77f11e1",
       "version_major": 2,
       "version_minor": 0
      },
      "text/plain": [
       "HBox(children=(VBox(children=(IntProgress(value=0, max=1000), HTML(value=''))), Box(children=(HTML(value=''),)…"
      ]
     },
     "metadata": {},
     "output_type": "display_data"
    },
    {
     "name": "stdout",
     "output_type": "stream",
     "text": [
      "Optimization restart 1/10, f = 88.99205985921276\n",
      "Optimization restart 2/10, f = 88.99205985937846\n",
      "Optimization restart 3/10, f = 88.99205986024816\n",
      "Optimization restart 4/10, f = 88.99205985916853\n",
      "Optimization restart 5/10, f = 88.9920598592359\n",
      "Optimization restart 6/10, f = 88.99205985917649\n",
      "Optimization restart 7/10, f = 88.99205985923231\n",
      "Optimization restart 8/10, f = 88.99205985934299\n",
      "Optimization restart 9/10, f = 88.99205986447231\n",
      "Optimization restart 10/10, f = 88.9920598595995\n",
      "176\n",
      "Could not compute spearmans matrix, for df BR_0001149\n",
      "177\n"
     ]
    },
    {
     "data": {
      "application/vnd.jupyter.widget-view+json": {
       "model_id": "dfb0c4223a734a1d9f1b89b97396bf19",
       "version_major": 2,
       "version_minor": 0
      },
      "text/plain": [
       "HBox(children=(VBox(children=(IntProgress(value=0, max=1000), HTML(value=''))), Box(children=(HTML(value=''),)…"
      ]
     },
     "metadata": {},
     "output_type": "display_data"
    },
    {
     "name": "stdout",
     "output_type": "stream",
     "text": [
      "Optimization restart 1/10, f = 149.59495196228045\n",
      "Optimization restart 2/10, f = 149.59495215001616\n",
      "Optimization restart 3/10, f = 149.59495197402586\n",
      "Optimization restart 4/10, f = 149.59495196178312\n",
      "Optimization restart 5/10, f = 149.59495196176132\n",
      "Optimization restart 6/10, f = 149.59495196316647\n",
      "Optimization restart 7/10, f = 149.59495196195795\n",
      "Optimization restart 8/10, f = 149.59495196179145\n",
      "Optimization restart 9/10, f = 149.59495196184457\n",
      "Optimization restart 10/10, f = 149.5949519618794\n",
      "178\n"
     ]
    },
    {
     "data": {
      "application/vnd.jupyter.widget-view+json": {
       "model_id": "a74a9a39fa1c42b3b3a986ed02122fa5",
       "version_major": 2,
       "version_minor": 0
      },
      "text/plain": [
       "HBox(children=(VBox(children=(IntProgress(value=0, max=1000), HTML(value=''))), Box(children=(HTML(value=''),)…"
      ]
     },
     "metadata": {},
     "output_type": "display_data"
    },
    {
     "name": "stdout",
     "output_type": "stream",
     "text": [
      "Optimization restart 1/10, f = 130.7487520207093\n",
      "Optimization restart 2/10, f = 130.74875203529768\n",
      "Optimization restart 3/10, f = 130.7487520206773\n",
      "Optimization restart 4/10, f = 130.7487520747216\n",
      "Optimization restart 5/10, f = 130.74875202106594\n",
      "Optimization restart 6/10, f = 130.74875202081023\n",
      "Optimization restart 7/10, f = 130.74875202184242\n",
      "Optimization restart 8/10, f = 130.74875202395293\n",
      "Optimization restart 9/10, f = 130.7487520206014\n",
      "Optimization restart 10/10, f = 130.74875202061276\n",
      "179\n"
     ]
    },
    {
     "data": {
      "application/vnd.jupyter.widget-view+json": {
       "model_id": "0f7e827b18064520b884bd7a021adca9",
       "version_major": 2,
       "version_minor": 0
      },
      "text/plain": [
       "HBox(children=(VBox(children=(IntProgress(value=0, max=1000), HTML(value=''))), Box(children=(HTML(value=''),)…"
      ]
     },
     "metadata": {},
     "output_type": "display_data"
    },
    {
     "name": "stdout",
     "output_type": "stream",
     "text": [
      "Optimization restart 1/10, f = 80.0375173506066\n",
      "Optimization restart 2/10, f = 80.0375173514606\n",
      "Optimization restart 3/10, f = 80.03751736571732\n",
      "Optimization restart 4/10, f = 80.03751735057186\n",
      "Optimization restart 5/10, f = 80.0375173513635\n",
      "Optimization restart 6/10, f = 80.03751735085815\n",
      "Optimization restart 7/10, f = 80.0375173505945\n",
      "Optimization restart 8/10, f = 80.03751735060797\n",
      "Optimization restart 9/10, f = 80.03751735070466\n",
      "Optimization restart 10/10, f = 80.03751735468455\n",
      "180\n"
     ]
    },
    {
     "data": {
      "application/vnd.jupyter.widget-view+json": {
       "model_id": "8aaae3952db648459e8b78f555510421",
       "version_major": 2,
       "version_minor": 0
      },
      "text/plain": [
       "HBox(children=(VBox(children=(IntProgress(value=0, max=1000), HTML(value=''))), Box(children=(HTML(value=''),)…"
      ]
     },
     "metadata": {},
     "output_type": "display_data"
    },
    {
     "name": "stdout",
     "output_type": "stream",
     "text": [
      "Optimization restart 1/10, f = 89.40205663958226\n",
      "Optimization restart 2/10, f = 89.40205663393263\n",
      "Optimization restart 3/10, f = 89.40205663822618\n",
      "Optimization restart 4/10, f = 89.40205663794842\n",
      "Optimization restart 5/10, f = 89.40205663153077\n",
      "Optimization restart 6/10, f = 89.40205663220824\n",
      "Optimization restart 7/10, f = 89.40205663155305\n",
      "Optimization restart 8/10, f = 89.40205663154802\n",
      "Optimization restart 9/10, f = 89.40205663174746\n",
      "Optimization restart 10/10, f = 89.40205663348993\n",
      "181\n"
     ]
    },
    {
     "data": {
      "application/vnd.jupyter.widget-view+json": {
       "model_id": "3fbddd919b4247a8945c6ba3c2843b85",
       "version_major": 2,
       "version_minor": 0
      },
      "text/plain": [
       "HBox(children=(VBox(children=(IntProgress(value=0, max=1000), HTML(value=''))), Box(children=(HTML(value=''),)…"
      ]
     },
     "metadata": {},
     "output_type": "display_data"
    },
    {
     "name": "stdout",
     "output_type": "stream",
     "text": [
      "Optimization restart 1/10, f = 393.52979576465907\n",
      "Optimization restart 2/10, f = 393.5297957943958\n",
      "Optimization restart 3/10, f = 393.52979576379835\n",
      "Optimization restart 4/10, f = 393.52979576377896\n",
      "Optimization restart 5/10, f = 393.5297957732367\n",
      "Optimization restart 6/10, f = 393.5297957831584\n",
      "Optimization restart 7/10, f = 393.5297958027728\n",
      "Optimization restart 8/10, f = 393.52979576396604\n",
      "Optimization restart 9/10, f = 393.5297957637681\n",
      "Optimization restart 10/10, f = 393.52979578994655\n",
      "182\n"
     ]
    },
    {
     "data": {
      "application/vnd.jupyter.widget-view+json": {
       "model_id": "fde5a7ee48fa418dab3ab8d36644de28",
       "version_major": 2,
       "version_minor": 0
      },
      "text/plain": [
       "HBox(children=(VBox(children=(IntProgress(value=0, max=1000), HTML(value=''))), Box(children=(HTML(value=''),)…"
      ]
     },
     "metadata": {},
     "output_type": "display_data"
    },
    {
     "name": "stdout",
     "output_type": "stream",
     "text": [
      "Optimization restart 1/10, f = 13.507461588365658\n",
      "Optimization restart 2/10, f = 13.507461586871912\n",
      "Optimization restart 3/10, f = 13.507461586809548\n",
      "Optimization restart 4/10, f = 13.507465906790664\n",
      "Optimization restart 5/10, f = 13.507461587049576\n",
      "Optimization restart 6/10, f = 13.507461624739463\n",
      "Optimization restart 7/10, f = 13.507461596468936\n",
      "Optimization restart 8/10, f = 13.5074615868836\n",
      "Optimization restart 9/10, f = 13.507461586793681\n",
      "Optimization restart 10/10, f = 13.507461586807551\n",
      "183\n"
     ]
    },
    {
     "data": {
      "application/vnd.jupyter.widget-view+json": {
       "model_id": "3bb0c9089fa34f6ba44817c5150359c6",
       "version_major": 2,
       "version_minor": 0
      },
      "text/plain": [
       "HBox(children=(VBox(children=(IntProgress(value=0, max=1000), HTML(value=''))), Box(children=(HTML(value=''),)…"
      ]
     },
     "metadata": {},
     "output_type": "display_data"
    },
    {
     "name": "stdout",
     "output_type": "stream",
     "text": [
      "Optimization restart 1/10, f = 325.62941383176377\n",
      "Optimization restart 2/10, f = 325.629402498496\n",
      "Optimization restart 3/10, f = 325.62940253873353\n",
      "Optimization restart 4/10, f = 325.62940251900307\n",
      "Optimization restart 5/10, f = 325.6294032324339\n",
      "Optimization restart 6/10, f = 325.62940250187864\n",
      "Optimization restart 7/10, f = 325.62940249851283\n",
      "Optimization restart 8/10, f = 325.6294024984968\n",
      "Optimization restart 9/10, f = 325.629403439178\n",
      "Optimization restart 10/10, f = 325.62940249947303\n",
      "184\n"
     ]
    },
    {
     "data": {
      "application/vnd.jupyter.widget-view+json": {
       "model_id": "a594a7118ec04840ace4455ec447aea8",
       "version_major": 2,
       "version_minor": 0
      },
      "text/plain": [
       "HBox(children=(VBox(children=(IntProgress(value=0, max=1000), HTML(value=''))), Box(children=(HTML(value=''),)…"
      ]
     },
     "metadata": {},
     "output_type": "display_data"
    },
    {
     "name": "stdout",
     "output_type": "stream",
     "text": [
      "Optimization restart 1/10, f = 88.83994007853302\n",
      "Optimization restart 2/10, f = 88.83994007855551\n",
      "Optimization restart 3/10, f = 88.83994007885255\n",
      "Optimization restart 4/10, f = 88.83994007844409\n",
      "Optimization restart 5/10, f = 88.83994007843296\n",
      "Optimization restart 6/10, f = 88.83994007852648\n",
      "Optimization restart 7/10, f = 88.83994007839533\n",
      "Optimization restart 8/10, f = 88.83994007877754\n",
      "Optimization restart 9/10, f = 88.83994007839948\n",
      "Optimization restart 10/10, f = 88.83994007850859\n",
      "185\n"
     ]
    },
    {
     "data": {
      "application/vnd.jupyter.widget-view+json": {
       "model_id": "ae523c76784943bb8890fdd4bd0a47fe",
       "version_major": 2,
       "version_minor": 0
      },
      "text/plain": [
       "HBox(children=(VBox(children=(IntProgress(value=0, max=1000), HTML(value=''))), Box(children=(HTML(value=''),)…"
      ]
     },
     "metadata": {},
     "output_type": "display_data"
    },
    {
     "name": "stdout",
     "output_type": "stream",
     "text": [
      "Optimization restart 1/10, f = 194.44610006729414\n",
      "Optimization restart 2/10, f = 194.44610006726884\n",
      "Optimization restart 3/10, f = 194.44610006793428\n",
      "Optimization restart 4/10, f = 194.44610006726884\n",
      "Optimization restart 5/10, f = 194.44610007773818\n",
      "Optimization restart 6/10, f = 194.44610006748886\n",
      "Optimization restart 7/10, f = 194.4461000672751\n",
      "Optimization restart 8/10, f = 194.44610006729422\n",
      "Optimization restart 9/10, f = 194.44610006772697\n",
      "Optimization restart 10/10, f = 194.44610008355065\n",
      "186\n"
     ]
    },
    {
     "data": {
      "application/vnd.jupyter.widget-view+json": {
       "model_id": "33a6b51be2a7453ea88d52e72b44af86",
       "version_major": 2,
       "version_minor": 0
      },
      "text/plain": [
       "HBox(children=(VBox(children=(IntProgress(value=0, max=1000), HTML(value=''))), Box(children=(HTML(value=''),)…"
      ]
     },
     "metadata": {},
     "output_type": "display_data"
    },
    {
     "name": "stdout",
     "output_type": "stream",
     "text": [
      "Optimization restart 1/10, f = 1.7520036874589868\n",
      "Optimization restart 2/10, f = 1.7520036266133818\n",
      "Optimization restart 3/10, f = 1.7520036344495153\n",
      "Optimization restart 4/10, f = 1.7520036327599926\n",
      "Optimization restart 5/10, f = 1.7520036594052981\n",
      "Optimization restart 6/10, f = 1.7520036266700467\n",
      "Optimization restart 7/10, f = 1.7520036260470664\n",
      "Optimization restart 8/10, f = 1.752003660123143\n",
      "Optimization restart 9/10, f = 1.752003627872444\n",
      "Optimization restart 10/10, f = 1.7520036261866596\n",
      "187\n"
     ]
    },
    {
     "data": {
      "application/vnd.jupyter.widget-view+json": {
       "model_id": "845b3f144fa14038838a369816b82e10",
       "version_major": 2,
       "version_minor": 0
      },
      "text/plain": [
       "HBox(children=(VBox(children=(IntProgress(value=0, max=1000), HTML(value=''))), Box(children=(HTML(value=''),)…"
      ]
     },
     "metadata": {},
     "output_type": "display_data"
    },
    {
     "name": "stdout",
     "output_type": "stream",
     "text": [
      "Optimization restart 1/10, f = 228.82079444532383\n",
      "Optimization restart 2/10, f = 228.8207945939493\n",
      "Optimization restart 3/10, f = 228.82079444448462\n",
      "Optimization restart 4/10, f = 228.82079456047154\n",
      "Optimization restart 5/10, f = 228.82079444453015\n",
      "Optimization restart 6/10, f = 228.82079446600466\n",
      "Optimization restart 7/10, f = 228.8207944449044\n",
      "Optimization restart 8/10, f = 228.82079444760444\n",
      "Optimization restart 9/10, f = 228.82079445203158\n",
      "Optimization restart 10/10, f = 228.82079445979662\n",
      "188\n"
     ]
    },
    {
     "data": {
      "application/vnd.jupyter.widget-view+json": {
       "model_id": "002971199108483f93ccbe67f647b97b",
       "version_major": 2,
       "version_minor": 0
      },
      "text/plain": [
       "HBox(children=(VBox(children=(IntProgress(value=0, max=1000), HTML(value=''))), Box(children=(HTML(value=''),)…"
      ]
     },
     "metadata": {},
     "output_type": "display_data"
    },
    {
     "name": "stdout",
     "output_type": "stream",
     "text": [
      "Optimization restart 1/10, f = 80.6590598845099\n",
      "Optimization restart 2/10, f = 80.65906000023303\n",
      "Optimization restart 3/10, f = 80.65905988363033\n",
      "Optimization restart 4/10, f = 80.65905988365984\n",
      "Optimization restart 5/10, f = 80.6590598855608\n",
      "Optimization restart 6/10, f = 80.65905988391577\n",
      "Optimization restart 7/10, f = 80.65905988482206\n",
      "Optimization restart 8/10, f = 80.65905988433676\n",
      "Optimization restart 9/10, f = 80.6590598901705\n",
      "Optimization restart 10/10, f = 80.6590598836328\n",
      "189\n"
     ]
    },
    {
     "data": {
      "application/vnd.jupyter.widget-view+json": {
       "model_id": "c99a45bfb408456e84a47a881ce52b9b",
       "version_major": 2,
       "version_minor": 0
      },
      "text/plain": [
       "HBox(children=(VBox(children=(IntProgress(value=0, max=1000), HTML(value=''))), Box(children=(HTML(value=''),)…"
      ]
     },
     "metadata": {},
     "output_type": "display_data"
    },
    {
     "name": "stdout",
     "output_type": "stream",
     "text": [
      "Optimization restart 1/10, f = 277.0614797368642\n",
      "Optimization restart 2/10, f = 277.0614797637225\n",
      "Optimization restart 3/10, f = 277.0614801456296\n",
      "Optimization restart 4/10, f = 277.0614797457444\n",
      "Optimization restart 5/10, f = 277.0614797351717\n",
      "Optimization restart 6/10, f = 277.0614797347417\n",
      "Optimization restart 7/10, f = 277.06147973440704\n",
      "Optimization restart 8/10, f = 277.06147974814974\n",
      "Optimization restart 9/10, f = 277.0614797901359\n",
      "Optimization restart 10/10, f = 277.0614797354201\n",
      "190\n"
     ]
    },
    {
     "data": {
      "application/vnd.jupyter.widget-view+json": {
       "model_id": "57bf586fbe644eeda620219ee10eb433",
       "version_major": 2,
       "version_minor": 0
      },
      "text/plain": [
       "HBox(children=(VBox(children=(IntProgress(value=0, max=1000), HTML(value=''))), Box(children=(HTML(value=''),)…"
      ]
     },
     "metadata": {},
     "output_type": "display_data"
    },
    {
     "name": "stdout",
     "output_type": "stream",
     "text": [
      "Optimization restart 1/10, f = 291.3615594270448\n",
      "Optimization restart 2/10, f = 291.3615594404734\n",
      "Optimization restart 3/10, f = 291.36155942719563\n",
      "Optimization restart 4/10, f = 291.36155942691596\n",
      "Optimization restart 5/10, f = 291.36155942655347\n",
      "Optimization restart 6/10, f = 291.3615594266936\n",
      "Optimization restart 7/10, f = 291.3615594277313\n",
      "Optimization restart 8/10, f = 291.3615594380552\n",
      "Optimization restart 9/10, f = 291.36155943579763\n",
      "Optimization restart 10/10, f = 291.3615594276316\n",
      "191\n"
     ]
    },
    {
     "data": {
      "application/vnd.jupyter.widget-view+json": {
       "model_id": "3a76a0300e1846099fd8ca7d6c3c50d6",
       "version_major": 2,
       "version_minor": 0
      },
      "text/plain": [
       "HBox(children=(VBox(children=(IntProgress(value=0, max=1000), HTML(value=''))), Box(children=(HTML(value=''),)…"
      ]
     },
     "metadata": {},
     "output_type": "display_data"
    },
    {
     "name": "stdout",
     "output_type": "stream",
     "text": [
      "Optimization restart 1/10, f = 131.0619869959603\n",
      "Optimization restart 2/10, f = 131.06198699519078\n",
      "Optimization restart 3/10, f = 131.06198721403072\n",
      "Optimization restart 4/10, f = 131.06198699548844\n",
      "Optimization restart 5/10, f = 131.06198699782072\n",
      "Optimization restart 6/10, f = 131.06198699523105\n",
      "Optimization restart 7/10, f = 131.06198699550845\n",
      "Optimization restart 8/10, f = 131.06198699710814\n",
      "Optimization restart 9/10, f = 131.06198700978572\n",
      "Optimization restart 10/10, f = 131.0619869952107\n",
      "192\n",
      "Could not compute spearmans matrix, for df BR_0000839\n",
      "193\n"
     ]
    },
    {
     "data": {
      "application/vnd.jupyter.widget-view+json": {
       "model_id": "9e15c971a152434e85d5687383c391a2",
       "version_major": 2,
       "version_minor": 0
      },
      "text/plain": [
       "HBox(children=(VBox(children=(IntProgress(value=0, max=1000), HTML(value=''))), Box(children=(HTML(value=''),)…"
      ]
     },
     "metadata": {},
     "output_type": "display_data"
    },
    {
     "name": "stdout",
     "output_type": "stream",
     "text": [
      "Optimization restart 1/10, f = 157.22825658676646\n",
      "Optimization restart 2/10, f = 157.2282565373647\n",
      "Optimization restart 3/10, f = 157.22825654008474\n",
      "Optimization restart 4/10, f = 157.22825653753137\n",
      "Optimization restart 5/10, f = 157.22825653702927\n",
      "Optimization restart 6/10, f = 157.22825657721506\n",
      "Optimization restart 7/10, f = 157.2282565377689\n",
      "Optimization restart 8/10, f = 157.22825653747552\n",
      "Optimization restart 9/10, f = 157.2282565382834\n",
      "Optimization restart 10/10, f = 157.2282565379075\n",
      "194\n"
     ]
    },
    {
     "data": {
      "application/vnd.jupyter.widget-view+json": {
       "model_id": "17056f15b030484eab541fb5c6b492ef",
       "version_major": 2,
       "version_minor": 0
      },
      "text/plain": [
       "HBox(children=(VBox(children=(IntProgress(value=0, max=1000), HTML(value=''))), Box(children=(HTML(value=''),)…"
      ]
     },
     "metadata": {},
     "output_type": "display_data"
    },
    {
     "name": "stdout",
     "output_type": "stream",
     "text": [
      "Optimization restart 1/10, f = 168.3080923504215\n",
      "Optimization restart 2/10, f = 168.30809235042415\n",
      "Optimization restart 3/10, f = 168.3080923504233\n",
      "Optimization restart 4/10, f = 168.3080923506846\n",
      "Optimization restart 5/10, f = 168.30809236215117\n",
      "Optimization restart 6/10, f = 168.30809235040041\n",
      "Optimization restart 7/10, f = 168.30809235043228\n",
      "Optimization restart 8/10, f = 168.30809235359592\n",
      "Optimization restart 9/10, f = 168.3080923509516\n",
      "Optimization restart 10/10, f = 168.3080923506847\n",
      "195\n"
     ]
    },
    {
     "data": {
      "application/vnd.jupyter.widget-view+json": {
       "model_id": "94a095ceb3f04db0b94453f50b1f0e4e",
       "version_major": 2,
       "version_minor": 0
      },
      "text/plain": [
       "HBox(children=(VBox(children=(IntProgress(value=0, max=1000), HTML(value=''))), Box(children=(HTML(value=''),)…"
      ]
     },
     "metadata": {},
     "output_type": "display_data"
    },
    {
     "name": "stdout",
     "output_type": "stream",
     "text": [
      "Optimization restart 1/10, f = 136.55111801907736\n",
      "Optimization restart 2/10, f = 136.55111801902618\n",
      "Optimization restart 3/10, f = 136.55111802898637\n",
      "Optimization restart 4/10, f = 136.55111801903342\n",
      "Optimization restart 5/10, f = 136.55111801928197\n",
      "Optimization restart 6/10, f = 136.55111801967936\n",
      "Optimization restart 7/10, f = 136.55111802018763\n",
      "Optimization restart 8/10, f = 136.55111801902595\n",
      "Optimization restart 9/10, f = 136.55111801908174\n",
      "Optimization restart 10/10, f = 136.55111801948948\n",
      "196\n",
      "could not train the model for df BR_0000533\n",
      "197\n",
      "could not train the model for df BR_0002114\n",
      "198\n"
     ]
    },
    {
     "data": {
      "application/vnd.jupyter.widget-view+json": {
       "model_id": "a04e99b43a4a419ca39b5d6e9264a497",
       "version_major": 2,
       "version_minor": 0
      },
      "text/plain": [
       "HBox(children=(VBox(children=(IntProgress(value=0, max=1000), HTML(value=''))), Box(children=(HTML(value=''),)…"
      ]
     },
     "metadata": {},
     "output_type": "display_data"
    },
    {
     "name": "stdout",
     "output_type": "stream",
     "text": [
      "Optimization restart 1/10, f = 165.98932081578874\n",
      "Optimization restart 2/10, f = 165.9893208095786\n",
      "Optimization restart 3/10, f = 165.98932080817983\n",
      "Optimization restart 4/10, f = 165.98932080828075\n",
      "Optimization restart 5/10, f = 165.98932082097645\n",
      "Optimization restart 6/10, f = 165.98932081225632\n",
      "Optimization restart 7/10, f = 165.98932080869133\n",
      "Optimization restart 8/10, f = 187.504049698019\n",
      "Optimization restart 9/10, f = 165.9893208841891\n",
      "Optimization restart 10/10, f = 165.98932080826717\n",
      "199\n"
     ]
    },
    {
     "data": {
      "application/vnd.jupyter.widget-view+json": {
       "model_id": "1eeb78d5dd9f405f9c82b143af382370",
       "version_major": 2,
       "version_minor": 0
      },
      "text/plain": [
       "HBox(children=(VBox(children=(IntProgress(value=0, max=1000), HTML(value=''))), Box(children=(HTML(value=''),)…"
      ]
     },
     "metadata": {},
     "output_type": "display_data"
    },
    {
     "name": "stdout",
     "output_type": "stream",
     "text": [
      "Optimization restart 1/10, f = -3.415397940294696\n",
      "Optimization restart 2/10, f = -3.4153979402687646\n",
      "Optimization restart 3/10, f = -3.4153979401512053\n",
      "Optimization restart 4/10, f = -3.415397939993369\n",
      "Optimization restart 5/10, f = -3.415397940288635\n",
      "Optimization restart 6/10, f = -3.4153979122821347\n",
      "Optimization restart 7/10, f = -3.415397940278911\n",
      "Optimization restart 8/10, f = -3.415397940225265\n",
      "Optimization restart 9/10, f = -3.4153979399273524\n",
      "Optimization restart 10/10, f = -3.4153979403502994\n",
      "200\n",
      "could not train the model for df BR_0001314\n",
      "201\n"
     ]
    },
    {
     "data": {
      "application/vnd.jupyter.widget-view+json": {
       "model_id": "ef7fc309337841e2bd63058c2288bb6c",
       "version_major": 2,
       "version_minor": 0
      },
      "text/plain": [
       "HBox(children=(VBox(children=(IntProgress(value=0, max=1000), HTML(value=''))), Box(children=(HTML(value=''),)…"
      ]
     },
     "metadata": {},
     "output_type": "display_data"
    },
    {
     "name": "stdout",
     "output_type": "stream",
     "text": [
      "Optimization restart 1/10, f = 16.23578333963171\n",
      "Optimization restart 2/10, f = 16.23578333962385\n",
      "Optimization restart 3/10, f = 16.23578333969126\n",
      "Optimization restart 4/10, f = 16.235783339622493\n",
      "Optimization restart 5/10, f = 16.235783434705006\n",
      "Optimization restart 6/10, f = 16.235783339730936\n",
      "Optimization restart 7/10, f = 16.235783339644883\n",
      "Optimization restart 8/10, f = 16.23578333963104\n",
      "Optimization restart 9/10, f = 16.235783339876562\n",
      "Optimization restart 10/10, f = 16.235783339643966\n",
      "202\n"
     ]
    },
    {
     "data": {
      "application/vnd.jupyter.widget-view+json": {
       "model_id": "56bc9a16c74240ce80037bac306fdb65",
       "version_major": 2,
       "version_minor": 0
      },
      "text/plain": [
       "HBox(children=(VBox(children=(IntProgress(value=0, max=1000), HTML(value=''))), Box(children=(HTML(value=''),)…"
      ]
     },
     "metadata": {},
     "output_type": "display_data"
    },
    {
     "name": "stdout",
     "output_type": "stream",
     "text": [
      "Optimization restart 1/10, f = 338.8827250072097\n",
      "Optimization restart 2/10, f = 338.88272498881133\n",
      "Optimization restart 3/10, f = 338.8827250073268\n",
      "Optimization restart 4/10, f = 338.8827250274361\n",
      "Optimization restart 5/10, f = 338.88272499571974\n",
      "Optimization restart 6/10, f = 338.88272499685667\n",
      "Optimization restart 7/10, f = 338.8827249886379\n",
      "Optimization restart 8/10, f = 338.8827251797496\n",
      "Optimization restart 9/10, f = 338.8827251523013\n",
      "Optimization restart 10/10, f = 338.8827249914318\n",
      "203\n"
     ]
    },
    {
     "data": {
      "application/vnd.jupyter.widget-view+json": {
       "model_id": "37d2f76ed5314a318d7c737823f6a688",
       "version_major": 2,
       "version_minor": 0
      },
      "text/plain": [
       "HBox(children=(VBox(children=(IntProgress(value=0, max=1000), HTML(value=''))), Box(children=(HTML(value=''),)…"
      ]
     },
     "metadata": {},
     "output_type": "display_data"
    },
    {
     "name": "stdout",
     "output_type": "stream",
     "text": [
      "Optimization restart 1/10, f = 84.78226448803959\n",
      "Optimization restart 2/10, f = 84.7822645776447\n",
      "Optimization restart 3/10, f = 84.78226448726579\n",
      "Optimization restart 4/10, f = 84.7822644888854\n",
      "Optimization restart 5/10, f = 84.78226448697654\n",
      "Optimization restart 6/10, f = 84.78226452288723\n",
      "Optimization restart 7/10, f = 84.78226461656256\n",
      "Optimization restart 8/10, f = 84.78226448959505\n",
      "Optimization restart 9/10, f = 84.78226449118765\n",
      "Optimization restart 10/10, f = 84.78226448734887\n",
      "204\n"
     ]
    },
    {
     "data": {
      "application/vnd.jupyter.widget-view+json": {
       "model_id": "8f12e23c5e554f78a72ffd403bcbba4a",
       "version_major": 2,
       "version_minor": 0
      },
      "text/plain": [
       "HBox(children=(VBox(children=(IntProgress(value=0, max=1000), HTML(value=''))), Box(children=(HTML(value=''),)…"
      ]
     },
     "metadata": {},
     "output_type": "display_data"
    },
    {
     "name": "stdout",
     "output_type": "stream",
     "text": [
      "Optimization restart 1/10, f = 73.17373712974154\n",
      "Optimization restart 2/10, f = 73.17373712900822\n",
      "Optimization restart 3/10, f = 73.17373737558563\n",
      "Optimization restart 4/10, f = 73.17373713236701\n",
      "Optimization restart 5/10, f = 73.17373712902682\n",
      "Optimization restart 6/10, f = 73.173737131275\n",
      "Optimization restart 7/10, f = 73.17373712922691\n",
      "Optimization restart 8/10, f = 73.17373713320035\n",
      "Optimization restart 9/10, f = 73.173737130922\n",
      "Optimization restart 10/10, f = 73.173737129061\n",
      "205\n"
     ]
    },
    {
     "data": {
      "application/vnd.jupyter.widget-view+json": {
       "model_id": "86889169522f4756ad1067face6e7566",
       "version_major": 2,
       "version_minor": 0
      },
      "text/plain": [
       "HBox(children=(VBox(children=(IntProgress(value=0, max=1000), HTML(value=''))), Box(children=(HTML(value=''),)…"
      ]
     },
     "metadata": {},
     "output_type": "display_data"
    },
    {
     "name": "stdout",
     "output_type": "stream",
     "text": [
      "Optimization restart 1/10, f = 150.06522142816578\n",
      "Optimization restart 2/10, f = 150.06522142830562\n",
      "Optimization restart 3/10, f = 150.06522142934324\n",
      "Optimization restart 4/10, f = 150.0652214981253\n",
      "Optimization restart 5/10, f = 150.06522142818295\n",
      "Optimization restart 6/10, f = 150.0652214284557\n",
      "Optimization restart 7/10, f = 150.06522142816027\n",
      "Optimization restart 8/10, f = 150.06522143347706\n",
      "Optimization restart 9/10, f = 150.06522142823104\n",
      "Optimization restart 10/10, f = 150.06522142815618\n",
      "206\n"
     ]
    },
    {
     "data": {
      "application/vnd.jupyter.widget-view+json": {
       "model_id": "58d4f5025e2b4331b16ab770a222b813",
       "version_major": 2,
       "version_minor": 0
      },
      "text/plain": [
       "HBox(children=(VBox(children=(IntProgress(value=0, max=1000), HTML(value=''))), Box(children=(HTML(value=''),)…"
      ]
     },
     "metadata": {},
     "output_type": "display_data"
    },
    {
     "name": "stdout",
     "output_type": "stream",
     "text": [
      "Optimization restart 1/10, f = 24.85752220448464\n",
      "Optimization restart 2/10, f = 24.85752220452264\n",
      "Optimization restart 3/10, f = 24.857522204787784\n",
      "Optimization restart 4/10, f = 24.857538575640646\n",
      "Optimization restart 5/10, f = 24.857522204342075\n",
      "Optimization restart 6/10, f = 24.857522204415062\n",
      "Optimization restart 7/10, f = 24.857522204556346\n"
     ]
    },
    {
     "name": "stderr",
     "output_type": "stream",
     "text": [
      " C:\\Users\\marku\\Anaconda3\\lib\\site-packages\\GPy\\kern\\src\\stationary.py:168: RuntimeWarning:overflow encountered in true_divide\n",
      " C:\\Users\\marku\\Anaconda3\\lib\\site-packages\\GPy\\kern\\src\\stationary.py:468: RuntimeWarning:overflow encountered in multiply\n",
      " C:\\Users\\marku\\Anaconda3\\lib\\site-packages\\GPy\\kern\\src\\stationary.py:468: RuntimeWarning:invalid value encountered in multiply\n"
     ]
    },
    {
     "name": "stdout",
     "output_type": "stream",
     "text": [
      "Optimization restart 8/10, f = 24.86021044630654\n",
      "Optimization restart 9/10, f = 24.857522204579055\n",
      "Optimization restart 10/10, f = 24.857525085287577\n",
      "207\n",
      "could not train the model for df BR_0001833\n",
      "208\n"
     ]
    },
    {
     "data": {
      "application/vnd.jupyter.widget-view+json": {
       "model_id": "600f4cc1a2b242c8b80607531a3e8bbe",
       "version_major": 2,
       "version_minor": 0
      },
      "text/plain": [
       "HBox(children=(VBox(children=(IntProgress(value=0, max=1000), HTML(value=''))), Box(children=(HTML(value=''),)…"
      ]
     },
     "metadata": {},
     "output_type": "display_data"
    },
    {
     "name": "stdout",
     "output_type": "stream",
     "text": [
      "Optimization restart 1/10, f = 26.233491080218585\n",
      "Optimization restart 2/10, f = 26.233491080229413\n",
      "Optimization restart 3/10, f = 26.233491080261388\n",
      "Optimization restart 4/10, f = 26.23349108285396\n",
      "Optimization restart 5/10, f = 26.23349108023362\n",
      "Optimization restart 6/10, f = 26.233491080296005\n",
      "Optimization restart 7/10, f = 26.233491080244335\n",
      "Optimization restart 8/10, f = 26.233491082639944\n",
      "Optimization restart 9/10, f = 26.233491080224894\n",
      "Optimization restart 10/10, f = 26.233491080577892\n",
      "209\n"
     ]
    },
    {
     "data": {
      "application/vnd.jupyter.widget-view+json": {
       "model_id": "c68a5cd04bb247b282d460a16b7a8eb7",
       "version_major": 2,
       "version_minor": 0
      },
      "text/plain": [
       "HBox(children=(VBox(children=(IntProgress(value=0, max=1000), HTML(value=''))), Box(children=(HTML(value=''),)…"
      ]
     },
     "metadata": {},
     "output_type": "display_data"
    },
    {
     "name": "stdout",
     "output_type": "stream",
     "text": [
      "Optimization restart 1/10, f = 61.3690103213112\n",
      "Optimization restart 2/10, f = 61.36901032133756\n",
      "Optimization restart 3/10, f = 61.369010321258045\n",
      "Optimization restart 4/10, f = 61.36901032144036\n",
      "Optimization restart 5/10, f = 61.369010321264476\n",
      "Optimization restart 6/10, f = 61.36901053329806\n",
      "Optimization restart 7/10, f = 61.369010321284094\n",
      "Optimization restart 8/10, f = 61.36901032125761\n",
      "Optimization restart 9/10, f = 61.36901032182565\n",
      "Optimization restart 10/10, f = 61.36901032129819\n",
      "210\n"
     ]
    },
    {
     "data": {
      "application/vnd.jupyter.widget-view+json": {
       "model_id": "a32a838bb0ed46f6a38fb5d8f2971e81",
       "version_major": 2,
       "version_minor": 0
      },
      "text/plain": [
       "HBox(children=(VBox(children=(IntProgress(value=0, max=1000), HTML(value=''))), Box(children=(HTML(value=''),)…"
      ]
     },
     "metadata": {},
     "output_type": "display_data"
    },
    {
     "name": "stdout",
     "output_type": "stream",
     "text": [
      "Optimization restart 1/10, f = 135.82064066506553\n",
      "Optimization restart 2/10, f = 135.8206406329482\n",
      "Optimization restart 3/10, f = 135.82064063646985\n",
      "Optimization restart 4/10, f = 135.82064063321036\n",
      "Optimization restart 5/10, f = 135.82064064050138\n",
      "Optimization restart 6/10, f = 135.8206406336746\n",
      "Optimization restart 7/10, f = 135.82064063514323\n",
      "Optimization restart 8/10, f = 135.82064063352055\n",
      "Optimization restart 9/10, f = 135.82064063693525\n",
      "Optimization restart 10/10, f = 135.82064063461274\n",
      "211\n"
     ]
    },
    {
     "data": {
      "application/vnd.jupyter.widget-view+json": {
       "model_id": "a051233f2342445cb9e93f31d39a24eb",
       "version_major": 2,
       "version_minor": 0
      },
      "text/plain": [
       "HBox(children=(VBox(children=(IntProgress(value=0, max=1000), HTML(value=''))), Box(children=(HTML(value=''),)…"
      ]
     },
     "metadata": {},
     "output_type": "display_data"
    },
    {
     "name": "stdout",
     "output_type": "stream",
     "text": [
      "Optimization restart 1/10, f = 167.40961864461826\n",
      "Optimization restart 2/10, f = 167.40961864456102\n",
      "Optimization restart 3/10, f = 167.40961865669632\n",
      "Optimization restart 4/10, f = 167.4096186447744\n",
      "Optimization restart 5/10, f = 167.40961864434846\n",
      "Optimization restart 6/10, f = 167.40961896297537\n",
      "Optimization restart 7/10, f = 167.40961864461315\n",
      "Optimization restart 8/10, f = 167.4096191645357\n",
      "Optimization restart 9/10, f = 167.40961864488943\n",
      "Optimization restart 10/10, f = 167.40961865719643\n",
      "212\n"
     ]
    },
    {
     "data": {
      "application/vnd.jupyter.widget-view+json": {
       "model_id": "563f00ff8edc41219c26a3b6655337ab",
       "version_major": 2,
       "version_minor": 0
      },
      "text/plain": [
       "HBox(children=(VBox(children=(IntProgress(value=0, max=1000), HTML(value=''))), Box(children=(HTML(value=''),)…"
      ]
     },
     "metadata": {},
     "output_type": "display_data"
    },
    {
     "name": "stdout",
     "output_type": "stream",
     "text": [
      "Optimization restart 1/10, f = 277.8556518557184\n",
      "Optimization restart 2/10, f = 277.8556519117207\n",
      "Optimization restart 3/10, f = 277.8556520748245\n",
      "Optimization restart 4/10, f = 277.8556518617595\n",
      "Optimization restart 5/10, f = 277.8556518996453\n",
      "Optimization restart 6/10, f = 277.85565186321696\n",
      "Optimization restart 7/10, f = 277.8556518805577\n",
      "Optimization restart 8/10, f = 277.8556518557126\n",
      "Optimization restart 9/10, f = 277.8556518556949\n",
      "Optimization restart 10/10, f = 277.8556518599768\n",
      "213\n",
      "could not train the model for df BR_0001739\n",
      "214\n"
     ]
    },
    {
     "data": {
      "application/vnd.jupyter.widget-view+json": {
       "model_id": "3cef253ea973479c846fea5d60f6520e",
       "version_major": 2,
       "version_minor": 0
      },
      "text/plain": [
       "HBox(children=(VBox(children=(IntProgress(value=0, max=1000), HTML(value=''))), Box(children=(HTML(value=''),)…"
      ]
     },
     "metadata": {},
     "output_type": "display_data"
    },
    {
     "name": "stdout",
     "output_type": "stream",
     "text": [
      "Optimization restart 1/10, f = -3.415397940294696\n",
      "Optimization restart 2/10, f = -3.4153979402521664\n",
      "Optimization restart 3/10, f = -3.415397940276357\n",
      "Optimization restart 4/10, f = -3.4153978144796007\n",
      "Optimization restart 5/10, f = -3.415397851839188\n",
      "Optimization restart 6/10, f = -3.415397940235408\n",
      "Optimization restart 7/10, f = -3.4153979402310064\n",
      "Optimization restart 8/10, f = -3.415397940210074\n",
      "Optimization restart 9/10, f = -3.415397940256799\n",
      "Optimization restart 10/10, f = -3.4153979402285515\n",
      "215\n"
     ]
    },
    {
     "data": {
      "application/vnd.jupyter.widget-view+json": {
       "model_id": "a043b7f9ac4f4b9db1d16fa299b4000f",
       "version_major": 2,
       "version_minor": 0
      },
      "text/plain": [
       "HBox(children=(VBox(children=(IntProgress(value=0, max=1000), HTML(value=''))), Box(children=(HTML(value=''),)…"
      ]
     },
     "metadata": {},
     "output_type": "display_data"
    },
    {
     "name": "stdout",
     "output_type": "stream",
     "text": [
      "Optimization restart 1/10, f = 80.39838483743438\n",
      "Optimization restart 2/10, f = 80.39838483258427\n",
      "Optimization restart 3/10, f = 80.3983848318116\n",
      "Optimization restart 4/10, f = 80.3983848320282\n",
      "Optimization restart 5/10, f = 80.39838483194862\n",
      "Optimization restart 6/10, f = 80.39838483209579\n",
      "Optimization restart 7/10, f = 80.39838483180182\n",
      "Optimization restart 8/10, f = 80.39838483210688\n",
      "Optimization restart 9/10, f = 80.39838483248482\n",
      "Optimization restart 10/10, f = 80.39838483187671\n",
      "216\n"
     ]
    },
    {
     "data": {
      "application/vnd.jupyter.widget-view+json": {
       "model_id": "11b122793a8b46d0a1cdd0a34fd9e5c9",
       "version_major": 2,
       "version_minor": 0
      },
      "text/plain": [
       "HBox(children=(VBox(children=(IntProgress(value=0, max=1000), HTML(value=''))), Box(children=(HTML(value=''),)…"
      ]
     },
     "metadata": {},
     "output_type": "display_data"
    },
    {
     "name": "stdout",
     "output_type": "stream",
     "text": [
      "Optimization restart 1/10, f = 215.0538776877887\n",
      "Optimization restart 2/10, f = 215.05387894196502\n",
      "Optimization restart 3/10, f = 215.0538776891956\n",
      "Optimization restart 4/10, f = 215.05387773434657\n",
      "Optimization restart 5/10, f = 215.05387768813668\n",
      "Optimization restart 6/10, f = 215.05387768899806\n",
      "Optimization restart 7/10, f = 215.05387768800975\n",
      "Optimization restart 8/10, f = 215.05387768814583\n",
      "Optimization restart 9/10, f = 215.0538776877856\n",
      "Optimization restart 10/10, f = 215.05387768823675\n",
      "217\n"
     ]
    },
    {
     "data": {
      "application/vnd.jupyter.widget-view+json": {
       "model_id": "f110611bdb1943c0858e354a5449b9c0",
       "version_major": 2,
       "version_minor": 0
      },
      "text/plain": [
       "HBox(children=(VBox(children=(IntProgress(value=0, max=1000), HTML(value=''))), Box(children=(HTML(value=''),)…"
      ]
     },
     "metadata": {},
     "output_type": "display_data"
    },
    {
     "name": "stdout",
     "output_type": "stream",
     "text": [
      "Optimization restart 1/10, f = 104.57192974888392\n",
      "Optimization restart 2/10, f = 104.57192974888142\n",
      "Optimization restart 3/10, f = 104.57192974892311\n",
      "Optimization restart 4/10, f = 104.5719297648366\n",
      "Optimization restart 5/10, f = 104.5721020950794\n",
      "Optimization restart 6/10, f = 104.57192978733073\n",
      "Optimization restart 7/10, f = 104.57192979142977\n",
      "Optimization restart 8/10, f = 104.57192974888656\n",
      "Optimization restart 9/10, f = 104.5726092583543\n",
      "Optimization restart 10/10, f = 104.57192974896012\n",
      "218\n",
      "Could not compute spearmans matrix, for df BR_0001927\n",
      "219\n"
     ]
    },
    {
     "data": {
      "application/vnd.jupyter.widget-view+json": {
       "model_id": "cd915d1f29f941f8965c9da3ae2b693d",
       "version_major": 2,
       "version_minor": 0
      },
      "text/plain": [
       "HBox(children=(VBox(children=(IntProgress(value=0, max=1000), HTML(value=''))), Box(children=(HTML(value=''),)…"
      ]
     },
     "metadata": {},
     "output_type": "display_data"
    },
    {
     "name": "stdout",
     "output_type": "stream",
     "text": [
      "Optimization restart 1/10, f = 165.00406276695048\n",
      "Optimization restart 2/10, f = 165.0040627627178\n",
      "Optimization restart 3/10, f = 165.00406276268754\n",
      "Optimization restart 4/10, f = 165.00406276268012\n",
      "Optimization restart 5/10, f = 165.0040630320811\n",
      "Optimization restart 6/10, f = 165.0040628097128\n",
      "Optimization restart 7/10, f = 165.00406276296803\n",
      "Optimization restart 8/10, f = 165.00406276468084\n",
      "Optimization restart 9/10, f = 165.00406276269754\n",
      "Optimization restart 10/10, f = 165.00406276278545\n",
      "220\n"
     ]
    },
    {
     "name": "stderr",
     "output_type": "stream",
     "text": [
      " C:\\Users\\marku\\Anaconda3\\lib\\site-packages\\scipy\\stats\\mstats_basic.py:509: RuntimeWarning:invalid value encountered in true_divide\n",
      " C:\\Users\\marku\\Anaconda3\\lib\\site-packages\\scipy\\stats\\_distn_infrastructure.py:877: RuntimeWarning:invalid value encountered in greater\n",
      " C:\\Users\\marku\\Anaconda3\\lib\\site-packages\\scipy\\stats\\_distn_infrastructure.py:877: RuntimeWarning:invalid value encountered in less\n",
      " C:\\Users\\marku\\Anaconda3\\lib\\site-packages\\scipy\\stats\\_distn_infrastructure.py:1831: RuntimeWarning:invalid value encountered in less_equal\n"
     ]
    },
    {
     "name": "stdout",
     "output_type": "stream",
     "text": [
      "could not train the model for df BR_0002313\n",
      "221\n"
     ]
    },
    {
     "data": {
      "application/vnd.jupyter.widget-view+json": {
       "model_id": "531687a4089a4500b4bcc1faace9296a",
       "version_major": 2,
       "version_minor": 0
      },
      "text/plain": [
       "HBox(children=(VBox(children=(IntProgress(value=0, max=1000), HTML(value=''))), Box(children=(HTML(value=''),)…"
      ]
     },
     "metadata": {},
     "output_type": "display_data"
    },
    {
     "name": "stdout",
     "output_type": "stream",
     "text": [
      "Optimization restart 1/10, f = 145.0396332857107\n",
      "Optimization restart 2/10, f = 145.03963328222068\n",
      "Optimization restart 3/10, f = 145.03963328224347\n",
      "Optimization restart 4/10, f = 145.03963328368556\n",
      "Optimization restart 5/10, f = 145.03963328244498\n",
      "Optimization restart 6/10, f = 145.03963328225353\n",
      "Optimization restart 7/10, f = 145.03963328463234\n",
      "Optimization restart 8/10, f = 145.03963328218458\n",
      "Optimization restart 9/10, f = 145.03963328399104\n",
      "Optimization restart 10/10, f = 145.03963332261574\n",
      "222\n"
     ]
    },
    {
     "data": {
      "application/vnd.jupyter.widget-view+json": {
       "model_id": "35672524374d4f69ae7e2843a71131ec",
       "version_major": 2,
       "version_minor": 0
      },
      "text/plain": [
       "HBox(children=(VBox(children=(IntProgress(value=0, max=1000), HTML(value=''))), Box(children=(HTML(value=''),)…"
      ]
     },
     "metadata": {},
     "output_type": "display_data"
    },
    {
     "name": "stdout",
     "output_type": "stream",
     "text": [
      "Optimization restart 1/10, f = 191.83272736660984\n",
      "Optimization restart 2/10, f = 191.83272736676915\n",
      "Optimization restart 3/10, f = 191.83272736633074\n",
      "Optimization restart 4/10, f = 191.83272736645202\n",
      "Optimization restart 5/10, f = 191.8327273663305\n",
      "Optimization restart 6/10, f = 191.83272736787848\n",
      "Optimization restart 7/10, f = 191.83272736633646\n",
      "Optimization restart 8/10, f = 191.83272737460754\n",
      "Optimization restart 9/10, f = 191.83272736830392\n",
      "Optimization restart 10/10, f = 191.8327273898928\n",
      "223\n"
     ]
    },
    {
     "data": {
      "application/vnd.jupyter.widget-view+json": {
       "model_id": "9539381be89a49de9b60fae0e4d492c0",
       "version_major": 2,
       "version_minor": 0
      },
      "text/plain": [
       "HBox(children=(VBox(children=(IntProgress(value=0, max=1000), HTML(value=''))), Box(children=(HTML(value=''),)…"
      ]
     },
     "metadata": {},
     "output_type": "display_data"
    },
    {
     "name": "stdout",
     "output_type": "stream",
     "text": [
      "Optimization restart 1/10, f = 32.10029355201544\n",
      "Optimization restart 2/10, f = 32.10029355231814\n",
      "Optimization restart 3/10, f = 32.10029355216746\n",
      "Optimization restart 4/10, f = 32.10029355333916\n",
      "Optimization restart 5/10, f = 32.100293552771504\n",
      "Optimization restart 6/10, f = 32.10029355327041\n",
      "Optimization restart 7/10, f = 32.100293551939615\n",
      "Optimization restart 8/10, f = 32.10029355206465\n",
      "Optimization restart 9/10, f = 32.10029355772918\n",
      "Optimization restart 10/10, f = 32.10029355434389\n",
      "224\n"
     ]
    },
    {
     "data": {
      "application/vnd.jupyter.widget-view+json": {
       "model_id": "9182c82079e947be8aeaac1a1b9a96a7",
       "version_major": 2,
       "version_minor": 0
      },
      "text/plain": [
       "HBox(children=(VBox(children=(IntProgress(value=0, max=1000), HTML(value=''))), Box(children=(HTML(value=''),)…"
      ]
     },
     "metadata": {},
     "output_type": "display_data"
    },
    {
     "name": "stdout",
     "output_type": "stream",
     "text": [
      "Optimization restart 1/10, f = 85.99531122963478\n",
      "Optimization restart 2/10, f = 85.99531122891636\n",
      "Optimization restart 3/10, f = 85.99531122890608\n",
      "Optimization restart 4/10, f = 85.99531122898755\n",
      "Optimization restart 5/10, f = 85.99531122921266\n",
      "Optimization restart 6/10, f = 85.99531122905638\n",
      "Optimization restart 7/10, f = 85.99531122900572\n",
      "Optimization restart 8/10, f = 85.99531122949445\n",
      "Optimization restart 9/10, f = 85.99531122892375\n",
      "Optimization restart 10/10, f = 85.99531123043289\n",
      "225\n",
      "could not train the model for df BR_0002807\n",
      "226\n"
     ]
    },
    {
     "data": {
      "application/vnd.jupyter.widget-view+json": {
       "model_id": "8fe6b932d9524e678163bb67f8fb0b0e",
       "version_major": 2,
       "version_minor": 0
      },
      "text/plain": [
       "HBox(children=(VBox(children=(IntProgress(value=0, max=1000), HTML(value=''))), Box(children=(HTML(value=''),)…"
      ]
     },
     "metadata": {},
     "output_type": "display_data"
    },
    {
     "name": "stdout",
     "output_type": "stream",
     "text": [
      "Optimization restart 1/10, f = 110.40296594865185\n",
      "Optimization restart 2/10, f = 110.40296594840333\n",
      "Optimization restart 3/10, f = 110.40296594844736\n",
      "Optimization restart 4/10, f = 110.40296594841155\n",
      "Optimization restart 5/10, f = 110.40296595015536\n",
      "Optimization restart 6/10, f = 110.40296594834376\n",
      "Optimization restart 7/10, f = 110.40296594876321\n",
      "Optimization restart 8/10, f = 110.40296630619423\n",
      "Optimization restart 9/10, f = 110.40296594962697\n",
      "Optimization restart 10/10, f = 110.40296594836468\n",
      "227\n"
     ]
    },
    {
     "data": {
      "application/vnd.jupyter.widget-view+json": {
       "model_id": "110565a0f1514057ab26449d4533278a",
       "version_major": 2,
       "version_minor": 0
      },
      "text/plain": [
       "HBox(children=(VBox(children=(IntProgress(value=0, max=1000), HTML(value=''))), Box(children=(HTML(value=''),)…"
      ]
     },
     "metadata": {},
     "output_type": "display_data"
    },
    {
     "name": "stdout",
     "output_type": "stream",
     "text": [
      "Optimization restart 1/10, f = 150.54959364626188\n",
      "Optimization restart 2/10, f = 150.54959364615382\n",
      "Optimization restart 3/10, f = 150.54959364923207\n",
      "Optimization restart 4/10, f = 150.54959364612392\n",
      "Optimization restart 5/10, f = 150.54959364603806\n",
      "Optimization restart 6/10, f = 150.54959365959792\n",
      "Optimization restart 7/10, f = 150.54959364612273\n",
      "Optimization restart 8/10, f = 150.5495936475059\n",
      "Optimization restart 9/10, f = 150.5495936464471\n",
      "Optimization restart 10/10, f = 150.54959365818425\n",
      "228\n"
     ]
    },
    {
     "data": {
      "application/vnd.jupyter.widget-view+json": {
       "model_id": "23ba682499ea4340870b98a233f19350",
       "version_major": 2,
       "version_minor": 0
      },
      "text/plain": [
       "HBox(children=(VBox(children=(IntProgress(value=0, max=1000), HTML(value=''))), Box(children=(HTML(value=''),)…"
      ]
     },
     "metadata": {},
     "output_type": "display_data"
    },
    {
     "name": "stdout",
     "output_type": "stream",
     "text": [
      "Optimization restart 1/10, f = -298.7252971196966\n",
      "Optimization restart 2/10, f = -298.725296575827\n",
      "Optimization restart 3/10, f = -298.72529712006695\n",
      "Optimization restart 4/10, f = -298.7252971125605\n",
      "Optimization restart 5/10, f = -298.72529711978484\n",
      "Optimization restart 6/10, f = -298.7252971194987\n",
      "Optimization restart 7/10, f = -298.72529712012954\n",
      "Optimization restart 8/10, f = -298.7252971191106\n",
      "Optimization restart 9/10, f = -298.72529712030524\n",
      "Optimization restart 10/10, f = -298.7252971201922\n",
      "229\n"
     ]
    },
    {
     "data": {
      "application/vnd.jupyter.widget-view+json": {
       "model_id": "e7702a29351046e0932a714132636066",
       "version_major": 2,
       "version_minor": 0
      },
      "text/plain": [
       "HBox(children=(VBox(children=(IntProgress(value=0, max=1000), HTML(value=''))), Box(children=(HTML(value=''),)…"
      ]
     },
     "metadata": {},
     "output_type": "display_data"
    },
    {
     "name": "stdout",
     "output_type": "stream",
     "text": [
      "Optimization restart 1/10, f = 166.0926259209512\n",
      "Optimization restart 2/10, f = 166.09262592347358\n",
      "Optimization restart 3/10, f = 166.0926259195818\n",
      "Optimization restart 4/10, f = 166.09262591947567\n",
      "Optimization restart 5/10, f = 166.09262592996362\n",
      "Optimization restart 6/10, f = 166.09262591959626\n",
      "Optimization restart 7/10, f = 166.0926259189349\n",
      "Optimization restart 8/10, f = 166.09262591887182\n",
      "Optimization restart 9/10, f = 166.09262591891235\n",
      "Optimization restart 10/10, f = 166.09262591887975\n",
      "230\n"
     ]
    },
    {
     "data": {
      "application/vnd.jupyter.widget-view+json": {
       "model_id": "89ba5e771bb14c40b965b9bad386696f",
       "version_major": 2,
       "version_minor": 0
      },
      "text/plain": [
       "HBox(children=(VBox(children=(IntProgress(value=0, max=1000), HTML(value=''))), Box(children=(HTML(value=''),)…"
      ]
     },
     "metadata": {},
     "output_type": "display_data"
    },
    {
     "name": "stdout",
     "output_type": "stream",
     "text": [
      "Optimization restart 1/10, f = 95.2279371872461\n",
      "Optimization restart 2/10, f = 95.22793718583014\n",
      "Optimization restart 3/10, f = 95.22793718565559\n",
      "Optimization restart 4/10, f = 95.2279371860896\n",
      "Optimization restart 5/10, f = 95.22793718670593\n",
      "Optimization restart 6/10, f = 95.22793718955032\n",
      "Optimization restart 7/10, f = 95.22793718707433\n",
      "Optimization restart 8/10, f = 95.2279371872508\n",
      "Optimization restart 9/10, f = 95.2279371938786\n",
      "Optimization restart 10/10, f = 95.22793718557176\n",
      "231\n"
     ]
    },
    {
     "data": {
      "application/vnd.jupyter.widget-view+json": {
       "model_id": "e0c93626cf42439da0e3ad1718e4e5b4",
       "version_major": 2,
       "version_minor": 0
      },
      "text/plain": [
       "HBox(children=(VBox(children=(IntProgress(value=0, max=1000), HTML(value=''))), Box(children=(HTML(value=''),)…"
      ]
     },
     "metadata": {},
     "output_type": "display_data"
    },
    {
     "name": "stdout",
     "output_type": "stream",
     "text": [
      "Optimization restart 1/10, f = 110.31238958936686\n",
      "Optimization restart 2/10, f = 110.31238959020094\n",
      "Optimization restart 3/10, f = 110.31238958975767\n",
      "Optimization restart 4/10, f = 110.31238958936441\n",
      "Optimization restart 5/10, f = 110.31238958942482\n",
      "Optimization restart 6/10, f = 110.31238958940327\n",
      "Optimization restart 7/10, f = 110.3123895898591\n",
      "Optimization restart 8/10, f = 110.31238958936842\n",
      "Optimization restart 9/10, f = 110.3123895990402\n",
      "Optimization restart 10/10, f = 110.31238959794939\n",
      "232\n"
     ]
    },
    {
     "data": {
      "application/vnd.jupyter.widget-view+json": {
       "model_id": "0662377cb04849dba7d1ff1cc9aa5602",
       "version_major": 2,
       "version_minor": 0
      },
      "text/plain": [
       "HBox(children=(VBox(children=(IntProgress(value=0, max=1000), HTML(value=''))), Box(children=(HTML(value=''),)…"
      ]
     },
     "metadata": {},
     "output_type": "display_data"
    },
    {
     "name": "stdout",
     "output_type": "stream",
     "text": [
      "Optimization restart 1/10, f = 48.76722967121549\n",
      "Optimization restart 2/10, f = 48.76722967449021\n",
      "Optimization restart 3/10, f = 48.76722973765237\n",
      "Optimization restart 4/10, f = 48.767229671200596\n",
      "Optimization restart 5/10, f = 48.767229671770025\n",
      "Optimization restart 6/10, f = 48.767229671193434\n",
      "Optimization restart 7/10, f = 48.76722967119312\n",
      "Optimization restart 8/10, f = 48.76722967124982\n",
      "Optimization restart 9/10, f = 48.7672296713622\n",
      "Optimization restart 10/10, f = 48.767229671245374\n",
      "233\n"
     ]
    },
    {
     "data": {
      "application/vnd.jupyter.widget-view+json": {
       "model_id": "dd1082a8fed04f47b4c7a38abb3a71e6",
       "version_major": 2,
       "version_minor": 0
      },
      "text/plain": [
       "HBox(children=(VBox(children=(IntProgress(value=0, max=1000), HTML(value=''))), Box(children=(HTML(value=''),)…"
      ]
     },
     "metadata": {},
     "output_type": "display_data"
    },
    {
     "name": "stdout",
     "output_type": "stream",
     "text": [
      "Optimization restart 1/10, f = 106.24535472359614\n",
      "Optimization restart 2/10, f = 106.24535499267486\n",
      "Optimization restart 3/10, f = 106.24535482226327\n",
      "Optimization restart 4/10, f = 106.24535472917277\n",
      "Optimization restart 5/10, f = 106.24535474148587\n",
      "Optimization restart 6/10, f = 106.24535475989627\n",
      "Optimization restart 7/10, f = 106.24535472668992\n",
      "Optimization restart 8/10, f = 106.24535472807452\n",
      "Optimization restart 9/10, f = 106.245354724702\n",
      "Optimization restart 10/10, f = 106.2453547233728\n",
      "234\n",
      "Could not compute spearmans matrix, for df BR_0000827\n",
      "235\n"
     ]
    },
    {
     "data": {
      "application/vnd.jupyter.widget-view+json": {
       "model_id": "ae38a9af7bbc473f9aa5d41f717e6543",
       "version_major": 2,
       "version_minor": 0
      },
      "text/plain": [
       "HBox(children=(VBox(children=(IntProgress(value=0, max=1000), HTML(value=''))), Box(children=(HTML(value=''),)…"
      ]
     },
     "metadata": {},
     "output_type": "display_data"
    },
    {
     "name": "stdout",
     "output_type": "stream",
     "text": [
      "Optimization restart 1/10, f = 66.29980756691552\n",
      "Optimization restart 2/10, f = 66.29980757291324\n",
      "Optimization restart 3/10, f = 66.29980756617012\n",
      "Optimization restart 4/10, f = 66.29980756673797\n",
      "Optimization restart 5/10, f = 66.29980756633358\n",
      "Optimization restart 6/10, f = 66.29980756617097\n",
      "Optimization restart 7/10, f = 66.2998075663441\n",
      "Optimization restart 8/10, f = 66.29980756988958\n",
      "Optimization restart 9/10, f = 66.29980756628524\n",
      "Optimization restart 10/10, f = 66.29980756805242\n",
      "236\n",
      "Could not compute spearmans matrix, for df BR_0000839\n",
      "237\n"
     ]
    },
    {
     "data": {
      "application/vnd.jupyter.widget-view+json": {
       "model_id": "49f0326ef84148df91b0427e968e3483",
       "version_major": 2,
       "version_minor": 0
      },
      "text/plain": [
       "HBox(children=(VBox(children=(IntProgress(value=0, max=1000), HTML(value=''))), Box(children=(HTML(value=''),)…"
      ]
     },
     "metadata": {},
     "output_type": "display_data"
    },
    {
     "name": "stdout",
     "output_type": "stream",
     "text": [
      "Optimization restart 1/10, f = -0.07048010589296183\n",
      "Optimization restart 2/10, f = -0.07048010587948284\n",
      "Optimization restart 3/10, f = -0.0704801058362392\n",
      "Optimization restart 4/10, f = -0.07048010589211628\n",
      "Optimization restart 5/10, f = -0.07048010589137021\n",
      "Optimization restart 6/10, f = -0.0704801058892528\n",
      "Optimization restart 7/10, f = -0.07048010587298137\n",
      "Optimization restart 8/10, f = -0.07048006796738804\n",
      "Optimization restart 9/10, f = -0.07048010589838327\n",
      "Optimization restart 10/10, f = -0.07048010588223974\n",
      "238\n"
     ]
    },
    {
     "data": {
      "application/vnd.jupyter.widget-view+json": {
       "model_id": "2db3a6a9c36845bf9b70cc9956a4b979",
       "version_major": 2,
       "version_minor": 0
      },
      "text/plain": [
       "HBox(children=(VBox(children=(IntProgress(value=0, max=1000), HTML(value=''))), Box(children=(HTML(value=''),)…"
      ]
     },
     "metadata": {},
     "output_type": "display_data"
    },
    {
     "name": "stdout",
     "output_type": "stream",
     "text": [
      "Optimization restart 1/10, f = 237.27529487456297\n",
      "Optimization restart 2/10, f = 237.2752948688465\n",
      "Optimization restart 3/10, f = 237.27529486606085\n",
      "Optimization restart 4/10, f = 237.2752949551114\n",
      "Optimization restart 5/10, f = 237.27529486527953\n",
      "Optimization restart 6/10, f = 237.27529486572308\n",
      "Optimization restart 7/10, f = 237.27529486582577\n",
      "Optimization restart 8/10, f = 237.27529486872783\n",
      "Optimization restart 9/10, f = 237.27529486569608\n",
      "Optimization restart 10/10, f = 237.2752948708985\n",
      "239\n"
     ]
    },
    {
     "data": {
      "application/vnd.jupyter.widget-view+json": {
       "model_id": "5e347f6078884621a3a257b41de6e925",
       "version_major": 2,
       "version_minor": 0
      },
      "text/plain": [
       "HBox(children=(VBox(children=(IntProgress(value=0, max=1000), HTML(value=''))), Box(children=(HTML(value=''),)…"
      ]
     },
     "metadata": {},
     "output_type": "display_data"
    },
    {
     "name": "stdout",
     "output_type": "stream",
     "text": [
      "Optimization restart 1/10, f = 128.90215864147524\n",
      "Optimization restart 2/10, f = 128.90215864099457\n",
      "Optimization restart 3/10, f = 128.9021586411994\n",
      "Optimization restart 4/10, f = 128.90215864093534\n",
      "Optimization restart 5/10, f = 128.90215864386886\n",
      "Optimization restart 6/10, f = 128.90215864556836\n",
      "Optimization restart 7/10, f = 128.90215864095308\n",
      "Optimization restart 8/10, f = 128.90215864128797\n",
      "Optimization restart 9/10, f = 128.9021586409053\n",
      "Optimization restart 10/10, f = 128.9021586496608\n",
      "240\n"
     ]
    },
    {
     "data": {
      "application/vnd.jupyter.widget-view+json": {
       "model_id": "ba355f93068b48fd882c22d7b0ad0b00",
       "version_major": 2,
       "version_minor": 0
      },
      "text/plain": [
       "HBox(children=(VBox(children=(IntProgress(value=0, max=1000), HTML(value=''))), Box(children=(HTML(value=''),)…"
      ]
     },
     "metadata": {},
     "output_type": "display_data"
    },
    {
     "name": "stdout",
     "output_type": "stream",
     "text": [
      "Optimization restart 1/10, f = -195.92148132891785\n",
      "Optimization restart 2/10, f = -195.92148133984404\n",
      "Optimization restart 3/10, f = -195.92148134208776\n",
      "Optimization restart 4/10, f = -195.92148104405737\n",
      "Optimization restart 5/10, f = -195.9214813420666\n",
      "Optimization restart 6/10, f = -195.921481341033\n",
      "Optimization restart 7/10, f = -195.92148132690164\n",
      "Optimization restart 8/10, f = -195.92148133765625\n",
      "Optimization restart 9/10, f = -195.92148131738992\n",
      "Optimization restart 10/10, f = -195.92148134061466\n",
      "241\n",
      "Could not compute spearmans matrix, for df BR_0001367\n",
      "242\n"
     ]
    },
    {
     "data": {
      "application/vnd.jupyter.widget-view+json": {
       "model_id": "00e4f7a4cc634c6abfd9e7042d03698e",
       "version_major": 2,
       "version_minor": 0
      },
      "text/plain": [
       "HBox(children=(VBox(children=(IntProgress(value=0, max=1000), HTML(value=''))), Box(children=(HTML(value=''),)…"
      ]
     },
     "metadata": {},
     "output_type": "display_data"
    },
    {
     "name": "stdout",
     "output_type": "stream",
     "text": [
      "Optimization restart 1/10, f = 30.09227794433037\n",
      "Optimization restart 2/10, f = 30.092277944511913\n",
      "Optimization restart 3/10, f = 30.092277944387828\n",
      "Optimization restart 4/10, f = 30.09227794529642\n",
      "Optimization restart 5/10, f = 30.092277944188975\n",
      "Optimization restart 6/10, f = 30.092277945857397\n",
      "Optimization restart 7/10, f = 30.092277944681246\n",
      "Optimization restart 8/10, f = 30.092277944052142\n",
      "Optimization restart 9/10, f = 30.092277944068105\n",
      "Optimization restart 10/10, f = 30.09227794937972\n",
      "243\n"
     ]
    },
    {
     "data": {
      "application/vnd.jupyter.widget-view+json": {
       "model_id": "5951444a503f4c4e866ef39c570dabd4",
       "version_major": 2,
       "version_minor": 0
      },
      "text/plain": [
       "HBox(children=(VBox(children=(IntProgress(value=0, max=1000), HTML(value=''))), Box(children=(HTML(value=''),)…"
      ]
     },
     "metadata": {},
     "output_type": "display_data"
    },
    {
     "name": "stdout",
     "output_type": "stream",
     "text": [
      "Optimization restart 1/10, f = 169.872136546325\n",
      "Optimization restart 2/10, f = 169.87213657024753\n",
      "Optimization restart 3/10, f = 169.87213654578605\n",
      "Optimization restart 4/10, f = 169.8721365542781\n",
      "Optimization restart 5/10, f = 169.87213655623472\n",
      "Optimization restart 6/10, f = 169.87213654586657\n",
      "Optimization restart 7/10, f = 169.87213705004086\n",
      "Optimization restart 8/10, f = 169.87213654564943\n",
      "Optimization restart 9/10, f = 169.8721365457367\n",
      "Optimization restart 10/10, f = 169.87213654565454\n",
      "244\n"
     ]
    },
    {
     "data": {
      "application/vnd.jupyter.widget-view+json": {
       "model_id": "36f6219f1beb42bea14542d7df09dff9",
       "version_major": 2,
       "version_minor": 0
      },
      "text/plain": [
       "HBox(children=(VBox(children=(IntProgress(value=0, max=1000), HTML(value=''))), Box(children=(HTML(value=''),)…"
      ]
     },
     "metadata": {},
     "output_type": "display_data"
    },
    {
     "name": "stdout",
     "output_type": "stream",
     "text": [
      "Optimization restart 1/10, f = 68.9928290328437\n",
      "Optimization restart 2/10, f = 68.99282903057909\n",
      "Optimization restart 3/10, f = 68.99282903045939\n",
      "Optimization restart 4/10, f = 68.99282916874434\n",
      "Optimization restart 5/10, f = 68.99282903031066\n",
      "Optimization restart 6/10, f = 68.9928290304361\n",
      "Optimization restart 7/10, f = 68.99282903030996\n",
      "Optimization restart 8/10, f = 68.99282906121778\n",
      "Optimization restart 9/10, f = 68.99282903034054\n",
      "Optimization restart 10/10, f = 68.99282903088366\n",
      "245\n"
     ]
    },
    {
     "data": {
      "application/vnd.jupyter.widget-view+json": {
       "model_id": "1c0ebbaa17014efaa1aa0bd827397203",
       "version_major": 2,
       "version_minor": 0
      },
      "text/plain": [
       "HBox(children=(VBox(children=(IntProgress(value=0, max=1000), HTML(value=''))), Box(children=(HTML(value=''),)…"
      ]
     },
     "metadata": {},
     "output_type": "display_data"
    },
    {
     "name": "stdout",
     "output_type": "stream",
     "text": [
      "Optimization restart 1/10, f = 345.11162565195673\n",
      "Optimization restart 2/10, f = 345.11162565195684\n",
      "Optimization restart 3/10, f = 345.1116256519644\n",
      "Optimization restart 4/10, f = 345.1116256521513\n",
      "Optimization restart 5/10, f = 345.1116256521509\n",
      "Optimization restart 6/10, f = 345.11162565329727\n",
      "Optimization restart 7/10, f = 345.1116256803291\n",
      "Optimization restart 8/10, f = 345.1116256603234\n",
      "Optimization restart 9/10, f = 345.1116277193879\n",
      "Optimization restart 10/10, f = 345.1116256653141\n",
      "246\n"
     ]
    },
    {
     "data": {
      "application/vnd.jupyter.widget-view+json": {
       "model_id": "0f89f746ae744a46b0e043c9657add93",
       "version_major": 2,
       "version_minor": 0
      },
      "text/plain": [
       "HBox(children=(VBox(children=(IntProgress(value=0, max=1000), HTML(value=''))), Box(children=(HTML(value=''),)…"
      ]
     },
     "metadata": {},
     "output_type": "display_data"
    },
    {
     "name": "stdout",
     "output_type": "stream",
     "text": [
      "Optimization restart 1/10, f = 218.18391395723296\n",
      "Optimization restart 2/10, f = 218.1839139365894\n",
      "Optimization restart 3/10, f = 218.18391393679354\n",
      "Optimization restart 4/10, f = 218.18391395878817\n",
      "Optimization restart 5/10, f = 218.1839139369083\n",
      "Optimization restart 6/10, f = 218.18391393839065\n",
      "Optimization restart 7/10, f = 218.18391393656015\n",
      "Optimization restart 8/10, f = 218.1839139376496\n",
      "Optimization restart 9/10, f = 218.18391393654395\n",
      "Optimization restart 10/10, f = 218.1839139505975\n",
      "247\n"
     ]
    },
    {
     "data": {
      "application/vnd.jupyter.widget-view+json": {
       "model_id": "4415ef6cc6ed45bb90890551f043d4bd",
       "version_major": 2,
       "version_minor": 0
      },
      "text/plain": [
       "HBox(children=(VBox(children=(IntProgress(value=0, max=1000), HTML(value=''))), Box(children=(HTML(value=''),)…"
      ]
     },
     "metadata": {},
     "output_type": "display_data"
    },
    {
     "name": "stdout",
     "output_type": "stream",
     "text": [
      "Optimization restart 1/10, f = 140.75047372660902\n",
      "Optimization restart 2/10, f = 140.75047334960703\n",
      "Optimization restart 3/10, f = 140.75047324974742\n",
      "Optimization restart 4/10, f = 140.75047323734168\n",
      "Optimization restart 5/10, f = 140.75047331142696\n",
      "Optimization restart 6/10, f = 140.75047323741074\n",
      "Optimization restart 7/10, f = 140.75047325982047\n",
      "Optimization restart 8/10, f = 140.75047324236462\n",
      "Optimization restart 9/10, f = 140.7504735749566\n",
      "Optimization restart 10/10, f = 140.75047336674245\n",
      "248\n",
      "could not train the model for df BR_0001534\n",
      "249\n"
     ]
    },
    {
     "data": {
      "application/vnd.jupyter.widget-view+json": {
       "model_id": "ae57427624924e94b93af753f517cb0b",
       "version_major": 2,
       "version_minor": 0
      },
      "text/plain": [
       "HBox(children=(VBox(children=(IntProgress(value=0, max=1000), HTML(value=''))), Box(children=(HTML(value=''),)…"
      ]
     },
     "metadata": {},
     "output_type": "display_data"
    },
    {
     "name": "stdout",
     "output_type": "stream",
     "text": [
      "Optimization restart 1/10, f = 155.05568846403054\n",
      "Optimization restart 2/10, f = 155.05568847584638\n",
      "Optimization restart 3/10, f = 155.05568846431083\n",
      "Optimization restart 4/10, f = 155.05568846487563\n",
      "Optimization restart 5/10, f = 155.05568846540564\n",
      "Optimization restart 6/10, f = 155.05568846428747\n",
      "Optimization restart 7/10, f = 155.0556884635153\n",
      "Optimization restart 8/10, f = 155.05568872028977\n",
      "Optimization restart 9/10, f = 155.0556884640294\n",
      "Optimization restart 10/10, f = 155.0556884649289\n",
      "250\n"
     ]
    },
    {
     "data": {
      "application/vnd.jupyter.widget-view+json": {
       "model_id": "96e931f5d5694d40b0b593e97995d6f5",
       "version_major": 2,
       "version_minor": 0
      },
      "text/plain": [
       "HBox(children=(VBox(children=(IntProgress(value=0, max=1000), HTML(value=''))), Box(children=(HTML(value=''),)…"
      ]
     },
     "metadata": {},
     "output_type": "display_data"
    },
    {
     "name": "stdout",
     "output_type": "stream",
     "text": [
      "Optimization restart 1/10, f = 204.78707130703077\n",
      "Optimization restart 2/10, f = 204.78707130894009\n",
      "Optimization restart 3/10, f = 204.78707131195816\n",
      "Optimization restart 4/10, f = 204.7870713070006\n",
      "Optimization restart 5/10, f = 204.7870713070717\n",
      "Optimization restart 6/10, f = 204.7870713070192\n",
      "Optimization restart 7/10, f = 204.78707130801163\n",
      "Optimization restart 8/10, f = 204.78707130735924\n",
      "Optimization restart 9/10, f = 204.78707130983983\n",
      "Optimization restart 10/10, f = 204.7870713071881\n",
      "251\n",
      "Could not compute spearmans matrix, for df BR_0000819\n",
      "252\n"
     ]
    },
    {
     "data": {
      "application/vnd.jupyter.widget-view+json": {
       "model_id": "d575babb035a40c6882c352ad4522cab",
       "version_major": 2,
       "version_minor": 0
      },
      "text/plain": [
       "HBox(children=(VBox(children=(IntProgress(value=0, max=1000), HTML(value=''))), Box(children=(HTML(value=''),)…"
      ]
     },
     "metadata": {},
     "output_type": "display_data"
    },
    {
     "name": "stdout",
     "output_type": "stream",
     "text": [
      "Optimization restart 1/10, f = 40.96497206370993\n",
      "Optimization restart 2/10, f = 40.96497206371678\n",
      "Optimization restart 3/10, f = 40.9649720636866\n",
      "Optimization restart 4/10, f = 40.96497206477567\n",
      "Optimization restart 5/10, f = 40.96497206364904\n",
      "Optimization restart 6/10, f = 40.96497206607528\n",
      "Optimization restart 7/10, f = 40.96497206364966\n",
      "Optimization restart 8/10, f = 40.96497206386063\n",
      "Optimization restart 9/10, f = 40.96497206373109\n",
      "Optimization restart 10/10, f = 40.964972066647476\n",
      "253\n"
     ]
    },
    {
     "data": {
      "application/vnd.jupyter.widget-view+json": {
       "model_id": "1c5376815c6941959d2135a773e948c8",
       "version_major": 2,
       "version_minor": 0
      },
      "text/plain": [
       "HBox(children=(VBox(children=(IntProgress(value=0, max=1000), HTML(value=''))), Box(children=(HTML(value=''),)…"
      ]
     },
     "metadata": {},
     "output_type": "display_data"
    },
    {
     "name": "stdout",
     "output_type": "stream",
     "text": [
      "Optimization restart 1/10, f = -15.753377656356225\n",
      "Optimization restart 2/10, f = -15.753377656352406\n",
      "Optimization restart 3/10, f = -15.753377656357756\n",
      "Optimization restart 4/10, f = -15.7533776561766\n",
      "Optimization restart 5/10, f = -15.753377656382558\n",
      "Optimization restart 6/10, f = -15.753377649427797\n",
      "Optimization restart 7/10, f = -15.753377656215296\n",
      "Optimization restart 8/10, f = -15.753377656356214\n",
      "Optimization restart 9/10, f = -15.753377656263996\n",
      "Optimization restart 10/10, f = -15.753377656355479\n",
      "254\n"
     ]
    },
    {
     "data": {
      "application/vnd.jupyter.widget-view+json": {
       "model_id": "3def0c8a353c4686b8a3d89156667ac1",
       "version_major": 2,
       "version_minor": 0
      },
      "text/plain": [
       "HBox(children=(VBox(children=(IntProgress(value=0, max=1000), HTML(value=''))), Box(children=(HTML(value=''),)…"
      ]
     },
     "metadata": {},
     "output_type": "display_data"
    },
    {
     "name": "stdout",
     "output_type": "stream",
     "text": [
      "Optimization restart 1/10, f = 0.5403337320243082\n",
      "Optimization restart 2/10, f = 0.5403337320403097\n",
      "Optimization restart 3/10, f = 0.5403337320578743\n",
      "Optimization restart 4/10, f = 0.5403337323833313\n",
      "Optimization restart 5/10, f = 0.540333732110895\n",
      "Optimization restart 6/10, f = 0.54033373235103\n",
      "Optimization restart 7/10, f = 0.540334083511155\n"
     ]
    },
    {
     "name": "stderr",
     "output_type": "stream",
     "text": [
      " C:\\Users\\marku\\Anaconda3\\lib\\site-packages\\GPy\\kern\\src\\stationary.py:168: RuntimeWarning:overflow encountered in true_divide\n",
      " C:\\Users\\marku\\Anaconda3\\lib\\site-packages\\GPy\\kern\\src\\stationary.py:468: RuntimeWarning:overflow encountered in multiply\n",
      " C:\\Users\\marku\\Anaconda3\\lib\\site-packages\\GPy\\kern\\src\\stationary.py:468: RuntimeWarning:invalid value encountered in multiply\n"
     ]
    },
    {
     "name": "stdout",
     "output_type": "stream",
     "text": [
      "Optimization restart 8/10, f = 0.6044601722011009\n",
      "Optimization restart 9/10, f = 0.5403337320093868\n",
      "Optimization restart 10/10, f = 0.5403337783690887\n",
      "255\n"
     ]
    },
    {
     "data": {
      "application/vnd.jupyter.widget-view+json": {
       "model_id": "6d60e2a04acd4321bbcfbe6c844d3cb1",
       "version_major": 2,
       "version_minor": 0
      },
      "text/plain": [
       "HBox(children=(VBox(children=(IntProgress(value=0, max=1000), HTML(value=''))), Box(children=(HTML(value=''),)…"
      ]
     },
     "metadata": {},
     "output_type": "display_data"
    },
    {
     "name": "stdout",
     "output_type": "stream",
     "text": [
      "Optimization restart 1/10, f = 170.91866887985114\n",
      "Optimization restart 2/10, f = 170.91866888093875\n",
      "Optimization restart 3/10, f = 170.91866903692897\n",
      "Optimization restart 4/10, f = 170.9186688800521\n",
      "Optimization restart 5/10, f = 170.9186688797063\n",
      "Optimization restart 6/10, f = 170.9186688857332\n",
      "Optimization restart 7/10, f = 170.9186688837849\n",
      "Optimization restart 8/10, f = 170.91866889147232\n",
      "Optimization restart 9/10, f = 170.9186688806035\n",
      "Optimization restart 10/10, f = 170.9186688877997\n",
      "256\n"
     ]
    },
    {
     "data": {
      "application/vnd.jupyter.widget-view+json": {
       "model_id": "ffc9cbcbcb4f4ac3bcc103fd1a6fdca4",
       "version_major": 2,
       "version_minor": 0
      },
      "text/plain": [
       "HBox(children=(VBox(children=(IntProgress(value=0, max=1000), HTML(value=''))), Box(children=(HTML(value=''),)…"
      ]
     },
     "metadata": {},
     "output_type": "display_data"
    },
    {
     "name": "stdout",
     "output_type": "stream",
     "text": [
      "Optimization restart 1/10, f = 285.6073305120558\n",
      "Optimization restart 2/10, f = 285.60733047680804\n",
      "Optimization restart 3/10, f = 285.60733086857385\n",
      "Optimization restart 4/10, f = 285.60733055394076\n",
      "Optimization restart 5/10, f = 285.60733045113284\n",
      "Optimization restart 6/10, f = 285.6073304067964\n",
      "Optimization restart 7/10, f = 285.60733040629407\n",
      "Optimization restart 8/10, f = 285.60733040549275\n",
      "Optimization restart 9/10, f = 285.60733040595306\n",
      "Optimization restart 10/10, f = 285.60733045846086\n",
      "257\n"
     ]
    },
    {
     "data": {
      "application/vnd.jupyter.widget-view+json": {
       "model_id": "e1f30ded98c143f8a2fe44c618b2fd10",
       "version_major": 2,
       "version_minor": 0
      },
      "text/plain": [
       "HBox(children=(VBox(children=(IntProgress(value=0, max=1000), HTML(value=''))), Box(children=(HTML(value=''),)…"
      ]
     },
     "metadata": {},
     "output_type": "display_data"
    },
    {
     "name": "stdout",
     "output_type": "stream",
     "text": [
      "Optimization restart 1/10, f = 50.44908276410257\n",
      "Optimization restart 2/10, f = 50.44908276408057\n",
      "Optimization restart 3/10, f = 50.44908276408117\n",
      "Optimization restart 4/10, f = 50.44908276408121\n",
      "Optimization restart 5/10, f = 50.44908276409056\n",
      "Optimization restart 6/10, f = 50.44908276408468\n",
      "Optimization restart 7/10, f = 50.449082764086775\n",
      "Optimization restart 8/10, f = 50.44908276458588\n",
      "Optimization restart 9/10, f = 50.44908276493088\n",
      "Optimization restart 10/10, f = 50.449082764956174\n",
      "258\n"
     ]
    },
    {
     "data": {
      "application/vnd.jupyter.widget-view+json": {
       "model_id": "a6c42bbc2d4947c8a9d41051250545ea",
       "version_major": 2,
       "version_minor": 0
      },
      "text/plain": [
       "HBox(children=(VBox(children=(IntProgress(value=0, max=1000), HTML(value=''))), Box(children=(HTML(value=''),)…"
      ]
     },
     "metadata": {},
     "output_type": "display_data"
    },
    {
     "name": "stdout",
     "output_type": "stream",
     "text": [
      "Optimization restart 1/10, f = 208.4892135870643\n",
      "Optimization restart 2/10, f = 208.48921366349492\n",
      "Optimization restart 3/10, f = 208.489213624309\n",
      "Optimization restart 4/10, f = 208.48921358711343\n",
      "Optimization restart 5/10, f = 208.48921359036714\n",
      "Optimization restart 6/10, f = 208.48921358796622\n",
      "Optimization restart 7/10, f = 208.4892135924267\n",
      "Optimization restart 8/10, f = 208.48921358708773\n",
      "Optimization restart 9/10, f = 208.4892135885364\n",
      "Optimization restart 10/10, f = 208.48921358708344\n",
      "259\n"
     ]
    },
    {
     "data": {
      "application/vnd.jupyter.widget-view+json": {
       "model_id": "bf7b204ff4914502af7b648b008d3b0d",
       "version_major": 2,
       "version_minor": 0
      },
      "text/plain": [
       "HBox(children=(VBox(children=(IntProgress(value=0, max=1000), HTML(value=''))), Box(children=(HTML(value=''),)…"
      ]
     },
     "metadata": {},
     "output_type": "display_data"
    },
    {
     "name": "stdout",
     "output_type": "stream",
     "text": [
      "Optimization restart 1/10, f = 36.42840248914423\n",
      "Optimization restart 2/10, f = 36.4284024899193\n",
      "Optimization restart 3/10, f = 36.42840248875548\n",
      "Optimization restart 4/10, f = 36.428402489236205\n",
      "Optimization restart 5/10, f = 36.428402488563115\n",
      "Optimization restart 6/10, f = 36.4284024885648\n",
      "Optimization restart 7/10, f = 36.428402489499106\n",
      "Optimization restart 8/10, f = 36.42840248865066\n",
      "Optimization restart 9/10, f = 36.42840249151129\n",
      "Optimization restart 10/10, f = 36.42840248859052\n",
      "260\n"
     ]
    },
    {
     "data": {
      "application/vnd.jupyter.widget-view+json": {
       "model_id": "fcd0e34deb2f460c87750e61f05ef37f",
       "version_major": 2,
       "version_minor": 0
      },
      "text/plain": [
       "HBox(children=(VBox(children=(IntProgress(value=0, max=1000), HTML(value=''))), Box(children=(HTML(value=''),)…"
      ]
     },
     "metadata": {},
     "output_type": "display_data"
    },
    {
     "name": "stdout",
     "output_type": "stream",
     "text": [
      "Optimization restart 1/10, f = 133.15524409118922\n",
      "Optimization restart 2/10, f = 133.15524408564912\n",
      "Optimization restart 3/10, f = 133.15524408564625\n",
      "Optimization restart 4/10, f = 133.1552440857753\n",
      "Optimization restart 5/10, f = 133.1552440884093\n",
      "Optimization restart 6/10, f = 133.1552440856454\n",
      "Optimization restart 7/10, f = 133.1552440857392\n",
      "Optimization restart 8/10, f = 133.15524408564838\n",
      "Optimization restart 9/10, f = 133.15524408570522\n",
      "Optimization restart 10/10, f = 133.1552440862872\n",
      "261\n"
     ]
    },
    {
     "data": {
      "application/vnd.jupyter.widget-view+json": {
       "model_id": "985a50fbfe5c49ff9b01481db45887f8",
       "version_major": 2,
       "version_minor": 0
      },
      "text/plain": [
       "HBox(children=(VBox(children=(IntProgress(value=0, max=1000), HTML(value=''))), Box(children=(HTML(value=''),)…"
      ]
     },
     "metadata": {},
     "output_type": "display_data"
    },
    {
     "name": "stdout",
     "output_type": "stream",
     "text": [
      "Optimization restart 1/10, f = 44.860017043229576\n",
      "Optimization restart 2/10, f = 44.860017043850675\n",
      "Optimization restart 3/10, f = 44.86001704826907\n",
      "Optimization restart 4/10, f = 44.860017043282504\n",
      "Optimization restart 5/10, f = 44.8600170443857\n",
      "Optimization restart 6/10, f = 44.860017044324096\n",
      "Optimization restart 7/10, f = 44.86001704305894\n",
      "Optimization restart 8/10, f = 44.86001704306977\n",
      "Optimization restart 9/10, f = 44.86001704309297\n",
      "Optimization restart 10/10, f = 44.86001704313606\n",
      "262\n"
     ]
    },
    {
     "data": {
      "application/vnd.jupyter.widget-view+json": {
       "model_id": "db621baeb2c24051ad0d86ade47f07ae",
       "version_major": 2,
       "version_minor": 0
      },
      "text/plain": [
       "HBox(children=(VBox(children=(IntProgress(value=0, max=1000), HTML(value=''))), Box(children=(HTML(value=''),)…"
      ]
     },
     "metadata": {},
     "output_type": "display_data"
    },
    {
     "name": "stdout",
     "output_type": "stream",
     "text": [
      "Optimization restart 1/10, f = 53.004252302708466\n",
      "Optimization restart 2/10, f = 53.0042522944427\n",
      "Optimization restart 3/10, f = 53.00425229506755\n",
      "Optimization restart 4/10, f = 53.00425229549131\n",
      "Optimization restart 5/10, f = 53.00425229526992\n",
      "Optimization restart 6/10, f = 53.00425229573243\n",
      "Optimization restart 7/10, f = 53.004252295388376\n",
      "Optimization restart 8/10, f = 53.00425230173983\n",
      "Optimization restart 9/10, f = 53.00425229444201\n",
      "Optimization restart 10/10, f = 53.00425229531759\n",
      "263\n"
     ]
    },
    {
     "data": {
      "application/vnd.jupyter.widget-view+json": {
       "model_id": "d60fc7efd64e4e16bc989145e5bbca26",
       "version_major": 2,
       "version_minor": 0
      },
      "text/plain": [
       "HBox(children=(VBox(children=(IntProgress(value=0, max=1000), HTML(value=''))), Box(children=(HTML(value=''),)…"
      ]
     },
     "metadata": {},
     "output_type": "display_data"
    },
    {
     "name": "stdout",
     "output_type": "stream",
     "text": [
      "Optimization restart 1/10, f = -1.805273644625748\n",
      "Optimization restart 2/10, f = -1.8052736447423303\n",
      "Optimization restart 3/10, f = -1.805273644728329\n",
      "Optimization restart 4/10, f = -1.8052736447427948\n",
      "Optimization restart 5/10, f = -1.8052736447411561\n",
      "Optimization restart 6/10, f = -1.805273644741769\n",
      "Optimization restart 7/10, f = -1.80527364461385\n",
      "Optimization restart 8/10, f = -1.8052736445021704\n",
      "Optimization restart 9/10, f = -1.8052736446762392\n",
      "Optimization restart 10/10, f = -1.8052736447437718\n",
      "264\n",
      "could not train the model for df BR_0002819\n",
      "265\n"
     ]
    },
    {
     "data": {
      "application/vnd.jupyter.widget-view+json": {
       "model_id": "c91abb9a5cf3495e96c13d086a7272c0",
       "version_major": 2,
       "version_minor": 0
      },
      "text/plain": [
       "HBox(children=(VBox(children=(IntProgress(value=0, max=1000), HTML(value=''))), Box(children=(HTML(value=''),)…"
      ]
     },
     "metadata": {},
     "output_type": "display_data"
    },
    {
     "name": "stdout",
     "output_type": "stream",
     "text": [
      "Optimization restart 1/10, f = 128.18527432417815\n",
      "Optimization restart 2/10, f = 128.18527432378573\n",
      "Optimization restart 3/10, f = 128.18527437937865\n",
      "Optimization restart 4/10, f = 128.18527432735888\n",
      "Optimization restart 5/10, f = 128.18527476292164\n",
      "Optimization restart 6/10, f = 128.18527436508157\n",
      "Optimization restart 7/10, f = 128.1852743237795\n",
      "Optimization restart 8/10, f = 128.185274323984\n",
      "Optimization restart 9/10, f = 128.185274410854\n",
      "Optimization restart 10/10, f = 128.18527443599982\n",
      "266\n"
     ]
    },
    {
     "data": {
      "application/vnd.jupyter.widget-view+json": {
       "model_id": "eeb634cd478d46d3966b7889b7e8c6c9",
       "version_major": 2,
       "version_minor": 0
      },
      "text/plain": [
       "HBox(children=(VBox(children=(IntProgress(value=0, max=1000), HTML(value=''))), Box(children=(HTML(value=''),)…"
      ]
     },
     "metadata": {},
     "output_type": "display_data"
    },
    {
     "name": "stdout",
     "output_type": "stream",
     "text": [
      "Optimization restart 1/10, f = 195.70468686268305\n",
      "Optimization restart 2/10, f = 195.70468686663264\n",
      "Optimization restart 3/10, f = 195.7046902171017\n",
      "Optimization restart 4/10, f = 195.7046868637101\n",
      "Optimization restart 5/10, f = 195.70468686268424\n",
      "Optimization restart 6/10, f = 195.70468686592878\n",
      "Optimization restart 7/10, f = 195.70468686285616\n",
      "Optimization restart 8/10, f = 195.70468686575612\n",
      "Optimization restart 9/10, f = 195.70468686268222\n",
      "Optimization restart 10/10, f = 195.70468686334965\n",
      "267\n"
     ]
    },
    {
     "data": {
      "application/vnd.jupyter.widget-view+json": {
       "model_id": "9ac4437e35054bb99b0ae88462a364bd",
       "version_major": 2,
       "version_minor": 0
      },
      "text/plain": [
       "HBox(children=(VBox(children=(IntProgress(value=0, max=1000), HTML(value=''))), Box(children=(HTML(value=''),)…"
      ]
     },
     "metadata": {},
     "output_type": "display_data"
    },
    {
     "name": "stdout",
     "output_type": "stream",
     "text": [
      "Optimization restart 1/10, f = 188.62555173261757\n",
      "Optimization restart 2/10, f = 188.62555181441104\n",
      "Optimization restart 3/10, f = 188.62555173474033\n",
      "Optimization restart 4/10, f = 188.6255517319147\n",
      "Optimization restart 5/10, f = 188.62555173178845\n",
      "Optimization restart 6/10, f = 188.6255517318083\n",
      "Optimization restart 7/10, f = 188.6255517319197\n",
      "Optimization restart 8/10, f = 188.62555173215895\n",
      "Optimization restart 9/10, f = 188.6255517359683\n",
      "Optimization restart 10/10, f = 188.6255517318048\n",
      "268\n"
     ]
    },
    {
     "data": {
      "application/vnd.jupyter.widget-view+json": {
       "model_id": "70a38f7b2d6a4a96a15f990780bde8e5",
       "version_major": 2,
       "version_minor": 0
      },
      "text/plain": [
       "HBox(children=(VBox(children=(IntProgress(value=0, max=1000), HTML(value=''))), Box(children=(HTML(value=''),)…"
      ]
     },
     "metadata": {},
     "output_type": "display_data"
    },
    {
     "name": "stdout",
     "output_type": "stream",
     "text": [
      "Optimization restart 1/10, f = 17.741740788202215\n",
      "Optimization restart 2/10, f = 17.741740782583598\n",
      "Optimization restart 3/10, f = 17.741740771165915\n",
      "Optimization restart 4/10, f = 17.741740776862613\n",
      "Optimization restart 5/10, f = 17.741740797121288\n",
      "Optimization restart 6/10, f = 17.741745131223524\n",
      "Optimization restart 7/10, f = 17.7417408885656\n",
      "Optimization restart 8/10, f = 17.74174077201083\n",
      "Optimization restart 9/10, f = 17.741740799328134\n",
      "Optimization restart 10/10, f = 17.741741039385573\n",
      "269\n"
     ]
    },
    {
     "data": {
      "application/vnd.jupyter.widget-view+json": {
       "model_id": "4d4efc4c2b42449fb9f06b5ad8cf4cb2",
       "version_major": 2,
       "version_minor": 0
      },
      "text/plain": [
       "HBox(children=(VBox(children=(IntProgress(value=0, max=1000), HTML(value=''))), Box(children=(HTML(value=''),)…"
      ]
     },
     "metadata": {},
     "output_type": "display_data"
    },
    {
     "name": "stdout",
     "output_type": "stream",
     "text": [
      "Optimization restart 1/10, f = 116.19282949269648\n",
      "Optimization restart 2/10, f = 116.19282949265968\n",
      "Optimization restart 3/10, f = 116.19282949699775\n",
      "Optimization restart 4/10, f = 116.1928294929934\n",
      "Optimization restart 5/10, f = 116.19283653025605\n",
      "Optimization restart 6/10, f = 116.19282949271809\n",
      "Optimization restart 7/10, f = 116.19282949266083\n",
      "Optimization restart 8/10, f = 116.19282968680372\n",
      "Optimization restart 9/10, f = 116.19282949274641\n",
      "Optimization restart 10/10, f = 116.19282949267588\n",
      "270\n"
     ]
    },
    {
     "data": {
      "application/vnd.jupyter.widget-view+json": {
       "model_id": "7b9922d7a53448c1becbb966916e6c8e",
       "version_major": 2,
       "version_minor": 0
      },
      "text/plain": [
       "HBox(children=(VBox(children=(IntProgress(value=0, max=1000), HTML(value=''))), Box(children=(HTML(value=''),)…"
      ]
     },
     "metadata": {},
     "output_type": "display_data"
    },
    {
     "name": "stdout",
     "output_type": "stream",
     "text": [
      "Optimization restart 1/10, f = 60.53713895158992\n",
      "Optimization restart 2/10, f = 60.53713895166939\n",
      "Optimization restart 3/10, f = 60.537139566125106\n",
      "Optimization restart 4/10, f = 60.53713895170408\n",
      "Optimization restart 5/10, f = 60.53713895212786\n",
      "Optimization restart 6/10, f = 60.53713895145003\n",
      "Optimization restart 7/10, f = 60.537138952091595\n",
      "Optimization restart 8/10, f = 60.537138951856456\n",
      "Optimization restart 9/10, f = 60.53713895156977\n",
      "Optimization restart 10/10, f = 60.53713895414037\n",
      "271\n"
     ]
    },
    {
     "data": {
      "application/vnd.jupyter.widget-view+json": {
       "model_id": "dd20aa10f4e649578cfb8245bf0bdb2b",
       "version_major": 2,
       "version_minor": 0
      },
      "text/plain": [
       "HBox(children=(VBox(children=(IntProgress(value=0, max=1000), HTML(value=''))), Box(children=(HTML(value=''),)…"
      ]
     },
     "metadata": {},
     "output_type": "display_data"
    },
    {
     "name": "stdout",
     "output_type": "stream",
     "text": [
      "Optimization restart 1/10, f = 26.34379218557076\n",
      "Optimization restart 2/10, f = 26.343792486606\n",
      "Optimization restart 3/10, f = 26.343792454757523\n",
      "Optimization restart 4/10, f = 26.343792192758155\n",
      "Optimization restart 5/10, f = 26.343792145263524\n",
      "Optimization restart 6/10, f = 26.343792157657948\n",
      "Optimization restart 7/10, f = 26.34379268245247\n",
      "Optimization restart 8/10, f = 26.343792140517106\n",
      "Optimization restart 9/10, f = 26.343792124871175\n",
      "Optimization restart 10/10, f = 26.343792143978504\n",
      "272\n"
     ]
    },
    {
     "data": {
      "application/vnd.jupyter.widget-view+json": {
       "model_id": "01dca3c4b01e434f8e49208e27980c38",
       "version_major": 2,
       "version_minor": 0
      },
      "text/plain": [
       "HBox(children=(VBox(children=(IntProgress(value=0, max=1000), HTML(value=''))), Box(children=(HTML(value=''),)…"
      ]
     },
     "metadata": {},
     "output_type": "display_data"
    },
    {
     "name": "stdout",
     "output_type": "stream",
     "text": [
      "Optimization restart 1/10, f = 34.10842872856192\n",
      "Optimization restart 2/10, f = 34.108428729735095\n",
      "Optimization restart 3/10, f = 34.10842872842897\n",
      "Optimization restart 4/10, f = 34.10842872834496\n",
      "Optimization restart 5/10, f = 34.10842872905933\n",
      "Optimization restart 6/10, f = 34.1084287283458\n",
      "Optimization restart 7/10, f = 34.10842873026819\n",
      "Optimization restart 8/10, f = 34.108428728613674\n",
      "Optimization restart 9/10, f = 34.10842872839707\n",
      "Optimization restart 10/10, f = 34.10842872835122\n",
      "273\n"
     ]
    },
    {
     "data": {
      "application/vnd.jupyter.widget-view+json": {
       "model_id": "18b7967a25f8464e8473306b6b442272",
       "version_major": 2,
       "version_minor": 0
      },
      "text/plain": [
       "HBox(children=(VBox(children=(IntProgress(value=0, max=1000), HTML(value=''))), Box(children=(HTML(value=''),)…"
      ]
     },
     "metadata": {},
     "output_type": "display_data"
    },
    {
     "name": "stdout",
     "output_type": "stream",
     "text": [
      "Optimization restart 1/10, f = 36.58191495519829\n",
      "Optimization restart 2/10, f = 36.581914955154474\n",
      "Optimization restart 3/10, f = 36.581914974947885\n",
      "Optimization restart 4/10, f = 36.58191496486909\n",
      "Optimization restart 5/10, f = 36.58191495510131\n",
      "Optimization restart 6/10, f = 36.58191495534204\n",
      "Optimization restart 7/10, f = 36.58191495500369\n",
      "Optimization restart 8/10, f = 36.581914954981464\n",
      "Optimization restart 9/10, f = 36.581914955275565\n",
      "Optimization restart 10/10, f = 36.5819149550458\n",
      "274\n"
     ]
    },
    {
     "data": {
      "application/vnd.jupyter.widget-view+json": {
       "model_id": "b7905b02d730449d8a3029661f352705",
       "version_major": 2,
       "version_minor": 0
      },
      "text/plain": [
       "HBox(children=(VBox(children=(IntProgress(value=0, max=1000), HTML(value=''))), Box(children=(HTML(value=''),)…"
      ]
     },
     "metadata": {},
     "output_type": "display_data"
    },
    {
     "name": "stdout",
     "output_type": "stream",
     "text": [
      "Optimization restart 1/10, f = -16.939719833499325\n",
      "Optimization restart 2/10, f = -16.93971983357587\n",
      "Optimization restart 3/10, f = -16.939719833560204\n",
      "Optimization restart 4/10, f = -16.93971983348407\n",
      "Optimization restart 5/10, f = -16.93971983358133\n",
      "Optimization restart 6/10, f = -16.939719833295925\n",
      "Optimization restart 7/10, f = -16.93971983356446\n",
      "Optimization restart 8/10, f = -16.939719832839977\n",
      "Optimization restart 9/10, f = -16.939719831973143\n",
      "Optimization restart 10/10, f = -16.93971983338521\n",
      "275\n"
     ]
    },
    {
     "data": {
      "application/vnd.jupyter.widget-view+json": {
       "model_id": "97fa3cf313b94537aad0f578c423dcb2",
       "version_major": 2,
       "version_minor": 0
      },
      "text/plain": [
       "HBox(children=(VBox(children=(IntProgress(value=0, max=1000), HTML(value=''))), Box(children=(HTML(value=''),)…"
      ]
     },
     "metadata": {},
     "output_type": "display_data"
    },
    {
     "name": "stdout",
     "output_type": "stream",
     "text": [
      "Optimization restart 1/10, f = 9.69899577415427\n",
      "Optimization restart 2/10, f = 9.698995774081709\n",
      "Optimization restart 3/10, f = 9.69899577408026\n",
      "Optimization restart 4/10, f = 9.69899577410564\n",
      "Optimization restart 5/10, f = 9.698995774482228\n",
      "Optimization restart 6/10, f = 9.698995774956131\n",
      "Optimization restart 7/10, f = 9.698995775810658\n",
      "Optimization restart 8/10, f = 9.698995774083784\n",
      "Optimization restart 9/10, f = 9.698995774082022\n",
      "Optimization restart 10/10, f = 9.698995774378545\n",
      "276\n"
     ]
    },
    {
     "data": {
      "application/vnd.jupyter.widget-view+json": {
       "model_id": "2519eb0417204e73908a2f43b3510c77",
       "version_major": 2,
       "version_minor": 0
      },
      "text/plain": [
       "HBox(children=(VBox(children=(IntProgress(value=0, max=1000), HTML(value=''))), Box(children=(HTML(value=''),)…"
      ]
     },
     "metadata": {},
     "output_type": "display_data"
    },
    {
     "name": "stdout",
     "output_type": "stream",
     "text": [
      "Optimization restart 1/10, f = 37.72533453489926\n",
      "Optimization restart 2/10, f = 37.72533453315617\n",
      "Optimization restart 3/10, f = 37.72533453320275\n",
      "Optimization restart 4/10, f = 37.72533453314495\n",
      "Optimization restart 5/10, f = 37.72533453313978\n",
      "Optimization restart 6/10, f = 37.72533453353549\n",
      "Optimization restart 7/10, f = 37.72533453355453\n",
      "Optimization restart 8/10, f = 37.725334533423265\n",
      "Optimization restart 9/10, f = 37.72533453334009\n",
      "Optimization restart 10/10, f = 37.725334533335655\n",
      "277\n"
     ]
    },
    {
     "data": {
      "application/vnd.jupyter.widget-view+json": {
       "model_id": "001ec5b9a9f54a50964198504e9eec72",
       "version_major": 2,
       "version_minor": 0
      },
      "text/plain": [
       "HBox(children=(VBox(children=(IntProgress(value=0, max=1000), HTML(value=''))), Box(children=(HTML(value=''),)…"
      ]
     },
     "metadata": {},
     "output_type": "display_data"
    },
    {
     "name": "stdout",
     "output_type": "stream",
     "text": [
      "Optimization restart 1/10, f = 51.06311803647894\n",
      "Optimization restart 2/10, f = 51.06311803629766\n",
      "Optimization restart 3/10, f = 51.063118038265024\n",
      "Optimization restart 4/10, f = 51.06311803634698\n",
      "Optimization restart 5/10, f = 51.06311803815261\n",
      "Optimization restart 6/10, f = 51.06311803628439\n",
      "Optimization restart 7/10, f = 51.06311803627937\n",
      "Optimization restart 8/10, f = 51.063118050809564\n",
      "Optimization restart 9/10, f = 51.06311803633993\n",
      "Optimization restart 10/10, f = 51.06311804473711\n",
      "278\n"
     ]
    },
    {
     "data": {
      "application/vnd.jupyter.widget-view+json": {
       "model_id": "ac2765a2b3234b8e8379840f6207cfe6",
       "version_major": 2,
       "version_minor": 0
      },
      "text/plain": [
       "HBox(children=(VBox(children=(IntProgress(value=0, max=1000), HTML(value=''))), Box(children=(HTML(value=''),)…"
      ]
     },
     "metadata": {},
     "output_type": "display_data"
    },
    {
     "name": "stdout",
     "output_type": "stream",
     "text": [
      "Optimization restart 1/10, f = -109.98245964550972\n",
      "Optimization restart 2/10, f = -109.98245964539231\n",
      "Optimization restart 3/10, f = -109.98245964511806\n",
      "Optimization restart 4/10, f = -109.98245964364958\n",
      "Optimization restart 5/10, f = -109.98245964515803\n",
      "Optimization restart 6/10, f = -109.98245964553288\n",
      "Optimization restart 7/10, f = -109.98245964519445\n",
      "Optimization restart 8/10, f = -109.98245964527382\n",
      "Optimization restart 9/10, f = -109.98245964498614\n",
      "Optimization restart 10/10, f = -109.9824596452739\n",
      "279\n"
     ]
    },
    {
     "data": {
      "application/vnd.jupyter.widget-view+json": {
       "model_id": "12dec62549d148b5b0172384ddca8535",
       "version_major": 2,
       "version_minor": 0
      },
      "text/plain": [
       "HBox(children=(VBox(children=(IntProgress(value=0, max=1000), HTML(value=''))), Box(children=(HTML(value=''),)…"
      ]
     },
     "metadata": {},
     "output_type": "display_data"
    },
    {
     "name": "stdout",
     "output_type": "stream",
     "text": [
      "Optimization restart 1/10, f = 44.88129675971476\n",
      "Optimization restart 2/10, f = 44.88129675966857\n",
      "Optimization restart 3/10, f = 44.881296759649786\n",
      "Optimization restart 4/10, f = 44.88129675971004\n",
      "Optimization restart 5/10, f = 44.88129695119662\n"
     ]
    },
    {
     "name": "stderr",
     "output_type": "stream",
     "text": [
      " C:\\Users\\marku\\Anaconda3\\lib\\site-packages\\GPy\\kern\\src\\stationary.py:168: RuntimeWarning:overflow encountered in true_divide\n",
      " C:\\Users\\marku\\Anaconda3\\lib\\site-packages\\GPy\\kern\\src\\stationary.py:468: RuntimeWarning:overflow encountered in multiply\n",
      " C:\\Users\\marku\\Anaconda3\\lib\\site-packages\\GPy\\kern\\src\\stationary.py:468: RuntimeWarning:invalid value encountered in multiply\n"
     ]
    },
    {
     "name": "stdout",
     "output_type": "stream",
     "text": [
      "Optimization restart 6/10, f = 45.00644113205027\n",
      "Optimization restart 7/10, f = 44.881299135948666\n",
      "Optimization restart 8/10, f = 44.92956907726517\n",
      "Optimization restart 9/10, f = 44.88129740989103\n",
      "Optimization restart 10/10, f = 44.8812967596582\n",
      "280\n"
     ]
    },
    {
     "data": {
      "application/vnd.jupyter.widget-view+json": {
       "model_id": "d5b0c182a46546d0a505408fb3d061a2",
       "version_major": 2,
       "version_minor": 0
      },
      "text/plain": [
       "HBox(children=(VBox(children=(IntProgress(value=0, max=1000), HTML(value=''))), Box(children=(HTML(value=''),)…"
      ]
     },
     "metadata": {},
     "output_type": "display_data"
    },
    {
     "name": "stdout",
     "output_type": "stream",
     "text": [
      "Optimization restart 1/10, f = -57.09724631017053\n",
      "Optimization restart 2/10, f = -57.097246310164905\n",
      "Optimization restart 3/10, f = -57.09724631011636\n",
      "Optimization restart 4/10, f = -57.097246310156834\n",
      "Optimization restart 5/10, f = -57.097246310133755\n",
      "Optimization restart 6/10, f = -57.09724631014265\n",
      "Optimization restart 7/10, f = -57.09724631017389\n",
      "Optimization restart 8/10, f = -57.09724631012833\n",
      "Optimization restart 9/10, f = -57.097246310145835\n",
      "Optimization restart 10/10, f = -57.09724631007509\n",
      "281\n"
     ]
    },
    {
     "data": {
      "application/vnd.jupyter.widget-view+json": {
       "model_id": "898ac0fc1fce48b6b014e3b6ea7b2c84",
       "version_major": 2,
       "version_minor": 0
      },
      "text/plain": [
       "HBox(children=(VBox(children=(IntProgress(value=0, max=1000), HTML(value=''))), Box(children=(HTML(value=''),)…"
      ]
     },
     "metadata": {},
     "output_type": "display_data"
    },
    {
     "name": "stdout",
     "output_type": "stream",
     "text": [
      "Optimization restart 1/10, f = 3.2724417567588793\n",
      "Optimization restart 2/10, f = 3.272441756766316\n",
      "Optimization restart 3/10, f = 3.2724417567847084\n",
      "Optimization restart 4/10, f = 3.272441756846354\n",
      "Optimization restart 5/10, f = 3.272441756762796\n",
      "Optimization restart 6/10, f = 3.2724417567829533\n",
      "Optimization restart 7/10, f = 3.2724417568254642\n",
      "Optimization restart 8/10, f = 3.2724417567579533\n",
      "Optimization restart 9/10, f = 3.2724417568743243\n",
      "Optimization restart 10/10, f = 3.27244175682148\n",
      "282\n"
     ]
    },
    {
     "data": {
      "application/vnd.jupyter.widget-view+json": {
       "model_id": "f39221ccfa0441abb7c21d6d92b9e150",
       "version_major": 2,
       "version_minor": 0
      },
      "text/plain": [
       "HBox(children=(VBox(children=(IntProgress(value=0, max=1000), HTML(value=''))), Box(children=(HTML(value=''),)…"
      ]
     },
     "metadata": {},
     "output_type": "display_data"
    },
    {
     "name": "stderr",
     "output_type": "stream",
     "text": [
      " C:\\Users\\marku\\Anaconda3\\lib\\site-packages\\GPy\\kern\\src\\stationary.py:168: RuntimeWarning:overflow encountered in true_divide\n",
      " C:\\Users\\marku\\Anaconda3\\lib\\site-packages\\GPy\\kern\\src\\stationary.py:468: RuntimeWarning:overflow encountered in multiply\n",
      " C:\\Users\\marku\\Anaconda3\\lib\\site-packages\\GPy\\kern\\src\\stationary.py:468: RuntimeWarning:invalid value encountered in multiply\n"
     ]
    },
    {
     "name": "stdout",
     "output_type": "stream",
     "text": [
      "Optimization restart 1/10, f = 206.1394008700714\n",
      "Optimization restart 2/10, f = 206.1395633197606\n",
      "Optimization restart 3/10, f = 206.1394685736414\n",
      "Optimization restart 4/10, f = 206.35313824892594\n",
      "Optimization restart 5/10, f = 206.1393973630475\n",
      "Optimization restart 6/10, f = 206.13939720468971\n",
      "Optimization restart 7/10, f = 206.13942178763233\n",
      "Optimization restart 8/10, f = 206.13939720525377\n",
      "Optimization restart 9/10, f = 206.14328964119812\n",
      "Optimization restart 10/10, f = 206.13939720480997\n",
      "283\n"
     ]
    },
    {
     "name": "stderr",
     "output_type": "stream",
     "text": [
      " C:\\Users\\marku\\Anaconda3\\lib\\site-packages\\scipy\\stats\\mstats_basic.py:509: RuntimeWarning:invalid value encountered in true_divide\n",
      " C:\\Users\\marku\\Anaconda3\\lib\\site-packages\\scipy\\stats\\_distn_infrastructure.py:877: RuntimeWarning:invalid value encountered in greater\n",
      " C:\\Users\\marku\\Anaconda3\\lib\\site-packages\\scipy\\stats\\_distn_infrastructure.py:877: RuntimeWarning:invalid value encountered in less\n",
      " C:\\Users\\marku\\Anaconda3\\lib\\site-packages\\scipy\\stats\\_distn_infrastructure.py:1831: RuntimeWarning:invalid value encountered in less_equal\n"
     ]
    },
    {
     "data": {
      "application/vnd.jupyter.widget-view+json": {
       "model_id": "e79702c5f3d84f59871311f27e606586",
       "version_major": 2,
       "version_minor": 0
      },
      "text/plain": [
       "HBox(children=(VBox(children=(IntProgress(value=0, max=1000), HTML(value=''))), Box(children=(HTML(value=''),)…"
      ]
     },
     "metadata": {},
     "output_type": "display_data"
    },
    {
     "name": "stdout",
     "output_type": "stream",
     "text": [
      "Optimization restart 1/10, f = 25.826207411622093\n",
      "Optimization restart 2/10, f = 25.826207419070606\n",
      "Optimization restart 3/10, f = 25.826207411031287\n",
      "Optimization restart 4/10, f = 25.82620741678545\n",
      "Optimization restart 5/10, f = 25.826207411525317\n",
      "Optimization restart 6/10, f = 25.826207411066633\n",
      "Optimization restart 7/10, f = 25.82620741102759\n",
      "Optimization restart 8/10, f = 25.82620741956415\n",
      "Optimization restart 9/10, f = 25.826207414855737\n",
      "Optimization restart 10/10, f = 25.826207411174423\n",
      "284\n"
     ]
    },
    {
     "data": {
      "application/vnd.jupyter.widget-view+json": {
       "model_id": "48a6b0a54377475fa54bedb34a6c32b0",
       "version_major": 2,
       "version_minor": 0
      },
      "text/plain": [
       "HBox(children=(VBox(children=(IntProgress(value=0, max=1000), HTML(value=''))), Box(children=(HTML(value=''),)…"
      ]
     },
     "metadata": {},
     "output_type": "display_data"
    },
    {
     "name": "stdout",
     "output_type": "stream",
     "text": [
      "Optimization restart 1/10, f = 231.3369262123328\n",
      "Optimization restart 2/10, f = 231.3369262078938\n",
      "Optimization restart 3/10, f = 231.33692621014706\n",
      "Optimization restart 4/10, f = 231.33692620106206\n",
      "Optimization restart 5/10, f = 231.3369261997975\n",
      "Optimization restart 6/10, f = 231.33692620427354\n",
      "Optimization restart 7/10, f = 231.33692620717125\n",
      "Optimization restart 8/10, f = 231.33692685206836\n",
      "Optimization restart 9/10, f = 231.33692620035606\n",
      "Optimization restart 10/10, f = 231.33692619979087\n",
      "285\n"
     ]
    },
    {
     "data": {
      "application/vnd.jupyter.widget-view+json": {
       "model_id": "072d95f45019464b975861edb5bad27f",
       "version_major": 2,
       "version_minor": 0
      },
      "text/plain": [
       "HBox(children=(VBox(children=(IntProgress(value=0, max=1000), HTML(value=''))), Box(children=(HTML(value=''),)…"
      ]
     },
     "metadata": {},
     "output_type": "display_data"
    },
    {
     "name": "stderr",
     "output_type": "stream",
     "text": [
      " C:\\Users\\marku\\Anaconda3\\lib\\site-packages\\GPy\\kern\\src\\stationary.py:168: RuntimeWarning:overflow encountered in true_divide\n",
      " C:\\Users\\marku\\Anaconda3\\lib\\site-packages\\GPy\\kern\\src\\stationary.py:468: RuntimeWarning:overflow encountered in multiply\n",
      " C:\\Users\\marku\\Anaconda3\\lib\\site-packages\\GPy\\kern\\src\\stationary.py:468: RuntimeWarning:invalid value encountered in multiply\n"
     ]
    },
    {
     "name": "stdout",
     "output_type": "stream",
     "text": [
      "Optimization restart 1/10, f = 161.23362762752976\n",
      "Optimization restart 2/10, f = 161.20685436253405\n",
      "Optimization restart 3/10, f = 161.2068543618936\n",
      "Optimization restart 4/10, f = 161.20786722539668\n",
      "Optimization restart 5/10, f = 161.20685796088057\n",
      "Optimization restart 6/10, f = 161.20685436206233\n",
      "Optimization restart 7/10, f = 161.20685436242843\n",
      "Optimization restart 8/10, f = 161.20685436234405\n",
      "Optimization restart 9/10, f = 161.20685436178576\n",
      "Optimization restart 10/10, f = 161.20685436314164\n",
      "286\n"
     ]
    },
    {
     "data": {
      "application/vnd.jupyter.widget-view+json": {
       "model_id": "7afff52aeb524811ab77b6463935a02b",
       "version_major": 2,
       "version_minor": 0
      },
      "text/plain": [
       "HBox(children=(VBox(children=(IntProgress(value=0, max=1000), HTML(value=''))), Box(children=(HTML(value=''),)…"
      ]
     },
     "metadata": {},
     "output_type": "display_data"
    },
    {
     "name": "stdout",
     "output_type": "stream",
     "text": [
      "Optimization restart 1/10, f = 29.296290437923687\n",
      "Optimization restart 2/10, f = 29.296290450331867\n",
      "Optimization restart 3/10, f = 29.2962904379238\n",
      "Optimization restart 4/10, f = 29.296290464530728\n",
      "Optimization restart 5/10, f = 29.296290441430074\n",
      "Optimization restart 6/10, f = 29.296290438103966\n",
      "Optimization restart 7/10, f = 29.296290442159034\n",
      "Optimization restart 8/10, f = 29.296290438044082\n",
      "Optimization restart 9/10, f = 29.29629043869724\n",
      "Optimization restart 10/10, f = 29.296290437939717\n",
      "287\n"
     ]
    },
    {
     "data": {
      "application/vnd.jupyter.widget-view+json": {
       "model_id": "125b62498b964fc7a7b9d86208369d24",
       "version_major": 2,
       "version_minor": 0
      },
      "text/plain": [
       "HBox(children=(VBox(children=(IntProgress(value=0, max=1000), HTML(value=''))), Box(children=(HTML(value=''),)…"
      ]
     },
     "metadata": {},
     "output_type": "display_data"
    },
    {
     "name": "stdout",
     "output_type": "stream",
     "text": [
      "Optimization restart 1/10, f = 110.55414918762332\n",
      "Optimization restart 2/10, f = 110.55414918775045\n",
      "Optimization restart 3/10, f = 110.55414918818954\n",
      "Optimization restart 4/10, f = 110.55414918761969\n",
      "Optimization restart 5/10, f = 110.55414921612564\n",
      "Optimization restart 6/10, f = 110.554149187614\n",
      "Optimization restart 7/10, f = 110.55414918871762\n",
      "Optimization restart 8/10, f = 110.55414918778354\n",
      "Optimization restart 9/10, f = 110.55414918764937\n",
      "Optimization restart 10/10, f = 110.55414922578069\n",
      "288\n"
     ]
    },
    {
     "data": {
      "application/vnd.jupyter.widget-view+json": {
       "model_id": "09cf270a037e42e9a0dd1640e7692d7f",
       "version_major": 2,
       "version_minor": 0
      },
      "text/plain": [
       "HBox(children=(VBox(children=(IntProgress(value=0, max=1000), HTML(value=''))), Box(children=(HTML(value=''),)…"
      ]
     },
     "metadata": {},
     "output_type": "display_data"
    },
    {
     "name": "stdout",
     "output_type": "stream",
     "text": [
      "Optimization restart 1/10, f = 150.20236934672022\n",
      "Optimization restart 2/10, f = 150.20236935124112\n",
      "Optimization restart 3/10, f = 150.2023693465184\n",
      "Optimization restart 4/10, f = 150.20237083000904\n",
      "Optimization restart 5/10, f = 150.20236935789904\n",
      "Optimization restart 6/10, f = 150.202369344877\n",
      "Optimization restart 7/10, f = 150.20236934555885\n",
      "Optimization restart 8/10, f = 150.20236934437116\n",
      "Optimization restart 9/10, f = 150.20236934436997\n",
      "Optimization restart 10/10, f = 150.2023693451306\n",
      "289\n"
     ]
    },
    {
     "data": {
      "application/vnd.jupyter.widget-view+json": {
       "model_id": "567719d16502414992b93642914d4d48",
       "version_major": 2,
       "version_minor": 0
      },
      "text/plain": [
       "HBox(children=(VBox(children=(IntProgress(value=0, max=1000), HTML(value=''))), Box(children=(HTML(value=''),)…"
      ]
     },
     "metadata": {},
     "output_type": "display_data"
    },
    {
     "name": "stdout",
     "output_type": "stream",
     "text": [
      "Optimization restart 1/10, f = 78.46655067569878\n",
      "Optimization restart 2/10, f = 78.46655067566832\n",
      "Optimization restart 3/10, f = 78.46655067569884\n",
      "Optimization restart 4/10, f = 78.46655067566783\n",
      "Optimization restart 5/10, f = 78.46655068407478\n",
      "Optimization restart 6/10, f = 78.46655067568176\n",
      "Optimization restart 7/10, f = 78.46655067570583\n",
      "Optimization restart 8/10, f = 78.4665506756877\n",
      "Optimization restart 9/10, f = 78.4665506756588\n",
      "Optimization restart 10/10, f = 78.46655067867525\n",
      "290\n"
     ]
    },
    {
     "data": {
      "application/vnd.jupyter.widget-view+json": {
       "model_id": "ee26c51e9016446d83038ddc82023a0d",
       "version_major": 2,
       "version_minor": 0
      },
      "text/plain": [
       "HBox(children=(VBox(children=(IntProgress(value=0, max=1000), HTML(value=''))), Box(children=(HTML(value=''),)…"
      ]
     },
     "metadata": {},
     "output_type": "display_data"
    },
    {
     "name": "stdout",
     "output_type": "stream",
     "text": [
      "Optimization restart 1/10, f = 86.68392451142984\n",
      "Optimization restart 2/10, f = 86.6839245113302\n",
      "Optimization restart 3/10, f = 86.68392452037946\n",
      "Optimization restart 4/10, f = 86.68392451122737\n",
      "Optimization restart 5/10, f = 86.68392451126024\n",
      "Optimization restart 6/10, f = 86.68392451265964\n",
      "Optimization restart 7/10, f = 86.68392452096091\n",
      "Optimization restart 8/10, f = 86.68392451117238\n",
      "Optimization restart 9/10, f = 86.68392451152103\n",
      "Optimization restart 10/10, f = 86.68392451205587\n",
      "291\n"
     ]
    },
    {
     "data": {
      "application/vnd.jupyter.widget-view+json": {
       "model_id": "91c76c938ed64c5394aa0110efc5bfa5",
       "version_major": 2,
       "version_minor": 0
      },
      "text/plain": [
       "HBox(children=(VBox(children=(IntProgress(value=0, max=1000), HTML(value=''))), Box(children=(HTML(value=''),)…"
      ]
     },
     "metadata": {},
     "output_type": "display_data"
    },
    {
     "name": "stdout",
     "output_type": "stream",
     "text": [
      "Optimization restart 1/10, f = 186.58375678004552\n",
      "Optimization restart 2/10, f = 186.58375678078733\n",
      "Optimization restart 3/10, f = 186.58375678110679\n",
      "Optimization restart 4/10, f = 186.5837567878761\n",
      "Optimization restart 5/10, f = 186.58375678414694\n",
      "Optimization restart 6/10, f = 186.58375682722703\n",
      "Optimization restart 7/10, f = 186.58375678002773\n",
      "Optimization restart 8/10, f = 186.58375678002108\n",
      "Optimization restart 9/10, f = 186.58375678001423\n",
      "Optimization restart 10/10, f = 186.58375678012362\n",
      "292\n"
     ]
    },
    {
     "data": {
      "application/vnd.jupyter.widget-view+json": {
       "model_id": "80129fdda9044182a378065dc529bf5b",
       "version_major": 2,
       "version_minor": 0
      },
      "text/plain": [
       "HBox(children=(VBox(children=(IntProgress(value=0, max=1000), HTML(value=''))), Box(children=(HTML(value=''),)…"
      ]
     },
     "metadata": {},
     "output_type": "display_data"
    },
    {
     "name": "stdout",
     "output_type": "stream",
     "text": [
      "Optimization restart 1/10, f = 88.77206723206024\n",
      "Optimization restart 2/10, f = 88.77206722343102\n",
      "Optimization restart 3/10, f = 88.77206722833806\n",
      "Optimization restart 4/10, f = 88.77206722385282\n",
      "Optimization restart 5/10, f = 88.77206722460113\n",
      "Optimization restart 6/10, f = 88.77206722346719\n",
      "Optimization restart 7/10, f = 88.77206722346023\n",
      "Optimization restart 8/10, f = 88.77206722353307\n",
      "Optimization restart 9/10, f = 88.77206722336838\n",
      "Optimization restart 10/10, f = 88.77206722502513\n",
      "293\n"
     ]
    },
    {
     "data": {
      "application/vnd.jupyter.widget-view+json": {
       "model_id": "0bba976816704437b5b6e0487ad33978",
       "version_major": 2,
       "version_minor": 0
      },
      "text/plain": [
       "HBox(children=(VBox(children=(IntProgress(value=0, max=1000), HTML(value=''))), Box(children=(HTML(value=''),)…"
      ]
     },
     "metadata": {},
     "output_type": "display_data"
    },
    {
     "name": "stdout",
     "output_type": "stream",
     "text": [
      "Optimization restart 1/10, f = 12.0542214706077\n",
      "Optimization restart 2/10, f = 12.054221470604361\n",
      "Optimization restart 3/10, f = 12.054221470441234\n",
      "Optimization restart 4/10, f = 12.054221470706764\n",
      "Optimization restart 5/10, f = 12.05422147065886\n",
      "Optimization restart 6/10, f = 12.054221470699062\n",
      "Optimization restart 7/10, f = 12.054221470647335\n",
      "Optimization restart 8/10, f = 12.0542214722212\n",
      "Optimization restart 9/10, f = 12.054222232520118\n",
      "Optimization restart 10/10, f = 12.054221470801863\n",
      "294\n"
     ]
    },
    {
     "data": {
      "application/vnd.jupyter.widget-view+json": {
       "model_id": "3f010dcbf4294dac829a034ba7d0e63a",
       "version_major": 2,
       "version_minor": 0
      },
      "text/plain": [
       "HBox(children=(VBox(children=(IntProgress(value=0, max=1000), HTML(value=''))), Box(children=(HTML(value=''),)…"
      ]
     },
     "metadata": {},
     "output_type": "display_data"
    },
    {
     "name": "stdout",
     "output_type": "stream",
     "text": [
      "Optimization restart 1/10, f = 160.2302759410535\n",
      "Optimization restart 2/10, f = 160.2302760805857\n",
      "Optimization restart 3/10, f = 160.2302759435002\n",
      "Optimization restart 4/10, f = 160.23027594051342\n",
      "Optimization restart 5/10, f = 160.2302759401237\n",
      "Optimization restart 6/10, f = 160.23027594653226\n",
      "Optimization restart 7/10, f = 160.23027594093872\n",
      "Optimization restart 8/10, f = 160.23027594021244\n",
      "Optimization restart 9/10, f = 160.23027594031925\n",
      "Optimization restart 10/10, f = 160.2302759435691\n",
      "295\n",
      "Could not compute spearmans matrix, for df BR_0002000\n",
      "296\n"
     ]
    },
    {
     "data": {
      "application/vnd.jupyter.widget-view+json": {
       "model_id": "da77e7b13f2341e3b572b4ff53ea0da9",
       "version_major": 2,
       "version_minor": 0
      },
      "text/plain": [
       "HBox(children=(VBox(children=(IntProgress(value=0, max=1000), HTML(value=''))), Box(children=(HTML(value=''),)…"
      ]
     },
     "metadata": {},
     "output_type": "display_data"
    },
    {
     "name": "stdout",
     "output_type": "stream",
     "text": [
      "Optimization restart 1/10, f = 51.489324383081254\n",
      "Optimization restart 2/10, f = 51.48932438304959\n",
      "Optimization restart 3/10, f = 51.489324383043396\n",
      "Optimization restart 4/10, f = 51.48932438304986\n",
      "Optimization restart 5/10, f = 51.489324390029935\n",
      "Optimization restart 6/10, f = 51.48932438304332\n",
      "Optimization restart 7/10, f = 51.48932438304369\n",
      "Optimization restart 8/10, f = 51.489324383050906\n",
      "Optimization restart 9/10, f = 51.489324389360476\n",
      "Optimization restart 10/10, f = 51.48932438307416\n",
      "297\n"
     ]
    },
    {
     "data": {
      "application/vnd.jupyter.widget-view+json": {
       "model_id": "17378d5408f74d01a0b7f793e57d7970",
       "version_major": 2,
       "version_minor": 0
      },
      "text/plain": [
       "HBox(children=(VBox(children=(IntProgress(value=0, max=1000), HTML(value=''))), Box(children=(HTML(value=''),)…"
      ]
     },
     "metadata": {},
     "output_type": "display_data"
    },
    {
     "name": "stdout",
     "output_type": "stream",
     "text": [
      "Optimization restart 1/10, f = 135.96517922536708\n",
      "Optimization restart 2/10, f = 135.9651792470862\n",
      "Optimization restart 3/10, f = 135.96517926210538\n",
      "Optimization restart 4/10, f = 135.9651792255834\n",
      "Optimization restart 5/10, f = 135.96517922921333\n",
      "Optimization restart 6/10, f = 135.96517922712798\n",
      "Optimization restart 7/10, f = 135.96517923121627\n",
      "Optimization restart 8/10, f = 135.96517922623735\n",
      "Optimization restart 9/10, f = 135.96517923420788\n",
      "Optimization restart 10/10, f = 135.96517922545596\n",
      "298\n"
     ]
    },
    {
     "data": {
      "application/vnd.jupyter.widget-view+json": {
       "model_id": "c4d5bd2b1627442ab06778cdb7d758c0",
       "version_major": 2,
       "version_minor": 0
      },
      "text/plain": [
       "HBox(children=(VBox(children=(IntProgress(value=0, max=1000), HTML(value=''))), Box(children=(HTML(value=''),)…"
      ]
     },
     "metadata": {},
     "output_type": "display_data"
    },
    {
     "name": "stdout",
     "output_type": "stream",
     "text": [
      "Optimization restart 1/10, f = 79.88612634039524\n",
      "Optimization restart 2/10, f = 79.88612635192865\n",
      "Optimization restart 3/10, f = 79.8861263404126\n",
      "Optimization restart 4/10, f = 79.88612634076738\n",
      "Optimization restart 5/10, f = 79.88612634041115\n",
      "Optimization restart 6/10, f = 79.88612634185083\n",
      "Optimization restart 7/10, f = 79.8861263409971\n",
      "Optimization restart 8/10, f = 79.88612634041155\n",
      "Optimization restart 9/10, f = 79.88612634099945\n",
      "Optimization restart 10/10, f = 79.88612634086098\n",
      "299\n"
     ]
    },
    {
     "data": {
      "application/vnd.jupyter.widget-view+json": {
       "model_id": "ad8b3a5e87234290af5537d704ad875a",
       "version_major": 2,
       "version_minor": 0
      },
      "text/plain": [
       "HBox(children=(VBox(children=(IntProgress(value=0, max=1000), HTML(value=''))), Box(children=(HTML(value=''),)…"
      ]
     },
     "metadata": {},
     "output_type": "display_data"
    },
    {
     "name": "stdout",
     "output_type": "stream",
     "text": [
      "Optimization restart 1/10, f = 209.9177784674576\n",
      "Optimization restart 2/10, f = 209.91777846697363\n",
      "Optimization restart 3/10, f = 209.91777846699955\n",
      "Optimization restart 4/10, f = 209.91777846697642\n",
      "Optimization restart 5/10, f = 209.91777848594032\n",
      "Optimization restart 6/10, f = 209.91777846732077\n",
      "Optimization restart 7/10, f = 209.91777846948088\n",
      "Optimization restart 8/10, f = 209.91777846703803\n",
      "Optimization restart 9/10, f = 209.9177784669745\n",
      "Optimization restart 10/10, f = 209.91777846736454\n",
      "300\n"
     ]
    },
    {
     "data": {
      "application/vnd.jupyter.widget-view+json": {
       "model_id": "2d48154249944a13ba945c9efb96dca7",
       "version_major": 2,
       "version_minor": 0
      },
      "text/plain": [
       "HBox(children=(VBox(children=(IntProgress(value=0, max=1000), HTML(value=''))), Box(children=(HTML(value=''),)…"
      ]
     },
     "metadata": {},
     "output_type": "display_data"
    },
    {
     "name": "stdout",
     "output_type": "stream",
     "text": [
      "Optimization restart 1/10, f = 287.11954655699464\n",
      "Optimization restart 2/10, f = 287.1195465558967\n",
      "Optimization restart 3/10, f = 287.11954655793573\n",
      "Optimization restart 4/10, f = 287.1195465565102\n",
      "Optimization restart 5/10, f = 287.11954655597174\n",
      "Optimization restart 6/10, f = 287.1195465563542\n",
      "Optimization restart 7/10, f = 287.11954655602074\n",
      "Optimization restart 8/10, f = 287.1195465560634\n",
      "Optimization restart 9/10, f = 287.1195465664408\n",
      "Optimization restart 10/10, f = 287.11954655586135\n",
      "301\n"
     ]
    },
    {
     "data": {
      "application/vnd.jupyter.widget-view+json": {
       "model_id": "e6f2e10ac0b045b889a27e69db319a0e",
       "version_major": 2,
       "version_minor": 0
      },
      "text/plain": [
       "HBox(children=(VBox(children=(IntProgress(value=0, max=1000), HTML(value=''))), Box(children=(HTML(value=''),)…"
      ]
     },
     "metadata": {},
     "output_type": "display_data"
    },
    {
     "name": "stdout",
     "output_type": "stream",
     "text": [
      "Optimization restart 1/10, f = 66.76021462373015\n",
      "Optimization restart 2/10, f = 66.76021462394138\n",
      "Optimization restart 3/10, f = 66.76021462369118\n",
      "Optimization restart 4/10, f = 66.7602146239206\n",
      "Optimization restart 5/10, f = 66.7602146276397\n",
      "Optimization restart 6/10, f = 66.76021462394569\n",
      "Optimization restart 7/10, f = 66.76021464066051\n",
      "Optimization restart 8/10, f = 66.76021462368638\n",
      "Optimization restart 9/10, f = 66.76021462421758\n",
      "Optimization restart 10/10, f = 66.76021462371702\n",
      "302\n"
     ]
    },
    {
     "data": {
      "application/vnd.jupyter.widget-view+json": {
       "model_id": "f2376544b2ec4268a1dae7a41db2512c",
       "version_major": 2,
       "version_minor": 0
      },
      "text/plain": [
       "HBox(children=(VBox(children=(IntProgress(value=0, max=1000), HTML(value=''))), Box(children=(HTML(value=''),)…"
      ]
     },
     "metadata": {},
     "output_type": "display_data"
    },
    {
     "name": "stdout",
     "output_type": "stream",
     "text": [
      "Optimization restart 1/10, f = 121.46606373753224\n",
      "Optimization restart 2/10, f = 121.46606373769987\n",
      "Optimization restart 3/10, f = 121.46606373791926\n",
      "Optimization restart 4/10, f = 121.4660637374484\n",
      "Optimization restart 5/10, f = 121.46606378392727\n",
      "Optimization restart 6/10, f = 121.46606373750708\n",
      "Optimization restart 7/10, f = 121.46606373752928\n",
      "Optimization restart 8/10, f = 121.46606373751786\n",
      "Optimization restart 9/10, f = 121.46606373758982\n",
      "Optimization restart 10/10, f = 121.46606373830494\n",
      "303\n"
     ]
    },
    {
     "data": {
      "application/vnd.jupyter.widget-view+json": {
       "model_id": "13425c255df842eba38dfcff248cc8a8",
       "version_major": 2,
       "version_minor": 0
      },
      "text/plain": [
       "HBox(children=(VBox(children=(IntProgress(value=0, max=1000), HTML(value=''))), Box(children=(HTML(value=''),)…"
      ]
     },
     "metadata": {},
     "output_type": "display_data"
    },
    {
     "name": "stdout",
     "output_type": "stream",
     "text": [
      "Optimization restart 1/10, f = 40.33849731052244\n",
      "Optimization restart 2/10, f = 40.338497319015296\n",
      "Optimization restart 3/10, f = 40.33849731052888\n",
      "Optimization restart 4/10, f = 40.33849731107826\n",
      "Optimization restart 5/10, f = 40.33849731052062\n",
      "Optimization restart 6/10, f = 40.33849846871834\n",
      "Optimization restart 7/10, f = 40.338497310568656\n",
      "Optimization restart 8/10, f = 40.338502647005534\n",
      "Optimization restart 9/10, f = 40.33849799229739\n",
      "Optimization restart 10/10, f = 40.338497310611785\n",
      "304\n"
     ]
    },
    {
     "data": {
      "application/vnd.jupyter.widget-view+json": {
       "model_id": "135bbbcb98bc4e57afc74292be4c447d",
       "version_major": 2,
       "version_minor": 0
      },
      "text/plain": [
       "HBox(children=(VBox(children=(IntProgress(value=0, max=1000), HTML(value=''))), Box(children=(HTML(value=''),)…"
      ]
     },
     "metadata": {},
     "output_type": "display_data"
    },
    {
     "name": "stdout",
     "output_type": "stream",
     "text": [
      "Optimization restart 1/10, f = -1.5917060594774162\n",
      "Optimization restart 2/10, f = -1.591706058410086\n",
      "Optimization restart 3/10, f = -1.5917060592484953\n",
      "Optimization restart 4/10, f = -1.5917060594699466\n",
      "Optimization restart 5/10, f = -1.5917060594771444\n",
      "Optimization restart 6/10, f = -1.591706059443009\n",
      "Optimization restart 7/10, f = -1.591706059479404\n",
      "Optimization restart 8/10, f = -1.5917060594508161\n",
      "Optimization restart 9/10, f = -1.5917060594789643\n",
      "Optimization restart 10/10, f = -1.5917060589664533\n",
      "305\n"
     ]
    },
    {
     "data": {
      "application/vnd.jupyter.widget-view+json": {
       "model_id": "abda9c6b46e347d0bf3c8fd1fd9fa4c4",
       "version_major": 2,
       "version_minor": 0
      },
      "text/plain": [
       "HBox(children=(VBox(children=(IntProgress(value=0, max=1000), HTML(value=''))), Box(children=(HTML(value=''),)…"
      ]
     },
     "metadata": {},
     "output_type": "display_data"
    },
    {
     "name": "stdout",
     "output_type": "stream",
     "text": [
      "Optimization restart 1/10, f = 105.51083397759608\n",
      "Optimization restart 2/10, f = 105.51083398584207\n",
      "Optimization restart 3/10, f = 105.51083399083464\n",
      "Optimization restart 4/10, f = 105.51083400744339\n",
      "Optimization restart 5/10, f = 105.51083397728763\n",
      "Optimization restart 6/10, f = 105.51083453534706\n",
      "Optimization restart 7/10, f = 105.51083397734557\n",
      "Optimization restart 8/10, f = 105.51083397730248\n",
      "Optimization restart 9/10, f = 105.51083398638244\n",
      "Optimization restart 10/10, f = 105.51083397728522\n",
      "306\n"
     ]
    },
    {
     "data": {
      "application/vnd.jupyter.widget-view+json": {
       "model_id": "b5d7d13132854b29ab97e424f537b972",
       "version_major": 2,
       "version_minor": 0
      },
      "text/plain": [
       "HBox(children=(VBox(children=(IntProgress(value=0, max=1000), HTML(value=''))), Box(children=(HTML(value=''),)…"
      ]
     },
     "metadata": {},
     "output_type": "display_data"
    },
    {
     "name": "stdout",
     "output_type": "stream",
     "text": [
      "Optimization restart 1/10, f = 29.284850065722978\n",
      "Optimization restart 2/10, f = 29.28485006548025\n",
      "Optimization restart 3/10, f = 29.284850065525816\n",
      "Optimization restart 4/10, f = 29.28485006554329\n",
      "Optimization restart 5/10, f = 29.284850065550764\n",
      "Optimization restart 6/10, f = 29.28485006546765\n",
      "Optimization restart 7/10, f = 29.28485007659566\n",
      "Optimization restart 8/10, f = 29.284850065510582\n",
      "Optimization restart 9/10, f = 29.28485006570461\n",
      "Optimization restart 10/10, f = 29.284850066582102\n",
      "307\n"
     ]
    },
    {
     "data": {
      "application/vnd.jupyter.widget-view+json": {
       "model_id": "ccaf946434bb4946bd37e9e8a4978853",
       "version_major": 2,
       "version_minor": 0
      },
      "text/plain": [
       "HBox(children=(VBox(children=(IntProgress(value=0, max=1000), HTML(value=''))), Box(children=(HTML(value=''),)…"
      ]
     },
     "metadata": {},
     "output_type": "display_data"
    },
    {
     "name": "stdout",
     "output_type": "stream",
     "text": [
      "Optimization restart 1/10, f = 273.1667367365242\n",
      "Optimization restart 2/10, f = 273.1667367651502\n",
      "Optimization restart 3/10, f = 273.16673667422197\n",
      "Optimization restart 4/10, f = 273.16673667716867\n",
      "Optimization restart 5/10, f = 273.1667366790482\n",
      "Optimization restart 6/10, f = 273.16673667418866\n",
      "Optimization restart 7/10, f = 273.16673670039285\n",
      "Optimization restart 8/10, f = 273.1667366748093\n",
      "Optimization restart 9/10, f = 273.1667366859257\n",
      "Optimization restart 10/10, f = 273.1667366741454\n",
      "308\n"
     ]
    },
    {
     "data": {
      "application/vnd.jupyter.widget-view+json": {
       "model_id": "19465b3e76d04088b95b67b8defa9388",
       "version_major": 2,
       "version_minor": 0
      },
      "text/plain": [
       "HBox(children=(VBox(children=(IntProgress(value=0, max=1000), HTML(value=''))), Box(children=(HTML(value=''),)…"
      ]
     },
     "metadata": {},
     "output_type": "display_data"
    },
    {
     "name": "stdout",
     "output_type": "stream",
     "text": [
      "Optimization restart 1/10, f = 158.18091828537\n",
      "Optimization restart 2/10, f = 158.18091833018084\n",
      "Optimization restart 3/10, f = 158.18091828944088\n",
      "Optimization restart 4/10, f = 158.18091867613305\n",
      "Optimization restart 5/10, f = 158.18091828910252\n",
      "Optimization restart 6/10, f = 158.1809182856575\n",
      "Optimization restart 7/10, f = 158.1809182863966\n",
      "Optimization restart 8/10, f = 158.18091828552875\n",
      "Optimization restart 9/10, f = 158.1809183201631\n",
      "Optimization restart 10/10, f = 158.180918286363\n",
      "309\n"
     ]
    },
    {
     "data": {
      "application/vnd.jupyter.widget-view+json": {
       "model_id": "8ec1ae4adcc14158ae8a99b7ca89f161",
       "version_major": 2,
       "version_minor": 0
      },
      "text/plain": [
       "HBox(children=(VBox(children=(IntProgress(value=0, max=1000), HTML(value=''))), Box(children=(HTML(value=''),)…"
      ]
     },
     "metadata": {},
     "output_type": "display_data"
    },
    {
     "name": "stdout",
     "output_type": "stream",
     "text": [
      "Optimization restart 1/10, f = 29.224258548350402\n",
      "Optimization restart 2/10, f = 29.356788602894284\n",
      "Optimization restart 3/10, f = 29.22425854891705\n",
      "Optimization restart 4/10, f = 29.224258548352505\n",
      "Optimization restart 5/10, f = 29.356788417464262\n",
      "Optimization restart 6/10, f = 29.35678834317412\n",
      "Optimization restart 7/10, f = 29.356788327303395\n",
      "Optimization restart 8/10, f = 29.356788335717305\n",
      "Optimization restart 9/10, f = 29.224258548352193\n",
      "Optimization restart 10/10, f = 29.356788353603037\n",
      "310\n"
     ]
    },
    {
     "data": {
      "application/vnd.jupyter.widget-view+json": {
       "model_id": "4dfdd4fcc921441f8b0e1622c6ba2c0b",
       "version_major": 2,
       "version_minor": 0
      },
      "text/plain": [
       "HBox(children=(VBox(children=(IntProgress(value=0, max=1000), HTML(value=''))), Box(children=(HTML(value=''),)…"
      ]
     },
     "metadata": {},
     "output_type": "display_data"
    },
    {
     "name": "stdout",
     "output_type": "stream",
     "text": [
      "Optimization restart 1/10, f = 140.24154525664736\n",
      "Optimization restart 2/10, f = 140.2415452558525\n",
      "Optimization restart 3/10, f = 140.24154525584146\n",
      "Optimization restart 4/10, f = 140.24154525579758\n",
      "Optimization restart 5/10, f = 140.24154525580224\n",
      "Optimization restart 6/10, f = 140.24154525916265\n",
      "Optimization restart 7/10, f = 140.24154531865847\n",
      "Optimization restart 8/10, f = 140.24154525586542\n",
      "Optimization restart 9/10, f = 140.2415452563823\n",
      "Optimization restart 10/10, f = 140.241545255861\n",
      "311\n"
     ]
    },
    {
     "data": {
      "application/vnd.jupyter.widget-view+json": {
       "model_id": "dce8f934683e46f98dbffbd3cfc482a0",
       "version_major": 2,
       "version_minor": 0
      },
      "text/plain": [
       "HBox(children=(VBox(children=(IntProgress(value=0, max=1000), HTML(value=''))), Box(children=(HTML(value=''),)…"
      ]
     },
     "metadata": {},
     "output_type": "display_data"
    },
    {
     "name": "stdout",
     "output_type": "stream",
     "text": [
      "Optimization restart 1/10, f = 19.889293983880194\n",
      "Optimization restart 2/10, f = 19.88929398354692\n",
      "Optimization restart 3/10, f = 19.889293983836797\n",
      "Optimization restart 4/10, f = 19.889293983551752\n",
      "Optimization restart 5/10, f = 19.889293983614863\n",
      "Optimization restart 6/10, f = 19.889293983553287\n",
      "Optimization restart 7/10, f = 19.889293986049555\n",
      "Optimization restart 8/10, f = 19.889293984809868\n",
      "Optimization restart 9/10, f = 19.889293983977062\n",
      "Optimization restart 10/10, f = 19.889293984591895\n",
      "312\n"
     ]
    },
    {
     "data": {
      "application/vnd.jupyter.widget-view+json": {
       "model_id": "cfd3096f86d14a5ab79d95cb02775125",
       "version_major": 2,
       "version_minor": 0
      },
      "text/plain": [
       "HBox(children=(VBox(children=(IntProgress(value=0, max=1000), HTML(value=''))), Box(children=(HTML(value=''),)…"
      ]
     },
     "metadata": {},
     "output_type": "display_data"
    },
    {
     "name": "stdout",
     "output_type": "stream",
     "text": [
      "Optimization restart 1/10, f = 30.09227794433037\n",
      "Optimization restart 2/10, f = 30.09227795077378\n",
      "Optimization restart 3/10, f = 30.092277944071448\n",
      "Optimization restart 4/10, f = 30.09227794404794\n",
      "Optimization restart 5/10, f = 30.09227794406281\n",
      "Optimization restart 6/10, f = 30.092277948850274\n",
      "Optimization restart 7/10, f = 30.09227794501236\n",
      "Optimization restart 8/10, f = 30.092277945968764\n",
      "Optimization restart 9/10, f = 30.092277965922033\n",
      "Optimization restart 10/10, f = 30.092277944202696\n",
      "313\n"
     ]
    },
    {
     "data": {
      "application/vnd.jupyter.widget-view+json": {
       "model_id": "91e2429bf80d43a08c905a28875d0446",
       "version_major": 2,
       "version_minor": 0
      },
      "text/plain": [
       "HBox(children=(VBox(children=(IntProgress(value=0, max=1000), HTML(value=''))), Box(children=(HTML(value=''),)…"
      ]
     },
     "metadata": {},
     "output_type": "display_data"
    },
    {
     "name": "stdout",
     "output_type": "stream",
     "text": [
      "Optimization restart 1/10, f = 213.33321276430868\n",
      "Optimization restart 2/10, f = 213.33321276085914\n",
      "Optimization restart 3/10, f = 213.33321276086755\n",
      "Optimization restart 4/10, f = 213.33321277369237\n",
      "Optimization restart 5/10, f = 213.33321276288189\n",
      "Optimization restart 6/10, f = 213.33321276086411\n",
      "Optimization restart 7/10, f = 213.33321277613672\n",
      "Optimization restart 8/10, f = 213.3332127624074\n",
      "Optimization restart 9/10, f = 213.33321276626194\n",
      "Optimization restart 10/10, f = 213.33321276085695\n",
      "314\n"
     ]
    },
    {
     "data": {
      "application/vnd.jupyter.widget-view+json": {
       "model_id": "0a0338f4e67746499c38ed9bd4efa312",
       "version_major": 2,
       "version_minor": 0
      },
      "text/plain": [
       "HBox(children=(VBox(children=(IntProgress(value=0, max=1000), HTML(value=''))), Box(children=(HTML(value=''),)…"
      ]
     },
     "metadata": {},
     "output_type": "display_data"
    },
    {
     "name": "stdout",
     "output_type": "stream",
     "text": [
      "Optimization restart 1/10, f = 325.62941383176377\n",
      "Optimization restart 2/10, f = 325.6294026418631\n",
      "Optimization restart 3/10, f = 325.62940258734494\n",
      "Optimization restart 4/10, f = 325.62940250279274\n",
      "Optimization restart 5/10, f = 325.62940362742523\n",
      "Optimization restart 6/10, f = 325.6294024991585\n",
      "Optimization restart 7/10, f = 325.62940255347667\n",
      "Optimization restart 8/10, f = 325.6294085022196\n",
      "Optimization restart 9/10, f = 325.6294024987315\n",
      "Optimization restart 10/10, f = 325.62940250670533\n",
      "315\n"
     ]
    },
    {
     "data": {
      "application/vnd.jupyter.widget-view+json": {
       "model_id": "1733ad11d34447f486087c51083d33d9",
       "version_major": 2,
       "version_minor": 0
      },
      "text/plain": [
       "HBox(children=(VBox(children=(IntProgress(value=0, max=1000), HTML(value=''))), Box(children=(HTML(value=''),)…"
      ]
     },
     "metadata": {},
     "output_type": "display_data"
    },
    {
     "name": "stdout",
     "output_type": "stream",
     "text": [
      "Optimization restart 1/10, f = 48.67283213372415\n",
      "Optimization restart 2/10, f = 48.6728321346838\n",
      "Optimization restart 3/10, f = 48.672832133768246\n",
      "Optimization restart 4/10, f = 48.67283213372239\n",
      "Optimization restart 5/10, f = 48.672832151577666\n",
      "Optimization restart 6/10, f = 48.6728321337211\n",
      "Optimization restart 7/10, f = 48.67283213394445\n",
      "Optimization restart 8/10, f = 48.67283213372681\n",
      "Optimization restart 9/10, f = 48.67283213374456\n",
      "Optimization restart 10/10, f = 48.67283213373681\n",
      "316\n",
      "could not train the model for df GY_0000002\n",
      "317\n"
     ]
    },
    {
     "data": {
      "application/vnd.jupyter.widget-view+json": {
       "model_id": "602ce0737a744cf788c5c127ae0c316c",
       "version_major": 2,
       "version_minor": 0
      },
      "text/plain": [
       "HBox(children=(VBox(children=(IntProgress(value=0, max=1000), HTML(value=''))), Box(children=(HTML(value=''),)…"
      ]
     },
     "metadata": {},
     "output_type": "display_data"
    },
    {
     "name": "stdout",
     "output_type": "stream",
     "text": [
      "Optimization restart 1/10, f = -8.893603610566991\n",
      "Optimization restart 2/10, f = -8.893603609453717\n",
      "Optimization restart 3/10, f = -8.893603610672326\n",
      "Optimization restart 4/10, f = -8.893603610850814\n",
      "Optimization restart 5/10, f = -8.893603610844195\n",
      "Optimization restart 6/10, f = -8.893603609780293\n",
      "Optimization restart 7/10, f = -8.893603610859195\n",
      "Optimization restart 8/10, f = -8.893603610870752\n",
      "Optimization restart 9/10, f = -8.893603609628784\n",
      "Optimization restart 10/10, f = -8.893603610861483\n",
      "318\n"
     ]
    },
    {
     "data": {
      "application/vnd.jupyter.widget-view+json": {
       "model_id": "fa6f77ae75a24280bd35dbb4a44d82f0",
       "version_major": 2,
       "version_minor": 0
      },
      "text/plain": [
       "HBox(children=(VBox(children=(IntProgress(value=0, max=1000), HTML(value=''))), Box(children=(HTML(value=''),)…"
      ]
     },
     "metadata": {},
     "output_type": "display_data"
    },
    {
     "name": "stdout",
     "output_type": "stream",
     "text": [
      "Optimization restart 1/10, f = 186.47426291107305\n",
      "Optimization restart 2/10, f = 186.47426290721197\n",
      "Optimization restart 3/10, f = 186.47426290654823\n",
      "Optimization restart 4/10, f = 186.474262918471\n",
      "Optimization restart 5/10, f = 186.47426290781303\n",
      "Optimization restart 6/10, f = 186.47426290659456\n",
      "Optimization restart 7/10, f = 186.47426290721188\n",
      "Optimization restart 8/10, f = 186.47426290658026\n",
      "Optimization restart 9/10, f = 186.47426291015302\n",
      "Optimization restart 10/10, f = 186.47426290656642\n",
      "319\n"
     ]
    },
    {
     "data": {
      "application/vnd.jupyter.widget-view+json": {
       "model_id": "2b66bdfbd8ea4fb6978aec18789c806b",
       "version_major": 2,
       "version_minor": 0
      },
      "text/plain": [
       "HBox(children=(VBox(children=(IntProgress(value=0, max=1000), HTML(value=''))), Box(children=(HTML(value=''),)…"
      ]
     },
     "metadata": {},
     "output_type": "display_data"
    },
    {
     "name": "stdout",
     "output_type": "stream",
     "text": [
      "Optimization restart 1/10, f = 182.55413412234077\n",
      "Optimization restart 2/10, f = 182.55413401840065\n"
     ]
    },
    {
     "name": "stderr",
     "output_type": "stream",
     "text": [
      " C:\\Users\\marku\\Anaconda3\\lib\\site-packages\\GPy\\kern\\src\\stationary.py:168: RuntimeWarning:overflow encountered in true_divide\n",
      " C:\\Users\\marku\\Anaconda3\\lib\\site-packages\\GPy\\kern\\src\\stationary.py:468: RuntimeWarning:overflow encountered in multiply\n",
      " C:\\Users\\marku\\Anaconda3\\lib\\site-packages\\GPy\\kern\\src\\stationary.py:468: RuntimeWarning:invalid value encountered in multiply\n"
     ]
    },
    {
     "name": "stdout",
     "output_type": "stream",
     "text": [
      "Optimization restart 3/10, f = 182.70800010380958\n",
      "Optimization restart 4/10, f = 182.5541355678015\n",
      "Optimization restart 5/10, f = 182.7298614033454\n",
      "Optimization restart 6/10, f = 182.5541802420624\n",
      "Optimization restart 7/10, f = 182.55413403668229\n",
      "Optimization restart 8/10, f = 182.55413401773725\n",
      "Optimization restart 9/10, f = 182.5541342312966\n",
      "Optimization restart 10/10, f = 182.5541340177084\n",
      "320\n"
     ]
    },
    {
     "data": {
      "application/vnd.jupyter.widget-view+json": {
       "model_id": "358bb4dc25e847d592d7310fb8e320f8",
       "version_major": 2,
       "version_minor": 0
      },
      "text/plain": [
       "HBox(children=(VBox(children=(IntProgress(value=0, max=1000), HTML(value=''))), Box(children=(HTML(value=''),)…"
      ]
     },
     "metadata": {},
     "output_type": "display_data"
    },
    {
     "name": "stdout",
     "output_type": "stream",
     "text": [
      "Optimization restart 1/10, f = 137.96837956280174\n",
      "Optimization restart 2/10, f = 137.96837956808338\n",
      "Optimization restart 3/10, f = 137.9683795625871\n",
      "Optimization restart 4/10, f = 137.9683796179138\n",
      "Optimization restart 5/10, f = 137.96837956281666\n",
      "Optimization restart 6/10, f = 137.96837957429545\n",
      "Optimization restart 7/10, f = 137.9683795640873\n",
      "Optimization restart 8/10, f = 137.96837956328264\n",
      "Optimization restart 9/10, f = 137.96837956485155\n",
      "Optimization restart 10/10, f = 137.96837956626098\n",
      "321\n"
     ]
    },
    {
     "data": {
      "application/vnd.jupyter.widget-view+json": {
       "model_id": "032a14072e8046a0a7287d3051217bb7",
       "version_major": 2,
       "version_minor": 0
      },
      "text/plain": [
       "HBox(children=(VBox(children=(IntProgress(value=0, max=1000), HTML(value=''))), Box(children=(HTML(value=''),)…"
      ]
     },
     "metadata": {},
     "output_type": "display_data"
    },
    {
     "name": "stdout",
     "output_type": "stream",
     "text": [
      "Optimization restart 1/10, f = 247.85220780866007\n",
      "Optimization restart 2/10, f = 247.8522078057111\n",
      "Optimization restart 3/10, f = 247.85220780992202\n",
      "Optimization restart 4/10, f = 247.85220780576364\n",
      "Optimization restart 5/10, f = 247.85220780877322\n",
      "Optimization restart 6/10, f = 247.85220785398832\n",
      "Optimization restart 7/10, f = 247.8522078093195\n",
      "Optimization restart 8/10, f = 247.85220789596625\n",
      "Optimization restart 9/10, f = 247.8522078125047\n",
      "Optimization restart 10/10, f = 247.85220788245425\n",
      "322\n",
      "Could not compute spearmans matrix, for df BR_0001999\n",
      "323\n"
     ]
    },
    {
     "data": {
      "application/vnd.jupyter.widget-view+json": {
       "model_id": "3aad708aaed6475f97b156755ee5de4e",
       "version_major": 2,
       "version_minor": 0
      },
      "text/plain": [
       "HBox(children=(VBox(children=(IntProgress(value=0, max=1000), HTML(value=''))), Box(children=(HTML(value=''),)…"
      ]
     },
     "metadata": {},
     "output_type": "display_data"
    },
    {
     "name": "stdout",
     "output_type": "stream",
     "text": [
      "Optimization restart 1/10, f = 27.202855115190964\n",
      "Optimization restart 2/10, f = 27.20285511520381\n",
      "Optimization restart 3/10, f = 27.20285511518881\n",
      "Optimization restart 4/10, f = 27.202855115186352\n",
      "Optimization restart 5/10, f = 27.20285511521621\n",
      "Optimization restart 6/10, f = 27.202855115186928\n",
      "Optimization restart 7/10, f = 27.202855115189728\n",
      "Optimization restart 8/10, f = 27.20285511518778\n",
      "Optimization restart 9/10, f = 27.202855115186644\n",
      "Optimization restart 10/10, f = 27.202855115198403\n",
      "324\n"
     ]
    },
    {
     "data": {
      "application/vnd.jupyter.widget-view+json": {
       "model_id": "64ad65ae6b4148d588cc8b73498fc6c3",
       "version_major": 2,
       "version_minor": 0
      },
      "text/plain": [
       "HBox(children=(VBox(children=(IntProgress(value=0, max=1000), HTML(value=''))), Box(children=(HTML(value=''),)…"
      ]
     },
     "metadata": {},
     "output_type": "display_data"
    },
    {
     "name": "stdout",
     "output_type": "stream",
     "text": [
      "Optimization restart 1/10, f = 70.1795565598489\n",
      "Optimization restart 2/10, f = 70.17955656107027\n",
      "Optimization restart 3/10, f = 70.17955655993319\n",
      "Optimization restart 4/10, f = 70.17955656016254\n",
      "Optimization restart 5/10, f = 70.17955656010156\n",
      "Optimization restart 6/10, f = 70.17955656041869\n",
      "Optimization restart 7/10, f = 70.17955655984738\n",
      "Optimization restart 8/10, f = 70.17955655987377\n",
      "Optimization restart 9/10, f = 70.17955656065378\n",
      "Optimization restart 10/10, f = 70.1795565733144\n",
      "325\n"
     ]
    },
    {
     "data": {
      "application/vnd.jupyter.widget-view+json": {
       "model_id": "bb77be752878454a9b8b423933a09eaf",
       "version_major": 2,
       "version_minor": 0
      },
      "text/plain": [
       "HBox(children=(VBox(children=(IntProgress(value=0, max=1000), HTML(value=''))), Box(children=(HTML(value=''),)…"
      ]
     },
     "metadata": {},
     "output_type": "display_data"
    },
    {
     "name": "stdout",
     "output_type": "stream",
     "text": [
      "Optimization restart 1/10, f = 182.21484194478006\n",
      "Optimization restart 2/10, f = 182.21484211358643\n",
      "Optimization restart 3/10, f = 182.21484194836214\n",
      "Optimization restart 4/10, f = 182.21484194421845\n",
      "Optimization restart 5/10, f = 182.2148420086388\n",
      "Optimization restart 6/10, f = 182.2148419540491\n",
      "Optimization restart 7/10, f = 182.21484194519746\n",
      "Optimization restart 8/10, f = 182.21484194511737\n",
      "Optimization restart 9/10, f = 182.21484194377155\n",
      "Optimization restart 10/10, f = 182.21484194393372\n",
      "326\n",
      "Could not compute spearmans matrix, for df BR_0003037\n",
      "327\n"
     ]
    },
    {
     "data": {
      "application/vnd.jupyter.widget-view+json": {
       "model_id": "bd4817be34f2492cb830e38c14f7a6ec",
       "version_major": 2,
       "version_minor": 0
      },
      "text/plain": [
       "HBox(children=(VBox(children=(IntProgress(value=0, max=1000), HTML(value=''))), Box(children=(HTML(value=''),)…"
      ]
     },
     "metadata": {},
     "output_type": "display_data"
    },
    {
     "name": "stdout",
     "output_type": "stream",
     "text": [
      "Optimization restart 1/10, f = 83.47187546758067\n",
      "Optimization restart 2/10, f = 83.47187546486535\n",
      "Optimization restart 3/10, f = 83.47187572682273\n",
      "Optimization restart 4/10, f = 83.47187546566883\n",
      "Optimization restart 5/10, f = 83.47187546488834\n",
      "Optimization restart 6/10, f = 83.47187546473864\n",
      "Optimization restart 7/10, f = 83.47187546671856\n",
      "Optimization restart 8/10, f = 83.47187546566357\n",
      "Optimization restart 9/10, f = 83.47187546458764\n",
      "Optimization restart 10/10, f = 83.47187546480976\n",
      "328\n"
     ]
    },
    {
     "data": {
      "application/vnd.jupyter.widget-view+json": {
       "model_id": "af6dc21d3f16473cb19fe56b843d22ce",
       "version_major": 2,
       "version_minor": 0
      },
      "text/plain": [
       "HBox(children=(VBox(children=(IntProgress(value=0, max=1000), HTML(value=''))), Box(children=(HTML(value=''),)…"
      ]
     },
     "metadata": {},
     "output_type": "display_data"
    },
    {
     "name": "stdout",
     "output_type": "stream",
     "text": [
      "Optimization restart 1/10, f = 89.14942204908658\n",
      "Optimization restart 2/10, f = 89.14942204962043\n",
      "Optimization restart 3/10, f = 89.1494220823135\n",
      "Optimization restart 4/10, f = 89.14942204908864\n",
      "Optimization restart 5/10, f = 89.1494220491793\n",
      "Optimization restart 6/10, f = 89.14942204908834\n",
      "Optimization restart 7/10, f = 89.1494220493633\n",
      "Optimization restart 8/10, f = 89.14942204908735\n",
      "Optimization restart 9/10, f = 89.14942204923946\n",
      "Optimization restart 10/10, f = 89.14942204946755\n",
      "329\n"
     ]
    },
    {
     "data": {
      "application/vnd.jupyter.widget-view+json": {
       "model_id": "5265d1f8b1ed4454b75d5cbffd928418",
       "version_major": 2,
       "version_minor": 0
      },
      "text/plain": [
       "HBox(children=(VBox(children=(IntProgress(value=0, max=1000), HTML(value=''))), Box(children=(HTML(value=''),)…"
      ]
     },
     "metadata": {},
     "output_type": "display_data"
    },
    {
     "name": "stdout",
     "output_type": "stream",
     "text": [
      "Optimization restart 1/10, f = 112.5117176274459\n",
      "Optimization restart 2/10, f = 112.51171762757437\n",
      "Optimization restart 3/10, f = 112.51171762746881\n",
      "Optimization restart 4/10, f = 112.51171765921382\n",
      "Optimization restart 5/10, f = 112.51171762744389\n",
      "Optimization restart 6/10, f = 112.51171762744829\n",
      "Optimization restart 7/10, f = 112.51171762763633\n",
      "Optimization restart 8/10, f = 112.51171763670209\n",
      "Optimization restart 9/10, f = 112.51171762747515\n",
      "Optimization restart 10/10, f = 112.51171762762903\n",
      "330\n"
     ]
    },
    {
     "data": {
      "application/vnd.jupyter.widget-view+json": {
       "model_id": "dffc029bd2b64a03ac6da5efeadcef99",
       "version_major": 2,
       "version_minor": 0
      },
      "text/plain": [
       "HBox(children=(VBox(children=(IntProgress(value=0, max=1000), HTML(value=''))), Box(children=(HTML(value=''),)…"
      ]
     },
     "metadata": {},
     "output_type": "display_data"
    },
    {
     "name": "stdout",
     "output_type": "stream",
     "text": [
      "Optimization restart 1/10, f = 242.16352317490663\n",
      "Optimization restart 2/10, f = 242.16352317494523\n",
      "Optimization restart 3/10, f = 242.16352317877775\n",
      "Optimization restart 4/10, f = 242.1635231748898\n",
      "Optimization restart 5/10, f = 242.1635231750936\n",
      "Optimization restart 6/10, f = 242.16352317559148\n",
      "Optimization restart 7/10, f = 242.16352318099905\n",
      "Optimization restart 8/10, f = 242.16352317497274\n",
      "Optimization restart 9/10, f = 242.1635231748932\n",
      "Optimization restart 10/10, f = 242.16352318459417\n",
      "331\n"
     ]
    },
    {
     "name": "stderr",
     "output_type": "stream",
     "text": [
      " C:\\Users\\marku\\Anaconda3\\lib\\site-packages\\scipy\\stats\\mstats_basic.py:509: RuntimeWarning:invalid value encountered in true_divide\n",
      " C:\\Users\\marku\\Anaconda3\\lib\\site-packages\\scipy\\stats\\_distn_infrastructure.py:877: RuntimeWarning:invalid value encountered in greater\n",
      " C:\\Users\\marku\\Anaconda3\\lib\\site-packages\\scipy\\stats\\_distn_infrastructure.py:877: RuntimeWarning:invalid value encountered in less\n",
      " C:\\Users\\marku\\Anaconda3\\lib\\site-packages\\scipy\\stats\\_distn_infrastructure.py:1831: RuntimeWarning:invalid value encountered in less_equal\n"
     ]
    },
    {
     "data": {
      "application/vnd.jupyter.widget-view+json": {
       "model_id": "ca4ab011a39c4459a7661d5c1588ba93",
       "version_major": 2,
       "version_minor": 0
      },
      "text/plain": [
       "HBox(children=(VBox(children=(IntProgress(value=0, max=1000), HTML(value=''))), Box(children=(HTML(value=''),)…"
      ]
     },
     "metadata": {},
     "output_type": "display_data"
    },
    {
     "name": "stdout",
     "output_type": "stream",
     "text": [
      "Optimization restart 1/10, f = 29.078696929266833\n",
      "Optimization restart 2/10, f = 29.078696928659554\n",
      "Optimization restart 3/10, f = 29.078696928191043\n",
      "Optimization restart 4/10, f = 29.078696928939898\n",
      "Optimization restart 5/10, f = 29.078696929025647\n",
      "Optimization restart 6/10, f = 29.078696928191004\n",
      "Optimization restart 7/10, f = 29.07869692825949\n",
      "Optimization restart 8/10, f = 29.07869692821931\n",
      "Optimization restart 9/10, f = 29.07869695502848\n",
      "Optimization restart 10/10, f = 29.07869692822983\n",
      "332\n"
     ]
    },
    {
     "data": {
      "application/vnd.jupyter.widget-view+json": {
       "model_id": "2bf4f57990214b6cb7be8c0dd71e1a47",
       "version_major": 2,
       "version_minor": 0
      },
      "text/plain": [
       "HBox(children=(VBox(children=(IntProgress(value=0, max=1000), HTML(value=''))), Box(children=(HTML(value=''),)…"
      ]
     },
     "metadata": {},
     "output_type": "display_data"
    },
    {
     "name": "stdout",
     "output_type": "stream",
     "text": [
      "Optimization restart 1/10, f = 14.1133994259618\n",
      "Optimization restart 2/10, f = 14.11339942600868\n",
      "Optimization restart 3/10, f = 14.113399425908417\n",
      "Optimization restart 4/10, f = 14.113399425861651\n",
      "Optimization restart 5/10, f = 14.113399425834013\n",
      "Optimization restart 6/10, f = 14.113399425928895\n",
      "Optimization restart 7/10, f = 14.113399425836839\n",
      "Optimization restart 8/10, f = 14.113399430884792\n",
      "Optimization restart 9/10, f = 14.113399425891696\n",
      "Optimization restart 10/10, f = 14.113399425840175\n",
      "333\n"
     ]
    },
    {
     "data": {
      "application/vnd.jupyter.widget-view+json": {
       "model_id": "d957a287510d45c4b1101b1166f91a08",
       "version_major": 2,
       "version_minor": 0
      },
      "text/plain": [
       "HBox(children=(VBox(children=(IntProgress(value=0, max=1000), HTML(value=''))), Box(children=(HTML(value=''),)…"
      ]
     },
     "metadata": {},
     "output_type": "display_data"
    },
    {
     "name": "stdout",
     "output_type": "stream",
     "text": [
      "Optimization restart 1/10, f = 231.0141127839257\n",
      "Optimization restart 2/10, f = 231.0141127804223\n",
      "Optimization restart 3/10, f = 231.01411277993526\n",
      "Optimization restart 4/10, f = 231.0141127949705\n",
      "Optimization restart 5/10, f = 231.01411295585305\n",
      "Optimization restart 6/10, f = 231.01411286523134\n",
      "Optimization restart 7/10, f = 231.0141128717208\n",
      "Optimization restart 8/10, f = 231.0141127779391\n",
      "Optimization restart 9/10, f = 231.01411277686802\n",
      "Optimization restart 10/10, f = 231.0141127780154\n",
      "334\n"
     ]
    },
    {
     "data": {
      "application/vnd.jupyter.widget-view+json": {
       "model_id": "da0b5def4dbd4c298eb110e855d7f4d5",
       "version_major": 2,
       "version_minor": 0
      },
      "text/plain": [
       "HBox(children=(VBox(children=(IntProgress(value=0, max=1000), HTML(value=''))), Box(children=(HTML(value=''),)…"
      ]
     },
     "metadata": {},
     "output_type": "display_data"
    },
    {
     "name": "stdout",
     "output_type": "stream",
     "text": [
      "Optimization restart 1/10, f = 66.43262218561865\n",
      "Optimization restart 2/10, f = 66.43262217017622\n",
      "Optimization restart 3/10, f = 66.4326221703775\n",
      "Optimization restart 4/10, f = 66.43262217416628\n",
      "Optimization restart 5/10, f = 66.43262217236489\n",
      "Optimization restart 6/10, f = 66.4326221700572\n",
      "Optimization restart 7/10, f = 66.43262217048996\n",
      "Optimization restart 8/10, f = 66.43262217751959\n",
      "Optimization restart 9/10, f = 66.43262217006182\n",
      "Optimization restart 10/10, f = 66.43262217126986\n",
      "335\n"
     ]
    },
    {
     "data": {
      "application/vnd.jupyter.widget-view+json": {
       "model_id": "0905c3c6c70b4cbfa2995da7ce2e9452",
       "version_major": 2,
       "version_minor": 0
      },
      "text/plain": [
       "HBox(children=(VBox(children=(IntProgress(value=0, max=1000), HTML(value=''))), Box(children=(HTML(value=''),)…"
      ]
     },
     "metadata": {},
     "output_type": "display_data"
    },
    {
     "name": "stdout",
     "output_type": "stream",
     "text": [
      "Optimization restart 1/10, f = -110.3582874907654\n",
      "Optimization restart 2/10, f = -62.29201941459553\n",
      "Optimization restart 3/10, f = -110.35818192253555\n",
      "Optimization restart 4/10, f = -110.35824013460706\n",
      "Optimization restart 5/10, f = -110.35828819674092\n",
      "Optimization restart 6/10, f = -110.35828851132015\n",
      "Optimization restart 7/10, f = -110.3582785022422\n",
      "Optimization restart 8/10, f = -93.29588545630577\n",
      "Optimization restart 9/10, f = -110.35828814086432\n",
      "Optimization restart 10/10, f = -110.35828804085048\n",
      "336\n"
     ]
    },
    {
     "data": {
      "application/vnd.jupyter.widget-view+json": {
       "model_id": "7d73b7b22c4f4ecf97ebcc5648642d6b",
       "version_major": 2,
       "version_minor": 0
      },
      "text/plain": [
       "HBox(children=(VBox(children=(IntProgress(value=0, max=1000), HTML(value=''))), Box(children=(HTML(value=''),)…"
      ]
     },
     "metadata": {},
     "output_type": "display_data"
    },
    {
     "name": "stdout",
     "output_type": "stream",
     "text": [
      "Optimization restart 1/10, f = 86.32067288366957\n",
      "Optimization restart 2/10, f = 86.32067288456648\n",
      "Optimization restart 3/10, f = 86.32067288457472\n",
      "Optimization restart 4/10, f = 86.3206728838954\n",
      "Optimization restart 5/10, f = 86.32067288335156\n",
      "Optimization restart 6/10, f = 86.32067288437409\n",
      "Optimization restart 7/10, f = 86.32067288335612\n",
      "Optimization restart 8/10, f = 86.32067288516231\n",
      "Optimization restart 9/10, f = 86.32067288336572\n",
      "Optimization restart 10/10, f = 86.32067288344166\n",
      "337\n"
     ]
    },
    {
     "data": {
      "application/vnd.jupyter.widget-view+json": {
       "model_id": "0f3727416bb442c2973e0fe0d016d76a",
       "version_major": 2,
       "version_minor": 0
      },
      "text/plain": [
       "HBox(children=(VBox(children=(IntProgress(value=0, max=1000), HTML(value=''))), Box(children=(HTML(value=''),)…"
      ]
     },
     "metadata": {},
     "output_type": "display_data"
    },
    {
     "name": "stdout",
     "output_type": "stream",
     "text": [
      "Optimization restart 1/10, f = 65.65764887336096\n",
      "Optimization restart 2/10, f = 65.65764887365339\n",
      "Optimization restart 3/10, f = 65.65764887343522\n",
      "Optimization restart 4/10, f = 65.65764887364486\n",
      "Optimization restart 5/10, f = 65.65764887496098\n",
      "Optimization restart 6/10, f = 65.65764887556257\n",
      "Optimization restart 7/10, f = 65.65764887387787\n",
      "Optimization restart 8/10, f = 65.65764887336607\n",
      "Optimization restart 9/10, f = 65.65764888092956\n",
      "Optimization restart 10/10, f = 65.65764887335607\n",
      "338\n"
     ]
    },
    {
     "data": {
      "application/vnd.jupyter.widget-view+json": {
       "model_id": "cc75661574394d5a88a933de8328dc72",
       "version_major": 2,
       "version_minor": 0
      },
      "text/plain": [
       "HBox(children=(VBox(children=(IntProgress(value=0, max=1000), HTML(value=''))), Box(children=(HTML(value=''),)…"
      ]
     },
     "metadata": {},
     "output_type": "display_data"
    },
    {
     "name": "stdout",
     "output_type": "stream",
     "text": [
      "Optimization restart 1/10, f = 165.33644109581618\n",
      "Optimization restart 2/10, f = 165.33644109976012\n",
      "Optimization restart 3/10, f = 165.33644109582178\n",
      "Optimization restart 4/10, f = 165.33644110048627\n",
      "Optimization restart 5/10, f = 165.33644115453194\n",
      "Optimization restart 6/10, f = 165.33644109655455\n",
      "Optimization restart 7/10, f = 165.33644122768112\n",
      "Optimization restart 8/10, f = 165.33644111196003\n",
      "Optimization restart 9/10, f = 165.3364411001965\n",
      "Optimization restart 10/10, f = 165.33644110461782\n",
      "339\n"
     ]
    },
    {
     "data": {
      "application/vnd.jupyter.widget-view+json": {
       "model_id": "9f6afc46d5d048b9a4c78a6cb5c7e9bb",
       "version_major": 2,
       "version_minor": 0
      },
      "text/plain": [
       "HBox(children=(VBox(children=(IntProgress(value=0, max=1000), HTML(value=''))), Box(children=(HTML(value=''),)…"
      ]
     },
     "metadata": {},
     "output_type": "display_data"
    },
    {
     "name": "stdout",
     "output_type": "stream",
     "text": [
      "Optimization restart 1/10, f = 117.0471741144427\n",
      "Optimization restart 2/10, f = 117.04717411294874\n",
      "Optimization restart 3/10, f = 117.04717411333175\n",
      "Optimization restart 4/10, f = 117.04717415955196\n",
      "Optimization restart 5/10, f = 117.0471741138432\n",
      "Optimization restart 6/10, f = 117.04717411293439\n",
      "Optimization restart 7/10, f = 117.0471741156955\n",
      "Optimization restart 8/10, f = 117.04717411306132\n",
      "Optimization restart 9/10, f = 117.04717411301658\n",
      "Optimization restart 10/10, f = 117.0471741189387\n",
      "340\n"
     ]
    },
    {
     "data": {
      "application/vnd.jupyter.widget-view+json": {
       "model_id": "7c07875ab4e541e686de5efee194e75e",
       "version_major": 2,
       "version_minor": 0
      },
      "text/plain": [
       "HBox(children=(VBox(children=(IntProgress(value=0, max=1000), HTML(value=''))), Box(children=(HTML(value=''),)…"
      ]
     },
     "metadata": {},
     "output_type": "display_data"
    },
    {
     "name": "stdout",
     "output_type": "stream",
     "text": [
      "Optimization restart 1/10, f = 357.0192231101535\n",
      "Optimization restart 2/10, f = 357.01922311128664\n",
      "Optimization restart 3/10, f = 357.01922310841917\n",
      "Optimization restart 4/10, f = 357.01922334920334\n",
      "Optimization restart 5/10, f = 357.01922325290036\n",
      "Optimization restart 6/10, f = 357.01922328600944\n",
      "Optimization restart 7/10, f = 357.0192231197292\n",
      "Optimization restart 8/10, f = 357.0192231161008\n",
      "Optimization restart 9/10, f = 357.0192231121881\n",
      "Optimization restart 10/10, f = 357.0192231204169\n",
      "341\n"
     ]
    },
    {
     "data": {
      "application/vnd.jupyter.widget-view+json": {
       "model_id": "3365d1bf8d7148cbabe4d6358c1051c3",
       "version_major": 2,
       "version_minor": 0
      },
      "text/plain": [
       "HBox(children=(VBox(children=(IntProgress(value=0, max=1000), HTML(value=''))), Box(children=(HTML(value=''),)…"
      ]
     },
     "metadata": {},
     "output_type": "display_data"
    },
    {
     "name": "stdout",
     "output_type": "stream",
     "text": [
      "Optimization restart 1/10, f = 249.88599651543507\n",
      "Optimization restart 2/10, f = 249.88599651573844\n",
      "Optimization restart 3/10, f = 249.88599652850746\n",
      "Optimization restart 4/10, f = 249.8859965162705\n",
      "Optimization restart 5/10, f = 249.88599651475715\n",
      "Optimization restart 6/10, f = 249.88599651584695\n",
      "Optimization restart 7/10, f = 249.88599652921954\n",
      "Optimization restart 8/10, f = 249.88599651415052\n",
      "Optimization restart 9/10, f = 249.88599651517222\n",
      "Optimization restart 10/10, f = 249.88599651437983\n",
      "342\n",
      "could not train the model for df BR_0000413\n",
      "343\n"
     ]
    },
    {
     "data": {
      "application/vnd.jupyter.widget-view+json": {
       "model_id": "f24b43d90ed44277b591ac4f6f2a4c4f",
       "version_major": 2,
       "version_minor": 0
      },
      "text/plain": [
       "HBox(children=(VBox(children=(IntProgress(value=0, max=1000), HTML(value=''))), Box(children=(HTML(value=''),)…"
      ]
     },
     "metadata": {},
     "output_type": "display_data"
    },
    {
     "name": "stdout",
     "output_type": "stream",
     "text": [
      "Optimization restart 1/10, f = 87.42085787890178\n",
      "Optimization restart 2/10, f = 87.42085787590398\n",
      "Optimization restart 3/10, f = 87.42085787606253\n",
      "Optimization restart 4/10, f = 87.42085787553435\n",
      "Optimization restart 5/10, f = 87.42085787556204\n",
      "Optimization restart 6/10, f = 87.4208578756258\n",
      "Optimization restart 7/10, f = 87.42085787635813\n",
      "Optimization restart 8/10, f = 87.4208578787798\n",
      "Optimization restart 9/10, f = 87.42085787603807\n",
      "Optimization restart 10/10, f = 87.42085793333828\n",
      "344\n"
     ]
    },
    {
     "data": {
      "application/vnd.jupyter.widget-view+json": {
       "model_id": "03171ad28b344b31951f9043438a275b",
       "version_major": 2,
       "version_minor": 0
      },
      "text/plain": [
       "HBox(children=(VBox(children=(IntProgress(value=0, max=1000), HTML(value=''))), Box(children=(HTML(value=''),)…"
      ]
     },
     "metadata": {},
     "output_type": "display_data"
    },
    {
     "name": "stdout",
     "output_type": "stream",
     "text": [
      "Optimization restart 1/10, f = 25.98862989550004\n",
      "Optimization restart 2/10, f = 25.988629895670584\n",
      "Optimization restart 3/10, f = 25.98862989554401\n",
      "Optimization restart 4/10, f = 25.98862989549695\n",
      "Optimization restart 5/10, f = 25.988629895544427\n",
      "Optimization restart 6/10, f = 25.988629895517285\n",
      "Optimization restart 7/10, f = 25.98862989556526\n",
      "Optimization restart 8/10, f = 25.988629895913483\n",
      "Optimization restart 9/10, f = 25.98862989571267\n",
      "Optimization restart 10/10, f = 25.98862989549807\n",
      "345\n"
     ]
    },
    {
     "data": {
      "application/vnd.jupyter.widget-view+json": {
       "model_id": "7741779a90834332922a3fdd30efa230",
       "version_major": 2,
       "version_minor": 0
      },
      "text/plain": [
       "HBox(children=(VBox(children=(IntProgress(value=0, max=1000), HTML(value=''))), Box(children=(HTML(value=''),)…"
      ]
     },
     "metadata": {},
     "output_type": "display_data"
    },
    {
     "name": "stdout",
     "output_type": "stream",
     "text": [
      "Optimization restart 1/10, f = 84.78395610991271\n",
      "Optimization restart 2/10, f = 84.78395611185778\n",
      "Optimization restart 3/10, f = 84.78395610976308\n",
      "Optimization restart 4/10, f = 84.78395611018749\n",
      "Optimization restart 5/10, f = 84.78395611230465\n",
      "Optimization restart 6/10, f = 84.78395614627104\n",
      "Optimization restart 7/10, f = 84.78395610998253\n",
      "Optimization restart 8/10, f = 84.78395610983253\n",
      "Optimization restart 9/10, f = 84.78395610977861\n",
      "Optimization restart 10/10, f = 84.78395611003944\n",
      "346\n"
     ]
    },
    {
     "data": {
      "application/vnd.jupyter.widget-view+json": {
       "model_id": "e958324783be4c81b7a9c1463b5331ea",
       "version_major": 2,
       "version_minor": 0
      },
      "text/plain": [
       "HBox(children=(VBox(children=(IntProgress(value=0, max=1000), HTML(value=''))), Box(children=(HTML(value=''),)…"
      ]
     },
     "metadata": {},
     "output_type": "display_data"
    },
    {
     "name": "stdout",
     "output_type": "stream",
     "text": [
      "Optimization restart 1/10, f = 79.24120805413602\n",
      "Optimization restart 2/10, f = 79.24120805558219\n",
      "Optimization restart 3/10, f = 79.24120805407392\n",
      "Optimization restart 4/10, f = 79.24120805401225\n",
      "Optimization restart 5/10, f = 79.24120805391128\n",
      "Optimization restart 6/10, f = 79.24120806786338\n",
      "Optimization restart 7/10, f = 79.24120805425747\n",
      "Optimization restart 8/10, f = 79.2412080539131\n",
      "Optimization restart 9/10, f = 79.24120805393088\n",
      "Optimization restart 10/10, f = 79.24120805567904\n",
      "347\n"
     ]
    },
    {
     "data": {
      "application/vnd.jupyter.widget-view+json": {
       "model_id": "8b5b748616854bb5942b8bd423e0a49b",
       "version_major": 2,
       "version_minor": 0
      },
      "text/plain": [
       "HBox(children=(VBox(children=(IntProgress(value=0, max=1000), HTML(value=''))), Box(children=(HTML(value=''),)…"
      ]
     },
     "metadata": {},
     "output_type": "display_data"
    },
    {
     "name": "stdout",
     "output_type": "stream",
     "text": [
      "Optimization restart 1/10, f = 99.92975629386726\n",
      "Optimization restart 2/10, f = 99.92975762183954\n",
      "Optimization restart 3/10, f = 99.92975630236091\n",
      "Optimization restart 4/10, f = 99.92975629394977\n",
      "Optimization restart 5/10, f = 99.92975629235613\n",
      "Optimization restart 6/10, f = 99.92975629225847\n",
      "Optimization restart 7/10, f = 99.92975629241974\n",
      "Optimization restart 8/10, f = 99.92975629564977\n",
      "Optimization restart 9/10, f = 99.92975629226797\n",
      "Optimization restart 10/10, f = 99.92975629485763\n",
      "348\n"
     ]
    },
    {
     "data": {
      "application/vnd.jupyter.widget-view+json": {
       "model_id": "c108a558d3cc4f22a7b8ffcb07a1defb",
       "version_major": 2,
       "version_minor": 0
      },
      "text/plain": [
       "HBox(children=(VBox(children=(IntProgress(value=0, max=1000), HTML(value=''))), Box(children=(HTML(value=''),)…"
      ]
     },
     "metadata": {},
     "output_type": "display_data"
    },
    {
     "name": "stdout",
     "output_type": "stream",
     "text": [
      "Optimization restart 1/10, f = 111.74445867554005\n",
      "Optimization restart 2/10, f = 111.74445869951032\n",
      "Optimization restart 3/10, f = 111.74445867485825\n",
      "Optimization restart 4/10, f = 111.74445867440032\n",
      "Optimization restart 5/10, f = 111.744458676991\n",
      "Optimization restart 6/10, f = 111.74445867418017\n",
      "Optimization restart 7/10, f = 111.74445867449361\n",
      "Optimization restart 8/10, f = 111.74445867418024\n",
      "Optimization restart 9/10, f = 111.7444586763774\n",
      "Optimization restart 10/10, f = 111.7444586754736\n",
      "349\n"
     ]
    },
    {
     "data": {
      "application/vnd.jupyter.widget-view+json": {
       "model_id": "ce09424ab5054377988f3981a333336b",
       "version_major": 2,
       "version_minor": 0
      },
      "text/plain": [
       "HBox(children=(VBox(children=(IntProgress(value=0, max=1000), HTML(value=''))), Box(children=(HTML(value=''),)…"
      ]
     },
     "metadata": {},
     "output_type": "display_data"
    },
    {
     "name": "stdout",
     "output_type": "stream",
     "text": [
      "Optimization restart 1/10, f = 155.8381366420328\n",
      "Optimization restart 2/10, f = 155.83813664369114\n",
      "Optimization restart 3/10, f = 155.83813664168665\n",
      "Optimization restart 4/10, f = 155.83813664071212\n",
      "Optimization restart 5/10, f = 155.83813664099623\n",
      "Optimization restart 6/10, f = 155.8381366407617\n",
      "Optimization restart 7/10, f = 155.83813664071624\n",
      "Optimization restart 8/10, f = 155.83813664100433\n",
      "Optimization restart 9/10, f = 155.83813664071468\n",
      "Optimization restart 10/10, f = 155.83813664525871\n",
      "350\n"
     ]
    },
    {
     "data": {
      "application/vnd.jupyter.widget-view+json": {
       "model_id": "cc9ab050ea5d4c05ad65a8cad2d184fe",
       "version_major": 2,
       "version_minor": 0
      },
      "text/plain": [
       "HBox(children=(VBox(children=(IntProgress(value=0, max=1000), HTML(value=''))), Box(children=(HTML(value=''),)…"
      ]
     },
     "metadata": {},
     "output_type": "display_data"
    },
    {
     "name": "stdout",
     "output_type": "stream",
     "text": [
      "Optimization restart 1/10, f = 58.47140625705961\n",
      "Optimization restart 2/10, f = 58.47140624978819\n",
      "Optimization restart 3/10, f = 58.47140624974909\n",
      "Optimization restart 4/10, f = 58.471406252646496\n",
      "Optimization restart 5/10, f = 58.47140625067413\n",
      "Optimization restart 6/10, f = 58.47140625951813\n",
      "Optimization restart 7/10, f = 58.47140624971927\n",
      "Optimization restart 8/10, f = 58.47140625554689\n",
      "Optimization restart 9/10, f = 58.471406258385684\n",
      "Optimization restart 10/10, f = 58.471406252628924\n",
      "351\n"
     ]
    },
    {
     "data": {
      "application/vnd.jupyter.widget-view+json": {
       "model_id": "735ec1b9f1ac49fd871ce7336719736d",
       "version_major": 2,
       "version_minor": 0
      },
      "text/plain": [
       "HBox(children=(VBox(children=(IntProgress(value=0, max=1000), HTML(value=''))), Box(children=(HTML(value=''),)…"
      ]
     },
     "metadata": {},
     "output_type": "display_data"
    },
    {
     "name": "stdout",
     "output_type": "stream",
     "text": [
      "Optimization restart 1/10, f = 13.260661351124014\n",
      "Optimization restart 2/10, f = 13.260661351338673\n",
      "Optimization restart 3/10, f = 13.260661351106705\n",
      "Optimization restart 4/10, f = 13.26066135112281\n",
      "Optimization restart 5/10, f = 13.260661351133454\n",
      "Optimization restart 6/10, f = 13.26066135110823\n",
      "Optimization restart 7/10, f = 13.260661351106743\n",
      "Optimization restart 8/10, f = 13.260661351106746\n",
      "Optimization restart 9/10, f = 13.260661351107187\n",
      "Optimization restart 10/10, f = 13.260661351376578\n",
      "352\n",
      "Could not compute spearmans matrix, for df BR_0001889\n",
      "353\n",
      "Could not compute spearmans matrix, for df BR_0001955\n",
      "354\n"
     ]
    },
    {
     "data": {
      "application/vnd.jupyter.widget-view+json": {
       "model_id": "6c28a7b6d4144555a0950d6a67900dbc",
       "version_major": 2,
       "version_minor": 0
      },
      "text/plain": [
       "HBox(children=(VBox(children=(IntProgress(value=0, max=1000), HTML(value=''))), Box(children=(HTML(value=''),)…"
      ]
     },
     "metadata": {},
     "output_type": "display_data"
    },
    {
     "name": "stdout",
     "output_type": "stream",
     "text": [
      "Optimization restart 1/10, f = 137.16426676339546\n",
      "Optimization restart 2/10, f = 137.16426676386908\n",
      "Optimization restart 3/10, f = 137.16426676411243\n",
      "Optimization restart 4/10, f = 137.16426676437615\n",
      "Optimization restart 5/10, f = 137.164266763553\n",
      "Optimization restart 6/10, f = 137.16426676370014\n",
      "Optimization restart 7/10, f = 137.1642667634004\n",
      "Optimization restart 8/10, f = 137.1642667634504\n",
      "Optimization restart 9/10, f = 137.16426676510594\n",
      "Optimization restart 10/10, f = 137.16426677368747\n",
      "355\n"
     ]
    },
    {
     "data": {
      "application/vnd.jupyter.widget-view+json": {
       "model_id": "90eb1030315544219dd01ff6cdf17040",
       "version_major": 2,
       "version_minor": 0
      },
      "text/plain": [
       "HBox(children=(VBox(children=(IntProgress(value=0, max=1000), HTML(value=''))), Box(children=(HTML(value=''),)…"
      ]
     },
     "metadata": {},
     "output_type": "display_data"
    },
    {
     "name": "stdout",
     "output_type": "stream",
     "text": [
      "Optimization restart 1/10, f = 156.08998742494498\n",
      "Optimization restart 2/10, f = 156.0899874216909\n",
      "Optimization restart 3/10, f = 156.08998742169632\n",
      "Optimization restart 4/10, f = 156.08998742192284\n",
      "Optimization restart 5/10, f = 156.08998742171417\n",
      "Optimization restart 6/10, f = 156.0899874243664\n",
      "Optimization restart 7/10, f = 156.08998742325946\n",
      "Optimization restart 8/10, f = 156.08998742170178\n",
      "Optimization restart 9/10, f = 156.08998748317347\n",
      "Optimization restart 10/10, f = 156.08998742185238\n",
      "356\n"
     ]
    },
    {
     "data": {
      "application/vnd.jupyter.widget-view+json": {
       "model_id": "8a82081fb43a4a2ea4605e11fd12f9dc",
       "version_major": 2,
       "version_minor": 0
      },
      "text/plain": [
       "HBox(children=(VBox(children=(IntProgress(value=0, max=1000), HTML(value=''))), Box(children=(HTML(value=''),)…"
      ]
     },
     "metadata": {},
     "output_type": "display_data"
    },
    {
     "name": "stdout",
     "output_type": "stream",
     "text": [
      "Optimization restart 1/10, f = 365.732159659221\n",
      "Optimization restart 2/10, f = 365.73215965978375\n",
      "Optimization restart 3/10, f = 365.7321596643787\n",
      "Optimization restart 4/10, f = 365.7321596592244\n",
      "Optimization restart 5/10, f = 365.73215966250837\n",
      "Optimization restart 6/10, f = 365.73215965923\n",
      "Optimization restart 7/10, f = 365.7321596625246\n",
      "Optimization restart 8/10, f = 365.73215986062456\n",
      "Optimization restart 9/10, f = 365.7321683867007\n",
      "Optimization restart 10/10, f = 365.7321597015785\n",
      "357\n"
     ]
    },
    {
     "data": {
      "application/vnd.jupyter.widget-view+json": {
       "model_id": "9de5bff060ce401f921f771a8d4c25ab",
       "version_major": 2,
       "version_minor": 0
      },
      "text/plain": [
       "HBox(children=(VBox(children=(IntProgress(value=0, max=1000), HTML(value=''))), Box(children=(HTML(value=''),)…"
      ]
     },
     "metadata": {},
     "output_type": "display_data"
    },
    {
     "name": "stdout",
     "output_type": "stream",
     "text": [
      "Optimization restart 1/10, f = 103.55715078795726\n",
      "Optimization restart 2/10, f = 103.5571507776296\n",
      "Optimization restart 3/10, f = 103.55715077818057\n",
      "Optimization restart 4/10, f = 103.55715078054818\n",
      "Optimization restart 5/10, f = 103.55715078429841\n",
      "Optimization restart 6/10, f = 103.55715079779486\n",
      "Optimization restart 7/10, f = 103.55715077834965\n",
      "Optimization restart 8/10, f = 103.55715077759773\n",
      "Optimization restart 9/10, f = 103.55715080332288\n",
      "Optimization restart 10/10, f = 103.55715077883936\n",
      "358\n"
     ]
    },
    {
     "data": {
      "application/vnd.jupyter.widget-view+json": {
       "model_id": "b1f5bee7e8e843be82dc931255a83e4f",
       "version_major": 2,
       "version_minor": 0
      },
      "text/plain": [
       "HBox(children=(VBox(children=(IntProgress(value=0, max=1000), HTML(value=''))), Box(children=(HTML(value=''),)…"
      ]
     },
     "metadata": {},
     "output_type": "display_data"
    },
    {
     "name": "stdout",
     "output_type": "stream",
     "text": [
      "Optimization restart 1/10, f = 202.11574029272265\n",
      "Optimization restart 2/10, f = 202.1157402935475\n",
      "Optimization restart 3/10, f = 202.11574029039667\n",
      "Optimization restart 4/10, f = 202.1157402992501\n",
      "Optimization restart 5/10, f = 202.1157402933389\n",
      "Optimization restart 6/10, f = 202.1157402891821\n",
      "Optimization restart 7/10, f = 202.1157402900803\n",
      "Optimization restart 8/10, f = 202.11574028916044\n",
      "Optimization restart 9/10, f = 202.11574029103497\n",
      "Optimization restart 10/10, f = 202.11574028916192\n",
      "359\n"
     ]
    },
    {
     "data": {
      "application/vnd.jupyter.widget-view+json": {
       "model_id": "fbcaa071af67430285cff014c7bbac1b",
       "version_major": 2,
       "version_minor": 0
      },
      "text/plain": [
       "HBox(children=(VBox(children=(IntProgress(value=0, max=1000), HTML(value=''))), Box(children=(HTML(value=''),)…"
      ]
     },
     "metadata": {},
     "output_type": "display_data"
    },
    {
     "name": "stdout",
     "output_type": "stream",
     "text": [
      "Optimization restart 1/10, f = 181.46128133900558\n",
      "Optimization restart 2/10, f = 181.46128134109833\n",
      "Optimization restart 3/10, f = 181.46128133887962\n",
      "Optimization restart 4/10, f = 181.46128134356783\n",
      "Optimization restart 5/10, f = 181.4612853562488\n",
      "Optimization restart 6/10, f = 181.46128134140434\n"
     ]
    },
    {
     "name": "stderr",
     "output_type": "stream",
     "text": [
      " C:\\Users\\marku\\Anaconda3\\lib\\site-packages\\GPy\\kern\\src\\stationary.py:168: RuntimeWarning:overflow encountered in true_divide\n",
      " C:\\Users\\marku\\Anaconda3\\lib\\site-packages\\GPy\\kern\\src\\stationary.py:468: RuntimeWarning:overflow encountered in multiply\n",
      " C:\\Users\\marku\\Anaconda3\\lib\\site-packages\\GPy\\kern\\src\\stationary.py:468: RuntimeWarning:invalid value encountered in multiply\n"
     ]
    },
    {
     "name": "stdout",
     "output_type": "stream",
     "text": [
      "Optimization restart 7/10, f = 181.5265892421428\n",
      "Optimization restart 8/10, f = 181.46128133889974\n",
      "Optimization restart 9/10, f = 181.461281339119\n",
      "Optimization restart 10/10, f = 181.46128133988472\n",
      "360\n"
     ]
    },
    {
     "data": {
      "application/vnd.jupyter.widget-view+json": {
       "model_id": "0b26f1365d9e40e9969b32a6dbb7c893",
       "version_major": 2,
       "version_minor": 0
      },
      "text/plain": [
       "HBox(children=(VBox(children=(IntProgress(value=0, max=1000), HTML(value=''))), Box(children=(HTML(value=''),)…"
      ]
     },
     "metadata": {},
     "output_type": "display_data"
    },
    {
     "name": "stdout",
     "output_type": "stream",
     "text": [
      "Optimization restart 1/10, f = 50.44908276410257\n",
      "Optimization restart 2/10, f = 50.44908276425768\n",
      "Optimization restart 3/10, f = 50.449082764495245\n",
      "Optimization restart 4/10, f = 50.44908276409102\n",
      "Optimization restart 5/10, f = 50.44908276432987\n",
      "Optimization restart 6/10, f = 50.44908276492356\n",
      "Optimization restart 7/10, f = 50.449082782482066\n",
      "Optimization restart 8/10, f = 50.44908277757142\n",
      "Optimization restart 9/10, f = 50.44908276408286\n",
      "Optimization restart 10/10, f = 50.4490827661221\n",
      "361\n"
     ]
    },
    {
     "data": {
      "application/vnd.jupyter.widget-view+json": {
       "model_id": "11b675c4426543eb861c3f336f6e0597",
       "version_major": 2,
       "version_minor": 0
      },
      "text/plain": [
       "HBox(children=(VBox(children=(IntProgress(value=0, max=1000), HTML(value=''))), Box(children=(HTML(value=''),)…"
      ]
     },
     "metadata": {},
     "output_type": "display_data"
    },
    {
     "name": "stdout",
     "output_type": "stream",
     "text": [
      "Optimization restart 1/10, f = 93.56354410219151\n",
      "Optimization restart 2/10, f = 93.56354410206492\n",
      "Optimization restart 3/10, f = 93.56354410209886\n",
      "Optimization restart 4/10, f = 93.56354410207572\n",
      "Optimization restart 5/10, f = 93.5635441250825\n",
      "Optimization restart 6/10, f = 93.56354410265212\n",
      "Optimization restart 7/10, f = 93.56354410228187\n",
      "Optimization restart 8/10, f = 93.56354410250108\n",
      "Optimization restart 9/10, f = 93.563544102441\n",
      "Optimization restart 10/10, f = 93.56354410220197\n",
      "362\n"
     ]
    },
    {
     "data": {
      "application/vnd.jupyter.widget-view+json": {
       "model_id": "9bbee60a378a4281bd121f9eaff6eb11",
       "version_major": 2,
       "version_minor": 0
      },
      "text/plain": [
       "HBox(children=(VBox(children=(IntProgress(value=0, max=1000), HTML(value=''))), Box(children=(HTML(value=''),)…"
      ]
     },
     "metadata": {},
     "output_type": "display_data"
    },
    {
     "name": "stdout",
     "output_type": "stream",
     "text": [
      "Optimization restart 1/10, f = 65.03105685106638\n",
      "Optimization restart 2/10, f = 65.03105685297389\n",
      "Optimization restart 3/10, f = 65.03105685103976\n",
      "Optimization restart 4/10, f = 65.03105685099607\n",
      "Optimization restart 5/10, f = 65.03105685290095\n",
      "Optimization restart 6/10, f = 65.03105685424498\n",
      "Optimization restart 7/10, f = 65.03105685098295\n",
      "Optimization restart 8/10, f = 65.03105685399973\n",
      "Optimization restart 9/10, f = 65.03105685103087\n",
      "Optimization restart 10/10, f = 65.03105685121339\n",
      "363\n"
     ]
    },
    {
     "data": {
      "application/vnd.jupyter.widget-view+json": {
       "model_id": "608d5b77c5964c4984d6becbc7e58c41",
       "version_major": 2,
       "version_minor": 0
      },
      "text/plain": [
       "HBox(children=(VBox(children=(IntProgress(value=0, max=1000), HTML(value=''))), Box(children=(HTML(value=''),)…"
      ]
     },
     "metadata": {},
     "output_type": "display_data"
    },
    {
     "name": "stdout",
     "output_type": "stream",
     "text": [
      "Optimization restart 1/10, f = 35.891753913937784\n",
      "Optimization restart 2/10, f = 35.89175391802803\n",
      "Optimization restart 3/10, f = 35.89175391423283\n",
      "Optimization restart 4/10, f = 35.8917539137019\n",
      "Optimization restart 5/10, f = 35.89175391369003\n",
      "Optimization restart 6/10, f = 35.89175391365774\n",
      "Optimization restart 7/10, f = 35.89175391380969\n",
      "Optimization restart 8/10, f = 35.891753913750996\n",
      "Optimization restart 9/10, f = 35.89175391420705\n",
      "Optimization restart 10/10, f = 35.89175391367746\n",
      "364\n"
     ]
    },
    {
     "data": {
      "application/vnd.jupyter.widget-view+json": {
       "model_id": "4285946901294db9881dd39b2d1c2ded",
       "version_major": 2,
       "version_minor": 0
      },
      "text/plain": [
       "HBox(children=(VBox(children=(IntProgress(value=0, max=1000), HTML(value=''))), Box(children=(HTML(value=''),)…"
      ]
     },
     "metadata": {},
     "output_type": "display_data"
    },
    {
     "name": "stdout",
     "output_type": "stream",
     "text": [
      "Optimization restart 1/10, f = 115.62482977861504\n",
      "Optimization restart 2/10, f = 115.6248297783352\n",
      "Optimization restart 3/10, f = 115.62482978744961\n",
      "Optimization restart 4/10, f = 115.62482977832676\n",
      "Optimization restart 5/10, f = 115.6248297783653\n",
      "Optimization restart 6/10, f = 115.62482977876533\n",
      "Optimization restart 7/10, f = 115.62482984217068\n",
      "Optimization restart 8/10, f = 115.62482977918128\n",
      "Optimization restart 9/10, f = 115.62482977835181\n",
      "Optimization restart 10/10, f = 115.62482978057909\n",
      "365\n",
      "Could not compute spearmans matrix, for df BR_0000817\n",
      "366\n"
     ]
    },
    {
     "data": {
      "application/vnd.jupyter.widget-view+json": {
       "model_id": "60141ac9558a4b4bb875b3a2afa0b812",
       "version_major": 2,
       "version_minor": 0
      },
      "text/plain": [
       "HBox(children=(VBox(children=(IntProgress(value=0, max=1000), HTML(value=''))), Box(children=(HTML(value=''),)…"
      ]
     },
     "metadata": {},
     "output_type": "display_data"
    },
    {
     "name": "stdout",
     "output_type": "stream",
     "text": [
      "Optimization restart 1/10, f = 155.10252375926015\n",
      "Optimization restart 2/10, f = 155.10252375868492\n",
      "Optimization restart 3/10, f = 155.1025237595096\n",
      "Optimization restart 4/10, f = 155.10252375796102\n",
      "Optimization restart 5/10, f = 155.10252375730084\n",
      "Optimization restart 6/10, f = 155.1025237573346\n",
      "Optimization restart 7/10, f = 155.10252375732503\n",
      "Optimization restart 8/10, f = 155.10252375809475\n",
      "Optimization restart 9/10, f = 155.1025237573183\n",
      "Optimization restart 10/10, f = 155.1025238276081\n",
      "367\n"
     ]
    },
    {
     "data": {
      "application/vnd.jupyter.widget-view+json": {
       "model_id": "b71b9dd93a7c47dda843b557896bd002",
       "version_major": 2,
       "version_minor": 0
      },
      "text/plain": [
       "HBox(children=(VBox(children=(IntProgress(value=0, max=1000), HTML(value=''))), Box(children=(HTML(value=''),)…"
      ]
     },
     "metadata": {},
     "output_type": "display_data"
    },
    {
     "name": "stdout",
     "output_type": "stream",
     "text": [
      "Optimization restart 1/10, f = 23.89041618793007\n",
      "Optimization restart 2/10, f = 23.890416187549953\n",
      "Optimization restart 3/10, f = 23.8904162068184\n",
      "Optimization restart 4/10, f = 23.890416187426027\n",
      "Optimization restart 5/10, f = 23.890416187440053\n",
      "Optimization restart 6/10, f = 23.890416192334463\n",
      "Optimization restart 7/10, f = 23.890416187810402\n",
      "Optimization restart 8/10, f = 23.89041618743744\n",
      "Optimization restart 9/10, f = 23.89041618742678\n",
      "Optimization restart 10/10, f = 23.89041618742522\n",
      "368\n"
     ]
    },
    {
     "data": {
      "application/vnd.jupyter.widget-view+json": {
       "model_id": "9c67e5a9127c4dd19ae2e12e665b790f",
       "version_major": 2,
       "version_minor": 0
      },
      "text/plain": [
       "HBox(children=(VBox(children=(IntProgress(value=0, max=1000), HTML(value=''))), Box(children=(HTML(value=''),)…"
      ]
     },
     "metadata": {},
     "output_type": "display_data"
    },
    {
     "name": "stdout",
     "output_type": "stream",
     "text": [
      "Optimization restart 1/10, f = 75.9632135809866\n",
      "Optimization restart 2/10, f = 75.96321358061542\n",
      "Optimization restart 3/10, f = 75.96321358712842\n",
      "Optimization restart 4/10, f = 75.96321357943323\n",
      "Optimization restart 5/10, f = 75.96321357944112\n",
      "Optimization restart 6/10, f = 75.96321357992315\n",
      "Optimization restart 7/10, f = 75.96321358614588\n",
      "Optimization restart 8/10, f = 75.9632135794725\n",
      "Optimization restart 9/10, f = 75.96321358008532\n",
      "Optimization restart 10/10, f = 75.96321359020146\n",
      "369\n"
     ]
    },
    {
     "data": {
      "application/vnd.jupyter.widget-view+json": {
       "model_id": "5568519a8b5b41f682c55ee814a0e8f4",
       "version_major": 2,
       "version_minor": 0
      },
      "text/plain": [
       "HBox(children=(VBox(children=(IntProgress(value=0, max=1000), HTML(value=''))), Box(children=(HTML(value=''),)…"
      ]
     },
     "metadata": {},
     "output_type": "display_data"
    },
    {
     "name": "stdout",
     "output_type": "stream",
     "text": [
      "Optimization restart 1/10, f = 23.74637211291449\n",
      "Optimization restart 2/10, f = 23.746372112773884\n",
      "Optimization restart 3/10, f = 23.746372112775823\n",
      "Optimization restart 4/10, f = 23.746372112779152\n",
      "Optimization restart 5/10, f = 23.74637211277367\n",
      "Optimization restart 6/10, f = 23.74637211277384\n",
      "Optimization restart 7/10, f = 23.746372112814246\n",
      "Optimization restart 8/10, f = 23.74637211313181\n",
      "Optimization restart 9/10, f = 23.7463721127749\n",
      "Optimization restart 10/10, f = 23.74637211277402\n",
      "370\n"
     ]
    },
    {
     "data": {
      "application/vnd.jupyter.widget-view+json": {
       "model_id": "b04db93a111b4470a3ad6f8573d75933",
       "version_major": 2,
       "version_minor": 0
      },
      "text/plain": [
       "HBox(children=(VBox(children=(IntProgress(value=0, max=1000), HTML(value=''))), Box(children=(HTML(value=''),)…"
      ]
     },
     "metadata": {},
     "output_type": "display_data"
    },
    {
     "name": "stdout",
     "output_type": "stream",
     "text": [
      "Optimization restart 1/10, f = 86.48012103459888\n",
      "Optimization restart 2/10, f = 86.48012103526654\n",
      "Optimization restart 3/10, f = 86.48012103357541\n",
      "Optimization restart 4/10, f = 86.48012103359318\n",
      "Optimization restart 5/10, f = 86.48012103354013\n",
      "Optimization restart 6/10, f = 86.48012105257618\n",
      "Optimization restart 7/10, f = 86.48012103357757\n",
      "Optimization restart 8/10, f = 86.48012112746137\n",
      "Optimization restart 9/10, f = 86.48012103360823\n",
      "Optimization restart 10/10, f = 86.48012103354898\n",
      "371\n"
     ]
    },
    {
     "data": {
      "application/vnd.jupyter.widget-view+json": {
       "model_id": "511139474d1342f78d9e86dd416e00ac",
       "version_major": 2,
       "version_minor": 0
      },
      "text/plain": [
       "HBox(children=(VBox(children=(IntProgress(value=0, max=1000), HTML(value=''))), Box(children=(HTML(value=''),)…"
      ]
     },
     "metadata": {},
     "output_type": "display_data"
    },
    {
     "name": "stdout",
     "output_type": "stream",
     "text": [
      "Optimization restart 1/10, f = 4.934178703403227\n",
      "Optimization restart 2/10, f = 4.934178703402277\n",
      "Optimization restart 3/10, f = 4.9341787033856885\n",
      "Optimization restart 4/10, f = 4.93417870355678\n",
      "Optimization restart 5/10, f = 4.9341787036814395\n",
      "Optimization restart 6/10, f = 4.934178703383\n",
      "Optimization restart 7/10, f = 4.934178703368541\n",
      "Optimization restart 8/10, f = 4.934178703381509\n",
      "Optimization restart 9/10, f = 4.934178703371046\n",
      "Optimization restart 10/10, f = 4.934178703379012\n",
      "372\n"
     ]
    },
    {
     "data": {
      "application/vnd.jupyter.widget-view+json": {
       "model_id": "6e95d08988c64d7781c9a3746233f7d2",
       "version_major": 2,
       "version_minor": 0
      },
      "text/plain": [
       "HBox(children=(VBox(children=(IntProgress(value=0, max=1000), HTML(value=''))), Box(children=(HTML(value=''),)…"
      ]
     },
     "metadata": {},
     "output_type": "display_data"
    },
    {
     "name": "stdout",
     "output_type": "stream",
     "text": [
      "Optimization restart 1/10, f = 110.37357309021124\n",
      "Optimization restart 2/10, f = 110.37357309023757\n",
      "Optimization restart 3/10, f = 110.37357309695511\n",
      "Optimization restart 4/10, f = 110.37357309030813\n",
      "Optimization restart 5/10, f = 110.37357309019464\n",
      "Optimization restart 6/10, f = 110.37357309604505\n",
      "Optimization restart 7/10, f = 110.37357309118578\n",
      "Optimization restart 8/10, f = 110.37357309502704\n",
      "Optimization restart 9/10, f = 110.37357309019401\n",
      "Optimization restart 10/10, f = 110.37357309309557\n",
      "373\n"
     ]
    },
    {
     "data": {
      "application/vnd.jupyter.widget-view+json": {
       "model_id": "6d2faa1159fa4a7cab874c2cf5978cd8",
       "version_major": 2,
       "version_minor": 0
      },
      "text/plain": [
       "HBox(children=(VBox(children=(IntProgress(value=0, max=1000), HTML(value=''))), Box(children=(HTML(value=''),)…"
      ]
     },
     "metadata": {},
     "output_type": "display_data"
    },
    {
     "name": "stdout",
     "output_type": "stream",
     "text": [
      "Optimization restart 1/10, f = 121.31368945221072\n",
      "Optimization restart 2/10, f = 121.31368947062558\n",
      "Optimization restart 3/10, f = 121.31368945244407\n",
      "Optimization restart 4/10, f = 121.31368945374032\n",
      "Optimization restart 5/10, f = 121.31368945212728\n",
      "Optimization restart 6/10, f = 121.31368945221203\n",
      "Optimization restart 7/10, f = 121.3136894564158\n",
      "Optimization restart 8/10, f = 121.31368945544125\n",
      "Optimization restart 9/10, f = 121.31368946064339\n",
      "Optimization restart 10/10, f = 121.31368945253841\n",
      "374\n"
     ]
    },
    {
     "data": {
      "application/vnd.jupyter.widget-view+json": {
       "model_id": "83af60dadd7a4a90af0c03d393e142e4",
       "version_major": 2,
       "version_minor": 0
      },
      "text/plain": [
       "HBox(children=(VBox(children=(IntProgress(value=0, max=1000), HTML(value=''))), Box(children=(HTML(value=''),)…"
      ]
     },
     "metadata": {},
     "output_type": "display_data"
    },
    {
     "name": "stdout",
     "output_type": "stream",
     "text": [
      "Optimization restart 1/10, f = 90.63470796578201\n",
      "Optimization restart 2/10, f = 90.63470798257137\n",
      "Optimization restart 3/10, f = 90.63470796844273\n",
      "Optimization restart 4/10, f = 90.63470796819762\n",
      "Optimization restart 5/10, f = 90.63470796608064\n",
      "Optimization restart 6/10, f = 90.63470805468717\n",
      "Optimization restart 7/10, f = 90.63470796622585\n",
      "Optimization restart 8/10, f = 90.63470796589496\n",
      "Optimization restart 9/10, f = 90.63470796606126\n",
      "Optimization restart 10/10, f = 90.63470796599611\n",
      "375\n"
     ]
    },
    {
     "data": {
      "application/vnd.jupyter.widget-view+json": {
       "model_id": "a03a687fe9424da4a1c6b9faff79780c",
       "version_major": 2,
       "version_minor": 0
      },
      "text/plain": [
       "HBox(children=(VBox(children=(IntProgress(value=0, max=1000), HTML(value=''))), Box(children=(HTML(value=''),)…"
      ]
     },
     "metadata": {},
     "output_type": "display_data"
    },
    {
     "name": "stdout",
     "output_type": "stream",
     "text": [
      "Optimization restart 1/10, f = 137.16426676339546\n",
      "Optimization restart 2/10, f = 137.16426676423185\n",
      "Optimization restart 3/10, f = 137.16426676877924\n",
      "Optimization restart 4/10, f = 137.164266763965\n",
      "Optimization restart 5/10, f = 137.1642667633996\n",
      "Optimization restart 6/10, f = 137.1642667668269\n",
      "Optimization restart 7/10, f = 137.16426676339293\n",
      "Optimization restart 8/10, f = 137.16426677027619\n",
      "Optimization restart 9/10, f = 137.16426676340427\n",
      "Optimization restart 10/10, f = 137.16426676349005\n",
      "376\n",
      "Could not compute spearmans matrix, for df BR_0001465\n",
      "377\n"
     ]
    },
    {
     "data": {
      "application/vnd.jupyter.widget-view+json": {
       "model_id": "94695c177abd4112ab6f418524c68b71",
       "version_major": 2,
       "version_minor": 0
      },
      "text/plain": [
       "HBox(children=(VBox(children=(IntProgress(value=0, max=1000), HTML(value=''))), Box(children=(HTML(value=''),)…"
      ]
     },
     "metadata": {},
     "output_type": "display_data"
    },
    {
     "name": "stdout",
     "output_type": "stream",
     "text": [
      "Optimization restart 1/10, f = 207.12479944412112\n",
      "Optimization restart 2/10, f = 207.1247994422628\n",
      "Optimization restart 3/10, f = 207.12479944369682\n",
      "Optimization restart 4/10, f = 207.12479944375724\n",
      "Optimization restart 5/10, f = 207.1247994450062\n",
      "Optimization restart 6/10, f = 207.12479944218697\n",
      "Optimization restart 7/10, f = 207.1247994697201\n",
      "Optimization restart 8/10, f = 207.1247994419769\n",
      "Optimization restart 9/10, f = 207.1247994430572\n",
      "Optimization restart 10/10, f = 207.12479944191162\n",
      "378\n"
     ]
    },
    {
     "data": {
      "application/vnd.jupyter.widget-view+json": {
       "model_id": "ab1a277f6bf74c6e9357584565f04461",
       "version_major": 2,
       "version_minor": 0
      },
      "text/plain": [
       "HBox(children=(VBox(children=(IntProgress(value=0, max=1000), HTML(value=''))), Box(children=(HTML(value=''),)…"
      ]
     },
     "metadata": {},
     "output_type": "display_data"
    },
    {
     "name": "stdout",
     "output_type": "stream",
     "text": [
      "Optimization restart 1/10, f = 114.66372076858198\n",
      "Optimization restart 2/10, f = 114.6637207683971\n",
      "Optimization restart 3/10, f = 114.66372107396657\n",
      "Optimization restart 4/10, f = 114.66372076913274\n",
      "Optimization restart 5/10, f = 114.6637207683616\n",
      "Optimization restart 6/10, f = 114.66372149902281\n",
      "Optimization restart 7/10, f = 114.66372076868277\n",
      "Optimization restart 8/10, f = 114.66375608391701\n",
      "Optimization restart 9/10, f = 114.66372077397006\n",
      "Optimization restart 10/10, f = 114.66372355880122\n",
      "379\n"
     ]
    },
    {
     "data": {
      "application/vnd.jupyter.widget-view+json": {
       "model_id": "bc268dd212b74bbb9adaec94441ab130",
       "version_major": 2,
       "version_minor": 0
      },
      "text/plain": [
       "HBox(children=(VBox(children=(IntProgress(value=0, max=1000), HTML(value=''))), Box(children=(HTML(value=''),)…"
      ]
     },
     "metadata": {},
     "output_type": "display_data"
    },
    {
     "name": "stdout",
     "output_type": "stream",
     "text": [
      "Optimization restart 1/10, f = 219.4190780394681\n",
      "Optimization restart 2/10, f = 219.41907804020235\n",
      "Optimization restart 3/10, f = 219.41907803938682\n",
      "Optimization restart 4/10, f = 219.41907803997466\n",
      "Optimization restart 5/10, f = 219.41907803953708\n",
      "Optimization restart 6/10, f = 219.41907804109835\n",
      "Optimization restart 7/10, f = 219.41907828725164\n",
      "Optimization restart 8/10, f = 219.41907803938793\n",
      "Optimization restart 9/10, f = 219.4190780401328\n",
      "Optimization restart 10/10, f = 219.41907804007653\n",
      "380\n"
     ]
    },
    {
     "data": {
      "application/vnd.jupyter.widget-view+json": {
       "model_id": "70d2d3f8a5fe40c1995c472ebb820418",
       "version_major": 2,
       "version_minor": 0
      },
      "text/plain": [
       "HBox(children=(VBox(children=(IntProgress(value=0, max=1000), HTML(value=''))), Box(children=(HTML(value=''),)…"
      ]
     },
     "metadata": {},
     "output_type": "display_data"
    },
    {
     "name": "stdout",
     "output_type": "stream",
     "text": [
      "Optimization restart 1/10, f = 71.6782234504023\n",
      "Optimization restart 2/10, f = 71.6782234572029\n",
      "Optimization restart 3/10, f = 71.67822345929343\n",
      "Optimization restart 4/10, f = 71.67822344997373\n",
      "Optimization restart 5/10, f = 71.67822345329532\n",
      "Optimization restart 6/10, f = 71.67822352328318\n",
      "Optimization restart 7/10, f = 71.67822344996287\n",
      "Optimization restart 8/10, f = 71.6782234525391\n",
      "Optimization restart 9/10, f = 71.67822349003602\n",
      "Optimization restart 10/10, f = 71.67822345026514\n",
      "381\n"
     ]
    },
    {
     "data": {
      "application/vnd.jupyter.widget-view+json": {
       "model_id": "86f2a24d2a3d4a15a94583c77123085d",
       "version_major": 2,
       "version_minor": 0
      },
      "text/plain": [
       "HBox(children=(VBox(children=(IntProgress(value=0, max=1000), HTML(value=''))), Box(children=(HTML(value=''),)…"
      ]
     },
     "metadata": {},
     "output_type": "display_data"
    },
    {
     "name": "stdout",
     "output_type": "stream",
     "text": [
      "Optimization restart 1/10, f = 259.46850998005664\n",
      "Optimization restart 2/10, f = 259.468510030742\n",
      "Optimization restart 3/10, f = 259.4685099956717\n",
      "Optimization restart 4/10, f = 259.46851177402243\n",
      "Optimization restart 5/10, f = 259.4685100051056\n",
      "Optimization restart 6/10, f = 259.46850998404443\n",
      "Optimization restart 7/10, f = 259.46850998100314\n",
      "Optimization restart 8/10, f = 259.4685117625766\n",
      "Optimization restart 9/10, f = 259.4685099801395\n",
      "Optimization restart 10/10, f = 259.46850998112166\n",
      "382\n"
     ]
    },
    {
     "data": {
      "application/vnd.jupyter.widget-view+json": {
       "model_id": "5b99769c83194e3d974602c2410a064a",
       "version_major": 2,
       "version_minor": 0
      },
      "text/plain": [
       "HBox(children=(VBox(children=(IntProgress(value=0, max=1000), HTML(value=''))), Box(children=(HTML(value=''),)…"
      ]
     },
     "metadata": {},
     "output_type": "display_data"
    },
    {
     "name": "stdout",
     "output_type": "stream",
     "text": [
      "Optimization restart 1/10, f = 367.2833712183542\n",
      "Optimization restart 2/10, f = 367.28337121039056\n",
      "Optimization restart 3/10, f = 367.28337122208615\n",
      "Optimization restart 4/10, f = 367.283371216924\n",
      "Optimization restart 5/10, f = 367.283371207966\n",
      "Optimization restart 6/10, f = 367.28337120786415\n",
      "Optimization restart 7/10, f = 367.28337121277275\n",
      "Optimization restart 8/10, f = 367.2833712159894\n",
      "Optimization restart 9/10, f = 367.2833712255872\n",
      "Optimization restart 10/10, f = 367.28337120987874\n",
      "383\n"
     ]
    },
    {
     "name": "stderr",
     "output_type": "stream",
     "text": [
      " C:\\Users\\marku\\Anaconda3\\lib\\site-packages\\scipy\\stats\\mstats_basic.py:509: RuntimeWarning:invalid value encountered in true_divide\n",
      " C:\\Users\\marku\\Anaconda3\\lib\\site-packages\\scipy\\stats\\_distn_infrastructure.py:877: RuntimeWarning:invalid value encountered in greater\n",
      " C:\\Users\\marku\\Anaconda3\\lib\\site-packages\\scipy\\stats\\_distn_infrastructure.py:877: RuntimeWarning:invalid value encountered in less\n",
      " C:\\Users\\marku\\Anaconda3\\lib\\site-packages\\scipy\\stats\\_distn_infrastructure.py:1831: RuntimeWarning:invalid value encountered in less_equal\n"
     ]
    },
    {
     "data": {
      "application/vnd.jupyter.widget-view+json": {
       "model_id": "ebad5e33e2a24b0bb729d27999829d79",
       "version_major": 2,
       "version_minor": 0
      },
      "text/plain": [
       "HBox(children=(VBox(children=(IntProgress(value=0, max=1000), HTML(value=''))), Box(children=(HTML(value=''),)…"
      ]
     },
     "metadata": {},
     "output_type": "display_data"
    },
    {
     "name": "stdout",
     "output_type": "stream",
     "text": [
      "Optimization restart 1/10, f = 59.0946869859247\n",
      "Optimization restart 2/10, f = 59.094686981640244\n",
      "Optimization restart 3/10, f = 59.09468698172297\n",
      "Optimization restart 4/10, f = 59.094686983882724\n",
      "Optimization restart 5/10, f = 59.094686981834705\n",
      "Optimization restart 6/10, f = 59.09468698160994\n",
      "Optimization restart 7/10, f = 59.09468698200834\n",
      "Optimization restart 8/10, f = 59.09468698159774\n",
      "Optimization restart 9/10, f = 59.09468698161147\n",
      "Optimization restart 10/10, f = 59.09468698175256\n",
      "384\n"
     ]
    },
    {
     "data": {
      "application/vnd.jupyter.widget-view+json": {
       "model_id": "341185858d4849ce9b696fec2e0e435c",
       "version_major": 2,
       "version_minor": 0
      },
      "text/plain": [
       "HBox(children=(VBox(children=(IntProgress(value=0, max=1000), HTML(value=''))), Box(children=(HTML(value=''),)…"
      ]
     },
     "metadata": {},
     "output_type": "display_data"
    },
    {
     "name": "stdout",
     "output_type": "stream",
     "text": [
      "Optimization restart 1/10, f = 178.592913918624\n",
      "Optimization restart 2/10, f = 178.59291397180675\n",
      "Optimization restart 3/10, f = 178.59291391921693\n",
      "Optimization restart 4/10, f = 178.59291391877724\n",
      "Optimization restart 5/10, f = 178.59291391972465\n",
      "Optimization restart 6/10, f = 178.5929139186261\n",
      "Optimization restart 7/10, f = 178.59291392469945\n",
      "Optimization restart 8/10, f = 178.5929142184416\n",
      "Optimization restart 9/10, f = 178.59291391925012\n",
      "Optimization restart 10/10, f = 178.5929139191908\n",
      "385\n"
     ]
    },
    {
     "data": {
      "application/vnd.jupyter.widget-view+json": {
       "model_id": "a7fd8dd883944247b41a5954e6790b9d",
       "version_major": 2,
       "version_minor": 0
      },
      "text/plain": [
       "HBox(children=(VBox(children=(IntProgress(value=0, max=1000), HTML(value=''))), Box(children=(HTML(value=''),)…"
      ]
     },
     "metadata": {},
     "output_type": "display_data"
    },
    {
     "name": "stdout",
     "output_type": "stream",
     "text": [
      "Optimization restart 1/10, f = 163.83299880583277\n",
      "Optimization restart 2/10, f = 163.83299880219437\n",
      "Optimization restart 3/10, f = 163.83299880216137\n",
      "Optimization restart 4/10, f = 163.83299880236729\n",
      "Optimization restart 5/10, f = 163.8329988021306\n",
      "Optimization restart 6/10, f = 163.83299880215586\n",
      "Optimization restart 7/10, f = 163.83299885899402\n",
      "Optimization restart 8/10, f = 163.83299885708982\n",
      "Optimization restart 9/10, f = 163.83299880636514\n",
      "Optimization restart 10/10, f = 163.83299880229566\n",
      "386\n"
     ]
    },
    {
     "data": {
      "application/vnd.jupyter.widget-view+json": {
       "model_id": "175a31d7be5a4bd58ebf4681389923df",
       "version_major": 2,
       "version_minor": 0
      },
      "text/plain": [
       "HBox(children=(VBox(children=(IntProgress(value=0, max=1000), HTML(value=''))), Box(children=(HTML(value=''),)…"
      ]
     },
     "metadata": {},
     "output_type": "display_data"
    },
    {
     "name": "stdout",
     "output_type": "stream",
     "text": [
      "Optimization restart 1/10, f = 3.7325783602220763\n",
      "Optimization restart 2/10, f = 3.732578360220014\n",
      "Optimization restart 3/10, f = 3.7325783602191143\n",
      "Optimization restart 4/10, f = 3.7325783602199065\n",
      "Optimization restart 5/10, f = 3.7325783603807867\n",
      "Optimization restart 6/10, f = 3.7325783602327425\n",
      "Optimization restart 7/10, f = 3.7325783602550997\n",
      "Optimization restart 8/10, f = 3.732578360218204\n",
      "Optimization restart 9/10, f = 3.732578360247006\n",
      "Optimization restart 10/10, f = 3.7325783606403875\n",
      "387\n"
     ]
    },
    {
     "data": {
      "application/vnd.jupyter.widget-view+json": {
       "model_id": "0668c2b995644ea5a946ffec8a35a435",
       "version_major": 2,
       "version_minor": 0
      },
      "text/plain": [
       "HBox(children=(VBox(children=(IntProgress(value=0, max=1000), HTML(value=''))), Box(children=(HTML(value=''),)…"
      ]
     },
     "metadata": {},
     "output_type": "display_data"
    },
    {
     "name": "stdout",
     "output_type": "stream",
     "text": [
      "Optimization restart 1/10, f = 74.20666103230415\n",
      "Optimization restart 2/10, f = 74.20666103237802\n",
      "Optimization restart 3/10, f = 74.20666103239441\n",
      "Optimization restart 4/10, f = 74.20666103225305\n",
      "Optimization restart 5/10, f = 74.2066610646828\n",
      "Optimization restart 6/10, f = 74.20666104453971\n",
      "Optimization restart 7/10, f = 74.20666103232011\n",
      "Optimization restart 8/10, f = 74.20666103355286\n",
      "Optimization restart 9/10, f = 74.20666114865172\n",
      "Optimization restart 10/10, f = 74.20666103234626\n",
      "388\n"
     ]
    },
    {
     "data": {
      "application/vnd.jupyter.widget-view+json": {
       "model_id": "e5c30b27b47745208fa51bda84dda875",
       "version_major": 2,
       "version_minor": 0
      },
      "text/plain": [
       "HBox(children=(VBox(children=(IntProgress(value=0, max=1000), HTML(value=''))), Box(children=(HTML(value=''),)…"
      ]
     },
     "metadata": {},
     "output_type": "display_data"
    },
    {
     "name": "stdout",
     "output_type": "stream",
     "text": [
      "Optimization restart 1/10, f = 36.09632432047982\n",
      "Optimization restart 2/10, f = 36.096324318298365\n",
      "Optimization restart 3/10, f = 36.09632431855003\n",
      "Optimization restart 4/10, f = 36.09632431827794\n",
      "Optimization restart 5/10, f = 36.096324318299956\n",
      "Optimization restart 6/10, f = 36.096324318293966\n",
      "Optimization restart 7/10, f = 36.09632431857074\n",
      "Optimization restart 8/10, f = 36.096324320035336\n",
      "Optimization restart 9/10, f = 36.096324318780034\n",
      "Optimization restart 10/10, f = 36.09632433920937\n",
      "389\n"
     ]
    },
    {
     "data": {
      "application/vnd.jupyter.widget-view+json": {
       "model_id": "b9f22707fe4145e9ba999645507ae017",
       "version_major": 2,
       "version_minor": 0
      },
      "text/plain": [
       "HBox(children=(VBox(children=(IntProgress(value=0, max=1000), HTML(value=''))), Box(children=(HTML(value=''),)…"
      ]
     },
     "metadata": {},
     "output_type": "display_data"
    },
    {
     "name": "stdout",
     "output_type": "stream",
     "text": [
      "Optimization restart 1/10, f = 167.12238590159893\n",
      "Optimization restart 2/10, f = 167.1223859018487\n",
      "Optimization restart 3/10, f = 167.12238590429266\n",
      "Optimization restart 4/10, f = 167.1223859016053\n",
      "Optimization restart 5/10, f = 167.12238617856957\n",
      "Optimization restart 6/10, f = 167.12238590515443\n",
      "Optimization restart 7/10, f = 167.1223859016946\n",
      "Optimization restart 8/10, f = 167.12238590160024\n",
      "Optimization restart 9/10, f = 167.12238590190526\n",
      "Optimization restart 10/10, f = 167.12238590185473\n",
      "390\n"
     ]
    },
    {
     "data": {
      "application/vnd.jupyter.widget-view+json": {
       "model_id": "ab6cbdaa472048a8ba453ecab75f845c",
       "version_major": 2,
       "version_minor": 0
      },
      "text/plain": [
       "HBox(children=(VBox(children=(IntProgress(value=0, max=1000), HTML(value=''))), Box(children=(HTML(value=''),)…"
      ]
     },
     "metadata": {},
     "output_type": "display_data"
    },
    {
     "name": "stdout",
     "output_type": "stream",
     "text": [
      "Optimization restart 1/10, f = 125.98345494254026\n",
      "Optimization restart 2/10, f = 125.98345494651673\n",
      "Optimization restart 3/10, f = 125.98345494266208\n",
      "Optimization restart 4/10, f = 125.98345495373731\n",
      "Optimization restart 5/10, f = 125.98345494257578\n",
      "Optimization restart 6/10, f = 125.98345494956487\n",
      "Optimization restart 7/10, f = 125.98345494259675\n",
      "Optimization restart 8/10, f = 125.98345494260172\n",
      "Optimization restart 9/10, f = 125.98345495165356\n",
      "Optimization restart 10/10, f = 125.98345494253239\n",
      "391\n"
     ]
    },
    {
     "data": {
      "application/vnd.jupyter.widget-view+json": {
       "model_id": "fc00650d3b3a4a67b9b3764a215845e3",
       "version_major": 2,
       "version_minor": 0
      },
      "text/plain": [
       "HBox(children=(VBox(children=(IntProgress(value=0, max=1000), HTML(value=''))), Box(children=(HTML(value=''),)…"
      ]
     },
     "metadata": {},
     "output_type": "display_data"
    },
    {
     "name": "stdout",
     "output_type": "stream",
     "text": [
      "Optimization restart 1/10, f = 31.216390800824747\n",
      "Optimization restart 2/10, f = 31.21639080246129\n",
      "Optimization restart 3/10, f = 31.216390800801257\n",
      "Optimization restart 4/10, f = 31.216390803341405\n",
      "Optimization restart 5/10, f = 31.21639080079583\n",
      "Optimization restart 6/10, f = 31.216390801176352\n",
      "Optimization restart 7/10, f = 31.216390801014988\n",
      "Optimization restart 8/10, f = 31.2163908015065\n",
      "Optimization restart 9/10, f = 31.216390800945575\n",
      "Optimization restart 10/10, f = 31.216390800788943\n",
      "392\n"
     ]
    },
    {
     "data": {
      "application/vnd.jupyter.widget-view+json": {
       "model_id": "ab58fec2f91043e5bd6cbbdedf2431ff",
       "version_major": 2,
       "version_minor": 0
      },
      "text/plain": [
       "HBox(children=(VBox(children=(IntProgress(value=0, max=1000), HTML(value=''))), Box(children=(HTML(value=''),)…"
      ]
     },
     "metadata": {},
     "output_type": "display_data"
    },
    {
     "name": "stdout",
     "output_type": "stream",
     "text": [
      "Optimization restart 1/10, f = 26.661988595746482\n",
      "Optimization restart 2/10, f = 26.661988595751286\n",
      "Optimization restart 3/10, f = 26.661988595748102\n",
      "Optimization restart 4/10, f = 26.661988595696087\n",
      "Optimization restart 5/10, f = 26.661988595953776\n",
      "Optimization restart 6/10, f = 26.661988596745754\n",
      "Optimization restart 7/10, f = 26.661988595744916\n",
      "Optimization restart 8/10, f = 26.66198859570222\n",
      "Optimization restart 9/10, f = 26.661988595968147\n",
      "Optimization restart 10/10, f = 26.661988595727074\n",
      "393\n"
     ]
    },
    {
     "data": {
      "application/vnd.jupyter.widget-view+json": {
       "model_id": "a0d9c18096c846c19408c5a08cebbc7b",
       "version_major": 2,
       "version_minor": 0
      },
      "text/plain": [
       "HBox(children=(VBox(children=(IntProgress(value=0, max=1000), HTML(value=''))), Box(children=(HTML(value=''),)…"
      ]
     },
     "metadata": {},
     "output_type": "display_data"
    },
    {
     "name": "stdout",
     "output_type": "stream",
     "text": [
      "Optimization restart 1/10, f = -107.11625902428703\n",
      "Optimization restart 2/10, f = -107.11625902143248\n",
      "Optimization restart 3/10, f = -107.11625902360998\n",
      "Optimization restart 4/10, f = -107.11625902422077\n",
      "Optimization restart 5/10, f = -107.11625902440402\n",
      "Optimization restart 6/10, f = -107.11625902422077\n",
      "Optimization restart 7/10, f = -107.11625897785504\n",
      "Optimization restart 8/10, f = -107.11625902425072\n",
      "Optimization restart 9/10, f = -107.11625902362434\n",
      "Optimization restart 10/10, f = -107.11625900916408\n",
      "394\n"
     ]
    },
    {
     "data": {
      "application/vnd.jupyter.widget-view+json": {
       "model_id": "f201219e9e904f47af55c3cb166f0778",
       "version_major": 2,
       "version_minor": 0
      },
      "text/plain": [
       "HBox(children=(VBox(children=(IntProgress(value=0, max=1000), HTML(value=''))), Box(children=(HTML(value=''),)…"
      ]
     },
     "metadata": {},
     "output_type": "display_data"
    },
    {
     "name": "stderr",
     "output_type": "stream",
     "text": [
      " C:\\Users\\marku\\Anaconda3\\lib\\site-packages\\paramz\\transformations.py:111: RuntimeWarning:overflow encountered in expm1\n"
     ]
    },
    {
     "name": "stdout",
     "output_type": "stream",
     "text": [
      "Optimization restart 1/10, f = 37.63442665695379\n",
      "Optimization restart 2/10, f = 37.63442665784791\n",
      "Optimization restart 3/10, f = 37.63442665841137\n",
      "Optimization restart 4/10, f = 37.634426657864594\n",
      "Optimization restart 5/10, f = 37.63442666382542\n"
     ]
    },
    {
     "name": "stderr",
     "output_type": "stream",
     "text": [
      " C:\\Users\\marku\\Anaconda3\\lib\\site-packages\\GPy\\kern\\src\\stationary.py:168: RuntimeWarning:overflow encountered in true_divide\n",
      " C:\\Users\\marku\\Anaconda3\\lib\\site-packages\\GPy\\kern\\src\\stationary.py:468: RuntimeWarning:overflow encountered in multiply\n",
      " C:\\Users\\marku\\Anaconda3\\lib\\site-packages\\GPy\\kern\\src\\stationary.py:468: RuntimeWarning:invalid value encountered in multiply\n"
     ]
    },
    {
     "name": "stdout",
     "output_type": "stream",
     "text": [
      "Optimization restart 6/10, f = 37.680311667270644\n",
      "Optimization restart 7/10, f = 37.63442665982305\n",
      "Optimization restart 8/10, f = 37.636431233685784\n",
      "Optimization restart 9/10, f = 37.634426657392794\n",
      "Optimization restart 10/10, f = 37.6344266747889\n",
      "395\n"
     ]
    },
    {
     "data": {
      "application/vnd.jupyter.widget-view+json": {
       "model_id": "9bea85f3092c43ddb82388188029f2b0",
       "version_major": 2,
       "version_minor": 0
      },
      "text/plain": [
       "HBox(children=(VBox(children=(IntProgress(value=0, max=1000), HTML(value=''))), Box(children=(HTML(value=''),)…"
      ]
     },
     "metadata": {},
     "output_type": "display_data"
    },
    {
     "name": "stdout",
     "output_type": "stream",
     "text": [
      "Optimization restart 1/10, f = 12.0542214706077\n",
      "Optimization restart 2/10, f = 12.054221470711724\n",
      "Optimization restart 3/10, f = 12.054221470673795\n"
     ]
    },
    {
     "name": "stderr",
     "output_type": "stream",
     "text": [
      " C:\\Users\\marku\\Anaconda3\\lib\\site-packages\\GPy\\kern\\src\\stationary.py:168: RuntimeWarning:overflow encountered in true_divide\n",
      " C:\\Users\\marku\\Anaconda3\\lib\\site-packages\\GPy\\kern\\src\\stationary.py:468: RuntimeWarning:overflow encountered in multiply\n",
      " C:\\Users\\marku\\Anaconda3\\lib\\site-packages\\GPy\\kern\\src\\stationary.py:468: RuntimeWarning:invalid value encountered in multiply\n"
     ]
    },
    {
     "name": "stdout",
     "output_type": "stream",
     "text": [
      "Optimization restart 4/10, f = 12.055580156497001\n",
      "Optimization restart 5/10, f = 12.054221470493417\n",
      "Optimization restart 6/10, f = 12.054221471647878\n",
      "Optimization restart 7/10, f = 12.054221470654\n",
      "Optimization restart 8/10, f = 12.054221470587791\n",
      "Optimization restart 9/10, f = 12.05422147390098\n",
      "Optimization restart 10/10, f = 12.054221499546856\n",
      "396\n"
     ]
    },
    {
     "data": {
      "application/vnd.jupyter.widget-view+json": {
       "model_id": "1e7537daedb449f3892b5b52f658d802",
       "version_major": 2,
       "version_minor": 0
      },
      "text/plain": [
       "HBox(children=(VBox(children=(IntProgress(value=0, max=1000), HTML(value=''))), Box(children=(HTML(value=''),)…"
      ]
     },
     "metadata": {},
     "output_type": "display_data"
    },
    {
     "name": "stdout",
     "output_type": "stream",
     "text": [
      "Optimization restart 1/10, f = 375.04263412227584\n",
      "Optimization restart 2/10, f = 375.04263412220104\n",
      "Optimization restart 3/10, f = 375.04263412744035\n",
      "Optimization restart 4/10, f = 375.0426341255979\n",
      "Optimization restart 5/10, f = 375.04263412216926\n",
      "Optimization restart 6/10, f = 375.0426341227253\n",
      "Optimization restart 7/10, f = 375.0426341227788\n",
      "Optimization restart 8/10, f = 375.04263412914065\n",
      "Optimization restart 9/10, f = 375.0426341241981\n",
      "Optimization restart 10/10, f = 375.0426341250688\n",
      "397\n"
     ]
    },
    {
     "data": {
      "application/vnd.jupyter.widget-view+json": {
       "model_id": "4916bd293f774e2cb23a2fc53daed9c1",
       "version_major": 2,
       "version_minor": 0
      },
      "text/plain": [
       "HBox(children=(VBox(children=(IntProgress(value=0, max=1000), HTML(value=''))), Box(children=(HTML(value=''),)…"
      ]
     },
     "metadata": {},
     "output_type": "display_data"
    },
    {
     "name": "stdout",
     "output_type": "stream",
     "text": [
      "Optimization restart 1/10, f = 36.3808648108245\n",
      "Optimization restart 2/10, f = 36.38086470430228\n",
      "Optimization restart 3/10, f = 36.38086469698189\n",
      "Optimization restart 4/10, f = 36.38086469689551\n",
      "Optimization restart 5/10, f = 36.38086469784506\n",
      "Optimization restart 6/10, f = 36.38086469980049\n",
      "Optimization restart 7/10, f = 36.38086469692604\n",
      "Optimization restart 8/10, f = 36.38086469781173\n",
      "Optimization restart 9/10, f = 36.38086469881294\n",
      "Optimization restart 10/10, f = 36.380864701172506\n",
      "398\n"
     ]
    },
    {
     "data": {
      "application/vnd.jupyter.widget-view+json": {
       "model_id": "60f8cc1b8e2644d3aae87d9b6a0c7980",
       "version_major": 2,
       "version_minor": 0
      },
      "text/plain": [
       "HBox(children=(VBox(children=(IntProgress(value=0, max=1000), HTML(value=''))), Box(children=(HTML(value=''),)…"
      ]
     },
     "metadata": {},
     "output_type": "display_data"
    },
    {
     "name": "stdout",
     "output_type": "stream",
     "text": [
      "Optimization restart 1/10, f = 189.90358577927816\n",
      "Optimization restart 2/10, f = 189.9035857873054\n",
      "Optimization restart 3/10, f = 189.90358577858063\n",
      "Optimization restart 4/10, f = 189.90358578079497\n",
      "Optimization restart 5/10, f = 189.90358577854093\n",
      "Optimization restart 6/10, f = 189.90358577924917\n",
      "Optimization restart 7/10, f = 189.90358577867215\n",
      "Optimization restart 8/10, f = 189.90358578214108\n",
      "Optimization restart 9/10, f = 189.90358577974396\n",
      "Optimization restart 10/10, f = 189.90358577846854\n",
      "399\n"
     ]
    },
    {
     "data": {
      "application/vnd.jupyter.widget-view+json": {
       "model_id": "e19b0e39931b4402881492185905fa37",
       "version_major": 2,
       "version_minor": 0
      },
      "text/plain": [
       "HBox(children=(VBox(children=(IntProgress(value=0, max=1000), HTML(value=''))), Box(children=(HTML(value=''),)…"
      ]
     },
     "metadata": {},
     "output_type": "display_data"
    },
    {
     "name": "stdout",
     "output_type": "stream",
     "text": [
      "Optimization restart 1/10, f = 20.63423771727857\n",
      "Optimization restart 2/10, f = 20.634237720986214\n",
      "Optimization restart 3/10, f = 20.63423771958451\n",
      "Optimization restart 4/10, f = 20.634237729906218\n",
      "Optimization restart 5/10, f = 20.63423771736057\n",
      "Optimization restart 6/10, f = 20.634237717447352\n",
      "Optimization restart 7/10, f = 20.634237719691562\n",
      "Optimization restart 8/10, f = 20.634237724719572\n",
      "Optimization restart 9/10, f = 20.634237717293892\n",
      "Optimization restart 10/10, f = 20.63423772003976\n",
      "400\n"
     ]
    },
    {
     "data": {
      "application/vnd.jupyter.widget-view+json": {
       "model_id": "b5ca8fc025594091b128461603d43d00",
       "version_major": 2,
       "version_minor": 0
      },
      "text/plain": [
       "HBox(children=(VBox(children=(IntProgress(value=0, max=1000), HTML(value=''))), Box(children=(HTML(value=''),)…"
      ]
     },
     "metadata": {},
     "output_type": "display_data"
    },
    {
     "name": "stdout",
     "output_type": "stream",
     "text": [
      "Optimization restart 1/10, f = 153.1790664193007\n",
      "Optimization restart 2/10, f = 153.1790664197084\n",
      "Optimization restart 3/10, f = 153.17906641933425\n",
      "Optimization restart 4/10, f = 153.17906642883952\n",
      "Optimization restart 5/10, f = 153.17906641927104\n",
      "Optimization restart 6/10, f = 153.1790664192745\n",
      "Optimization restart 7/10, f = 153.17906641954858\n",
      "Optimization restart 8/10, f = 153.17906642015626\n",
      "Optimization restart 9/10, f = 153.17906646373845\n",
      "Optimization restart 10/10, f = 153.1790664196388\n",
      "401\n"
     ]
    },
    {
     "data": {
      "application/vnd.jupyter.widget-view+json": {
       "model_id": "4394075633c24cc4b2c3702a46bdb2ac",
       "version_major": 2,
       "version_minor": 0
      },
      "text/plain": [
       "HBox(children=(VBox(children=(IntProgress(value=0, max=1000), HTML(value=''))), Box(children=(HTML(value=''),)…"
      ]
     },
     "metadata": {},
     "output_type": "display_data"
    },
    {
     "name": "stdout",
     "output_type": "stream",
     "text": [
      "Optimization restart 1/10, f = 115.90577511858484\n",
      "Optimization restart 2/10, f = 115.90577511643473\n",
      "Optimization restart 3/10, f = 115.90577511953708\n",
      "Optimization restart 4/10, f = 115.90577511721372\n",
      "Optimization restart 5/10, f = 115.90577511708872\n",
      "Optimization restart 6/10, f = 115.90577511637846\n",
      "Optimization restart 7/10, f = 115.90577512188482\n",
      "Optimization restart 8/10, f = 115.90577511628922\n",
      "Optimization restart 9/10, f = 115.90577513096815\n",
      "Optimization restart 10/10, f = 115.90577511649109\n",
      "402\n"
     ]
    },
    {
     "data": {
      "application/vnd.jupyter.widget-view+json": {
       "model_id": "c77c277ec5044cf5b3a84cfd18378010",
       "version_major": 2,
       "version_minor": 0
      },
      "text/plain": [
       "HBox(children=(VBox(children=(IntProgress(value=0, max=1000), HTML(value=''))), Box(children=(HTML(value=''),)…"
      ]
     },
     "metadata": {},
     "output_type": "display_data"
    },
    {
     "name": "stdout",
     "output_type": "stream",
     "text": [
      "Optimization restart 1/10, f = 126.18955216300112\n",
      "Optimization restart 2/10, f = 126.18955216036457\n",
      "Optimization restart 3/10, f = 126.18955216040929\n",
      "Optimization restart 4/10, f = 126.1895521603544\n",
      "Optimization restart 5/10, f = 126.18955216455731\n",
      "Optimization restart 6/10, f = 126.18955216180204\n",
      "Optimization restart 7/10, f = 126.1895523607582\n",
      "Optimization restart 8/10, f = 126.18955229213557\n",
      "Optimization restart 9/10, f = 126.18955217985658\n",
      "Optimization restart 10/10, f = 126.18955217526819\n",
      "403\n"
     ]
    },
    {
     "data": {
      "application/vnd.jupyter.widget-view+json": {
       "model_id": "75fd94a5bc4d48be815dc82a7310ef3e",
       "version_major": 2,
       "version_minor": 0
      },
      "text/plain": [
       "HBox(children=(VBox(children=(IntProgress(value=0, max=1000), HTML(value=''))), Box(children=(HTML(value=''),)…"
      ]
     },
     "metadata": {},
     "output_type": "display_data"
    },
    {
     "name": "stdout",
     "output_type": "stream",
     "text": [
      "Optimization restart 1/10, f = 149.5739631434709\n",
      "Optimization restart 2/10, f = 149.57396314334005\n",
      "Optimization restart 3/10, f = 149.57396314300047\n",
      "Optimization restart 4/10, f = 149.57396314378366\n",
      "Optimization restart 5/10, f = 149.5739631433195\n",
      "Optimization restart 6/10, f = 149.57396314955486\n",
      "Optimization restart 7/10, f = 149.5739631665246\n",
      "Optimization restart 8/10, f = 149.5739631429921\n",
      "Optimization restart 9/10, f = 149.57396314299697\n",
      "Optimization restart 10/10, f = 149.57396317469426\n",
      "404\n"
     ]
    },
    {
     "data": {
      "application/vnd.jupyter.widget-view+json": {
       "model_id": "820fccece39444d4af80fdbe96ccd4bc",
       "version_major": 2,
       "version_minor": 0
      },
      "text/plain": [
       "HBox(children=(VBox(children=(IntProgress(value=0, max=1000), HTML(value=''))), Box(children=(HTML(value=''),)…"
      ]
     },
     "metadata": {},
     "output_type": "display_data"
    },
    {
     "name": "stdout",
     "output_type": "stream",
     "text": [
      "Optimization restart 1/10, f = -6.827280677495516\n",
      "Optimization restart 2/10, f = -6.827280676390039\n",
      "Optimization restart 3/10, f = -6.827280677438125\n",
      "Optimization restart 4/10, f = -6.827280677506149\n",
      "Optimization restart 5/10, f = -6.827280677503126\n",
      "Optimization restart 6/10, f = -6.827280677501067\n",
      "Optimization restart 7/10, f = -6.827280677480795\n",
      "Optimization restart 8/10, f = -6.82728067734266\n",
      "Optimization restart 9/10, f = -6.827280677486897\n",
      "Optimization restart 10/10, f = -6.827280677465762\n",
      "405\n"
     ]
    },
    {
     "data": {
      "application/vnd.jupyter.widget-view+json": {
       "model_id": "c14529cb5f4b472e83d97d428cfbe35f",
       "version_major": 2,
       "version_minor": 0
      },
      "text/plain": [
       "HBox(children=(VBox(children=(IntProgress(value=0, max=1000), HTML(value=''))), Box(children=(HTML(value=''),)…"
      ]
     },
     "metadata": {},
     "output_type": "display_data"
    },
    {
     "name": "stdout",
     "output_type": "stream",
     "text": [
      "Optimization restart 1/10, f = 165.10925158793782\n",
      "Optimization restart 2/10, f = 165.10925158991677\n",
      "Optimization restart 3/10, f = 165.10925160360625\n",
      "Optimization restart 4/10, f = 165.10925175745362\n",
      "Optimization restart 5/10, f = 165.10925158802684\n",
      "Optimization restart 6/10, f = 165.10925178744287\n",
      "Optimization restart 7/10, f = 165.10925159290593\n",
      "Optimization restart 8/10, f = 165.10925163820465\n",
      "Optimization restart 9/10, f = 165.10925158815732\n",
      "Optimization restart 10/10, f = 165.10925160730636\n",
      "406\n",
      "could not train the model for df GY_0000002\n",
      "407\n"
     ]
    },
    {
     "data": {
      "application/vnd.jupyter.widget-view+json": {
       "model_id": "6b20a2d4559e4f1f975e99424adbd985",
       "version_major": 2,
       "version_minor": 0
      },
      "text/plain": [
       "HBox(children=(VBox(children=(IntProgress(value=0, max=1000), HTML(value=''))), Box(children=(HTML(value=''),)…"
      ]
     },
     "metadata": {},
     "output_type": "display_data"
    },
    {
     "name": "stdout",
     "output_type": "stream",
     "text": [
      "Optimization restart 1/10, f = 243.53827075663264\n",
      "Optimization restart 2/10, f = 243.5382707623151\n",
      "Optimization restart 3/10, f = 243.53827075685015\n",
      "Optimization restart 4/10, f = 243.53827082173592\n",
      "Optimization restart 5/10, f = 243.538270756606\n",
      "Optimization restart 6/10, f = 243.53827124090066\n",
      "Optimization restart 7/10, f = 243.5382707565411\n",
      "Optimization restart 8/10, f = 243.53827075652356\n",
      "Optimization restart 9/10, f = 243.53827077054973\n",
      "Optimization restart 10/10, f = 243.53827075658384\n",
      "408\n"
     ]
    },
    {
     "data": {
      "application/vnd.jupyter.widget-view+json": {
       "model_id": "a5f782562c034ea39a0abc6728f8db6d",
       "version_major": 2,
       "version_minor": 0
      },
      "text/plain": [
       "HBox(children=(VBox(children=(IntProgress(value=0, max=1000), HTML(value=''))), Box(children=(HTML(value=''),)…"
      ]
     },
     "metadata": {},
     "output_type": "display_data"
    },
    {
     "name": "stdout",
     "output_type": "stream",
     "text": [
      "Optimization restart 1/10, f = 153.85907389318405\n",
      "Optimization restart 2/10, f = 153.8590738928755\n",
      "Optimization restart 3/10, f = 153.8590738931426\n",
      "Optimization restart 4/10, f = 153.8590738938525\n",
      "Optimization restart 5/10, f = 153.85907389287567\n",
      "Optimization restart 6/10, f = 153.85907389551272\n",
      "Optimization restart 7/10, f = 153.85907389335347\n",
      "Optimization restart 8/10, f = 153.85907389362472\n",
      "Optimization restart 9/10, f = 153.85907389287738\n",
      "Optimization restart 10/10, f = 153.8590738930077\n",
      "409\n"
     ]
    },
    {
     "data": {
      "application/vnd.jupyter.widget-view+json": {
       "model_id": "6dabf54a28d5427b8687506f640b5153",
       "version_major": 2,
       "version_minor": 0
      },
      "text/plain": [
       "HBox(children=(VBox(children=(IntProgress(value=0, max=1000), HTML(value=''))), Box(children=(HTML(value=''),)…"
      ]
     },
     "metadata": {},
     "output_type": "display_data"
    },
    {
     "name": "stdout",
     "output_type": "stream",
     "text": [
      "Optimization restart 1/10, f = 141.35403356621916\n",
      "Optimization restart 2/10, f = 141.35402537059485\n",
      "Optimization restart 3/10, f = 141.35402551939796\n",
      "Optimization restart 4/10, f = 141.35402536952776\n",
      "Optimization restart 5/10, f = 141.35402537165982\n",
      "Optimization restart 6/10, f = 141.3540253701036\n",
      "Optimization restart 7/10, f = 141.3540253907462\n",
      "Optimization restart 8/10, f = 141.35402537800343\n",
      "Optimization restart 9/10, f = 141.3540871990533\n",
      "Optimization restart 10/10, f = 141.35402537432162\n",
      "410\n"
     ]
    },
    {
     "data": {
      "application/vnd.jupyter.widget-view+json": {
       "model_id": "2144602a5d6e46118e2f3200426a866e",
       "version_major": 2,
       "version_minor": 0
      },
      "text/plain": [
       "HBox(children=(VBox(children=(IntProgress(value=0, max=1000), HTML(value=''))), Box(children=(HTML(value=''),)…"
      ]
     },
     "metadata": {},
     "output_type": "display_data"
    },
    {
     "name": "stdout",
     "output_type": "stream",
     "text": [
      "Optimization restart 1/10, f = 193.6973451547638\n",
      "Optimization restart 2/10, f = 193.69734516135014\n",
      "Optimization restart 3/10, f = 193.69734515361768\n",
      "Optimization restart 4/10, f = 193.69734515367975\n",
      "Optimization restart 5/10, f = 193.69734515411432\n",
      "Optimization restart 6/10, f = 193.69734515383237\n",
      "Optimization restart 7/10, f = 193.6973451861258\n",
      "Optimization restart 8/10, f = 193.69734515362086\n",
      "Optimization restart 9/10, f = 193.69734515694842\n",
      "Optimization restart 10/10, f = 193.69734515358311\n",
      "411\n"
     ]
    },
    {
     "data": {
      "application/vnd.jupyter.widget-view+json": {
       "model_id": "dd67cd1cda6a4224a668368e9a7cd769",
       "version_major": 2,
       "version_minor": 0
      },
      "text/plain": [
       "HBox(children=(VBox(children=(IntProgress(value=0, max=1000), HTML(value=''))), Box(children=(HTML(value=''),)…"
      ]
     },
     "metadata": {},
     "output_type": "display_data"
    },
    {
     "name": "stdout",
     "output_type": "stream",
     "text": [
      "Optimization restart 1/10, f = 78.57499420653623\n",
      "Optimization restart 2/10, f = 78.5749942062535\n",
      "Optimization restart 3/10, f = 78.57499420592242\n",
      "Optimization restart 4/10, f = 78.57499420601337\n",
      "Optimization restart 5/10, f = 78.57499420595438\n",
      "Optimization restart 6/10, f = 78.57499420997574\n",
      "Optimization restart 7/10, f = 78.57499420609314\n",
      "Optimization restart 8/10, f = 78.57499420593997\n",
      "Optimization restart 9/10, f = 78.57499420811678\n",
      "Optimization restart 10/10, f = 78.57499420594525\n",
      "412\n"
     ]
    },
    {
     "data": {
      "application/vnd.jupyter.widget-view+json": {
       "model_id": "93101d0d1c5c4029b5aacd04a1a0761a",
       "version_major": 2,
       "version_minor": 0
      },
      "text/plain": [
       "HBox(children=(VBox(children=(IntProgress(value=0, max=1000), HTML(value=''))), Box(children=(HTML(value=''),)…"
      ]
     },
     "metadata": {},
     "output_type": "display_data"
    },
    {
     "name": "stdout",
     "output_type": "stream",
     "text": [
      "Optimization restart 1/10, f = 0.45289002093033304\n",
      "Optimization restart 2/10, f = 0.4528900208145501\n",
      "Optimization restart 3/10, f = 0.45289002078750684\n",
      "Optimization restart 4/10, f = 0.45289002082075314\n",
      "Optimization restart 5/10, f = 0.452890020778689\n",
      "Optimization restart 6/10, f = 0.4528900208535376\n",
      "Optimization restart 7/10, f = 0.45289002080023977\n",
      "Optimization restart 8/10, f = 0.4528900211397371\n",
      "Optimization restart 9/10, f = 0.45289002079748286\n",
      "Optimization restart 10/10, f = 0.4528900245322731\n",
      "413\n",
      "Could not compute spearmans matrix, for df BR_0001941\n",
      "414\n",
      "could not train the model for df BR_0002253\n",
      "415\n"
     ]
    },
    {
     "data": {
      "application/vnd.jupyter.widget-view+json": {
       "model_id": "0f9020446d7a438680419bc20e92874e",
       "version_major": 2,
       "version_minor": 0
      },
      "text/plain": [
       "HBox(children=(VBox(children=(IntProgress(value=0, max=1000), HTML(value=''))), Box(children=(HTML(value=''),)…"
      ]
     },
     "metadata": {},
     "output_type": "display_data"
    },
    {
     "name": "stdout",
     "output_type": "stream",
     "text": [
      "Optimization restart 1/10, f = 145.35428543126872\n",
      "Optimization restart 2/10, f = 145.3542854298716\n",
      "Optimization restart 3/10, f = 145.3542854461931\n",
      "Optimization restart 4/10, f = 145.35428546700365\n",
      "Optimization restart 5/10, f = 145.35428544715134\n",
      "Optimization restart 6/10, f = 145.35428542947017\n",
      "Optimization restart 7/10, f = 145.35428542954463\n",
      "Optimization restart 8/10, f = 145.35428542966145\n",
      "Optimization restart 9/10, f = 145.35428543401468\n",
      "Optimization restart 10/10, f = 145.35428543092405\n",
      "416\n"
     ]
    },
    {
     "data": {
      "application/vnd.jupyter.widget-view+json": {
       "model_id": "10c07ee616a14682b5e13dd4f68a36e7",
       "version_major": 2,
       "version_minor": 0
      },
      "text/plain": [
       "HBox(children=(VBox(children=(IntProgress(value=0, max=1000), HTML(value=''))), Box(children=(HTML(value=''),)…"
      ]
     },
     "metadata": {},
     "output_type": "display_data"
    },
    {
     "name": "stdout",
     "output_type": "stream",
     "text": [
      "Optimization restart 1/10, f = 7.819325450267583\n",
      "Optimization restart 2/10, f = 7.819325463486066\n",
      "Optimization restart 3/10, f = 7.819328668680182\n",
      "Optimization restart 4/10, f = 7.819329891935888\n",
      "Optimization restart 5/10, f = 7.8193254503435385\n",
      "Optimization restart 6/10, f = 7.8193254832897\n",
      "Optimization restart 7/10, f = 7.819325648164357\n",
      "Optimization restart 8/10, f = 7.819325570567305\n",
      "Optimization restart 9/10, f = 7.819326794611663\n",
      "Optimization restart 10/10, f = 7.819325925406905\n",
      "417\n"
     ]
    },
    {
     "data": {
      "application/vnd.jupyter.widget-view+json": {
       "model_id": "c6d65001e6ea48c9a2af3d92a80b4415",
       "version_major": 2,
       "version_minor": 0
      },
      "text/plain": [
       "HBox(children=(VBox(children=(IntProgress(value=0, max=1000), HTML(value=''))), Box(children=(HTML(value=''),)…"
      ]
     },
     "metadata": {},
     "output_type": "display_data"
    },
    {
     "name": "stdout",
     "output_type": "stream",
     "text": [
      "Optimization restart 1/10, f = -41.82738084448731\n",
      "Optimization restart 2/10, f = -41.827380844558064\n",
      "Optimization restart 3/10, f = -41.827380844523915\n",
      "Optimization restart 4/10, f = -41.82738084445646\n",
      "Optimization restart 5/10, f = -41.82738084464093\n",
      "Optimization restart 6/10, f = -41.827380844422876\n",
      "Optimization restart 7/10, f = -41.827380841898076\n",
      "Optimization restart 8/10, f = -41.82738084444375\n",
      "Optimization restart 9/10, f = -41.82738084444293\n",
      "Optimization restart 10/10, f = -41.82738084234376\n",
      "418\n"
     ]
    },
    {
     "data": {
      "application/vnd.jupyter.widget-view+json": {
       "model_id": "5b5765c2534442c68679f7cab39538e1",
       "version_major": 2,
       "version_minor": 0
      },
      "text/plain": [
       "HBox(children=(VBox(children=(IntProgress(value=0, max=1000), HTML(value=''))), Box(children=(HTML(value=''),)…"
      ]
     },
     "metadata": {},
     "output_type": "display_data"
    },
    {
     "name": "stdout",
     "output_type": "stream",
     "text": [
      "Optimization restart 1/10, f = 78.36161174993572\n",
      "Optimization restart 2/10, f = 78.36161175026254\n",
      "Optimization restart 3/10, f = 78.36161174993737\n",
      "Optimization restart 4/10, f = 78.36161174993028\n",
      "Optimization restart 5/10, f = 78.3616117640436\n",
      "Optimization restart 6/10, f = 78.36161175001065\n",
      "Optimization restart 7/10, f = 78.36161174993299\n",
      "Optimization restart 8/10, f = 78.36161175435437\n",
      "Optimization restart 9/10, f = 78.36161175914047\n",
      "Optimization restart 10/10, f = 78.36161175271998\n",
      "419\n"
     ]
    },
    {
     "data": {
      "application/vnd.jupyter.widget-view+json": {
       "model_id": "1090ee52f01e4e50b55877d1652caacc",
       "version_major": 2,
       "version_minor": 0
      },
      "text/plain": [
       "HBox(children=(VBox(children=(IntProgress(value=0, max=1000), HTML(value=''))), Box(children=(HTML(value=''),)…"
      ]
     },
     "metadata": {},
     "output_type": "display_data"
    },
    {
     "name": "stdout",
     "output_type": "stream",
     "text": [
      "Optimization restart 1/10, f = 134.44915549819638\n",
      "Optimization restart 2/10, f = 134.44915549615868\n",
      "Optimization restart 3/10, f = 134.44915549579457\n",
      "Optimization restart 4/10, f = 134.44915550049345\n",
      "Optimization restart 5/10, f = 134.44915549585343\n",
      "Optimization restart 6/10, f = 134.44915549577792\n",
      "Optimization restart 7/10, f = 134.4491555180121\n",
      "Optimization restart 8/10, f = 134.44915549577453\n",
      "Optimization restart 9/10, f = 134.4491554966667\n",
      "Optimization restart 10/10, f = 134.44915556937042\n",
      "420\n"
     ]
    },
    {
     "data": {
      "application/vnd.jupyter.widget-view+json": {
       "model_id": "88d42360a3694cadacd4284a91f6fca8",
       "version_major": 2,
       "version_minor": 0
      },
      "text/plain": [
       "HBox(children=(VBox(children=(IntProgress(value=0, max=1000), HTML(value=''))), Box(children=(HTML(value=''),)…"
      ]
     },
     "metadata": {},
     "output_type": "display_data"
    },
    {
     "name": "stdout",
     "output_type": "stream",
     "text": [
      "Optimization restart 1/10, f = 139.34730815930737\n",
      "Optimization restart 2/10, f = 139.34730815932284\n",
      "Optimization restart 3/10, f = 139.34730816168752\n",
      "Optimization restart 4/10, f = 139.3473081593994\n",
      "Optimization restart 5/10, f = 139.34730816065655\n",
      "Optimization restart 6/10, f = 139.34730816584357\n",
      "Optimization restart 7/10, f = 139.34730815931937\n",
      "Optimization restart 8/10, f = 139.3473081595349\n",
      "Optimization restart 9/10, f = 139.34730815939645\n",
      "Optimization restart 10/10, f = 139.34730815930186\n",
      "421\n"
     ]
    },
    {
     "data": {
      "application/vnd.jupyter.widget-view+json": {
       "model_id": "c3de01963b9541b7a403eadcb98a0bbb",
       "version_major": 2,
       "version_minor": 0
      },
      "text/plain": [
       "HBox(children=(VBox(children=(IntProgress(value=0, max=1000), HTML(value=''))), Box(children=(HTML(value=''),)…"
      ]
     },
     "metadata": {},
     "output_type": "display_data"
    },
    {
     "name": "stdout",
     "output_type": "stream",
     "text": [
      "Optimization restart 1/10, f = 170.73152224901017\n",
      "Optimization restart 2/10, f = 170.73152224903097\n",
      "Optimization restart 3/10, f = 170.73152224912826\n",
      "Optimization restart 4/10, f = 170.7315222490111\n",
      "Optimization restart 5/10, f = 170.7315222490123\n",
      "Optimization restart 6/10, f = 170.73152224908716\n",
      "Optimization restart 7/10, f = 170.73152229010734\n",
      "Optimization restart 8/10, f = 170.73152224910984\n",
      "Optimization restart 9/10, f = 170.73152228809974\n",
      "Optimization restart 10/10, f = 170.73152224908253\n",
      "422\n"
     ]
    },
    {
     "data": {
      "application/vnd.jupyter.widget-view+json": {
       "model_id": "8a0f0c561fd84e25b901a97eeb29f9de",
       "version_major": 2,
       "version_minor": 0
      },
      "text/plain": [
       "HBox(children=(VBox(children=(IntProgress(value=0, max=1000), HTML(value=''))), Box(children=(HTML(value=''),)…"
      ]
     },
     "metadata": {},
     "output_type": "display_data"
    },
    {
     "name": "stdout",
     "output_type": "stream",
     "text": [
      "Optimization restart 1/10, f = 127.64103043349361\n",
      "Optimization restart 2/10, f = 127.64103043185315\n",
      "Optimization restart 3/10, f = 127.6410304333657\n",
      "Optimization restart 4/10, f = 127.64103043211857\n",
      "Optimization restart 5/10, f = 127.64103043481849\n",
      "Optimization restart 6/10, f = 127.64103046348724\n",
      "Optimization restart 7/10, f = 127.64103048055432\n",
      "Optimization restart 8/10, f = 127.64103043216662\n",
      "Optimization restart 9/10, f = 127.64103043409321\n",
      "Optimization restart 10/10, f = 127.64103043660515\n",
      "423\n"
     ]
    },
    {
     "data": {
      "application/vnd.jupyter.widget-view+json": {
       "model_id": "04f7797ed8c44bb79b8dc5a75d9feda3",
       "version_major": 2,
       "version_minor": 0
      },
      "text/plain": [
       "HBox(children=(VBox(children=(IntProgress(value=0, max=1000), HTML(value=''))), Box(children=(HTML(value=''),)…"
      ]
     },
     "metadata": {},
     "output_type": "display_data"
    },
    {
     "name": "stdout",
     "output_type": "stream",
     "text": [
      "Optimization restart 1/10, f = 16.551777214400236\n",
      "Optimization restart 2/10, f = 16.551777214400232\n",
      "Optimization restart 3/10, f = 16.55177721443043\n",
      "Optimization restart 4/10, f = 16.551777214411963\n",
      "Optimization restart 5/10, f = 16.55177721440152\n",
      "Optimization restart 6/10, f = 16.551777214422444\n",
      "Optimization restart 7/10, f = 16.55177721440887\n",
      "Optimization restart 8/10, f = 16.55177721440284\n",
      "Optimization restart 9/10, f = 16.55177721443561\n",
      "Optimization restart 10/10, f = 16.55177721440246\n",
      "424\n"
     ]
    },
    {
     "data": {
      "application/vnd.jupyter.widget-view+json": {
       "model_id": "12a4c7c8d64d4b16a7497beef791c691",
       "version_major": 2,
       "version_minor": 0
      },
      "text/plain": [
       "HBox(children=(VBox(children=(IntProgress(value=0, max=1000), HTML(value=''))), Box(children=(HTML(value=''),)…"
      ]
     },
     "metadata": {},
     "output_type": "display_data"
    },
    {
     "name": "stdout",
     "output_type": "stream",
     "text": [
      "Optimization restart 1/10, f = 31.054703262606665\n",
      "Optimization restart 2/10, f = 31.05470326251701\n",
      "Optimization restart 3/10, f = 31.054703264327344\n",
      "Optimization restart 4/10, f = 31.054703262644637\n",
      "Optimization restart 5/10, f = 31.05470326259028\n",
      "Optimization restart 6/10, f = 31.054703308841724\n",
      "Optimization restart 7/10, f = 31.054703262765955\n",
      "Optimization restart 8/10, f = 31.05470326265697\n",
      "Optimization restart 9/10, f = 31.054703262549253\n",
      "Optimization restart 10/10, f = 31.05470326265855\n",
      "425\n"
     ]
    },
    {
     "data": {
      "application/vnd.jupyter.widget-view+json": {
       "model_id": "cac9c59d3bb1452d89b47b1c41c05c94",
       "version_major": 2,
       "version_minor": 0
      },
      "text/plain": [
       "HBox(children=(VBox(children=(IntProgress(value=0, max=1000), HTML(value=''))), Box(children=(HTML(value=''),)…"
      ]
     },
     "metadata": {},
     "output_type": "display_data"
    },
    {
     "name": "stdout",
     "output_type": "stream",
     "text": [
      "Optimization restart 1/10, f = 64.95462566757907\n",
      "Optimization restart 2/10, f = 64.95462568077554\n",
      "Optimization restart 3/10, f = 64.95462566752896\n",
      "Optimization restart 4/10, f = 64.95462566750953\n",
      "Optimization restart 5/10, f = 64.95462566768796\n",
      "Optimization restart 6/10, f = 64.95462566751209\n",
      "Optimization restart 7/10, f = 64.95462566759036\n",
      "Optimization restart 8/10, f = 64.95462567107413\n",
      "Optimization restart 9/10, f = 64.95462566771826\n",
      "Optimization restart 10/10, f = 64.95462566778318\n",
      "426\n"
     ]
    },
    {
     "data": {
      "application/vnd.jupyter.widget-view+json": {
       "model_id": "3757939312614ef3a72e0df80febf96d",
       "version_major": 2,
       "version_minor": 0
      },
      "text/plain": [
       "HBox(children=(VBox(children=(IntProgress(value=0, max=1000), HTML(value=''))), Box(children=(HTML(value=''),)…"
      ]
     },
     "metadata": {},
     "output_type": "display_data"
    },
    {
     "name": "stdout",
     "output_type": "stream",
     "text": [
      "Optimization restart 1/10, f = 212.5294435600008\n",
      "Optimization restart 2/10, f = 212.5294435506957\n",
      "Optimization restart 3/10, f = 212.52944355026403\n",
      "Optimization restart 4/10, f = 212.52944354733168\n",
      "Optimization restart 5/10, f = 212.5294435471984\n",
      "Optimization restart 6/10, f = 212.5294435477851\n",
      "Optimization restart 7/10, f = 212.5294435532131\n",
      "Optimization restart 8/10, f = 212.52944354759816\n",
      "Optimization restart 9/10, f = 212.5294435472332\n",
      "Optimization restart 10/10, f = 212.52944354717\n",
      "427\n"
     ]
    },
    {
     "data": {
      "application/vnd.jupyter.widget-view+json": {
       "model_id": "4966330feba8421a8f058b95e4ec4db3",
       "version_major": 2,
       "version_minor": 0
      },
      "text/plain": [
       "HBox(children=(VBox(children=(IntProgress(value=0, max=1000), HTML(value=''))), Box(children=(HTML(value=''),)…"
      ]
     },
     "metadata": {},
     "output_type": "display_data"
    },
    {
     "name": "stdout",
     "output_type": "stream",
     "text": [
      "Optimization restart 1/10, f = 58.7603376725737\n",
      "Optimization restart 2/10, f = 58.76033767257273\n",
      "Optimization restart 3/10, f = 58.76033767264984\n",
      "Optimization restart 4/10, f = 58.76033767293419\n",
      "Optimization restart 5/10, f = 58.76033767257615\n",
      "Optimization restart 6/10, f = 58.76033767318036\n",
      "Optimization restart 7/10, f = 58.7603376725772\n",
      "Optimization restart 8/10, f = 58.760337682184534\n",
      "Optimization restart 9/10, f = 58.7603376725945\n",
      "Optimization restart 10/10, f = 58.7603376736909\n",
      "428\n"
     ]
    },
    {
     "data": {
      "application/vnd.jupyter.widget-view+json": {
       "model_id": "2dff21841bf549fb96b6f221ececbf72",
       "version_major": 2,
       "version_minor": 0
      },
      "text/plain": [
       "HBox(children=(VBox(children=(IntProgress(value=0, max=1000), HTML(value=''))), Box(children=(HTML(value=''),)…"
      ]
     },
     "metadata": {},
     "output_type": "display_data"
    },
    {
     "name": "stdout",
     "output_type": "stream",
     "text": [
      "Optimization restart 1/10, f = 75.71841812679622\n",
      "Optimization restart 2/10, f = 75.71841820041007\n",
      "Optimization restart 3/10, f = 75.7184181281864\n",
      "Optimization restart 4/10, f = 75.7184181268128\n",
      "Optimization restart 5/10, f = 75.71841813113625\n",
      "Optimization restart 6/10, f = 75.7184181390096\n",
      "Optimization restart 7/10, f = 75.7184181267989\n",
      "Optimization restart 8/10, f = 75.71841812684269\n",
      "Optimization restart 9/10, f = 75.71841813089667\n",
      "Optimization restart 10/10, f = 75.71841812718287\n",
      "429\n"
     ]
    },
    {
     "data": {
      "application/vnd.jupyter.widget-view+json": {
       "model_id": "8803dc71c4df4333b9c94f843d1f945f",
       "version_major": 2,
       "version_minor": 0
      },
      "text/plain": [
       "HBox(children=(VBox(children=(IntProgress(value=0, max=1000), HTML(value=''))), Box(children=(HTML(value=''),)…"
      ]
     },
     "metadata": {},
     "output_type": "display_data"
    },
    {
     "name": "stdout",
     "output_type": "stream",
     "text": [
      "Optimization restart 1/10, f = 52.96555647066782\n",
      "Optimization restart 2/10, f = 52.96555647054021\n",
      "Optimization restart 3/10, f = 52.96555647056772\n",
      "Optimization restart 4/10, f = 52.96555647053128\n",
      "Optimization restart 5/10, f = 52.96555647177331\n",
      "Optimization restart 6/10, f = 52.96555647055368\n",
      "Optimization restart 7/10, f = 52.965556484078775\n",
      "Optimization restart 8/10, f = 52.96555647714604\n",
      "Optimization restart 9/10, f = 52.96555647556332\n",
      "Optimization restart 10/10, f = 52.96555647933394\n",
      "430\n"
     ]
    },
    {
     "data": {
      "application/vnd.jupyter.widget-view+json": {
       "model_id": "2657a37ecdf949e986b9810a702e419c",
       "version_major": 2,
       "version_minor": 0
      },
      "text/plain": [
       "HBox(children=(VBox(children=(IntProgress(value=0, max=1000), HTML(value=''))), Box(children=(HTML(value=''),)…"
      ]
     },
     "metadata": {},
     "output_type": "display_data"
    },
    {
     "name": "stdout",
     "output_type": "stream",
     "text": [
      "Optimization restart 1/10, f = 74.01739242090053\n",
      "Optimization restart 2/10, f = 74.01739242453756\n",
      "Optimization restart 3/10, f = 74.01739242233566\n",
      "Optimization restart 4/10, f = 74.0173924227177\n",
      "Optimization restart 5/10, f = 74.01739242152858\n",
      "Optimization restart 6/10, f = 74.01739242088762\n",
      "Optimization restart 7/10, f = 74.01739242091506\n",
      "Optimization restart 8/10, f = 74.01739242107514\n",
      "Optimization restart 9/10, f = 74.01739242097229\n",
      "Optimization restart 10/10, f = 74.01739242089387\n",
      "431\n"
     ]
    },
    {
     "data": {
      "application/vnd.jupyter.widget-view+json": {
       "model_id": "b909ddc549c8458c9eb28611297e07e0",
       "version_major": 2,
       "version_minor": 0
      },
      "text/plain": [
       "HBox(children=(VBox(children=(IntProgress(value=0, max=1000), HTML(value=''))), Box(children=(HTML(value=''),)…"
      ]
     },
     "metadata": {},
     "output_type": "display_data"
    },
    {
     "name": "stdout",
     "output_type": "stream",
     "text": [
      "Optimization restart 1/10, f = 53.885606611591\n",
      "Optimization restart 2/10, f = 53.88560660960223\n",
      "Optimization restart 3/10, f = 53.88560660955794\n",
      "Optimization restart 4/10, f = 53.88560660960597\n",
      "Optimization restart 5/10, f = 53.88560661092895\n",
      "Optimization restart 6/10, f = 53.88560660978087\n",
      "Optimization restart 7/10, f = 53.88560660957799\n",
      "Optimization restart 8/10, f = 53.88560660953631\n",
      "Optimization restart 9/10, f = 53.88560661301402\n",
      "Optimization restart 10/10, f = 53.88560661112824\n",
      "432\n"
     ]
    },
    {
     "data": {
      "application/vnd.jupyter.widget-view+json": {
       "model_id": "82b7ec0d28d846e4ae8f24f34e59c8be",
       "version_major": 2,
       "version_minor": 0
      },
      "text/plain": [
       "HBox(children=(VBox(children=(IntProgress(value=0, max=1000), HTML(value=''))), Box(children=(HTML(value=''),)…"
      ]
     },
     "metadata": {},
     "output_type": "display_data"
    },
    {
     "name": "stdout",
     "output_type": "stream",
     "text": [
      "Optimization restart 1/10, f = -88.63932148870799\n",
      "Optimization restart 2/10, f = -88.63932162917189\n",
      "Optimization restart 3/10, f = -88.63932162888213\n",
      "Optimization restart 4/10, f = -88.63932162936442\n",
      "Optimization restart 5/10, f = -88.63932162903026\n",
      "Optimization restart 6/10, f = -88.63932162253357\n",
      "Optimization restart 7/10, f = -88.63932162968877\n",
      "Optimization restart 8/10, f = -88.63932160856271\n",
      "Optimization restart 9/10, f = -88.63932162896802\n",
      "Optimization restart 10/10, f = -88.63932162957943\n",
      "433\n"
     ]
    },
    {
     "data": {
      "application/vnd.jupyter.widget-view+json": {
       "model_id": "59e5cf163bb44c29b409f1b38a8094e8",
       "version_major": 2,
       "version_minor": 0
      },
      "text/plain": [
       "HBox(children=(VBox(children=(IntProgress(value=0, max=1000), HTML(value=''))), Box(children=(HTML(value=''),)…"
      ]
     },
     "metadata": {},
     "output_type": "display_data"
    },
    {
     "name": "stdout",
     "output_type": "stream",
     "text": [
      "Optimization restart 1/10, f = 24.85752220448464\n",
      "Optimization restart 2/10, f = 24.857522206309994\n",
      "Optimization restart 3/10, f = 24.857523670957164\n",
      "Optimization restart 4/10, f = 24.857522204556176\n",
      "Optimization restart 5/10, f = 24.857522204905564\n",
      "Optimization restart 6/10, f = 24.857522209486703\n",
      "Optimization restart 7/10, f = 24.857522206543734\n",
      "Optimization restart 8/10, f = 24.857522692228628\n",
      "Optimization restart 9/10, f = 24.85752220445751\n",
      "Optimization restart 10/10, f = 24.857522212795985\n",
      "434\n"
     ]
    },
    {
     "data": {
      "application/vnd.jupyter.widget-view+json": {
       "model_id": "ea8c783eb5d34818942c3828c86f8525",
       "version_major": 2,
       "version_minor": 0
      },
      "text/plain": [
       "HBox(children=(VBox(children=(IntProgress(value=0, max=1000), HTML(value=''))), Box(children=(HTML(value=''),)…"
      ]
     },
     "metadata": {},
     "output_type": "display_data"
    },
    {
     "name": "stdout",
     "output_type": "stream",
     "text": [
      "Optimization restart 1/10, f = 213.09199784920725\n",
      "Optimization restart 2/10, f = 213.09199775271475\n",
      "Optimization restart 3/10, f = 213.09199775282633\n",
      "Optimization restart 4/10, f = 213.09199775653974\n",
      "Optimization restart 5/10, f = 213.09199775283352\n",
      "Optimization restart 6/10, f = 213.09199775281095\n"
     ]
    },
    {
     "name": "stderr",
     "output_type": "stream",
     "text": [
      " C:\\Users\\marku\\Anaconda3\\lib\\site-packages\\GPy\\kern\\src\\stationary.py:168: RuntimeWarning:overflow encountered in true_divide\n",
      " C:\\Users\\marku\\Anaconda3\\lib\\site-packages\\GPy\\kern\\src\\stationary.py:468: RuntimeWarning:overflow encountered in multiply\n",
      " C:\\Users\\marku\\Anaconda3\\lib\\site-packages\\GPy\\kern\\src\\stationary.py:468: RuntimeWarning:invalid value encountered in multiply\n"
     ]
    },
    {
     "name": "stdout",
     "output_type": "stream",
     "text": [
      "Optimization restart 7/10, f = 213.23550917048055\n",
      "Optimization restart 8/10, f = 213.09199777108404\n",
      "Optimization restart 9/10, f = 213.0919977537145\n",
      "Optimization restart 10/10, f = 213.09199791784806\n",
      "435\n"
     ]
    },
    {
     "data": {
      "application/vnd.jupyter.widget-view+json": {
       "model_id": "a413746659ba40fd9276610a6981ca22",
       "version_major": 2,
       "version_minor": 0
      },
      "text/plain": [
       "HBox(children=(VBox(children=(IntProgress(value=0, max=1000), HTML(value=''))), Box(children=(HTML(value=''),)…"
      ]
     },
     "metadata": {},
     "output_type": "display_data"
    },
    {
     "name": "stdout",
     "output_type": "stream",
     "text": [
      "Optimization restart 1/10, f = 173.9026480105875\n",
      "Optimization restart 2/10, f = 173.90266140628916\n",
      "Optimization restart 3/10, f = 173.9026714536476\n",
      "Optimization restart 4/10, f = 173.90264808931823\n",
      "Optimization restart 5/10, f = 173.9026482945731\n",
      "Optimization restart 6/10, f = 173.90264801058612\n",
      "Optimization restart 7/10, f = 173.902648224294\n",
      "Optimization restart 8/10, f = 173.9026510697512\n",
      "Optimization restart 9/10, f = 173.90264801253971\n",
      "Optimization restart 10/10, f = 173.90264801064956\n",
      "436\n"
     ]
    },
    {
     "data": {
      "application/vnd.jupyter.widget-view+json": {
       "model_id": "da368188aa294a7682522050d138c376",
       "version_major": 2,
       "version_minor": 0
      },
      "text/plain": [
       "HBox(children=(VBox(children=(IntProgress(value=0, max=1000), HTML(value=''))), Box(children=(HTML(value=''),)…"
      ]
     },
     "metadata": {},
     "output_type": "display_data"
    },
    {
     "name": "stdout",
     "output_type": "stream",
     "text": [
      "Optimization restart 1/10, f = 193.2055007232002\n",
      "Optimization restart 2/10, f = 193.20550072955203\n",
      "Optimization restart 3/10, f = 193.20550072780705\n",
      "Optimization restart 4/10, f = 193.20550072475743\n",
      "Optimization restart 5/10, f = 193.20550072267034\n",
      "Optimization restart 6/10, f = 193.20550072257538\n",
      "Optimization restart 7/10, f = 193.20550072918763\n",
      "Optimization restart 8/10, f = 193.20550072264058\n",
      "Optimization restart 9/10, f = 193.20550072356406\n",
      "Optimization restart 10/10, f = 193.20550072275174\n",
      "437\n"
     ]
    },
    {
     "data": {
      "application/vnd.jupyter.widget-view+json": {
       "model_id": "6ea9f596928249fcbc55bce793c9afea",
       "version_major": 2,
       "version_minor": 0
      },
      "text/plain": [
       "HBox(children=(VBox(children=(IntProgress(value=0, max=1000), HTML(value=''))), Box(children=(HTML(value=''),)…"
      ]
     },
     "metadata": {},
     "output_type": "display_data"
    },
    {
     "name": "stdout",
     "output_type": "stream",
     "text": [
      "Optimization restart 1/10, f = 4.469819266349873\n",
      "Optimization restart 2/10, f = 4.469819266335932\n",
      "Optimization restart 3/10, f = 4.469819266361199\n",
      "Optimization restart 4/10, f = 4.469819266412564\n",
      "Optimization restart 5/10, f = 4.469819266326567\n",
      "Optimization restart 6/10, f = 4.469819266396662\n",
      "Optimization restart 7/10, f = 4.469819266354591\n",
      "Optimization restart 8/10, f = 4.469819266331818\n",
      "Optimization restart 9/10, f = 4.469819267133062\n",
      "Optimization restart 10/10, f = 4.469819267851861\n",
      "438\n"
     ]
    },
    {
     "data": {
      "application/vnd.jupyter.widget-view+json": {
       "model_id": "3452e39fb6bc46fdb7301aa2aec12ff1",
       "version_major": 2,
       "version_minor": 0
      },
      "text/plain": [
       "HBox(children=(VBox(children=(IntProgress(value=0, max=1000), HTML(value=''))), Box(children=(HTML(value=''),)…"
      ]
     },
     "metadata": {},
     "output_type": "display_data"
    },
    {
     "name": "stdout",
     "output_type": "stream",
     "text": [
      "Optimization restart 1/10, f = -142.06805093322558\n",
      "Optimization restart 2/10, f = -142.0680509197868\n",
      "Optimization restart 3/10, f = -142.06805093342612\n",
      "Optimization restart 4/10, f = -142.068050933442\n",
      "Optimization restart 5/10, f = -142.06805093337832\n",
      "Optimization restart 6/10, f = -142.0680509330158\n",
      "Optimization restart 7/10, f = -142.06805093253715\n",
      "Optimization restart 8/10, f = -142.06805093316586\n",
      "Optimization restart 9/10, f = -142.06805093257725\n",
      "Optimization restart 10/10, f = -142.06805093116662\n",
      "439\n"
     ]
    },
    {
     "data": {
      "application/vnd.jupyter.widget-view+json": {
       "model_id": "8958656a3e36423ab33ead5ca0b7c8a0",
       "version_major": 2,
       "version_minor": 0
      },
      "text/plain": [
       "HBox(children=(VBox(children=(IntProgress(value=0, max=1000), HTML(value=''))), Box(children=(HTML(value=''),)…"
      ]
     },
     "metadata": {},
     "output_type": "display_data"
    },
    {
     "name": "stdout",
     "output_type": "stream",
     "text": [
      "Optimization restart 1/10, f = 88.99205985921276\n",
      "Optimization restart 2/10, f = 88.9920598615791\n",
      "Optimization restart 3/10, f = 88.9920598609404\n",
      "Optimization restart 4/10, f = 88.99205986138372\n",
      "Optimization restart 5/10, f = 88.99205985914074\n",
      "Optimization restart 6/10, f = 88.99205985915333\n",
      "Optimization restart 7/10, f = 88.99205985914364\n",
      "Optimization restart 8/10, f = 88.99205986810941\n",
      "Optimization restart 9/10, f = 88.99205987592228\n",
      "Optimization restart 10/10, f = 88.99205985984264\n",
      "440\n"
     ]
    },
    {
     "data": {
      "application/vnd.jupyter.widget-view+json": {
       "model_id": "46455133f5394fdf955f1d1aa05eaa56",
       "version_major": 2,
       "version_minor": 0
      },
      "text/plain": [
       "HBox(children=(VBox(children=(IntProgress(value=0, max=1000), HTML(value=''))), Box(children=(HTML(value=''),)…"
      ]
     },
     "metadata": {},
     "output_type": "display_data"
    },
    {
     "name": "stdout",
     "output_type": "stream",
     "text": [
      "Optimization restart 1/10, f = 186.63451528484194\n",
      "Optimization restart 2/10, f = 186.63451528497436\n",
      "Optimization restart 3/10, f = 186.63451528486306\n",
      "Optimization restart 4/10, f = 186.63451528545318\n",
      "Optimization restart 5/10, f = 186.63451548973586\n",
      "Optimization restart 6/10, f = 186.6345152865304\n",
      "Optimization restart 7/10, f = 186.63451529546785\n",
      "Optimization restart 8/10, f = 186.63451528583215\n",
      "Optimization restart 9/10, f = 186.63451530209036\n",
      "Optimization restart 10/10, f = 186.63451528710556\n",
      "441\n"
     ]
    },
    {
     "data": {
      "application/vnd.jupyter.widget-view+json": {
       "model_id": "074022ef9afa4a4fb8d82425dc75ab9e",
       "version_major": 2,
       "version_minor": 0
      },
      "text/plain": [
       "HBox(children=(VBox(children=(IntProgress(value=0, max=1000), HTML(value=''))), Box(children=(HTML(value=''),)…"
      ]
     },
     "metadata": {},
     "output_type": "display_data"
    },
    {
     "name": "stdout",
     "output_type": "stream",
     "text": [
      "Optimization restart 1/10, f = 422.3339497499558\n",
      "Optimization restart 2/10, f = 422.3339497881967\n",
      "Optimization restart 3/10, f = 422.33394970972455\n",
      "Optimization restart 4/10, f = 422.3339497097494\n",
      "Optimization restart 5/10, f = 422.3339497099137\n",
      "Optimization restart 6/10, f = 422.3339498050302\n",
      "Optimization restart 7/10, f = 422.3339497097221\n",
      "Optimization restart 8/10, f = 422.33394975904366\n",
      "Optimization restart 9/10, f = 422.3339497099893\n",
      "Optimization restart 10/10, f = 422.33394971583994\n",
      "442\n"
     ]
    },
    {
     "data": {
      "application/vnd.jupyter.widget-view+json": {
       "model_id": "0939ba13956347f4ad4879ec3ecf9ac1",
       "version_major": 2,
       "version_minor": 0
      },
      "text/plain": [
       "HBox(children=(VBox(children=(IntProgress(value=0, max=1000), HTML(value=''))), Box(children=(HTML(value=''),)…"
      ]
     },
     "metadata": {},
     "output_type": "display_data"
    },
    {
     "name": "stdout",
     "output_type": "stream",
     "text": [
      "Optimization restart 1/10, f = 85.57799882401235\n",
      "Optimization restart 2/10, f = 85.57799882401088\n",
      "Optimization restart 3/10, f = 85.57799883065914\n",
      "Optimization restart 4/10, f = 85.57799882400697\n",
      "Optimization restart 5/10, f = 85.57799883053288\n",
      "Optimization restart 6/10, f = 85.57799882418492\n",
      "Optimization restart 7/10, f = 85.57799882401173\n",
      "Optimization restart 8/10, f = 85.57799882501372\n",
      "Optimization restart 9/10, f = 85.57799883318532\n",
      "Optimization restart 10/10, f = 85.57799882529268\n",
      "443\n",
      "could not train the model for df BR_0001381\n",
      "444\n"
     ]
    },
    {
     "data": {
      "application/vnd.jupyter.widget-view+json": {
       "model_id": "f9b2bc68d6cf4aa490b6c5bfb36a13df",
       "version_major": 2,
       "version_minor": 0
      },
      "text/plain": [
       "HBox(children=(VBox(children=(IntProgress(value=0, max=1000), HTML(value=''))), Box(children=(HTML(value=''),)…"
      ]
     },
     "metadata": {},
     "output_type": "display_data"
    },
    {
     "name": "stdout",
     "output_type": "stream",
     "text": [
      "Optimization restart 1/10, f = 165.74964828264626\n",
      "Optimization restart 2/10, f = 165.74964828043534\n",
      "Optimization restart 3/10, f = 165.74964828044003\n",
      "Optimization restart 4/10, f = 165.7496483170209\n",
      "Optimization restart 5/10, f = 165.74964828364938\n",
      "Optimization restart 6/10, f = 165.74964828114406\n",
      "Optimization restart 7/10, f = 165.74964828258055\n",
      "Optimization restart 8/10, f = 165.74964828328206\n",
      "Optimization restart 9/10, f = 165.74964828789012\n",
      "Optimization restart 10/10, f = 165.7496482807622\n",
      "445\n"
     ]
    },
    {
     "data": {
      "application/vnd.jupyter.widget-view+json": {
       "model_id": "158bddaf190a4e399b7055ce22739dd7",
       "version_major": 2,
       "version_minor": 0
      },
      "text/plain": [
       "HBox(children=(VBox(children=(IntProgress(value=0, max=1000), HTML(value=''))), Box(children=(HTML(value=''),)…"
      ]
     },
     "metadata": {},
     "output_type": "display_data"
    },
    {
     "name": "stdout",
     "output_type": "stream",
     "text": [
      "Optimization restart 1/10, f = 338.8827250072097\n",
      "Optimization restart 2/10, f = 338.8827249883302\n",
      "Optimization restart 3/10, f = 338.8827250496537\n",
      "Optimization restart 4/10, f = 338.8827250771962\n",
      "Optimization restart 5/10, f = 338.8827249883399\n",
      "Optimization restart 6/10, f = 338.88272498949823\n",
      "Optimization restart 7/10, f = 338.88272499074424\n",
      "Optimization restart 8/10, f = 338.88272500162554\n",
      "Optimization restart 9/10, f = 338.8827251298704\n",
      "Optimization restart 10/10, f = 338.8827249898857\n",
      "446\n"
     ]
    },
    {
     "data": {
      "application/vnd.jupyter.widget-view+json": {
       "model_id": "68e22e63ce684d33861bb95e337a62b9",
       "version_major": 2,
       "version_minor": 0
      },
      "text/plain": [
       "HBox(children=(VBox(children=(IntProgress(value=0, max=1000), HTML(value=''))), Box(children=(HTML(value=''),)…"
      ]
     },
     "metadata": {},
     "output_type": "display_data"
    },
    {
     "name": "stdout",
     "output_type": "stream",
     "text": [
      "Optimization restart 1/10, f = 6.973557302299355\n",
      "Optimization restart 2/10, f = 6.973557303393514\n",
      "Optimization restart 3/10, f = 6.973557302330279\n",
      "Optimization restart 4/10, f = 6.97355730288559\n",
      "Optimization restart 5/10, f = 6.973557302539994\n",
      "Optimization restart 6/10, f = 6.973557302293115\n",
      "Optimization restart 7/10, f = 6.973557302330876\n",
      "Optimization restart 8/10, f = 6.973557302310357\n",
      "Optimization restart 9/10, f = 6.97355730229239\n",
      "Optimization restart 10/10, f = 6.973557302384591\n",
      "447\n"
     ]
    },
    {
     "data": {
      "application/vnd.jupyter.widget-view+json": {
       "model_id": "74ce9fee942d425484adc54f5ba41702",
       "version_major": 2,
       "version_minor": 0
      },
      "text/plain": [
       "HBox(children=(VBox(children=(IntProgress(value=0, max=1000), HTML(value=''))), Box(children=(HTML(value=''),)…"
      ]
     },
     "metadata": {},
     "output_type": "display_data"
    },
    {
     "name": "stdout",
     "output_type": "stream",
     "text": [
      "Optimization restart 1/10, f = 2.699824411770949\n",
      "Optimization restart 2/10, f = 2.699823264698798\n",
      "Optimization restart 3/10, f = 2.6998234380951103\n",
      "Optimization restart 4/10, f = 2.6998232352462277\n",
      "Optimization restart 5/10, f = 2.6998232704426313\n",
      "Optimization restart 6/10, f = 2.6998241145084427\n",
      "Optimization restart 7/10, f = 2.699823463194871\n",
      "Optimization restart 8/10, f = 2.6998232218919607\n",
      "Optimization restart 9/10, f = 2.6998232282430066\n",
      "Optimization restart 10/10, f = 2.6998235329747\n",
      "448\n"
     ]
    },
    {
     "data": {
      "application/vnd.jupyter.widget-view+json": {
       "model_id": "7ec9764b146740dea4cf17ccc758f37d",
       "version_major": 2,
       "version_minor": 0
      },
      "text/plain": [
       "HBox(children=(VBox(children=(IntProgress(value=0, max=1000), HTML(value=''))), Box(children=(HTML(value=''),)…"
      ]
     },
     "metadata": {},
     "output_type": "display_data"
    },
    {
     "name": "stdout",
     "output_type": "stream",
     "text": [
      "Optimization restart 1/10, f = 303.5404183706282\n",
      "Optimization restart 2/10, f = 303.5404183702047\n",
      "Optimization restart 3/10, f = 303.5404183704752\n",
      "Optimization restart 4/10, f = 303.5404183704642\n",
      "Optimization restart 5/10, f = 303.5404183747362\n",
      "Optimization restart 6/10, f = 303.54041837207876\n",
      "Optimization restart 7/10, f = 303.54041839746566\n",
      "Optimization restart 8/10, f = 303.5404183702112\n",
      "Optimization restart 9/10, f = 303.5404183708904\n",
      "Optimization restart 10/10, f = 303.54041839275976\n",
      "449\n"
     ]
    },
    {
     "data": {
      "application/vnd.jupyter.widget-view+json": {
       "model_id": "1f01ddfdf7964e9cbc543c3a2255f086",
       "version_major": 2,
       "version_minor": 0
      },
      "text/plain": [
       "HBox(children=(VBox(children=(IntProgress(value=0, max=1000), HTML(value=''))), Box(children=(HTML(value=''),)…"
      ]
     },
     "metadata": {},
     "output_type": "display_data"
    },
    {
     "name": "stdout",
     "output_type": "stream",
     "text": [
      "Optimization restart 1/10, f = 81.79366937808896\n",
      "Optimization restart 2/10, f = 81.79366938174056\n",
      "Optimization restart 3/10, f = 81.79366940569543\n",
      "Optimization restart 4/10, f = 81.79366944199003\n",
      "Optimization restart 5/10, f = 81.79366937936949\n",
      "Optimization restart 6/10, f = 81.79366938267577\n",
      "Optimization restart 7/10, f = 81.79366956575727\n",
      "Optimization restart 8/10, f = 81.7936693780642\n",
      "Optimization restart 9/10, f = 81.79366937817628\n",
      "Optimization restart 10/10, f = 81.79366937808143\n",
      "450\n"
     ]
    },
    {
     "data": {
      "application/vnd.jupyter.widget-view+json": {
       "model_id": "2c002f749a9d49bc9494aef20cd0647f",
       "version_major": 2,
       "version_minor": 0
      },
      "text/plain": [
       "HBox(children=(VBox(children=(IntProgress(value=0, max=1000), HTML(value=''))), Box(children=(HTML(value=''),)…"
      ]
     },
     "metadata": {},
     "output_type": "display_data"
    },
    {
     "name": "stdout",
     "output_type": "stream",
     "text": [
      "Optimization restart 1/10, f = 4.283129852786762\n",
      "Optimization restart 2/10, f = 4.283129852662083\n",
      "Optimization restart 3/10, f = 4.283129852739739\n",
      "Optimization restart 4/10, f = 4.2831298526577095\n",
      "Optimization restart 5/10, f = 4.283129852659224\n",
      "Optimization restart 6/10, f = 4.28312985272314\n",
      "Optimization restart 7/10, f = 4.283129852666516\n",
      "Optimization restart 8/10, f = 4.283129856949091\n",
      "Optimization restart 9/10, f = 4.283129852657793\n",
      "Optimization restart 10/10, f = 4.283129852657549\n",
      "451\n"
     ]
    },
    {
     "data": {
      "application/vnd.jupyter.widget-view+json": {
       "model_id": "8b59cfbb24ce445385d4b5fe07dec803",
       "version_major": 2,
       "version_minor": 0
      },
      "text/plain": [
       "HBox(children=(VBox(children=(IntProgress(value=0, max=1000), HTML(value=''))), Box(children=(HTML(value=''),)…"
      ]
     },
     "metadata": {},
     "output_type": "display_data"
    },
    {
     "name": "stdout",
     "output_type": "stream",
     "text": [
      "Optimization restart 1/10, f = 94.76103865288081\n",
      "Optimization restart 2/10, f = 94.76103864739179\n",
      "Optimization restart 3/10, f = 94.7610386473586\n",
      "Optimization restart 4/10, f = 94.76103865002057\n",
      "Optimization restart 5/10, f = 94.76103867264825\n",
      "Optimization restart 6/10, f = 94.76103866498998\n",
      "Optimization restart 7/10, f = 94.76103865184164\n",
      "Optimization restart 8/10, f = 94.76103864726481\n",
      "Optimization restart 9/10, f = 94.76103864731874\n",
      "Optimization restart 10/10, f = 94.761038652103\n",
      "452\n"
     ]
    },
    {
     "data": {
      "application/vnd.jupyter.widget-view+json": {
       "model_id": "a3dd3d0bc8b847cc9b0570dad3d2ae11",
       "version_major": 2,
       "version_minor": 0
      },
      "text/plain": [
       "HBox(children=(VBox(children=(IntProgress(value=0, max=1000), HTML(value=''))), Box(children=(HTML(value=''),)…"
      ]
     },
     "metadata": {},
     "output_type": "display_data"
    },
    {
     "name": "stdout",
     "output_type": "stream",
     "text": [
      "Optimization restart 1/10, f = 115.33486779780463\n",
      "Optimization restart 2/10, f = 115.33486766660553\n",
      "Optimization restart 3/10, f = 115.33486767254135\n",
      "Optimization restart 4/10, f = 115.3348676665646\n",
      "Optimization restart 5/10, f = 115.3348676665363\n",
      "Optimization restart 6/10, f = 115.33486766654255\n",
      "Optimization restart 7/10, f = 115.33486766781874\n",
      "Optimization restart 8/10, f = 115.33486784350794\n",
      "Optimization restart 9/10, f = 115.33486766748777\n",
      "Optimization restart 10/10, f = 115.33486766665104\n",
      "453\n"
     ]
    },
    {
     "data": {
      "application/vnd.jupyter.widget-view+json": {
       "model_id": "7816768c6ce34e0faff4df82dbbb9740",
       "version_major": 2,
       "version_minor": 0
      },
      "text/plain": [
       "HBox(children=(VBox(children=(IntProgress(value=0, max=1000), HTML(value=''))), Box(children=(HTML(value=''),)…"
      ]
     },
     "metadata": {},
     "output_type": "display_data"
    },
    {
     "name": "stdout",
     "output_type": "stream",
     "text": [
      "Optimization restart 1/10, f = 61.18195970188841\n",
      "Optimization restart 2/10, f = 61.18195970192755\n",
      "Optimization restart 3/10, f = 61.181959701835254\n",
      "Optimization restart 4/10, f = 61.18195970187871\n",
      "Optimization restart 5/10, f = 61.18195970183745\n",
      "Optimization restart 6/10, f = 61.18195970183341\n",
      "Optimization restart 7/10, f = 61.18195970183414\n",
      "Optimization restart 8/10, f = 61.181959702433645\n",
      "Optimization restart 9/10, f = 61.18195970248766\n",
      "Optimization restart 10/10, f = 61.181959780751725\n",
      "454\n",
      "could not train the model for df BR_0002272\n",
      "455\n"
     ]
    },
    {
     "data": {
      "application/vnd.jupyter.widget-view+json": {
       "model_id": "47b914e9e9cd469a803e59de238d9ecc",
       "version_major": 2,
       "version_minor": 0
      },
      "text/plain": [
       "HBox(children=(VBox(children=(IntProgress(value=0, max=1000), HTML(value=''))), Box(children=(HTML(value=''),)…"
      ]
     },
     "metadata": {},
     "output_type": "display_data"
    },
    {
     "name": "stdout",
     "output_type": "stream",
     "text": [
      "Optimization restart 1/10, f = 311.91862704235604\n",
      "Optimization restart 2/10, f = 311.91862708468244\n",
      "Optimization restart 3/10, f = 311.9186270644363\n",
      "Optimization restart 4/10, f = 311.9186270386226\n",
      "Optimization restart 5/10, f = 311.9186270395034\n",
      "Optimization restart 6/10, f = 311.9186270385933\n",
      "Optimization restart 7/10, f = 311.918627048286\n",
      "Optimization restart 8/10, f = 311.91862704150293\n",
      "Optimization restart 9/10, f = 311.91862703872135\n",
      "Optimization restart 10/10, f = 311.9186270386118\n",
      "456\n"
     ]
    },
    {
     "data": {
      "application/vnd.jupyter.widget-view+json": {
       "model_id": "12bb3b4ec3164ac89691c7642c7a7b4b",
       "version_major": 2,
       "version_minor": 0
      },
      "text/plain": [
       "HBox(children=(VBox(children=(IntProgress(value=0, max=1000), HTML(value=''))), Box(children=(HTML(value=''),)…"
      ]
     },
     "metadata": {},
     "output_type": "display_data"
    },
    {
     "name": "stdout",
     "output_type": "stream",
     "text": [
      "Optimization restart 1/10, f = 26.399306353571138\n",
      "Optimization restart 2/10, f = 26.399306353508255\n",
      "Optimization restart 3/10, f = 26.39930635342532\n",
      "Optimization restart 4/10, f = 26.39930635343825\n",
      "Optimization restart 5/10, f = 26.399306353499888\n",
      "Optimization restart 6/10, f = 26.399306353427058\n",
      "Optimization restart 7/10, f = 26.399306353533245\n",
      "Optimization restart 8/10, f = 26.39930635367216\n",
      "Optimization restart 9/10, f = 26.39930635346965\n",
      "Optimization restart 10/10, f = 26.399306353427633\n",
      "457\n"
     ]
    },
    {
     "data": {
      "application/vnd.jupyter.widget-view+json": {
       "model_id": "0c3846d358ad4c71aefd2e8b3e9e3f28",
       "version_major": 2,
       "version_minor": 0
      },
      "text/plain": [
       "HBox(children=(VBox(children=(IntProgress(value=0, max=1000), HTML(value=''))), Box(children=(HTML(value=''),)…"
      ]
     },
     "metadata": {},
     "output_type": "display_data"
    },
    {
     "name": "stdout",
     "output_type": "stream",
     "text": [
      "Optimization restart 1/10, f = 20.728560313377937\n",
      "Optimization restart 2/10, f = 20.728560314976118\n",
      "Optimization restart 3/10, f = 20.728560313239925\n",
      "Optimization restart 4/10, f = 20.728560313257056\n",
      "Optimization restart 5/10, f = 20.728560313472336\n",
      "Optimization restart 6/10, f = 20.72856031324021\n",
      "Optimization restart 7/10, f = 20.728560313241637\n",
      "Optimization restart 8/10, f = 20.72856031324044\n",
      "Optimization restart 9/10, f = 20.728560313262967\n",
      "Optimization restart 10/10, f = 20.728560313905998\n",
      "458\n"
     ]
    },
    {
     "data": {
      "application/vnd.jupyter.widget-view+json": {
       "model_id": "39f9b012d8154369bfd110f6feec670a",
       "version_major": 2,
       "version_minor": 0
      },
      "text/plain": [
       "HBox(children=(VBox(children=(IntProgress(value=0, max=1000), HTML(value=''))), Box(children=(HTML(value=''),)…"
      ]
     },
     "metadata": {},
     "output_type": "display_data"
    },
    {
     "name": "stdout",
     "output_type": "stream",
     "text": [
      "Optimization restart 1/10, f = 15.32550127872662\n",
      "Optimization restart 2/10, f = 15.325501276556636\n",
      "Optimization restart 3/10, f = 15.325501275622884\n",
      "Optimization restart 4/10, f = 15.325501275622635\n",
      "Optimization restart 5/10, f = 15.32550127562294\n",
      "Optimization restart 6/10, f = 15.32550127562498\n",
      "Optimization restart 7/10, f = 15.325501275622791\n",
      "Optimization restart 8/10, f = 15.325501275633052\n",
      "Optimization restart 9/10, f = 15.325501275622486\n",
      "Optimization restart 10/10, f = 15.325501275622415\n",
      "459\n"
     ]
    },
    {
     "data": {
      "application/vnd.jupyter.widget-view+json": {
       "model_id": "ae660451ec6a45ad8e68b4ba1a3f4d3c",
       "version_major": 2,
       "version_minor": 0
      },
      "text/plain": [
       "HBox(children=(VBox(children=(IntProgress(value=0, max=1000), HTML(value=''))), Box(children=(HTML(value=''),)…"
      ]
     },
     "metadata": {},
     "output_type": "display_data"
    },
    {
     "name": "stdout",
     "output_type": "stream",
     "text": [
      "Optimization restart 1/10, f = 12.922896195591164\n",
      "Optimization restart 2/10, f = 12.922896195445217\n",
      "Optimization restart 3/10, f = 12.92289619554547\n",
      "Optimization restart 4/10, f = 12.922896195882258\n",
      "Optimization restart 5/10, f = 12.922896195457097\n",
      "Optimization restart 6/10, f = 12.92289619547082\n",
      "Optimization restart 7/10, f = 12.922896195443318\n",
      "Optimization restart 8/10, f = 12.922896195838055\n",
      "Optimization restart 9/10, f = 12.922896195449809\n",
      "Optimization restart 10/10, f = 12.922896195711699\n",
      "460\n"
     ]
    },
    {
     "data": {
      "application/vnd.jupyter.widget-view+json": {
       "model_id": "6236acbe45f6429483c597acee8c6529",
       "version_major": 2,
       "version_minor": 0
      },
      "text/plain": [
       "HBox(children=(VBox(children=(IntProgress(value=0, max=1000), HTML(value=''))), Box(children=(HTML(value=''),)…"
      ]
     },
     "metadata": {},
     "output_type": "display_data"
    },
    {
     "name": "stdout",
     "output_type": "stream",
     "text": [
      "Optimization restart 1/10, f = 252.0890963988388\n",
      "Optimization restart 2/10, f = 252.08909620372145\n",
      "Optimization restart 3/10, f = 252.08909620445147\n",
      "Optimization restart 4/10, f = 252.08909621465762\n",
      "Optimization restart 5/10, f = 252.08909626204303\n",
      "Optimization restart 6/10, f = 252.08909620990153\n",
      "Optimization restart 7/10, f = 252.08909643293254\n",
      "Optimization restart 8/10, f = 252.08909620654052\n",
      "Optimization restart 9/10, f = 252.0890962040347\n",
      "Optimization restart 10/10, f = 252.08909620753371\n",
      "461\n"
     ]
    },
    {
     "data": {
      "application/vnd.jupyter.widget-view+json": {
       "model_id": "394b62657dea4e369c2140c7ee18e176",
       "version_major": 2,
       "version_minor": 0
      },
      "text/plain": [
       "HBox(children=(VBox(children=(IntProgress(value=0, max=1000), HTML(value=''))), Box(children=(HTML(value=''),)…"
      ]
     },
     "metadata": {},
     "output_type": "display_data"
    },
    {
     "name": "stdout",
     "output_type": "stream",
     "text": [
      "Optimization restart 1/10, f = 185.215813927861\n",
      "Optimization restart 2/10, f = 185.2158139271598\n",
      "Optimization restart 3/10, f = 185.2158139300533\n",
      "Optimization restart 4/10, f = 185.21581392797594\n",
      "Optimization restart 5/10, f = 185.21581392737244\n",
      "Optimization restart 6/10, f = 185.21581392804472\n",
      "Optimization restart 7/10, f = 185.2158139272746\n",
      "Optimization restart 8/10, f = 185.21581393120493\n",
      "Optimization restart 9/10, f = 185.21581393215916\n",
      "Optimization restart 10/10, f = 185.2158139400305\n",
      "462\n"
     ]
    },
    {
     "data": {
      "application/vnd.jupyter.widget-view+json": {
       "model_id": "1ec04734f7344b2b81fbed31a455e8b7",
       "version_major": 2,
       "version_minor": 0
      },
      "text/plain": [
       "HBox(children=(VBox(children=(IntProgress(value=0, max=1000), HTML(value=''))), Box(children=(HTML(value=''),)…"
      ]
     },
     "metadata": {},
     "output_type": "display_data"
    },
    {
     "name": "stdout",
     "output_type": "stream",
     "text": [
      "Optimization restart 1/10, f = 89.40205663958226\n",
      "Optimization restart 2/10, f = 89.40205663185868\n",
      "Optimization restart 3/10, f = 89.40205663796544\n",
      "Optimization restart 4/10, f = 89.40205663620625\n",
      "Optimization restart 5/10, f = 89.40205663826083\n",
      "Optimization restart 6/10, f = 89.4020566315794\n",
      "Optimization restart 7/10, f = 89.40205663176332\n",
      "Optimization restart 8/10, f = 89.40205663153085\n",
      "Optimization restart 9/10, f = 89.40205663639279\n",
      "Optimization restart 10/10, f = 89.40205663329672\n",
      "463\n",
      "could not train the model for df BR_0002819\n",
      "464\n"
     ]
    },
    {
     "data": {
      "application/vnd.jupyter.widget-view+json": {
       "model_id": "aaa9789618804a8ba617a6a28ae6aeeb",
       "version_major": 2,
       "version_minor": 0
      },
      "text/plain": [
       "HBox(children=(VBox(children=(IntProgress(value=0, max=1000), HTML(value=''))), Box(children=(HTML(value=''),)…"
      ]
     },
     "metadata": {},
     "output_type": "display_data"
    },
    {
     "name": "stdout",
     "output_type": "stream",
     "text": [
      "Optimization restart 1/10, f = 248.96700699131713\n",
      "Optimization restart 2/10, f = 248.9670069915493\n",
      "Optimization restart 3/10, f = 248.96700699205235\n",
      "Optimization restart 4/10, f = 248.9670069919306\n",
      "Optimization restart 5/10, f = 248.96700700160062\n",
      "Optimization restart 6/10, f = 248.96700699159837\n",
      "Optimization restart 7/10, f = 248.96700699128695\n",
      "Optimization restart 8/10, f = 248.96700699132887\n",
      "Optimization restart 9/10, f = 248.96700699200647\n",
      "Optimization restart 10/10, f = 248.96700699133018\n",
      "465\n"
     ]
    },
    {
     "data": {
      "application/vnd.jupyter.widget-view+json": {
       "model_id": "005c9e4b91864d05acf93570add0dd6b",
       "version_major": 2,
       "version_minor": 0
      },
      "text/plain": [
       "HBox(children=(VBox(children=(IntProgress(value=0, max=1000), HTML(value=''))), Box(children=(HTML(value=''),)…"
      ]
     },
     "metadata": {},
     "output_type": "display_data"
    },
    {
     "name": "stdout",
     "output_type": "stream",
     "text": [
      "Optimization restart 1/10, f = 87.58438071592508\n",
      "Optimization restart 2/10, f = 87.58438047948539\n",
      "Optimization restart 3/10, f = 87.5843804329212\n",
      "Optimization restart 4/10, f = 87.58438043626757\n",
      "Optimization restart 5/10, f = 87.58438044204294\n",
      "Optimization restart 6/10, f = 87.58438043386298\n",
      "Optimization restart 7/10, f = 87.58438043282086\n",
      "Optimization restart 8/10, f = 87.58438043280916\n",
      "Optimization restart 9/10, f = 87.58438043327845\n",
      "Optimization restart 10/10, f = 87.58438043593122\n",
      "466\n"
     ]
    },
    {
     "data": {
      "application/vnd.jupyter.widget-view+json": {
       "model_id": "25ce880f34fb4f73809aeff0dc43e204",
       "version_major": 2,
       "version_minor": 0
      },
      "text/plain": [
       "HBox(children=(VBox(children=(IntProgress(value=0, max=1000), HTML(value=''))), Box(children=(HTML(value=''),)…"
      ]
     },
     "metadata": {},
     "output_type": "display_data"
    },
    {
     "name": "stdout",
     "output_type": "stream",
     "text": [
      "Optimization restart 1/10, f = 28.86447434959201\n",
      "Optimization restart 2/10, f = 28.864474349192847\n",
      "Optimization restart 3/10, f = 28.864474349565917\n",
      "Optimization restart 4/10, f = 28.864474349365793\n",
      "Optimization restart 5/10, f = 28.86447437178115\n",
      "Optimization restart 6/10, f = 28.864474349048827\n",
      "Optimization restart 7/10, f = 28.864474349035284\n",
      "Optimization restart 8/10, f = 28.864474350006375\n",
      "Optimization restart 9/10, f = 28.864474349047974\n",
      "Optimization restart 10/10, f = 28.864474349205974\n",
      "467\n"
     ]
    },
    {
     "data": {
      "application/vnd.jupyter.widget-view+json": {
       "model_id": "8fd7263592494efe84832368cc50345f",
       "version_major": 2,
       "version_minor": 0
      },
      "text/plain": [
       "HBox(children=(VBox(children=(IntProgress(value=0, max=1000), HTML(value=''))), Box(children=(HTML(value=''),)…"
      ]
     },
     "metadata": {},
     "output_type": "display_data"
    },
    {
     "name": "stdout",
     "output_type": "stream",
     "text": [
      "Optimization restart 1/10, f = 121.86292813965755\n",
      "Optimization restart 2/10, f = 121.86292813956047\n",
      "Optimization restart 3/10, f = 121.8629281393873\n",
      "Optimization restart 4/10, f = 121.86292815169244\n",
      "Optimization restart 5/10, f = 121.86292813929967\n",
      "Optimization restart 6/10, f = 121.86292816462324\n",
      "Optimization restart 7/10, f = 121.8629281393917\n",
      "Optimization restart 8/10, f = 121.8629281536505\n",
      "Optimization restart 9/10, f = 121.86292813929147\n",
      "Optimization restart 10/10, f = 121.86292814102721\n",
      "468\n"
     ]
    },
    {
     "data": {
      "application/vnd.jupyter.widget-view+json": {
       "model_id": "5cea108c97fd468f91176aecf0235513",
       "version_major": 2,
       "version_minor": 0
      },
      "text/plain": [
       "HBox(children=(VBox(children=(IntProgress(value=0, max=1000), HTML(value=''))), Box(children=(HTML(value=''),)…"
      ]
     },
     "metadata": {},
     "output_type": "display_data"
    },
    {
     "name": "stdout",
     "output_type": "stream",
     "text": [
      "Optimization restart 1/10, f = 274.60093154249745\n",
      "Optimization restart 2/10, f = 274.600931703736\n",
      "Optimization restart 3/10, f = 274.600931693644\n",
      "Optimization restart 4/10, f = 274.600931542373\n",
      "Optimization restart 5/10, f = 274.6009315428371\n",
      "Optimization restart 6/10, f = 274.60093154569404\n",
      "Optimization restart 7/10, f = 274.6009315423565\n",
      "Optimization restart 8/10, f = 274.60093154908634\n",
      "Optimization restart 9/10, f = 274.6009315645822\n",
      "Optimization restart 10/10, f = 274.6009315508295\n",
      "469\n"
     ]
    },
    {
     "data": {
      "application/vnd.jupyter.widget-view+json": {
       "model_id": "42ac0f63c2f24fc08eda51a58f594b61",
       "version_major": 2,
       "version_minor": 0
      },
      "text/plain": [
       "HBox(children=(VBox(children=(IntProgress(value=0, max=1000), HTML(value=''))), Box(children=(HTML(value=''),)…"
      ]
     },
     "metadata": {},
     "output_type": "display_data"
    },
    {
     "name": "stdout",
     "output_type": "stream",
     "text": [
      "Optimization restart 1/10, f = 156.08998742494498\n",
      "Optimization restart 2/10, f = 156.0899874216907\n",
      "Optimization restart 3/10, f = 156.0899874222968\n",
      "Optimization restart 4/10, f = 156.0899874222099\n",
      "Optimization restart 5/10, f = 156.08998742324906\n",
      "Optimization restart 6/10, f = 156.08998742169155\n",
      "Optimization restart 7/10, f = 156.08998747837805\n",
      "Optimization restart 8/10, f = 156.0899874237461\n",
      "Optimization restart 9/10, f = 156.08998742208666\n",
      "Optimization restart 10/10, f = 156.08998742879834\n",
      "470\n"
     ]
    },
    {
     "data": {
      "application/vnd.jupyter.widget-view+json": {
       "model_id": "57a1d20edaf54f80b6ca5949405070a3",
       "version_major": 2,
       "version_minor": 0
      },
      "text/plain": [
       "HBox(children=(VBox(children=(IntProgress(value=0, max=1000), HTML(value=''))), Box(children=(HTML(value=''),)…"
      ]
     },
     "metadata": {},
     "output_type": "display_data"
    },
    {
     "name": "stdout",
     "output_type": "stream",
     "text": [
      "Optimization restart 1/10, f = 152.22282141531517\n",
      "Optimization restart 2/10, f = 152.22282141543724\n",
      "Optimization restart 3/10, f = 152.22282141551275\n",
      "Optimization restart 4/10, f = 152.22282141629785\n",
      "Optimization restart 5/10, f = 152.22282141558287\n",
      "Optimization restart 6/10, f = 152.22282141724997\n",
      "Optimization restart 7/10, f = 152.2228215174958\n",
      "Optimization restart 8/10, f = 152.22282142021965\n",
      "Optimization restart 9/10, f = 152.2228214193848\n",
      "Optimization restart 10/10, f = 152.2228214155237\n",
      "471\n"
     ]
    },
    {
     "data": {
      "application/vnd.jupyter.widget-view+json": {
       "model_id": "7447c2cec11e427aad2239d5669d7fdc",
       "version_major": 2,
       "version_minor": 0
      },
      "text/plain": [
       "HBox(children=(VBox(children=(IntProgress(value=0, max=1000), HTML(value=''))), Box(children=(HTML(value=''),)…"
      ]
     },
     "metadata": {},
     "output_type": "display_data"
    },
    {
     "name": "stdout",
     "output_type": "stream",
     "text": [
      "Optimization restart 1/10, f = 291.46088740672\n",
      "Optimization restart 2/10, f = 291.4608874108961\n",
      "Optimization restart 3/10, f = 291.46088741540825\n",
      "Optimization restart 4/10, f = 291.46088741450274\n",
      "Optimization restart 5/10, f = 291.4608874064555\n",
      "Optimization restart 6/10, f = 291.46088741021947\n",
      "Optimization restart 7/10, f = 291.46088801235044\n",
      "Optimization restart 8/10, f = 291.46088746127634\n",
      "Optimization restart 9/10, f = 291.46088740726276\n",
      "Optimization restart 10/10, f = 291.46088740902405\n",
      "472\n"
     ]
    },
    {
     "data": {
      "application/vnd.jupyter.widget-view+json": {
       "model_id": "ca8e90b3c2ea4d6481d43c10231b8b55",
       "version_major": 2,
       "version_minor": 0
      },
      "text/plain": [
       "HBox(children=(VBox(children=(IntProgress(value=0, max=1000), HTML(value=''))), Box(children=(HTML(value=''),)…"
      ]
     },
     "metadata": {},
     "output_type": "display_data"
    },
    {
     "name": "stdout",
     "output_type": "stream",
     "text": [
      "Optimization restart 1/10, f = 118.37456188679775\n",
      "Optimization restart 2/10, f = 118.37456217830629\n",
      "Optimization restart 3/10, f = 118.37456188419986\n",
      "Optimization restart 4/10, f = 118.37456188473622\n",
      "Optimization restart 5/10, f = 118.3745618849797\n",
      "Optimization restart 6/10, f = 118.3745618843515\n",
      "Optimization restart 7/10, f = 118.37456188433268\n",
      "Optimization restart 8/10, f = 118.37456188540887\n",
      "Optimization restart 9/10, f = 118.37456190714789\n",
      "Optimization restart 10/10, f = 118.37456188424602\n",
      "473\n"
     ]
    },
    {
     "name": "stderr",
     "output_type": "stream",
     "text": [
      " C:\\Users\\marku\\Anaconda3\\lib\\site-packages\\scipy\\stats\\mstats_basic.py:509: RuntimeWarning:invalid value encountered in true_divide\n",
      " C:\\Users\\marku\\Anaconda3\\lib\\site-packages\\scipy\\stats\\_distn_infrastructure.py:877: RuntimeWarning:invalid value encountered in greater\n",
      " C:\\Users\\marku\\Anaconda3\\lib\\site-packages\\scipy\\stats\\_distn_infrastructure.py:877: RuntimeWarning:invalid value encountered in less\n",
      " C:\\Users\\marku\\Anaconda3\\lib\\site-packages\\scipy\\stats\\_distn_infrastructure.py:1831: RuntimeWarning:invalid value encountered in less_equal\n"
     ]
    },
    {
     "name": "stdout",
     "output_type": "stream",
     "text": [
      "could not train the model for df BR_0002323\n",
      "474\n"
     ]
    },
    {
     "data": {
      "application/vnd.jupyter.widget-view+json": {
       "model_id": "3d1a8629cba74250a4a7bee93f56d072",
       "version_major": 2,
       "version_minor": 0
      },
      "text/plain": [
       "HBox(children=(VBox(children=(IntProgress(value=0, max=1000), HTML(value=''))), Box(children=(HTML(value=''),)…"
      ]
     },
     "metadata": {},
     "output_type": "display_data"
    },
    {
     "name": "stdout",
     "output_type": "stream",
     "text": [
      "Optimization restart 1/10, f = 388.1567124688081\n",
      "Optimization restart 2/10, f = 388.15671229808925\n",
      "Optimization restart 3/10, f = 388.15671229870134\n",
      "Optimization restart 4/10, f = 388.15671229875795\n",
      "Optimization restart 5/10, f = 388.15671229926187\n",
      "Optimization restart 6/10, f = 388.15671231769693\n",
      "Optimization restart 7/10, f = 388.156712298088\n",
      "Optimization restart 8/10, f = 388.1567122997956\n",
      "Optimization restart 9/10, f = 388.15671265105755\n",
      "Optimization restart 10/10, f = 388.1567123059195\n",
      "475\n",
      "could not train the model for df BR_0001435\n",
      "476\n"
     ]
    },
    {
     "data": {
      "application/vnd.jupyter.widget-view+json": {
       "model_id": "7d252cc5e884459ca1a62711247ec81c",
       "version_major": 2,
       "version_minor": 0
      },
      "text/plain": [
       "HBox(children=(VBox(children=(IntProgress(value=0, max=1000), HTML(value=''))), Box(children=(HTML(value=''),)…"
      ]
     },
     "metadata": {},
     "output_type": "display_data"
    },
    {
     "name": "stdout",
     "output_type": "stream",
     "text": [
      "Optimization restart 1/10, f = 120.99430392755394\n",
      "Optimization restart 2/10, f = 120.99430392724395\n",
      "Optimization restart 3/10, f = 120.9943039271588\n",
      "Optimization restart 4/10, f = 120.99430392814224\n",
      "Optimization restart 5/10, f = 120.99430393232993\n",
      "Optimization restart 6/10, f = 120.99430393245589\n",
      "Optimization restart 7/10, f = 120.99430392715249\n",
      "Optimization restart 8/10, f = 120.99430392718111\n",
      "Optimization restart 9/10, f = 120.99430392737534\n",
      "Optimization restart 10/10, f = 120.99430396133161\n",
      "477\n"
     ]
    },
    {
     "data": {
      "application/vnd.jupyter.widget-view+json": {
       "model_id": "4bac2c89364844fe91d660815229d49e",
       "version_major": 2,
       "version_minor": 0
      },
      "text/plain": [
       "HBox(children=(VBox(children=(IntProgress(value=0, max=1000), HTML(value=''))), Box(children=(HTML(value=''),)…"
      ]
     },
     "metadata": {},
     "output_type": "display_data"
    },
    {
     "name": "stdout",
     "output_type": "stream",
     "text": [
      "Optimization restart 1/10, f = 9.69899577415427\n",
      "Optimization restart 2/10, f = 9.698995774084608\n",
      "Optimization restart 3/10, f = 9.698995774115076\n",
      "Optimization restart 4/10, f = 9.698995774098307\n",
      "Optimization restart 5/10, f = 9.69899577507033\n",
      "Optimization restart 6/10, f = 9.698995774086143\n",
      "Optimization restart 7/10, f = 9.698995774093106\n",
      "Optimization restart 8/10, f = 9.69899577441393\n",
      "Optimization restart 9/10, f = 9.698995774126274\n",
      "Optimization restart 10/10, f = 9.698995774076025\n",
      "478\n"
     ]
    },
    {
     "data": {
      "application/vnd.jupyter.widget-view+json": {
       "model_id": "3e7ea2bedb374ee3a609fee46065545d",
       "version_major": 2,
       "version_minor": 0
      },
      "text/plain": [
       "HBox(children=(VBox(children=(IntProgress(value=0, max=1000), HTML(value=''))), Box(children=(HTML(value=''),)…"
      ]
     },
     "metadata": {},
     "output_type": "display_data"
    },
    {
     "name": "stdout",
     "output_type": "stream",
     "text": [
      "Optimization restart 1/10, f = 193.9421975950937\n",
      "Optimization restart 2/10, f = 193.94219762458704\n",
      "Optimization restart 3/10, f = 193.94219760539332\n",
      "Optimization restart 4/10, f = 193.94219761256215\n",
      "Optimization restart 5/10, f = 193.94219761308153\n",
      "Optimization restart 6/10, f = 193.9421976050151\n",
      "Optimization restart 7/10, f = 193.94219759840948\n",
      "Optimization restart 8/10, f = 193.94219759757118\n",
      "Optimization restart 9/10, f = 193.94219761523675\n",
      "Optimization restart 10/10, f = 193.94219762555667\n",
      "479\n"
     ]
    },
    {
     "data": {
      "application/vnd.jupyter.widget-view+json": {
       "model_id": "68bb6b5aef76479cb9763be383829cd9",
       "version_major": 2,
       "version_minor": 0
      },
      "text/plain": [
       "HBox(children=(VBox(children=(IntProgress(value=0, max=1000), HTML(value=''))), Box(children=(HTML(value=''),)…"
      ]
     },
     "metadata": {},
     "output_type": "display_data"
    },
    {
     "name": "stdout",
     "output_type": "stream",
     "text": [
      "Optimization restart 1/10, f = 23.431994295901717\n",
      "Optimization restart 2/10, f = 23.43199429567153\n",
      "Optimization restart 3/10, f = 23.431994295712684\n",
      "Optimization restart 4/10, f = 23.431994295940683\n",
      "Optimization restart 5/10, f = 23.431994295619262\n",
      "Optimization restart 6/10, f = 23.43199431563275\n",
      "Optimization restart 7/10, f = 23.431994295675736\n",
      "Optimization restart 8/10, f = 23.43199429575958\n",
      "Optimization restart 9/10, f = 23.431994296185223\n",
      "Optimization restart 10/10, f = 23.43199430078954\n",
      "480\n"
     ]
    },
    {
     "data": {
      "application/vnd.jupyter.widget-view+json": {
       "model_id": "1240b77f7be0433e915c8848ae0736c6",
       "version_major": 2,
       "version_minor": 0
      },
      "text/plain": [
       "HBox(children=(VBox(children=(IntProgress(value=0, max=1000), HTML(value=''))), Box(children=(HTML(value=''),)…"
      ]
     },
     "metadata": {},
     "output_type": "display_data"
    },
    {
     "name": "stdout",
     "output_type": "stream",
     "text": [
      "Optimization restart 1/10, f = 132.546521971511\n",
      "Optimization restart 2/10, f = 132.546520131168\n",
      "Optimization restart 3/10, f = 132.5465201312428\n",
      "Optimization restart 4/10, f = 132.54652013115265\n",
      "Optimization restart 5/10, f = 132.54652013488766\n",
      "Optimization restart 6/10, f = 132.54652013176332\n",
      "Optimization restart 7/10, f = 132.54652018429107\n",
      "Optimization restart 8/10, f = 132.54652013117027\n",
      "Optimization restart 9/10, f = 132.54652013776766\n",
      "Optimization restart 10/10, f = 132.54652013737896\n",
      "481\n"
     ]
    },
    {
     "data": {
      "application/vnd.jupyter.widget-view+json": {
       "model_id": "06a46ef6e1e2406f9f21544b85d679d4",
       "version_major": 2,
       "version_minor": 0
      },
      "text/plain": [
       "HBox(children=(VBox(children=(IntProgress(value=0, max=1000), HTML(value=''))), Box(children=(HTML(value=''),)…"
      ]
     },
     "metadata": {},
     "output_type": "display_data"
    },
    {
     "name": "stdout",
     "output_type": "stream",
     "text": [
      "Optimization restart 1/10, f = 47.421208657172286\n",
      "Optimization restart 2/10, f = 47.42120865698318\n",
      "Optimization restart 3/10, f = 47.42120865724777\n",
      "Optimization restart 4/10, f = 47.42120865667766\n",
      "Optimization restart 5/10, f = 47.421208656554064\n",
      "Optimization restart 6/10, f = 47.42120865666461\n",
      "Optimization restart 7/10, f = 47.421208657901\n",
      "Optimization restart 8/10, f = 47.42120865672477\n",
      "Optimization restart 9/10, f = 47.421208656537914\n",
      "Optimization restart 10/10, f = 47.42120865671222\n",
      "482\n"
     ]
    },
    {
     "data": {
      "application/vnd.jupyter.widget-view+json": {
       "model_id": "cdb2071f9efa4f70b8f28d2dda2e489d",
       "version_major": 2,
       "version_minor": 0
      },
      "text/plain": [
       "HBox(children=(VBox(children=(IntProgress(value=0, max=1000), HTML(value=''))), Box(children=(HTML(value=''),)…"
      ]
     },
     "metadata": {},
     "output_type": "display_data"
    },
    {
     "name": "stdout",
     "output_type": "stream",
     "text": [
      "Optimization restart 1/10, f = 171.2820655571847\n",
      "Optimization restart 2/10, f = 171.28206555656845\n",
      "Optimization restart 3/10, f = 171.28206555838426\n",
      "Optimization restart 4/10, f = 171.28206580585575\n",
      "Optimization restart 5/10, f = 171.28206567112568\n",
      "Optimization restart 6/10, f = 171.2820655564989\n",
      "Optimization restart 7/10, f = 171.2820655556568\n",
      "Optimization restart 8/10, f = 171.28206555480878\n",
      "Optimization restart 9/10, f = 171.28206555840882\n",
      "Optimization restart 10/10, f = 171.28206555510815\n",
      "483\n"
     ]
    },
    {
     "data": {
      "application/vnd.jupyter.widget-view+json": {
       "model_id": "25e8ff55c7d74e919fd106f34dbba879",
       "version_major": 2,
       "version_minor": 0
      },
      "text/plain": [
       "HBox(children=(VBox(children=(IntProgress(value=0, max=1000), HTML(value=''))), Box(children=(HTML(value=''),)…"
      ]
     },
     "metadata": {},
     "output_type": "display_data"
    },
    {
     "name": "stdout",
     "output_type": "stream",
     "text": [
      "Optimization restart 1/10, f = 66.47041667862979\n",
      "Optimization restart 2/10, f = 66.47041667863478\n",
      "Optimization restart 3/10, f = 66.4704167862467\n",
      "Optimization restart 4/10, f = 66.470416678624\n",
      "Optimization restart 5/10, f = 66.47041668458061\n",
      "Optimization restart 6/10, f = 66.47041668286879\n",
      "Optimization restart 7/10, f = 66.47041667863003\n",
      "Optimization restart 8/10, f = 66.47041667862331\n",
      "Optimization restart 9/10, f = 66.47041667886128\n",
      "Optimization restart 10/10, f = 66.47041667862375\n",
      "484\n"
     ]
    },
    {
     "data": {
      "application/vnd.jupyter.widget-view+json": {
       "model_id": "05dceeb3118d4ccd891bec9f51cdc24b",
       "version_major": 2,
       "version_minor": 0
      },
      "text/plain": [
       "HBox(children=(VBox(children=(IntProgress(value=0, max=1000), HTML(value=''))), Box(children=(HTML(value=''),)…"
      ]
     },
     "metadata": {},
     "output_type": "display_data"
    },
    {
     "name": "stdout",
     "output_type": "stream",
     "text": [
      "Optimization restart 1/10, f = 2.523034584893992\n",
      "Optimization restart 2/10, f = 2.523034585492134\n",
      "Optimization restart 3/10, f = 2.523034584889345\n",
      "Optimization restart 4/10, f = 2.5230345875724467\n",
      "Optimization restart 5/10, f = 2.52303458487188\n",
      "Optimization restart 6/10, f = 2.5230345848820477\n",
      "Optimization restart 7/10, f = 2.523034584876136\n",
      "Optimization restart 8/10, f = 2.523034584882005\n",
      "Optimization restart 9/10, f = 2.5230345848741393\n",
      "Optimization restart 10/10, f = 2.5230345852033196\n",
      "485\n"
     ]
    },
    {
     "data": {
      "application/vnd.jupyter.widget-view+json": {
       "model_id": "7fdc8e182900440683859a63fb51829a",
       "version_major": 2,
       "version_minor": 0
      },
      "text/plain": [
       "HBox(children=(VBox(children=(IntProgress(value=0, max=1000), HTML(value=''))), Box(children=(HTML(value=''),)…"
      ]
     },
     "metadata": {},
     "output_type": "display_data"
    },
    {
     "name": "stdout",
     "output_type": "stream",
     "text": [
      "Optimization restart 1/10, f = 178.75705184407926\n",
      "Optimization restart 2/10, f = 178.75705187193057\n",
      "Optimization restart 3/10, f = 178.75705184711396\n",
      "Optimization restart 4/10, f = 178.75705184417404\n",
      "Optimization restart 5/10, f = 178.75705184690028\n",
      "Optimization restart 6/10, f = 178.75705184616052\n",
      "Optimization restart 7/10, f = 178.7570518455828\n",
      "Optimization restart 8/10, f = 178.75705184470021\n",
      "Optimization restart 9/10, f = 178.75705184574696\n",
      "Optimization restart 10/10, f = 178.75705184399786\n",
      "486\n",
      "Could not compute spearmans matrix, for df BR_0001910\n",
      "487\n"
     ]
    },
    {
     "data": {
      "application/vnd.jupyter.widget-view+json": {
       "model_id": "d66ca6f8b00843fda3d80d23e97e78b0",
       "version_major": 2,
       "version_minor": 0
      },
      "text/plain": [
       "HBox(children=(VBox(children=(IntProgress(value=0, max=1000), HTML(value=''))), Box(children=(HTML(value=''),)…"
      ]
     },
     "metadata": {},
     "output_type": "display_data"
    },
    {
     "name": "stdout",
     "output_type": "stream",
     "text": [
      "Optimization restart 1/10, f = 169.68629834620367\n",
      "Optimization restart 2/10, f = 169.6862983464471\n",
      "Optimization restart 3/10, f = 169.68629834626384\n",
      "Optimization restart 4/10, f = 169.68629834593492\n",
      "Optimization restart 5/10, f = 169.68629834594972\n",
      "Optimization restart 6/10, f = 169.6863082049988\n",
      "Optimization restart 7/10, f = 169.6862984833189\n",
      "Optimization restart 8/10, f = 169.68629834715517\n",
      "Optimization restart 9/10, f = 169.68629834580315\n",
      "Optimization restart 10/10, f = 169.6862990182718\n",
      "488\n"
     ]
    },
    {
     "data": {
      "application/vnd.jupyter.widget-view+json": {
       "model_id": "54bf0560312f44db94e3bbece721262b",
       "version_major": 2,
       "version_minor": 0
      },
      "text/plain": [
       "HBox(children=(VBox(children=(IntProgress(value=0, max=1000), HTML(value=''))), Box(children=(HTML(value=''),)…"
      ]
     },
     "metadata": {},
     "output_type": "display_data"
    },
    {
     "name": "stderr",
     "output_type": "stream",
     "text": [
      " C:\\Users\\marku\\Anaconda3\\lib\\site-packages\\paramz\\transformations.py:111: RuntimeWarning:overflow encountered in expm1\n"
     ]
    },
    {
     "name": "stdout",
     "output_type": "stream",
     "text": [
      "Optimization restart 1/10, f = 30.00064469261855\n",
      "Optimization restart 2/10, f = 30.000645412012005\n"
     ]
    },
    {
     "name": "stderr",
     "output_type": "stream",
     "text": [
      " C:\\Users\\marku\\Anaconda3\\lib\\site-packages\\GPy\\kern\\src\\stationary.py:168: RuntimeWarning:overflow encountered in true_divide\n",
      " C:\\Users\\marku\\Anaconda3\\lib\\site-packages\\GPy\\kern\\src\\stationary.py:468: RuntimeWarning:overflow encountered in multiply\n",
      " C:\\Users\\marku\\Anaconda3\\lib\\site-packages\\GPy\\kern\\src\\stationary.py:468: RuntimeWarning:invalid value encountered in multiply\n"
     ]
    },
    {
     "name": "stdout",
     "output_type": "stream",
     "text": [
      "Optimization restart 3/10, f = 30.11853939970284\n",
      "Optimization restart 4/10, f = 30.000644689707315\n",
      "Optimization restart 5/10, f = 30.167352465567433\n",
      "Optimization restart 6/10, f = 30.000644690410923\n",
      "Optimization restart 7/10, f = 30.543287840745947\n",
      "Optimization restart 8/10, f = 30.002006080685845\n",
      "Optimization restart 9/10, f = 30.014283158402137\n",
      "Optimization restart 10/10, f = 30.000644690238317\n",
      "489\n",
      "could not train the model for df CO_0000001\n",
      "490\n"
     ]
    },
    {
     "data": {
      "application/vnd.jupyter.widget-view+json": {
       "model_id": "76a2405b79a04327a527a6f9e450c713",
       "version_major": 2,
       "version_minor": 0
      },
      "text/plain": [
       "HBox(children=(VBox(children=(IntProgress(value=0, max=1000), HTML(value=''))), Box(children=(HTML(value=''),)…"
      ]
     },
     "metadata": {},
     "output_type": "display_data"
    },
    {
     "name": "stdout",
     "output_type": "stream",
     "text": [
      "Optimization restart 1/10, f = 82.34042441532699\n",
      "Optimization restart 2/10, f = 82.34042441531722\n",
      "Optimization restart 3/10, f = 82.34042442087284\n",
      "Optimization restart 4/10, f = 82.34042441544705\n",
      "Optimization restart 5/10, f = 82.34042441643857\n",
      "Optimization restart 6/10, f = 82.3404244153678\n",
      "Optimization restart 7/10, f = 82.34042451838019\n",
      "Optimization restart 8/10, f = 82.3404244153182\n",
      "Optimization restart 9/10, f = 82.34042443628309\n",
      "Optimization restart 10/10, f = 82.34042442072365\n",
      "491\n"
     ]
    },
    {
     "data": {
      "application/vnd.jupyter.widget-view+json": {
       "model_id": "18d1b1f261b9413780746442df00e3a2",
       "version_major": 2,
       "version_minor": 0
      },
      "text/plain": [
       "HBox(children=(VBox(children=(IntProgress(value=0, max=1000), HTML(value=''))), Box(children=(HTML(value=''),)…"
      ]
     },
     "metadata": {},
     "output_type": "display_data"
    },
    {
     "name": "stdout",
     "output_type": "stream",
     "text": [
      "Optimization restart 1/10, f = 54.72168247843264\n",
      "Optimization restart 2/10, f = 54.721682478427326\n",
      "Optimization restart 3/10, f = 54.72168247866135\n",
      "Optimization restart 4/10, f = 54.721682478561846\n",
      "Optimization restart 5/10, f = 54.72168247841775\n",
      "Optimization restart 6/10, f = 54.721682478475294\n",
      "Optimization restart 7/10, f = 54.721682480399565\n",
      "Optimization restart 8/10, f = 54.721682479120126\n",
      "Optimization restart 9/10, f = 54.72168247924157\n",
      "Optimization restart 10/10, f = 54.721682478419396\n",
      "492\n"
     ]
    },
    {
     "data": {
      "application/vnd.jupyter.widget-view+json": {
       "model_id": "74bfeb3f127a4579980e910b59c40d98",
       "version_major": 2,
       "version_minor": 0
      },
      "text/plain": [
       "HBox(children=(VBox(children=(IntProgress(value=0, max=1000), HTML(value=''))), Box(children=(HTML(value=''),)…"
      ]
     },
     "metadata": {},
     "output_type": "display_data"
    },
    {
     "name": "stdout",
     "output_type": "stream",
     "text": [
      "Optimization restart 1/10, f = 240.81775057110607\n",
      "Optimization restart 2/10, f = 240.8177506539562\n",
      "Optimization restart 3/10, f = 240.81775058175472\n",
      "Optimization restart 4/10, f = 240.8177508357254\n",
      "Optimization restart 5/10, f = 240.81775057354477\n",
      "Optimization restart 6/10, f = 240.8177505711379\n",
      "Optimization restart 7/10, f = 240.81775057498967\n",
      "Optimization restart 8/10, f = 240.81775057152046\n",
      "Optimization restart 9/10, f = 240.8177505709792\n",
      "Optimization restart 10/10, f = 240.81775057185416\n",
      "493\n"
     ]
    },
    {
     "data": {
      "application/vnd.jupyter.widget-view+json": {
       "model_id": "cf3dbc750d3f4901acdf1996b846c792",
       "version_major": 2,
       "version_minor": 0
      },
      "text/plain": [
       "HBox(children=(VBox(children=(IntProgress(value=0, max=1000), HTML(value=''))), Box(children=(HTML(value=''),)…"
      ]
     },
     "metadata": {},
     "output_type": "display_data"
    },
    {
     "name": "stdout",
     "output_type": "stream",
     "text": [
      "Optimization restart 1/10, f = 401.3240529250028\n",
      "Optimization restart 2/10, f = 401.32405292499004\n",
      "Optimization restart 3/10, f = 401.3240529289898\n",
      "Optimization restart 4/10, f = 401.32405292886403\n",
      "Optimization restart 5/10, f = 401.3240529285548\n",
      "Optimization restart 6/10, f = 401.3240529516355\n",
      "Optimization restart 7/10, f = 401.32405292559326\n",
      "Optimization restart 8/10, f = 401.32405292499436\n",
      "Optimization restart 9/10, f = 401.32405292505746\n",
      "Optimization restart 10/10, f = 401.3240529249986\n",
      "494\n",
      "could not train the model for df BR_0002789\n",
      "495\n",
      "Could not compute spearmans matrix, for df BR_0000899\n",
      "496\n"
     ]
    },
    {
     "data": {
      "application/vnd.jupyter.widget-view+json": {
       "model_id": "f398a93c27bd481997da1c989eb9e2e8",
       "version_major": 2,
       "version_minor": 0
      },
      "text/plain": [
       "HBox(children=(VBox(children=(IntProgress(value=0, max=1000), HTML(value=''))), Box(children=(HTML(value=''),)…"
      ]
     },
     "metadata": {},
     "output_type": "display_data"
    },
    {
     "name": "stdout",
     "output_type": "stream",
     "text": [
      "Optimization restart 1/10, f = 59.06657683839765\n",
      "Optimization restart 2/10, f = 59.06657683273595\n",
      "Optimization restart 3/10, f = 59.066576831807964\n",
      "Optimization restart 4/10, f = 59.06657683287111\n",
      "Optimization restart 5/10, f = 59.066576831800404\n",
      "Optimization restart 6/10, f = 59.066576831546\n",
      "Optimization restart 7/10, f = 59.06657683156163\n",
      "Optimization restart 8/10, f = 59.0665768315429\n",
      "Optimization restart 9/10, f = 59.0665768318281\n",
      "Optimization restart 10/10, f = 59.06657683667004\n",
      "497\n"
     ]
    },
    {
     "data": {
      "application/vnd.jupyter.widget-view+json": {
       "model_id": "c72be053868c43eb8dcd8dfb0fd394c9",
       "version_major": 2,
       "version_minor": 0
      },
      "text/plain": [
       "HBox(children=(VBox(children=(IntProgress(value=0, max=1000), HTML(value=''))), Box(children=(HTML(value=''),)…"
      ]
     },
     "metadata": {},
     "output_type": "display_data"
    },
    {
     "name": "stdout",
     "output_type": "stream",
     "text": [
      "Optimization restart 1/10, f = 52.260723631321525\n",
      "Optimization restart 2/10, f = 52.26072363034203\n",
      "Optimization restart 3/10, f = 52.26072363026447\n",
      "Optimization restart 4/10, f = 52.260723630263314\n",
      "Optimization restart 5/10, f = 52.26072363028851\n",
      "Optimization restart 6/10, f = 52.2607236305829\n",
      "Optimization restart 7/10, f = 52.26072363044046\n",
      "Optimization restart 8/10, f = 52.260723630319305\n",
      "Optimization restart 9/10, f = 52.26072363040936\n",
      "Optimization restart 10/10, f = 52.26072363186537\n",
      "498\n"
     ]
    },
    {
     "data": {
      "application/vnd.jupyter.widget-view+json": {
       "model_id": "e3b1698490d1478ebc0db8d7198c7c48",
       "version_major": 2,
       "version_minor": 0
      },
      "text/plain": [
       "HBox(children=(VBox(children=(IntProgress(value=0, max=1000), HTML(value=''))), Box(children=(HTML(value=''),)…"
      ]
     },
     "metadata": {},
     "output_type": "display_data"
    },
    {
     "name": "stdout",
     "output_type": "stream",
     "text": [
      "Optimization restart 1/10, f = 94.71404785425311\n",
      "Optimization restart 2/10, f = 94.71404785526815\n",
      "Optimization restart 3/10, f = 94.7140478551058\n",
      "Optimization restart 4/10, f = 94.71404789817643\n",
      "Optimization restart 5/10, f = 94.71404786197334\n",
      "Optimization restart 6/10, f = 94.7140478840373\n",
      "Optimization restart 7/10, f = 94.71404792836553\n",
      "Optimization restart 8/10, f = 94.71404785528145\n",
      "Optimization restart 9/10, f = 94.71404785442724\n",
      "Optimization restart 10/10, f = 94.7140478542704\n",
      "499\n"
     ]
    },
    {
     "data": {
      "application/vnd.jupyter.widget-view+json": {
       "model_id": "8fdaaf4fadd04eb492b8a9669ac70eb7",
       "version_major": 2,
       "version_minor": 0
      },
      "text/plain": [
       "HBox(children=(VBox(children=(IntProgress(value=0, max=1000), HTML(value=''))), Box(children=(HTML(value=''),)…"
      ]
     },
     "metadata": {},
     "output_type": "display_data"
    },
    {
     "name": "stdout",
     "output_type": "stream",
     "text": [
      "Optimization restart 1/10, f = 124.76214992196569\n",
      "Optimization restart 2/10, f = 124.76214992115257\n",
      "Optimization restart 3/10, f = 124.76214992119694\n",
      "Optimization restart 4/10, f = 124.76214992117099\n",
      "Optimization restart 5/10, f = 124.76214992128877\n",
      "Optimization restart 6/10, f = 124.76214992207147\n",
      "Optimization restart 7/10, f = 124.76214992441089\n",
      "Optimization restart 8/10, f = 124.76214992135243\n",
      "Optimization restart 9/10, f = 124.76214992477257\n",
      "Optimization restart 10/10, f = 124.76214992470912\n"
     ]
    },
    {
     "ename": "FileNotFoundError",
     "evalue": "[Errno 2] No such file or directory: 'data/predictions/rmse/rmsePredictionDim5.pkl'",
     "output_type": "error",
     "traceback": [
      "\u001b[1;31m---------------------------------------------------------------------------\u001b[0m",
      "\u001b[1;31mFileNotFoundError\u001b[0m                         Traceback (most recent call last)",
      "\u001b[1;32m<ipython-input-53-683abc8b5989>\u001b[0m in \u001b[0;36m<module>\u001b[1;34m\u001b[0m\n\u001b[0;32m     34\u001b[0m \u001b[1;33m\u001b[0m\u001b[0m\n\u001b[0;32m     35\u001b[0m     \u001b[0mrmseList\u001b[0m\u001b[1;33m.\u001b[0m\u001b[0mappend\u001b[0m\u001b[1;33m(\u001b[0m\u001b[0mrmseArray\u001b[0m\u001b[1;33m)\u001b[0m\u001b[1;33m\u001b[0m\u001b[1;33m\u001b[0m\u001b[0m\n\u001b[1;32m---> 36\u001b[1;33m     \u001b[1;32mwith\u001b[0m \u001b[0mopen\u001b[0m \u001b[1;33m(\u001b[0m\u001b[1;34m'data/predictions/rmse/rmsePredictionDim{}.pkl'\u001b[0m\u001b[1;33m.\u001b[0m\u001b[0mformat\u001b[0m\u001b[1;33m(\u001b[0m\u001b[0mdim\u001b[0m\u001b[1;33m)\u001b[0m\u001b[1;33m,\u001b[0m \u001b[1;34m'wb'\u001b[0m\u001b[1;33m)\u001b[0m \u001b[1;32mas\u001b[0m \u001b[0moutp\u001b[0m\u001b[1;33m:\u001b[0m\u001b[1;33m\u001b[0m\u001b[1;33m\u001b[0m\u001b[0m\n\u001b[0m\u001b[0;32m     37\u001b[0m         \u001b[0mpickle\u001b[0m\u001b[1;33m.\u001b[0m\u001b[0mdump\u001b[0m\u001b[1;33m(\u001b[0m\u001b[0mrmseArray\u001b[0m\u001b[1;33m,\u001b[0m \u001b[0moutp\u001b[0m\u001b[1;33m,\u001b[0m \u001b[0mpickle\u001b[0m\u001b[1;33m.\u001b[0m\u001b[0mHIGHEST_PROTOCOL\u001b[0m \u001b[1;33m)\u001b[0m\u001b[1;33m\u001b[0m\u001b[1;33m\u001b[0m\u001b[0m\n\u001b[0;32m     38\u001b[0m \u001b[1;33m\u001b[0m\u001b[0m\n",
      "\u001b[1;31mFileNotFoundError\u001b[0m: [Errno 2] No such file or directory: 'data/predictions/rmse/rmsePredictionDim5.pkl'"
     ]
    }
   ],
   "source": [
    "# Warning! Running this cell takes some time\n",
    "# During each iteration 500 GP models are trained such that we can compute the distribution of rmse values for this dimension\n",
    "\n",
    "rmseList = []\n",
    "for dim in range(5,16):\n",
    "    rmseArray= np.zeros((len(randomListOfIndices)))\n",
    "    predictionError=[]\n",
    "    for counter, index in enumerate(randomListOfIndices):\n",
    "        print(counter)\n",
    "        df = predictableTimeseries[index]\n",
    "        gsimNo = predictableTimeseries[index]['gsim.no'].any()\n",
    "        truncatedBase = truncateBase (df, predictionBase)\n",
    "        try:\n",
    "            spearmansMatrix = spearmansCorrelation(df, truncatedBase)\n",
    "        except:\n",
    "            print(\"Could not compute spearmans matrix, for df {}\".format(gsimNo))\n",
    "            continue\n",
    "            \n",
    "        indices = getIndices(spearmansMatrix, dim)\n",
    "        \n",
    "        X_train, X_test, Y_train, Y_test = getDataForTrainingAndPredicting (df, indices)\n",
    "        try:\n",
    "            model = trainGP(X_train, Y_train, dim)\n",
    "        except:\n",
    "            print(\"could not train the model for df {}\".format(gsimNo))\n",
    "            continue\n",
    "            \n",
    "        mean, cov = model.predict(X_test)\n",
    "    \n",
    "        if mean.shape != Y_test.shape:\n",
    "            Y_test = Y_test.copy()[:mean.shape[0]]\n",
    "    \n",
    "        rmseArray[counter] = math.sqrt(mean_squared_error(Y_test, mean))\n",
    "        \n",
    "    rmseList.append(rmseArray)\n",
    "    with open ('data/predictions/rmse/rmsePredictionDim{}.pkl'.format(dim), 'wb') as outp:\n",
    "        pickle.dump(rmseArray, outp, pickle.HIGHEST_PROTOCOL )\n",
    "    "
   ]
  },
  {
   "cell_type": "code",
   "execution_count": null,
   "metadata": {},
   "outputs": [],
   "source": [
    "listOfRMSE = []\n",
    "for i in range(5,16):\n",
    "    with open('data/predictions/rmse/rmsePredictionDim{}.pkl'.format(i), 'rb') as inp:\n",
    "        rmse = pickle.load(inp)\n",
    "        rmse[rmse == 0] = np.nan\n",
    "        listOfRMSE.append(rmse)"
   ]
  },
  {
   "cell_type": "code",
   "execution_count": null,
   "metadata": {},
   "outputs": [],
   "source": [
    "fig, ((ax1, ax2, ax3, ax4), (ax5, ax6, ax7, ax8), (ax9, ax10, ax11, ax12) ) = plt.subplots(3,4, figsize=(16,14))\n",
    "\n",
    "for spine in ax1.spines.values():\n",
    "    spine.set_visible(False)\n",
    "for spine in ax2.spines.values():\n",
    "    spine.set_visible(False)\n",
    "for spine in ax3.spines.values():\n",
    "    spine.set_visible(False)\n",
    "for spine in ax4.spines.values():\n",
    "    spine.set_visible(False)\n",
    "for spine in ax5.spines.values():\n",
    "    spine.set_visible(False)\n",
    "for spine in ax6.spines.values():\n",
    "    spine.set_visible(False)\n",
    "for spine in ax7.spines.values():\n",
    "    spine.set_visible(False)\n",
    "for spine in ax8.spines.values():\n",
    "    spine.set_visible(False)\n",
    "for spine in ax9.spines.values():\n",
    "    spine.set_visible(False)\n",
    "for spine in ax10.spines.values():\n",
    "    spine.set_visible(False)\n",
    "for spine in ax11.spines.values():\n",
    "    spine.set_visible(False)\n",
    "for spine in ax12.spines.values():\n",
    "    spine.set_visible(False)\n",
    "\n",
    "    \n",
    "ax1.tick_params(colors='gray', direction='out')\n",
    "ax2.tick_params(colors='gray', direction='out')\n",
    "ax3.tick_params(colors='gray', direction='out')\n",
    "ax4.tick_params(colors='gray', direction='out')\n",
    "ax5.tick_params(colors='gray', direction='out')\n",
    "ax6.tick_params(colors='gray', direction='out')\n",
    "ax7.tick_params(colors='gray', direction='out')\n",
    "ax8.tick_params(colors='gray', direction='out')\n",
    "ax9.tick_params(colors='gray', direction='out')\n",
    "ax10.tick_params(colors='gray', direction='out')\n",
    "ax11.tick_params(colors='gray', direction='out')\n",
    "ax12.tick_params(colors='gray', direction='out')\n",
    "\n",
    "\n",
    "    \n",
    "fig.suptitle('Analysis of RMSE per dimensions')\n",
    "ax1.hist(listOfRMSE[0], range=[0, 2],  bins = 16, edgecolor='#E6E6E6', color='#EE6666')\n",
    "ax1.set_title('5 dimension')\n",
    "ax2.hist(listOfRMSE[1], range=[0, 2],  bins = 16, edgecolor='#E6E6E6', color='#EE6666')\n",
    "ax2.set_title('6 dimensions')\n",
    "ax3.hist(listOfRMSE[2], range=[0, 2],  bins = 16, edgecolor='#E6E6E6', color='#EE6666')\n",
    "ax3.set_title('7 dimensions')\n",
    "ax4.hist(listOfRMSE[3], range=[0, 2],  bins = 16, edgecolor='#E6E6E6', color='#EE6666')\n",
    "ax4.set_title('8 dimensions')\n",
    "ax5.hist(listOfRMSE[4],  range=[0, 2],  bins = 16, edgecolor='#E6E6E6', color='#EE6666')\n",
    "ax5.set_title('9 dimensions')\n",
    "ax6.hist(listOfRMSE[5], range=[0, 2],  bins = 16, edgecolor='#E6E6E6', color='#EE6666')\n",
    "ax6.set_title('10 dimensions')\n",
    "ax7.hist(listOfRMSE[6], range=[0, 2],  bins = 16, edgecolor='#E6E6E6', color='#EE6666')\n",
    "ax7.set_title('11 dimensions')\n",
    "ax8.hist(listOfRMSE[7], range=[0, 2],  bins = 16,  edgecolor='#E6E6E6', color='#EE6666')\n",
    "ax8.set_title('12 dimensions')\n",
    "ax9.hist(listOfRMSE[8], range=[0, 2],  bins = 16,  edgecolor='#E6E6E6', color='#EE6666')\n",
    "ax9.set_title('13 dimensions')\n",
    "ax10.hist(listOfRMSE[9], range=[0, 2],  bins = 16, edgecolor='#E6E6E6', color='#EE6666')\n",
    "ax10.set_title('14 dimensions')\n",
    "ax11.hist(listOfRMSE[10], range=[0, 2],  bins = 16, edgecolor='#E6E6E6', color='#EE6666')\n",
    "ax11.set_title('15 dimensions')\n",
    "\n",
    "\n",
    "#plt.savefig(\"plots/RMSE5to15.svg\")"
   ]
  }
 ],
 "metadata": {
  "kernelspec": {
   "display_name": "Python 3",
   "language": "python",
   "name": "python3"
  },
  "language_info": {
   "codemirror_mode": {
    "name": "ipython",
    "version": 3
   },
   "file_extension": ".py",
   "mimetype": "text/x-python",
   "name": "python",
   "nbconvert_exporter": "python",
   "pygments_lexer": "ipython3",
   "version": "3.7.3"
  }
 },
 "nbformat": 4,
 "nbformat_minor": 2
}
