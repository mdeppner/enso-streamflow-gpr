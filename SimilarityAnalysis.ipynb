{
 "cells": [
  {
   "cell_type": "code",
   "execution_count": 1,
   "metadata": {},
   "outputs": [],
   "source": [
    "import math\n",
    "import pandas as pd\n",
    "import numpy as np \n",
    "import matplotlib.pyplot as plt\n",
    "import matplotlib.patches as mpatches\n",
    "import matplotlib.lines as mlines\n",
    "import scipy.cluster.hierarchy as sch\n",
    "import itertools\n",
    "import GPy\n",
    "import dill\n",
    "import csv\n",
    "import folium\n",
    "import seaborn as sns\n",
    "import networkx as nx\n",
    "\n",
    "\n",
    "from datetime import datetime\n",
    "from sklearn.preprocessing import normalize\n",
    "from sklearn.metrics import mean_squared_error\n",
    "from IPython.display import display\n",
    "from scipy import stats\n",
    "from scipy.stats import norm, percentileofscore\n",
    "from scipy import interpolate\n",
    "from scipy.spatial.distance import squareform\n",
    "from statistics import mean \n",
    "from mpl_toolkits.basemap import Basemap\n",
    "from folium import plugins"
   ]
  },
  {
   "cell_type": "markdown",
   "metadata": {},
   "source": [
    "### Loading inferred data"
   ]
  },
  {
   "cell_type": "code",
   "execution_count": 2,
   "metadata": {},
   "outputs": [],
   "source": [
    "ds = pd.read_csv(\"data/predictions/ds_gaussian_clean.csv\")\n",
    "ds = ds.drop(['Unnamed: 0'], axis=1)"
   ]
  },
  {
   "cell_type": "markdown",
   "metadata": {},
   "source": [
    "### Loading GSIM data"
   ]
  },
  {
   "cell_type": "code",
   "execution_count": 3,
   "metadata": {},
   "outputs": [],
   "source": [
    "'''\n",
    "This function loads the meta data, monhtly, yearly and seasonal data from the GSIM dataset for a gsim number\n",
    "To each dataframe the gsim number is added for further identification.\n",
    "Colum names are cleaned and a list of all dataframes is finally returned\n",
    "'''\n",
    "def loadTimeseries (series_name): \n",
    "    meta = gsim_metadata.loc[gsim_metadata['gsim.no'] == series_name]\n",
    "    monthly = pd.read_csv(\"data/GSIM_indices/TIMESERIES/monthly/\"+series_name+\".mon\", sep=',' '\\\\t', skiprows=lambda x : x < 21, engine='python',)\n",
    "    yearly = pd.read_csv(\"data/GSIM_indices/TIMESERIES/yearly/\"+series_name+\".year\", sep=',' '\\\\t', skiprows=lambda x : x < 21, engine='python',)\n",
    "    seasonal = pd.read_csv(\"data/GSIM_indices/TIMESERIES/seasonal/\"+series_name+\".seas\", sep=',' '\\\\t', skiprows=lambda x : x < 21, engine='python',)\n",
    "    monthly['gsim.no'] = series_name\n",
    "    yearly['gsim.no'] = series_name\n",
    "    seasonal['gsim.no'] = series_name\n",
    "    monthly.columns, yearly.columns, seasonal.columns = monthly.columns.str.replace('\"', ''), yearly.columns.str.replace('\"', ''), seasonal.columns.str.replace('\"', '')\n",
    "    return [meta, monthly, yearly, seasonal]"
   ]
  },
  {
   "cell_type": "code",
   "execution_count": 4,
   "metadata": {},
   "outputs": [],
   "source": [
    "'''\n",
    "Transforms the last date of measurment for a season priveded in the gsim dataset as the feature date\n",
    "As the seasonal gsim dataset stores the last date of measurement the last day of measurement of season DJF is in February, MAM in May and so on \n",
    "'''\n",
    "def determimeSeason(date):\n",
    "    endMonth = pd.to_datetime(date).month\n",
    "    switcher = {\n",
    "        2: \"DJF\",\n",
    "        5: \"MAM\",\n",
    "        8: \"JJA\",\n",
    "        11: \"SON\"\n",
    "    }\n",
    "    return switcher.get(endMonth, \"undefined\")"
   ]
  },
  {
   "cell_type": "code",
   "execution_count": 5,
   "metadata": {},
   "outputs": [],
   "source": [
    "# Loading the GSIM_metadata_Archive\n",
    "gsim_metadata = pd.read_csv(\"data/GSIM_metadata/GSIM_catalog/GSIM_metadata.csv\", sep=\",\")\n",
    "\n",
    "\n",
    "# Selecting all the dataframes for South America by 2 Letter Country Code\n",
    "southamerica2letterCC = ['AR', 'BO', 'BR', 'CL', 'CO', 'EC', 'FK', 'GF', 'GY', 'PY', 'PE', 'SR', 'UY', 'VE']\n",
    "\n",
    "stations_of_interest = pd.Series()\n",
    "for country in southamerica2letterCC: \n",
    "    stations_of_interest = stations_of_interest.append(gsim_metadata.loc[gsim_metadata['country'] == country]['gsim.no'], ignore_index=True)\n",
    "        \n",
    "    \n",
    "# Initialisation of the empty lists where we store the dataframes: datatype: list of dataframes\n",
    "df_yearly = []\n",
    "df_monthly = []\n",
    "df_seasonal = []\n",
    "df_meta = []\n",
    "\n",
    "# For each station in South America we load the meta, yearly, seasonal and monthly dataset\n",
    "for station in stations_of_interest:\n",
    "    \n",
    "    series = loadTimeseries(station)\n",
    "    df_meta.append(series[0])\n",
    "    df_monthly.append(series[1])\n",
    "    df_yearly.append(series[2])\n",
    "    df_seasonal.append(series[3])\n",
    "\n",
    "    \n",
    "        \n",
    "# For each dataframe in our monthly dataset we add a column that stores each the year and the month for a given measurement\n",
    "for df in df_monthly: \n",
    "    df['month'] = pd.to_datetime(df['date']).dt.month\n",
    "    df['year'] = pd.to_datetime(df['date']).dt.year\n",
    "    df['date'] = pd.to_datetime(df['date']).dt.date\n",
    "\n",
    "    \n",
    "# For each dataframe in our yearly dataset we add a column that stores the year for a given measurement\n",
    "for df in df_yearly: \n",
    "    df['year'] = pd.to_datetime(df['date']).dt.year\n",
    "    df['date'] = pd.to_datetime(df['date']).dt.date\n",
    "\n",
    "\n",
    "# For each dataframe in our seasonal dataset we add a column that stores the year and the season of the measurment. \n",
    "# Note that for the season DJF, the year is year of the months January and February is stored. \n",
    "for df in df_seasonal: \n",
    "    df['date'] = pd.to_datetime(df['date']).dt.date\n",
    "    df['year'] = pd.to_datetime(df['date']).dt.year\n",
    "    df['month'] = pd.to_datetime(df['date']).dt.month\n",
    "    df['season'] = [determimeSeason(date) for date in df['date']]\n",
    "    \n",
    "    \n",
    "# Merge the list of metadataframes into one single dataframe, as for each station only one row of metadat exists we can merge them into one single dataframe\n",
    "for index,meta in enumerate(df_meta):\n",
    "    if index == 0:\n",
    "        ds_meta = meta\n",
    "    else: \n",
    "        ds_meta = ds_meta.append(meta, ignore_index = True)"
   ]
  },
  {
   "cell_type": "markdown",
   "metadata": {},
   "source": [
    "## Similarity Analysis"
   ]
  },
  {
   "cell_type": "code",
   "execution_count": 6,
   "metadata": {},
   "outputs": [],
   "source": [
    "'''\n",
    "For a list of gsimNumbers the respective coordinates are stored in the format of [longitude, latitude] for each entry\n",
    "@param list of gsimNumbers\n",
    "@return list of coordinates\n",
    "'''\n",
    "def getCoordinates(gsimNumbers):\n",
    "    coordinates = []\n",
    "    for number in gsimNumbers: \n",
    "        coords = [ds_meta.loc[ds_meta['gsim.no'] == number]['longitude'].values[0], ds_meta.loc[ds_meta['gsim.no'] == number]['latitude'].values[0]]\n",
    "        coordinates.append(coords)\n",
    "        \n",
    "    return coordinates"
   ]
  },
  {
   "cell_type": "code",
   "execution_count": 7,
   "metadata": {},
   "outputs": [],
   "source": [
    "'''\n",
    "For a given timespan those stations are filtered who have at lest one of its top n peak river discharge values during the active\n",
    "timespan of the given ENSO eventm, using the inferred dataset. \n",
    "@param  number of dimensions n, \n",
    "        timespan during which the ENSO event was active as a list of strings, \n",
    "        a dataset as a list of pandas.dataframes\n",
    "@return a list of unique gsimNumbers\n",
    "'''\n",
    "def getTopNStationsInferred (n, activeENSOTime, dataset = ds):\n",
    "    gsimNumbers = []\n",
    "    dates = [date.split('-')[0] + '-' + date.split('-')[1] for date in dataset.columns[:-1]]\n",
    "    for index, row in dataset.iterrows():\n",
    "        values = row[:-1].values\n",
    "        values = np.nan_to_num(values)  # if there are any nan values they will be set to zero and therfore not considered\n",
    "        maxIndex = np.argsort(values)[-n:]\n",
    "        for index in maxIndex:\n",
    "            dateOfMaxDischarge = dates[index]\n",
    "            if dateOfMaxDischarge in activeENSOTime:\n",
    "                gsimNumbers.append(row[-1])\n",
    "            \n",
    "    return list(set(gsimNumbers))"
   ]
  },
  {
   "cell_type": "code",
   "execution_count": 8,
   "metadata": {},
   "outputs": [],
   "source": [
    "'''\n",
    "For a given timespan those stations are filtered who have at lest one of its top n peak river discharge values during the active\n",
    "timespan of the given ENSO eventm, using the raw GSIM dataset. \n",
    "@param  number of dimensions n, \n",
    "        timespan during which the ENSO event was active as a list of strings, \n",
    "@return a list of unique gsimNumbers\n",
    "'''\n",
    "def getTopNStationsRaw (n, activeENSOTime):\n",
    "    gsimNumbers = []\n",
    "    for df in df_monthly:\n",
    "        dates = [str(date).split('-')[0] + '-' + str(date).split('-')[1] for date in df['date']]\n",
    "        values = df['MEAN'].copy().to_numpy()\n",
    "        values = np.nan_to_num(values)  # if there are any nan values they will be set to zero and therfore not considered\n",
    "        maxIndex = np.argsort(values)[~np.isnan(values)][-n:]\n",
    "        for index in maxIndex:\n",
    "            dateOfMaxDischarge = dates[index]\n",
    "            if dateOfMaxDischarge in activeENSOTime:\n",
    "                gsimNumbers.append(df['gsim.no'].any())\n",
    "            \n",
    "    return list(set(gsimNumbers))"
   ]
  },
  {
   "cell_type": "code",
   "execution_count": 9,
   "metadata": {},
   "outputs": [],
   "source": [
    "'''\n",
    "Computation of the Jaccard distance for two sets\n",
    "@param  A: set of stations\n",
    "        B: set of stations\n",
    "'''\n",
    "def jaccardDistance(A,B): \n",
    "    cutSet = [element for element in A if element in B ]\n",
    "    return 1 - (len(cutSet)/(len(set(A+B))))"
   ]
  },
  {
   "cell_type": "markdown",
   "metadata": {},
   "source": [
    "###### Similarity Analysis for El Niño"
   ]
  },
  {
   "cell_type": "code",
   "execution_count": 10,
   "metadata": {},
   "outputs": [],
   "source": [
    "# Those durations are from the official definition of ENSO events of more than +/- 0.5 of the Niño 3.4 index for 3 consecutive months:\n",
    "# data taken from https://origin.cpc.ncep.noaa.gov/products/analysis_monitoring/ensostuff/ONI_v5.php\n",
    "\n",
    "# 1965/66 occured from April 1965 until May 1966\n",
    "activeElNinoTime_1965_66 = ['1965-04','1965-05','1965-06','1965-07','1965-08','1965-09','1965-10','1965-11','1965-12','1966-01','1966-02','1966-03','1966-04']\n",
    "\n",
    "\n",
    "# 1972/73 occured from April 1972 until April 1973\n",
    "activeElNinoTime_1972_73 = ['1972-04','1972-05','1972-06','1972-07','1972-08','1972-09','1972-10','1972-11','1972-12','1973-01', '1973-02', '1973-03', '1973-04']\n",
    "\n",
    "\n",
    "# 1982/83 occured from March 1982 until July 1983\n",
    "activeElNinoTime_1982_83 = ['1982-03','1982-04','1982-05','1982-06','1982-07','1982-08','1982-09','1982-10','1982-11','1982-12','1983-01', '1983-02','1983-03','1983-04','1983-05','1983-06','1983-07']\n",
    "\n",
    "\n",
    "# 1997/98 occured from April 1997 until June 1998\n",
    "activeElNinoTime_1997_98 = ['1997-04','1997-05','1997-06','1997-07','1997-08','1997-09','1997-10','1997-11','1997-12','1998-01','1998-02','1998-03','1998-04','1998-05','1998-06']\n",
    "\n",
    "\n",
    "# 2015/16 occured from Sept 2014 until May 2016\n",
    "activeElNinoTime_2015_16 = ['2014-09','2014-10','2014-11','2014-12','2015-01','2015-02','2015-03','2015-04','2015-05','2015-06','2015-07','2015-08','2015-09','2015-10','2015-11','2015-12','2016-01','2016-02','2016-03','2016-04','2016-05']\n"
   ]
  },
  {
   "cell_type": "code",
   "execution_count": 11,
   "metadata": {},
   "outputs": [],
   "source": [
    "n = 10\n",
    "\n",
    "gsim1965_66 = getTopNStationsInferred(n, activeElNinoTime_1965_66)\n",
    "gsim1972_73 = getTopNStationsInferred(n, activeElNinoTime_1972_73)\n",
    "gsim1982_83 = getTopNStationsInferred(n, activeElNinoTime_1982_83)\n",
    "gsim1997_98 = getTopNStationsInferred(n, activeElNinoTime_1997_98)\n",
    "gsim2015_16 = getTopNStationsInferred(n, activeElNinoTime_2015_16)\n",
    "\n",
    "gsimNumsDuringAllElNinos = [gsim1965_66, gsim1972_73, gsim1982_83, gsim1997_98, gsim2015_16 ]"
   ]
  },
  {
   "cell_type": "code",
   "execution_count": 12,
   "metadata": {},
   "outputs": [],
   "source": [
    "'''\n",
    "Computation of the similarity matrix for either La Ninas or El Ninos, where for each combination of events the Jaccard distance is computed and saved in the matrix \n",
    "@param  gsimNumsOfAllEvents - list of lists of strings: each list contains the gsimNumbers of the stations affected during its timespan.\n",
    "        labels - list of strings: the labels for each column and row entry \n",
    "@return numpy.matrix the matrix with the respective distance values for each combination of events. \n",
    "'''\n",
    "\n",
    "def computeSimilarityMatrix(gsimNumsOfAllEvents,labels):\n",
    "    similarityMatrix = np.zeros((5,5))\n",
    "    for index_i, event_i in enumerate(gsimNumsOfAllEvents): \n",
    "        for index_j, event_j in enumerate(gsimNumsOfAllEvents): \n",
    "            similarityMatrix[index_i, index_j] = jaccardDistance(event_i, event_j)\n",
    "\n",
    "    similarityDf = pd.DataFrame(similarityMatrix, columns=labels, index=labels)\n",
    "    return similarityDf"
   ]
  },
  {
   "cell_type": "code",
   "execution_count": 13,
   "metadata": {},
   "outputs": [
    {
     "data": {
      "text/html": [
       "<div>\n",
       "<style scoped>\n",
       "    .dataframe tbody tr th:only-of-type {\n",
       "        vertical-align: middle;\n",
       "    }\n",
       "\n",
       "    .dataframe tbody tr th {\n",
       "        vertical-align: top;\n",
       "    }\n",
       "\n",
       "    .dataframe thead th {\n",
       "        text-align: right;\n",
       "    }\n",
       "</style>\n",
       "<table border=\"1\" class=\"dataframe\">\n",
       "  <thead>\n",
       "    <tr style=\"text-align: right;\">\n",
       "      <th></th>\n",
       "      <th>1965/66</th>\n",
       "      <th>1972/73</th>\n",
       "      <th>1982/83</th>\n",
       "      <th>1997/98</th>\n",
       "      <th>2015/16</th>\n",
       "    </tr>\n",
       "  </thead>\n",
       "  <tbody>\n",
       "    <tr>\n",
       "      <th>1965/66</th>\n",
       "      <td>0.000000</td>\n",
       "      <td>0.904110</td>\n",
       "      <td>0.819791</td>\n",
       "      <td>0.912791</td>\n",
       "      <td>0.892308</td>\n",
       "    </tr>\n",
       "    <tr>\n",
       "      <th>1972/73</th>\n",
       "      <td>0.904110</td>\n",
       "      <td>0.000000</td>\n",
       "      <td>0.910397</td>\n",
       "      <td>0.877953</td>\n",
       "      <td>0.903581</td>\n",
       "    </tr>\n",
       "    <tr>\n",
       "      <th>1982/83</th>\n",
       "      <td>0.819791</td>\n",
       "      <td>0.910397</td>\n",
       "      <td>0.000000</td>\n",
       "      <td>0.806947</td>\n",
       "      <td>0.865217</td>\n",
       "    </tr>\n",
       "    <tr>\n",
       "      <th>1997/98</th>\n",
       "      <td>0.912791</td>\n",
       "      <td>0.877953</td>\n",
       "      <td>0.806947</td>\n",
       "      <td>0.000000</td>\n",
       "      <td>0.794239</td>\n",
       "    </tr>\n",
       "    <tr>\n",
       "      <th>2015/16</th>\n",
       "      <td>0.892308</td>\n",
       "      <td>0.903581</td>\n",
       "      <td>0.865217</td>\n",
       "      <td>0.794239</td>\n",
       "      <td>0.000000</td>\n",
       "    </tr>\n",
       "  </tbody>\n",
       "</table>\n",
       "</div>"
      ],
      "text/plain": [
       "          1965/66   1972/73   1982/83   1997/98   2015/16\n",
       "1965/66  0.000000  0.904110  0.819791  0.912791  0.892308\n",
       "1972/73  0.904110  0.000000  0.910397  0.877953  0.903581\n",
       "1982/83  0.819791  0.910397  0.000000  0.806947  0.865217\n",
       "1997/98  0.912791  0.877953  0.806947  0.000000  0.794239\n",
       "2015/16  0.892308  0.903581  0.865217  0.794239  0.000000"
      ]
     },
     "execution_count": 13,
     "metadata": {},
     "output_type": "execute_result"
    }
   ],
   "source": [
    "elNinoSimilarityDf = computeSimilarityMatrix(gsimNumsDuringAllElNinos,['1965/66', '1972/73', '1982/83', '1997/98', '2015/16'])\n",
    "elNinoSimilarityDf"
   ]
  },
  {
   "cell_type": "code",
   "execution_count": 14,
   "metadata": {},
   "outputs": [
    {
     "data": {
      "image/png": "[encoded data removed]",
      "text/plain": [
       "<Figure size 432x288 with 1 Axes>"
      ]
     },
     "metadata": {
      "needs_background": "light"
     },
     "output_type": "display_data"
    },
    {
     "data": {
      "text/plain": [
       "[]"
      ]
     },
     "execution_count": 14,
     "metadata": {},
     "output_type": "execute_result"
    },
    {
     "data": {
      "image/png": "[encoded data removed]",
      "text/plain": [
       "<Figure size 576x432 with 1 Axes>"
      ]
     },
     "metadata": {
      "needs_background": "light"
     },
     "output_type": "display_data"
    }
   ],
   "source": [
    "# In this cell we take the upper triangle of the distance matrix via squareform, which will be the input for our linkage function\n",
    "# this links ElNions events whose impact pattern of stations are similar\n",
    "# after linking the El Ninos we plot the dendrogram to get a more visual understanding of the process\n",
    "\n",
    "\n",
    "y = squareform(elNinoSimilarityDf)\n",
    "linkage = sch.linkage(y, method='complete')\n",
    "dn = sch.dendrogram(linkage)\n",
    "plt.title('Similarity of El Niños')\n",
    "plt.xlabel('El Niños')\n",
    "plt.ylabel('Distance')\n",
    "plt.show()\n",
    "\n",
    "\n",
    "fig = plt.figure(figsize=(8, 6))\n",
    "y = squareform(elNinoSimilarityDf)\n",
    "linkage = sch.linkage(y, method='complete')\n",
    "dn2 = sch.dendrogram(linkage, color_threshold = 0.82)\n",
    "plt.title('Similarity of El Niños')\n",
    "plt.xlabel('El Niños')\n",
    "plt.ylabel('Distance')\n",
    "plt.ylim((0.70, 0.95))\n",
    "\n",
    "## TODO check labels ....\n",
    "plt.xticks([5,15,25,35,45],[ '1965/66', '1982/83', '1972/73', '1997/98', '2015/16'],  fontsize=10)\n",
    "plt.plot()\n",
    "#plt.savefig(\"plots/dendrogramENTop10.svg\")\n"
   ]
  },
  {
   "cell_type": "code",
   "execution_count": 15,
   "metadata": {},
   "outputs": [
    {
     "data": {
      "image/png": "[encoded data removed]",
      "text/plain": [
       "<Figure size 432x288 with 1 Axes>"
      ]
     },
     "metadata": {
      "needs_background": "light"
     },
     "output_type": "display_data"
    }
   ],
   "source": [
    "# Warning: This might take some time!\n",
    "\n",
    "'''\n",
    "To check the robustness of the similarity analysis we perform crossValidation on this analysis \n",
    "5 % of the samples are removed and the similarity analysis is performed to check if this impacts our results\n",
    "'''\n",
    "percentageToRemove = 0.05\n",
    "crossValidMatrix = np.zeros((5,5))\n",
    "dendrogramDf = pd.DataFrame(crossValidMatrix, columns=[0,1,2,3,4], index=[0,1,2,3,4])\n",
    "amountOfSamplesToRemove = int (percentageToRemove * ds.shape[0]) # Remove 5 percent of the samples\n",
    "topN = 10\n",
    "\n",
    "for i in range (100): \n",
    "    ds_sub = ds.copy()\n",
    "    drop_indices = np.random.choice(ds_sub.index, amountOfSamplesToRemove, replace=False)\n",
    "    df_subset = ds_sub.drop(drop_indices)\n",
    "    gsim1965_66 = getTopNStationsInferred(topN, activeElNinoTime_1965_66, df_subset)\n",
    "    gsim1972_73 = getTopNStationsInferred(topN, activeElNinoTime_1972_73, df_subset)\n",
    "    gsim1982_83 = getTopNStationsInferred(topN, activeElNinoTime_1982_83, df_subset)\n",
    "    gsim1997_98 = getTopNStationsInferred(topN, activeElNinoTime_1997_98, df_subset)\n",
    "    gsim2015_16 = getTopNStationsInferred(topN, activeElNinoTime_2015_16, df_subset)\n",
    "\n",
    "    gsimNumsDuringAllElNinos = [gsim1965_66, gsim1972_73, gsim1982_83, gsim1997_98, gsim2015_16 ]\n",
    "    similarityMatrixElNino = np.zeros((5,5))\n",
    "    for index_i, elNino_i in enumerate(gsimNumsDuringAllElNinos): \n",
    "        for index_j, elNino_j in enumerate(gsimNumsDuringAllElNinos): \n",
    "            similarityMatrixElNino[index_i, index_j] = jaccardDistance(elNino_i, elNino_j)\n",
    "\n",
    "    elNinoSimilarityDf = pd.DataFrame(similarityMatrixElNino, columns=['1965/66', '1972/73', '1982/83', '1997/98', '2015/16'], index=['1965/66', '1972/73', '1982/83', '1997/98', '2015/16'])\n",
    "    \n",
    "    y = squareform(elNinoSimilarityDf)\n",
    "    linkage = sch.linkage(y, method='complete')\n",
    "    dn1 = sch.dendrogram(linkage)\n",
    "    dn2 = sch.dendrogram(linkage, color_threshold = 0.90, truncate_mode='lastp', p=3)\n",
    "    \n",
    "    index = 0\n",
    "    for group in dn2['ivl']:\n",
    "        if group == '1':\n",
    "            n1 = int (dn1['ivl'][index])\n",
    "            crossValidMatrix[n1][n1] += 1\n",
    "            index += 1\n",
    "        \n",
    "        \n",
    "        elif group == '(2)':\n",
    "            n1 = int (dn1['ivl'][index]) \n",
    "            n2 = int (dn1['ivl'][index +1])\n",
    "            crossValidMatrix[n1][n2] += 1\n",
    "            crossValidMatrix[n2][n1] += 1\n",
    "            index += 2\n",
    "        elif group == '(3)':\n",
    "            n1 = int (dn1['ivl'][index]) \n",
    "            n2 = int (dn1['ivl'][index +1])\n",
    "            n3 = int (dn1['ivl'][index +2])\n",
    "            crossValidMatrix[n1][n2] += 1\n",
    "            crossValidMatrix[n1][n3] += 1\n",
    "            crossValidMatrix[n2][n1] += 1\n",
    "            crossValidMatrix[n2][n3] += 1\n",
    "            crossValidMatrix[n3][n1] += 1\n",
    "            crossValidMatrix[n3][n2] += 1\n",
    "            index += 3\n",
    "        else:\n",
    "            continue\n"
   ]
  },
  {
   "cell_type": "code",
   "execution_count": 16,
   "metadata": {
    "scrolled": true
   },
   "outputs": [
    {
     "data": {
      "text/plain": [
       "array([[  0.,   0., 100.,   0.,   0.],\n",
       "       [  0., 100.,   0.,   0.,   0.],\n",
       "       [100.,   0.,   0.,   0.,   0.],\n",
       "       [  0.,   0.,   0.,   0., 100.],\n",
       "       [  0.,   0.,   0., 100.,   0.]])"
      ]
     },
     "execution_count": 16,
     "metadata": {},
     "output_type": "execute_result"
    }
   ],
   "source": [
    "crossValidMatrix"
   ]
  },
  {
   "cell_type": "code",
   "execution_count": 17,
   "metadata": {},
   "outputs": [
    {
     "name": "stderr",
     "output_type": "stream",
     "text": [
      " C:\\Users\\marku\\Anaconda3\\lib\\site-packages\\networkx\\drawing\\nx_pylab.py:579: MatplotlibDeprecationWarning:\n",
      "The iterable function was deprecated in Matplotlib 3.1 and will be removed in 3.3. Use np.iterable instead.\n"
     ]
    },
    {
     "data": {
      "text/plain": [
       "[]"
      ]
     },
     "execution_count": 17,
     "metadata": {},
     "output_type": "execute_result"
    },
    {
     "data": {
      "image/png": "[encoded data removed]",
      "text/plain": [
       "<Figure size 576x576 with 1 Axes>"
      ]
     },
     "metadata": {},
     "output_type": "display_data"
    }
   ],
   "source": [
    "# The previously computed crossValidationMatrix is now used as a adjacency matrix to plot a weighted, undirected graph. \n",
    "# This graph is generated in this cell. \n",
    "\n",
    "# Note the values are written by hand on the edges \n",
    "# As the crossvalidation process is based on random sampling this crossValidationMatrix might look different for multiple runs\n",
    "# Therefore the edge weights might differ as well and need to be adjusted manually\n",
    "\n",
    "\n",
    "ENs = ['1965/66', '1972/73', '1982/83', '1997/98', '2015/16']\n",
    "weights=[]\n",
    "\n",
    "plt.figure(figsize=(8,8)) \n",
    "G = nx.MultiGraph()\n",
    "G.add_nodes_from(ENs)\n",
    "for indexI, row in enumerate(crossValidMatrix): \n",
    "    for indexJ, value in enumerate(row):\n",
    "        weight=value/100\n",
    "        weights.append(weight)\n",
    "        G.add_edge (ENs[indexI], ENs[indexJ], weight=weight)\n",
    "\n",
    "pos = nx.circular_layout(G)  # positions for all nodes\n",
    "    \n",
    "edges = G.edges(data=True)\n",
    "elarge = [(u, v, d) for (u, v, d) in edges if d[\"weight\"] > 0.45]\n",
    "esmall = [(u, v, d) for (u, v, d) in edges if d[\"weight\"]!= 0 and d[\"weight\"] <= 0.45]\n",
    "\n",
    "#edges\n",
    "nx.draw_networkx_edges(G, pos, edgelist=esmall, width=1, alpha=0.9, edge_color=\"black\", style=\"dotted\")\n",
    "nx.draw_networkx_edges(G, pos, edgelist=elarge, width=5, alpha=0.9, edge_color=\"#3d405b\")\n",
    "nx.draw_networkx_edge_labels(G,pos,edge_labels={('1982/83','1965/66'):'100/100', ('1997/98','2015/16'):'100/100' }, font_color='#e63946')\n",
    "\n",
    "\n",
    "\n",
    "nx.draw_networkx_nodes(G, pos, with_labels=True, node_color = \"#86c5ea\", width=weights, node_size=3000)\n",
    "nx.draw_networkx_labels(G,pos)\n",
    "\n",
    "plt.axis(\"off\")\n",
    "plt.plot()\n",
    "#plt.savefig(\"plots/CrossValidENFivePercentTop10.svg\")"
   ]
  },
  {
   "cell_type": "markdown",
   "metadata": {},
   "source": [
    "###### Similarity Analysis for La Niña"
   ]
  },
  {
   "cell_type": "code",
   "execution_count": 18,
   "metadata": {},
   "outputs": [],
   "source": [
    "# Those durations are from the official definition of ENSO events of more than +/- 0.5 of the Niño 3.4 index for 3 consecutive months:\n",
    "# data taken from https://origin.cpc.ncep.noaa.gov/products/analysis_monitoring/ensostuff/ONI_v5.php\n",
    "\n",
    "# The 1973/74 La Nina occured from April 1973 until August 1974\n",
    "activeLaNinaTime_1973_74 = ['1973-04','1973-05','1973-06','1973-07','1973-08','1973-09','1973-10','1973-11','1973-12','1974-01','1974-02','1974-03','1974-04','1974-05', '1974-06', '1974-07', '1974-08']\n",
    "\n",
    "\n",
    "# 1974/76 occured from September 1974 until May 1976\n",
    "activeLaNinaTime_1974_76 = ['1974-09','1974-10','1974-11','1974-12','1975-01','1975-02','1975-03','1975-04','1975-05','1975-06', '1975-07', '1975-08', '1975-09', '1975-10', '1975-11', '1975-12', '1976-01', '1976-02', '1976-03', '1976-04', '1976-05']\n",
    "\n",
    "\n",
    "# 1988/89 occured from April 1988 until June 1989\n",
    "activeLaNinaTime_1988_89 = ['1988-04','1988-05','1988-06','1988-07','1988-08','1988-09','1988-10','1988-11','1988-12','1989-01', '1989-02', '1989-03', '1989-04', '1989-05','1989-06']\n",
    "\n",
    "\n",
    "# 1998/01 occured from June 1998 until March 2001\n",
    "activeLaNinaTime_1998_01 = ['1998-06','1998-07','1998-08','1998-09','1998-10','1998-11','1998-12','1999-01', '1999-02','1999-03','1999-04','1999-05','1999-06','1999-07', '1999-08', '1999-09', '1999-10', '1999-11', '1999-12', '2000-01', '2000-02','2000-03','2000-04','2000-05','2000-06','2000-07', '2000-08', '2000-09', '2000-10', '2000-11', '2000-12', '2001-01', '2001-02', '2001-03']\n",
    "\n",
    "\n",
    "# 2010/11 occured from May 2010 until June 2011\n",
    "activeLaNinaTime_2010_11 = ['2010-05','2010-06','2010-07','2010-08', '2010-09','2010-10','2010-11','2010-12','2011-01','2011-02','2011-03','2011-04','2011-05','2011-06']\n"
   ]
  },
  {
   "cell_type": "code",
   "execution_count": 19,
   "metadata": {},
   "outputs": [],
   "source": [
    "n = 10\n",
    "\n",
    "gsim1973_74 = getTopNStationsInferred(n, activeLaNinaTime_1973_74)\n",
    "gsim1974_76 = getTopNStationsInferred(n, activeLaNinaTime_1974_76)\n",
    "gsim1988_89 = getTopNStationsInferred(n, activeLaNinaTime_1988_89)\n",
    "gsim1998_01 = getTopNStationsInferred(n, activeLaNinaTime_1998_01)\n",
    "gsim2010_11 = getTopNStationsInferred(n, activeLaNinaTime_2010_11)\n",
    "\n",
    "gsimNumsDuringAllLaNinas = [gsim1973_74, gsim1974_76, gsim1988_89, gsim1998_01, gsim2010_11 ]"
   ]
  },
  {
   "cell_type": "code",
   "execution_count": 27,
   "metadata": {},
   "outputs": [
    {
     "data": {
      "text/html": [
       "<div>\n",
       "<style scoped>\n",
       "    .dataframe tbody tr th:only-of-type {\n",
       "        vertical-align: middle;\n",
       "    }\n",
       "\n",
       "    .dataframe tbody tr th {\n",
       "        vertical-align: top;\n",
       "    }\n",
       "\n",
       "    .dataframe thead th {\n",
       "        text-align: right;\n",
       "    }\n",
       "</style>\n",
       "<table border=\"1\" class=\"dataframe\">\n",
       "  <thead>\n",
       "    <tr style=\"text-align: right;\">\n",
       "      <th></th>\n",
       "      <th>1973/74</th>\n",
       "      <th>1974/76</th>\n",
       "      <th>1988/89</th>\n",
       "      <th>1998/01</th>\n",
       "      <th>2010/11</th>\n",
       "    </tr>\n",
       "  </thead>\n",
       "  <tbody>\n",
       "    <tr>\n",
       "      <th>1973/74</th>\n",
       "      <td>0.000000</td>\n",
       "      <td>0.792325</td>\n",
       "      <td>0.875208</td>\n",
       "      <td>0.937984</td>\n",
       "      <td>0.971239</td>\n",
       "    </tr>\n",
       "    <tr>\n",
       "      <th>1974/76</th>\n",
       "      <td>0.792325</td>\n",
       "      <td>0.000000</td>\n",
       "      <td>0.883946</td>\n",
       "      <td>0.936765</td>\n",
       "      <td>0.957265</td>\n",
       "    </tr>\n",
       "    <tr>\n",
       "      <th>1988/89</th>\n",
       "      <td>0.875208</td>\n",
       "      <td>0.883946</td>\n",
       "      <td>0.000000</td>\n",
       "      <td>0.861660</td>\n",
       "      <td>0.932632</td>\n",
       "    </tr>\n",
       "    <tr>\n",
       "      <th>1998/01</th>\n",
       "      <td>0.937984</td>\n",
       "      <td>0.936765</td>\n",
       "      <td>0.861660</td>\n",
       "      <td>0.000000</td>\n",
       "      <td>0.915282</td>\n",
       "    </tr>\n",
       "    <tr>\n",
       "      <th>2010/11</th>\n",
       "      <td>0.971239</td>\n",
       "      <td>0.957265</td>\n",
       "      <td>0.932632</td>\n",
       "      <td>0.915282</td>\n",
       "      <td>0.000000</td>\n",
       "    </tr>\n",
       "  </tbody>\n",
       "</table>\n",
       "</div>"
      ],
      "text/plain": [
       "          1973/74   1974/76   1988/89   1998/01   2010/11\n",
       "1973/74  0.000000  0.792325  0.875208  0.937984  0.971239\n",
       "1974/76  0.792325  0.000000  0.883946  0.936765  0.957265\n",
       "1988/89  0.875208  0.883946  0.000000  0.861660  0.932632\n",
       "1998/01  0.937984  0.936765  0.861660  0.000000  0.915282\n",
       "2010/11  0.971239  0.957265  0.932632  0.915282  0.000000"
      ]
     },
     "execution_count": 27,
     "metadata": {},
     "output_type": "execute_result"
    }
   ],
   "source": [
    "laNinaSimilarityDf = computeSimilarityMatrix(gsimNumsDuringAllLaNinas,['1973/74', '1974/76', '1988/89', '1998/01', '2010/11'])\n",
    "laNinaSimilarityDf"
   ]
  },
  {
   "cell_type": "code",
   "execution_count": 21,
   "metadata": {
    "scrolled": false
   },
   "outputs": [
    {
     "name": "stdout",
     "output_type": "stream",
     "text": [
      "[0.79084967 0.87440382 0.93640898 0.96595745 0.88623853 0.9393512\n",
      " 0.95663957 0.86306533 0.93465347 0.91068581]\n",
      "[[0.         1.         0.79084967 2.        ]\n",
      " [2.         3.         0.86306533 2.        ]\n",
      " [4.         6.         0.93465347 3.        ]\n",
      " [5.         7.         0.96595745 5.        ]]\n"
     ]
    },
    {
     "data": {
      "image/png": "[encoded data removed]",
      "text/plain": [
       "<Figure size 432x288 with 1 Axes>"
      ]
     },
     "metadata": {
      "needs_background": "light"
     },
     "output_type": "display_data"
    },
    {
     "data": {
      "text/plain": [
       "[]"
      ]
     },
     "execution_count": 21,
     "metadata": {},
     "output_type": "execute_result"
    },
    {
     "data": {
      "image/png": "[encoded data removed]",
      "text/plain": [
       "<Figure size 576x432 with 1 Axes>"
      ]
     },
     "metadata": {
      "needs_background": "light"
     },
     "output_type": "display_data"
    }
   ],
   "source": [
    "# in this step we take the upper triangle of the distance matrix via squareform, which will be the input for our linkage function\n",
    "# this will link ElNions that are similar\n",
    "# after linking the elNinos we plot the dendrogram to get a more visual understanding of the process\n",
    "\n",
    "\n",
    "y= squareform(laNinaSimilarityDf)\n",
    "linkage = sch.linkage(y, method='complete')\n",
    "sch.dendrogram(linkage)\n",
    "plt.title('Similarity of La Niñas')\n",
    "plt.xlabel('La Niñas')\n",
    "plt.ylabel('Distance')\n",
    "plt.show()\n",
    "\n",
    "\n",
    "fig = plt.figure(figsize=(8, 6))\n",
    "y = squareform(laNinaSimilarityDf)\n",
    "linkage = sch.linkage(y, method='complete')\n",
    "sch.dendrogram(linkage, color_threshold = 0.9)\n",
    "plt.title('Similarity of La Niñas')\n",
    "plt.xlabel('La Niñas')\n",
    "plt.ylabel('Distance')\n",
    "plt.ylim((0.6, 1.05))\n",
    "plt.xticks([5,15,25,35,45],['1973/74','1974/76', '2010/11', '1988/89', '1998/01'],  fontsize=10)\n",
    "plt.plot()\n",
    "#plt.savefig(\"plots/dendrogramLNTop10.svg\")\n"
   ]
  },
  {
   "cell_type": "markdown",
   "metadata": {},
   "source": [
    "#### Cross Validation For Similarity Analysis of La Niñas"
   ]
  },
  {
   "cell_type": "code",
   "execution_count": 22,
   "metadata": {
    "scrolled": true
   },
   "outputs": [
    {
     "data": {
      "image/png": "[encoded data removed]",
      "text/plain": [
       "<Figure size 432x288 with 1 Axes>"
      ]
     },
     "metadata": {
      "needs_background": "light"
     },
     "output_type": "display_data"
    }
   ],
   "source": [
    "# Warning: This might take some time!\n",
    "\n",
    "'''\n",
    "To check the robustness of the similarity analysis we perform crossValidation on this analysis \n",
    "5 % of the samples are removed and the similarity analysis is performed to check if this impacts our results\n",
    "'''\n",
    "percentageToRemove = 0.05\n",
    "crossValidMatrixLN = np.zeros((5,5))\n",
    "dendrogramDf = pd.DataFrame(crossValidMatrixLN, columns=[0,1,2,3,4], index=[0,1,2,3,4])\n",
    "amountOfSamplesToRemove = int (percentageToRemove * ds.shape[0]) # Remove 5% of the samples\n",
    "topN = 10\n",
    "\n",
    "for i in range (100): \n",
    "    ds_sub = ds.copy()\n",
    "    drop_indices = np.random.choice(ds_sub.index, amountOfSamplesToRemove, replace=False)\n",
    "    df_subset = ds_sub.drop(drop_indices)\n",
    "    \n",
    "    \n",
    "    gsim1973_74 = getTopNStationsInferred(topN, activeLaNinaTime_1973_74, df_subset)\n",
    "    gsim1974_76 = getTopNStationsInferred(topN, activeLaNinaTime_1974_76, df_subset)\n",
    "    gsim1988_89 = getTopNStationsInferred(topN, activeLaNinaTime_1988_89, df_subset)\n",
    "    gsim1998_01 = getTopNStationsInferred(topN, activeLaNinaTime_1998_01, df_subset)\n",
    "    gsim2010_11 = getTopNStationsInferred(topN, activeLaNinaTime_2010_11, df_subset)\n",
    "\n",
    "    gsimNumsDuringAllLaNinas = [gsim1973_74, gsim1974_76, gsim1988_89, gsim1998_01, gsim2010_11 ]\n",
    "    similarityMatrixLaNina = np.zeros((5,5))\n",
    "    for index_i, laNina_i in enumerate(gsimNumsDuringAllLaNinas): \n",
    "        for index_j, laNina_j in enumerate(gsimNumsDuringAllLaNinas): \n",
    "            similarityMatrixLaNina[index_i, index_j] = jaccardDistance(laNina_i, laNina_j)\n",
    "\n",
    "    laNinaSimilarityDf = pd.DataFrame(similarityMatrixLaNina, columns=['1973/74', '1974/76', '1988/89', '1998/01', '2010/11'], index=['1973/74', '1974/76', '1988/89', '1998/01', '2010/11'])\n",
    "    \n",
    "    y = squareform(laNinaSimilarityDf)\n",
    "    linkage = sch.linkage(y, method='complete')\n",
    "    dn1 = sch.dendrogram(linkage)\n",
    "    dn2 = sch.dendrogram(linkage, color_threshold = 0.90, truncate_mode='lastp', p=3)\n",
    "    \n",
    "    index = 0\n",
    "    for group in dn2['ivl']:\n",
    "        if group == '0' or group == '1' or group == '2' or group == '3' or group == '4':\n",
    "            e1 = int (dn1['ivl'][index])\n",
    "            crossValidMatrixLN[e1][e1] += 1\n",
    "            index += 1\n",
    "        \n",
    "        elif group == '(2)':\n",
    "            e1 = int (dn1['ivl'][index]) \n",
    "            e2 = int (dn1['ivl'][index +1])\n",
    "            crossValidMatrixLN[e1][e2] += 1\n",
    "            crossValidMatrixLN[e2][e1] += 1\n",
    "            index += 2\n",
    "        elif group == '(3)':\n",
    "            e1 = int (dn1['ivl'][index]) \n",
    "            e2 = int (dn1['ivl'][index +1])\n",
    "            e3 = int (dn1['ivl'][index +2])\n",
    "            crossValidMatrixLN[e1][e2] += 1\n",
    "            crossValidMatrixLN[e1][e3] += 1\n",
    "            crossValidMatrixLN[e2][e1] += 1\n",
    "            crossValidMatrixLN[e2][e3] += 1\n",
    "            crossValidMatrixLN[e3][e1] += 1\n",
    "            crossValidMatrixLN[e3][e2] += 1\n",
    "            index += 3\n",
    "        else:\n",
    "            continue\n"
   ]
  },
  {
   "cell_type": "code",
   "execution_count": 23,
   "metadata": {
    "scrolled": true
   },
   "outputs": [
    {
     "data": {
      "text/plain": [
       "array([[  0., 100.,   0.,   0.,   0.],\n",
       "       [100.,   0.,   0.,   0.,   0.],\n",
       "       [  0.,   0.,   0., 100.,   0.],\n",
       "       [  0.,   0., 100.,   0.,   0.],\n",
       "       [  0.,   0.,   0.,   0., 100.]])"
      ]
     },
     "execution_count": 23,
     "metadata": {},
     "output_type": "execute_result"
    }
   ],
   "source": [
    "crossValidMatrixLN"
   ]
  },
  {
   "cell_type": "code",
   "execution_count": 28,
   "metadata": {
    "scrolled": true
   },
   "outputs": [
    {
     "data": {
      "text/plain": [
       "[]"
      ]
     },
     "execution_count": 28,
     "metadata": {},
     "output_type": "execute_result"
    },
    {
     "data": {
      "image/png": "[encoded data removed]",
      "text/plain": [
       "<Figure size 576x576 with 1 Axes>"
      ]
     },
     "metadata": {},
     "output_type": "display_data"
    }
   ],
   "source": [
    "# The previously computed crossValidationMatrix is now used as a adjacency matrix to plot a weighted, undirected graph. \n",
    "# This graph is generated in this cell. \n",
    "\n",
    "# Note the values are written by hand on the edges \n",
    "# As the crossvalidation process is based on random sampling this crossValidationMatrix might look different for multiple runs\n",
    "# Therefore the edge weights might differ as well and need to be adjusted manually\n",
    "\n",
    "LNs = ['1973/74', '1974/76', '1988/89', '1998/01', '2010/11']\n",
    "weights=[]\n",
    "\n",
    "plt.figure(figsize=(8,8)) \n",
    "G = nx.MultiGraph()\n",
    "G.add_nodes_from(LNs)\n",
    "for indexI, row in enumerate(crossValidMatrixLN): \n",
    "    for indexJ, value in enumerate(row):\n",
    "        weight=value/100\n",
    "        weights.append(weight)\n",
    "        G.add_edge (LNs[indexI], LNs[indexJ], weight=weight)\n",
    "\n",
    "pos = nx.circular_layout(G)  # positions for all nodes\n",
    "    \n",
    "edges = G.edges(data=True)\n",
    "elarge = [(u, v, d) for (u, v, d) in edges if d[\"weight\"] > 0.45]\n",
    "esmall = [(u, v, d) for (u, v, d) in edges if d[\"weight\"]!= 0 and d[\"weight\"] <= 0.45]\n",
    "\n",
    "#edges\n",
    "nx.draw_networkx_edges(G, pos, edgelist=esmall, width=1, alpha=0.9, edge_color=\"black\", style=\"dotted\")\n",
    "nx.draw_networkx_edges(G, pos, edgelist=elarge, width=5, alpha=0.9, edge_color=\"#3d405b\")\n",
    "nx.draw_networkx_edge_labels(G,pos,edge_labels={('1973/74','1974/76'):'100/100', ('1988/89','1998/01'):'100/100' }, font_color='#e63946')\n",
    "\n",
    "\n",
    "nx.draw_networkx_nodes(G, pos, with_labels=True, node_color = \"#86c5ea\", width=weights, node_size=3000)\n",
    "nx.draw_networkx_labels(G,pos)\n",
    "\n",
    "plt.axis(\"off\")\n",
    "plt.plot()\n",
    "#plt.savefig(\"plots/CrossValidLNFivePercentTop10.svg\")"
   ]
  },
  {
   "cell_type": "code",
   "execution_count": 25,
   "metadata": {
    "scrolled": true
   },
   "outputs": [
    {
     "name": "stdout",
     "output_type": "stream",
     "text": [
      "Number of stations affected during EN period of 1965/66: 350\n",
      "Number of stations affected during EN period of 1972/73: 180\n",
      "Number of stations affected during EN period of 1982/83: 1051\n",
      "Number of stations affected during EN period of 1997/98: 359\n",
      "Number of stations affected during EN period of 2015/16: 198\n"
     ]
    }
   ],
   "source": [
    "elNinoColumns=['1965/66', '1972/73', '1982/83', '1997/98', '2015/16']\n",
    "for index, stations in enumerate(gsimNumsDuringAllElNinos): \n",
    "    print('Number of stations affected during EN period of {0}: {1}'.format(elNinoColumns[index],len(stations)) )"
   ]
  },
  {
   "cell_type": "code",
   "execution_count": 26,
   "metadata": {
    "scrolled": true
   },
   "outputs": [
    {
     "name": "stdout",
     "output_type": "stream",
     "text": [
      "Number of stations affected during LN period of 1973/74: 317\n",
      "Number of stations affected during LN period of 1974/76: 218\n",
      "Number of stations affected during LN period of 1988/89: 359\n",
      "Number of stations affected during LN period of 1998/01: 505\n",
      "Number of stations affected during LN period of 2010/11: 148\n"
     ]
    }
   ],
   "source": [
    "laNinaColumns=['1973/74', '1974/76', '1988/89', '1998/01', '2010/11']\n",
    "for index, stations in enumerate(gsimNumsDuringAllLaNinas): \n",
    "    print('Number of stations affected during LN period of {0}: {1}'.format(laNinaColumns[index],len(stations)) )"
   ]
  }
 ],
 "metadata": {
  "kernelspec": {
   "display_name": "Python 3",
   "language": "python",
   "name": "python3"
  },
  "language_info": {
   "codemirror_mode": {
    "name": "ipython",
    "version": 3
   },
   "file_extension": ".py",
   "mimetype": "text/x-python",
   "name": "python",
   "nbconvert_exporter": "python",
   "pygments_lexer": "ipython3",
   "version": "3.7.3"
  }
 },
 "nbformat": 4,
 "nbformat_minor": 2
}
